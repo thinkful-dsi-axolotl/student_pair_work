{
  "nbformat": 4,
  "nbformat_minor": 0,
  "metadata": {
    "kernelspec": {
      "display_name": "Python 3",
      "language": "python",
      "name": "python3"
    },
    "language_info": {
      "codemirror_mode": {
        "name": "ipython",
        "version": 3
      },
      "file_extension": ".py",
      "mimetype": "text/x-python",
      "name": "python",
      "nbconvert_exporter": "python",
      "pygments_lexer": "ipython3",
      "version": "3.7.0"
    },
    "colab": {
      "name": "Copy of Copy of Day 28 Lecture 1 Assignment.ipynb",
      "provenance": [],
      "collapsed_sections": []
    }
  },
  "cells": [
    {
      "cell_type": "markdown",
      "metadata": {
        "id": "J-40ZI05Y6T6",
        "colab_type": "text"
      },
      "source": [
        "## Day 28 Lecture 1 Assignment\n",
        "\n",
        "In this assignment, we will learn about making predictions with linear models. We will use the king county housing dataset loaded below and analyze the regression from this dataset."
      ]
    },
    {
      "cell_type": "code",
      "metadata": {
        "id": "RaQgiH8LY6T7",
        "colab_type": "code",
        "colab": {}
      },
      "source": [
        "%matplotlib inline\n",
        "\n",
        "import math\n",
        "\n",
        "import matplotlib.pyplot as plt\n",
        "import numpy as np\n",
        "import pandas as pd"
      ],
      "execution_count": 0,
      "outputs": []
    },
    {
      "cell_type": "code",
      "metadata": {
        "id": "UYQUAuJQY6T9",
        "colab_type": "code",
        "colab": {}
      },
      "source": [
        "king_county = pd.read_csv('https://tf-assets-prod.s3.amazonaws.com/tf-curric/data-science/kc_house_data.csv')"
      ],
      "execution_count": 0,
      "outputs": []
    },
    {
      "cell_type": "code",
      "metadata": {
        "id": "W8CogVj9Y6T_",
        "colab_type": "code",
        "outputId": "b359a817-d828-4669-dd1a-a73011afae52",
        "colab": {
          "base_uri": "https://localhost:8080/",
          "height": 216
        }
      },
      "source": [
        "king_county.head()"
      ],
      "execution_count": 11,
      "outputs": [
        {
          "output_type": "execute_result",
          "data": {
            "text/html": [
              "<div>\n",
              "<style scoped>\n",
              "    .dataframe tbody tr th:only-of-type {\n",
              "        vertical-align: middle;\n",
              "    }\n",
              "\n",
              "    .dataframe tbody tr th {\n",
              "        vertical-align: top;\n",
              "    }\n",
              "\n",
              "    .dataframe thead th {\n",
              "        text-align: right;\n",
              "    }\n",
              "</style>\n",
              "<table border=\"1\" class=\"dataframe\">\n",
              "  <thead>\n",
              "    <tr style=\"text-align: right;\">\n",
              "      <th></th>\n",
              "      <th>id</th>\n",
              "      <th>date</th>\n",
              "      <th>price</th>\n",
              "      <th>bedrooms</th>\n",
              "      <th>bathrooms</th>\n",
              "      <th>sqft_living</th>\n",
              "      <th>sqft_lot</th>\n",
              "      <th>floors</th>\n",
              "      <th>waterfront</th>\n",
              "      <th>view</th>\n",
              "      <th>condition</th>\n",
              "      <th>grade</th>\n",
              "      <th>sqft_above</th>\n",
              "      <th>sqft_basement</th>\n",
              "      <th>yr_built</th>\n",
              "      <th>yr_renovated</th>\n",
              "      <th>zipcode</th>\n",
              "      <th>lat</th>\n",
              "      <th>long</th>\n",
              "      <th>sqft_living15</th>\n",
              "      <th>sqft_lot15</th>\n",
              "    </tr>\n",
              "  </thead>\n",
              "  <tbody>\n",
              "    <tr>\n",
              "      <th>0</th>\n",
              "      <td>7129300520</td>\n",
              "      <td>20141013T000000</td>\n",
              "      <td>221900.0</td>\n",
              "      <td>3</td>\n",
              "      <td>1.00</td>\n",
              "      <td>1180</td>\n",
              "      <td>5650</td>\n",
              "      <td>1.0</td>\n",
              "      <td>0</td>\n",
              "      <td>0</td>\n",
              "      <td>3</td>\n",
              "      <td>7</td>\n",
              "      <td>1180</td>\n",
              "      <td>0</td>\n",
              "      <td>1955</td>\n",
              "      <td>0</td>\n",
              "      <td>98178</td>\n",
              "      <td>47.5112</td>\n",
              "      <td>-122.257</td>\n",
              "      <td>1340</td>\n",
              "      <td>5650</td>\n",
              "    </tr>\n",
              "    <tr>\n",
              "      <th>1</th>\n",
              "      <td>6414100192</td>\n",
              "      <td>20141209T000000</td>\n",
              "      <td>538000.0</td>\n",
              "      <td>3</td>\n",
              "      <td>2.25</td>\n",
              "      <td>2570</td>\n",
              "      <td>7242</td>\n",
              "      <td>2.0</td>\n",
              "      <td>0</td>\n",
              "      <td>0</td>\n",
              "      <td>3</td>\n",
              "      <td>7</td>\n",
              "      <td>2170</td>\n",
              "      <td>400</td>\n",
              "      <td>1951</td>\n",
              "      <td>1991</td>\n",
              "      <td>98125</td>\n",
              "      <td>47.7210</td>\n",
              "      <td>-122.319</td>\n",
              "      <td>1690</td>\n",
              "      <td>7639</td>\n",
              "    </tr>\n",
              "    <tr>\n",
              "      <th>2</th>\n",
              "      <td>5631500400</td>\n",
              "      <td>20150225T000000</td>\n",
              "      <td>180000.0</td>\n",
              "      <td>2</td>\n",
              "      <td>1.00</td>\n",
              "      <td>770</td>\n",
              "      <td>10000</td>\n",
              "      <td>1.0</td>\n",
              "      <td>0</td>\n",
              "      <td>0</td>\n",
              "      <td>3</td>\n",
              "      <td>6</td>\n",
              "      <td>770</td>\n",
              "      <td>0</td>\n",
              "      <td>1933</td>\n",
              "      <td>0</td>\n",
              "      <td>98028</td>\n",
              "      <td>47.7379</td>\n",
              "      <td>-122.233</td>\n",
              "      <td>2720</td>\n",
              "      <td>8062</td>\n",
              "    </tr>\n",
              "    <tr>\n",
              "      <th>3</th>\n",
              "      <td>2487200875</td>\n",
              "      <td>20141209T000000</td>\n",
              "      <td>604000.0</td>\n",
              "      <td>4</td>\n",
              "      <td>3.00</td>\n",
              "      <td>1960</td>\n",
              "      <td>5000</td>\n",
              "      <td>1.0</td>\n",
              "      <td>0</td>\n",
              "      <td>0</td>\n",
              "      <td>5</td>\n",
              "      <td>7</td>\n",
              "      <td>1050</td>\n",
              "      <td>910</td>\n",
              "      <td>1965</td>\n",
              "      <td>0</td>\n",
              "      <td>98136</td>\n",
              "      <td>47.5208</td>\n",
              "      <td>-122.393</td>\n",
              "      <td>1360</td>\n",
              "      <td>5000</td>\n",
              "    </tr>\n",
              "    <tr>\n",
              "      <th>4</th>\n",
              "      <td>1954400510</td>\n",
              "      <td>20150218T000000</td>\n",
              "      <td>510000.0</td>\n",
              "      <td>3</td>\n",
              "      <td>2.00</td>\n",
              "      <td>1680</td>\n",
              "      <td>8080</td>\n",
              "      <td>1.0</td>\n",
              "      <td>0</td>\n",
              "      <td>0</td>\n",
              "      <td>3</td>\n",
              "      <td>8</td>\n",
              "      <td>1680</td>\n",
              "      <td>0</td>\n",
              "      <td>1987</td>\n",
              "      <td>0</td>\n",
              "      <td>98074</td>\n",
              "      <td>47.6168</td>\n",
              "      <td>-122.045</td>\n",
              "      <td>1800</td>\n",
              "      <td>7503</td>\n",
              "    </tr>\n",
              "  </tbody>\n",
              "</table>\n",
              "</div>"
            ],
            "text/plain": [
              "           id             date     price  ...     long  sqft_living15  sqft_lot15\n",
              "0  7129300520  20141013T000000  221900.0  ... -122.257           1340        5650\n",
              "1  6414100192  20141209T000000  538000.0  ... -122.319           1690        7639\n",
              "2  5631500400  20150225T000000  180000.0  ... -122.233           2720        8062\n",
              "3  2487200875  20141209T000000  604000.0  ... -122.393           1360        5000\n",
              "4  1954400510  20150218T000000  510000.0  ... -122.045           1800        7503\n",
              "\n",
              "[5 rows x 21 columns]"
            ]
          },
          "metadata": {
            "tags": []
          },
          "execution_count": 11
        }
      ]
    },
    {
      "cell_type": "markdown",
      "metadata": {
        "id": "KsvisZDRY6UC",
        "colab_type": "text"
      },
      "source": [
        "We'll start by adding a column of the log of total sqare feet. This transformation will help us with model assumptions."
      ]
    },
    {
      "cell_type": "code",
      "metadata": {
        "id": "E7-FvWFBY6UC",
        "colab_type": "code",
        "colab": {}
      },
      "source": [
        "# answer below:\n",
        "king_county['log_sqr_feet']= np.log(king_county['sqft_living'])"
      ],
      "execution_count": 0,
      "outputs": []
    },
    {
      "cell_type": "markdown",
      "metadata": {
        "id": "NYvuBk-zY6UE",
        "colab_type": "text"
      },
      "source": [
        "Filter out columns and keeping only: price, bedrooms, bathrooms, sqft_living, floors, waterfront"
      ]
    },
    {
      "cell_type": "code",
      "metadata": {
        "id": "_xS9QRwRY6UE",
        "colab_type": "code",
        "colab": {}
      },
      "source": [
        "# answer below:\n",
        "king_county_flt = king_county[['price', 'bedrooms', 'bathrooms', 'sqft_living', 'floors', 'waterfront','log_sqr_feet']]\n"
      ],
      "execution_count": 0,
      "outputs": []
    },
    {
      "cell_type": "markdown",
      "metadata": {
        "id": "JTSTq9RSY6UG",
        "colab_type": "text"
      },
      "source": [
        "Next, we'll check for missing values and remove rows containing missing values. We will also make sure that all our data is numeric and convert the columns that are of object type to numeric. Make sure to remove any rows with missing data resulting from the conversion to numeric."
      ]
    },
    {
      "cell_type": "code",
      "metadata": {
        "id": "Uc4yv3IbY6UH",
        "colab_type": "code",
        "colab": {
          "base_uri": "https://localhost:8080/",
          "height": 33
        },
        "outputId": "51aed463-a9ba-485b-d0d7-d2687a903025"
      },
      "source": [
        "# answer below:\n",
        "king_county_flt.isna().sum()\n",
        "king_county.isna().sum().sum()"
      ],
      "execution_count": 14,
      "outputs": [
        {
          "output_type": "execute_result",
          "data": {
            "text/plain": [
              "0"
            ]
          },
          "metadata": {
            "tags": []
          },
          "execution_count": 14
        }
      ]
    },
    {
      "cell_type": "markdown",
      "metadata": {
        "id": "JAYct7xmY6UI",
        "colab_type": "text"
      },
      "source": [
        "Split the data into test and train subsets. Use 20% of the data for the test subset. Use price as the dependent variable."
      ]
    },
    {
      "cell_type": "code",
      "metadata": {
        "id": "2lUT638ugDzv",
        "colab_type": "code",
        "colab": {}
      },
      "source": [
        "from sklearn.metrics import mean_absolute_error\n",
        "import statsmodels.api as sm\n",
        "from statsmodels.tools.eval_measures import mse, rmse"
      ],
      "execution_count": 0,
      "outputs": []
    },
    {
      "cell_type": "code",
      "metadata": {
        "id": "iv81Fy-wY6UJ",
        "colab_type": "code",
        "colab": {
          "base_uri": "https://localhost:8080/",
          "height": 70
        },
        "outputId": "b8318e15-a513-4dd9-88e0-250c71c4de74"
      },
      "source": [
        "# answer below:\n",
        "from sklearn.model_selection import train_test_split\n",
        "X= king_county_flt.drop('price', axis=1)\n",
        "y = king_county_flt['price']\n",
        "X=sm.add_constant(X)\n",
        "X_train, X_test, y_train, y_test = train_test_split(X,y, test_size=0.2)\n"
      ],
      "execution_count": 33,
      "outputs": [
        {
          "output_type": "stream",
          "text": [
            "/usr/local/lib/python3.6/dist-packages/numpy/core/fromnumeric.py:2495: FutureWarning: Method .ptp is deprecated and will be removed in a future version. Use numpy.ptp instead.\n",
            "  return ptp(axis=axis, out=out, **kwargs)\n"
          ],
          "name": "stderr"
        }
      ]
    },
    {
      "cell_type": "code",
      "metadata": {
        "id": "JVwZoYbIgJXi",
        "colab_type": "code",
        "colab": {
          "base_uri": "https://localhost:8080/",
          "height": 550
        },
        "outputId": "0ad892e1-6c09-4b5e-d679-b59abd843f2b"
      },
      "source": [
        "model_price = sm.OLS(y_train, X_train)\n",
        "results = model_price.fit()\n",
        "results.summary()"
      ],
      "execution_count": 34,
      "outputs": [
        {
          "output_type": "execute_result",
          "data": {
            "text/html": [
              "<table class=\"simpletable\">\n",
              "<caption>OLS Regression Results</caption>\n",
              "<tr>\n",
              "  <th>Dep. Variable:</th>          <td>price</td>      <th>  R-squared:         </th>  <td>   0.571</td>  \n",
              "</tr>\n",
              "<tr>\n",
              "  <th>Model:</th>                   <td>OLS</td>       <th>  Adj. R-squared:    </th>  <td>   0.571</td>  \n",
              "</tr>\n",
              "<tr>\n",
              "  <th>Method:</th>             <td>Least Squares</td>  <th>  F-statistic:       </th>  <td>   3829.</td>  \n",
              "</tr>\n",
              "<tr>\n",
              "  <th>Date:</th>             <td>Wed, 06 Nov 2019</td> <th>  Prob (F-statistic):</th>   <td>  0.00</td>   \n",
              "</tr>\n",
              "<tr>\n",
              "  <th>Time:</th>                 <td>16:36:57</td>     <th>  Log-Likelihood:    </th> <td>-2.3876e+05</td>\n",
              "</tr>\n",
              "<tr>\n",
              "  <th>No. Observations:</th>      <td> 17290</td>      <th>  AIC:               </th>  <td>4.775e+05</td> \n",
              "</tr>\n",
              "<tr>\n",
              "  <th>Df Residuals:</th>          <td> 17283</td>      <th>  BIC:               </th>  <td>4.776e+05</td> \n",
              "</tr>\n",
              "<tr>\n",
              "  <th>Df Model:</th>              <td>     6</td>      <th>                     </th>      <td> </td>     \n",
              "</tr>\n",
              "<tr>\n",
              "  <th>Covariance Type:</th>      <td>nonrobust</td>    <th>                     </th>      <td> </td>     \n",
              "</tr>\n",
              "</table>\n",
              "<table class=\"simpletable\">\n",
              "<tr>\n",
              "        <td></td>          <th>coef</th>     <th>std err</th>      <th>t</th>      <th>P>|t|</th>  <th>[0.025</th>    <th>0.975]</th>  \n",
              "</tr>\n",
              "<tr>\n",
              "  <th>const</th>        <td> 3.317e+06</td> <td> 9.92e+04</td> <td>   33.434</td> <td> 0.000</td> <td> 3.12e+06</td> <td> 3.51e+06</td>\n",
              "</tr>\n",
              "<tr>\n",
              "  <th>bedrooms</th>     <td>-2.782e+04</td> <td> 2536.304</td> <td>  -10.968</td> <td> 0.000</td> <td>-3.28e+04</td> <td>-2.28e+04</td>\n",
              "</tr>\n",
              "<tr>\n",
              "  <th>bathrooms</th>    <td> 2.745e+04</td> <td> 4045.925</td> <td>    6.784</td> <td> 0.000</td> <td> 1.95e+04</td> <td> 3.54e+04</td>\n",
              "</tr>\n",
              "<tr>\n",
              "  <th>sqft_living</th>  <td>  490.1553</td> <td>    6.758</td> <td>   72.528</td> <td> 0.000</td> <td>  476.909</td> <td>  503.402</td>\n",
              "</tr>\n",
              "<tr>\n",
              "  <th>floors</th>       <td> 1.227e+04</td> <td> 3953.008</td> <td>    3.103</td> <td> 0.002</td> <td> 4518.162</td> <td>    2e+04</td>\n",
              "</tr>\n",
              "<tr>\n",
              "  <th>waterfront</th>   <td> 7.791e+05</td> <td> 2.08e+04</td> <td>   37.395</td> <td> 0.000</td> <td> 7.38e+05</td> <td>  8.2e+05</td>\n",
              "</tr>\n",
              "<tr>\n",
              "  <th>log_sqr_feet</th> <td>-5.013e+05</td> <td> 1.52e+04</td> <td>  -32.913</td> <td> 0.000</td> <td>-5.31e+05</td> <td>-4.71e+05</td>\n",
              "</tr>\n",
              "</table>\n",
              "<table class=\"simpletable\">\n",
              "<tr>\n",
              "  <th>Omnibus:</th>       <td>7966.636</td> <th>  Durbin-Watson:     </th>  <td>   1.989</td> \n",
              "</tr>\n",
              "<tr>\n",
              "  <th>Prob(Omnibus):</th>  <td> 0.000</td>  <th>  Jarque-Bera (JB):  </th> <td>164639.177</td>\n",
              "</tr>\n",
              "<tr>\n",
              "  <th>Skew:</th>           <td> 1.725</td>  <th>  Prob(JB):          </th>  <td>    0.00</td> \n",
              "</tr>\n",
              "<tr>\n",
              "  <th>Kurtosis:</th>       <td>17.718</td>  <th>  Cond. No.          </th>  <td>1.25e+05</td> \n",
              "</tr>\n",
              "</table><br/><br/>Warnings:<br/>[1] Standard Errors assume that the covariance matrix of the errors is correctly specified.<br/>[2] The condition number is large, 1.25e+05. This might indicate that there are<br/>strong multicollinearity or other numerical problems."
            ],
            "text/plain": [
              "<class 'statsmodels.iolib.summary.Summary'>\n",
              "\"\"\"\n",
              "                            OLS Regression Results                            \n",
              "==============================================================================\n",
              "Dep. Variable:                  price   R-squared:                       0.571\n",
              "Model:                            OLS   Adj. R-squared:                  0.571\n",
              "Method:                 Least Squares   F-statistic:                     3829.\n",
              "Date:                Wed, 06 Nov 2019   Prob (F-statistic):               0.00\n",
              "Time:                        16:36:57   Log-Likelihood:            -2.3876e+05\n",
              "No. Observations:               17290   AIC:                         4.775e+05\n",
              "Df Residuals:                   17283   BIC:                         4.776e+05\n",
              "Df Model:                           6                                         \n",
              "Covariance Type:            nonrobust                                         \n",
              "================================================================================\n",
              "                   coef    std err          t      P>|t|      [0.025      0.975]\n",
              "--------------------------------------------------------------------------------\n",
              "const         3.317e+06   9.92e+04     33.434      0.000    3.12e+06    3.51e+06\n",
              "bedrooms     -2.782e+04   2536.304    -10.968      0.000   -3.28e+04   -2.28e+04\n",
              "bathrooms     2.745e+04   4045.925      6.784      0.000    1.95e+04    3.54e+04\n",
              "sqft_living    490.1553      6.758     72.528      0.000     476.909     503.402\n",
              "floors        1.227e+04   3953.008      3.103      0.002    4518.162       2e+04\n",
              "waterfront    7.791e+05   2.08e+04     37.395      0.000    7.38e+05     8.2e+05\n",
              "log_sqr_feet -5.013e+05   1.52e+04    -32.913      0.000   -5.31e+05   -4.71e+05\n",
              "==============================================================================\n",
              "Omnibus:                     7966.636   Durbin-Watson:                   1.989\n",
              "Prob(Omnibus):                  0.000   Jarque-Bera (JB):           164639.177\n",
              "Skew:                           1.725   Prob(JB):                         0.00\n",
              "Kurtosis:                      17.718   Cond. No.                     1.25e+05\n",
              "==============================================================================\n",
              "\n",
              "Warnings:\n",
              "[1] Standard Errors assume that the covariance matrix of the errors is correctly specified.\n",
              "[2] The condition number is large, 1.25e+05. This might indicate that there are\n",
              "strong multicollinearity or other numerical problems.\n",
              "\"\"\""
            ]
          },
          "metadata": {
            "tags": []
          },
          "execution_count": 34
        }
      ]
    },
    {
      "cell_type": "code",
      "metadata": {
        "id": "f9XkSEgAgrks",
        "colab_type": "code",
        "colab": {}
      },
      "source": [
        "predict = results.predict(X_test)\n",
        "error = y_test - predict"
      ],
      "execution_count": 0,
      "outputs": []
    },
    {
      "cell_type": "markdown",
      "metadata": {
        "id": "mDCT9Z6DY6UK",
        "colab_type": "text"
      },
      "source": [
        "Check the model assumptions: homoscedacity, normal errors, and multicollinearity"
      ]
    },
    {
      "cell_type": "code",
      "metadata": {
        "id": "p0mF0IskY6UL",
        "colab_type": "code",
        "colab": {
          "base_uri": "https://localhost:8080/",
          "height": 50
        },
        "outputId": "469bcceb-d872-4691-e4f5-9527573a6dd5"
      },
      "source": [
        "#answer below:\n",
        "from scipy.stats import bartlett\n",
        "from scipy.stats import levene\n",
        "\n",
        "bart_stats = bartlett(predict, error)\n",
        "lev_stats = levene(predict, error)\n",
        "\n",
        "print(\"Bartlett test statistic value is {0:3g} and p value is {1:.3g}\".format(bart_stats[0], bart_stats[1]))\n",
        "print(\"Levene test statistic value is {0:3g} and p value is {1:.3g}\".format(lev_stats[0], lev_stats[1]))\n"
      ],
      "execution_count": 24,
      "outputs": [
        {
          "output_type": "stream",
          "text": [
            "Bartlett test statistic value is 112.007 and p value is 3.56e-26\n",
            "Levene test statistic value is 10.7426 and p value is 0.00105\n"
          ],
          "name": "stdout"
        }
      ]
    },
    {
      "cell_type": "code",
      "metadata": {
        "id": "ghinLJ9_iMT4",
        "colab_type": "code",
        "colab": {}
      },
      "source": [
        "from statsmodels.stats.outliers_influence import variance_inflation_factor\n",
        "from statsmodels.tools.tools import add_constant"
      ],
      "execution_count": 0,
      "outputs": []
    },
    {
      "cell_type": "code",
      "metadata": {
        "id": "ltr_G27ditg5",
        "colab_type": "code",
        "colab": {
          "base_uri": "https://localhost:8080/",
          "height": 150
        },
        "outputId": "7cbac54e-de2c-4114-c4f6-5d9bd3ab56b1"
      },
      "source": [
        "pd.Series ([variance_inflation_factor(X.values,i ) for i in range(X.shape[1])], index = X.columns)"
      ],
      "execution_count": 26,
      "outputs": [
        {
          "output_type": "execute_result",
          "data": {
            "text/plain": [
              "const           2979.227027\n",
              "bedrooms           1.679702\n",
              "bathrooms          2.861574\n",
              "sqft_living       11.645606\n",
              "floors             1.356422\n",
              "waterfront         1.019909\n",
              "log_sqr_feet      12.680281\n",
              "dtype: float64"
            ]
          },
          "metadata": {
            "tags": []
          },
          "execution_count": 26
        }
      ]
    },
    {
      "cell_type": "markdown",
      "metadata": {
        "id": "eEk4NQasY6UM",
        "colab_type": "text"
      },
      "source": [
        "There are two model assumptions that fail. One way to fix them is to apply a log transformation to price. Create a new train test split where y is the natural log of price and retest the model assumptions."
      ]
    },
    {
      "cell_type": "code",
      "metadata": {
        "id": "r-ciqHf0Y6UN",
        "colab_type": "code",
        "colab": {
          "base_uri": "https://localhost:8080/",
          "height": 70
        },
        "outputId": "cad775b5-d52a-4ceb-ee25-abbac31ee10e"
      },
      "source": [
        "# answer below\n",
        "X=sm.add_constant(X)\n",
        "X_train, X_test, y_train, y_test = train_test_split(X,np.log(y), test_size=0.2)\n"
      ],
      "execution_count": 36,
      "outputs": [
        {
          "output_type": "stream",
          "text": [
            "/usr/local/lib/python3.6/dist-packages/numpy/core/fromnumeric.py:2495: FutureWarning: Method .ptp is deprecated and will be removed in a future version. Use numpy.ptp instead.\n",
            "  return ptp(axis=axis, out=out, **kwargs)\n"
          ],
          "name": "stderr"
        }
      ]
    },
    {
      "cell_type": "code",
      "metadata": {
        "id": "ExUHvYJIjxxG",
        "colab_type": "code",
        "colab": {
          "base_uri": "https://localhost:8080/",
          "height": 550
        },
        "outputId": "45cd91aa-cec8-489e-a227-9aaf7c513aa8"
      },
      "source": [
        "model_price = sm.OLS(y_train, X_train)\n",
        "results = model_price.fit()\n",
        "results.summary()"
      ],
      "execution_count": 37,
      "outputs": [
        {
          "output_type": "execute_result",
          "data": {
            "text/html": [
              "<table class=\"simpletable\">\n",
              "<caption>OLS Regression Results</caption>\n",
              "<tr>\n",
              "  <th>Dep. Variable:</th>          <td>price</td>      <th>  R-squared:         </th> <td>   0.509</td> \n",
              "</tr>\n",
              "<tr>\n",
              "  <th>Model:</th>                   <td>OLS</td>       <th>  Adj. R-squared:    </th> <td>   0.509</td> \n",
              "</tr>\n",
              "<tr>\n",
              "  <th>Method:</th>             <td>Least Squares</td>  <th>  F-statistic:       </th> <td>   2985.</td> \n",
              "</tr>\n",
              "<tr>\n",
              "  <th>Date:</th>             <td>Wed, 06 Nov 2019</td> <th>  Prob (F-statistic):</th>  <td>  0.00</td>  \n",
              "</tr>\n",
              "<tr>\n",
              "  <th>Time:</th>                 <td>16:37:37</td>     <th>  Log-Likelihood:    </th> <td> -7282.8</td> \n",
              "</tr>\n",
              "<tr>\n",
              "  <th>No. Observations:</th>      <td> 17290</td>      <th>  AIC:               </th> <td>1.458e+04</td>\n",
              "</tr>\n",
              "<tr>\n",
              "  <th>Df Residuals:</th>          <td> 17283</td>      <th>  BIC:               </th> <td>1.463e+04</td>\n",
              "</tr>\n",
              "<tr>\n",
              "  <th>Df Model:</th>              <td>     6</td>      <th>                     </th>     <td> </td>    \n",
              "</tr>\n",
              "<tr>\n",
              "  <th>Covariance Type:</th>      <td>nonrobust</td>    <th>                     </th>     <td> </td>    \n",
              "</tr>\n",
              "</table>\n",
              "<table class=\"simpletable\">\n",
              "<tr>\n",
              "        <td></td>          <th>coef</th>     <th>std err</th>      <th>t</th>      <th>P>|t|</th>  <th>[0.025</th>    <th>0.975]</th>  \n",
              "</tr>\n",
              "<tr>\n",
              "  <th>const</th>        <td>   10.7606</td> <td>    0.154</td> <td>   69.848</td> <td> 0.000</td> <td>   10.459</td> <td>   11.063</td>\n",
              "</tr>\n",
              "<tr>\n",
              "  <th>bedrooms</th>     <td>   -0.0610</td> <td>    0.004</td> <td>  -14.958</td> <td> 0.000</td> <td>   -0.069</td> <td>   -0.053</td>\n",
              "</tr>\n",
              "<tr>\n",
              "  <th>bathrooms</th>    <td>    0.0230</td> <td>    0.006</td> <td>    3.751</td> <td> 0.000</td> <td>    0.011</td> <td>    0.035</td>\n",
              "</tr>\n",
              "<tr>\n",
              "  <th>sqft_living</th>  <td>    0.0003</td> <td> 1.05e-05</td> <td>   28.781</td> <td> 0.000</td> <td>    0.000</td> <td>    0.000</td>\n",
              "</tr>\n",
              "<tr>\n",
              "  <th>floors</th>       <td>    0.0532</td> <td>    0.006</td> <td>    8.811</td> <td> 0.000</td> <td>    0.041</td> <td>    0.065</td>\n",
              "</tr>\n",
              "<tr>\n",
              "  <th>waterfront</th>   <td>    0.6272</td> <td>    0.034</td> <td>   18.670</td> <td> 0.000</td> <td>    0.561</td> <td>    0.693</td>\n",
              "</tr>\n",
              "<tr>\n",
              "  <th>log_sqr_feet</th> <td>    0.2289</td> <td>    0.024</td> <td>    9.674</td> <td> 0.000</td> <td>    0.183</td> <td>    0.275</td>\n",
              "</tr>\n",
              "</table>\n",
              "<table class=\"simpletable\">\n",
              "<tr>\n",
              "  <th>Omnibus:</th>       <td>56.863</td> <th>  Durbin-Watson:     </th> <td>   1.990</td>\n",
              "</tr>\n",
              "<tr>\n",
              "  <th>Prob(Omnibus):</th> <td> 0.000</td> <th>  Jarque-Bera (JB):  </th> <td>  47.052</td>\n",
              "</tr>\n",
              "<tr>\n",
              "  <th>Skew:</th>          <td> 0.060</td> <th>  Prob(JB):          </th> <td>6.06e-11</td>\n",
              "</tr>\n",
              "<tr>\n",
              "  <th>Kurtosis:</th>      <td> 2.774</td> <th>  Cond. No.          </th> <td>1.27e+05</td>\n",
              "</tr>\n",
              "</table><br/><br/>Warnings:<br/>[1] Standard Errors assume that the covariance matrix of the errors is correctly specified.<br/>[2] The condition number is large, 1.27e+05. This might indicate that there are<br/>strong multicollinearity or other numerical problems."
            ],
            "text/plain": [
              "<class 'statsmodels.iolib.summary.Summary'>\n",
              "\"\"\"\n",
              "                            OLS Regression Results                            \n",
              "==============================================================================\n",
              "Dep. Variable:                  price   R-squared:                       0.509\n",
              "Model:                            OLS   Adj. R-squared:                  0.509\n",
              "Method:                 Least Squares   F-statistic:                     2985.\n",
              "Date:                Wed, 06 Nov 2019   Prob (F-statistic):               0.00\n",
              "Time:                        16:37:37   Log-Likelihood:                -7282.8\n",
              "No. Observations:               17290   AIC:                         1.458e+04\n",
              "Df Residuals:                   17283   BIC:                         1.463e+04\n",
              "Df Model:                           6                                         \n",
              "Covariance Type:            nonrobust                                         \n",
              "================================================================================\n",
              "                   coef    std err          t      P>|t|      [0.025      0.975]\n",
              "--------------------------------------------------------------------------------\n",
              "const           10.7606      0.154     69.848      0.000      10.459      11.063\n",
              "bedrooms        -0.0610      0.004    -14.958      0.000      -0.069      -0.053\n",
              "bathrooms        0.0230      0.006      3.751      0.000       0.011       0.035\n",
              "sqft_living      0.0003   1.05e-05     28.781      0.000       0.000       0.000\n",
              "floors           0.0532      0.006      8.811      0.000       0.041       0.065\n",
              "waterfront       0.6272      0.034     18.670      0.000       0.561       0.693\n",
              "log_sqr_feet     0.2289      0.024      9.674      0.000       0.183       0.275\n",
              "==============================================================================\n",
              "Omnibus:                       56.863   Durbin-Watson:                   1.990\n",
              "Prob(Omnibus):                  0.000   Jarque-Bera (JB):               47.052\n",
              "Skew:                           0.060   Prob(JB):                     6.06e-11\n",
              "Kurtosis:                       2.774   Cond. No.                     1.27e+05\n",
              "==============================================================================\n",
              "\n",
              "Warnings:\n",
              "[1] Standard Errors assume that the covariance matrix of the errors is correctly specified.\n",
              "[2] The condition number is large, 1.27e+05. This might indicate that there are\n",
              "strong multicollinearity or other numerical problems.\n",
              "\"\"\""
            ]
          },
          "metadata": {
            "tags": []
          },
          "execution_count": 37
        }
      ]
    },
    {
      "cell_type": "markdown",
      "metadata": {
        "id": "m6-zGzpxY6UO",
        "colab_type": "text"
      },
      "source": [
        "Create a linear model and produce a model summary"
      ]
    },
    {
      "cell_type": "code",
      "metadata": {
        "id": "YQ7mpBrkY6UP",
        "colab_type": "code",
        "colab": {
          "base_uri": "https://localhost:8080/",
          "height": 50
        },
        "outputId": "ee54a370-483a-40c9-9ab1-c3d551291ba6"
      },
      "source": [
        "# answer below\n",
        "predict = results.predict(X_test)\n",
        "error = y_test - predict\n",
        "\n",
        "bart_stats = bartlett(predict, error)\n",
        "lev_stats = levene(predict, error)\n",
        "\n",
        "print(\"Bartlett test statistic value is {0:3g} and p value is {1:.3g}\".format(bart_stats[0], bart_stats[1]))\n",
        "print(\"Levene test statistic value is {0:3g} and p value is {1:.3g}\".format(lev_stats[0], lev_stats[1]))\n"
      ],
      "execution_count": 30,
      "outputs": [
        {
          "output_type": "stream",
          "text": [
            "Bartlett test statistic value is 1.53958 and p value is 0.215\n",
            "Levene test statistic value is 13.7303 and p value is 0.000212\n"
          ],
          "name": "stdout"
        }
      ]
    },
    {
      "cell_type": "markdown",
      "metadata": {
        "id": "dtAUGNa2Y6UQ",
        "colab_type": "text"
      },
      "source": [
        "Predict the y values for the test sample using our model above.\n",
        "\n",
        "Plot the true vs. predicted values and compute the MAE, MSE, RMSE and MAPE"
      ]
    },
    {
      "cell_type": "code",
      "metadata": {
        "id": "tth6RT2dY6UR",
        "colab_type": "code",
        "colab": {}
      },
      "source": [
        "# answer below:\n",
        "from statsmodels.tools.eval_measures import mse, rmse\n",
        "from sklearn.metrics import mean_absolute_error\n",
        "\n"
      ],
      "execution_count": 0,
      "outputs": []
    },
    {
      "cell_type": "code",
      "metadata": {
        "id": "A2ODH7lyY6US",
        "colab_type": "code",
        "colab": {
          "base_uri": "https://localhost:8080/",
          "height": 416
        },
        "outputId": "3aea7247-aa89-4d40-8077-a5934d3e8bb3"
      },
      "source": [
        "X_test = sm.add_constant(X_test)\n",
        "\n",
        "# We are making predictions here\n",
        "y_preds = results.predict(X_test)\n",
        "\n",
        "plt.scatter(y_test, y_preds)\n",
        "plt.plot(y_test, y_test, color=\"red\")\n",
        "plt.xlabel(\"true values\")\n",
        "plt.ylabel(\"predicted values\")\n",
        "plt.title(\"Charges: true and predicted values\")\n",
        "plt.show()\n",
        "\n",
        "print(\"Mean absolute error of the prediction is: {}\".format(mean_absolute_error(y_test, y_preds)))\n",
        "print(\"Mean squared error of the prediction is: {}\".format(mse(y_test, y_preds)))\n",
        "print(\"Root mean squared error of the prediction is: {}\".format(rmse(y_test, y_preds)))\n",
        "print(\"Mean absolute percentage error of the prediction is: {}\".format(np.mean(np.abs((y_test - y_preds) / y_test)) * 100))\n"
      ],
      "execution_count": 38,
      "outputs": [
        {
          "output_type": "stream",
          "text": [
            "/usr/local/lib/python3.6/dist-packages/numpy/core/fromnumeric.py:2495: FutureWarning: Method .ptp is deprecated and will be removed in a future version. Use numpy.ptp instead.\n",
            "  return ptp(axis=axis, out=out, **kwargs)\n"
          ],
          "name": "stderr"
        },
        {
          "output_type": "display_data",
          "data": {
            "image/png": "[encoded data removed]",
            "text/plain": [
              "<Figure size 432x288 with 1 Axes>"
            ]
          },
          "metadata": {
            "tags": []
          }
        },
        {
          "output_type": "stream",
          "text": [
            "Mean absolute error of the prediction is: 0.3041209781951147\n",
            "Mean squared error of the prediction is: 0.14111850443924423\n",
            "Root mean squared error of the prediction is: 0.3756574296340274\n",
            "Mean absolute percentage error of the prediction is: 2.3352550953342726\n"
          ],
          "name": "stdout"
        }
      ]
    }
  ]
}