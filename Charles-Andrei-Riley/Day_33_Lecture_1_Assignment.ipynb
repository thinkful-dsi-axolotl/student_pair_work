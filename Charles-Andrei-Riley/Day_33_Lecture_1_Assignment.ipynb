{
  "nbformat": 4,
  "nbformat_minor": 0,
  "metadata": {
    "kernelspec": {
      "display_name": "Python 3",
      "language": "python",
      "name": "python3"
    },
    "language_info": {
      "codemirror_mode": {
        "name": "ipython",
        "version": 3
      },
      "file_extension": ".py",
      "mimetype": "text/x-python",
      "name": "python",
      "nbconvert_exporter": "python",
      "pygments_lexer": "ipython3",
      "version": "3.7.0"
    },
    "colab": {
      "name": "Copy of Day 33 Lecture 1 Assignment.ipynb",
      "provenance": [],
      "collapsed_sections": []
    }
  },
  "cells": [
    {
      "cell_type": "markdown",
      "metadata": {
        "id": "N-dUAbfgpuRb",
        "colab_type": "text"
      },
      "source": [
        "## Day 33 Lecture 1 Assignment\n",
        "\n",
        "In this assignment, we will learn about SVM. We will use the csection dataset loaded below and analyze the model generated for this dataset."
      ]
    },
    {
      "cell_type": "code",
      "metadata": {
        "id": "frNvugKHpuRd",
        "colab_type": "code",
        "colab": {}
      },
      "source": [
        "%matplotlib inline\n",
        "\n",
        "import matplotlib.pyplot as plt\n",
        "import numpy as np\n",
        "import pandas as pd"
      ],
      "execution_count": 0,
      "outputs": []
    },
    {
      "cell_type": "code",
      "metadata": {
        "id": "B_1e4lobpuRf",
        "colab_type": "code",
        "colab": {}
      },
      "source": [
        "# Age -  ranges from 18 to 40  \n",
        "# Delivery number - ranges from 1 to 4\n",
        "# Delivery time -  {0 = timely , 1 = premature , 2 = latecomer}\n",
        "# Blood of Pressure - {0 = low , 1 = normal , 2 = high }\n",
        "# Heart Problem - {0 = apt, 1 = inept }\n",
        "\n",
        "# Target - Caesarian - {0 = No, 1 = Yes }\n",
        "\n",
        "csection = pd.read_csv('https://tf-assets-prod.s3.amazonaws.com/tf-curric/data-science/csection.csv')"
      ],
      "execution_count": 0,
      "outputs": []
    },
    {
      "cell_type": "markdown",
      "metadata": {
        "id": "XSlVp6FRpuRg",
        "colab_type": "text"
      },
      "source": [
        "Recall our c section dataset. Process the data by removing any missing values, creating the appropriate dummy variables and splitting the data into train and test (20% in the test dataset)."
      ]
    },
    {
      "cell_type": "code",
      "metadata": {
        "id": "p8LyaYcIpuRh",
        "colab_type": "code",
        "colab": {
          "base_uri": "https://localhost:8080/",
          "height": 201
        },
        "outputId": "c1ca4683-67a0-4c02-cbfe-7c3e632c0c8b"
      },
      "source": [
        "# answer below:\n",
        "csection.info()"
      ],
      "execution_count": 5,
      "outputs": [
        {
          "output_type": "stream",
          "text": [
            "<class 'pandas.core.frame.DataFrame'>\n",
            "RangeIndex: 80 entries, 0 to 79\n",
            "Data columns (total 6 columns):\n",
            "Age                80 non-null int64\n",
            "Delivery number    80 non-null int64\n",
            "Delivery time      80 non-null int64\n",
            "Blood Pressure     80 non-null int64\n",
            "Heart Problem      80 non-null int64\n",
            "Caesarian          80 non-null int64\n",
            "dtypes: int64(6)\n",
            "memory usage: 3.9 KB\n"
          ],
          "name": "stdout"
        }
      ]
    },
    {
      "cell_type": "code",
      "metadata": {
        "id": "WZmRs2e_jv31",
        "colab_type": "code",
        "colab": {}
      },
      "source": [
        "from sklearn.model_selection import train_test_split\n",
        "X=csection.drop('Caesarian', axis=1)\n",
        "Y=csection['Caesarian']"
      ],
      "execution_count": 0,
      "outputs": []
    },
    {
      "cell_type": "code",
      "metadata": {
        "id": "w6jseFr0j-HN",
        "colab_type": "code",
        "colab": {}
      },
      "source": [
        "X_train, X_test, y_train, y_test = train_test_split(X,Y, test_size=0.2)"
      ],
      "execution_count": 0,
      "outputs": []
    },
    {
      "cell_type": "markdown",
      "metadata": {
        "id": "P_h8WYktpuRj",
        "colab_type": "text"
      },
      "source": [
        "Generate an SVC model with a linear kernel. Set C=10. Check the score for both train and test. Does the model overfit?"
      ]
    },
    {
      "cell_type": "code",
      "metadata": {
        "id": "s7ZPqXMGpuRj",
        "colab_type": "code",
        "colab": {}
      },
      "source": [
        "# answer below:\n",
        "from sklearn.svm import SVC\n",
        "\n",
        "svm = SVC(kernel = 'linear', C=5)\n",
        "results =svm.fit(X_train, y_train)"
      ],
      "execution_count": 0,
      "outputs": []
    },
    {
      "cell_type": "code",
      "metadata": {
        "id": "7TR-44hppuRm",
        "colab_type": "code",
        "colab": {
          "base_uri": "https://localhost:8080/",
          "height": 33
        },
        "outputId": "0c231ebb-92b0-4367-ac95-80ee21f8bceb"
      },
      "source": [
        "results.score(X_train,y_train)"
      ],
      "execution_count": 25,
      "outputs": [
        {
          "output_type": "execute_result",
          "data": {
            "text/plain": [
              "0.75"
            ]
          },
          "metadata": {
            "tags": []
          },
          "execution_count": 25
        }
      ]
    },
    {
      "cell_type": "code",
      "metadata": {
        "id": "r0NsXMI0kzPp",
        "colab_type": "code",
        "colab": {
          "base_uri": "https://localhost:8080/",
          "height": 33
        },
        "outputId": "8a2170af-2b7d-4dcb-a90f-ecb7ffd24599"
      },
      "source": [
        "results.score(X_test,y_test)"
      ],
      "execution_count": 26,
      "outputs": [
        {
          "output_type": "execute_result",
          "data": {
            "text/plain": [
              "0.6875"
            ]
          },
          "metadata": {
            "tags": []
          },
          "execution_count": 26
        }
      ]
    },
    {
      "cell_type": "markdown",
      "metadata": {
        "id": "ahsyvz1LpuRn",
        "colab_type": "text"
      },
      "source": [
        "If you have determined the model to overfit, pick a value of C based on your conclusion and show that the difference between the scores has improved."
      ]
    },
    {
      "cell_type": "code",
      "metadata": {
        "id": "tE_-fqFcpuRo",
        "colab_type": "code",
        "colab": {
          "base_uri": "https://localhost:8080/",
          "height": 237
        },
        "outputId": "27daf9aa-aaec-4505-9d2e-dbaf9e40b90a"
      },
      "source": [
        "# answer below:\n",
        "from sklearn.model_selection import GridSearchCV\n",
        "params = {'C': np.arange(1, 15,1)}\n",
        "grid = GridSearchCV(svm, param_grid=params,  cv=3, return_train_score=True, n_jobs=-1)\n",
        "grid.fit(X_train, y_train)\n"
      ],
      "execution_count": 27,
      "outputs": [
        {
          "output_type": "stream",
          "text": [
            "/usr/local/lib/python3.6/dist-packages/sklearn/model_selection/_search.py:814: DeprecationWarning: The default of the `iid` parameter will change from True to False in version 0.22 and will be removed in 0.24. This will change numeric results when test-set sizes are unequal.\n",
            "  DeprecationWarning)\n"
          ],
          "name": "stderr"
        },
        {
          "output_type": "execute_result",
          "data": {
            "text/plain": [
              "GridSearchCV(cv=3, error_score='raise-deprecating',\n",
              "             estimator=SVC(C=5, cache_size=200, class_weight=None, coef0=0.0,\n",
              "                           decision_function_shape='ovr', degree=3,\n",
              "                           gamma='auto_deprecated', kernel='linear',\n",
              "                           max_iter=-1, probability=False, random_state=None,\n",
              "                           shrinking=True, tol=0.001, verbose=False),\n",
              "             iid='warn', n_jobs=-1,\n",
              "             param_grid={'C': array([ 1,  2,  3,  4,  5,  6,  7,  8,  9, 10, 11, 12, 13, 14])},\n",
              "             pre_dispatch='2*n_jobs', refit=True, return_train_score=True,\n",
              "             scoring=None, verbose=0)"
            ]
          },
          "metadata": {
            "tags": []
          },
          "execution_count": 27
        }
      ]
    },
    {
      "cell_type": "code",
      "metadata": {
        "id": "pDFBrtDApuRp",
        "colab_type": "code",
        "colab": {
          "base_uri": "https://localhost:8080/",
          "height": 271
        },
        "outputId": "344edcde-a68a-4955-c5c2-21ec1992aecb"
      },
      "source": [
        "cv_r = pd.DataFrame(grid.cv_results_) \n",
        "import seaborn as sns\n",
        "sns.set()\n",
        "\n",
        "plt.plot(cv_r['param_C'], cv_r['mean_train_score'], 'o-', label='Train') \n",
        "plt.plot(cv_r['param_C'], cv_r['mean_test_score'], 'o-', label='Test') \n",
        "plt.legend() \n",
        "plt.show()"
      ],
      "execution_count": 30,
      "outputs": [
        {
          "output_type": "display_data",
          "data": {
            "image/png": "[encoded data removed]",
            "text/plain": [
              "<Figure size 432x288 with 1 Axes>"
            ]
          },
          "metadata": {
            "tags": []
          }
        }
      ]
    },
    {
      "cell_type": "markdown",
      "metadata": {
        "id": "oUzyujbwpuRr",
        "colab_type": "text"
      },
      "source": [
        "What if we switched up the target variable? Let assume that we know whether a patient received a c section. Let's try to predict whether she has high blood pressure. \n",
        "\n",
        "Create the SVC model with a linear kernel with Blood Pressure as the target variable. Report both the train and the test scores."
      ]
    },
    {
      "cell_type": "code",
      "metadata": {
        "id": "lKPF7TSdpuRs",
        "colab_type": "code",
        "colab": {}
      },
      "source": [
        "# answer below:\n",
        "X=csection.drop('Blood Pressure',axis=1)\n",
        "Y=csection['Blood Pressure']"
      ],
      "execution_count": 0,
      "outputs": []
    },
    {
      "cell_type": "code",
      "metadata": {
        "id": "rBSLoqCSpuRt",
        "colab_type": "code",
        "colab": {
          "base_uri": "https://localhost:8080/",
          "height": 237
        },
        "outputId": "3ea0dfaa-ca96-4785-fa89-85e3e2dc3838"
      },
      "source": [
        "X_train, X_test, y_train, y_test = train_test_split(X,Y, test_size=0.2)\n",
        "params = {'C': np.arange(1, 15,1)}\n",
        "grid = GridSearchCV(svm, param_grid=params,  cv=3, return_train_score=True, n_jobs=-1)\n",
        "grid.fit(X_train, y_train)"
      ],
      "execution_count": 33,
      "outputs": [
        {
          "output_type": "stream",
          "text": [
            "/usr/local/lib/python3.6/dist-packages/sklearn/model_selection/_search.py:814: DeprecationWarning: The default of the `iid` parameter will change from True to False in version 0.22 and will be removed in 0.24. This will change numeric results when test-set sizes are unequal.\n",
            "  DeprecationWarning)\n"
          ],
          "name": "stderr"
        },
        {
          "output_type": "execute_result",
          "data": {
            "text/plain": [
              "GridSearchCV(cv=3, error_score='raise-deprecating',\n",
              "             estimator=SVC(C=5, cache_size=200, class_weight=None, coef0=0.0,\n",
              "                           decision_function_shape='ovr', degree=3,\n",
              "                           gamma='auto_deprecated', kernel='linear',\n",
              "                           max_iter=-1, probability=False, random_state=None,\n",
              "                           shrinking=True, tol=0.001, verbose=False),\n",
              "             iid='warn', n_jobs=-1,\n",
              "             param_grid={'C': array([ 1,  2,  3,  4,  5,  6,  7,  8,  9, 10, 11, 12, 13, 14])},\n",
              "             pre_dispatch='2*n_jobs', refit=True, return_train_score=True,\n",
              "             scoring=None, verbose=0)"
            ]
          },
          "metadata": {
            "tags": []
          },
          "execution_count": 33
        }
      ]
    },
    {
      "cell_type": "code",
      "metadata": {
        "id": "4TcHlSbKmgwk",
        "colab_type": "code",
        "colab": {
          "base_uri": "https://localhost:8080/",
          "height": 322
        },
        "outputId": "6aecc71e-9568-4496-b356-32bc9e5e79e1"
      },
      "source": [
        "params = {'C': np.arange(1, 15,1)}\n",
        "grid = GridSearchCV(svm, param_grid=params,  cv=10, return_train_score=True, n_jobs=-1)\n",
        "grid.fit(X_train, y_train)\n",
        "cv_r = pd.DataFrame(grid.cv_results_) \n",
        "\n",
        "\n",
        "plt.plot(cv_r['param_C'], cv_r['mean_train_score'], 'o-', label='Train') \n",
        "plt.plot(cv_r['param_C'], cv_r['mean_test_score'], 'o-', label='Test') \n",
        "plt.legend() \n",
        "plt.show()"
      ],
      "execution_count": 37,
      "outputs": [
        {
          "output_type": "stream",
          "text": [
            "/usr/local/lib/python3.6/dist-packages/sklearn/model_selection/_search.py:814: DeprecationWarning: The default of the `iid` parameter will change from True to False in version 0.22 and will be removed in 0.24. This will change numeric results when test-set sizes are unequal.\n",
            "  DeprecationWarning)\n"
          ],
          "name": "stderr"
        },
        {
          "output_type": "display_data",
          "data": {
            "image/png": "[encoded data removed]",
            "text/plain": [
              "<Figure size 432x288 with 1 Axes>"
            ]
          },
          "metadata": {
            "tags": []
          }
        }
      ]
    },
    {
      "cell_type": "markdown",
      "metadata": {
        "id": "-Gs6homepuRv",
        "colab_type": "text"
      },
      "source": [
        "Now try to generate the model using the one vs. one decision function."
      ]
    },
    {
      "cell_type": "code",
      "metadata": {
        "id": "a9BWcNAmpuRv",
        "colab_type": "code",
        "colab": {
          "base_uri": "https://localhost:8080/",
          "height": 322
        },
        "outputId": "547420d1-8422-410e-885a-013fd637e4fd"
      },
      "source": [
        "# answer below:\n",
        "params = {'C': np.arange(1, 15,1), 'decision_function_shape':['ovo'] }\n",
        "\n",
        "\n",
        "grid = GridSearchCV(svm, param_grid=params,  cv=10, return_train_score=True, n_jobs=-1)\n",
        "\n",
        "\n",
        "grid.fit(X_train, y_train)\n",
        "cv_r = pd.DataFrame(grid.cv_results_) \n",
        "\n",
        "\n",
        "plt.plot(cv_r['param_C'], cv_r['mean_train_score'], 'o-', label='Train') \n",
        "plt.plot(cv_r['param_C'], cv_r['mean_test_score'], 'o-', label='Test') \n",
        "plt.legend() \n",
        "plt.show()"
      ],
      "execution_count": 41,
      "outputs": [
        {
          "output_type": "stream",
          "text": [
            "/usr/local/lib/python3.6/dist-packages/sklearn/model_selection/_search.py:814: DeprecationWarning: The default of the `iid` parameter will change from True to False in version 0.22 and will be removed in 0.24. This will change numeric results when test-set sizes are unequal.\n",
            "  DeprecationWarning)\n"
          ],
          "name": "stderr"
        },
        {
          "output_type": "display_data",
          "data": {
            "image/png": "[encoded data removed]",
            "text/plain": [
              "<Figure size 432x288 with 1 Axes>"
            ]
          },
          "metadata": {
            "tags": []
          }
        }
      ]
    },
    {
      "cell_type": "code",
      "metadata": {
        "id": "ZlA3z02spuRx",
        "colab_type": "code",
        "colab": {}
      },
      "source": [
        ""
      ],
      "execution_count": 0,
      "outputs": []
    },
    {
      "cell_type": "code",
      "metadata": {
        "id": "aSwZbqEqpuRz",
        "colab_type": "code",
        "colab": {}
      },
      "source": [
        ""
      ],
      "execution_count": 0,
      "outputs": []
    }
  ]
}