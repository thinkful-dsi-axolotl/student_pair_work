{
 "cells": [
  {
   "cell_type": "markdown",
   "metadata": {
    "colab_type": "text",
    "id": "AKCze2_9L1NZ"
   },
   "source": [
    "### Factor Analysis Assignment Solution\n",
    "\n",
    "Jay Urbain, PhD\n",
    "\n",
    "Objectives:    \n",
    "- **Students can explain factor analysis**\n",
    "\n",
    "- **Students understand how factor analysis differs from PCA and ICA**\n",
    "\n",
    "- **Students can identify common use cases for factor analysis**\n",
    "\n",
    "- Students can apply factor analysis to an appropriate dataset (i.e. purely quantitative)\n",
    "\n",
    "- Students can explain dimensionality reduction techniques for categorical (MCA) and mixed (FAMD) data\n",
    "\n",
    "- Students can apply MCA and FAMD to appropriate datasets\n",
    "\n",
    "References:\n",
    "\n",
    "-  Dr J Maiti, IIT KharagpurMod-01, Lec-33 Factor Analysis    \n",
    "https://www.youtube.com/watch?v=n3y3xLNoPk4\n",
    "\n",
    "- Barbara Engelhardt, Factor Analysis   \n",
    "https://www.cs.princeton.edu/~bee/courses/scribe/lec_10_02_2013.pdf\n",
    "\n",
    "- Wikipedia - Factor Analysis    \n",
    "https://en.wikipedia.org/wiki/Factor_analysis   \n",
    "\n",
    "- Factor Analysis - an introduction     \n",
    "https://www.youtube.com/watch?v=WV_jcaDBZ2I\n",
    "\n",
    "- Introduction to Factor Analysis in Python   \n",
    "https://www.datacamp.com/community/tutorials/introduction-factor-analysis\n",
    "\n",
    "- Factor Analysis in Python  \n",
    "https://www.youtube.com/watch?v=ttBs_wfw_6U\n"
   ]
  },
  {
   "cell_type": "markdown",
   "metadata": {
    "colab_type": "text",
    "id": "A5R-LwYjL1Nd"
   },
   "source": [
    "### Factor Analysis\n",
    "\n",
    "Factor Analysis is a method for modeling observed variables. It is commonly used for data analysis and dimensionality reduction. The key concept of Factor Analysis is that some of variables have similar patterns because they are all related to factors (latent or unobserved variables) that cannot be directly measured. The factors typically are viewed as broad concepts or ideas that may describe an observed phenomenon.\n",
    "\n",
    "For example,\n",
    "\n",
    "- A psychologist is interested to measure a person's mental ability\n",
    "\n",
    "- A cardiologist wants to measure risk of a heart attack   \n",
    "\n",
    "- A marketing manager is interested to measure the purchase intention of customers\n",
    "\n",
    "- A psychiatrist wants to measure depression   \n",
    "\n",
    "- A supply chain analyst is interested in measuring supply chain coordination .  \n"
   ]
  },
  {
   "cell_type": "markdown",
   "metadata": {
    "colab_type": "text",
    "id": "4WlnJo0QL1Ne"
   },
   "source": [
    "### Applying factor analysis\n",
    "\n",
    "- Find the hidden factors behind observed variables: The hidden factors cannot measured directly, but can be interpretable.\n",
    "\n",
    "- Estimate the factor loadings.\n",
    "\n",
    "- Evaluate the factors we extracted."
   ]
  },
  {
   "cell_type": "markdown",
   "metadata": {
    "colab_type": "text",
    "id": "y0j6zIZ7L1Ng"
   },
   "source": [
    "#### Data\n",
    "\n",
    "The dataset we work on is called `bfi` from Psych R-package. It consists of 2800 observations on 28 variables including 25 self-report personality items and three additional demographic variables (sex, education, and age). In this project, we plan to figure out the  factors of the first 25 items in dataset.\n",
    "\n",
    "Dataset: https://rdrr.io/cran/psych/man/bfi.html"
   ]
  },
  {
   "cell_type": "code",
   "execution_count": 0,
   "metadata": {
    "colab": {},
    "colab_type": "code",
    "id": "TyIOmtI7L1Nh"
   },
   "outputs": [],
   "source": [
    "# import sys\n",
    "# sys.path\n",
    "# !ls"
   ]
  },
  {
   "cell_type": "code",
   "execution_count": 22,
   "metadata": {
    "colab": {},
    "colab_type": "code",
    "id": "bVON5eCrd_-5"
   },
   "outputs": [
    {
     "name": "stdout",
     "output_type": "stream",
     "text": [
      "Requirement already satisfied: factor_analyzer in /Users/farooq/anaconda3/lib/python3.7/site-packages (0.3.2)\n",
      "Requirement already satisfied: scikit-learn in /Users/farooq/anaconda3/lib/python3.7/site-packages (from factor_analyzer) (0.21.3)\n",
      "Requirement already satisfied: numpy in /Users/farooq/anaconda3/lib/python3.7/site-packages (from factor_analyzer) (1.16.4)\n",
      "Requirement already satisfied: scipy in /Users/farooq/anaconda3/lib/python3.7/site-packages (from factor_analyzer) (1.3.1)\n",
      "Requirement already satisfied: pandas in /Users/farooq/anaconda3/lib/python3.7/site-packages (from factor_analyzer) (0.25.2)\n",
      "Requirement already satisfied: joblib>=0.11 in /Users/farooq/anaconda3/lib/python3.7/site-packages (from scikit-learn->factor_analyzer) (0.13.2)\n",
      "Requirement already satisfied: pytz>=2017.2 in /Users/farooq/anaconda3/lib/python3.7/site-packages (from pandas->factor_analyzer) (2019.1)\n",
      "Requirement already satisfied: python-dateutil>=2.6.1 in /Users/farooq/anaconda3/lib/python3.7/site-packages (from pandas->factor_analyzer) (2.8.0)\n",
      "Requirement already satisfied: six>=1.5 in /Users/farooq/anaconda3/lib/python3.7/site-packages (from python-dateutil>=2.6.1->pandas->factor_analyzer) (1.12.0)\n",
      "Note: you may need to restart the kernel to use updated packages.\n"
     ]
    }
   ],
   "source": [
    "pip install factor_analyzer "
   ]
  },
  {
   "cell_type": "code",
   "execution_count": 23,
   "metadata": {
    "colab": {},
    "colab_type": "code",
    "id": "aYAOAwlpL1Nm"
   },
   "outputs": [],
   "source": [
    "# Import required libraries\n",
    "import pandas as pd\n",
    "from sklearn.datasets import load_iris\n",
    "from factor_analyzer import FactorAnalyzer\n",
    "import matplotlib.pyplot as plt"
   ]
  },
  {
   "cell_type": "code",
   "execution_count": 24,
   "metadata": {
    "colab": {},
    "colab_type": "code",
    "id": "SKcsMapDL1Np"
   },
   "outputs": [],
   "source": [
    "df= pd.read_csv(\"https://tf-assets-prod.s3.amazonaws.com/tf-curric/data-science/bfi.csv\")"
   ]
  },
  {
   "cell_type": "code",
   "execution_count": 25,
   "metadata": {
    "colab": {
     "base_uri": "https://localhost:8080/",
     "height": 241
    },
    "colab_type": "code",
    "id": "w7QdiqJhL1Ns",
    "outputId": "f1200de6-ad1a-4678-8612-5904cf77ef77"
   },
   "outputs": [
    {
     "data": {
      "text/html": [
       "<div>\n",
       "<style scoped>\n",
       "    .dataframe tbody tr th:only-of-type {\n",
       "        vertical-align: middle;\n",
       "    }\n",
       "\n",
       "    .dataframe tbody tr th {\n",
       "        vertical-align: top;\n",
       "    }\n",
       "\n",
       "    .dataframe thead th {\n",
       "        text-align: right;\n",
       "    }\n",
       "</style>\n",
       "<table border=\"1\" class=\"dataframe\">\n",
       "  <thead>\n",
       "    <tr style=\"text-align: right;\">\n",
       "      <th></th>\n",
       "      <th>Unnamed: 0</th>\n",
       "      <th>A1</th>\n",
       "      <th>A2</th>\n",
       "      <th>A3</th>\n",
       "      <th>A4</th>\n",
       "      <th>A5</th>\n",
       "      <th>C1</th>\n",
       "      <th>C2</th>\n",
       "      <th>C3</th>\n",
       "      <th>C4</th>\n",
       "      <th>...</th>\n",
       "      <th>N4</th>\n",
       "      <th>N5</th>\n",
       "      <th>O1</th>\n",
       "      <th>O2</th>\n",
       "      <th>O3</th>\n",
       "      <th>O4</th>\n",
       "      <th>O5</th>\n",
       "      <th>gender</th>\n",
       "      <th>education</th>\n",
       "      <th>age</th>\n",
       "    </tr>\n",
       "  </thead>\n",
       "  <tbody>\n",
       "    <tr>\n",
       "      <th>0</th>\n",
       "      <td>61617</td>\n",
       "      <td>2.0</td>\n",
       "      <td>4.0</td>\n",
       "      <td>3.0</td>\n",
       "      <td>4.0</td>\n",
       "      <td>4.0</td>\n",
       "      <td>2.0</td>\n",
       "      <td>3.0</td>\n",
       "      <td>3.0</td>\n",
       "      <td>4.0</td>\n",
       "      <td>...</td>\n",
       "      <td>2.0</td>\n",
       "      <td>3.0</td>\n",
       "      <td>3.0</td>\n",
       "      <td>6</td>\n",
       "      <td>3.0</td>\n",
       "      <td>4.0</td>\n",
       "      <td>3.0</td>\n",
       "      <td>1</td>\n",
       "      <td>NaN</td>\n",
       "      <td>16</td>\n",
       "    </tr>\n",
       "    <tr>\n",
       "      <th>1</th>\n",
       "      <td>61618</td>\n",
       "      <td>2.0</td>\n",
       "      <td>4.0</td>\n",
       "      <td>5.0</td>\n",
       "      <td>2.0</td>\n",
       "      <td>5.0</td>\n",
       "      <td>5.0</td>\n",
       "      <td>4.0</td>\n",
       "      <td>4.0</td>\n",
       "      <td>3.0</td>\n",
       "      <td>...</td>\n",
       "      <td>5.0</td>\n",
       "      <td>5.0</td>\n",
       "      <td>4.0</td>\n",
       "      <td>2</td>\n",
       "      <td>4.0</td>\n",
       "      <td>3.0</td>\n",
       "      <td>3.0</td>\n",
       "      <td>2</td>\n",
       "      <td>NaN</td>\n",
       "      <td>18</td>\n",
       "    </tr>\n",
       "    <tr>\n",
       "      <th>2</th>\n",
       "      <td>61620</td>\n",
       "      <td>5.0</td>\n",
       "      <td>4.0</td>\n",
       "      <td>5.0</td>\n",
       "      <td>4.0</td>\n",
       "      <td>4.0</td>\n",
       "      <td>4.0</td>\n",
       "      <td>5.0</td>\n",
       "      <td>4.0</td>\n",
       "      <td>2.0</td>\n",
       "      <td>...</td>\n",
       "      <td>2.0</td>\n",
       "      <td>3.0</td>\n",
       "      <td>4.0</td>\n",
       "      <td>2</td>\n",
       "      <td>5.0</td>\n",
       "      <td>5.0</td>\n",
       "      <td>2.0</td>\n",
       "      <td>2</td>\n",
       "      <td>NaN</td>\n",
       "      <td>17</td>\n",
       "    </tr>\n",
       "    <tr>\n",
       "      <th>3</th>\n",
       "      <td>61621</td>\n",
       "      <td>4.0</td>\n",
       "      <td>4.0</td>\n",
       "      <td>6.0</td>\n",
       "      <td>5.0</td>\n",
       "      <td>5.0</td>\n",
       "      <td>4.0</td>\n",
       "      <td>4.0</td>\n",
       "      <td>3.0</td>\n",
       "      <td>5.0</td>\n",
       "      <td>...</td>\n",
       "      <td>4.0</td>\n",
       "      <td>1.0</td>\n",
       "      <td>3.0</td>\n",
       "      <td>3</td>\n",
       "      <td>4.0</td>\n",
       "      <td>3.0</td>\n",
       "      <td>5.0</td>\n",
       "      <td>2</td>\n",
       "      <td>NaN</td>\n",
       "      <td>17</td>\n",
       "    </tr>\n",
       "    <tr>\n",
       "      <th>4</th>\n",
       "      <td>61622</td>\n",
       "      <td>2.0</td>\n",
       "      <td>3.0</td>\n",
       "      <td>3.0</td>\n",
       "      <td>4.0</td>\n",
       "      <td>5.0</td>\n",
       "      <td>4.0</td>\n",
       "      <td>4.0</td>\n",
       "      <td>5.0</td>\n",
       "      <td>3.0</td>\n",
       "      <td>...</td>\n",
       "      <td>4.0</td>\n",
       "      <td>3.0</td>\n",
       "      <td>3.0</td>\n",
       "      <td>3</td>\n",
       "      <td>4.0</td>\n",
       "      <td>3.0</td>\n",
       "      <td>3.0</td>\n",
       "      <td>1</td>\n",
       "      <td>NaN</td>\n",
       "      <td>17</td>\n",
       "    </tr>\n",
       "  </tbody>\n",
       "</table>\n",
       "<p>5 rows × 29 columns</p>\n",
       "</div>"
      ],
      "text/plain": [
       "   Unnamed: 0   A1   A2   A3   A4   A5   C1   C2   C3   C4  ...   N4   N5  \\\n",
       "0       61617  2.0  4.0  3.0  4.0  4.0  2.0  3.0  3.0  4.0  ...  2.0  3.0   \n",
       "1       61618  2.0  4.0  5.0  2.0  5.0  5.0  4.0  4.0  3.0  ...  5.0  5.0   \n",
       "2       61620  5.0  4.0  5.0  4.0  4.0  4.0  5.0  4.0  2.0  ...  2.0  3.0   \n",
       "3       61621  4.0  4.0  6.0  5.0  5.0  4.0  4.0  3.0  5.0  ...  4.0  1.0   \n",
       "4       61622  2.0  3.0  3.0  4.0  5.0  4.0  4.0  5.0  3.0  ...  4.0  3.0   \n",
       "\n",
       "    O1  O2   O3   O4   O5  gender  education  age  \n",
       "0  3.0   6  3.0  4.0  3.0       1        NaN   16  \n",
       "1  4.0   2  4.0  3.0  3.0       2        NaN   18  \n",
       "2  4.0   2  5.0  5.0  2.0       2        NaN   17  \n",
       "3  3.0   3  4.0  3.0  5.0       2        NaN   17  \n",
       "4  3.0   3  4.0  3.0  3.0       1        NaN   17  \n",
       "\n",
       "[5 rows x 29 columns]"
      ]
     },
     "execution_count": 25,
     "metadata": {},
     "output_type": "execute_result"
    }
   ],
   "source": [
    "df.head()"
   ]
  },
  {
   "cell_type": "code",
   "execution_count": 26,
   "metadata": {
    "colab": {
     "base_uri": "https://localhost:8080/",
     "height": 85
    },
    "colab_type": "code",
    "id": "XKgpFtWeL1Nv",
    "outputId": "7e79e6bb-b34c-4d2c-b800-124935fc519d"
   },
   "outputs": [
    {
     "data": {
      "text/plain": [
       "Index(['Unnamed: 0', 'A1', 'A2', 'A3', 'A4', 'A5', 'C1', 'C2', 'C3', 'C4',\n",
       "       'C5', 'E1', 'E2', 'E3', 'E4', 'E5', 'N1', 'N2', 'N3', 'N4', 'N5', 'O1',\n",
       "       'O2', 'O3', 'O4', 'O5', 'gender', 'education', 'age'],\n",
       "      dtype='object')"
      ]
     },
     "execution_count": 26,
     "metadata": {},
     "output_type": "execute_result"
    }
   ],
   "source": [
    "df.columns"
   ]
  },
  {
   "cell_type": "code",
   "execution_count": 27,
   "metadata": {
    "colab": {},
    "colab_type": "code",
    "id": "nFOp0NN5L1Ny"
   },
   "outputs": [],
   "source": [
    "df.drop(['gender', 'education', 'age'], axis=1, inplace=True)"
   ]
  },
  {
   "cell_type": "code",
   "execution_count": 28,
   "metadata": {
    "colab": {
     "base_uri": "https://localhost:8080/",
     "height": 85
    },
    "colab_type": "code",
    "id": "81brx0vWL1N1",
    "outputId": "29000850-af59-475f-fe79-081f6948ac87"
   },
   "outputs": [
    {
     "data": {
      "text/plain": [
       "Index(['Unnamed: 0', 'A1', 'A2', 'A3', 'A4', 'A5', 'C1', 'C2', 'C3', 'C4',\n",
       "       'C5', 'E1', 'E2', 'E3', 'E4', 'E5', 'N1', 'N2', 'N3', 'N4', 'N5', 'O1',\n",
       "       'O2', 'O3', 'O4', 'O5'],\n",
       "      dtype='object')"
      ]
     },
     "execution_count": 28,
     "metadata": {},
     "output_type": "execute_result"
    }
   ],
   "source": [
    "df.columns"
   ]
  },
  {
   "cell_type": "code",
   "execution_count": 29,
   "metadata": {
    "colab": {
     "base_uri": "https://localhost:8080/",
     "height": 544
    },
    "colab_type": "code",
    "id": "G46LJDSwL1N3",
    "outputId": "9477b6d4-4582-4db0-cb4e-48148b9368b9"
   },
   "outputs": [
    {
     "name": "stdout",
     "output_type": "stream",
     "text": [
      "<class 'pandas.core.frame.DataFrame'>\n",
      "RangeIndex: 2800 entries, 0 to 2799\n",
      "Data columns (total 26 columns):\n",
      "Unnamed: 0    2800 non-null int64\n",
      "A1            2784 non-null float64\n",
      "A2            2773 non-null float64\n",
      "A3            2774 non-null float64\n",
      "A4            2781 non-null float64\n",
      "A5            2784 non-null float64\n",
      "C1            2779 non-null float64\n",
      "C2            2776 non-null float64\n",
      "C3            2780 non-null float64\n",
      "C4            2774 non-null float64\n",
      "C5            2784 non-null float64\n",
      "E1            2777 non-null float64\n",
      "E2            2784 non-null float64\n",
      "E3            2775 non-null float64\n",
      "E4            2791 non-null float64\n",
      "E5            2779 non-null float64\n",
      "N1            2778 non-null float64\n",
      "N2            2779 non-null float64\n",
      "N3            2789 non-null float64\n",
      "N4            2764 non-null float64\n",
      "N5            2771 non-null float64\n",
      "O1            2778 non-null float64\n",
      "O2            2800 non-null int64\n",
      "O3            2772 non-null float64\n",
      "O4            2786 non-null float64\n",
      "O5            2780 non-null float64\n",
      "dtypes: float64(24), int64(2)\n",
      "memory usage: 568.9 KB\n"
     ]
    }
   ],
   "source": [
    "df.info()"
   ]
  },
  {
   "cell_type": "code",
   "execution_count": 30,
   "metadata": {
    "colab": {},
    "colab_type": "code",
    "id": "9aLj1_aqL1N7"
   },
   "outputs": [],
   "source": [
    "df = df.iloc[:, 1:]"
   ]
  },
  {
   "cell_type": "code",
   "execution_count": 35,
   "metadata": {
    "colab": {
     "base_uri": "https://localhost:8080/",
     "height": 204
    },
    "colab_type": "code",
    "id": "OpQVJtInL1N9",
    "outputId": "d948d4bb-e146-4cdc-b765-31e5f7b1b200"
   },
   "outputs": [
    {
     "data": {
      "text/html": [
       "<div>\n",
       "<style scoped>\n",
       "    .dataframe tbody tr th:only-of-type {\n",
       "        vertical-align: middle;\n",
       "    }\n",
       "\n",
       "    .dataframe tbody tr th {\n",
       "        vertical-align: top;\n",
       "    }\n",
       "\n",
       "    .dataframe thead th {\n",
       "        text-align: right;\n",
       "    }\n",
       "</style>\n",
       "<table border=\"1\" class=\"dataframe\">\n",
       "  <thead>\n",
       "    <tr style=\"text-align: right;\">\n",
       "      <th></th>\n",
       "      <th>A1</th>\n",
       "      <th>A2</th>\n",
       "      <th>A3</th>\n",
       "      <th>A4</th>\n",
       "      <th>A5</th>\n",
       "      <th>C1</th>\n",
       "      <th>C2</th>\n",
       "      <th>C3</th>\n",
       "      <th>C4</th>\n",
       "      <th>C5</th>\n",
       "      <th>...</th>\n",
       "      <th>N1</th>\n",
       "      <th>N2</th>\n",
       "      <th>N3</th>\n",
       "      <th>N4</th>\n",
       "      <th>N5</th>\n",
       "      <th>O1</th>\n",
       "      <th>O2</th>\n",
       "      <th>O3</th>\n",
       "      <th>O4</th>\n",
       "      <th>O5</th>\n",
       "    </tr>\n",
       "  </thead>\n",
       "  <tbody>\n",
       "    <tr>\n",
       "      <th>0</th>\n",
       "      <td>2.0</td>\n",
       "      <td>4.0</td>\n",
       "      <td>3.0</td>\n",
       "      <td>4.0</td>\n",
       "      <td>4.0</td>\n",
       "      <td>2.0</td>\n",
       "      <td>3.0</td>\n",
       "      <td>3.0</td>\n",
       "      <td>4.0</td>\n",
       "      <td>4.0</td>\n",
       "      <td>...</td>\n",
       "      <td>3.0</td>\n",
       "      <td>4.0</td>\n",
       "      <td>2.0</td>\n",
       "      <td>2.0</td>\n",
       "      <td>3.0</td>\n",
       "      <td>3.0</td>\n",
       "      <td>6</td>\n",
       "      <td>3.0</td>\n",
       "      <td>4.0</td>\n",
       "      <td>3.0</td>\n",
       "    </tr>\n",
       "    <tr>\n",
       "      <th>1</th>\n",
       "      <td>2.0</td>\n",
       "      <td>4.0</td>\n",
       "      <td>5.0</td>\n",
       "      <td>2.0</td>\n",
       "      <td>5.0</td>\n",
       "      <td>5.0</td>\n",
       "      <td>4.0</td>\n",
       "      <td>4.0</td>\n",
       "      <td>3.0</td>\n",
       "      <td>4.0</td>\n",
       "      <td>...</td>\n",
       "      <td>3.0</td>\n",
       "      <td>3.0</td>\n",
       "      <td>3.0</td>\n",
       "      <td>5.0</td>\n",
       "      <td>5.0</td>\n",
       "      <td>4.0</td>\n",
       "      <td>2</td>\n",
       "      <td>4.0</td>\n",
       "      <td>3.0</td>\n",
       "      <td>3.0</td>\n",
       "    </tr>\n",
       "    <tr>\n",
       "      <th>2</th>\n",
       "      <td>5.0</td>\n",
       "      <td>4.0</td>\n",
       "      <td>5.0</td>\n",
       "      <td>4.0</td>\n",
       "      <td>4.0</td>\n",
       "      <td>4.0</td>\n",
       "      <td>5.0</td>\n",
       "      <td>4.0</td>\n",
       "      <td>2.0</td>\n",
       "      <td>5.0</td>\n",
       "      <td>...</td>\n",
       "      <td>4.0</td>\n",
       "      <td>5.0</td>\n",
       "      <td>4.0</td>\n",
       "      <td>2.0</td>\n",
       "      <td>3.0</td>\n",
       "      <td>4.0</td>\n",
       "      <td>2</td>\n",
       "      <td>5.0</td>\n",
       "      <td>5.0</td>\n",
       "      <td>2.0</td>\n",
       "    </tr>\n",
       "    <tr>\n",
       "      <th>3</th>\n",
       "      <td>4.0</td>\n",
       "      <td>4.0</td>\n",
       "      <td>6.0</td>\n",
       "      <td>5.0</td>\n",
       "      <td>5.0</td>\n",
       "      <td>4.0</td>\n",
       "      <td>4.0</td>\n",
       "      <td>3.0</td>\n",
       "      <td>5.0</td>\n",
       "      <td>5.0</td>\n",
       "      <td>...</td>\n",
       "      <td>2.0</td>\n",
       "      <td>5.0</td>\n",
       "      <td>2.0</td>\n",
       "      <td>4.0</td>\n",
       "      <td>1.0</td>\n",
       "      <td>3.0</td>\n",
       "      <td>3</td>\n",
       "      <td>4.0</td>\n",
       "      <td>3.0</td>\n",
       "      <td>5.0</td>\n",
       "    </tr>\n",
       "    <tr>\n",
       "      <th>4</th>\n",
       "      <td>2.0</td>\n",
       "      <td>3.0</td>\n",
       "      <td>3.0</td>\n",
       "      <td>4.0</td>\n",
       "      <td>5.0</td>\n",
       "      <td>4.0</td>\n",
       "      <td>4.0</td>\n",
       "      <td>5.0</td>\n",
       "      <td>3.0</td>\n",
       "      <td>2.0</td>\n",
       "      <td>...</td>\n",
       "      <td>2.0</td>\n",
       "      <td>3.0</td>\n",
       "      <td>4.0</td>\n",
       "      <td>4.0</td>\n",
       "      <td>3.0</td>\n",
       "      <td>3.0</td>\n",
       "      <td>3</td>\n",
       "      <td>4.0</td>\n",
       "      <td>3.0</td>\n",
       "      <td>3.0</td>\n",
       "    </tr>\n",
       "  </tbody>\n",
       "</table>\n",
       "<p>5 rows × 25 columns</p>\n",
       "</div>"
      ],
      "text/plain": [
       "    A1   A2   A3   A4   A5   C1   C2   C3   C4   C5  ...   N1   N2   N3   N4  \\\n",
       "0  2.0  4.0  3.0  4.0  4.0  2.0  3.0  3.0  4.0  4.0  ...  3.0  4.0  2.0  2.0   \n",
       "1  2.0  4.0  5.0  2.0  5.0  5.0  4.0  4.0  3.0  4.0  ...  3.0  3.0  3.0  5.0   \n",
       "2  5.0  4.0  5.0  4.0  4.0  4.0  5.0  4.0  2.0  5.0  ...  4.0  5.0  4.0  2.0   \n",
       "3  4.0  4.0  6.0  5.0  5.0  4.0  4.0  3.0  5.0  5.0  ...  2.0  5.0  2.0  4.0   \n",
       "4  2.0  3.0  3.0  4.0  5.0  4.0  4.0  5.0  3.0  2.0  ...  2.0  3.0  4.0  4.0   \n",
       "\n",
       "    N5   O1  O2   O3   O4   O5  \n",
       "0  3.0  3.0   6  3.0  4.0  3.0  \n",
       "1  5.0  4.0   2  4.0  3.0  3.0  \n",
       "2  3.0  4.0   2  5.0  5.0  2.0  \n",
       "3  1.0  3.0   3  4.0  3.0  5.0  \n",
       "4  3.0  3.0   3  4.0  3.0  3.0  \n",
       "\n",
       "[5 rows x 25 columns]"
      ]
     },
     "execution_count": 35,
     "metadata": {},
     "output_type": "execute_result"
    }
   ],
   "source": [
    "df.head()"
   ]
  },
  {
   "cell_type": "code",
   "execution_count": 36,
   "metadata": {
    "colab": {
     "base_uri": "https://localhost:8080/",
     "height": 317
    },
    "colab_type": "code",
    "id": "9l2So0uHL1OA",
    "outputId": "debdf385-823f-4289-9f70-d2c2900edc50"
   },
   "outputs": [
    {
     "data": {
      "text/html": [
       "<div>\n",
       "<style scoped>\n",
       "    .dataframe tbody tr th:only-of-type {\n",
       "        vertical-align: middle;\n",
       "    }\n",
       "\n",
       "    .dataframe tbody tr th {\n",
       "        vertical-align: top;\n",
       "    }\n",
       "\n",
       "    .dataframe thead th {\n",
       "        text-align: right;\n",
       "    }\n",
       "</style>\n",
       "<table border=\"1\" class=\"dataframe\">\n",
       "  <thead>\n",
       "    <tr style=\"text-align: right;\">\n",
       "      <th></th>\n",
       "      <th>A1</th>\n",
       "      <th>A2</th>\n",
       "      <th>A3</th>\n",
       "      <th>A4</th>\n",
       "      <th>A5</th>\n",
       "      <th>C1</th>\n",
       "      <th>C2</th>\n",
       "      <th>C3</th>\n",
       "      <th>C4</th>\n",
       "      <th>C5</th>\n",
       "      <th>...</th>\n",
       "      <th>N1</th>\n",
       "      <th>N2</th>\n",
       "      <th>N3</th>\n",
       "      <th>N4</th>\n",
       "      <th>N5</th>\n",
       "      <th>O1</th>\n",
       "      <th>O2</th>\n",
       "      <th>O3</th>\n",
       "      <th>O4</th>\n",
       "      <th>O5</th>\n",
       "    </tr>\n",
       "  </thead>\n",
       "  <tbody>\n",
       "    <tr>\n",
       "      <th>count</th>\n",
       "      <td>2436.000000</td>\n",
       "      <td>2436.000000</td>\n",
       "      <td>2436.000000</td>\n",
       "      <td>2436.000000</td>\n",
       "      <td>2436.000000</td>\n",
       "      <td>2436.000000</td>\n",
       "      <td>2436.000000</td>\n",
       "      <td>2436.000000</td>\n",
       "      <td>2436.000000</td>\n",
       "      <td>2436.000000</td>\n",
       "      <td>...</td>\n",
       "      <td>2436.000000</td>\n",
       "      <td>2436.000000</td>\n",
       "      <td>2436.000000</td>\n",
       "      <td>2436.000000</td>\n",
       "      <td>2436.000000</td>\n",
       "      <td>2436.000000</td>\n",
       "      <td>2436.000000</td>\n",
       "      <td>2436.000000</td>\n",
       "      <td>2436.000000</td>\n",
       "      <td>2436.000000</td>\n",
       "    </tr>\n",
       "    <tr>\n",
       "      <th>mean</th>\n",
       "      <td>2.406404</td>\n",
       "      <td>4.797209</td>\n",
       "      <td>4.598522</td>\n",
       "      <td>4.687603</td>\n",
       "      <td>4.543514</td>\n",
       "      <td>4.525041</td>\n",
       "      <td>4.372332</td>\n",
       "      <td>4.300082</td>\n",
       "      <td>2.549672</td>\n",
       "      <td>3.305829</td>\n",
       "      <td>...</td>\n",
       "      <td>2.943760</td>\n",
       "      <td>3.517652</td>\n",
       "      <td>3.224548</td>\n",
       "      <td>3.202381</td>\n",
       "      <td>2.971264</td>\n",
       "      <td>4.812808</td>\n",
       "      <td>2.684729</td>\n",
       "      <td>4.449918</td>\n",
       "      <td>4.925287</td>\n",
       "      <td>2.468801</td>\n",
       "    </tr>\n",
       "    <tr>\n",
       "      <th>std</th>\n",
       "      <td>1.407177</td>\n",
       "      <td>1.179535</td>\n",
       "      <td>1.311355</td>\n",
       "      <td>1.485213</td>\n",
       "      <td>1.270804</td>\n",
       "      <td>1.235258</td>\n",
       "      <td>1.319152</td>\n",
       "      <td>1.291202</td>\n",
       "      <td>1.376689</td>\n",
       "      <td>1.632720</td>\n",
       "      <td>...</td>\n",
       "      <td>1.575909</td>\n",
       "      <td>1.533238</td>\n",
       "      <td>1.594674</td>\n",
       "      <td>1.569633</td>\n",
       "      <td>1.623491</td>\n",
       "      <td>1.126613</td>\n",
       "      <td>1.552883</td>\n",
       "      <td>1.205206</td>\n",
       "      <td>1.193136</td>\n",
       "      <td>1.324021</td>\n",
       "    </tr>\n",
       "    <tr>\n",
       "      <th>min</th>\n",
       "      <td>1.000000</td>\n",
       "      <td>1.000000</td>\n",
       "      <td>1.000000</td>\n",
       "      <td>1.000000</td>\n",
       "      <td>1.000000</td>\n",
       "      <td>1.000000</td>\n",
       "      <td>1.000000</td>\n",
       "      <td>1.000000</td>\n",
       "      <td>1.000000</td>\n",
       "      <td>1.000000</td>\n",
       "      <td>...</td>\n",
       "      <td>1.000000</td>\n",
       "      <td>1.000000</td>\n",
       "      <td>1.000000</td>\n",
       "      <td>1.000000</td>\n",
       "      <td>1.000000</td>\n",
       "      <td>1.000000</td>\n",
       "      <td>1.000000</td>\n",
       "      <td>1.000000</td>\n",
       "      <td>1.000000</td>\n",
       "      <td>1.000000</td>\n",
       "    </tr>\n",
       "    <tr>\n",
       "      <th>25%</th>\n",
       "      <td>1.000000</td>\n",
       "      <td>4.000000</td>\n",
       "      <td>4.000000</td>\n",
       "      <td>4.000000</td>\n",
       "      <td>4.000000</td>\n",
       "      <td>4.000000</td>\n",
       "      <td>4.000000</td>\n",
       "      <td>4.000000</td>\n",
       "      <td>1.000000</td>\n",
       "      <td>2.000000</td>\n",
       "      <td>...</td>\n",
       "      <td>2.000000</td>\n",
       "      <td>2.000000</td>\n",
       "      <td>2.000000</td>\n",
       "      <td>2.000000</td>\n",
       "      <td>2.000000</td>\n",
       "      <td>4.000000</td>\n",
       "      <td>1.000000</td>\n",
       "      <td>4.000000</td>\n",
       "      <td>4.000000</td>\n",
       "      <td>1.000000</td>\n",
       "    </tr>\n",
       "    <tr>\n",
       "      <th>50%</th>\n",
       "      <td>2.000000</td>\n",
       "      <td>5.000000</td>\n",
       "      <td>5.000000</td>\n",
       "      <td>5.000000</td>\n",
       "      <td>5.000000</td>\n",
       "      <td>5.000000</td>\n",
       "      <td>5.000000</td>\n",
       "      <td>5.000000</td>\n",
       "      <td>2.000000</td>\n",
       "      <td>3.000000</td>\n",
       "      <td>...</td>\n",
       "      <td>3.000000</td>\n",
       "      <td>4.000000</td>\n",
       "      <td>3.000000</td>\n",
       "      <td>3.000000</td>\n",
       "      <td>3.000000</td>\n",
       "      <td>5.000000</td>\n",
       "      <td>2.000000</td>\n",
       "      <td>5.000000</td>\n",
       "      <td>5.000000</td>\n",
       "      <td>2.000000</td>\n",
       "    </tr>\n",
       "    <tr>\n",
       "      <th>75%</th>\n",
       "      <td>3.000000</td>\n",
       "      <td>6.000000</td>\n",
       "      <td>6.000000</td>\n",
       "      <td>6.000000</td>\n",
       "      <td>5.000000</td>\n",
       "      <td>5.000000</td>\n",
       "      <td>5.000000</td>\n",
       "      <td>5.000000</td>\n",
       "      <td>4.000000</td>\n",
       "      <td>5.000000</td>\n",
       "      <td>...</td>\n",
       "      <td>4.000000</td>\n",
       "      <td>5.000000</td>\n",
       "      <td>5.000000</td>\n",
       "      <td>4.000000</td>\n",
       "      <td>4.000000</td>\n",
       "      <td>6.000000</td>\n",
       "      <td>4.000000</td>\n",
       "      <td>5.000000</td>\n",
       "      <td>6.000000</td>\n",
       "      <td>3.000000</td>\n",
       "    </tr>\n",
       "    <tr>\n",
       "      <th>max</th>\n",
       "      <td>6.000000</td>\n",
       "      <td>6.000000</td>\n",
       "      <td>6.000000</td>\n",
       "      <td>6.000000</td>\n",
       "      <td>6.000000</td>\n",
       "      <td>6.000000</td>\n",
       "      <td>6.000000</td>\n",
       "      <td>6.000000</td>\n",
       "      <td>6.000000</td>\n",
       "      <td>6.000000</td>\n",
       "      <td>...</td>\n",
       "      <td>6.000000</td>\n",
       "      <td>6.000000</td>\n",
       "      <td>6.000000</td>\n",
       "      <td>6.000000</td>\n",
       "      <td>6.000000</td>\n",
       "      <td>6.000000</td>\n",
       "      <td>6.000000</td>\n",
       "      <td>6.000000</td>\n",
       "      <td>6.000000</td>\n",
       "      <td>6.000000</td>\n",
       "    </tr>\n",
       "  </tbody>\n",
       "</table>\n",
       "<p>8 rows × 25 columns</p>\n",
       "</div>"
      ],
      "text/plain": [
       "                A1           A2           A3           A4           A5  \\\n",
       "count  2436.000000  2436.000000  2436.000000  2436.000000  2436.000000   \n",
       "mean      2.406404     4.797209     4.598522     4.687603     4.543514   \n",
       "std       1.407177     1.179535     1.311355     1.485213     1.270804   \n",
       "min       1.000000     1.000000     1.000000     1.000000     1.000000   \n",
       "25%       1.000000     4.000000     4.000000     4.000000     4.000000   \n",
       "50%       2.000000     5.000000     5.000000     5.000000     5.000000   \n",
       "75%       3.000000     6.000000     6.000000     6.000000     5.000000   \n",
       "max       6.000000     6.000000     6.000000     6.000000     6.000000   \n",
       "\n",
       "                C1           C2           C3           C4           C5  ...  \\\n",
       "count  2436.000000  2436.000000  2436.000000  2436.000000  2436.000000  ...   \n",
       "mean      4.525041     4.372332     4.300082     2.549672     3.305829  ...   \n",
       "std       1.235258     1.319152     1.291202     1.376689     1.632720  ...   \n",
       "min       1.000000     1.000000     1.000000     1.000000     1.000000  ...   \n",
       "25%       4.000000     4.000000     4.000000     1.000000     2.000000  ...   \n",
       "50%       5.000000     5.000000     5.000000     2.000000     3.000000  ...   \n",
       "75%       5.000000     5.000000     5.000000     4.000000     5.000000  ...   \n",
       "max       6.000000     6.000000     6.000000     6.000000     6.000000  ...   \n",
       "\n",
       "                N1           N2           N3           N4           N5  \\\n",
       "count  2436.000000  2436.000000  2436.000000  2436.000000  2436.000000   \n",
       "mean      2.943760     3.517652     3.224548     3.202381     2.971264   \n",
       "std       1.575909     1.533238     1.594674     1.569633     1.623491   \n",
       "min       1.000000     1.000000     1.000000     1.000000     1.000000   \n",
       "25%       2.000000     2.000000     2.000000     2.000000     2.000000   \n",
       "50%       3.000000     4.000000     3.000000     3.000000     3.000000   \n",
       "75%       4.000000     5.000000     5.000000     4.000000     4.000000   \n",
       "max       6.000000     6.000000     6.000000     6.000000     6.000000   \n",
       "\n",
       "                O1           O2           O3           O4           O5  \n",
       "count  2436.000000  2436.000000  2436.000000  2436.000000  2436.000000  \n",
       "mean      4.812808     2.684729     4.449918     4.925287     2.468801  \n",
       "std       1.126613     1.552883     1.205206     1.193136     1.324021  \n",
       "min       1.000000     1.000000     1.000000     1.000000     1.000000  \n",
       "25%       4.000000     1.000000     4.000000     4.000000     1.000000  \n",
       "50%       5.000000     2.000000     5.000000     5.000000     2.000000  \n",
       "75%       6.000000     4.000000     5.000000     6.000000     3.000000  \n",
       "max       6.000000     6.000000     6.000000     6.000000     6.000000  \n",
       "\n",
       "[8 rows x 25 columns]"
      ]
     },
     "execution_count": 36,
     "metadata": {},
     "output_type": "execute_result"
    }
   ],
   "source": [
    "df.describe()"
   ]
  },
  {
   "cell_type": "code",
   "execution_count": 37,
   "metadata": {
    "colab": {
     "base_uri": "https://localhost:8080/",
     "height": 275
    },
    "colab_type": "code",
    "id": "oSHfy0ShL1OD",
    "outputId": "6240fee2-73cb-4b67-a329-99f1c2119572"
   },
   "outputs": [
    {
     "data": {
      "image/png": "[encoded data removed]",
      "text/plain": [
       "<Figure size 288x288 with 1 Axes>"
      ]
     },
     "metadata": {
      "needs_background": "light"
     },
     "output_type": "display_data"
    }
   ],
   "source": [
    "import matplotlib.pyplot as plt\n",
    "\n",
    "plt.matshow(df.corr())\n",
    "plt.show();"
   ]
  },
  {
   "cell_type": "markdown",
   "metadata": {
    "colab_type": "text",
    "id": "fLtw7QKCL1OH"
   },
   "source": [
    "### Perform Factor Analysis\n",
    "\n",
    "factor_analyzer package documentations:   \n",
    "https://factor-analyzer.readthedocs.io/en/latest/factor_analyzer.html"
   ]
  },
  {
   "cell_type": "markdown",
   "metadata": {
    "colab_type": "raw",
    "id": "ZLNEDcvCL1OH"
   },
   "source": [
    "# Ensure that the factor_analyzer package is installed \n",
    "pip install factor_analyzer"
   ]
  },
  {
   "cell_type": "code",
   "execution_count": 38,
   "metadata": {
    "colab": {},
    "colab_type": "code",
    "id": "VE0Xec_aL1OI"
   },
   "outputs": [],
   "source": [
    "df = df.dropna()"
   ]
  },
  {
   "cell_type": "code",
   "execution_count": null,
   "metadata": {
    "colab": {
     "base_uri": "https://localhost:8080/",
     "height": 392
    },
    "colab_type": "code",
    "id": "PS8Byk5DL1OL",
    "outputId": "b5d59770-1606-4cbd-98bb-3c99fc7913c6"
   },
   "outputs": [],
   "source": [
    "df= pd.read_csv(\"data/bfi.csv\")\n",
    "df.describe()"
   ]
  },
  {
   "cell_type": "code",
   "execution_count": 0,
   "metadata": {
    "colab": {},
    "colab_type": "code",
    "id": "Hn_96IIPL1OO"
   },
   "outputs": [],
   "source": [
    "# Dropping unnecessary columns\n",
    "df.drop(['gender', 'education', 'age'],axis=1,inplace=True)"
   ]
  },
  {
   "cell_type": "code",
   "execution_count": 0,
   "metadata": {
    "colab": {},
    "colab_type": "code",
    "id": "XOvb3jgwL1OQ"
   },
   "outputs": [],
   "source": [
    "# Dropping missing values rows\n",
    "df.dropna(inplace=True)"
   ]
  },
  {
   "cell_type": "code",
   "execution_count": 0,
   "metadata": {
    "colab": {},
    "colab_type": "code",
    "id": "nUIbnw-nL1OS"
   },
   "outputs": [],
   "source": [
    "df.info()"
   ]
  },
  {
   "cell_type": "code",
   "execution_count": 0,
   "metadata": {
    "colab": {},
    "colab_type": "code",
    "id": "4icBIxqdL1OV"
   },
   "outputs": [],
   "source": [
    "df.columns"
   ]
  },
  {
   "cell_type": "code",
   "execution_count": 0,
   "metadata": {
    "colab": {},
    "colab_type": "code",
    "id": "mRwcWdcxL1OX"
   },
   "outputs": [],
   "source": [
    "df.head()"
   ]
  },
  {
   "cell_type": "code",
   "execution_count": 0,
   "metadata": {
    "colab": {},
    "colab_type": "code",
    "id": "oitt3dMvL1Og"
   },
   "outputs": [],
   "source": [
    "df.describe()"
   ]
  },
  {
   "cell_type": "markdown",
   "metadata": {
    "colab_type": "text",
    "id": "vLunwqNfL1Om"
   },
   "source": [
    "#### Adequacy Test\n",
    "\n",
    "Before you perform factor analysis, best practice is to evaluate the “factorability” of our dataset. Factorability means \"can we found the factors in the dataset?\". There are two methods to check the factorability or sampling adequacy:\n",
    "\n",
    "- Bartlett’s Test\n",
    "\n",
    "- Kaiser-Meyer-Olkin Test\n",
    "\n",
    "Bartlett’s test of sphericity checks whether or not the observed variables intercorrelate at all using the observed correlation matrix against the identity matrix. If the test found statistically insignificant, you should not employ a factor analysis."
   ]
  },
  {
   "cell_type": "code",
   "execution_count": 39,
   "metadata": {
    "colab": {},
    "colab_type": "code",
    "id": "2EK-L6tRL1Oo"
   },
   "outputs": [
    {
     "data": {
      "text/plain": [
       "(18170.966350869236, 0.0)"
      ]
     },
     "execution_count": 39,
     "metadata": {},
     "output_type": "execute_result"
    }
   ],
   "source": [
    "from factor_analyzer.factor_analyzer import calculate_bartlett_sphericity\n",
    "chi_square_value,p_value=calculate_bartlett_sphericity(df)\n",
    "chi_square_value, p_value"
   ]
  },
  {
   "cell_type": "markdown",
   "metadata": {
    "colab_type": "text",
    "id": "OGcwgGZPL1Oq"
   },
   "source": [
    "Kaiser-Meyer-Olkin (KMO) Test measures the suitability of data for factor analysis. It determines the adequacy for each observed variable and for the complete model. KMO estimates the proportion of variance among all the observed variable. Lower proportion id more suitable for factor analysis. KMO values range between 0 and 1. Value of KMO less than 0.6 is considered inadequate."
   ]
  },
  {
   "cell_type": "code",
   "execution_count": 40,
   "metadata": {
    "colab": {},
    "colab_type": "code",
    "id": "UvgbbQtmL1Or"
   },
   "outputs": [],
   "source": [
    "from factor_analyzer.factor_analyzer import calculate_kmo\n",
    "kmo_all,kmo_model=calculate_kmo(df)"
   ]
  },
  {
   "cell_type": "code",
   "execution_count": 41,
   "metadata": {
    "colab": {},
    "colab_type": "code",
    "id": "Ab0b9OjqL1Ot"
   },
   "outputs": [
    {
     "data": {
      "text/plain": [
       "0.848539722194922"
      ]
     },
     "execution_count": 41,
     "metadata": {},
     "output_type": "execute_result"
    }
   ],
   "source": [
    "kmo_model"
   ]
  },
  {
   "cell_type": "markdown",
   "metadata": {
    "colab_type": "text",
    "id": "3tZVCoE0L1Ow"
   },
   "source": [
    "The overall KMO for our data is 0.84, which is excellent. This value indicates that you can proceed with your planned factor analysis.\n",
    "\n",
    "#### Choosing the Number of Factors\n",
    "\n",
    "For choosing the number of factors, you can use the Kaiser criterion and scree plot. Both are based on eigenvalues."
   ]
  },
  {
   "cell_type": "code",
   "execution_count": 42,
   "metadata": {
    "colab": {},
    "colab_type": "code",
    "id": "GVXNa-uAL1Ox"
   },
   "outputs": [
    {
     "data": {
      "text/plain": [
       "array([5.13431118, 2.75188667, 2.14270195, 1.85232761, 1.54816285,\n",
       "       1.07358247, 0.83953893, 0.79920618, 0.71898919, 0.68808879,\n",
       "       0.67637336, 0.65179984, 0.62325295, 0.59656284, 0.56309083,\n",
       "       0.54330533, 0.51451752, 0.49450315, 0.48263952, 0.448921  ,\n",
       "       0.42336611, 0.40067145, 0.38780448, 0.38185679, 0.26253902])"
      ]
     },
     "execution_count": 42,
     "metadata": {},
     "output_type": "execute_result"
    }
   ],
   "source": [
    "# Create factor analysis object and perform factor analysis\n",
    "fa = FactorAnalyzer()\n",
    "fa.fit(df, 25)\n",
    "# Check Eigenvalues\n",
    "ev, v = fa.get_eigenvalues()\n",
    "ev"
   ]
  },
  {
   "cell_type": "markdown",
   "metadata": {
    "colab_type": "text",
    "id": "9BR5euD8L1Oz"
   },
   "source": [
    "Here, you can see only for 6-factors eigenvalues are greater than one. It means we need to choose only 6 factors (or unobserved variables)."
   ]
  },
  {
   "cell_type": "code",
   "execution_count": 43,
   "metadata": {
    "colab": {},
    "colab_type": "code",
    "id": "nvqBnjdKL1O0"
   },
   "outputs": [
    {
     "data": {
      "image/png": "[encoded data removed]",
      "text/plain": [
       "<Figure size 432x288 with 1 Axes>"
      ]
     },
     "metadata": {
      "needs_background": "light"
     },
     "output_type": "display_data"
    }
   ],
   "source": [
    "# Create scree plot using matplotlib\n",
    "plt.scatter(range(1,df.shape[1]+1),ev)\n",
    "plt.plot(range(1,df.shape[1]+1),ev)\n",
    "plt.title('Scree Plot')\n",
    "plt.xlabel('Factors')\n",
    "plt.ylabel('Eigenvalue')\n",
    "plt.grid()\n",
    "plt.show()"
   ]
  },
  {
   "cell_type": "markdown",
   "metadata": {
    "colab_type": "text",
    "id": "XgKZWFb9L1O2"
   },
   "source": [
    "### Things to consider    \n",
    "\n",
    "Factor analysis is typically done using the “varimax” rotation method. What if we utilize other kinds of rotation, such as “quartimax” , “bentlerT”, “equamax” and etc. Do they change the results dramatically or not?\n",
    "\n",
    "In this case, the type of factor analysis we use is exploratory factor anaylsis (EFA). There is another type of factor analysis, `Confirmatory factor analysis (CFA)` which is a more complex approach that tests the hypothesis that the items are associated with specific factors. What if we do the CFA on the example dataset?"
   ]
  },
  {
   "cell_type": "markdown",
   "metadata": {
    "colab_type": "text",
    "id": "AFkw4HDaL1O2"
   },
   "source": [
    "### Assignment: FCA on Kaggle Big Mart Sales Dataset\n",
    "\n",
    "The big-mart-sales-dataset contains images of products contains 60,000 28x28 3-channel images. Originally, the goal was to predict sales from images. We are using the images for factor analysis.   \n",
    "https://www.kaggle.com/aakash2016/big-mart-sales-dataset  \n",
    "\n",
    "Step 6 is your primary task in this assignment.\n",
    "\n",
    "1) Download the big-mart-sales-dataset \n",
    "\n",
    "2) Install opencv: conda install -c menpo opencv\n",
    "\n",
    "3) Install the factor_analyzer package: https://factor-analyzer.readthedocs.io/en/latest/factor_analyzer.html\n",
    "\n",
    "4) Create a correlation matrix, apply the KMO adequacy test, and generate a scree plot.\n",
    "\n",
    "5) From the KMO/scree plot identify the optimal number of factors\n",
    "\n",
    "6) Apply factor analysis with your identified optimal number of factors.\n",
    "\n",
    "7) Compare ICA reconstructed images with PCA.\n",
    "\n",
    "The notebook, DimensionalityReduction_52_1_fa_assign.ipynb, has a complete example with an arbitrary (very small) number of factors."
   ]
  },
  {
   "cell_type": "code",
   "execution_count": 44,
   "metadata": {
    "colab": {},
    "colab_type": "code",
    "id": "DDrCdHa_L1O3"
   },
   "outputs": [],
   "source": [
    "# import required libraries\n",
    "import pandas as pd\n",
    "import numpy as np\n",
    "import matplotlib.pyplot as plt\n",
    "\n",
    "# load the training file to get labels\n",
    "f = 'https://tf-assets-prod.s3.amazonaws.com/tf-curric/data-science/Train_UWu5bXk.csv'\n",
    "# read the data\n",
    "train=pd.read_csv(f)"
   ]
  },
  {
   "cell_type": "code",
   "execution_count": 45,
   "metadata": {
    "colab": {
     "base_uri": "https://localhost:8080/",
     "height": 238
    },
    "colab_type": "code",
    "id": "yMy6coF_L1O5",
    "outputId": "d8d5b9b4-4712-4622-b33e-0960148160ba"
   },
   "outputs": [
    {
     "data": {
      "text/plain": [
       "Item_Identifier               0.000000\n",
       "Item_Weight                  17.165317\n",
       "Item_Fat_Content              0.000000\n",
       "Item_Visibility               0.000000\n",
       "Item_Type                     0.000000\n",
       "Item_MRP                      0.000000\n",
       "Outlet_Identifier             0.000000\n",
       "Outlet_Establishment_Year     0.000000\n",
       "Outlet_Size                  28.276428\n",
       "Outlet_Location_Type          0.000000\n",
       "Outlet_Type                   0.000000\n",
       "Item_Outlet_Sales             0.000000\n",
       "dtype: float64"
      ]
     },
     "execution_count": 45,
     "metadata": {},
     "output_type": "execute_result"
    }
   ],
   "source": [
    "# checking the percentage of missing values in each variable\n",
    "train.isnull().sum()/len(train)*100"
   ]
  },
  {
   "cell_type": "code",
   "execution_count": 46,
   "metadata": {
    "colab": {},
    "colab_type": "code",
    "id": "Ar32LflbL1O9",
    "scrolled": false
   },
   "outputs": [
    {
     "name": "stdout",
     "output_type": "stream",
     "text": [
      "\u001b[34mtrain\u001b[m\u001b[m     train.csv\r\n"
     ]
    }
   ],
   "source": [
    "!ls /Users/farooq/Downloads/train_LbELtWX"
   ]
  },
  {
   "cell_type": "code",
   "execution_count": 47,
   "metadata": {
    "colab": {
     "base_uri": "https://localhost:8080/",
     "height": 51
    },
    "colab_type": "code",
    "id": "Qp8oIdXcL1PA",
    "outputId": "a67c565f-5dce-4bf5-9c68-6aafa725207e"
   },
   "outputs": [
    {
     "ename": "SyntaxError",
     "evalue": "invalid syntax (<ipython-input-47-618b72182f37>, line 2)",
     "output_type": "error",
     "traceback": [
      "\u001b[0;36m  File \u001b[0;32m\"<ipython-input-47-618b72182f37>\"\u001b[0;36m, line \u001b[0;32m2\u001b[0m\n\u001b[0;31m    pip install opencv-python\u001b[0m\n\u001b[0m              ^\u001b[0m\n\u001b[0;31mSyntaxError\u001b[0m\u001b[0;31m:\u001b[0m invalid syntax\n"
     ]
    }
   ],
   "source": [
    "# conda install -c menpo opencv\n",
    "pip install opencv-python"
   ]
  },
  {
   "cell_type": "code",
   "execution_count": 0,
   "metadata": {
    "colab": {},
    "colab_type": "code",
    "id": "eBZujEG4L1PC"
   },
   "outputs": [],
   "source": [
    "# import os\n",
    "\n",
    "# cwd = os.getcwd()\n",
    "# datadir = cwd + '/../data/'\n",
    "# datadir"
   ]
  },
  {
   "cell_type": "code",
   "execution_count": null,
   "metadata": {
    "colab": {
     "base_uri": "https://localhost:8080/",
     "height": 371
    },
    "colab_type": "code",
    "id": "qXZl1IErL1PG",
    "outputId": "f3414dea-7922-4359-ffcf-eb8b7237d70a"
   },
   "outputs": [],
   "source": [
    "import os\n",
    "from zipfile import ZipFile\n",
    "\n",
    "\n",
    "with ZipFile('https://tf-assets-prod.s3.amazonaws.com/tf-curric/data-science/train_LbELtWX.zip', 'r') as zipObj:\n",
    "    # Extract all the contents of zip file in different directory\n",
    "    zipObj.extractall('../data/train_LbELtWX')"
   ]
  },
  {
   "cell_type": "code",
   "execution_count": 48,
   "metadata": {
    "colab": {},
    "colab_type": "code",
    "id": "Rh4dE6wzL1PJ"
   },
   "outputs": [],
   "source": [
    "import pandas as pd\n",
    "import numpy as np\n",
    "from glob import glob\n",
    "import cv2\n",
    "images = [cv2.imread(file) for file in glob('/Users/farooq/Downloads/train_LbELtWX/train/*.png')]"
   ]
  },
  {
   "cell_type": "markdown",
   "metadata": {
    "colab_type": "text",
    "id": "pMQPj9h5L1PL"
   },
   "source": [
    "Now we will convert these images into a numpy array format so that we can perform mathematical operations on them and also plot the images."
   ]
  },
  {
   "cell_type": "code",
   "execution_count": 49,
   "metadata": {},
   "outputs": [
    {
     "name": "stdout",
     "output_type": "stream",
     "text": [
      "Requirement already satisfied: opencv-python in /Users/farooq/anaconda3/lib/python3.7/site-packages (4.1.2.30)\n",
      "Requirement already satisfied: numpy>=1.14.5 in /Users/farooq/anaconda3/lib/python3.7/site-packages (from opencv-python) (1.16.4)\n",
      "Note: you may need to restart the kernel to use updated packages.\n"
     ]
    }
   ],
   "source": [
    "pip install opencv-python"
   ]
  },
  {
   "cell_type": "code",
   "execution_count": 50,
   "metadata": {
    "colab": {
     "base_uri": "https://localhost:8080/",
     "height": 34
    },
    "colab_type": "code",
    "id": "new8WqkNL1PM",
    "outputId": "4e1a8355-beee-4ea8-9ba2-2b772d6bdd30"
   },
   "outputs": [
    {
     "data": {
      "text/plain": [
       "(60000, 28, 28, 3)"
      ]
     },
     "execution_count": 50,
     "metadata": {},
     "output_type": "execute_result"
    }
   ],
   "source": [
    "images = np.array(images)\n",
    "images.shape"
   ]
  },
  {
   "cell_type": "markdown",
   "metadata": {
    "colab_type": "text",
    "id": "NmrSRacoL1PV"
   },
   "source": [
    "As you can see above, it’s a 3-dimensional array. We must convert it to 1-dimension as all the upcoming techniques only take 1-dimensional input. To do this, we need to flatten the images:"
   ]
  },
  {
   "cell_type": "code",
   "execution_count": 51,
   "metadata": {
    "colab": {
     "base_uri": "https://localhost:8080/",
     "height": 232
    },
    "colab_type": "code",
    "id": "O_e5l0DyL1PW",
    "outputId": "071df375-bc3d-4122-bf19-8134eb05fd2f"
   },
   "outputs": [],
   "source": [
    "image = []\n",
    "for i in range(0,60000):\n",
    "    img = images[i].flatten()\n",
    "    image.append(img)\n",
    "image = np.array(image)"
   ]
  },
  {
   "cell_type": "code",
   "execution_count": 52,
   "metadata": {},
   "outputs": [
    {
     "data": {
      "text/plain": [
       "(60000, 2352)"
      ]
     },
     "execution_count": 52,
     "metadata": {},
     "output_type": "execute_result"
    }
   ],
   "source": [
    "image.shape"
   ]
  },
  {
   "cell_type": "markdown",
   "metadata": {
    "colab_type": "text",
    "id": "Hhmzalj5L1PY"
   },
   "source": [
    "Let us now create a dataframe containing the pixel values of every individual pixel present in each image, and also their corresponding labels (for labels, we will make use of the train.csv file)."
   ]
  },
  {
   "cell_type": "markdown",
   "metadata": {
    "colab_type": "text",
    "id": "7mnugY7RL1PZ"
   },
   "source": [
    "As you can see in the above table, there aren’t too many missing values (just 2 variables have them actually). We can impute the values using appropriate methods, or we can set a threshold of, say 20%, and remove the variable having more than 20% missing values. Let’s look at how this can be done in Python:"
   ]
  },
  {
   "cell_type": "code",
   "execution_count": 53,
   "metadata": {
    "colab": {},
    "colab_type": "code",
    "id": "I8NlijqWL1Pb"
   },
   "outputs": [],
   "source": [
    "train = pd.read_csv('/Users/farooq/Downloads/train_LbELtWX/train.csv')     # Give the complete path of your train.csv file\n",
    "feat_cols = [ 'pixel'+str(i) for i in range(image.shape[1]) ]\n",
    "df = pd.DataFrame(image,columns=feat_cols)\n",
    "df['label'] = train['label']"
   ]
  },
  {
   "cell_type": "code",
   "execution_count": 54,
   "metadata": {},
   "outputs": [
    {
     "data": {
      "text/plain": [
       "(60000, 2353)"
      ]
     },
     "execution_count": 54,
     "metadata": {},
     "output_type": "execute_result"
    }
   ],
   "source": [
    "df.shape"
   ]
  },
  {
   "cell_type": "markdown",
   "metadata": {
    "colab_type": "text",
    "id": "Dal1IxD5L1Pe"
   },
   "source": [
    "#### Now you will decompose the dataset using Factor Analysis:\n",
    "\n",
    "1) Create a FactorAnalysis object for `n_components`\n",
    "\n",
    "2) Use your FA object to `fit_transform` your `feat_cols` in dataframe `df`.\n"
   ]
  },
  {
   "cell_type": "code",
   "execution_count": 55,
   "metadata": {
    "colab": {},
    "colab_type": "code",
    "id": "ZC40RoXwL1Pf"
   },
   "outputs": [],
   "source": [
    "from sklearn.decomposition import FactorAnalysis\n",
    "FA = FactorAnalysis(n_components = 3).fit_transform(df[feat_cols])"
   ]
  },
  {
   "cell_type": "markdown",
   "metadata": {
    "colab_type": "text",
    "id": "gcgZE-SsL1Ph"
   },
   "source": [
    "Here, `n_components` will decide the number of factors in the transformed data. \n",
    "\n",
    "After transforming the data, it’s time to visualize the results."
   ]
  },
  {
   "cell_type": "code",
   "execution_count": 56,
   "metadata": {
    "colab": {},
    "colab_type": "code",
    "id": "n-xaKdMUL1Ph"
   },
   "outputs": [
    {
     "data": {
      "text/plain": [
       "<matplotlib.collections.PathCollection at 0x1a18eeae80>"
      ]
     },
     "execution_count": 56,
     "metadata": {},
     "output_type": "execute_result"
    },
    {
     "data": {
      "image/png": "[encoded data removed]",
      "text/plain": [
       "<Figure size 864x576 with 1 Axes>"
      ]
     },
     "metadata": {
      "needs_background": "light"
     },
     "output_type": "display_data"
    }
   ],
   "source": [
    "%matplotlib inline\n",
    "import matplotlib.pyplot as plt\n",
    "plt.figure(figsize=(12,8))\n",
    "plt.title('Factor Analysis Components')\n",
    "plt.scatter(FA[:,0], FA[:,1])\n",
    "plt.scatter(FA[:,1], FA[:,2])\n",
    "plt.scatter(FA[:,2],FA[:,0])"
   ]
  },
  {
   "cell_type": "code",
   "execution_count": 57,
   "metadata": {},
   "outputs": [
    {
     "name": "stderr",
     "output_type": "stream",
     "text": [
      "/Users/farooq/anaconda3/lib/python3.7/site-packages/factor_analyzer/utils.py:248: UserWarning: The inverse of the variance-covariance matrix was calculated using the Moore-Penrose generalized matrix inversion, due to its determinant being at or very close to zero.\n",
      "  warnings.warn('The inverse of the variance-covariance matrix '\n"
     ]
    },
    {
     "data": {
      "text/plain": [
       "0.9746003279254497"
      ]
     },
     "execution_count": 57,
     "metadata": {},
     "output_type": "execute_result"
    }
   ],
   "source": [
    "# Perform a KMO test\n",
    "from factor_analyzer.factor_analyzer import calculate_kmo\n",
    "kmo_all,kmo_model=calculate_kmo(df)\n",
    "kmo_model"
   ]
  },
  {
   "cell_type": "markdown",
   "metadata": {
    "colab_type": "text",
    "id": "FFX5_Oy9L1Pj"
   },
   "source": [
    "Interesting. We can see all the different factors in the above graph. Here, the x-axis and y-axis represent the values of decomposed factors. \n",
    "\n",
    "It is hard to observe these factors individually, but we have been able to reduce the dimensions of our data successfully.\n",
    "\n",
    "#### Plot the images using the independent components"
   ]
  },
  {
   "cell_type": "code",
   "execution_count": 58,
   "metadata": {
    "colab": {},
    "colab_type": "code",
    "id": "AH19K-XoL1Pk"
   },
   "outputs": [
    {
     "data": {
      "text/plain": [
       "<Figure size 432x288 with 0 Axes>"
      ]
     },
     "metadata": {},
     "output_type": "display_data"
    },
    {
     "data": {
      "image/png": "[encoded data removed]",
      "text/plain": [
       "<Figure size 1440x720 with 15 Axes>"
      ]
     },
     "metadata": {
      "needs_background": "light"
     },
     "output_type": "display_data"
    }
   ],
   "source": [
    "rndperm = np.random.permutation(df.shape[0])\n",
    "plt.gray()\n",
    "fig = plt.figure(figsize=(20,10))\n",
    "for i in range(0,15):\n",
    "    ax = fig.add_subplot(3,5,i+1)\n",
    "    ax.matshow(df.loc[rndperm[i],feat_cols].values.reshape((28,28*3)).astype(float))\n",
    "plt.show();"
   ]
  },
  {
   "cell_type": "markdown",
   "metadata": {
    "colab_type": "text",
    "id": "DVLKTjTXL1Pq"
   },
   "source": [
    "#### Lets use PCA and compare the reconstructed images with ICA"
   ]
  },
  {
   "cell_type": "code",
   "execution_count": 59,
   "metadata": {
    "colab": {},
    "colab_type": "code",
    "id": "_wiwfVCpL1Pr"
   },
   "outputs": [],
   "source": [
    "#Let’s implement PCA using Python and transform the dataset:\n",
    "\n",
    "from sklearn.decomposition import PCA\n",
    "pca = PCA(n_components=4)\n",
    "pca_result = pca.fit_transform(df[feat_cols].values)"
   ]
  },
  {
   "cell_type": "code",
   "execution_count": 60,
   "metadata": {
    "colab": {},
    "colab_type": "code",
    "id": "_7ceTqrvL1Px"
   },
   "outputs": [
    {
     "name": "stderr",
     "output_type": "stream",
     "text": [
      "No handles with labels found to put in legend.\n"
     ]
    },
    {
     "data": {
      "image/png": "[encoded data removed]",
      "text/plain": [
       "<Figure size 432x288 with 1 Axes>"
      ]
     },
     "metadata": {
      "needs_background": "light"
     },
     "output_type": "display_data"
    }
   ],
   "source": [
    "plt.plot(range(4), pca.explained_variance_ratio_, color=\"red\")\n",
    "plt.plot(range(4), np.cumsum(pca.explained_variance_ratio_), color=\"blue\")\n",
    "plt.title(\"Component-wise and Cumulative Explained Variance\")\n",
    "plt.legend();"
   ]
  },
  {
   "cell_type": "code",
   "execution_count": 61,
   "metadata": {
    "colab": {},
    "colab_type": "code",
    "id": "EPxN_18vL1Pz"
   },
   "outputs": [
    {
     "data": {
      "text/plain": [
       "Text(0.5, 0.98, '4-Component PCA')"
      ]
     },
     "execution_count": 61,
     "metadata": {},
     "output_type": "execute_result"
    },
    {
     "data": {
      "image/png": "[encoded data removed]",
      "text/plain": [
       "<Figure size 864x576 with 8 Axes>"
      ]
     },
     "metadata": {},
     "output_type": "display_data"
    }
   ],
   "source": [
    "import seaborn as sns\n",
    "plt.style.use('fivethirtyeight')\n",
    "fig, axarr = plt.subplots(2, 2, figsize=(12, 8))\n",
    "sns.heatmap(pca.components_[0, :].reshape(28, 84), ax=axarr[0][0], cmap='gray_r')\n",
    "sns.heatmap(pca.components_[1, :].reshape(28, 84), ax=axarr[0][1], cmap='gray_r')\n",
    "sns.heatmap(pca.components_[2, :].reshape(28, 84), ax=axarr[1][0], cmap='gray_r')\n",
    "sns.heatmap(pca.components_[3, :].reshape(28, 84), ax=axarr[1][1], cmap='gray_r')\n",
    "axarr[0][0].set_title(\n",
    "\"{0:.2f}% Explained Variance\".format(pca.explained_variance_ratio_[0]*100),\n",
    "fontsize=12\n",
    ")\n",
    "axarr[0][1].set_title(\n",
    "\"{0:.2f}% Explained Variance\".format(pca.explained_variance_ratio_[1]*100),\n",
    "fontsize=12\n",
    ")\n",
    "axarr[1][0].set_title(\n",
    "\"{0:.2f}% Explained Variance\".format(pca.explained_variance_ratio_[2]*100),\n",
    "fontsize=12\n",
    ")\n",
    "axarr[1][1].set_title(\n",
    "\"{0:.2f}% Explained Variance\".format(pca.explained_variance_ratio_[3]*100),\n",
    "fontsize=12\n",
    ")\n",
    "axarr[0][0].set_aspect('equal')\n",
    "axarr[0][1].set_aspect('equal')\n",
    "axarr[1][0].set_aspect('equal')\n",
    "axarr[1][1].set_aspect('equal')\n",
    "\n",
    "plt.suptitle('4-Component PCA')"
   ]
  },
  {
   "cell_type": "markdown",
   "metadata": {
    "colab_type": "text",
    "id": "IPNS8jhhL1P1"
   },
   "source": [
    "Each additional dimension we add to the PCA technique captures less and less of the variance in the model. The first component is the most important one, followed by the second, then the third, and so on."
   ]
  },
  {
   "cell_type": "code",
   "execution_count": 0,
   "metadata": {
    "colab": {},
    "colab_type": "code",
    "id": "cC7dEGNBL1P1"
   },
   "outputs": [],
   "source": []
  }
 ],
 "metadata": {
  "colab": {
   "collapsed_sections": [
    "vLunwqNfL1Om",
    "3tZVCoE0L1Ow",
    "Dal1IxD5L1Pe",
    "FFX5_Oy9L1Pj",
    "DVLKTjTXL1Pq"
   ],
   "name": "DimensionalityReduction_52_1_fca_assign.ipynb",
   "provenance": []
  },
  "hide_input": false,
  "kernelspec": {
   "display_name": "Python 3",
   "language": "python",
   "name": "python3"
  },
  "language_info": {
   "codemirror_mode": {
    "name": "ipython",
    "version": 3
   },
   "file_extension": ".py",
   "mimetype": "text/x-python",
   "name": "python",
   "nbconvert_exporter": "python",
   "pygments_lexer": "ipython3",
   "version": "3.7.3"
  }
 },
 "nbformat": 4,
 "nbformat_minor": 1
}
