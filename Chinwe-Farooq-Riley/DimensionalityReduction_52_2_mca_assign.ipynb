{
  "nbformat": 4,
  "nbformat_minor": 0,
  "metadata": {
    "kernelspec": {
      "display_name": "Python (thinkful)",
      "language": "python",
      "name": "thinkful"
    },
    "language_info": {
      "codemirror_mode": {
        "name": "ipython",
        "version": 3
      },
      "file_extension": ".py",
      "mimetype": "text/x-python",
      "name": "python",
      "nbconvert_exporter": "python",
      "pygments_lexer": "ipython3",
      "version": "3.7.3"
    },
    "colab": {
      "name": "DimensionalityReduction_52_2_mca_assign.ipynb",
      "provenance": [],
      "collapsed_sections": [
        "xbtl7AX-Ktb-",
        "biVZJT94KtcN",
        "YbxHJYG0KtcU",
        "8wboqzAXKtct",
        "gwfrkXM6Ktcv",
        "7UAI_oR_KtdN",
        "NCteXhRFKtdh",
        "e43WN34BKtdm",
        "jL8T8T9-KteA"
      ]
    }
  },
  "cells": [
    {
      "cell_type": "markdown",
      "metadata": {
        "id": "2549x-oTKtbR",
        "colab_type": "text"
      },
      "source": [
        "### Correspondence Analysis Assignment \n",
        "\n",
        "Jay Urbain, PhD\n",
        "\n",
        "Objectives:    \n",
        "- Students can explain factor analysis\n",
        "\n",
        "- Students understand how factor analysis differs from PCA and ICA\n",
        "\n",
        "- Students can identify common use cases for factor analysis\n",
        "\n",
        "- **Students can apply factor analysis to an appropriate dataset (i.e. purely quantitative)**\n",
        "\n",
        "- **Students can explain dimensionality reduction techniques for categorical (MCA) and mixed (FAMD) data**\n",
        "\n",
        "- **Students can apply MCA and FAMD to appropriate datasets**\n",
        "\n",
        "References\n",
        "\n",
        "- Phillip M. Yelland, An Introduction to Correspondence Analysis, The Mathematical Journal, Volume 12   \n",
        "https://www.mathematica-journal.com/2010/09/an-introduction-to-correspondence-analysis/\n",
        "\n",
        "- Theory of Correspondence  Analysis  \n",
        "http://statmath.wu.ac.at/courses/CAandRelMeth/caipA.pdf\n",
        "\n",
        "-  Dr J Maiti, IIT Kharagpur, Mod-01 Lec-41 Correspondence Analysis  \n",
        "https://www.youtube.com/watch?v=jr47E7MZfwY\n",
        "\n",
        "- Wikipedia - Correspondence Analysis  \n",
        "https://en.wikipedia.org/wiki/Correspondence_analysis\n",
        "\n",
        "- Wikipedia - Multiple Correspondence Analysis    \n",
        "https://en.wikipedia.org/wiki/Multiple_correspondence_analysis\n",
        "\n",
        "- Wikipedia Factor Analysis of Mixed Data     \n",
        "https://en.wikipedia.org/wiki/Factor_analysis_of_mixed_data\n",
        "\n",
        "- Prince factor analysis library   \n",
        "https://github.com/MaxHalford/prince\n",
        "\n",
        "- Elena, Introduction to Correspondence Analysis    \n",
        "https://codefying.com/2018/12/21/introduction-to-correspondence-analysis/\n",
        "\n"
      ]
    },
    {
      "cell_type": "markdown",
      "metadata": {
        "id": "ELgJd-T0KtbW",
        "colab_type": "text"
      },
      "source": [
        "### Correspondence Analysis\n",
        "\n",
        "Correspondence analysis (CA) is a data analysis technique for nominal (categorical) data. \n",
        "\n",
        "CA is used to detect and represent underlying structures using cross tabulations of a data set. It does this by representing data as points in a low-dimensional Euclidean space. \n",
        "\n",
        "CA is conceptually similar to principal component analysis, but applies to categorical rather than continuous data.\n",
        "\n",
        "MCA can be viewed as an extension of simple correspondence analysis (CA) in that it is applicable to a large set of categorical variables.\n",
        "\n",
        "CA and MCA provide a means of displaying or summarising a set of data in two-dimensional graphical form.\n"
      ]
    },
    {
      "cell_type": "markdown",
      "metadata": {
        "id": "91GzlXQwKtbX",
        "colab_type": "text"
      },
      "source": [
        "### Introduction\n",
        "\n",
        "CA essentially provides a graphical representation of cross tabulations (cross tabs, or contingency tables). \n",
        "\n",
        "A contingency table is a tabulation of frequencies of how categorical values are distributed by variables. \n",
        "\n",
        "Cross tabulations arise whenever it is possible to place events into two or more different sets of categories, such as product and location for purchases in market research or symptom and treatment in medical testing. \n",
        "\n",
        "An introduction to correspondence analysis is provided in the form of an exercise in textual analysis—identifying the author of a text based on examination of its characters (from Yelland). \n"
      ]
    },
    {
      "cell_type": "code",
      "metadata": {
        "id": "oFgQhd7zKtbY",
        "colab_type": "code",
        "colab": {}
      },
      "source": [
        "%matplotlib inline\n",
        "\n",
        "import pandas as pd\n",
        "import numpy as np\n",
        "import itertools\n",
        "\n",
        "from scipy.stats import chi2_contingency\n",
        "\n",
        "import seaborn as sns; \n",
        "sns.set()\n",
        "import matplotlib.pyplot as plt\n"
      ],
      "execution_count": 0,
      "outputs": []
    },
    {
      "cell_type": "markdown",
      "metadata": {
        "id": "BnESy5ZuKtbc",
        "colab_type": "text"
      },
      "source": [
        "Sample dataset\n",
        "\n",
        "Consider the following list of seventeenth- and eighteenth-century writers.\n"
      ]
    },
    {
      "cell_type": "code",
      "metadata": {
        "id": "t_T2sIKZKtbd",
        "colab_type": "code",
        "colab": {}
      },
      "source": [
        "authors = [\"Charles Darwin\", \"Rene Descartes\",\"Thomas Hobbes\", \"Mary Shelley\", \"Mark Twain\"]\n",
        "initials=['CD1','CD2','CD3','RD1','RD2','RD3','TB1','TB2','TB3','MS1','MS2','MS3','MT1','MT2','MT3']\n",
        "chars=[\"B\", \"C\", \"D\", \"F\", \"G\", \"H\", \"I\", \"L\", \"M\", \"N\",\"P\", \"R\", \"S\", \"U\", \"W\", \"Y\"]"
      ],
      "execution_count": 0,
      "outputs": []
    },
    {
      "cell_type": "code",
      "metadata": {
        "id": "3uoKe6YVKtbj",
        "colab_type": "code",
        "colab": {
          "base_uri": "https://localhost:8080/",
          "height": 281
        },
        "outputId": "e90b4769-022e-4b27-e03d-c37d93fb14e9"
      },
      "source": [
        "authorSamples = list(itertools.chain.from_iterable([[a+\": \"+str(i) for i in [1,2,3]] for a in authors]))\n",
        "authorSamples"
      ],
      "execution_count": 3,
      "outputs": [
        {
          "output_type": "execute_result",
          "data": {
            "text/plain": [
              "['Charles Darwin: 1',\n",
              " 'Charles Darwin: 2',\n",
              " 'Charles Darwin: 3',\n",
              " 'Rene Descartes: 1',\n",
              " 'Rene Descartes: 2',\n",
              " 'Rene Descartes: 3',\n",
              " 'Thomas Hobbes: 1',\n",
              " 'Thomas Hobbes: 2',\n",
              " 'Thomas Hobbes: 3',\n",
              " 'Mary Shelley: 1',\n",
              " 'Mary Shelley: 2',\n",
              " 'Mary Shelley: 3',\n",
              " 'Mark Twain: 1',\n",
              " 'Mark Twain: 2',\n",
              " 'Mark Twain: 3']"
            ]
          },
          "metadata": {
            "tags": []
          },
          "execution_count": 3
        }
      ]
    },
    {
      "cell_type": "markdown",
      "metadata": {
        "id": "CQU4iSHFKtbm",
        "colab_type": "text"
      },
      "source": [
        "The contingency table built from how often these letters appear in three passages per author are shown below. \n",
        "\n",
        "Where rows=authors, and columns=characters.\n",
        "\n",
        "A contingency table is a type of table in a matrix format that displays the (multivariate) frequency distribution of the variables. \n",
        "\n",
        "For example, 'Charles Darwin: 1' uses the character \"B\" 34 times. 'Mark Twain: 3' uses the character \"C\" 17 times."
      ]
    },
    {
      "cell_type": "code",
      "metadata": {
        "id": "wxmvcPWkKtbn",
        "colab_type": "code",
        "colab": {}
      },
      "source": [
        "sampleCrosstab=[[34, 37, 44, 27, 19, 39, 74, 44, 27, 61, 12, 65, 69,22, 14, 21],\n",
        "                [18, 33, 47, 24, 14, 38, 66, 41, 36,72, 15, 62, 63, 31, 12, 18],\n",
        "                [32, 43, 36, 12, 21, 51, 75, 33, 23, 60, 24, 68, 85,18, 13, 14],\n",
        "                [13, 31, 55, 29, 15, 62, 74, 43, 28,73, 8, 59, 54, 32, 19, 20],\n",
        "                [8, 28, 34, 24, 17, 68, 75, 34, 25, 70, 16, 56, 72,31, 14, 11], \n",
        "                [9, 34, 43, 25, 18, 68, 84, 25, 32, 76,14, 69, 64, 27, 11, 18],\n",
        "                [15, 20, 28, 18, 19, 65, 82, 34, 29, 89, 11, 47, 74,18, 22, 17], \n",
        "                [18, 14, 40, 25, 21, 60, 70, 15, 37,80, 15, 65, 68, 21, 25, 9],\n",
        "                [19, 18, 41, 26, 19, 58, 64, 18, 38, 78, 15, 65, 72,20, 20, 11], \n",
        "                [13, 29, 49, 31, 16, 61, 73, 36, 29,69, 13, 63, 58, 18, 20, 25],\n",
        "                [17, 34, 43, 29, 14, 62, 64, 26, 26, 71, 26, 78, 64, 21, 18, 12],\n",
        "                [13, 22, 43, 16, 11, 70, 68, 46, 35,57, 30, 71, 57, 19, 22, 20],\n",
        "                [16, 18, 56, 13, 27, 67, 61, 43, 20, 63, 14, 43, 67,34, 41, 23], \n",
        "                [15, 21, 66, 21, 19, 50, 62, 50, 24, 68, 14, 40, 58, 31, 36, 26],\n",
        "                [19, 17, 70, 12, 28, 53, 72, 39, 22, 71, 11, 40, 67,25, 41, 17]]"
      ],
      "execution_count": 0,
      "outputs": []
    },
    {
      "cell_type": "code",
      "metadata": {
        "id": "011nRX85Ktbq",
        "colab_type": "code",
        "colab": {}
      },
      "source": [
        "dfTableForm = pd.DataFrame(data=np.transpose(sampleCrosstab), columns=authorSamples)"
      ],
      "execution_count": 0,
      "outputs": []
    },
    {
      "cell_type": "code",
      "metadata": {
        "id": "5KnYYKZAKtbt",
        "colab_type": "code",
        "colab": {
          "base_uri": "https://localhost:8080/",
          "height": 237
        },
        "outputId": "b1424d91-492e-4060-e7a2-a9b849730162"
      },
      "source": [
        "dfTableForm.head()"
      ],
      "execution_count": 6,
      "outputs": [
        {
          "output_type": "execute_result",
          "data": {
            "text/html": [
              "<div>\n",
              "<style scoped>\n",
              "    .dataframe tbody tr th:only-of-type {\n",
              "        vertical-align: middle;\n",
              "    }\n",
              "\n",
              "    .dataframe tbody tr th {\n",
              "        vertical-align: top;\n",
              "    }\n",
              "\n",
              "    .dataframe thead th {\n",
              "        text-align: right;\n",
              "    }\n",
              "</style>\n",
              "<table border=\"1\" class=\"dataframe\">\n",
              "  <thead>\n",
              "    <tr style=\"text-align: right;\">\n",
              "      <th></th>\n",
              "      <th>Charles Darwin: 1</th>\n",
              "      <th>Charles Darwin: 2</th>\n",
              "      <th>Charles Darwin: 3</th>\n",
              "      <th>Rene Descartes: 1</th>\n",
              "      <th>Rene Descartes: 2</th>\n",
              "      <th>Rene Descartes: 3</th>\n",
              "      <th>Thomas Hobbes: 1</th>\n",
              "      <th>Thomas Hobbes: 2</th>\n",
              "      <th>Thomas Hobbes: 3</th>\n",
              "      <th>Mary Shelley: 1</th>\n",
              "      <th>Mary Shelley: 2</th>\n",
              "      <th>Mary Shelley: 3</th>\n",
              "      <th>Mark Twain: 1</th>\n",
              "      <th>Mark Twain: 2</th>\n",
              "      <th>Mark Twain: 3</th>\n",
              "    </tr>\n",
              "  </thead>\n",
              "  <tbody>\n",
              "    <tr>\n",
              "      <th>0</th>\n",
              "      <td>34</td>\n",
              "      <td>18</td>\n",
              "      <td>32</td>\n",
              "      <td>13</td>\n",
              "      <td>8</td>\n",
              "      <td>9</td>\n",
              "      <td>15</td>\n",
              "      <td>18</td>\n",
              "      <td>19</td>\n",
              "      <td>13</td>\n",
              "      <td>17</td>\n",
              "      <td>13</td>\n",
              "      <td>16</td>\n",
              "      <td>15</td>\n",
              "      <td>19</td>\n",
              "    </tr>\n",
              "    <tr>\n",
              "      <th>1</th>\n",
              "      <td>37</td>\n",
              "      <td>33</td>\n",
              "      <td>43</td>\n",
              "      <td>31</td>\n",
              "      <td>28</td>\n",
              "      <td>34</td>\n",
              "      <td>20</td>\n",
              "      <td>14</td>\n",
              "      <td>18</td>\n",
              "      <td>29</td>\n",
              "      <td>34</td>\n",
              "      <td>22</td>\n",
              "      <td>18</td>\n",
              "      <td>21</td>\n",
              "      <td>17</td>\n",
              "    </tr>\n",
              "    <tr>\n",
              "      <th>2</th>\n",
              "      <td>44</td>\n",
              "      <td>47</td>\n",
              "      <td>36</td>\n",
              "      <td>55</td>\n",
              "      <td>34</td>\n",
              "      <td>43</td>\n",
              "      <td>28</td>\n",
              "      <td>40</td>\n",
              "      <td>41</td>\n",
              "      <td>49</td>\n",
              "      <td>43</td>\n",
              "      <td>43</td>\n",
              "      <td>56</td>\n",
              "      <td>66</td>\n",
              "      <td>70</td>\n",
              "    </tr>\n",
              "    <tr>\n",
              "      <th>3</th>\n",
              "      <td>27</td>\n",
              "      <td>24</td>\n",
              "      <td>12</td>\n",
              "      <td>29</td>\n",
              "      <td>24</td>\n",
              "      <td>25</td>\n",
              "      <td>18</td>\n",
              "      <td>25</td>\n",
              "      <td>26</td>\n",
              "      <td>31</td>\n",
              "      <td>29</td>\n",
              "      <td>16</td>\n",
              "      <td>13</td>\n",
              "      <td>21</td>\n",
              "      <td>12</td>\n",
              "    </tr>\n",
              "    <tr>\n",
              "      <th>4</th>\n",
              "      <td>19</td>\n",
              "      <td>14</td>\n",
              "      <td>21</td>\n",
              "      <td>15</td>\n",
              "      <td>17</td>\n",
              "      <td>18</td>\n",
              "      <td>19</td>\n",
              "      <td>21</td>\n",
              "      <td>19</td>\n",
              "      <td>16</td>\n",
              "      <td>14</td>\n",
              "      <td>11</td>\n",
              "      <td>27</td>\n",
              "      <td>19</td>\n",
              "      <td>28</td>\n",
              "    </tr>\n",
              "  </tbody>\n",
              "</table>\n",
              "</div>"
            ],
            "text/plain": [
              "   Charles Darwin: 1  Charles Darwin: 2  ...  Mark Twain: 2  Mark Twain: 3\n",
              "0                 34                 18  ...             15             19\n",
              "1                 37                 33  ...             21             17\n",
              "2                 44                 47  ...             66             70\n",
              "3                 27                 24  ...             21             12\n",
              "4                 19                 14  ...             19             28\n",
              "\n",
              "[5 rows x 15 columns]"
            ]
          },
          "metadata": {
            "tags": []
          },
          "execution_count": 6
        }
      ]
    },
    {
      "cell_type": "markdown",
      "metadata": {
        "id": "5nHFy_BOKtbw",
        "colab_type": "text"
      },
      "source": [
        "Can you spot patterns in the use of letters by author in the cross tab?\n",
        "\n",
        "Very difficult, so CA uses the $\\chi^2$ statistic.\n",
        "\n"
      ]
    },
    {
      "cell_type": "markdown",
      "metadata": {
        "id": "mJ3TYX6OKtbx",
        "colab_type": "text"
      },
      "source": [
        "### Chi-Squared Statistic and Chi-Squared Distances\n",
        "\n",
        "Pearson's chi-squared test ($\\chi^2$) is a independence test applied to sets of categorical data to evaluate how likely it is that any observed difference between the sets arose by chance. \n",
        "\n",
        "The $\\chi^2$  test we can be used to say with reasonable certainty if the distribution of letters differs from one author to another. $\\chi^2$  is defined as.\n",
        "\n",
        "$$\n",
        "\\chi^2 = \\sum_I \\sum_J \\dfrac{\\left(n_{ij} - \\left(\\dfrac{n_i n_j}{n}\\right)\\right)^2}  {\\dfrac{n_i n_j}{n}}\n",
        "$$\n",
        "\n",
        "Where $n$ is the total number of frequencies, $n_{ij}$  is the letter frequency in row $i$  and column $j$ , and $n_{i}$  and $n_{j}$  are the total frequencies in row $i$  and column $j$  respectively. \n",
        "\n",
        "The product of $n_{i}$  and $n_{j}$ are normalized by $n$ is the expected frequency for $n_{ij}$  under the independence assumption. This is called the  `independence model`. \n",
        "\n",
        "The greater the value for $\\chi^2$, the greater is the certainty that the use of these letters is different by author. \n"
      ]
    },
    {
      "cell_type": "markdown",
      "metadata": {
        "id": "uSXqOy9fKtby",
        "colab_type": "text"
      },
      "source": [
        "#### Calculate Chi-Squared Statistic\n"
      ]
    },
    {
      "cell_type": "code",
      "metadata": {
        "id": "DpitXsDDKtbz",
        "colab_type": "code",
        "colab": {
          "base_uri": "https://localhost:8080/",
          "height": 932
        },
        "outputId": "810f2ade-53c4-4beb-8a71-eb69c1788451"
      },
      "source": [
        "grandTotal = np.sum(sampleCrosstab)\n",
        "print('grandTotal', grandTotal)\n",
        "\n",
        "correspondenceMatrix = np.divide(sampleCrosstab,grandTotal)\n",
        "print('correspondenceMatrix', correspondenceMatrix)\n",
        "\n",
        "rowTotals = np.sum(correspondenceMatrix, axis=1)\n",
        "print('rowTotals', rowTotals)\n",
        "\n",
        "columnTotals = np.sum(correspondenceMatrix, axis=0)\n",
        "print('columnTotals', columnTotals)"
      ],
      "execution_count": 7,
      "outputs": [
        {
          "output_type": "stream",
          "text": [
            "grandTotal 8994\n",
            "correspondenceMatrix [[0.0037803  0.00411385 0.00489215 0.003002   0.00211252 0.00433622\n",
            "  0.00822771 0.00489215 0.003002   0.0067823  0.00133422 0.00722704\n",
            "  0.00767178 0.00244608 0.00155659 0.00233489]\n",
            " [0.00200133 0.00366911 0.00522571 0.00266845 0.00155659 0.00422504\n",
            "  0.00733823 0.00455859 0.00400267 0.00800534 0.00166778 0.00689348\n",
            "  0.00700467 0.00344674 0.00133422 0.00200133]\n",
            " [0.00355793 0.00478097 0.00400267 0.00133422 0.00233489 0.00567045\n",
            "  0.00833889 0.00366911 0.00255726 0.00667111 0.00266845 0.0075606\n",
            "  0.00945074 0.00200133 0.00144541 0.00155659]\n",
            " [0.00144541 0.00344674 0.00611519 0.00322437 0.00166778 0.00689348\n",
            "  0.00822771 0.00478097 0.00311319 0.00811652 0.00088948 0.00655993\n",
            "  0.006004   0.00355793 0.00211252 0.0022237 ]\n",
            " [0.00088948 0.00311319 0.0037803  0.00266845 0.00189015 0.0075606\n",
            "  0.00833889 0.0037803  0.00277963 0.00778297 0.00177896 0.00622637\n",
            "  0.00800534 0.00344674 0.00155659 0.00122304]\n",
            " [0.00100067 0.0037803  0.00478097 0.00277963 0.00200133 0.0075606\n",
            "  0.00933956 0.00277963 0.00355793 0.00845008 0.00155659 0.00767178\n",
            "  0.00711586 0.003002   0.00122304 0.00200133]\n",
            " [0.00166778 0.0022237  0.00311319 0.00200133 0.00211252 0.00722704\n",
            "  0.00911719 0.0037803  0.00322437 0.00989549 0.00122304 0.00522571\n",
            "  0.00822771 0.00200133 0.00244608 0.00189015]\n",
            " [0.00200133 0.00155659 0.00444741 0.00277963 0.00233489 0.00667111\n",
            "  0.00778297 0.00166778 0.00411385 0.00889482 0.00166778 0.00722704\n",
            "  0.0075606  0.00233489 0.00277963 0.00100067]\n",
            " [0.00211252 0.00200133 0.00455859 0.00289082 0.00211252 0.00644874\n",
            "  0.00711586 0.00200133 0.00422504 0.00867245 0.00166778 0.00722704\n",
            "  0.00800534 0.0022237  0.0022237  0.00122304]\n",
            " [0.00144541 0.00322437 0.00544808 0.00344674 0.00177896 0.0067823\n",
            "  0.00811652 0.00400267 0.00322437 0.00767178 0.00144541 0.00700467\n",
            "  0.00644874 0.00200133 0.0022237  0.00277963]\n",
            " [0.00189015 0.0037803  0.00478097 0.00322437 0.00155659 0.00689348\n",
            "  0.00711586 0.00289082 0.00289082 0.00789415 0.00289082 0.00867245\n",
            "  0.00711586 0.00233489 0.00200133 0.00133422]\n",
            " [0.00144541 0.00244608 0.00478097 0.00177896 0.00122304 0.00778297\n",
            "  0.0075606  0.00511452 0.00389148 0.00633756 0.00333556 0.00789415\n",
            "  0.00633756 0.00211252 0.00244608 0.0022237 ]\n",
            " [0.00177896 0.00200133 0.00622637 0.00144541 0.003002   0.00744941\n",
            "  0.0067823  0.00478097 0.0022237  0.00700467 0.00155659 0.00478097\n",
            "  0.00744941 0.0037803  0.00455859 0.00255726]\n",
            " [0.00166778 0.00233489 0.00733823 0.00233489 0.00211252 0.00555926\n",
            "  0.00689348 0.00555926 0.00266845 0.0075606  0.00155659 0.00444741\n",
            "  0.00644874 0.00344674 0.00400267 0.00289082]\n",
            " [0.00211252 0.00189015 0.00778297 0.00133422 0.00311319 0.00589282\n",
            "  0.00800534 0.00433622 0.00244608 0.00789415 0.00122304 0.00444741\n",
            "  0.00744941 0.00277963 0.00455859 0.00189015]]\n",
            "rowTotals [0.06771181 0.06559929 0.06760062 0.06837892 0.06482099 0.06860129\n",
            " 0.06537692 0.06482099 0.06470981 0.0670447  0.06726707 0.06671114\n",
            " 0.06737825 0.06682233 0.06715588]\n",
            "columnTotals [0.02879698 0.04436291 0.07727374 0.0369135  0.0309095  0.09695352\n",
            " 0.11830109 0.05859462 0.04792084 0.11763398 0.02646209 0.09906604\n",
            " 0.11029575 0.04091617 0.03646876 0.02913053]\n"
          ],
          "name": "stdout"
        }
      ]
    },
    {
      "cell_type": "code",
      "metadata": {
        "id": "JS08mGGwKtb2",
        "colab_type": "code",
        "colab": {}
      },
      "source": [
        "# Compute the outer product of two vectors.\n",
        "# https://docs.scipy.org/doc/numpy/reference/generated/numpy.outer.html\n",
        "\n",
        "independenceModel = np.outer(rowTotals, columnTotals)"
      ],
      "execution_count": 0,
      "outputs": []
    },
    {
      "cell_type": "code",
      "metadata": {
        "id": "NVNx4RA3Ktb5",
        "colab_type": "code",
        "colab": {
          "base_uri": "https://localhost:8080/",
          "height": 35
        },
        "outputId": "ecbe2d99-5073-41ab-d76a-9a47876edbf9"
      },
      "source": [
        "chiSquaredStatistic = grandTotal*np.sum(np.square(correspondenceMatrix-independenceModel)/independenceModel)\n",
        "print(chiSquaredStatistic)"
      ],
      "execution_count": 9,
      "outputs": [
        {
          "output_type": "stream",
          "text": [
            "448.49666422103445\n"
          ],
          "name": "stdout"
        }
      ]
    },
    {
      "cell_type": "code",
      "metadata": {
        "id": "BWNqRnV-Ktb8",
        "colab_type": "code",
        "colab": {
          "base_uri": "https://localhost:8080/",
          "height": 52
        },
        "outputId": "720be464-8aee-42b8-e8e6-80cfbaf3e608"
      },
      "source": [
        "# Quick check - compare to scipy Chi-Squared test\n",
        "statistic, prob, dof, ex = chi2_contingency(sampleCrosstab)\n",
        "print(statistic)\n",
        "print(np.round(prob, decimals=2))"
      ],
      "execution_count": 10,
      "outputs": [
        {
          "output_type": "stream",
          "text": [
            "448.49666422103445\n",
            "0.0\n"
          ],
          "name": "stdout"
        }
      ]
    },
    {
      "cell_type": "markdown",
      "metadata": {
        "id": "xbtl7AX-Ktb-",
        "colab_type": "text"
      },
      "source": [
        "#### Calculating Chi-Squared Distances"
      ]
    },
    {
      "cell_type": "markdown",
      "metadata": {
        "id": "S6sOFmd3Ktb_",
        "colab_type": "text"
      },
      "source": [
        "The correspondenceMatrix holds normalized frequencies. \n",
        "\n",
        "The $\\chi^2$ statistic is $448.50$ for the contigency table, which is very unlikely to be observed under the null hypothesis (that the letter frequencies follow the same distribution). \n",
        "\n",
        "Having established this, we can continue with the CA as we now know that it should be able to show us some meaningful associations.\n",
        "\n",
        "For the purposes of CA, the differences between the distributions of letters in the text samples are measured by $\\chi^2$ distances, which are weighted Euclidean distances between normalized rows. \n",
        "\n",
        "These are calculated by dividing row entries by their respective row totals. The weights are inversely proportional to the square roots of the column totals. \n",
        "\n",
        "$\\chi^2$-distances between row $i$ and row $k$ are defined as:\n",
        "\n",
        "$$\n",
        "\\chi_{distance_{ik}}^2 = \\sqrt{\\sum_J \\dfrac{ (p_{ij}/p_i - p_{kj}/p_k)^2} {p_j} }\n",
        "$$"
      ]
    },
    {
      "cell_type": "code",
      "metadata": {
        "id": "UmPp3YkAKtcA",
        "colab_type": "code",
        "colab": {}
      },
      "source": [
        "# pre-calculate normalised rows\n",
        "norm_correspondenceMatrix = np.divide(correspondenceMatrix,rowTotals[:, None])"
      ],
      "execution_count": 0,
      "outputs": []
    },
    {
      "cell_type": "code",
      "metadata": {
        "id": "EB5tt0CYKtcD",
        "colab_type": "code",
        "colab": {}
      },
      "source": [
        "chiSquaredDistances = np.zeros((correspondenceMatrix.shape[0],correspondenceMatrix.shape[0]))\n",
        "\n",
        "norm_columnTotals = np.sum(norm_correspondenceMatrix, axis=0)\n",
        "for row in range(correspondenceMatrix.shape[0]):\n",
        "    chiSquaredDistances[row]=np.sqrt(np.sum(np.square(norm_correspondenceMatrix\n",
        "                                -norm_correspondenceMatrix[row])/columnTotals, axis=1))"
      ],
      "execution_count": 0,
      "outputs": []
    },
    {
      "cell_type": "code",
      "metadata": {
        "id": "lfpVv4isKtcG",
        "colab_type": "code",
        "colab": {}
      },
      "source": [
        "dfchiSquaredDistances = pd.DataFrame(data=np.round(chiSquaredDistances*100).astype(int), columns=authorSamples)"
      ],
      "execution_count": 0,
      "outputs": []
    },
    {
      "cell_type": "code",
      "metadata": {
        "scrolled": true,
        "id": "HAsoASQfKtcK",
        "colab_type": "code",
        "colab": {
          "base_uri": "https://localhost:8080/",
          "height": 545
        },
        "outputId": "c018c950-08f7-4991-d927-e0b5cbb42901"
      },
      "source": [
        "dfchiSquaredDistances"
      ],
      "execution_count": 14,
      "outputs": [
        {
          "output_type": "execute_result",
          "data": {
            "text/html": [
              "<div>\n",
              "<style scoped>\n",
              "    .dataframe tbody tr th:only-of-type {\n",
              "        vertical-align: middle;\n",
              "    }\n",
              "\n",
              "    .dataframe tbody tr th {\n",
              "        vertical-align: top;\n",
              "    }\n",
              "\n",
              "    .dataframe thead th {\n",
              "        text-align: right;\n",
              "    }\n",
              "</style>\n",
              "<table border=\"1\" class=\"dataframe\">\n",
              "  <thead>\n",
              "    <tr style=\"text-align: right;\">\n",
              "      <th></th>\n",
              "      <th>Charles Darwin: 1</th>\n",
              "      <th>Charles Darwin: 2</th>\n",
              "      <th>Charles Darwin: 3</th>\n",
              "      <th>Rene Descartes: 1</th>\n",
              "      <th>Rene Descartes: 2</th>\n",
              "      <th>Rene Descartes: 3</th>\n",
              "      <th>Thomas Hobbes: 1</th>\n",
              "      <th>Thomas Hobbes: 2</th>\n",
              "      <th>Thomas Hobbes: 3</th>\n",
              "      <th>Mary Shelley: 1</th>\n",
              "      <th>Mary Shelley: 2</th>\n",
              "      <th>Mary Shelley: 3</th>\n",
              "      <th>Mark Twain: 1</th>\n",
              "      <th>Mark Twain: 2</th>\n",
              "      <th>Mark Twain: 3</th>\n",
              "    </tr>\n",
              "  </thead>\n",
              "  <tbody>\n",
              "    <tr>\n",
              "      <th>0</th>\n",
              "      <td>0</td>\n",
              "      <td>21</td>\n",
              "      <td>24</td>\n",
              "      <td>29</td>\n",
              "      <td>35</td>\n",
              "      <td>33</td>\n",
              "      <td>36</td>\n",
              "      <td>39</td>\n",
              "      <td>34</td>\n",
              "      <td>27</td>\n",
              "      <td>31</td>\n",
              "      <td>38</td>\n",
              "      <td>43</td>\n",
              "      <td>38</td>\n",
              "      <td>42</td>\n",
              "    </tr>\n",
              "    <tr>\n",
              "      <th>1</th>\n",
              "      <td>21</td>\n",
              "      <td>0</td>\n",
              "      <td>32</td>\n",
              "      <td>20</td>\n",
              "      <td>26</td>\n",
              "      <td>24</td>\n",
              "      <td>32</td>\n",
              "      <td>33</td>\n",
              "      <td>28</td>\n",
              "      <td>23</td>\n",
              "      <td>26</td>\n",
              "      <td>31</td>\n",
              "      <td>40</td>\n",
              "      <td>33</td>\n",
              "      <td>41</td>\n",
              "    </tr>\n",
              "    <tr>\n",
              "      <th>2</th>\n",
              "      <td>24</td>\n",
              "      <td>32</td>\n",
              "      <td>0</td>\n",
              "      <td>40</td>\n",
              "      <td>34</td>\n",
              "      <td>35</td>\n",
              "      <td>37</td>\n",
              "      <td>39</td>\n",
              "      <td>35</td>\n",
              "      <td>37</td>\n",
              "      <td>29</td>\n",
              "      <td>37</td>\n",
              "      <td>46</td>\n",
              "      <td>48</td>\n",
              "      <td>47</td>\n",
              "    </tr>\n",
              "    <tr>\n",
              "      <th>3</th>\n",
              "      <td>29</td>\n",
              "      <td>20</td>\n",
              "      <td>40</td>\n",
              "      <td>0</td>\n",
              "      <td>22</td>\n",
              "      <td>21</td>\n",
              "      <td>29</td>\n",
              "      <td>33</td>\n",
              "      <td>30</td>\n",
              "      <td>15</td>\n",
              "      <td>29</td>\n",
              "      <td>32</td>\n",
              "      <td>32</td>\n",
              "      <td>26</td>\n",
              "      <td>35</td>\n",
              "    </tr>\n",
              "    <tr>\n",
              "      <th>4</th>\n",
              "      <td>35</td>\n",
              "      <td>26</td>\n",
              "      <td>34</td>\n",
              "      <td>22</td>\n",
              "      <td>0</td>\n",
              "      <td>16</td>\n",
              "      <td>23</td>\n",
              "      <td>28</td>\n",
              "      <td>26</td>\n",
              "      <td>24</td>\n",
              "      <td>24</td>\n",
              "      <td>30</td>\n",
              "      <td>37</td>\n",
              "      <td>38</td>\n",
              "      <td>41</td>\n",
              "    </tr>\n",
              "    <tr>\n",
              "      <th>5</th>\n",
              "      <td>33</td>\n",
              "      <td>24</td>\n",
              "      <td>35</td>\n",
              "      <td>21</td>\n",
              "      <td>16</td>\n",
              "      <td>0</td>\n",
              "      <td>26</td>\n",
              "      <td>27</td>\n",
              "      <td>24</td>\n",
              "      <td>19</td>\n",
              "      <td>22</td>\n",
              "      <td>31</td>\n",
              "      <td>42</td>\n",
              "      <td>41</td>\n",
              "      <td>43</td>\n",
              "    </tr>\n",
              "    <tr>\n",
              "      <th>6</th>\n",
              "      <td>36</td>\n",
              "      <td>32</td>\n",
              "      <td>37</td>\n",
              "      <td>29</td>\n",
              "      <td>23</td>\n",
              "      <td>26</td>\n",
              "      <td>0</td>\n",
              "      <td>25</td>\n",
              "      <td>24</td>\n",
              "      <td>26</td>\n",
              "      <td>33</td>\n",
              "      <td>34</td>\n",
              "      <td>35</td>\n",
              "      <td>37</td>\n",
              "      <td>36</td>\n",
              "    </tr>\n",
              "    <tr>\n",
              "      <th>7</th>\n",
              "      <td>39</td>\n",
              "      <td>33</td>\n",
              "      <td>39</td>\n",
              "      <td>33</td>\n",
              "      <td>28</td>\n",
              "      <td>27</td>\n",
              "      <td>25</td>\n",
              "      <td>0</td>\n",
              "      <td>8</td>\n",
              "      <td>29</td>\n",
              "      <td>26</td>\n",
              "      <td>35</td>\n",
              "      <td>39</td>\n",
              "      <td>41</td>\n",
              "      <td>37</td>\n",
              "    </tr>\n",
              "    <tr>\n",
              "      <th>8</th>\n",
              "      <td>34</td>\n",
              "      <td>28</td>\n",
              "      <td>35</td>\n",
              "      <td>30</td>\n",
              "      <td>26</td>\n",
              "      <td>24</td>\n",
              "      <td>24</td>\n",
              "      <td>8</td>\n",
              "      <td>0</td>\n",
              "      <td>26</td>\n",
              "      <td>23</td>\n",
              "      <td>33</td>\n",
              "      <td>40</td>\n",
              "      <td>41</td>\n",
              "      <td>39</td>\n",
              "    </tr>\n",
              "    <tr>\n",
              "      <th>9</th>\n",
              "      <td>27</td>\n",
              "      <td>23</td>\n",
              "      <td>37</td>\n",
              "      <td>15</td>\n",
              "      <td>24</td>\n",
              "      <td>19</td>\n",
              "      <td>26</td>\n",
              "      <td>29</td>\n",
              "      <td>26</td>\n",
              "      <td>0</td>\n",
              "      <td>23</td>\n",
              "      <td>27</td>\n",
              "      <td>35</td>\n",
              "      <td>29</td>\n",
              "      <td>36</td>\n",
              "    </tr>\n",
              "    <tr>\n",
              "      <th>10</th>\n",
              "      <td>31</td>\n",
              "      <td>26</td>\n",
              "      <td>29</td>\n",
              "      <td>29</td>\n",
              "      <td>24</td>\n",
              "      <td>22</td>\n",
              "      <td>33</td>\n",
              "      <td>26</td>\n",
              "      <td>23</td>\n",
              "      <td>23</td>\n",
              "      <td>0</td>\n",
              "      <td>26</td>\n",
              "      <td>43</td>\n",
              "      <td>42</td>\n",
              "      <td>45</td>\n",
              "    </tr>\n",
              "    <tr>\n",
              "      <th>11</th>\n",
              "      <td>38</td>\n",
              "      <td>31</td>\n",
              "      <td>37</td>\n",
              "      <td>32</td>\n",
              "      <td>30</td>\n",
              "      <td>31</td>\n",
              "      <td>34</td>\n",
              "      <td>35</td>\n",
              "      <td>33</td>\n",
              "      <td>27</td>\n",
              "      <td>26</td>\n",
              "      <td>0</td>\n",
              "      <td>38</td>\n",
              "      <td>36</td>\n",
              "      <td>42</td>\n",
              "    </tr>\n",
              "    <tr>\n",
              "      <th>12</th>\n",
              "      <td>43</td>\n",
              "      <td>40</td>\n",
              "      <td>46</td>\n",
              "      <td>32</td>\n",
              "      <td>37</td>\n",
              "      <td>42</td>\n",
              "      <td>35</td>\n",
              "      <td>39</td>\n",
              "      <td>40</td>\n",
              "      <td>35</td>\n",
              "      <td>43</td>\n",
              "      <td>38</td>\n",
              "      <td>0</td>\n",
              "      <td>18</td>\n",
              "      <td>17</td>\n",
              "    </tr>\n",
              "    <tr>\n",
              "      <th>13</th>\n",
              "      <td>38</td>\n",
              "      <td>33</td>\n",
              "      <td>48</td>\n",
              "      <td>26</td>\n",
              "      <td>38</td>\n",
              "      <td>41</td>\n",
              "      <td>37</td>\n",
              "      <td>41</td>\n",
              "      <td>41</td>\n",
              "      <td>29</td>\n",
              "      <td>42</td>\n",
              "      <td>36</td>\n",
              "      <td>18</td>\n",
              "      <td>0</td>\n",
              "      <td>20</td>\n",
              "    </tr>\n",
              "    <tr>\n",
              "      <th>14</th>\n",
              "      <td>42</td>\n",
              "      <td>41</td>\n",
              "      <td>47</td>\n",
              "      <td>35</td>\n",
              "      <td>41</td>\n",
              "      <td>43</td>\n",
              "      <td>36</td>\n",
              "      <td>37</td>\n",
              "      <td>39</td>\n",
              "      <td>36</td>\n",
              "      <td>45</td>\n",
              "      <td>42</td>\n",
              "      <td>17</td>\n",
              "      <td>20</td>\n",
              "      <td>0</td>\n",
              "    </tr>\n",
              "  </tbody>\n",
              "</table>\n",
              "</div>"
            ],
            "text/plain": [
              "    Charles Darwin: 1  Charles Darwin: 2  ...  Mark Twain: 2  Mark Twain: 3\n",
              "0                   0                 21  ...             38             42\n",
              "1                  21                  0  ...             33             41\n",
              "2                  24                 32  ...             48             47\n",
              "3                  29                 20  ...             26             35\n",
              "4                  35                 26  ...             38             41\n",
              "5                  33                 24  ...             41             43\n",
              "6                  36                 32  ...             37             36\n",
              "7                  39                 33  ...             41             37\n",
              "8                  34                 28  ...             41             39\n",
              "9                  27                 23  ...             29             36\n",
              "10                 31                 26  ...             42             45\n",
              "11                 38                 31  ...             36             42\n",
              "12                 43                 40  ...             18             17\n",
              "13                 38                 33  ...              0             20\n",
              "14                 42                 41  ...             20              0\n",
              "\n",
              "[15 rows x 15 columns]"
            ]
          },
          "metadata": {
            "tags": []
          },
          "execution_count": 14
        }
      ]
    },
    {
      "cell_type": "markdown",
      "metadata": {
        "id": "biVZJT94KtcN",
        "colab_type": "text"
      },
      "source": [
        "#### Chi-Squared Distances in Graphical Form\n",
        "\n",
        "CA provides a means of representing a table of $\\chi^2$-distances in a graphical form. This is where the similarity with the PCA analysis comes in. \n",
        "\n",
        "To calculate such representation we need to transform the distances to points in a Cartesian coordinate system. This is achieved by a singular value decomposition (SVD) of a matrix of standardized residuals.\n",
        "\n",
        "$$\n",
        "\\Omega = \\frac{p_{ij}-\\mu_{ij}}{\\sqrt{\\mu_{ij}}}  \n",
        "$$"
      ]
    },
    {
      "cell_type": "code",
      "metadata": {
        "id": "Su4xE6aaKtcO",
        "colab_type": "code",
        "colab": {}
      },
      "source": [
        "standardizedResiduals = np.divide((correspondenceMatrix-independenceModel),\n",
        "                                  np.sqrt(independenceModel))"
      ],
      "execution_count": 0,
      "outputs": []
    },
    {
      "cell_type": "code",
      "metadata": {
        "id": "tsHllGdiKtcR",
        "colab_type": "code",
        "colab": {}
      },
      "source": [
        "\n",
        "u,s,vh = np.linalg.svd(standardizedResiduals, full_matrices=False)"
      ],
      "execution_count": 0,
      "outputs": []
    },
    {
      "cell_type": "code",
      "metadata": {
        "id": "iUXQUzCzNK5k",
        "colab_type": "code",
        "colab": {}
      },
      "source": [
        "u,s,vh"
      ],
      "execution_count": 0,
      "outputs": []
    },
    {
      "cell_type": "markdown",
      "metadata": {
        "id": "YbxHJYG0KtcU",
        "colab_type": "text"
      },
      "source": [
        "#### Calculating Row Scores\n",
        "\n",
        "We are after the row scores, which are coordinates of points in a high-dimensional space (14 dimensions in this case). \n",
        "\n",
        "These points are arranged so that the Euclidean distance between two points is equal to the $\\chi^2$-distance between the two rows to which they correspond. The row scores are defined as:\n",
        "\n",
        "$$R = \\delta_{r}\\cdot U\\cdot S $$\n",
        "\n",
        "where $U$ and $S$ are the left singular vectors matrix and singular values on the diagonal matrix from SVD. The $\\delta_{r}$  is diagonal matrix made of the reciprocals of the square roots of the row totals.\n"
      ]
    },
    {
      "cell_type": "code",
      "metadata": {
        "id": "Fxu48jpJKtcV",
        "colab_type": "code",
        "colab": {}
      },
      "source": [
        "deltaR = np.diag(np.divide(1.0,np.sqrt(rowTotals)))"
      ],
      "execution_count": 0,
      "outputs": []
    },
    {
      "cell_type": "code",
      "metadata": {
        "id": "pWExgJt3Ktcb",
        "colab_type": "code",
        "colab": {}
      },
      "source": [
        "rowScores=np.dot(np.dot(deltaR,u),np.diag(s))"
      ],
      "execution_count": 0,
      "outputs": []
    },
    {
      "cell_type": "code",
      "metadata": {
        "id": "zIoGV25_Ktcj",
        "colab_type": "code",
        "colab": {}
      },
      "source": [
        "dfFirstTwoComponents = pd.DataFrame(data=[l[0:2] for l in rowScores], \n",
        "                                    columns=['X', 'Y'], index=initials)"
      ],
      "execution_count": 0,
      "outputs": []
    },
    {
      "cell_type": "markdown",
      "metadata": {
        "id": "4QsEJ8j0Ktcl",
        "colab_type": "text"
      },
      "source": [
        "Extracting the first two components"
      ]
    },
    {
      "cell_type": "code",
      "metadata": {
        "id": "80z4VMTEKtcn",
        "colab_type": "code",
        "colab": {
          "base_uri": "https://localhost:8080/",
          "height": 511
        },
        "outputId": "4aac2d29-e1c6-4d5b-c5bd-2c2553012814"
      },
      "source": [
        "dfFirstTwoComponents"
      ],
      "execution_count": 21,
      "outputs": [
        {
          "output_type": "execute_result",
          "data": {
            "text/html": [
              "<div>\n",
              "<style scoped>\n",
              "    .dataframe tbody tr th:only-of-type {\n",
              "        vertical-align: middle;\n",
              "    }\n",
              "\n",
              "    .dataframe tbody tr th {\n",
              "        vertical-align: top;\n",
              "    }\n",
              "\n",
              "    .dataframe thead th {\n",
              "        text-align: right;\n",
              "    }\n",
              "</style>\n",
              "<table border=\"1\" class=\"dataframe\">\n",
              "  <thead>\n",
              "    <tr style=\"text-align: right;\">\n",
              "      <th></th>\n",
              "      <th>X</th>\n",
              "      <th>Y</th>\n",
              "    </tr>\n",
              "  </thead>\n",
              "  <tbody>\n",
              "    <tr>\n",
              "      <th>CD1</th>\n",
              "      <td>-0.070977</td>\n",
              "      <td>0.200620</td>\n",
              "    </tr>\n",
              "    <tr>\n",
              "      <th>CD2</th>\n",
              "      <td>-0.062109</td>\n",
              "      <td>0.094512</td>\n",
              "    </tr>\n",
              "    <tr>\n",
              "      <th>CD3</th>\n",
              "      <td>-0.148509</td>\n",
              "      <td>0.158889</td>\n",
              "    </tr>\n",
              "    <tr>\n",
              "      <th>RD1</th>\n",
              "      <td>0.030697</td>\n",
              "      <td>0.019028</td>\n",
              "    </tr>\n",
              "    <tr>\n",
              "      <th>RD2</th>\n",
              "      <td>-0.069552</td>\n",
              "      <td>-0.068382</td>\n",
              "    </tr>\n",
              "    <tr>\n",
              "      <th>RD3</th>\n",
              "      <td>-0.115119</td>\n",
              "      <td>-0.063805</td>\n",
              "    </tr>\n",
              "    <tr>\n",
              "      <th>TB1</th>\n",
              "      <td>-0.006890</td>\n",
              "      <td>-0.103594</td>\n",
              "    </tr>\n",
              "    <tr>\n",
              "      <th>TB2</th>\n",
              "      <td>-0.053382</td>\n",
              "      <td>-0.170423</td>\n",
              "    </tr>\n",
              "    <tr>\n",
              "      <th>TB3</th>\n",
              "      <td>-0.083822</td>\n",
              "      <td>-0.121758</td>\n",
              "    </tr>\n",
              "    <tr>\n",
              "      <th>MS1</th>\n",
              "      <td>-0.016408</td>\n",
              "      <td>0.001383</td>\n",
              "    </tr>\n",
              "    <tr>\n",
              "      <th>MS2</th>\n",
              "      <td>-0.143838</td>\n",
              "      <td>-0.010875</td>\n",
              "    </tr>\n",
              "    <tr>\n",
              "      <th>MS3</th>\n",
              "      <td>-0.029819</td>\n",
              "      <td>0.005454</td>\n",
              "    </tr>\n",
              "    <tr>\n",
              "      <th>MT1</th>\n",
              "      <td>0.256214</td>\n",
              "      <td>-0.009194</td>\n",
              "    </tr>\n",
              "    <tr>\n",
              "      <th>MT2</th>\n",
              "      <td>0.243356</td>\n",
              "      <td>0.059730</td>\n",
              "    </tr>\n",
              "    <tr>\n",
              "      <th>MT3</th>\n",
              "      <td>0.265072</td>\n",
              "      <td>-0.006179</td>\n",
              "    </tr>\n",
              "  </tbody>\n",
              "</table>\n",
              "</div>"
            ],
            "text/plain": [
              "            X         Y\n",
              "CD1 -0.070977  0.200620\n",
              "CD2 -0.062109  0.094512\n",
              "CD3 -0.148509  0.158889\n",
              "RD1  0.030697  0.019028\n",
              "RD2 -0.069552 -0.068382\n",
              "RD3 -0.115119 -0.063805\n",
              "TB1 -0.006890 -0.103594\n",
              "TB2 -0.053382 -0.170423\n",
              "TB3 -0.083822 -0.121758\n",
              "MS1 -0.016408  0.001383\n",
              "MS2 -0.143838 -0.010875\n",
              "MS3 -0.029819  0.005454\n",
              "MT1  0.256214 -0.009194\n",
              "MT2  0.243356  0.059730\n",
              "MT3  0.265072 -0.006179"
            ]
          },
          "metadata": {
            "tags": []
          },
          "execution_count": 21
        }
      ]
    },
    {
      "cell_type": "code",
      "metadata": {
        "id": "AFsAR-beKtcp",
        "colab_type": "code",
        "colab": {
          "base_uri": "https://localhost:8080/",
          "height": 285
        },
        "outputId": "fa23c573-32c1-4660-8904-5c1b83e8e0e6"
      },
      "source": [
        "ax = sns.scatterplot(data=dfFirstTwoComponents,x='X', y='Y', hue=initials)\n",
        "ax.axhline(y=0, color='k')\n",
        "ax.axvline(x=0, color='k')\n",
        "ax.get_legend().set_visible(False)\n",
        "\n",
        "for label in initials:\n",
        "    plt.annotate(label, \n",
        "                 (dfFirstTwoComponents.loc[label,:]['X'],\n",
        "                  dfFirstTwoComponents.loc[label,:]['Y']),\n",
        "                 horizontalalignment='center', verticalalignment='center',size=11)"
      ],
      "execution_count": 22,
      "outputs": [
        {
          "output_type": "display_data",
          "data": {
            "image/png": "[encoded data removed]",
            "text/plain": [
              "<Figure size 432x288 with 1 Axes>"
            ]
          },
          "metadata": {
            "tags": []
          }
        }
      ]
    },
    {
      "cell_type": "markdown",
      "metadata": {
        "id": "xw4wB9P8Ktcs",
        "colab_type": "text"
      },
      "source": [
        "The plot clearly shows letters associations by author. Mark Twain and Charles Darwin’s samples stand out as significantly different from the rest."
      ]
    },
    {
      "cell_type": "markdown",
      "metadata": {
        "id": "8wboqzAXKtct",
        "colab_type": "text"
      },
      "source": [
        "### Prince\n",
        "\n",
        "Prince is a library for doing factor analysis. This includes a variety of methods including principal component analysis (PCA) and correspondence analysis (CA), multiple correspondence analysis (MCA), multiple factor analyis (MFA), and Factor analysis of mixed data (FAMD). \n",
        "\n",
        "The goal of the Prince library is to provide an efficient implementation for each algorithm along with a scikit-learn API.\n",
        "\n",
        "Each estimator provided by prince extends scikit-learn's `TransformerMixin`. This means that each estimator implements a fit and a transform method which makes them usable in a transformation pipeline. \n",
        "\n",
        "Prince uses a randomised version of `SVD` for all methods. So if you want reproducible results then you should set the random_state parameter.\n",
        "\n",
        "Because each of Prince's algorithms use SVD, they all possess a `n_iter` parameter which controls the number of iterations used for computing the `SVD`. The higher `n_iter` is the more precise the results will be. On the other hand increasing `n_iter` increases the computation time. In general the algorithm converges very quickly so using a low `n_iter` (which is the default behaviour) is recommended.\n",
        "\n",
        "https://github.com/MaxHalford/prince\n",
        "\n",
        "Installation:"
      ]
    },
    {
      "cell_type": "markdown",
      "metadata": {
        "id": "gI69RsvWKtcu",
        "colab_type": "raw"
      },
      "source": [
        "pip install prince  # doctest: +SKIP"
      ]
    },
    {
      "cell_type": "markdown",
      "metadata": {
        "id": "gwfrkXM6Ktcv",
        "colab_type": "text"
      },
      "source": [
        "### Correspondence analysis (CA) with Prince\n",
        "\n",
        "You should be using correspondence analysis to analyse the dependencies between two categorical variables in the form of a contingency table. \n",
        "\n",
        "The following example comes from section 17.2.3 of *Theory of Correspondence Analysis* (references at the top of the notebook). It shows the number of occurrences between different hair and eye colors."
      ]
    },
    {
      "cell_type": "code",
      "metadata": {
        "id": "P4OWOehqKtcv",
        "colab_type": "code",
        "colab": {
          "base_uri": "https://localhost:8080/",
          "height": 172
        },
        "outputId": "211e32ba-0059-4e28-fdb0-bd80548d60ff"
      },
      "source": [
        "import pandas as pd\n",
        "\n",
        "pd.set_option('display.float_format', lambda x: '{:.6f}'.format(x))\n",
        "X = pd.DataFrame(\n",
        "    data=[\n",
        "        [326, 38, 241, 110, 3],\n",
        "        [688, 116, 584, 188, 4],\n",
        "        [343, 84, 909, 412, 26],\n",
        "        [98, 48, 403, 681, 85]\n",
        "    ],\n",
        "    columns=pd.Series(['Fair', 'Red', 'Medium', 'Dark', 'Black']),\n",
        "    index=pd.Series(['Blue', 'Light', 'Medium', 'Dark'])\n",
        " )\n",
        "X"
      ],
      "execution_count": 25,
      "outputs": [
        {
          "output_type": "execute_result",
          "data": {
            "text/html": [
              "<div>\n",
              "<style scoped>\n",
              "    .dataframe tbody tr th:only-of-type {\n",
              "        vertical-align: middle;\n",
              "    }\n",
              "\n",
              "    .dataframe tbody tr th {\n",
              "        vertical-align: top;\n",
              "    }\n",
              "\n",
              "    .dataframe thead th {\n",
              "        text-align: right;\n",
              "    }\n",
              "</style>\n",
              "<table border=\"1\" class=\"dataframe\">\n",
              "  <thead>\n",
              "    <tr style=\"text-align: right;\">\n",
              "      <th></th>\n",
              "      <th>Fair</th>\n",
              "      <th>Red</th>\n",
              "      <th>Medium</th>\n",
              "      <th>Dark</th>\n",
              "      <th>Black</th>\n",
              "    </tr>\n",
              "  </thead>\n",
              "  <tbody>\n",
              "    <tr>\n",
              "      <th>Blue</th>\n",
              "      <td>326</td>\n",
              "      <td>38</td>\n",
              "      <td>241</td>\n",
              "      <td>110</td>\n",
              "      <td>3</td>\n",
              "    </tr>\n",
              "    <tr>\n",
              "      <th>Light</th>\n",
              "      <td>688</td>\n",
              "      <td>116</td>\n",
              "      <td>584</td>\n",
              "      <td>188</td>\n",
              "      <td>4</td>\n",
              "    </tr>\n",
              "    <tr>\n",
              "      <th>Medium</th>\n",
              "      <td>343</td>\n",
              "      <td>84</td>\n",
              "      <td>909</td>\n",
              "      <td>412</td>\n",
              "      <td>26</td>\n",
              "    </tr>\n",
              "    <tr>\n",
              "      <th>Dark</th>\n",
              "      <td>98</td>\n",
              "      <td>48</td>\n",
              "      <td>403</td>\n",
              "      <td>681</td>\n",
              "      <td>85</td>\n",
              "    </tr>\n",
              "  </tbody>\n",
              "</table>\n",
              "</div>"
            ],
            "text/plain": [
              "        Fair  Red  Medium  Dark  Black\n",
              "Blue     326   38     241   110      3\n",
              "Light    688  116     584   188      4\n",
              "Medium   343   84     909   412     26\n",
              "Dark      98   48     403   681     85"
            ]
          },
          "metadata": {
            "tags": []
          },
          "execution_count": 25
        }
      ]
    },
    {
      "cell_type": "markdown",
      "metadata": {
        "id": "bWPZ4lBNKtcy",
        "colab_type": "text"
      },
      "source": [
        "Unlike the PCA class, the CA only exposes scikit-learn's fit method."
      ]
    },
    {
      "cell_type": "code",
      "metadata": {
        "id": "63zvlF1WN9O8",
        "colab_type": "code",
        "colab": {
          "base_uri": "https://localhost:8080/",
          "height": 336
        },
        "outputId": "03e0e6d8-15c0-4bbf-c403-042abe84234e"
      },
      "source": [
        "!pip install prince"
      ],
      "execution_count": 26,
      "outputs": [
        {
          "output_type": "stream",
          "text": [
            "Collecting prince\n",
            "  Downloading https://files.pythonhosted.org/packages/0b/37/8b234580f76ba21a8b4a57d46ed024da19d88b6cfe0d231d27d07261e878/prince-0.6.3-py2.py3-none-any.whl\n",
            "Requirement already satisfied: matplotlib>=3.0.2 in /usr/local/lib/python3.6/dist-packages (from prince) (3.1.2)\n",
            "Requirement already satisfied: scipy>=1.1.0 in /usr/local/lib/python3.6/dist-packages (from prince) (1.3.3)\n",
            "Requirement already satisfied: scikit-learn>=0.20.1 in /usr/local/lib/python3.6/dist-packages (from prince) (0.21.3)\n",
            "Requirement already satisfied: pandas>=0.24.0 in /usr/local/lib/python3.6/dist-packages (from prince) (0.25.3)\n",
            "Requirement already satisfied: numpy>=1.16.1 in /usr/local/lib/python3.6/dist-packages (from prince) (1.17.4)\n",
            "Requirement already satisfied: pyparsing!=2.0.4,!=2.1.2,!=2.1.6,>=2.0.1 in /usr/local/lib/python3.6/dist-packages (from matplotlib>=3.0.2->prince) (2.4.5)\n",
            "Requirement already satisfied: cycler>=0.10 in /usr/local/lib/python3.6/dist-packages (from matplotlib>=3.0.2->prince) (0.10.0)\n",
            "Requirement already satisfied: python-dateutil>=2.1 in /usr/local/lib/python3.6/dist-packages (from matplotlib>=3.0.2->prince) (2.6.1)\n",
            "Requirement already satisfied: kiwisolver>=1.0.1 in /usr/local/lib/python3.6/dist-packages (from matplotlib>=3.0.2->prince) (1.1.0)\n",
            "Requirement already satisfied: joblib>=0.11 in /usr/local/lib/python3.6/dist-packages (from scikit-learn>=0.20.1->prince) (0.14.0)\n",
            "Requirement already satisfied: pytz>=2017.2 in /usr/local/lib/python3.6/dist-packages (from pandas>=0.24.0->prince) (2018.9)\n",
            "Requirement already satisfied: six in /usr/local/lib/python3.6/dist-packages (from cycler>=0.10->matplotlib>=3.0.2->prince) (1.12.0)\n",
            "Requirement already satisfied: setuptools in /usr/local/lib/python3.6/dist-packages (from kiwisolver>=1.0.1->matplotlib>=3.0.2->prince) (42.0.2)\n",
            "Installing collected packages: prince\n",
            "Successfully installed prince-0.6.3\n"
          ],
          "name": "stdout"
        }
      ]
    },
    {
      "cell_type": "code",
      "metadata": {
        "id": "FKSeYttmKtcy",
        "colab_type": "code",
        "colab": {}
      },
      "source": [
        "import prince\n",
        "ca = prince.CA(\n",
        "     n_components=2,\n",
        "     n_iter=3,\n",
        "     copy=True,\n",
        "     check_input=True,\n",
        "     engine='auto',\n",
        "     random_state=42\n",
        ")\n",
        "X.columns.rename('Hair color', inplace=True)\n",
        "X.index.rename('Eye color', inplace=True)\n",
        "ca = ca.fit(X)"
      ],
      "execution_count": 0,
      "outputs": []
    },
    {
      "cell_type": "code",
      "metadata": {
        "id": "wVdwqlD8Ktc0",
        "colab_type": "code",
        "colab": {
          "base_uri": "https://localhost:8080/",
          "height": 172
        },
        "outputId": "8ffd3fa7-bb12-4494-b288-b9bd67ba4a29"
      },
      "source": [
        "ca.row_coordinates(X)"
      ],
      "execution_count": 28,
      "outputs": [
        {
          "output_type": "execute_result",
          "data": {
            "text/html": [
              "<div>\n",
              "<style scoped>\n",
              "    .dataframe tbody tr th:only-of-type {\n",
              "        vertical-align: middle;\n",
              "    }\n",
              "\n",
              "    .dataframe tbody tr th {\n",
              "        vertical-align: top;\n",
              "    }\n",
              "\n",
              "    .dataframe thead th {\n",
              "        text-align: right;\n",
              "    }\n",
              "</style>\n",
              "<table border=\"1\" class=\"dataframe\">\n",
              "  <thead>\n",
              "    <tr style=\"text-align: right;\">\n",
              "      <th></th>\n",
              "      <th>0</th>\n",
              "      <th>1</th>\n",
              "    </tr>\n",
              "  </thead>\n",
              "  <tbody>\n",
              "    <tr>\n",
              "      <th>Blue</th>\n",
              "      <td>-0.400300</td>\n",
              "      <td>-0.165411</td>\n",
              "    </tr>\n",
              "    <tr>\n",
              "      <th>Light</th>\n",
              "      <td>-0.440708</td>\n",
              "      <td>-0.088463</td>\n",
              "    </tr>\n",
              "    <tr>\n",
              "      <th>Medium</th>\n",
              "      <td>0.033614</td>\n",
              "      <td>0.245002</td>\n",
              "    </tr>\n",
              "    <tr>\n",
              "      <th>Dark</th>\n",
              "      <td>0.702739</td>\n",
              "      <td>-0.133914</td>\n",
              "    </tr>\n",
              "  </tbody>\n",
              "</table>\n",
              "</div>"
            ],
            "text/plain": [
              "               0         1\n",
              "Blue   -0.400300 -0.165411\n",
              "Light  -0.440708 -0.088463\n",
              "Medium  0.033614  0.245002\n",
              "Dark    0.702739 -0.133914"
            ]
          },
          "metadata": {
            "tags": []
          },
          "execution_count": 28
        }
      ]
    },
    {
      "cell_type": "code",
      "metadata": {
        "id": "uxZT4UvqKtc3",
        "colab_type": "code",
        "colab": {
          "base_uri": "https://localhost:8080/",
          "height": 203
        },
        "outputId": "2ca44014-25f3-428f-d051-9f46c86da760"
      },
      "source": [
        "ca.column_coordinates(X)"
      ],
      "execution_count": 29,
      "outputs": [
        {
          "output_type": "execute_result",
          "data": {
            "text/html": [
              "<div>\n",
              "<style scoped>\n",
              "    .dataframe tbody tr th:only-of-type {\n",
              "        vertical-align: middle;\n",
              "    }\n",
              "\n",
              "    .dataframe tbody tr th {\n",
              "        vertical-align: top;\n",
              "    }\n",
              "\n",
              "    .dataframe thead th {\n",
              "        text-align: right;\n",
              "    }\n",
              "</style>\n",
              "<table border=\"1\" class=\"dataframe\">\n",
              "  <thead>\n",
              "    <tr style=\"text-align: right;\">\n",
              "      <th></th>\n",
              "      <th>0</th>\n",
              "      <th>1</th>\n",
              "    </tr>\n",
              "  </thead>\n",
              "  <tbody>\n",
              "    <tr>\n",
              "      <th>Fair</th>\n",
              "      <td>-0.543995</td>\n",
              "      <td>-0.173844</td>\n",
              "    </tr>\n",
              "    <tr>\n",
              "      <th>Red</th>\n",
              "      <td>-0.233261</td>\n",
              "      <td>-0.048279</td>\n",
              "    </tr>\n",
              "    <tr>\n",
              "      <th>Medium</th>\n",
              "      <td>-0.042024</td>\n",
              "      <td>0.208304</td>\n",
              "    </tr>\n",
              "    <tr>\n",
              "      <th>Dark</th>\n",
              "      <td>0.588709</td>\n",
              "      <td>-0.103950</td>\n",
              "    </tr>\n",
              "    <tr>\n",
              "      <th>Black</th>\n",
              "      <td>1.094388</td>\n",
              "      <td>-0.286437</td>\n",
              "    </tr>\n",
              "  </tbody>\n",
              "</table>\n",
              "</div>"
            ],
            "text/plain": [
              "               0         1\n",
              "Fair   -0.543995 -0.173844\n",
              "Red    -0.233261 -0.048279\n",
              "Medium -0.042024  0.208304\n",
              "Dark    0.588709 -0.103950\n",
              "Black   1.094388 -0.286437"
            ]
          },
          "metadata": {
            "tags": []
          },
          "execution_count": 29
        }
      ]
    },
    {
      "cell_type": "code",
      "metadata": {
        "id": "Wc1dFPtZKtc7",
        "colab_type": "code",
        "colab": {
          "base_uri": "https://localhost:8080/",
          "height": 410
        },
        "outputId": "ef7fa95e-046a-4678-facb-c129d4201124"
      },
      "source": [
        "ax = ca.plot_coordinates(\n",
        "     X=X,\n",
        "     ax=None,\n",
        "     figsize=(6, 6),\n",
        "     x_component=0,\n",
        "     y_component=1,\n",
        "     show_row_labels=True,\n",
        "     show_col_labels=True\n",
        ")\n",
        "ax.get_figure().savefig('ca_coordinates.svg')"
      ],
      "execution_count": 30,
      "outputs": [
        {
          "output_type": "display_data",
          "data": {
            "image/png": "[encoded data removed]",
            "text/plain": [
              "<Figure size 432x432 with 1 Axes>"
            ]
          },
          "metadata": {
            "tags": []
          }
        }
      ]
    },
    {
      "cell_type": "markdown",
      "metadata": {
        "id": "N9ikQJliKtc_",
        "colab_type": "text"
      },
      "source": [
        "Like for the PCA you can access the inertia contribution of each principal component as well as the eigenvalues and the total inertia"
      ]
    },
    {
      "cell_type": "code",
      "metadata": {
        "id": "VsLfwTYNKtdA",
        "colab_type": "code",
        "colab": {
          "base_uri": "https://localhost:8080/",
          "height": 35
        },
        "outputId": "9e60c710-6a0a-427e-8f76-f565af63145e"
      },
      "source": [
        "ca.eigenvalues_"
      ],
      "execution_count": 31,
      "outputs": [
        {
          "output_type": "execute_result",
          "data": {
            "text/plain": [
              "[0.19924475202819097, 0.030086774100411807]"
            ]
          },
          "metadata": {
            "tags": []
          },
          "execution_count": 31
        }
      ]
    },
    {
      "cell_type": "markdown",
      "metadata": {
        "id": "LFE_InqLOYDi",
        "colab_type": "text"
      },
      "source": [
        ""
      ]
    },
    {
      "cell_type": "code",
      "metadata": {
        "id": "1hC_Y50nKtdD",
        "colab_type": "code",
        "colab": {
          "base_uri": "https://localhost:8080/",
          "height": 35
        },
        "outputId": "21a3c35f-b969-4d14-e945-fa126f954e05"
      },
      "source": [
        "ca.total_inertia_"
      ],
      "execution_count": 32,
      "outputs": [
        {
          "output_type": "execute_result",
          "data": {
            "text/plain": [
              "0.23019100748666482"
            ]
          },
          "metadata": {
            "tags": []
          },
          "execution_count": 32
        }
      ]
    },
    {
      "cell_type": "code",
      "metadata": {
        "id": "XJ--JnTDKtdH",
        "colab_type": "code",
        "colab": {
          "base_uri": "https://localhost:8080/",
          "height": 35
        },
        "outputId": "2c115784-1557-4df2-81fa-849092b7c08c"
      },
      "source": [
        "ca.explained_inertia_"
      ],
      "execution_count": 33,
      "outputs": [
        {
          "output_type": "execute_result",
          "data": {
            "text/plain": [
              "[0.8655627090025808, 0.13070351630549581]"
            ]
          },
          "metadata": {
            "tags": []
          },
          "execution_count": 33
        }
      ]
    },
    {
      "cell_type": "markdown",
      "metadata": {
        "id": "53pI_NsEKtdN",
        "colab_type": "text"
      },
      "source": [
        "### Assignment Part 1:\n",
        "\n",
        "1) Reproduce the results from textual analysis—identifying the author of a text based on examination of its characteristics earlier in the notebook. Use `n_components=2`.\n",
        "\n",
        "2) After plotting both sets of principal coordinates with the plot_coordinates method, record your observations."
      ]
    },
    {
      "cell_type": "markdown",
      "metadata": {
        "id": "7UAI_oR_KtdN",
        "colab_type": "text"
      },
      "source": [
        "#### Instantiate a `prince` object and fit the data in `dfTableForm`\n",
        "\n",
        "Use the following parmaeters:\n",
        "\n",
        "```\n",
        "n_components=2\n",
        "n_iter=3\n",
        "copy=True\n",
        "engine='auto'\n",
        "```"
      ]
    },
    {
      "cell_type": "code",
      "metadata": {
        "id": "JAiPf7YxKtdW",
        "colab_type": "code",
        "colab": {}
      },
      "source": [
        "import prince\n",
        "ca = prince.CA(n_components=2,\n",
        "               n_iter=3, \n",
        "               copy=True,\n",
        "               engine='auto')\n",
        "\n",
        "X = dfTableForm\n",
        "ca = ca.fit(X)"
      ],
      "execution_count": 0,
      "outputs": []
    },
    {
      "cell_type": "code",
      "metadata": {
        "id": "30yD-WEdKtdY",
        "colab_type": "code",
        "colab": {
          "base_uri": "https://localhost:8080/",
          "height": 541
        },
        "outputId": "0e180ce5-3c49-4ddc-9797-58aa733faa8d"
      },
      "source": [
        "ca.row_coordinates(X)"
      ],
      "execution_count": 38,
      "outputs": [
        {
          "output_type": "execute_result",
          "data": {
            "text/html": [
              "<div>\n",
              "<style scoped>\n",
              "    .dataframe tbody tr th:only-of-type {\n",
              "        vertical-align: middle;\n",
              "    }\n",
              "\n",
              "    .dataframe tbody tr th {\n",
              "        vertical-align: top;\n",
              "    }\n",
              "\n",
              "    .dataframe thead th {\n",
              "        text-align: right;\n",
              "    }\n",
              "</style>\n",
              "<table border=\"1\" class=\"dataframe\">\n",
              "  <thead>\n",
              "    <tr style=\"text-align: right;\">\n",
              "      <th></th>\n",
              "      <th>0</th>\n",
              "      <th>1</th>\n",
              "    </tr>\n",
              "  </thead>\n",
              "  <tbody>\n",
              "    <tr>\n",
              "      <th>0</th>\n",
              "      <td>-0.067801</td>\n",
              "      <td>0.251874</td>\n",
              "    </tr>\n",
              "    <tr>\n",
              "      <th>1</th>\n",
              "      <td>-0.186781</td>\n",
              "      <td>0.206641</td>\n",
              "    </tr>\n",
              "    <tr>\n",
              "      <th>2</th>\n",
              "      <td>0.189076</td>\n",
              "      <td>0.045753</td>\n",
              "    </tr>\n",
              "    <tr>\n",
              "      <th>3</th>\n",
              "      <td>-0.132993</td>\n",
              "      <td>-0.046796</td>\n",
              "    </tr>\n",
              "    <tr>\n",
              "      <th>4</th>\n",
              "      <td>0.142068</td>\n",
              "      <td>-0.028568</td>\n",
              "    </tr>\n",
              "    <tr>\n",
              "      <th>5</th>\n",
              "      <td>-0.004141</td>\n",
              "      <td>-0.123746</td>\n",
              "    </tr>\n",
              "    <tr>\n",
              "      <th>6</th>\n",
              "      <td>-0.037227</td>\n",
              "      <td>-0.017651</td>\n",
              "    </tr>\n",
              "    <tr>\n",
              "      <th>7</th>\n",
              "      <td>0.150109</td>\n",
              "      <td>0.174766</td>\n",
              "    </tr>\n",
              "    <tr>\n",
              "      <th>8</th>\n",
              "      <td>-0.101342</td>\n",
              "      <td>-0.086505</td>\n",
              "    </tr>\n",
              "    <tr>\n",
              "      <th>9</th>\n",
              "      <td>-0.014181</td>\n",
              "      <td>-0.090968</td>\n",
              "    </tr>\n",
              "    <tr>\n",
              "      <th>10</th>\n",
              "      <td>-0.150976</td>\n",
              "      <td>0.035464</td>\n",
              "    </tr>\n",
              "    <tr>\n",
              "      <th>11</th>\n",
              "      <td>-0.171644</td>\n",
              "      <td>0.001241</td>\n",
              "    </tr>\n",
              "    <tr>\n",
              "      <th>12</th>\n",
              "      <td>-0.038028</td>\n",
              "      <td>-0.005906</td>\n",
              "    </tr>\n",
              "    <tr>\n",
              "      <th>13</th>\n",
              "      <td>0.112350</td>\n",
              "      <td>0.010519</td>\n",
              "    </tr>\n",
              "    <tr>\n",
              "      <th>14</th>\n",
              "      <td>0.404166</td>\n",
              "      <td>-0.087685</td>\n",
              "    </tr>\n",
              "    <tr>\n",
              "      <th>15</th>\n",
              "      <td>0.155766</td>\n",
              "      <td>0.127140</td>\n",
              "    </tr>\n",
              "  </tbody>\n",
              "</table>\n",
              "</div>"
            ],
            "text/plain": [
              "           0         1\n",
              "0  -0.067801  0.251874\n",
              "1  -0.186781  0.206641\n",
              "2   0.189076  0.045753\n",
              "3  -0.132993 -0.046796\n",
              "4   0.142068 -0.028568\n",
              "5  -0.004141 -0.123746\n",
              "6  -0.037227 -0.017651\n",
              "7   0.150109  0.174766\n",
              "8  -0.101342 -0.086505\n",
              "9  -0.014181 -0.090968\n",
              "10 -0.150976  0.035464\n",
              "11 -0.171644  0.001241\n",
              "12 -0.038028 -0.005906\n",
              "13  0.112350  0.010519\n",
              "14  0.404166 -0.087685\n",
              "15  0.155766  0.127140"
            ]
          },
          "metadata": {
            "tags": []
          },
          "execution_count": 38
        }
      ]
    },
    {
      "cell_type": "code",
      "metadata": {
        "id": "KBEIUv89Ktdb",
        "colab_type": "code",
        "colab": {
          "base_uri": "https://localhost:8080/",
          "height": 511
        },
        "outputId": "b93222d4-3f4a-4194-e300-ea0d23e3d1b5"
      },
      "source": [
        "ca.column_coordinates(X)"
      ],
      "execution_count": 39,
      "outputs": [
        {
          "output_type": "execute_result",
          "data": {
            "text/html": [
              "<div>\n",
              "<style scoped>\n",
              "    .dataframe tbody tr th:only-of-type {\n",
              "        vertical-align: middle;\n",
              "    }\n",
              "\n",
              "    .dataframe tbody tr th {\n",
              "        vertical-align: top;\n",
              "    }\n",
              "\n",
              "    .dataframe thead th {\n",
              "        text-align: right;\n",
              "    }\n",
              "</style>\n",
              "<table border=\"1\" class=\"dataframe\">\n",
              "  <thead>\n",
              "    <tr style=\"text-align: right;\">\n",
              "      <th></th>\n",
              "      <th>0</th>\n",
              "      <th>1</th>\n",
              "    </tr>\n",
              "  </thead>\n",
              "  <tbody>\n",
              "    <tr>\n",
              "      <th>Charles Darwin: 1</th>\n",
              "      <td>-0.070977</td>\n",
              "      <td>0.200620</td>\n",
              "    </tr>\n",
              "    <tr>\n",
              "      <th>Charles Darwin: 2</th>\n",
              "      <td>-0.062109</td>\n",
              "      <td>0.094512</td>\n",
              "    </tr>\n",
              "    <tr>\n",
              "      <th>Charles Darwin: 3</th>\n",
              "      <td>-0.148509</td>\n",
              "      <td>0.158889</td>\n",
              "    </tr>\n",
              "    <tr>\n",
              "      <th>Rene Descartes: 1</th>\n",
              "      <td>0.030697</td>\n",
              "      <td>0.019028</td>\n",
              "    </tr>\n",
              "    <tr>\n",
              "      <th>Rene Descartes: 2</th>\n",
              "      <td>-0.069552</td>\n",
              "      <td>-0.068382</td>\n",
              "    </tr>\n",
              "    <tr>\n",
              "      <th>Rene Descartes: 3</th>\n",
              "      <td>-0.115119</td>\n",
              "      <td>-0.063805</td>\n",
              "    </tr>\n",
              "    <tr>\n",
              "      <th>Thomas Hobbes: 1</th>\n",
              "      <td>-0.006890</td>\n",
              "      <td>-0.103594</td>\n",
              "    </tr>\n",
              "    <tr>\n",
              "      <th>Thomas Hobbes: 2</th>\n",
              "      <td>-0.053382</td>\n",
              "      <td>-0.170423</td>\n",
              "    </tr>\n",
              "    <tr>\n",
              "      <th>Thomas Hobbes: 3</th>\n",
              "      <td>-0.083822</td>\n",
              "      <td>-0.121758</td>\n",
              "    </tr>\n",
              "    <tr>\n",
              "      <th>Mary Shelley: 1</th>\n",
              "      <td>-0.016408</td>\n",
              "      <td>0.001383</td>\n",
              "    </tr>\n",
              "    <tr>\n",
              "      <th>Mary Shelley: 2</th>\n",
              "      <td>-0.143838</td>\n",
              "      <td>-0.010875</td>\n",
              "    </tr>\n",
              "    <tr>\n",
              "      <th>Mary Shelley: 3</th>\n",
              "      <td>-0.029819</td>\n",
              "      <td>0.005454</td>\n",
              "    </tr>\n",
              "    <tr>\n",
              "      <th>Mark Twain: 1</th>\n",
              "      <td>0.256214</td>\n",
              "      <td>-0.009194</td>\n",
              "    </tr>\n",
              "    <tr>\n",
              "      <th>Mark Twain: 2</th>\n",
              "      <td>0.243356</td>\n",
              "      <td>0.059730</td>\n",
              "    </tr>\n",
              "    <tr>\n",
              "      <th>Mark Twain: 3</th>\n",
              "      <td>0.265072</td>\n",
              "      <td>-0.006179</td>\n",
              "    </tr>\n",
              "  </tbody>\n",
              "</table>\n",
              "</div>"
            ],
            "text/plain": [
              "                          0         1\n",
              "Charles Darwin: 1 -0.070977  0.200620\n",
              "Charles Darwin: 2 -0.062109  0.094512\n",
              "Charles Darwin: 3 -0.148509  0.158889\n",
              "Rene Descartes: 1  0.030697  0.019028\n",
              "Rene Descartes: 2 -0.069552 -0.068382\n",
              "Rene Descartes: 3 -0.115119 -0.063805\n",
              "Thomas Hobbes: 1  -0.006890 -0.103594\n",
              "Thomas Hobbes: 2  -0.053382 -0.170423\n",
              "Thomas Hobbes: 3  -0.083822 -0.121758\n",
              "Mary Shelley: 1   -0.016408  0.001383\n",
              "Mary Shelley: 2   -0.143838 -0.010875\n",
              "Mary Shelley: 3   -0.029819  0.005454\n",
              "Mark Twain: 1      0.256214 -0.009194\n",
              "Mark Twain: 2      0.243356  0.059730\n",
              "Mark Twain: 3      0.265072 -0.006179"
            ]
          },
          "metadata": {
            "tags": []
          },
          "execution_count": 39
        }
      ]
    },
    {
      "cell_type": "code",
      "metadata": {
        "id": "VKoOqlYbKtde",
        "colab_type": "code",
        "colab": {
          "base_uri": "https://localhost:8080/",
          "height": 410
        },
        "outputId": "38bd27e5-1b64-44ec-a134-fb455b6b4310"
      },
      "source": [
        "ax = ca.plot_coordinates(\n",
        "     X=X,\n",
        "     ax=None,\n",
        "     figsize=(6, 6),\n",
        "     x_component=0,\n",
        "     y_component=1,\n",
        "     show_row_labels=True,\n",
        "     show_col_labels=True\n",
        ")\n",
        "ax.get_figure().savefig('ca_coordinates.svg')"
      ],
      "execution_count": 40,
      "outputs": [
        {
          "output_type": "display_data",
          "data": {
            "image/png": "[encoded data removed]",
            "text/plain": [
              "<Figure size 432x432 with 1 Axes>"
            ]
          },
          "metadata": {
            "tags": []
          }
        }
      ]
    },
    {
      "cell_type": "markdown",
      "metadata": {
        "id": "NCteXhRFKtdh",
        "colab_type": "text"
      },
      "source": [
        "### Multiple correspondence analysis (MCA)\n",
        "\n",
        "Multiple correspondence analysis (MCA) is an extension of correspondence analysis (CA). It should be used when you have more than two categorical variables. \n",
        "\n",
        "The idea is simply to compute the one-hot encoded version of a dataset and apply CA on it. \n",
        "\n",
        "A one-hot encoded table is also called\n",
        "MCA is performed by applying the CA algorithm to either an indicator matrix (also called complete disjunctive table – CDT) or a Burt table formed from these variables.\n",
        "\n",
        "An [indicator matrix](https://www.xlstat.com/en/solutions/features/complete-disjuncive-tables-creating-dummy-variables) is an individuals × variables matrix, where the rows represent individuals and the columns are dummy variables representing categories of the variables (essentially one-hot encoded). Analyzing the indicator matrix allows the direct representation of individuals as points in geometric space. \n",
        "\n",
        "The [Burt table](https://documentation.statsoft.com/STATISTICAHelp.aspx?path=Glossary/GlossaryTwo/B/BurtTables) is the symmetric matrix of all two-way cross-tabulations between the categorical variables, and has an analogy to the covariance matrix of continuous variables. \n",
        "\n",
        "Analyzing the Burt table is a more natural generalization of simple correspondence analysis, and individuals or the means of groups of individuals can be added as supplementary points to the graphical display.\n",
        "\n",
        "The Prince library takes a category table as shown below and handles these table representations automatically.\n",
        "\n",
        "The example below uses the balloons dataset taken from the UCI datasets website."
      ]
    },
    {
      "cell_type": "code",
      "metadata": {
        "id": "Q2br6YGHKtdh",
        "colab_type": "code",
        "colab": {
          "base_uri": "https://localhost:8080/",
          "height": 203
        },
        "outputId": "00acf0e8-f7a6-4865-cc8b-b4c5a01c1b11"
      },
      "source": [
        "import pandas as pd\n",
        "\n",
        "X = pd.read_csv('https://archive.ics.uci.edu/ml/machine-learning-databases/balloons/adult+stretch.data')\n",
        "X.columns = ['Color', 'Size', 'Action', 'Age', 'Inflated']\n",
        "X.head()"
      ],
      "execution_count": 41,
      "outputs": [
        {
          "output_type": "execute_result",
          "data": {
            "text/html": [
              "<div>\n",
              "<style scoped>\n",
              "    .dataframe tbody tr th:only-of-type {\n",
              "        vertical-align: middle;\n",
              "    }\n",
              "\n",
              "    .dataframe tbody tr th {\n",
              "        vertical-align: top;\n",
              "    }\n",
              "\n",
              "    .dataframe thead th {\n",
              "        text-align: right;\n",
              "    }\n",
              "</style>\n",
              "<table border=\"1\" class=\"dataframe\">\n",
              "  <thead>\n",
              "    <tr style=\"text-align: right;\">\n",
              "      <th></th>\n",
              "      <th>Color</th>\n",
              "      <th>Size</th>\n",
              "      <th>Action</th>\n",
              "      <th>Age</th>\n",
              "      <th>Inflated</th>\n",
              "    </tr>\n",
              "  </thead>\n",
              "  <tbody>\n",
              "    <tr>\n",
              "      <th>0</th>\n",
              "      <td>YELLOW</td>\n",
              "      <td>SMALL</td>\n",
              "      <td>STRETCH</td>\n",
              "      <td>ADULT</td>\n",
              "      <td>T</td>\n",
              "    </tr>\n",
              "    <tr>\n",
              "      <th>1</th>\n",
              "      <td>YELLOW</td>\n",
              "      <td>SMALL</td>\n",
              "      <td>STRETCH</td>\n",
              "      <td>CHILD</td>\n",
              "      <td>F</td>\n",
              "    </tr>\n",
              "    <tr>\n",
              "      <th>2</th>\n",
              "      <td>YELLOW</td>\n",
              "      <td>SMALL</td>\n",
              "      <td>DIP</td>\n",
              "      <td>ADULT</td>\n",
              "      <td>F</td>\n",
              "    </tr>\n",
              "    <tr>\n",
              "      <th>3</th>\n",
              "      <td>YELLOW</td>\n",
              "      <td>SMALL</td>\n",
              "      <td>DIP</td>\n",
              "      <td>CHILD</td>\n",
              "      <td>F</td>\n",
              "    </tr>\n",
              "    <tr>\n",
              "      <th>4</th>\n",
              "      <td>YELLOW</td>\n",
              "      <td>LARGE</td>\n",
              "      <td>STRETCH</td>\n",
              "      <td>ADULT</td>\n",
              "      <td>T</td>\n",
              "    </tr>\n",
              "  </tbody>\n",
              "</table>\n",
              "</div>"
            ],
            "text/plain": [
              "    Color   Size   Action    Age Inflated\n",
              "0  YELLOW  SMALL  STRETCH  ADULT        T\n",
              "1  YELLOW  SMALL  STRETCH  CHILD        F\n",
              "2  YELLOW  SMALL      DIP  ADULT        F\n",
              "3  YELLOW  SMALL      DIP  CHILD        F\n",
              "4  YELLOW  LARGE  STRETCH  ADULT        T"
            ]
          },
          "metadata": {
            "tags": []
          },
          "execution_count": 41
        }
      ]
    },
    {
      "cell_type": "markdown",
      "metadata": {
        "id": "e43WN34BKtdm",
        "colab_type": "text"
      },
      "source": [
        "The MCA also implements the fit and transform methods.\n",
        "\n",
        "#### Instantiate a `prince` object and fit the data in `X`\n",
        "\n",
        "Use the following parmaeters:\n",
        "\n",
        "```\n",
        "n_components=2\n",
        "n_iter=3\n",
        "copy=True\n",
        "engine='auto'\n",
        "```"
      ]
    },
    {
      "cell_type": "code",
      "metadata": {
        "id": "i6TBUzAXKtdn",
        "colab_type": "code",
        "colab": {}
      },
      "source": [
        "import warnings\n",
        "warnings.filterwarnings('ignore')\n",
        "\n",
        "import prince\n",
        "mca = prince.MCA(n_components = 2,\n",
        "                 n_iter = 3,\n",
        "                 copy = True,\n",
        "                 engine ='auto')\n",
        "\n",
        "mca = mca.fit(X)"
      ],
      "execution_count": 0,
      "outputs": []
    },
    {
      "cell_type": "markdown",
      "metadata": {
        "id": "m0ZmcIrsKtdq",
        "colab_type": "text"
      },
      "source": [
        "Like the CA class, the MCA class also has plot_coordinates method."
      ]
    },
    {
      "cell_type": "code",
      "metadata": {
        "id": "Ryqy7A_ZKtdr",
        "colab_type": "code",
        "colab": {
          "base_uri": "https://localhost:8080/",
          "height": 410
        },
        "outputId": "1dc4551a-887a-42d7-d159-10897f392721"
      },
      "source": [
        "ax = mca.plot_coordinates(\n",
        "     X=X,\n",
        "     ax=None,\n",
        "     figsize=(6, 6),\n",
        "     show_row_points=True,\n",
        "     row_points_size=10,\n",
        "     show_row_labels=False,\n",
        "     show_column_points=True,\n",
        "     column_points_size=30,\n",
        "     show_column_labels=False,\n",
        "     legend_n_cols=1\n",
        ")\n",
        "ax.get_figure().savefig('mca_coordinates.svg')"
      ],
      "execution_count": 44,
      "outputs": [
        {
          "output_type": "display_data",
          "data": {
            "image/png": "[encoded data removed]",
            "text/plain": [
              "<Figure size 432x432 with 1 Axes>"
            ]
          },
          "metadata": {
            "tags": []
          }
        }
      ]
    },
    {
      "cell_type": "markdown",
      "metadata": {
        "id": "U-EoiMGZKtdv",
        "colab_type": "text"
      },
      "source": [
        "Percentage of variance explained by an Eigenvector is also referred as its inertia."
      ]
    },
    {
      "cell_type": "code",
      "metadata": {
        "id": "dnlu_dxVKtdv",
        "colab_type": "code",
        "colab": {
          "base_uri": "https://localhost:8080/",
          "height": 35
        },
        "outputId": "529e98c1-dbc6-4e6c-ae2d-6f4228542668"
      },
      "source": [
        "mca.eigenvalues_"
      ],
      "execution_count": 45,
      "outputs": [
        {
          "output_type": "execute_result",
          "data": {
            "text/plain": [
              "[0.4016565656013382, 0.2111111111111114]"
            ]
          },
          "metadata": {
            "tags": []
          },
          "execution_count": 45
        }
      ]
    },
    {
      "cell_type": "code",
      "metadata": {
        "id": "NLShzg1mKtd2",
        "colab_type": "code",
        "colab": {
          "base_uri": "https://localhost:8080/",
          "height": 35
        },
        "outputId": "03a03d05-6ee1-47f0-b69d-f187cb7dfcce"
      },
      "source": [
        "mca.total_inertia_"
      ],
      "execution_count": 46,
      "outputs": [
        {
          "output_type": "execute_result",
          "data": {
            "text/plain": [
              "1.0"
            ]
          },
          "metadata": {
            "tags": []
          },
          "execution_count": 46
        }
      ]
    },
    {
      "cell_type": "code",
      "metadata": {
        "id": "m46gUIq9Ktd8",
        "colab_type": "code",
        "colab": {
          "base_uri": "https://localhost:8080/",
          "height": 35
        },
        "outputId": "fd7d1ffc-cac3-4f46-df60-be2ada1ca54e"
      },
      "source": [
        "mca.explained_inertia_"
      ],
      "execution_count": 47,
      "outputs": [
        {
          "output_type": "execute_result",
          "data": {
            "text/plain": [
              "[0.4016565656013382, 0.2111111111111114]"
            ]
          },
          "metadata": {
            "tags": []
          },
          "execution_count": 47
        }
      ]
    },
    {
      "cell_type": "markdown",
      "metadata": {
        "id": "jL8T8T9-KteA",
        "colab_type": "text"
      },
      "source": [
        "### Factor analysis of mixed data (FAMD)\n",
        "\n",
        "When data include both numeric and categorical variables _and_ the active variables are homogeneous, i.e, there is no dependence between numeric and categorical variables, PCA or MCA can be used.\n",
        "\n",
        "When the active variables are mixed, the usual practice is to perform discretization on the quantitative variables (e.g. usually in surveys the age is transformed into age classes). Data thus obtained can be processed by MCA.\n",
        "\n",
        "This practice reaches its limits:  \n",
        "\n",
        "- When there are few individuals ( less than a hundred to fix ideas ) in which case the MCA is unstable.\n",
        "\n",
        "- When there are few qualitative variables with respect to quantitative variables (one can be reluctant to discretize twenty quantitative variables to take into account a single qualitative variable).\n",
        "\n",
        "#### FAMD criteria:\n",
        "\n",
        "The data include ${\\displaystyle K}$ quantitative variables ${\\displaystyle {k=1,\\dots ,K}}$; and ${\\displaystyle Q}$ qualitative variables ${\\displaystyle {q=1,\\dots ,Q}}$ .\n",
        "\n",
        "If ${\\displaystyle z}$ is a quantitative variable:\n",
        "\n",
        "- ${\\displaystyle r(z,k)}$ the correlation coefficient between variables ${\\displaystyle k}$ and ${\\displaystyle z}$ \n",
        "\n",
        "- ${\\displaystyle \\eta ^{2}(z,q)}$ the squared correlation ratio between variables ${\\displaystyle z}$ and ${\\displaystyle q}$ .\n",
        "\n",
        "In the PCA of ${\\displaystyle K}$, we look for the function on ${\\displaystyle I}$ (a function on ${\\displaystyle I}$ assigns a value to each individual, it is the case for initial variables and principal components) the most correlated to all ${\\displaystyle K}$ variables in the following sense:\n",
        "\n",
        "${\\displaystyle \\sum _{k}r^{2}(z,k)}$ maximum.\n",
        "\n",
        "In MCA of $Q$, we look for the function on ${\\displaystyle I}$ more related to all ${\\displaystyle Q}$ variables in the following sense:\n",
        "\n",
        "${\\displaystyle \\sum _{q}\\eta ^{2}(z,q)}$ maximum.\n",
        "\n",
        "In FAMD ${\\displaystyle \\{K,Q\\}}$, we look for the function on ${\\displaystyle I}$ the more related to all ${\\displaystyle K+Q}$ variables in the following sense:\n",
        "\n",
        "${\\displaystyle \\sum _{k}r^{2}(z,k)+\\sum _{q}\\eta ^{2}(z,q)}$ maximum.\n",
        "\n",
        "In this criterion, both types of variables play the same role. The contribution of each variable in this criterion is bounded by 1.\n",
        "\n"
      ]
    },
    {
      "cell_type": "code",
      "metadata": {
        "id": "keal400oKteE",
        "colab_type": "code",
        "colab": {}
      },
      "source": [
        "import pandas as pd\n",
        "\n",
        "X = pd.DataFrame(\n",
        "    data=[\n",
        "         ['A', 'A', 'A', 2, 5, 7, 6, 3, 6, 7],\n",
        "         ['A', 'A', 'A', 4, 4, 4, 2, 4, 4, 3],\n",
        "         ['B', 'A', 'B', 5, 2, 1, 1, 7, 1, 1],\n",
        "         ['B', 'A', 'B', 7, 2, 1, 2, 2, 2, 2],\n",
        "         ['B', 'B', 'B', 3, 5, 6, 5, 2, 6, 6],\n",
        "         ['B', 'B', 'A', 3, 5, 4, 5, 1, 7, 5]\n",
        "     ],\n",
        "     columns=['E1 fruity', 'E1 woody', 'E1 coffee',\n",
        "              'E2 red fruit', 'E2 roasted', 'E2 vanillin', 'E2 woody',\n",
        "              'E3 fruity', 'E3 butter', 'E3 woody'],\n",
        "     index=['Wine {}'.format(i+1) for i in range(6)]\n",
        ")\n",
        "X['Oak type'] = [1, 2, 2, 2, 1, 1]"
      ],
      "execution_count": 0,
      "outputs": []
    },
    {
      "cell_type": "markdown",
      "metadata": {
        "id": "uVAjpNUyKteH",
        "colab_type": "text"
      },
      "source": [
        "Now we can fit an FAMD."
      ]
    },
    {
      "cell_type": "code",
      "metadata": {
        "id": "bTOCPymwKteI",
        "colab_type": "code",
        "colab": {}
      },
      "source": [
        "import prince\n",
        "famd = prince.FAMD(\n",
        "     n_components=2,\n",
        "     n_iter=3,\n",
        "     copy=True,\n",
        "     check_input=True,\n",
        "     engine='auto',\n",
        "     random_state=42\n",
        ")\n",
        "famd = famd.fit(X.drop('Oak type', axis='columns'))  # No need for 'Oak type'"
      ],
      "execution_count": 0,
      "outputs": []
    },
    {
      "cell_type": "markdown",
      "metadata": {
        "id": "wGAWYp6xKteP",
        "colab_type": "text"
      },
      "source": [
        "The FAMD inherits from the MFA class, which entails that you have access to all it's methods and properties. The row_coordinates method will return the global coordinates of each wine."
      ]
    },
    {
      "cell_type": "code",
      "metadata": {
        "id": "qVxwHKAIKteQ",
        "colab_type": "code",
        "colab": {
          "base_uri": "https://localhost:8080/",
          "height": 233
        },
        "outputId": "32c600f3-c1a3-430a-e9b3-6f79d6f0d3b5"
      },
      "source": [
        "famd.row_coordinates(X)"
      ],
      "execution_count": 50,
      "outputs": [
        {
          "output_type": "execute_result",
          "data": {
            "text/html": [
              "<div>\n",
              "<style scoped>\n",
              "    .dataframe tbody tr th:only-of-type {\n",
              "        vertical-align: middle;\n",
              "    }\n",
              "\n",
              "    .dataframe tbody tr th {\n",
              "        vertical-align: top;\n",
              "    }\n",
              "\n",
              "    .dataframe thead th {\n",
              "        text-align: right;\n",
              "    }\n",
              "</style>\n",
              "<table border=\"1\" class=\"dataframe\">\n",
              "  <thead>\n",
              "    <tr style=\"text-align: right;\">\n",
              "      <th></th>\n",
              "      <th>0</th>\n",
              "      <th>1</th>\n",
              "    </tr>\n",
              "  </thead>\n",
              "  <tbody>\n",
              "    <tr>\n",
              "      <th>Wine 1</th>\n",
              "      <td>3.351475</td>\n",
              "      <td>4.278852</td>\n",
              "    </tr>\n",
              "    <tr>\n",
              "      <th>Wine 2</th>\n",
              "      <td>3.396873</td>\n",
              "      <td>4.135743</td>\n",
              "    </tr>\n",
              "    <tr>\n",
              "      <th>Wine 3</th>\n",
              "      <td>4.777638</td>\n",
              "      <td>-1.643254</td>\n",
              "    </tr>\n",
              "    <tr>\n",
              "      <th>Wine 4</th>\n",
              "      <td>4.769714</td>\n",
              "      <td>-1.665251</td>\n",
              "    </tr>\n",
              "    <tr>\n",
              "      <th>Wine 5</th>\n",
              "      <td>3.779385</td>\n",
              "      <td>-3.053543</td>\n",
              "    </tr>\n",
              "    <tr>\n",
              "      <th>Wine 6</th>\n",
              "      <td>3.465413</td>\n",
              "      <td>-0.304409</td>\n",
              "    </tr>\n",
              "  </tbody>\n",
              "</table>\n",
              "</div>"
            ],
            "text/plain": [
              "              0         1\n",
              "Wine 1 3.351475  4.278852\n",
              "Wine 2 3.396873  4.135743\n",
              "Wine 3 4.777638 -1.643254\n",
              "Wine 4 4.769714 -1.665251\n",
              "Wine 5 3.779385 -3.053543\n",
              "Wine 6 3.465413 -0.304409"
            ]
          },
          "metadata": {
            "tags": []
          },
          "execution_count": 50
        }
      ]
    },
    {
      "cell_type": "markdown",
      "metadata": {
        "id": "a37aTsFEKteS",
        "colab_type": "text"
      },
      "source": [
        "Just like for the MFA you can plot the row coordinates with the plot_row_coordinates method."
      ]
    },
    {
      "cell_type": "code",
      "metadata": {
        "id": "wIKpSp4iKteS",
        "colab_type": "code",
        "colab": {
          "base_uri": "https://localhost:8080/",
          "height": 410
        },
        "outputId": "64534fd6-6299-4f80-b062-ef95f504331c"
      },
      "source": [
        "ax = famd.plot_row_coordinates(\n",
        "     X,\n",
        "     ax=None,\n",
        "     figsize=(6, 6),\n",
        "     x_component=0,\n",
        "     y_component=1,\n",
        "     labels=X.index,\n",
        "     color_labels=['Oak type {}'.format(t) for t in X['Oak type']],\n",
        "     ellipse_outline=False,\n",
        "     ellipse_fill=True,\n",
        "     show_points=True\n",
        ")\n",
        "ax.get_figure().savefig('famd_row_coordinates.svg')"
      ],
      "execution_count": 51,
      "outputs": [
        {
          "output_type": "display_data",
          "data": {
            "image/png": "[encoded data removed]",
            "text/plain": [
              "<Figure size 432x432 with 1 Axes>"
            ]
          },
          "metadata": {
            "tags": []
          }
        }
      ]
    },
    {
      "cell_type": "markdown",
      "metadata": {
        "id": "0W-4lopwKteU",
        "colab_type": "text"
      },
      "source": [
        "### Assignment Part 2: Travel Review Ratings Data Set\n",
        "\n",
        "Abstract: Google reviews on attractions from 24 categories across Europe are considered. \n",
        "    Google user rating ranges from 1 to 5 and average user rating per category is calculated.\n",
        "\n",
        "Data Set Information:\n",
        "\n",
        "This data set is populated by capturing user ratings from Google reviews. Reviews on attractions from 24 categories across Europe are considered. Google user rating ranges from 1 to 5 and average user rating per category is calculated.\n",
        "\n",
        "https://archive.ics.uci.edu/ml/datasets/Tarvel+Review+Ratings#\n",
        "    \n",
        "Step 4 is your primary task.\n",
        "\n",
        "1) Download the Google Travel Reviews Ratings Data Set\n",
        "\n",
        "2) Drop the 'User', and 'Unnamed: 25' columns\n",
        "\n",
        "3) Drop any na rows \n",
        "\n",
        "**4) Use the Prince factor analysis library to perform MCA**\n",
        "\n",
        "5) List the top 2 components\n",
        "\n",
        "6) Plot the top 2 components\n",
        "\n",
        "7) List the MCA eigenvalues_, total_inertia_, and explained_inertia_\n",
        "\n",
        "8) From the plot (6) and calculations (7) record your observations.\n",
        "    "
      ]
    },
    {
      "cell_type": "code",
      "metadata": {
        "id": "dS5HmpaHKteV",
        "colab_type": "code",
        "colab": {
          "base_uri": "https://localhost:8080/",
          "height": 326
        },
        "outputId": "a34abaf3-d868-48b3-ab72-62f90e6a7a89"
      },
      "source": [
        "import pandas as pd\n",
        "\n",
        "df = pd.read_csv(\"https://tf-assets-prod.s3.amazonaws.com/tf-curric/data-science/google_review_ratings.csv\")\n",
        "df.head()"
      ],
      "execution_count": 52,
      "outputs": [
        {
          "output_type": "execute_result",
          "data": {
            "text/html": [
              "<div>\n",
              "<style scoped>\n",
              "    .dataframe tbody tr th:only-of-type {\n",
              "        vertical-align: middle;\n",
              "    }\n",
              "\n",
              "    .dataframe tbody tr th {\n",
              "        vertical-align: top;\n",
              "    }\n",
              "\n",
              "    .dataframe thead th {\n",
              "        text-align: right;\n",
              "    }\n",
              "</style>\n",
              "<table border=\"1\" class=\"dataframe\">\n",
              "  <thead>\n",
              "    <tr style=\"text-align: right;\">\n",
              "      <th></th>\n",
              "      <th>User</th>\n",
              "      <th>Category 1</th>\n",
              "      <th>Category 2</th>\n",
              "      <th>Category 3</th>\n",
              "      <th>Category 4</th>\n",
              "      <th>Category 5</th>\n",
              "      <th>Category 6</th>\n",
              "      <th>Category 7</th>\n",
              "      <th>Category 8</th>\n",
              "      <th>Category 9</th>\n",
              "      <th>Category 10</th>\n",
              "      <th>Category 11</th>\n",
              "      <th>Category 12</th>\n",
              "      <th>Category 13</th>\n",
              "      <th>Category 14</th>\n",
              "      <th>Category 15</th>\n",
              "      <th>Category 16</th>\n",
              "      <th>Category 17</th>\n",
              "      <th>Category 18</th>\n",
              "      <th>Category 19</th>\n",
              "      <th>Category 20</th>\n",
              "      <th>Category 21</th>\n",
              "      <th>Category 22</th>\n",
              "      <th>Category 23</th>\n",
              "      <th>Category 24</th>\n",
              "      <th>Unnamed: 25</th>\n",
              "    </tr>\n",
              "  </thead>\n",
              "  <tbody>\n",
              "    <tr>\n",
              "      <th>0</th>\n",
              "      <td>User 1</td>\n",
              "      <td>0.000000</td>\n",
              "      <td>0.000000</td>\n",
              "      <td>3.630000</td>\n",
              "      <td>3.650000</td>\n",
              "      <td>5.000000</td>\n",
              "      <td>2.920000</td>\n",
              "      <td>5.000000</td>\n",
              "      <td>2.350000</td>\n",
              "      <td>2.330000</td>\n",
              "      <td>2.640000</td>\n",
              "      <td>1.7</td>\n",
              "      <td>1.690000</td>\n",
              "      <td>1.700000</td>\n",
              "      <td>1.720000</td>\n",
              "      <td>1.740000</td>\n",
              "      <td>0.590000</td>\n",
              "      <td>0.500000</td>\n",
              "      <td>0.000000</td>\n",
              "      <td>0.500000</td>\n",
              "      <td>0.000000</td>\n",
              "      <td>0.000000</td>\n",
              "      <td>0.000000</td>\n",
              "      <td>0.000000</td>\n",
              "      <td>0.000000</td>\n",
              "      <td>nan</td>\n",
              "    </tr>\n",
              "    <tr>\n",
              "      <th>1</th>\n",
              "      <td>User 2</td>\n",
              "      <td>0.000000</td>\n",
              "      <td>0.000000</td>\n",
              "      <td>3.630000</td>\n",
              "      <td>3.650000</td>\n",
              "      <td>5.000000</td>\n",
              "      <td>2.920000</td>\n",
              "      <td>5.000000</td>\n",
              "      <td>2.640000</td>\n",
              "      <td>2.330000</td>\n",
              "      <td>2.650000</td>\n",
              "      <td>1.7</td>\n",
              "      <td>1.690000</td>\n",
              "      <td>1.700000</td>\n",
              "      <td>1.720000</td>\n",
              "      <td>1.740000</td>\n",
              "      <td>0.590000</td>\n",
              "      <td>0.500000</td>\n",
              "      <td>0.000000</td>\n",
              "      <td>0.500000</td>\n",
              "      <td>0.000000</td>\n",
              "      <td>0.000000</td>\n",
              "      <td>0.000000</td>\n",
              "      <td>0.000000</td>\n",
              "      <td>0.000000</td>\n",
              "      <td>nan</td>\n",
              "    </tr>\n",
              "    <tr>\n",
              "      <th>2</th>\n",
              "      <td>User 3</td>\n",
              "      <td>0.000000</td>\n",
              "      <td>0.000000</td>\n",
              "      <td>3.630000</td>\n",
              "      <td>3.630000</td>\n",
              "      <td>5.000000</td>\n",
              "      <td>2.920000</td>\n",
              "      <td>5.000000</td>\n",
              "      <td>2.640000</td>\n",
              "      <td>2.330000</td>\n",
              "      <td>2.640000</td>\n",
              "      <td>1.7</td>\n",
              "      <td>1.690000</td>\n",
              "      <td>1.700000</td>\n",
              "      <td>1.720000</td>\n",
              "      <td>1.740000</td>\n",
              "      <td>0.590000</td>\n",
              "      <td>0.500000</td>\n",
              "      <td>0.000000</td>\n",
              "      <td>0.500000</td>\n",
              "      <td>0.000000</td>\n",
              "      <td>0.000000</td>\n",
              "      <td>0.000000</td>\n",
              "      <td>0.000000</td>\n",
              "      <td>0.000000</td>\n",
              "      <td>nan</td>\n",
              "    </tr>\n",
              "    <tr>\n",
              "      <th>3</th>\n",
              "      <td>User 4</td>\n",
              "      <td>0.000000</td>\n",
              "      <td>0.500000</td>\n",
              "      <td>3.630000</td>\n",
              "      <td>3.630000</td>\n",
              "      <td>5.000000</td>\n",
              "      <td>2.920000</td>\n",
              "      <td>5.000000</td>\n",
              "      <td>2.350000</td>\n",
              "      <td>2.330000</td>\n",
              "      <td>2.640000</td>\n",
              "      <td>1.73</td>\n",
              "      <td>1.690000</td>\n",
              "      <td>1.700000</td>\n",
              "      <td>1.720000</td>\n",
              "      <td>1.740000</td>\n",
              "      <td>0.590000</td>\n",
              "      <td>0.500000</td>\n",
              "      <td>0.000000</td>\n",
              "      <td>0.500000</td>\n",
              "      <td>0.000000</td>\n",
              "      <td>0.000000</td>\n",
              "      <td>0.000000</td>\n",
              "      <td>0.000000</td>\n",
              "      <td>0.000000</td>\n",
              "      <td>nan</td>\n",
              "    </tr>\n",
              "    <tr>\n",
              "      <th>4</th>\n",
              "      <td>User 5</td>\n",
              "      <td>0.000000</td>\n",
              "      <td>0.000000</td>\n",
              "      <td>3.630000</td>\n",
              "      <td>3.630000</td>\n",
              "      <td>5.000000</td>\n",
              "      <td>2.920000</td>\n",
              "      <td>5.000000</td>\n",
              "      <td>2.640000</td>\n",
              "      <td>2.330000</td>\n",
              "      <td>2.640000</td>\n",
              "      <td>1.7</td>\n",
              "      <td>1.690000</td>\n",
              "      <td>1.700000</td>\n",
              "      <td>1.720000</td>\n",
              "      <td>1.740000</td>\n",
              "      <td>0.590000</td>\n",
              "      <td>0.500000</td>\n",
              "      <td>0.000000</td>\n",
              "      <td>0.500000</td>\n",
              "      <td>0.000000</td>\n",
              "      <td>0.000000</td>\n",
              "      <td>0.000000</td>\n",
              "      <td>0.000000</td>\n",
              "      <td>0.000000</td>\n",
              "      <td>nan</td>\n",
              "    </tr>\n",
              "  </tbody>\n",
              "</table>\n",
              "</div>"
            ],
            "text/plain": [
              "     User  Category 1  Category 2  ...  Category 23  Category 24  Unnamed: 25\n",
              "0  User 1    0.000000    0.000000  ...     0.000000     0.000000          nan\n",
              "1  User 2    0.000000    0.000000  ...     0.000000     0.000000          nan\n",
              "2  User 3    0.000000    0.000000  ...     0.000000     0.000000          nan\n",
              "3  User 4    0.000000    0.500000  ...     0.000000     0.000000          nan\n",
              "4  User 5    0.000000    0.000000  ...     0.000000     0.000000          nan\n",
              "\n",
              "[5 rows x 26 columns]"
            ]
          },
          "metadata": {
            "tags": []
          },
          "execution_count": 52
        }
      ]
    },
    {
      "cell_type": "code",
      "metadata": {
        "id": "YizFOOPsKteZ",
        "colab_type": "code",
        "colab": {
          "base_uri": "https://localhost:8080/",
          "height": 35
        },
        "outputId": "3777361e-b73f-4b07-9f9a-5f0fcb176258"
      },
      "source": [
        "df.shape"
      ],
      "execution_count": 53,
      "outputs": [
        {
          "output_type": "execute_result",
          "data": {
            "text/plain": [
              "(5456, 26)"
            ]
          },
          "metadata": {
            "tags": []
          },
          "execution_count": 53
        }
      ]
    },
    {
      "cell_type": "code",
      "metadata": {
        "id": "RxSAADDdKteg",
        "colab_type": "code",
        "colab": {
          "base_uri": "https://localhost:8080/",
          "height": 492
        },
        "outputId": "091c20ed-d54b-4a6c-e270-a8d6a176ccda"
      },
      "source": [
        "df.isnull().sum()"
      ],
      "execution_count": 54,
      "outputs": [
        {
          "output_type": "execute_result",
          "data": {
            "text/plain": [
              "User              0\n",
              "Category 1        0\n",
              "Category 2        0\n",
              "Category 3        0\n",
              "Category 4        0\n",
              "Category 5        0\n",
              "Category 6        0\n",
              "Category 7        0\n",
              "Category 8        0\n",
              "Category 9        0\n",
              "Category 10       0\n",
              "Category 11       0\n",
              "Category 12       1\n",
              "Category 13       0\n",
              "Category 14       0\n",
              "Category 15       0\n",
              "Category 16       0\n",
              "Category 17       0\n",
              "Category 18       0\n",
              "Category 19       0\n",
              "Category 20       0\n",
              "Category 21       0\n",
              "Category 22       0\n",
              "Category 23       0\n",
              "Category 24       1\n",
              "Unnamed: 25    5454\n",
              "dtype: int64"
            ]
          },
          "metadata": {
            "tags": []
          },
          "execution_count": 54
        }
      ]
    },
    {
      "cell_type": "code",
      "metadata": {
        "id": "FtjAhIILKtei",
        "colab_type": "code",
        "colab": {
          "base_uri": "https://localhost:8080/",
          "height": 240
        },
        "outputId": "28cb1973-c94f-4198-b3e5-e469ec165d24"
      },
      "source": [
        "df = df.drop(['User','Unnamed: 25'], axis=1)\n",
        "df.head()"
      ],
      "execution_count": 55,
      "outputs": [
        {
          "output_type": "execute_result",
          "data": {
            "text/html": [
              "<div>\n",
              "<style scoped>\n",
              "    .dataframe tbody tr th:only-of-type {\n",
              "        vertical-align: middle;\n",
              "    }\n",
              "\n",
              "    .dataframe tbody tr th {\n",
              "        vertical-align: top;\n",
              "    }\n",
              "\n",
              "    .dataframe thead th {\n",
              "        text-align: right;\n",
              "    }\n",
              "</style>\n",
              "<table border=\"1\" class=\"dataframe\">\n",
              "  <thead>\n",
              "    <tr style=\"text-align: right;\">\n",
              "      <th></th>\n",
              "      <th>Category 1</th>\n",
              "      <th>Category 2</th>\n",
              "      <th>Category 3</th>\n",
              "      <th>Category 4</th>\n",
              "      <th>Category 5</th>\n",
              "      <th>Category 6</th>\n",
              "      <th>Category 7</th>\n",
              "      <th>Category 8</th>\n",
              "      <th>Category 9</th>\n",
              "      <th>Category 10</th>\n",
              "      <th>Category 11</th>\n",
              "      <th>Category 12</th>\n",
              "      <th>Category 13</th>\n",
              "      <th>Category 14</th>\n",
              "      <th>Category 15</th>\n",
              "      <th>Category 16</th>\n",
              "      <th>Category 17</th>\n",
              "      <th>Category 18</th>\n",
              "      <th>Category 19</th>\n",
              "      <th>Category 20</th>\n",
              "      <th>Category 21</th>\n",
              "      <th>Category 22</th>\n",
              "      <th>Category 23</th>\n",
              "      <th>Category 24</th>\n",
              "    </tr>\n",
              "  </thead>\n",
              "  <tbody>\n",
              "    <tr>\n",
              "      <th>0</th>\n",
              "      <td>0.000000</td>\n",
              "      <td>0.000000</td>\n",
              "      <td>3.630000</td>\n",
              "      <td>3.650000</td>\n",
              "      <td>5.000000</td>\n",
              "      <td>2.920000</td>\n",
              "      <td>5.000000</td>\n",
              "      <td>2.350000</td>\n",
              "      <td>2.330000</td>\n",
              "      <td>2.640000</td>\n",
              "      <td>1.7</td>\n",
              "      <td>1.690000</td>\n",
              "      <td>1.700000</td>\n",
              "      <td>1.720000</td>\n",
              "      <td>1.740000</td>\n",
              "      <td>0.590000</td>\n",
              "      <td>0.500000</td>\n",
              "      <td>0.000000</td>\n",
              "      <td>0.500000</td>\n",
              "      <td>0.000000</td>\n",
              "      <td>0.000000</td>\n",
              "      <td>0.000000</td>\n",
              "      <td>0.000000</td>\n",
              "      <td>0.000000</td>\n",
              "    </tr>\n",
              "    <tr>\n",
              "      <th>1</th>\n",
              "      <td>0.000000</td>\n",
              "      <td>0.000000</td>\n",
              "      <td>3.630000</td>\n",
              "      <td>3.650000</td>\n",
              "      <td>5.000000</td>\n",
              "      <td>2.920000</td>\n",
              "      <td>5.000000</td>\n",
              "      <td>2.640000</td>\n",
              "      <td>2.330000</td>\n",
              "      <td>2.650000</td>\n",
              "      <td>1.7</td>\n",
              "      <td>1.690000</td>\n",
              "      <td>1.700000</td>\n",
              "      <td>1.720000</td>\n",
              "      <td>1.740000</td>\n",
              "      <td>0.590000</td>\n",
              "      <td>0.500000</td>\n",
              "      <td>0.000000</td>\n",
              "      <td>0.500000</td>\n",
              "      <td>0.000000</td>\n",
              "      <td>0.000000</td>\n",
              "      <td>0.000000</td>\n",
              "      <td>0.000000</td>\n",
              "      <td>0.000000</td>\n",
              "    </tr>\n",
              "    <tr>\n",
              "      <th>2</th>\n",
              "      <td>0.000000</td>\n",
              "      <td>0.000000</td>\n",
              "      <td>3.630000</td>\n",
              "      <td>3.630000</td>\n",
              "      <td>5.000000</td>\n",
              "      <td>2.920000</td>\n",
              "      <td>5.000000</td>\n",
              "      <td>2.640000</td>\n",
              "      <td>2.330000</td>\n",
              "      <td>2.640000</td>\n",
              "      <td>1.7</td>\n",
              "      <td>1.690000</td>\n",
              "      <td>1.700000</td>\n",
              "      <td>1.720000</td>\n",
              "      <td>1.740000</td>\n",
              "      <td>0.590000</td>\n",
              "      <td>0.500000</td>\n",
              "      <td>0.000000</td>\n",
              "      <td>0.500000</td>\n",
              "      <td>0.000000</td>\n",
              "      <td>0.000000</td>\n",
              "      <td>0.000000</td>\n",
              "      <td>0.000000</td>\n",
              "      <td>0.000000</td>\n",
              "    </tr>\n",
              "    <tr>\n",
              "      <th>3</th>\n",
              "      <td>0.000000</td>\n",
              "      <td>0.500000</td>\n",
              "      <td>3.630000</td>\n",
              "      <td>3.630000</td>\n",
              "      <td>5.000000</td>\n",
              "      <td>2.920000</td>\n",
              "      <td>5.000000</td>\n",
              "      <td>2.350000</td>\n",
              "      <td>2.330000</td>\n",
              "      <td>2.640000</td>\n",
              "      <td>1.73</td>\n",
              "      <td>1.690000</td>\n",
              "      <td>1.700000</td>\n",
              "      <td>1.720000</td>\n",
              "      <td>1.740000</td>\n",
              "      <td>0.590000</td>\n",
              "      <td>0.500000</td>\n",
              "      <td>0.000000</td>\n",
              "      <td>0.500000</td>\n",
              "      <td>0.000000</td>\n",
              "      <td>0.000000</td>\n",
              "      <td>0.000000</td>\n",
              "      <td>0.000000</td>\n",
              "      <td>0.000000</td>\n",
              "    </tr>\n",
              "    <tr>\n",
              "      <th>4</th>\n",
              "      <td>0.000000</td>\n",
              "      <td>0.000000</td>\n",
              "      <td>3.630000</td>\n",
              "      <td>3.630000</td>\n",
              "      <td>5.000000</td>\n",
              "      <td>2.920000</td>\n",
              "      <td>5.000000</td>\n",
              "      <td>2.640000</td>\n",
              "      <td>2.330000</td>\n",
              "      <td>2.640000</td>\n",
              "      <td>1.7</td>\n",
              "      <td>1.690000</td>\n",
              "      <td>1.700000</td>\n",
              "      <td>1.720000</td>\n",
              "      <td>1.740000</td>\n",
              "      <td>0.590000</td>\n",
              "      <td>0.500000</td>\n",
              "      <td>0.000000</td>\n",
              "      <td>0.500000</td>\n",
              "      <td>0.000000</td>\n",
              "      <td>0.000000</td>\n",
              "      <td>0.000000</td>\n",
              "      <td>0.000000</td>\n",
              "      <td>0.000000</td>\n",
              "    </tr>\n",
              "  </tbody>\n",
              "</table>\n",
              "</div>"
            ],
            "text/plain": [
              "   Category 1  Category 2  Category 3  ...  Category 22  Category 23  Category 24\n",
              "0    0.000000    0.000000    3.630000  ...     0.000000     0.000000     0.000000\n",
              "1    0.000000    0.000000    3.630000  ...     0.000000     0.000000     0.000000\n",
              "2    0.000000    0.000000    3.630000  ...     0.000000     0.000000     0.000000\n",
              "3    0.000000    0.500000    3.630000  ...     0.000000     0.000000     0.000000\n",
              "4    0.000000    0.000000    3.630000  ...     0.000000     0.000000     0.000000\n",
              "\n",
              "[5 rows x 24 columns]"
            ]
          },
          "metadata": {
            "tags": []
          },
          "execution_count": 55
        }
      ]
    },
    {
      "cell_type": "code",
      "metadata": {
        "id": "mq3Ddo0PKtej",
        "colab_type": "code",
        "colab": {
          "base_uri": "https://localhost:8080/",
          "height": 35
        },
        "outputId": "8f3eec2e-6d48-4220-8750-51ba71969fe2"
      },
      "source": [
        "df.shape"
      ],
      "execution_count": 56,
      "outputs": [
        {
          "output_type": "execute_result",
          "data": {
            "text/plain": [
              "(5456, 24)"
            ]
          },
          "metadata": {
            "tags": []
          },
          "execution_count": 56
        }
      ]
    },
    {
      "cell_type": "code",
      "metadata": {
        "id": "h7flhQCoKtel",
        "colab_type": "code",
        "colab": {}
      },
      "source": [
        "df = df.dropna()"
      ],
      "execution_count": 0,
      "outputs": []
    },
    {
      "cell_type": "code",
      "metadata": {
        "id": "wS8V6j6XKtet",
        "colab_type": "code",
        "colab": {
          "base_uri": "https://localhost:8080/",
          "height": 35
        },
        "outputId": "4bedc845-e8f7-4d0c-c95a-7b2b1287de7e"
      },
      "source": [
        "df.shape"
      ],
      "execution_count": 59,
      "outputs": [
        {
          "output_type": "execute_result",
          "data": {
            "text/plain": [
              "(5454, 24)"
            ]
          },
          "metadata": {
            "tags": []
          },
          "execution_count": 59
        }
      ]
    },
    {
      "cell_type": "code",
      "metadata": {
        "id": "fuVvkpHzKtew",
        "colab_type": "code",
        "colab": {}
      },
      "source": [
        "#### Instantiate a `prince` object and fit the data in `df` dataframe\n",
        "\n",
        "Use the following parmaeters:\n",
        "\n",
        "```\n",
        "n_components=2\n",
        "n_iter=3\n",
        "copy=True\n",
        "engine='auto'\n",
        "```"
      ],
      "execution_count": 0,
      "outputs": []
    },
    {
      "cell_type": "code",
      "metadata": {
        "id": "LuWLdK-sKtey",
        "colab_type": "code",
        "colab": {}
      },
      "source": [
        "import warnings\n",
        "warnings.filterwarnings('ignore')\n",
        "\n",
        "import prince\n",
        "mca = prince.MCA(\n",
        "     n_components=2,\n",
        "     n_iter=3,\n",
        "     copy=True,\n",
        "     check_input=True,\n",
        "     engine='auto',\n",
        "     random_state=42\n",
        ")\n",
        "mca = mca.fit(df)"
      ],
      "execution_count": 0,
      "outputs": []
    },
    {
      "cell_type": "code",
      "metadata": {
        "id": "TGysuSqEKte9",
        "colab_type": "code",
        "colab": {
          "base_uri": "https://localhost:8080/",
          "height": 417
        },
        "outputId": "c08679f1-8fa9-4d69-a704-a9b2be4601bf"
      },
      "source": [
        "mca.column_coordinates(df)"
      ],
      "execution_count": 61,
      "outputs": [
        {
          "output_type": "execute_result",
          "data": {
            "text/html": [
              "<div>\n",
              "<style scoped>\n",
              "    .dataframe tbody tr th:only-of-type {\n",
              "        vertical-align: middle;\n",
              "    }\n",
              "\n",
              "    .dataframe tbody tr th {\n",
              "        vertical-align: top;\n",
              "    }\n",
              "\n",
              "    .dataframe thead th {\n",
              "        text-align: right;\n",
              "    }\n",
              "</style>\n",
              "<table border=\"1\" class=\"dataframe\">\n",
              "  <thead>\n",
              "    <tr style=\"text-align: right;\">\n",
              "      <th></th>\n",
              "      <th>0</th>\n",
              "      <th>1</th>\n",
              "    </tr>\n",
              "  </thead>\n",
              "  <tbody>\n",
              "    <tr>\n",
              "      <th>Category 1_0.0</th>\n",
              "      <td>-0.354069</td>\n",
              "      <td>-1.890559</td>\n",
              "    </tr>\n",
              "    <tr>\n",
              "      <th>Category 1_0.5</th>\n",
              "      <td>-0.246134</td>\n",
              "      <td>-1.523444</td>\n",
              "    </tr>\n",
              "    <tr>\n",
              "      <th>Category 1_0.51</th>\n",
              "      <td>-0.170815</td>\n",
              "      <td>-1.538390</td>\n",
              "    </tr>\n",
              "    <tr>\n",
              "      <th>Category 1_0.52</th>\n",
              "      <td>-0.184619</td>\n",
              "      <td>-1.446332</td>\n",
              "    </tr>\n",
              "    <tr>\n",
              "      <th>Category 1_0.53</th>\n",
              "      <td>-0.130677</td>\n",
              "      <td>-1.380084</td>\n",
              "    </tr>\n",
              "    <tr>\n",
              "      <th>...</th>\n",
              "      <td>...</td>\n",
              "      <td>...</td>\n",
              "    </tr>\n",
              "    <tr>\n",
              "      <th>Category 24_4.84</th>\n",
              "      <td>1.881996</td>\n",
              "      <td>-0.459049</td>\n",
              "    </tr>\n",
              "    <tr>\n",
              "      <th>Category 24_4.85</th>\n",
              "      <td>1.625384</td>\n",
              "      <td>-0.572900</td>\n",
              "    </tr>\n",
              "    <tr>\n",
              "      <th>Category 24_4.86</th>\n",
              "      <td>1.330032</td>\n",
              "      <td>-0.229889</td>\n",
              "    </tr>\n",
              "    <tr>\n",
              "      <th>Category 24_4.87</th>\n",
              "      <td>1.709191</td>\n",
              "      <td>-0.785900</td>\n",
              "    </tr>\n",
              "    <tr>\n",
              "      <th>Category 24_5.0</th>\n",
              "      <td>1.048819</td>\n",
              "      <td>-0.086579</td>\n",
              "    </tr>\n",
              "  </tbody>\n",
              "</table>\n",
              "<p>6808 rows × 2 columns</p>\n",
              "</div>"
            ],
            "text/plain": [
              "                         0         1\n",
              "Category 1_0.0   -0.354069 -1.890559\n",
              "Category 1_0.5   -0.246134 -1.523444\n",
              "Category 1_0.51  -0.170815 -1.538390\n",
              "Category 1_0.52  -0.184619 -1.446332\n",
              "Category 1_0.53  -0.130677 -1.380084\n",
              "...                    ...       ...\n",
              "Category 24_4.84  1.881996 -0.459049\n",
              "Category 24_4.85  1.625384 -0.572900\n",
              "Category 24_4.86  1.330032 -0.229889\n",
              "Category 24_4.87  1.709191 -0.785900\n",
              "Category 24_5.0   1.048819 -0.086579\n",
              "\n",
              "[6808 rows x 2 columns]"
            ]
          },
          "metadata": {
            "tags": []
          },
          "execution_count": 61
        }
      ]
    },
    {
      "cell_type": "code",
      "metadata": {
        "id": "aBn1Xlj4Kte-",
        "colab_type": "code",
        "colab": {
          "base_uri": "https://localhost:8080/",
          "height": 428
        },
        "outputId": "009addde-72d8-4ab0-a972-3f77e06873fc"
      },
      "source": [
        "ax = mca.plot_coordinates(\n",
        "     X=df,\n",
        "     ax=None,\n",
        "     figsize=(6, 6),\n",
        "     show_row_points=True,\n",
        "     row_points_size=10,\n",
        "     show_row_labels=False,\n",
        "     show_column_points=True,\n",
        "     column_points_size=30,\n",
        "     show_column_labels=False,\n",
        "     legend_n_cols=1\n",
        ")\n",
        "ax.get_figure().savefig('mca_coordinates.svg')"
      ],
      "execution_count": 62,
      "outputs": [
        {
          "output_type": "display_data",
          "data": {
            "image/png": "[encoded data removed]",
            "text/plain": [
              "<Figure size 432x432 with 1 Axes>"
            ]
          },
          "metadata": {
            "tags": []
          }
        }
      ]
    },
    {
      "cell_type": "markdown",
      "metadata": {
        "id": "QQ65S1QxKtfC",
        "colab_type": "text"
      },
      "source": [
        "Percentage of variance explained by an Eigenvector is also referred as its inertia."
      ]
    },
    {
      "cell_type": "code",
      "metadata": {
        "id": "s9wtAlf6KtfC",
        "colab_type": "code",
        "colab": {
          "base_uri": "https://localhost:8080/",
          "height": 35
        },
        "outputId": "3f54f0ed-1a2b-431e-a539-c715ce6f1fc8"
      },
      "source": [
        "mca.eigenvalues_"
      ],
      "execution_count": 63,
      "outputs": [
        {
          "output_type": "execute_result",
          "data": {
            "text/plain": [
              "[0.5134880869685479, 0.49579583745159617]"
            ]
          },
          "metadata": {
            "tags": []
          },
          "execution_count": 63
        }
      ]
    },
    {
      "cell_type": "code",
      "metadata": {
        "id": "im0QTuyJKtfE",
        "colab_type": "code",
        "colab": {
          "base_uri": "https://localhost:8080/",
          "height": 35
        },
        "outputId": "124c6fca-3241-4964-b546-ac8be457a766"
      },
      "source": [
        "mca.total_inertia_"
      ],
      "execution_count": 64,
      "outputs": [
        {
          "output_type": "execute_result",
          "data": {
            "text/plain": [
              "282.6666666666667"
            ]
          },
          "metadata": {
            "tags": []
          },
          "execution_count": 64
        }
      ]
    },
    {
      "cell_type": "code",
      "metadata": {
        "id": "eoq7a3R9KtfF",
        "colab_type": "code",
        "colab": {
          "base_uri": "https://localhost:8080/",
          "height": 35
        },
        "outputId": "997d583b-ca4a-4afb-9f80-fdafb6466ebd"
      },
      "source": [
        "mca.explained_inertia_"
      ],
      "execution_count": 65,
      "outputs": [
        {
          "output_type": "execute_result",
          "data": {
            "text/plain": [
              "[0.0018165852133321268, 0.0017539947079655523]"
            ]
          },
          "metadata": {
            "tags": []
          },
          "execution_count": 65
        }
      ]
    },
    {
      "cell_type": "code",
      "metadata": {
        "id": "P4SpXArfKtfI",
        "colab_type": "code",
        "colab": {
          "base_uri": "https://localhost:8080/",
          "height": 167
        },
        "outputId": "120887a2-4f9e-480e-a682-9e83bf1b5a3c"
      },
      "source": [
        "The "
      ],
      "execution_count": 66,
      "outputs": [
        {
          "output_type": "error",
          "ename": "NameError",
          "evalue": "ignored",
          "traceback": [
            "\u001b[0;31m---------------------------------------------------------------------------\u001b[0m",
            "\u001b[0;31mNameError\u001b[0m                                 Traceback (most recent call last)",
            "\u001b[0;32m<ipython-input-66-4d7f59897bfe>\u001b[0m in \u001b[0;36m<module>\u001b[0;34m()\u001b[0m\n\u001b[0;32m----> 1\u001b[0;31m \u001b[0mThe\u001b[0m\u001b[0;34m\u001b[0m\u001b[0;34m\u001b[0m\u001b[0m\n\u001b[0m",
            "\u001b[0;31mNameError\u001b[0m: name 'The' is not defined"
          ]
        }
      ]
    }
  ]
}