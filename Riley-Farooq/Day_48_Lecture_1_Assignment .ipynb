{
  "nbformat": 4,
  "nbformat_minor": 0,
  "metadata": {
    "colab": {
      "name": "Day 48 Lecture 1 Assignment.ipynb",
      "provenance": [],
      "collapsed_sections": []
    },
    "kernelspec": {
      "display_name": "Python 3",
      "language": "python",
      "name": "python3"
    },
    "language_info": {
      "codemirror_mode": {
        "name": "ipython",
        "version": 3
      },
      "file_extension": ".py",
      "mimetype": "text/x-python",
      "name": "python",
      "nbconvert_exporter": "python",
      "pygments_lexer": "ipython3",
      "version": "3.7.0"
    }
  },
  "cells": [
    {
      "cell_type": "markdown",
      "metadata": {
        "colab_type": "text",
        "id": "xdL0Yz0D1D_q"
      },
      "source": [
        "## Day 48 Lecture 1 Assignment\n",
        "\n",
        "In this assignment, we will apply hierarchical clustering to a dataset containing the locations of all Starbucks in the U.S.\n",
        "\n",
        "Note: this assignment uses geographical data and maps, which will require the use of two specific packages: haversine and plotly. Both of these can be pip installed."
      ]
    },
    {
      "cell_type": "code",
      "metadata": {
        "id": "7VFwFwExRLID",
        "colab_type": "code",
        "outputId": "a262f548-7a92-42aa-c93b-816a42db86ad",
        "colab": {
          "base_uri": "https://localhost:8080/",
          "height": 34
        }
      },
      "source": [
        "pip install haversine"
      ],
      "execution_count": 0,
      "outputs": [
        {
          "output_type": "stream",
          "text": [
            "Requirement already satisfied: haversine in /usr/local/lib/python3.6/dist-packages (2.1.2)\n"
          ],
          "name": "stdout"
        }
      ]
    },
    {
      "cell_type": "code",
      "metadata": {
        "colab_type": "code",
        "id": "OulyiH_C1D_r",
        "colab": {}
      },
      "source": [
        "%matplotlib inline\n",
        "\n",
        "import matplotlib.pyplot as plt\n",
        "import numpy as np\n",
        "import pandas as pd\n",
        "from sklearn.cluster import AgglomerativeClustering\n",
        "from scipy.cluster.hierarchy import dendrogram\n",
        "from haversine import haversine\n",
        "import plotly.express as px\n",
        "import seaborn as sns\n",
        "sns.set()"
      ],
      "execution_count": 0,
      "outputs": []
    },
    {
      "cell_type": "markdown",
      "metadata": {
        "id": "NFHYqtgvglMA",
        "colab_type": "text"
      },
      "source": [
        "Below are some convenience functions for calculating geographical distance matrices using lat-long data and plotting a dendrogram by combining a scikit-learn model with scipy's dendrogram plotting functionality."
      ]
    },
    {
      "cell_type": "code",
      "metadata": {
        "id": "jjPmbcf1glMB",
        "colab_type": "code",
        "colab": {}
      },
      "source": [
        "def geo_sim_matrix(df, col_name = 'Coordinates'):\n",
        "    \"\"\"\n",
        "    A function that computes a geographical distance matrix (in miles).\n",
        "    Each row in the dataframe should correspond to one location.\n",
        "    In addition, the dataframe must have a column containing the lat-long of each location as a tuple (i.e. (lat, long)).\n",
        "    \n",
        "    Parameters:\n",
        "        df (pandas dataframe): an nxm dataframe containing the locations to compute similarities between.\n",
        "        col (string): the name of the column containing the lat-long tuples.\n",
        "        \n",
        "    Returns:\n",
        "        distance (pandas dataframe): an nxn distance matrix between the geographical coordinates of each location.\n",
        "    \"\"\"\n",
        "    \n",
        "    df = df.copy()\n",
        "    df.reset_index(inplace=True)\n",
        "    haver_vec = np.vectorize(haversine, otypes=[np.float32])\n",
        "    distance = df.groupby('index').apply(lambda x: pd.Series(haver_vec(df[col_name], x[col_name])))\n",
        "    distance = distance / 1.609344\n",
        "    distance.columns = distance.index\n",
        "    \n",
        "    return distance\n",
        "\n",
        "\n",
        "def plot_dendrogram(model, **kwargs):\n",
        "    \"\"\"\n",
        "    A basic function for plotting a dendrogram. Sourced from the following link:\n",
        "    https://github.com/scikit-learn/scikit-learn/blob/70cf4a676caa2d2dad2e3f6e4478d64bcb0506f7/examples/cluster/plot_hierarchical_clustering_dendrogram.py\n",
        "    \n",
        "    Parameters:\n",
        "        model (object of class sklearn.cluster.hierarchical.AgglomerativeClustering): a fitted scikit-learn hierarchical clustering model.\n",
        "    \n",
        "    Output: a dendrogram based on the model based in the parameters.\n",
        "    \n",
        "    Returns: N/A    \n",
        "    \"\"\"\n",
        "    # Children of hierarchical clustering\n",
        "    children = model.children_\n",
        "\n",
        "    # Distances between each pair of children\n",
        "    # Since we don't have this information, we can use a uniform one for plotting\n",
        "    distance = np.arange(children.shape[0])\n",
        "\n",
        "    # The number of observations contained in each cluster level\n",
        "    no_of_observations = np.arange(2, children.shape[0]+2)\n",
        "\n",
        "    # Create linkage matrix and then plot the dendrogram\n",
        "    linkage_matrix = np.column_stack([children, distance, no_of_observations]).astype(float)\n",
        "\n",
        "    # Plot the corresponding dendrogram\n",
        "    dendrogram(linkage_matrix, **kwargs)"
      ],
      "execution_count": 0,
      "outputs": []
    },
    {
      "cell_type": "markdown",
      "metadata": {
        "colab_type": "text",
        "id": "ezMvoRlB1D_t"
      },
      "source": [
        "This dataset contains the latitude and longitude (as well as several other details we will not be using) of every Starbucks in the world as of February 2017. Each row consists of the following features, which are generally self-explanatory:\n",
        "\n",
        "- Brand\n",
        "- Store Number\n",
        "- Store Name\n",
        "- Ownership Type\n",
        "- Street Address\n",
        "- City\n",
        "- State/Province\n",
        "- Country\n",
        "- Postcode\n",
        "- Phone Number\n",
        "- Timezone\n",
        "- Longitude\n",
        "- Latitude\n",
        "\n",
        "Load in the dataset."
      ]
    },
    {
      "cell_type": "code",
      "metadata": {
        "colab_type": "code",
        "id": "wP1U4eQ91D_u",
        "outputId": "65848ccd-ce35-42d4-d79f-72546dca7b56",
        "colab": {
          "base_uri": "https://localhost:8080/",
          "height": 196
        }
      },
      "source": [
        "# answer goes here\n",
        "df = pd.read_csv('https://tf-assets-prod.s3.amazonaws.com/tf-curric/data-science/Data%20Sets%20Clustering/starbucks_locations.csv')\n",
        "df.head(2)"
      ],
      "execution_count": 0,
      "outputs": [
        {
          "output_type": "execute_result",
          "data": {
            "text/html": [
              "<div>\n",
              "<style scoped>\n",
              "    .dataframe tbody tr th:only-of-type {\n",
              "        vertical-align: middle;\n",
              "    }\n",
              "\n",
              "    .dataframe tbody tr th {\n",
              "        vertical-align: top;\n",
              "    }\n",
              "\n",
              "    .dataframe thead th {\n",
              "        text-align: right;\n",
              "    }\n",
              "</style>\n",
              "<table border=\"1\" class=\"dataframe\">\n",
              "  <thead>\n",
              "    <tr style=\"text-align: right;\">\n",
              "      <th></th>\n",
              "      <th>Brand</th>\n",
              "      <th>Store Number</th>\n",
              "      <th>Store Name</th>\n",
              "      <th>Ownership Type</th>\n",
              "      <th>Street Address</th>\n",
              "      <th>City</th>\n",
              "      <th>State/Province</th>\n",
              "      <th>Country</th>\n",
              "      <th>Postcode</th>\n",
              "      <th>Phone Number</th>\n",
              "      <th>Timezone</th>\n",
              "      <th>Longitude</th>\n",
              "      <th>Latitude</th>\n",
              "    </tr>\n",
              "  </thead>\n",
              "  <tbody>\n",
              "    <tr>\n",
              "      <th>0</th>\n",
              "      <td>Starbucks</td>\n",
              "      <td>47370-257954</td>\n",
              "      <td>Meritxell, 96</td>\n",
              "      <td>Licensed</td>\n",
              "      <td>Av. Meritxell, 96</td>\n",
              "      <td>Andorra la Vella</td>\n",
              "      <td>7</td>\n",
              "      <td>AD</td>\n",
              "      <td>AD500</td>\n",
              "      <td>376818720</td>\n",
              "      <td>GMT+1:00 Europe/Andorra</td>\n",
              "      <td>1.53</td>\n",
              "      <td>42.51</td>\n",
              "    </tr>\n",
              "    <tr>\n",
              "      <th>1</th>\n",
              "      <td>Starbucks</td>\n",
              "      <td>22331-212325</td>\n",
              "      <td>Ajman Drive Thru</td>\n",
              "      <td>Licensed</td>\n",
              "      <td>1 Street 69, Al Jarf</td>\n",
              "      <td>Ajman</td>\n",
              "      <td>AJ</td>\n",
              "      <td>AE</td>\n",
              "      <td>NaN</td>\n",
              "      <td>NaN</td>\n",
              "      <td>GMT+04:00 Asia/Dubai</td>\n",
              "      <td>55.47</td>\n",
              "      <td>25.42</td>\n",
              "    </tr>\n",
              "  </tbody>\n",
              "</table>\n",
              "</div>"
            ],
            "text/plain": [
              "       Brand  Store Number  ... Longitude Latitude\n",
              "0  Starbucks  47370-257954  ...      1.53    42.51\n",
              "1  Starbucks  22331-212325  ...     55.47    25.42\n",
              "\n",
              "[2 rows x 13 columns]"
            ]
          },
          "metadata": {
            "tags": []
          },
          "execution_count": 13
        }
      ]
    },
    {
      "cell_type": "markdown",
      "metadata": {
        "colab_type": "text",
        "id": "o_K1eQ0x1D_y"
      },
      "source": [
        "Begin by narrowing down the dataset to a specific geographic area of interest. Since we will need to manually compute a distance matrix, which will be on the order of $n^{2}$ in terms of size, we would recommend choosing an area with 3000 or less locations. In this example, we will use California, which has about 2800 locations. Feel free to choose a different region that is of more interest to you, if desired.\n",
        "\n",
        "Subset the dataframe to only include records for Starbucks locations in California."
      ]
    },
    {
      "cell_type": "code",
      "metadata": {
        "id": "k7FiYDpDyFHJ",
        "colab_type": "code",
        "outputId": "a9f9f476-74bd-461c-b7a0-191504d499a4",
        "colab": {
          "base_uri": "https://localhost:8080/",
          "height": 323
        }
      },
      "source": [
        "df.info()"
      ],
      "execution_count": 0,
      "outputs": [
        {
          "output_type": "stream",
          "text": [
            "<class 'pandas.core.frame.DataFrame'>\n",
            "RangeIndex: 25600 entries, 0 to 25599\n",
            "Data columns (total 13 columns):\n",
            "Brand             25600 non-null object\n",
            "Store Number      25600 non-null object\n",
            "Store Name        25600 non-null object\n",
            "Ownership Type    25600 non-null object\n",
            "Street Address    25598 non-null object\n",
            "City              25585 non-null object\n",
            "State/Province    25600 non-null object\n",
            "Country           25600 non-null object\n",
            "Postcode          24078 non-null object\n",
            "Phone Number      18739 non-null object\n",
            "Timezone          25600 non-null object\n",
            "Longitude         25599 non-null float64\n",
            "Latitude          25599 non-null float64\n",
            "dtypes: float64(2), object(11)\n",
            "memory usage: 2.5+ MB\n"
          ],
          "name": "stdout"
        }
      ]
    },
    {
      "cell_type": "code",
      "metadata": {
        "id": "xaPTv22LglMK",
        "colab_type": "code",
        "outputId": "c573806e-877c-4f94-c676-d537e8195e09",
        "colab": {
          "base_uri": "https://localhost:8080/",
          "height": 864
        }
      },
      "source": [
        "# answer goes here\n",
        "df1 = df.loc[(df['State/Province']=='IL') & (df['Country']=='US') & (df['Postcode'].str.startswith('606'))]\n",
        "df1"
      ],
      "execution_count": 0,
      "outputs": [
        {
          "output_type": "execute_result",
          "data": {
            "text/html": [
              "<div>\n",
              "<style scoped>\n",
              "    .dataframe tbody tr th:only-of-type {\n",
              "        vertical-align: middle;\n",
              "    }\n",
              "\n",
              "    .dataframe tbody tr th {\n",
              "        vertical-align: top;\n",
              "    }\n",
              "\n",
              "    .dataframe thead th {\n",
              "        text-align: right;\n",
              "    }\n",
              "</style>\n",
              "<table border=\"1\" class=\"dataframe\">\n",
              "  <thead>\n",
              "    <tr style=\"text-align: right;\">\n",
              "      <th></th>\n",
              "      <th>Brand</th>\n",
              "      <th>Store Number</th>\n",
              "      <th>Store Name</th>\n",
              "      <th>Ownership Type</th>\n",
              "      <th>Street Address</th>\n",
              "      <th>City</th>\n",
              "      <th>State/Province</th>\n",
              "      <th>Country</th>\n",
              "      <th>Postcode</th>\n",
              "      <th>Phone Number</th>\n",
              "      <th>Timezone</th>\n",
              "      <th>Longitude</th>\n",
              "      <th>Latitude</th>\n",
              "    </tr>\n",
              "  </thead>\n",
              "  <tbody>\n",
              "    <tr>\n",
              "      <th>17477</th>\n",
              "      <td>Starbucks</td>\n",
              "      <td>75935-101330</td>\n",
              "      <td>Marriott - Bedford Park - Entrance</td>\n",
              "      <td>Licensed</td>\n",
              "      <td>6520 S Cicero Ave</td>\n",
              "      <td>Bedford Park</td>\n",
              "      <td>IL</td>\n",
              "      <td>US</td>\n",
              "      <td>606385804</td>\n",
              "      <td>7085949500</td>\n",
              "      <td>GMT-06:00 America/Chicago</td>\n",
              "      <td>-87.74</td>\n",
              "      <td>41.77</td>\n",
              "    </tr>\n",
              "    <tr>\n",
              "      <th>17516</th>\n",
              "      <td>Starbucks</td>\n",
              "      <td>15963-166069</td>\n",
              "      <td>Target Chicago T-2781</td>\n",
              "      <td>Licensed</td>\n",
              "      <td>1101 W Jackson Blvd</td>\n",
              "      <td>Chicago</td>\n",
              "      <td>IL</td>\n",
              "      <td>US</td>\n",
              "      <td>606072905</td>\n",
              "      <td>312-279-3340</td>\n",
              "      <td>GMT-06:00 America/Chicago</td>\n",
              "      <td>-87.65</td>\n",
              "      <td>41.88</td>\n",
              "    </tr>\n",
              "    <tr>\n",
              "      <th>17517</th>\n",
              "      <td>Starbucks</td>\n",
              "      <td>2877-88641</td>\n",
              "      <td>Washington &amp; Clinton</td>\n",
              "      <td>Company Owned</td>\n",
              "      <td>40 N. Clinton St.</td>\n",
              "      <td>Chicago</td>\n",
              "      <td>IL</td>\n",
              "      <td>US</td>\n",
              "      <td>60661</td>\n",
              "      <td>312/463-0331</td>\n",
              "      <td>GMT-06:00 America/Chicago</td>\n",
              "      <td>-87.64</td>\n",
              "      <td>41.88</td>\n",
              "    </tr>\n",
              "    <tr>\n",
              "      <th>17518</th>\n",
              "      <td>Starbucks</td>\n",
              "      <td>202-161424</td>\n",
              "      <td>Oak &amp; Rush</td>\n",
              "      <td>Company Owned</td>\n",
              "      <td>1003 N Rush Street</td>\n",
              "      <td>Chicago</td>\n",
              "      <td>IL</td>\n",
              "      <td>US</td>\n",
              "      <td>60611</td>\n",
              "      <td>3129515436</td>\n",
              "      <td>GMT-06:00 America/Chicago</td>\n",
              "      <td>-87.63</td>\n",
              "      <td>41.90</td>\n",
              "    </tr>\n",
              "    <tr>\n",
              "      <th>17519</th>\n",
              "      <td>Starbucks</td>\n",
              "      <td>76178-93198</td>\n",
              "      <td>Target Chicago T-1879</td>\n",
              "      <td>Licensed</td>\n",
              "      <td>4433 S Pulaski</td>\n",
              "      <td>Chicago</td>\n",
              "      <td>IL</td>\n",
              "      <td>US</td>\n",
              "      <td>606324010</td>\n",
              "      <td>773-579-2120</td>\n",
              "      <td>GMT-06:00 America/Chicago</td>\n",
              "      <td>-87.72</td>\n",
              "      <td>41.81</td>\n",
              "    </tr>\n",
              "    <tr>\n",
              "      <th>...</th>\n",
              "      <td>...</td>\n",
              "      <td>...</td>\n",
              "      <td>...</td>\n",
              "      <td>...</td>\n",
              "      <td>...</td>\n",
              "      <td>...</td>\n",
              "      <td>...</td>\n",
              "      <td>...</td>\n",
              "      <td>...</td>\n",
              "      <td>...</td>\n",
              "      <td>...</td>\n",
              "      <td>...</td>\n",
              "      <td>...</td>\n",
              "    </tr>\n",
              "    <tr>\n",
              "      <th>17693</th>\n",
              "      <td>Starbucks</td>\n",
              "      <td>72622-28127</td>\n",
              "      <td>Macys - Chicago/Lower Level</td>\n",
              "      <td>Licensed</td>\n",
              "      <td>111 N. State St.</td>\n",
              "      <td>Chicago</td>\n",
              "      <td>IL</td>\n",
              "      <td>US</td>\n",
              "      <td>606021659</td>\n",
              "      <td>312-781-3129</td>\n",
              "      <td>GMT-06:00 America/Chicago</td>\n",
              "      <td>-87.63</td>\n",
              "      <td>41.88</td>\n",
              "    </tr>\n",
              "    <tr>\n",
              "      <th>17694</th>\n",
              "      <td>Starbucks</td>\n",
              "      <td>13439-107188</td>\n",
              "      <td>Lawrence &amp; Pulaski - North Mayfair</td>\n",
              "      <td>Company Owned</td>\n",
              "      <td>4830 N. Pulaski Rd., Suite A</td>\n",
              "      <td>Chicago</td>\n",
              "      <td>IL</td>\n",
              "      <td>US</td>\n",
              "      <td>606302844</td>\n",
              "      <td>773-282-9503</td>\n",
              "      <td>GMT-06:00 America/Chicago</td>\n",
              "      <td>-87.73</td>\n",
              "      <td>41.97</td>\n",
              "    </tr>\n",
              "    <tr>\n",
              "      <th>17695</th>\n",
              "      <td>Starbucks</td>\n",
              "      <td>2449-20519</td>\n",
              "      <td>Lincoln/Damen/Irving</td>\n",
              "      <td>Company Owned</td>\n",
              "      <td>4015 N. Lincoln Avenue, Unit C-1, The Miracle ...</td>\n",
              "      <td>Chicago</td>\n",
              "      <td>IL</td>\n",
              "      <td>US</td>\n",
              "      <td>606183009</td>\n",
              "      <td>773-348-5776</td>\n",
              "      <td>GMT-06:00 America/Chicago</td>\n",
              "      <td>-87.68</td>\n",
              "      <td>41.95</td>\n",
              "    </tr>\n",
              "    <tr>\n",
              "      <th>17696</th>\n",
              "      <td>Starbucks</td>\n",
              "      <td>72624-28167</td>\n",
              "      <td>Macys - Chicago/First Floor</td>\n",
              "      <td>Licensed</td>\n",
              "      <td>111 N. State St.</td>\n",
              "      <td>Chicago</td>\n",
              "      <td>IL</td>\n",
              "      <td>US</td>\n",
              "      <td>606021659</td>\n",
              "      <td>312-781-4400</td>\n",
              "      <td>GMT-06:00 America/Chicago</td>\n",
              "      <td>-87.63</td>\n",
              "      <td>41.88</td>\n",
              "    </tr>\n",
              "    <tr>\n",
              "      <th>17697</th>\n",
              "      <td>Starbucks</td>\n",
              "      <td>10506-108336</td>\n",
              "      <td>Elston &amp; Logan - Lincoln Park</td>\n",
              "      <td>Company Owned</td>\n",
              "      <td>2577 N Elston Ave, Chicago Ridge</td>\n",
              "      <td>Chicago</td>\n",
              "      <td>IL</td>\n",
              "      <td>US</td>\n",
              "      <td>606472003</td>\n",
              "      <td>773-227-2936</td>\n",
              "      <td>GMT-06:00 America/Chicago</td>\n",
              "      <td>-87.68</td>\n",
              "      <td>41.93</td>\n",
              "    </tr>\n",
              "  </tbody>\n",
              "</table>\n",
              "<p>179 rows × 13 columns</p>\n",
              "</div>"
            ],
            "text/plain": [
              "           Brand  Store Number  ... Longitude Latitude\n",
              "17477  Starbucks  75935-101330  ...    -87.74    41.77\n",
              "17516  Starbucks  15963-166069  ...    -87.65    41.88\n",
              "17517  Starbucks    2877-88641  ...    -87.64    41.88\n",
              "17518  Starbucks    202-161424  ...    -87.63    41.90\n",
              "17519  Starbucks   76178-93198  ...    -87.72    41.81\n",
              "...          ...           ...  ...       ...      ...\n",
              "17693  Starbucks   72622-28127  ...    -87.63    41.88\n",
              "17694  Starbucks  13439-107188  ...    -87.73    41.97\n",
              "17695  Starbucks    2449-20519  ...    -87.68    41.95\n",
              "17696  Starbucks   72624-28167  ...    -87.63    41.88\n",
              "17697  Starbucks  10506-108336  ...    -87.68    41.93\n",
              "\n",
              "[179 rows x 13 columns]"
            ]
          },
          "metadata": {
            "tags": []
          },
          "execution_count": 37
        }
      ]
    },
    {
      "cell_type": "markdown",
      "metadata": {
        "id": "JP466YhlglMN",
        "colab_type": "text"
      },
      "source": [
        "The haversine package takes tuples with 2 numeric elements and interprets them as lat-long to calculate distance, so add a new column called \"Coordinates\" that converts the lat and long in each row into a tuple. In other words, the last two columns of the dataframe should initially look like this:\n",
        "\n",
        "**Latitude, Longitude**  \n",
        "-121.64, 39.14  \n",
        "-116.40, 34.13  \n",
        "...\n",
        "\n",
        "After adding the new column, the last three columns should look like this:\n",
        "\n",
        "**Latitude, Longitude, Coordinates**  \n",
        "-121.64, 39.14, (-121.64, 39.14)  \n",
        "-116.40, 34.13, (-116.40, 34.13)  \n",
        "..."
      ]
    },
    {
      "cell_type": "code",
      "metadata": {
        "colab_type": "code",
        "id": "xfYVreyw1D_y",
        "outputId": "3265635b-653e-41d2-de09-2835330d0e02",
        "colab": {
          "base_uri": "https://localhost:8080/",
          "height": 173
        }
      },
      "source": [
        "# answer goes here\n",
        "df1['Coordinates'] = df1[['Latitude','Longitude']].apply(tuple, axis =1)"
      ],
      "execution_count": 0,
      "outputs": [
        {
          "output_type": "stream",
          "text": [
            "/usr/local/lib/python3.6/dist-packages/ipykernel_launcher.py:1: SettingWithCopyWarning:\n",
            "\n",
            "\n",
            "A value is trying to be set on a copy of a slice from a DataFrame.\n",
            "Try using .loc[row_indexer,col_indexer] = value instead\n",
            "\n",
            "See the caveats in the documentation: http://pandas.pydata.org/pandas-docs/stable/user_guide/indexing.html#returning-a-view-versus-a-copy\n",
            "\n"
          ],
          "name": "stderr"
        }
      ]
    },
    {
      "cell_type": "markdown",
      "metadata": {
        "id": "ufXIZ40WglMQ",
        "colab_type": "text"
      },
      "source": [
        "Calculate the distance matrix using the starter code/function geo_sim_matrix() provided earlier in the notebook. It assumes the column containing the coordinates for each location is called \"Coordinates\"; examine the docstring for more details."
      ]
    },
    {
      "cell_type": "code",
      "metadata": {
        "id": "Xn6hPlyGglMR",
        "colab_type": "code",
        "outputId": "0112a7a0-c8f8-4fd1-f656-b2eb4e6235ed",
        "colab": {
          "base_uri": "https://localhost:8080/",
          "height": 272
        }
      },
      "source": [
        "# answer goes here\n",
        "il_dist = geo_sim_matrix(df1, col_name='Coordinates')\n",
        "print(il_dist)"
      ],
      "execution_count": 0,
      "outputs": [
        {
          "output_type": "stream",
          "text": [
            "index      17477     17516     17517  ...      17695     17696      17697\n",
            "index                                 ...                                \n",
            "17477   0.000000  8.901509  9.180069  ...  12.814341  9.478432  11.478144\n",
            "17516   8.901509  0.000000  0.514431  ...   5.076540  1.028863   3.783470\n",
            "17517   9.180069  0.514431  0.000000  ...   5.255636  0.514431   4.020656\n",
            "17518  10.618161  1.722727  1.474489  ...   4.305975  1.381868   3.302310\n",
            "17519   2.949539  6.031057  6.351975  ...   9.889524  6.697118   8.542817\n",
            "...          ...       ...       ...  ...        ...       ...        ...\n",
            "17693   9.478432  1.028863  0.514431  ...   5.477303  0.000000   4.306456\n",
            "17694  13.828259  7.455311  7.750754  ...   2.917016  8.068163   3.773557\n",
            "17695  12.814341  5.076540  5.255636  ...   0.000000  5.477303   1.381868\n",
            "17696   9.478432  1.028863  0.514431  ...   5.477303  0.000000   4.306456\n",
            "17697  11.478144  3.783470  4.020656  ...   1.381868  4.306456   0.000000\n",
            "\n",
            "[179 rows x 179 columns]\n"
          ],
          "name": "stdout"
        }
      ]
    },
    {
      "cell_type": "markdown",
      "metadata": {
        "colab_type": "text",
        "id": "86lfEP_91D_0"
      },
      "source": [
        "Build the hierarchical clustering model using n_clusters = 5 and average linkage. Bear in mind that we are passing a precomputed distance matrix, which will require an additional parameter to be manually specified. \n",
        "\n",
        "Additionally, save the predicted cluster assignments as a new column in your dataframe."
      ]
    },
    {
      "cell_type": "code",
      "metadata": {
        "colab_type": "code",
        "id": "o3PUI4l61D_0",
        "outputId": "37302b0c-4c76-4126-a235-837e5486ee22",
        "colab": {
          "base_uri": "https://localhost:8080/",
          "height": 258
        }
      },
      "source": [
        "# Defining the agglomerative clustering\n",
        "agg_cluster = AgglomerativeClustering(n_clusters=5,linkage='average')\n",
        "# Additional parameter to be specified\n",
        "X= il_dist\n",
        "# Fit the model\n",
        "clusters = agg_cluster.fit_predict(X).astype(object)\n",
        "df1['cluster'] = clusters\n"
      ],
      "execution_count": 98,
      "outputs": [
        {
          "output_type": "stream",
          "text": [
            "/usr/local/lib/python3.6/dist-packages/sklearn/cluster/hierarchical.py:463: ClusterWarning:\n",
            "\n",
            "scipy.cluster: The symmetric non-negative hollow observation matrix looks suspiciously like an uncondensed distance matrix\n",
            "\n",
            "/usr/local/lib/python3.6/dist-packages/ipykernel_launcher.py:6: SettingWithCopyWarning:\n",
            "\n",
            "\n",
            "A value is trying to be set on a copy of a slice from a DataFrame.\n",
            "Try using .loc[row_indexer,col_indexer] = value instead\n",
            "\n",
            "See the caveats in the documentation: http://pandas.pydata.org/pandas-docs/stable/user_guide/indexing.html#returning-a-view-versus-a-copy\n",
            "\n"
          ],
          "name": "stderr"
        },
        {
          "output_type": "execute_result",
          "data": {
            "text/plain": [
              "numpy.ndarray"
            ]
          },
          "metadata": {
            "tags": []
          },
          "execution_count": 98
        }
      ]
    },
    {
      "cell_type": "markdown",
      "metadata": {
        "colab_type": "text",
        "id": "MUjcLMMk1D_2"
      },
      "source": [
        "Plot the dendrogram using the provided starter code/function \"plot_dendrogram\". The dendrogram will be difficult to read because there are so many leaf nodes; try experimenting with smaller geographical areas for easier to read dendrograms."
      ]
    },
    {
      "cell_type": "code",
      "metadata": {
        "colab_type": "code",
        "id": "6OTdN8oF1D_2",
        "outputId": "1dc05562-d5e7-4188-c09f-4886d0a5b29f",
        "colab": {
          "base_uri": "https://localhost:8080/",
          "height": 614
        }
      },
      "source": [
        "# answer goes here\n",
        "plt.figure(figsize=(20,10))\n",
        "plot_dendrogram(clusters_df)\n"
      ],
      "execution_count": 99,
      "outputs": [
        {
          "output_type": "display_data",
          "data": {
            "image/png": "[encoded data removed]",
            "text/plain": [
              "<Figure size 1440x720 with 1 Axes>"
            ]
          },
          "metadata": {
            "tags": []
          }
        }
      ]
    },
    {
      "cell_type": "markdown",
      "metadata": {
        "colab_type": "text",
        "id": "ao3Y5FVp1D_4"
      },
      "source": [
        "Finally, plot the resulting clusters on a map using the \"scatter_geo\" function from plotly.express. The map defaults to the entire world; the \"scope\" parameter is useful for narrowing down the region plotted in the map. The documentation can be found here:\n",
        "\n",
        "https://www.plotly.express/plotly_express/#plotly_express.scatter_geo\n",
        "\n",
        "Tip: If the markers on the map are too large, their size can be changed with the following line of code:\n",
        "\n",
        "*fig.update_traces(marker=dict(size=...)))*\n",
        "\n",
        "Do the clusters correspond to geographic areas you would expect? Experiment with other values for n_cluster and linkage and see how they affect the results."
      ]
    },
    {
      "cell_type": "code",
      "metadata": {
        "id": "iZBb_6--012B",
        "colab_type": "code",
        "outputId": "2eceffbd-1718-430c-d28d-d3cccae8856d",
        "colab": {
          "base_uri": "https://localhost:8080/",
          "height": 617
        }
      },
      "source": [
        "# answer goes here\n",
        "px.scatter_geo(data_frame=df1, lon = 'Longitude', lat='Latitude',scope='usa', color='cluster')"
      ],
      "execution_count": 100,
      "outputs": [
        {
          "output_type": "display_data",
          "data": {
            "text/html": [
              "<html>\n",
              "<head><meta charset=\"utf-8\" /></head>\n",
              "<body>\n",
              "    <div>\n",
              "            <script src=\"https://cdnjs.cloudflare.com/ajax/libs/mathjax/2.7.5/MathJax.js?config=TeX-AMS-MML_SVG\"></script><script type=\"text/javascript\">if (window.MathJax) {MathJax.Hub.Config({SVG: {font: \"STIX-Web\"}});}</script>\n",
              "                <script type=\"text/javascript\">window.PlotlyConfig = {MathJaxConfig: 'local'};</script>\n",
              "        <script src=\"https://cdn.plot.ly/plotly-latest.min.js\"></script>    \n",
              "            <div id=\"05e643a1-b3ba-4a76-9d58-b9a1ab12248b\" class=\"plotly-graph-div\" style=\"height:600px; width:100%;\"></div>\n",
              "            <script type=\"text/javascript\">\n",
              "                \n",
              "                    window.PLOTLYENV=window.PLOTLYENV || {};\n",
              "                    \n",
              "                if (document.getElementById(\"05e643a1-b3ba-4a76-9d58-b9a1ab12248b\")) {\n",
              "                    Plotly.newPlot(\n",
              "                        '05e643a1-b3ba-4a76-9d58-b9a1ab12248b',\n",
              "                        [{\"geo\": \"geo\", \"hoverlabel\": {\"namelength\": 0}, \"hovertemplate\": \"cluster=2<br>Latitude=%{lat}<br>Longitude=%{lon}\", \"lat\": [41.77, 41.81, 41.79, 41.8, 41.77, 41.8, 41.78, 41.74, 41.79, 41.81, 41.8], \"legendgroup\": \"cluster=2\", \"lon\": [-87.74, -87.72, -87.6, -87.6, -87.59, -87.59, -87.65, -87.63, -87.6, -87.74, -87.6], \"marker\": {\"color\": \"#636efa\"}, \"name\": \"cluster=2\", \"showlegend\": true, \"type\": \"scattergeo\"}, {\"geo\": \"geo\", \"hoverlabel\": {\"namelength\": 0}, \"hovertemplate\": \"cluster=0<br>Latitude=%{lat}<br>Longitude=%{lon}\", \"lat\": [41.88, 41.88, 41.9, 41.88, 41.89, 41.87, 41.88, 41.88, 41.87, 41.89, 41.9, 41.89, 41.88, 41.84, 41.89, 41.89, 41.88, 41.89, 41.94, 41.95, 41.89, 41.93, 41.9, 41.96, 41.93, 41.88, 41.93, 41.91, 41.88, 41.83, 41.93, 41.89, 41.89, 41.9, 41.9, 41.88, 41.93, 41.95, 41.94, 41.9, 41.94, 41.88, 41.94, 41.88, 41.89, 41.89, 41.88, 41.92, 41.88, 41.89, 41.87, 41.92, 41.89, 41.9, 41.95, 41.95, 41.88, 41.93, 41.88, 41.93, 41.89, 41.88, 41.88, 41.92, 41.89, 41.9, 41.9, 41.89, 41.88, 41.88, 41.89, 41.89, 41.91, 41.88, 41.89, 41.9, 41.88, 41.96, 41.88, 41.96, 41.92, 41.88, 41.89, 41.88, 41.89, 41.9, 41.88, 41.88, 41.88, 41.92, 41.97, 41.87, 41.93, 41.94, 41.89, 41.93, 41.94, 41.88, 41.87, 41.86, 41.88, 41.88, 41.89, 41.88, 41.94, 41.89, 41.88, 41.9, 41.91, 41.91, 41.88, 41.89, 41.9, 41.89, 41.89, 41.9, 41.94, 41.89, 41.87, 41.93, 41.9, 41.91, 41.94, 41.88, 41.93, 41.88, 41.88, 41.95, 41.88, 41.93], \"legendgroup\": \"cluster=0\", \"lon\": [-87.65, -87.64, -87.63, -87.62, -87.62, -87.66, -87.65, -87.63, -87.64, -87.61, -87.63, -87.62, -87.63, -87.67, -87.62, -87.62, -87.62, -87.63, -87.65, -87.65, -87.64, -87.68, -87.62, -87.66, -87.65, -87.63, -87.64, -87.65, -87.64, -87.63, -87.67, -87.62, -87.63, -87.67, -87.63, -87.64, -87.67, -87.7, -87.67, -87.63, -87.65, -87.63, -87.67, -87.62, -87.62, -87.64, -87.64, -87.68, -87.64, -87.62, -87.62, -87.65, -87.63, -87.64, -87.65, -87.69, -87.64, -87.67, -87.64, -87.64, -87.66, -87.63, -87.64, -87.65, -87.63, -87.62, -87.63, -87.62, -87.63, -87.63, -87.63, -87.63, -87.63, -87.63, -87.62, -87.64, -87.64, -87.69, -87.63, -87.68, -87.65, -87.63, -87.62, -87.63, -87.63, -87.63, -87.63, -87.63, -87.63, -87.64, -87.66, -87.63, -87.7, -87.68, -87.62, -87.66, -87.64, -87.63, -87.63, -87.64, -87.65, -87.65, -87.62, -87.63, -87.67, -87.63, -87.63, -87.64, -87.63, -87.67, -87.64, -87.64, -87.64, -87.63, -87.63, -87.63, -87.66, -87.62, -87.63, -87.65, -87.62, -87.65, -87.68, -87.64, -87.66, -87.64, -87.63, -87.68, -87.63, -87.68], \"marker\": {\"color\": \"#EF553B\"}, \"name\": \"cluster=0\", \"showlegend\": true, \"type\": \"scattergeo\"}, {\"geo\": \"geo\", \"hoverlabel\": {\"namelength\": 0}, \"hovertemplate\": \"cluster=1<br>Latitude=%{lat}<br>Longitude=%{lon}\", \"lat\": [41.98, 41.98, 41.96, 41.98, 41.98, 41.98, 41.98, 41.98, 41.98, 41.98, 41.98, 41.98, 41.98, 41.98, 41.97, 41.98, 41.97, 41.98, 41.97], \"legendgroup\": \"cluster=1\", \"lon\": [-87.9, -87.91, -87.91, -87.9, -87.84, -87.91, -87.91, -87.9, -87.91, -87.91, -87.91, -87.9, -87.9, -87.91, -87.9, -87.9, -87.9, -87.9, -87.9], \"marker\": {\"color\": \"#00cc96\"}, \"name\": \"cluster=1\", \"showlegend\": true, \"type\": \"scattergeo\"}, {\"geo\": \"geo\", \"hoverlabel\": {\"namelength\": 0}, \"hovertemplate\": \"cluster=4<br>Latitude=%{lat}<br>Longitude=%{lon}\", \"lat\": [41.98, 42.0, 41.99, 42.0, 41.93, 42.0, 41.98, 41.99, 41.99, 41.99, 41.96, 41.95, 41.98, 42.02, 42.02, 41.97], \"legendgroup\": \"cluster=4\", \"lon\": [-87.67, -87.76, -87.68, -87.66, -87.79, -87.66, -87.71, -87.73, -87.71, -87.69, -87.71, -87.74, -87.66, -87.69, -87.67, -87.73], \"marker\": {\"color\": \"#ab63fa\"}, \"name\": \"cluster=4\", \"showlegend\": true, \"type\": \"scattergeo\"}, {\"geo\": \"geo\", \"hoverlabel\": {\"namelength\": 0}, \"hovertemplate\": \"cluster=3<br>Latitude=%{lat}<br>Longitude=%{lon}\", \"lat\": [41.68, 41.71, 41.71], \"legendgroup\": \"cluster=3\", \"lon\": [-87.66, -87.72, -87.67], \"marker\": {\"color\": \"#FFA15A\"}, \"name\": \"cluster=3\", \"showlegend\": true, \"type\": \"scattergeo\"}],\n",
              "                        {\"geo\": {\"center\": {}, \"domain\": {\"x\": [0.0, 0.98], \"y\": [0.0, 1.0]}, \"scope\": \"usa\"}, \"height\": 600, \"legend\": {\"tracegroupgap\": 0}, \"margin\": {\"t\": 60}, \"template\": {\"data\": {\"bar\": [{\"error_x\": {\"color\": \"#2a3f5f\"}, \"error_y\": {\"color\": \"#2a3f5f\"}, \"marker\": {\"line\": {\"color\": \"#E5ECF6\", \"width\": 0.5}}, \"type\": \"bar\"}], \"barpolar\": [{\"marker\": {\"line\": {\"color\": \"#E5ECF6\", \"width\": 0.5}}, \"type\": \"barpolar\"}], \"carpet\": [{\"aaxis\": {\"endlinecolor\": \"#2a3f5f\", \"gridcolor\": \"white\", \"linecolor\": \"white\", \"minorgridcolor\": \"white\", \"startlinecolor\": \"#2a3f5f\"}, \"baxis\": {\"endlinecolor\": \"#2a3f5f\", \"gridcolor\": \"white\", \"linecolor\": \"white\", \"minorgridcolor\": \"white\", \"startlinecolor\": \"#2a3f5f\"}, \"type\": \"carpet\"}], \"choropleth\": [{\"colorbar\": {\"outlinewidth\": 0, \"ticks\": \"\"}, \"type\": \"choropleth\"}], \"contour\": [{\"colorbar\": {\"outlinewidth\": 0, \"ticks\": \"\"}, \"colorscale\": [[0.0, \"#0d0887\"], [0.1111111111111111, \"#46039f\"], [0.2222222222222222, \"#7201a8\"], [0.3333333333333333, \"#9c179e\"], [0.4444444444444444, \"#bd3786\"], [0.5555555555555556, \"#d8576b\"], [0.6666666666666666, \"#ed7953\"], [0.7777777777777778, \"#fb9f3a\"], [0.8888888888888888, \"#fdca26\"], [1.0, \"#f0f921\"]], \"type\": \"contour\"}], \"contourcarpet\": [{\"colorbar\": {\"outlinewidth\": 0, \"ticks\": \"\"}, \"type\": \"contourcarpet\"}], \"heatmap\": [{\"colorbar\": {\"outlinewidth\": 0, \"ticks\": \"\"}, \"colorscale\": [[0.0, \"#0d0887\"], [0.1111111111111111, \"#46039f\"], [0.2222222222222222, \"#7201a8\"], [0.3333333333333333, \"#9c179e\"], [0.4444444444444444, \"#bd3786\"], [0.5555555555555556, \"#d8576b\"], [0.6666666666666666, \"#ed7953\"], [0.7777777777777778, \"#fb9f3a\"], [0.8888888888888888, \"#fdca26\"], [1.0, \"#f0f921\"]], \"type\": \"heatmap\"}], \"heatmapgl\": [{\"colorbar\": {\"outlinewidth\": 0, \"ticks\": \"\"}, \"colorscale\": [[0.0, \"#0d0887\"], [0.1111111111111111, \"#46039f\"], [0.2222222222222222, \"#7201a8\"], [0.3333333333333333, \"#9c179e\"], [0.4444444444444444, \"#bd3786\"], [0.5555555555555556, \"#d8576b\"], [0.6666666666666666, \"#ed7953\"], [0.7777777777777778, \"#fb9f3a\"], [0.8888888888888888, \"#fdca26\"], [1.0, \"#f0f921\"]], \"type\": \"heatmapgl\"}], \"histogram\": [{\"marker\": {\"colorbar\": {\"outlinewidth\": 0, \"ticks\": \"\"}}, \"type\": \"histogram\"}], \"histogram2d\": [{\"colorbar\": {\"outlinewidth\": 0, \"ticks\": \"\"}, \"colorscale\": [[0.0, \"#0d0887\"], [0.1111111111111111, \"#46039f\"], [0.2222222222222222, \"#7201a8\"], [0.3333333333333333, \"#9c179e\"], [0.4444444444444444, \"#bd3786\"], [0.5555555555555556, \"#d8576b\"], [0.6666666666666666, \"#ed7953\"], [0.7777777777777778, \"#fb9f3a\"], [0.8888888888888888, \"#fdca26\"], [1.0, \"#f0f921\"]], \"type\": \"histogram2d\"}], \"histogram2dcontour\": [{\"colorbar\": {\"outlinewidth\": 0, \"ticks\": \"\"}, \"colorscale\": [[0.0, \"#0d0887\"], [0.1111111111111111, \"#46039f\"], [0.2222222222222222, \"#7201a8\"], [0.3333333333333333, \"#9c179e\"], [0.4444444444444444, \"#bd3786\"], [0.5555555555555556, \"#d8576b\"], [0.6666666666666666, \"#ed7953\"], [0.7777777777777778, \"#fb9f3a\"], [0.8888888888888888, \"#fdca26\"], [1.0, \"#f0f921\"]], \"type\": \"histogram2dcontour\"}], \"mesh3d\": [{\"colorbar\": {\"outlinewidth\": 0, \"ticks\": \"\"}, \"type\": \"mesh3d\"}], \"parcoords\": [{\"line\": {\"colorbar\": {\"outlinewidth\": 0, \"ticks\": \"\"}}, \"type\": \"parcoords\"}], \"scatter\": [{\"marker\": {\"colorbar\": {\"outlinewidth\": 0, \"ticks\": \"\"}}, \"type\": \"scatter\"}], \"scatter3d\": [{\"line\": {\"colorbar\": {\"outlinewidth\": 0, \"ticks\": \"\"}}, \"marker\": {\"colorbar\": {\"outlinewidth\": 0, \"ticks\": \"\"}}, \"type\": \"scatter3d\"}], \"scattercarpet\": [{\"marker\": {\"colorbar\": {\"outlinewidth\": 0, \"ticks\": \"\"}}, \"type\": \"scattercarpet\"}], \"scattergeo\": [{\"marker\": {\"colorbar\": {\"outlinewidth\": 0, \"ticks\": \"\"}}, \"type\": \"scattergeo\"}], \"scattergl\": [{\"marker\": {\"colorbar\": {\"outlinewidth\": 0, \"ticks\": \"\"}}, \"type\": \"scattergl\"}], \"scattermapbox\": [{\"marker\": {\"colorbar\": {\"outlinewidth\": 0, \"ticks\": \"\"}}, \"type\": \"scattermapbox\"}], \"scatterpolar\": [{\"marker\": {\"colorbar\": {\"outlinewidth\": 0, \"ticks\": \"\"}}, \"type\": \"scatterpolar\"}], \"scatterpolargl\": [{\"marker\": {\"colorbar\": {\"outlinewidth\": 0, \"ticks\": \"\"}}, \"type\": \"scatterpolargl\"}], \"scatterternary\": [{\"marker\": {\"colorbar\": {\"outlinewidth\": 0, \"ticks\": \"\"}}, \"type\": \"scatterternary\"}], \"surface\": [{\"colorbar\": {\"outlinewidth\": 0, \"ticks\": \"\"}, \"colorscale\": [[0.0, \"#0d0887\"], [0.1111111111111111, \"#46039f\"], [0.2222222222222222, \"#7201a8\"], [0.3333333333333333, \"#9c179e\"], [0.4444444444444444, \"#bd3786\"], [0.5555555555555556, \"#d8576b\"], [0.6666666666666666, \"#ed7953\"], [0.7777777777777778, \"#fb9f3a\"], [0.8888888888888888, \"#fdca26\"], [1.0, \"#f0f921\"]], \"type\": \"surface\"}], \"table\": [{\"cells\": {\"fill\": {\"color\": \"#EBF0F8\"}, \"line\": {\"color\": \"white\"}}, \"header\": {\"fill\": {\"color\": \"#C8D4E3\"}, \"line\": {\"color\": \"white\"}}, \"type\": \"table\"}]}, \"layout\": {\"annotationdefaults\": {\"arrowcolor\": \"#2a3f5f\", \"arrowhead\": 0, \"arrowwidth\": 1}, \"colorscale\": {\"diverging\": [[0, \"#8e0152\"], [0.1, \"#c51b7d\"], [0.2, \"#de77ae\"], [0.3, \"#f1b6da\"], [0.4, \"#fde0ef\"], [0.5, \"#f7f7f7\"], [0.6, \"#e6f5d0\"], [0.7, \"#b8e186\"], [0.8, \"#7fbc41\"], [0.9, \"#4d9221\"], [1, \"#276419\"]], \"sequential\": [[0.0, \"#0d0887\"], [0.1111111111111111, \"#46039f\"], [0.2222222222222222, \"#7201a8\"], [0.3333333333333333, \"#9c179e\"], [0.4444444444444444, \"#bd3786\"], [0.5555555555555556, \"#d8576b\"], [0.6666666666666666, \"#ed7953\"], [0.7777777777777778, \"#fb9f3a\"], [0.8888888888888888, \"#fdca26\"], [1.0, \"#f0f921\"]], \"sequentialminus\": [[0.0, \"#0d0887\"], [0.1111111111111111, \"#46039f\"], [0.2222222222222222, \"#7201a8\"], [0.3333333333333333, \"#9c179e\"], [0.4444444444444444, \"#bd3786\"], [0.5555555555555556, \"#d8576b\"], [0.6666666666666666, \"#ed7953\"], [0.7777777777777778, \"#fb9f3a\"], [0.8888888888888888, \"#fdca26\"], [1.0, \"#f0f921\"]]}, \"colorway\": [\"#636efa\", \"#EF553B\", \"#00cc96\", \"#ab63fa\", \"#FFA15A\", \"#19d3f3\", \"#FF6692\", \"#B6E880\", \"#FF97FF\", \"#FECB52\"], \"font\": {\"color\": \"#2a3f5f\"}, \"geo\": {\"bgcolor\": \"white\", \"lakecolor\": \"white\", \"landcolor\": \"#E5ECF6\", \"showlakes\": true, \"showland\": true, \"subunitcolor\": \"white\"}, \"hoverlabel\": {\"align\": \"left\"}, \"hovermode\": \"closest\", \"mapbox\": {\"style\": \"light\"}, \"paper_bgcolor\": \"white\", \"plot_bgcolor\": \"#E5ECF6\", \"polar\": {\"angularaxis\": {\"gridcolor\": \"white\", \"linecolor\": \"white\", \"ticks\": \"\"}, \"bgcolor\": \"#E5ECF6\", \"radialaxis\": {\"gridcolor\": \"white\", \"linecolor\": \"white\", \"ticks\": \"\"}}, \"scene\": {\"xaxis\": {\"backgroundcolor\": \"#E5ECF6\", \"gridcolor\": \"white\", \"gridwidth\": 2, \"linecolor\": \"white\", \"showbackground\": true, \"ticks\": \"\", \"zerolinecolor\": \"white\"}, \"yaxis\": {\"backgroundcolor\": \"#E5ECF6\", \"gridcolor\": \"white\", \"gridwidth\": 2, \"linecolor\": \"white\", \"showbackground\": true, \"ticks\": \"\", \"zerolinecolor\": \"white\"}, \"zaxis\": {\"backgroundcolor\": \"#E5ECF6\", \"gridcolor\": \"white\", \"gridwidth\": 2, \"linecolor\": \"white\", \"showbackground\": true, \"ticks\": \"\", \"zerolinecolor\": \"white\"}}, \"shapedefaults\": {\"line\": {\"color\": \"#2a3f5f\"}}, \"ternary\": {\"aaxis\": {\"gridcolor\": \"white\", \"linecolor\": \"white\", \"ticks\": \"\"}, \"baxis\": {\"gridcolor\": \"white\", \"linecolor\": \"white\", \"ticks\": \"\"}, \"bgcolor\": \"#E5ECF6\", \"caxis\": {\"gridcolor\": \"white\", \"linecolor\": \"white\", \"ticks\": \"\"}}, \"title\": {\"x\": 0.05}, \"xaxis\": {\"automargin\": true, \"gridcolor\": \"white\", \"linecolor\": \"white\", \"ticks\": \"\", \"zerolinecolor\": \"white\", \"zerolinewidth\": 2}, \"yaxis\": {\"automargin\": true, \"gridcolor\": \"white\", \"linecolor\": \"white\", \"ticks\": \"\", \"zerolinecolor\": \"white\", \"zerolinewidth\": 2}}}},\n",
              "                        {\"responsive\": true}\n",
              "                    ).then(function(){\n",
              "                            \n",
              "var gd = document.getElementById('05e643a1-b3ba-4a76-9d58-b9a1ab12248b');\n",
              "var x = new MutationObserver(function (mutations, observer) {{\n",
              "        var display = window.getComputedStyle(gd).display;\n",
              "        if (!display || display === 'none') {{\n",
              "            console.log([gd, 'removed!']);\n",
              "            Plotly.purge(gd);\n",
              "            observer.disconnect();\n",
              "        }}\n",
              "}});\n",
              "\n",
              "// Listen for the removal of the full notebook cells\n",
              "var notebookContainer = gd.closest('#notebook-container');\n",
              "if (notebookContainer) {{\n",
              "    x.observe(notebookContainer, {childList: true});\n",
              "}}\n",
              "\n",
              "// Listen for the clearing of the current output cell\n",
              "var outputEl = gd.closest('.output');\n",
              "if (outputEl) {{\n",
              "    x.observe(outputEl, {childList: true});\n",
              "}}\n",
              "\n",
              "                        })\n",
              "                };\n",
              "                \n",
              "            </script>\n",
              "        </div>\n",
              "</body>\n",
              "</html>"
            ]
          },
          "metadata": {
            "tags": []
          }
        }
      ]
    }
  ]
}