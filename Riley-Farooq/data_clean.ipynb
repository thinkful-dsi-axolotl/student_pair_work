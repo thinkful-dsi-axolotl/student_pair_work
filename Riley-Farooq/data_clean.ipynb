{
  "nbformat": 4,
  "nbformat_minor": 0,
  "metadata": {
    "kernelspec": {
      "display_name": "Python 3",
      "language": "python",
      "name": "python3"
    },
    "language_info": {
      "codemirror_mode": {
        "name": "ipython",
        "version": 3
      },
      "file_extension": ".py",
      "mimetype": "text/x-python",
      "name": "python",
      "nbconvert_exporter": "python",
      "pygments_lexer": "ipython3",
      "version": "3.7.3"
    },
    "colab": {
      "name": "data_clean.ipynb",
      "provenance": [],
      "collapsed_sections": [
        "-zXTRes6BHNA"
      ]
    }
  },
  "cells": [
    {
      "cell_type": "code",
      "metadata": {
        "id": "88Bor1ukAiAc",
        "colab_type": "code",
        "colab": {}
      },
      "source": [
        "import pandas as pd\n",
        "import numpy as np\n",
        "from scipy import stats \n",
        "import matplotlib.pyplot as plt\n",
        "import seaborn as sns\n",
        "sns.set()"
      ],
      "execution_count": 0,
      "outputs": []
    },
    {
      "cell_type": "code",
      "metadata": {
        "id": "hRWDdGXDAiAl",
        "colab_type": "code",
        "colab": {}
      },
      "source": [
        "#Zip file contains only the csv, so you can access it directly with read_csv\n",
        "\n",
        "#df = pd.read_csv('https://tf-assets-prod.s3.amazonaws.com/tf-curric/data-science/diabetic-data-cleaning.zip', \n",
        "#                 usecols = ['readmitted','race','gender','age', 'weight', 'time_in_hospital', 'num_lab_procedures', 'num_procedures',\n",
        "#                           'num_medications', 'number_outpatient', 'number_emergency', 'number_inpatient', 'diag_1' , 'diag_2', 'diag_3', 'number_diagnoses'],\n",
        "#                compression='zip')\n",
        "\n",
        "df = pd.read_csv('https://tf-assets-prod.s3.amazonaws.com/tf-curric/data-science/diabetic-data-cleaning.zip',       \n",
        "                 compression='zip')\n",
        "\n",
        "#Read through this and figure out what we're doing here\n",
        "for col in df.describe().columns: \n",
        "    nanidx = df[col].sample(frac=np.random.uniform(0.0, 0.001)).index \n",
        "    df.loc[nanidx, col] = '?'\n",
        "\n",
        "# Zip file contains only the csv, so you can access it directly with read_csv df = pd.read_csv('https://tf-assets-prod.s3.amazonaws.com/tf-curric/data-science/diabetic-data-cleaning.zip', compression='zip')\n",
        "#Read through this and figure out what we're doing here\n",
        "for col in df.describe().columns: \n",
        "    nanidx = df[col].sample(frac=np.random.uniform(0.0, 0.001)).index \n",
        "    df.loc[nanidx, col] = '?'"
      ],
      "execution_count": 0,
      "outputs": []
    },
    {
      "cell_type": "code",
      "metadata": {
        "id": "oSvnsuenAiAo",
        "colab_type": "code",
        "outputId": "46633991-52de-4760-edde-ac054b37f257",
        "colab": {
          "base_uri": "https://localhost:8080/",
          "height": 952
        }
      },
      "source": [
        "df.info()"
      ],
      "execution_count": 266,
      "outputs": [
        {
          "output_type": "stream",
          "text": [
            "<class 'pandas.core.frame.DataFrame'>\n",
            "RangeIndex: 101766 entries, 0 to 101765\n",
            "Data columns (total 50 columns):\n",
            "encounter_id                101766 non-null object\n",
            "patient_nbr                 101766 non-null object\n",
            "race                        101766 non-null object\n",
            "gender                      101766 non-null object\n",
            "age                         101766 non-null object\n",
            "weight                      101766 non-null object\n",
            "admission_type_id           101766 non-null object\n",
            "discharge_disposition_id    101766 non-null object\n",
            "admission_source_id         101766 non-null object\n",
            "time_in_hospital            101766 non-null object\n",
            "payer_code                  101766 non-null object\n",
            "medical_specialty           101766 non-null object\n",
            "num_lab_procedures          101766 non-null object\n",
            "num_procedures              101766 non-null object\n",
            "num_medications             101766 non-null object\n",
            "number_outpatient           101766 non-null object\n",
            "number_emergency            101766 non-null object\n",
            "number_inpatient            101766 non-null object\n",
            "diag_1                      101766 non-null object\n",
            "diag_2                      101766 non-null object\n",
            "diag_3                      101766 non-null object\n",
            "number_diagnoses            101766 non-null object\n",
            "max_glu_serum               101766 non-null object\n",
            "A1Cresult                   101766 non-null object\n",
            "metformin                   101766 non-null object\n",
            "repaglinide                 101766 non-null object\n",
            "nateglinide                 101766 non-null object\n",
            "chlorpropamide              101766 non-null object\n",
            "glimepiride                 101766 non-null object\n",
            "acetohexamide               101766 non-null object\n",
            "glipizide                   101766 non-null object\n",
            "glyburide                   101766 non-null object\n",
            "tolbutamide                 101766 non-null object\n",
            "pioglitazone                101766 non-null object\n",
            "rosiglitazone               101766 non-null object\n",
            "acarbose                    101766 non-null object\n",
            "miglitol                    101766 non-null object\n",
            "troglitazone                101766 non-null object\n",
            "tolazamide                  101766 non-null object\n",
            "examide                     101766 non-null object\n",
            "citoglipton                 101766 non-null object\n",
            "insulin                     101766 non-null object\n",
            "glyburide-metformin         101766 non-null object\n",
            "glipizide-metformin         101766 non-null object\n",
            "glimepiride-pioglitazone    101766 non-null object\n",
            "metformin-rosiglitazone     101766 non-null object\n",
            "metformin-pioglitazone      101766 non-null object\n",
            "change                      101766 non-null object\n",
            "diabetesMed                 101766 non-null object\n",
            "readmitted                  101766 non-null object\n",
            "dtypes: object(50)\n",
            "memory usage: 38.8+ MB\n"
          ],
          "name": "stdout"
        }
      ]
    },
    {
      "cell_type": "code",
      "metadata": {
        "id": "ounATR6sAiAs",
        "colab_type": "code",
        "outputId": "b05614b4-04c1-430d-d263-c795b31331d0",
        "colab": {
          "base_uri": "https://localhost:8080/",
          "height": 326
        }
      },
      "source": [
        "df.head()"
      ],
      "execution_count": 267,
      "outputs": [
        {
          "output_type": "execute_result",
          "data": {
            "text/html": [
              "<div>\n",
              "<style scoped>\n",
              "    .dataframe tbody tr th:only-of-type {\n",
              "        vertical-align: middle;\n",
              "    }\n",
              "\n",
              "    .dataframe tbody tr th {\n",
              "        vertical-align: top;\n",
              "    }\n",
              "\n",
              "    .dataframe thead th {\n",
              "        text-align: right;\n",
              "    }\n",
              "</style>\n",
              "<table border=\"1\" class=\"dataframe\">\n",
              "  <thead>\n",
              "    <tr style=\"text-align: right;\">\n",
              "      <th></th>\n",
              "      <th>encounter_id</th>\n",
              "      <th>patient_nbr</th>\n",
              "      <th>race</th>\n",
              "      <th>gender</th>\n",
              "      <th>age</th>\n",
              "      <th>weight</th>\n",
              "      <th>admission_type_id</th>\n",
              "      <th>discharge_disposition_id</th>\n",
              "      <th>admission_source_id</th>\n",
              "      <th>time_in_hospital</th>\n",
              "      <th>payer_code</th>\n",
              "      <th>medical_specialty</th>\n",
              "      <th>num_lab_procedures</th>\n",
              "      <th>num_procedures</th>\n",
              "      <th>num_medications</th>\n",
              "      <th>number_outpatient</th>\n",
              "      <th>number_emergency</th>\n",
              "      <th>number_inpatient</th>\n",
              "      <th>diag_1</th>\n",
              "      <th>diag_2</th>\n",
              "      <th>diag_3</th>\n",
              "      <th>number_diagnoses</th>\n",
              "      <th>max_glu_serum</th>\n",
              "      <th>A1Cresult</th>\n",
              "      <th>metformin</th>\n",
              "      <th>repaglinide</th>\n",
              "      <th>nateglinide</th>\n",
              "      <th>chlorpropamide</th>\n",
              "      <th>glimepiride</th>\n",
              "      <th>acetohexamide</th>\n",
              "      <th>glipizide</th>\n",
              "      <th>glyburide</th>\n",
              "      <th>tolbutamide</th>\n",
              "      <th>pioglitazone</th>\n",
              "      <th>rosiglitazone</th>\n",
              "      <th>acarbose</th>\n",
              "      <th>miglitol</th>\n",
              "      <th>troglitazone</th>\n",
              "      <th>tolazamide</th>\n",
              "      <th>examide</th>\n",
              "      <th>citoglipton</th>\n",
              "      <th>insulin</th>\n",
              "      <th>glyburide-metformin</th>\n",
              "      <th>glipizide-metformin</th>\n",
              "      <th>glimepiride-pioglitazone</th>\n",
              "      <th>metformin-rosiglitazone</th>\n",
              "      <th>metformin-pioglitazone</th>\n",
              "      <th>change</th>\n",
              "      <th>diabetesMed</th>\n",
              "      <th>readmitted</th>\n",
              "    </tr>\n",
              "  </thead>\n",
              "  <tbody>\n",
              "    <tr>\n",
              "      <th>0</th>\n",
              "      <td>2278392</td>\n",
              "      <td>8222157</td>\n",
              "      <td>Caucasian</td>\n",
              "      <td>Female</td>\n",
              "      <td>[0-10)</td>\n",
              "      <td>?</td>\n",
              "      <td>6</td>\n",
              "      <td>25</td>\n",
              "      <td>1</td>\n",
              "      <td>1</td>\n",
              "      <td>?</td>\n",
              "      <td>Pediatrics-Endocrinology</td>\n",
              "      <td>41</td>\n",
              "      <td>0</td>\n",
              "      <td>1</td>\n",
              "      <td>0</td>\n",
              "      <td>0</td>\n",
              "      <td>0</td>\n",
              "      <td>250.83</td>\n",
              "      <td>?</td>\n",
              "      <td>?</td>\n",
              "      <td>1</td>\n",
              "      <td>None</td>\n",
              "      <td>None</td>\n",
              "      <td>No</td>\n",
              "      <td>No</td>\n",
              "      <td>No</td>\n",
              "      <td>No</td>\n",
              "      <td>No</td>\n",
              "      <td>No</td>\n",
              "      <td>No</td>\n",
              "      <td>No</td>\n",
              "      <td>No</td>\n",
              "      <td>No</td>\n",
              "      <td>No</td>\n",
              "      <td>No</td>\n",
              "      <td>No</td>\n",
              "      <td>No</td>\n",
              "      <td>No</td>\n",
              "      <td>No</td>\n",
              "      <td>No</td>\n",
              "      <td>No</td>\n",
              "      <td>No</td>\n",
              "      <td>No</td>\n",
              "      <td>No</td>\n",
              "      <td>No</td>\n",
              "      <td>No</td>\n",
              "      <td>No</td>\n",
              "      <td>No</td>\n",
              "      <td>NO</td>\n",
              "    </tr>\n",
              "    <tr>\n",
              "      <th>1</th>\n",
              "      <td>149190</td>\n",
              "      <td>55629189</td>\n",
              "      <td>Caucasian</td>\n",
              "      <td>Female</td>\n",
              "      <td>[10-20)</td>\n",
              "      <td>?</td>\n",
              "      <td>1</td>\n",
              "      <td>1</td>\n",
              "      <td>7</td>\n",
              "      <td>3</td>\n",
              "      <td>?</td>\n",
              "      <td>?</td>\n",
              "      <td>59</td>\n",
              "      <td>0</td>\n",
              "      <td>18</td>\n",
              "      <td>0</td>\n",
              "      <td>0</td>\n",
              "      <td>0</td>\n",
              "      <td>276</td>\n",
              "      <td>250.01</td>\n",
              "      <td>255</td>\n",
              "      <td>9</td>\n",
              "      <td>None</td>\n",
              "      <td>None</td>\n",
              "      <td>No</td>\n",
              "      <td>No</td>\n",
              "      <td>No</td>\n",
              "      <td>No</td>\n",
              "      <td>No</td>\n",
              "      <td>No</td>\n",
              "      <td>No</td>\n",
              "      <td>No</td>\n",
              "      <td>No</td>\n",
              "      <td>No</td>\n",
              "      <td>No</td>\n",
              "      <td>No</td>\n",
              "      <td>No</td>\n",
              "      <td>No</td>\n",
              "      <td>No</td>\n",
              "      <td>No</td>\n",
              "      <td>No</td>\n",
              "      <td>Up</td>\n",
              "      <td>No</td>\n",
              "      <td>No</td>\n",
              "      <td>No</td>\n",
              "      <td>No</td>\n",
              "      <td>No</td>\n",
              "      <td>Ch</td>\n",
              "      <td>Yes</td>\n",
              "      <td>&gt;30</td>\n",
              "    </tr>\n",
              "    <tr>\n",
              "      <th>2</th>\n",
              "      <td>64410</td>\n",
              "      <td>86047875</td>\n",
              "      <td>AfricanAmerican</td>\n",
              "      <td>Female</td>\n",
              "      <td>[20-30)</td>\n",
              "      <td>?</td>\n",
              "      <td>1</td>\n",
              "      <td>1</td>\n",
              "      <td>7</td>\n",
              "      <td>2</td>\n",
              "      <td>?</td>\n",
              "      <td>?</td>\n",
              "      <td>11</td>\n",
              "      <td>5</td>\n",
              "      <td>13</td>\n",
              "      <td>2</td>\n",
              "      <td>0</td>\n",
              "      <td>1</td>\n",
              "      <td>648</td>\n",
              "      <td>250</td>\n",
              "      <td>V27</td>\n",
              "      <td>6</td>\n",
              "      <td>None</td>\n",
              "      <td>None</td>\n",
              "      <td>No</td>\n",
              "      <td>No</td>\n",
              "      <td>No</td>\n",
              "      <td>No</td>\n",
              "      <td>No</td>\n",
              "      <td>No</td>\n",
              "      <td>Steady</td>\n",
              "      <td>No</td>\n",
              "      <td>No</td>\n",
              "      <td>No</td>\n",
              "      <td>No</td>\n",
              "      <td>No</td>\n",
              "      <td>No</td>\n",
              "      <td>No</td>\n",
              "      <td>No</td>\n",
              "      <td>No</td>\n",
              "      <td>No</td>\n",
              "      <td>No</td>\n",
              "      <td>No</td>\n",
              "      <td>No</td>\n",
              "      <td>No</td>\n",
              "      <td>No</td>\n",
              "      <td>No</td>\n",
              "      <td>No</td>\n",
              "      <td>Yes</td>\n",
              "      <td>NO</td>\n",
              "    </tr>\n",
              "    <tr>\n",
              "      <th>3</th>\n",
              "      <td>500364</td>\n",
              "      <td>82442376</td>\n",
              "      <td>Caucasian</td>\n",
              "      <td>Male</td>\n",
              "      <td>[30-40)</td>\n",
              "      <td>?</td>\n",
              "      <td>1</td>\n",
              "      <td>1</td>\n",
              "      <td>7</td>\n",
              "      <td>2</td>\n",
              "      <td>?</td>\n",
              "      <td>?</td>\n",
              "      <td>44</td>\n",
              "      <td>1</td>\n",
              "      <td>16</td>\n",
              "      <td>0</td>\n",
              "      <td>0</td>\n",
              "      <td>0</td>\n",
              "      <td>8</td>\n",
              "      <td>250.43</td>\n",
              "      <td>403</td>\n",
              "      <td>7</td>\n",
              "      <td>None</td>\n",
              "      <td>None</td>\n",
              "      <td>No</td>\n",
              "      <td>No</td>\n",
              "      <td>No</td>\n",
              "      <td>No</td>\n",
              "      <td>No</td>\n",
              "      <td>No</td>\n",
              "      <td>No</td>\n",
              "      <td>No</td>\n",
              "      <td>No</td>\n",
              "      <td>No</td>\n",
              "      <td>No</td>\n",
              "      <td>No</td>\n",
              "      <td>No</td>\n",
              "      <td>No</td>\n",
              "      <td>No</td>\n",
              "      <td>No</td>\n",
              "      <td>No</td>\n",
              "      <td>Up</td>\n",
              "      <td>No</td>\n",
              "      <td>No</td>\n",
              "      <td>No</td>\n",
              "      <td>No</td>\n",
              "      <td>No</td>\n",
              "      <td>Ch</td>\n",
              "      <td>Yes</td>\n",
              "      <td>NO</td>\n",
              "    </tr>\n",
              "    <tr>\n",
              "      <th>4</th>\n",
              "      <td>16680</td>\n",
              "      <td>42519267</td>\n",
              "      <td>Caucasian</td>\n",
              "      <td>Male</td>\n",
              "      <td>[40-50)</td>\n",
              "      <td>?</td>\n",
              "      <td>1</td>\n",
              "      <td>1</td>\n",
              "      <td>7</td>\n",
              "      <td>1</td>\n",
              "      <td>?</td>\n",
              "      <td>?</td>\n",
              "      <td>51</td>\n",
              "      <td>0</td>\n",
              "      <td>8</td>\n",
              "      <td>0</td>\n",
              "      <td>0</td>\n",
              "      <td>0</td>\n",
              "      <td>197</td>\n",
              "      <td>157</td>\n",
              "      <td>250</td>\n",
              "      <td>5</td>\n",
              "      <td>None</td>\n",
              "      <td>None</td>\n",
              "      <td>No</td>\n",
              "      <td>No</td>\n",
              "      <td>No</td>\n",
              "      <td>No</td>\n",
              "      <td>No</td>\n",
              "      <td>No</td>\n",
              "      <td>Steady</td>\n",
              "      <td>No</td>\n",
              "      <td>No</td>\n",
              "      <td>No</td>\n",
              "      <td>No</td>\n",
              "      <td>No</td>\n",
              "      <td>No</td>\n",
              "      <td>No</td>\n",
              "      <td>No</td>\n",
              "      <td>No</td>\n",
              "      <td>No</td>\n",
              "      <td>Steady</td>\n",
              "      <td>No</td>\n",
              "      <td>No</td>\n",
              "      <td>No</td>\n",
              "      <td>No</td>\n",
              "      <td>No</td>\n",
              "      <td>Ch</td>\n",
              "      <td>Yes</td>\n",
              "      <td>NO</td>\n",
              "    </tr>\n",
              "  </tbody>\n",
              "</table>\n",
              "</div>"
            ],
            "text/plain": [
              "  encounter_id patient_nbr             race  ... change diabetesMed readmitted\n",
              "0      2278392     8222157        Caucasian  ...     No          No         NO\n",
              "1       149190    55629189        Caucasian  ...     Ch         Yes        >30\n",
              "2        64410    86047875  AfricanAmerican  ...     No         Yes         NO\n",
              "3       500364    82442376        Caucasian  ...     Ch         Yes         NO\n",
              "4        16680    42519267        Caucasian  ...     Ch         Yes         NO\n",
              "\n",
              "[5 rows x 50 columns]"
            ]
          },
          "metadata": {
            "tags": []
          },
          "execution_count": 267
        }
      ]
    },
    {
      "cell_type": "code",
      "metadata": {
        "id": "NnG0ygYOsz3F",
        "colab_type": "code",
        "colab": {
          "base_uri": "https://localhost:8080/",
          "height": 884
        },
        "outputId": "3c228f52-fbea-4479-ec4e-a29c97d39324"
      },
      "source": [
        "df.nunique()"
      ],
      "execution_count": 268,
      "outputs": [
        {
          "output_type": "execute_result",
          "data": {
            "text/plain": [
              "encounter_id                101665\n",
              "patient_nbr                  71451\n",
              "race                             6\n",
              "gender                           4\n",
              "age                             11\n",
              "weight                          10\n",
              "admission_type_id                9\n",
              "discharge_disposition_id        27\n",
              "admission_source_id             18\n",
              "time_in_hospital                15\n",
              "payer_code                      18\n",
              "medical_specialty               73\n",
              "num_lab_procedures             119\n",
              "num_procedures                   8\n",
              "num_medications                 76\n",
              "number_outpatient               40\n",
              "number_emergency                34\n",
              "number_inpatient                22\n",
              "diag_1                         717\n",
              "diag_2                         749\n",
              "diag_3                         790\n",
              "number_diagnoses                17\n",
              "max_glu_serum                    5\n",
              "A1Cresult                        5\n",
              "metformin                        5\n",
              "repaglinide                      5\n",
              "nateglinide                      5\n",
              "chlorpropamide                   5\n",
              "glimepiride                      5\n",
              "acetohexamide                    3\n",
              "glipizide                        5\n",
              "glyburide                        5\n",
              "tolbutamide                      3\n",
              "pioglitazone                     5\n",
              "rosiglitazone                    5\n",
              "acarbose                         5\n",
              "miglitol                         5\n",
              "troglitazone                     3\n",
              "tolazamide                       4\n",
              "examide                          2\n",
              "citoglipton                      2\n",
              "insulin                          5\n",
              "glyburide-metformin              5\n",
              "glipizide-metformin              3\n",
              "glimepiride-pioglitazone         3\n",
              "metformin-rosiglitazone          3\n",
              "metformin-pioglitazone           3\n",
              "change                           3\n",
              "diabetesMed                      3\n",
              "readmitted                       4\n",
              "dtype: int64"
            ]
          },
          "metadata": {
            "tags": []
          },
          "execution_count": 268
        }
      ]
    },
    {
      "cell_type": "code",
      "metadata": {
        "id": "mkgnaKVatG3q",
        "colab_type": "code",
        "colab": {
          "base_uri": "https://localhost:8080/",
          "height": 119
        },
        "outputId": "da6a323d-e568-4eec-b7e5-6bc154242bf1"
      },
      "source": [
        "df['max_glu_serum'].value_counts()"
      ],
      "execution_count": 269,
      "outputs": [
        {
          "output_type": "execute_result",
          "data": {
            "text/plain": [
              "None    96394\n",
              "Norm     2597\n",
              ">200     1484\n",
              ">300     1264\n",
              "?          27\n",
              "Name: max_glu_serum, dtype: int64"
            ]
          },
          "metadata": {
            "tags": []
          },
          "execution_count": 269
        }
      ]
    },
    {
      "cell_type": "code",
      "metadata": {
        "id": "k1sPftvTAiAz",
        "colab_type": "code",
        "outputId": "4e14cb68-235e-4963-c404-fc5bc638c06c",
        "colab": {
          "base_uri": "https://localhost:8080/",
          "height": 34
        }
      },
      "source": [
        "df['gender'].unique()"
      ],
      "execution_count": 270,
      "outputs": [
        {
          "output_type": "execute_result",
          "data": {
            "text/plain": [
              "array(['Female', 'Male', '?', 'Unknown/Invalid'], dtype=object)"
            ]
          },
          "metadata": {
            "tags": []
          },
          "execution_count": 270
        }
      ]
    },
    {
      "cell_type": "code",
      "metadata": {
        "id": "6UvsKQHKAiBD",
        "colab_type": "code",
        "colab": {}
      },
      "source": [
        "df['gender'] = df['gender'].replace('?','Unknown/Invalid')"
      ],
      "execution_count": 0,
      "outputs": []
    },
    {
      "cell_type": "code",
      "metadata": {
        "id": "Jj9TDUXcAiBF",
        "colab_type": "code",
        "outputId": "7a4b4e6f-26e6-484d-8959-65fa177b2c17",
        "colab": {
          "base_uri": "https://localhost:8080/",
          "height": 34
        }
      },
      "source": [
        "df['gender'].unique()"
      ],
      "execution_count": 272,
      "outputs": [
        {
          "output_type": "execute_result",
          "data": {
            "text/plain": [
              "array(['Female', 'Male', 'Unknown/Invalid'], dtype=object)"
            ]
          },
          "metadata": {
            "tags": []
          },
          "execution_count": 272
        }
      ]
    },
    {
      "cell_type": "code",
      "metadata": {
        "id": "UcgsYPj3AiBO",
        "colab_type": "code",
        "colab": {}
      },
      "source": [
        "df['weight'] = df['weight'].replace('?',np.NaN)"
      ],
      "execution_count": 0,
      "outputs": []
    },
    {
      "cell_type": "code",
      "metadata": {
        "id": "UcE0fCHmAiBS",
        "colab_type": "code",
        "outputId": "3193846a-2a4b-4269-89f7-e0489bc25b27",
        "colab": {
          "base_uri": "https://localhost:8080/",
          "height": 187
        }
      },
      "source": [
        "df['weight'].value_counts()"
      ],
      "execution_count": 274,
      "outputs": [
        {
          "output_type": "execute_result",
          "data": {
            "text/plain": [
              "[75-100)     1336\n",
              "[50-75)       897\n",
              "[100-125)     625\n",
              "[125-150)     145\n",
              "[25-50)        97\n",
              "[0-25)         48\n",
              "[150-175)      35\n",
              "[175-200)      11\n",
              ">200            3\n",
              "Name: weight, dtype: int64"
            ]
          },
          "metadata": {
            "tags": []
          },
          "execution_count": 274
        }
      ]
    },
    {
      "cell_type": "code",
      "metadata": {
        "id": "NgdAJDPzAiBU",
        "colab_type": "code",
        "outputId": "09164245-2e52-4548-cdf2-f8ff5e65e182",
        "colab": {
          "base_uri": "https://localhost:8080/",
          "height": 51
        }
      },
      "source": [
        "df['time_in_hospital'] = df['time_in_hospital'].replace('?',np.NaN)\n",
        "df['time_in_hospital'].unique()\n"
      ],
      "execution_count": 275,
      "outputs": [
        {
          "output_type": "execute_result",
          "data": {
            "text/plain": [
              "array([ 1.,  3.,  2.,  4.,  5., 13., 12.,  9.,  7., 10.,  6., 11.,  8.,\n",
              "       14., nan])"
            ]
          },
          "metadata": {
            "tags": []
          },
          "execution_count": 275
        }
      ]
    },
    {
      "cell_type": "code",
      "metadata": {
        "id": "ti8-5XtQAiBX",
        "colab_type": "code",
        "outputId": "6d2344d1-bb6e-4028-abba-25f3900d91dc",
        "colab": {
          "base_uri": "https://localhost:8080/",
          "height": 51
        }
      },
      "source": [
        "df['weight'].unique()\n"
      ],
      "execution_count": 276,
      "outputs": [
        {
          "output_type": "execute_result",
          "data": {
            "text/plain": [
              "array([nan, '[75-100)', '[50-75)', '[0-25)', '[100-125)', '[25-50)',\n",
              "       '[125-150)', '[175-200)', '[150-175)', '>200'], dtype=object)"
            ]
          },
          "metadata": {
            "tags": []
          },
          "execution_count": 276
        }
      ]
    },
    {
      "cell_type": "code",
      "metadata": {
        "id": "_Kh1Z62AAiBa",
        "colab_type": "code",
        "outputId": "00fc6f6e-f966-43d7-a9da-da4c2cb7ec42",
        "colab": {
          "base_uri": "https://localhost:8080/",
          "height": 341
        }
      },
      "source": [
        "sns.countplot(df['weight'], order = ['[0-25)','[25-50)','[50-75)','[75-100)','[100-125)', '[125-150)','[150-175)','[175-200)','>200'])\n",
        "plt.xticks(rotation=45)"
      ],
      "execution_count": 277,
      "outputs": [
        {
          "output_type": "execute_result",
          "data": {
            "text/plain": [
              "(array([0, 1, 2, 3, 4, 5, 6, 7, 8]), <a list of 9 Text xticklabel objects>)"
            ]
          },
          "metadata": {
            "tags": []
          },
          "execution_count": 277
        },
        {
          "output_type": "display_data",
          "data": {
            "image/png": "[encoded data removed]",
            "text/plain": [
              "<Figure size 432x288 with 1 Axes>"
            ]
          },
          "metadata": {
            "tags": []
          }
        }
      ]
    },
    {
      "cell_type": "code",
      "metadata": {
        "id": "CegstlI1AiBc",
        "colab_type": "code",
        "outputId": "c8c06d58-a80b-42c1-cb54-ebf449f05c53",
        "colab": {
          "base_uri": "https://localhost:8080/",
          "height": 333
        }
      },
      "source": [
        "sns.countplot(df['time_in_hospital'])\n",
        "plt.xticks(rotation=45)"
      ],
      "execution_count": 278,
      "outputs": [
        {
          "output_type": "execute_result",
          "data": {
            "text/plain": [
              "(array([ 0,  1,  2,  3,  4,  5,  6,  7,  8,  9, 10, 11, 12, 13]),\n",
              " <a list of 14 Text xticklabel objects>)"
            ]
          },
          "metadata": {
            "tags": []
          },
          "execution_count": 278
        },
        {
          "output_type": "display_data",
          "data": {
            "image/png": "[encoded data removed]",
            "text/plain": [
              "<Figure size 432x288 with 1 Axes>"
            ]
          },
          "metadata": {
            "tags": []
          }
        }
      ]
    },
    {
      "cell_type": "code",
      "metadata": {
        "id": "iLt9Nlz0AiBf",
        "colab_type": "code",
        "colab": {}
      },
      "source": [
        "df.replace('?', np.nan, inplace=True)"
      ],
      "execution_count": 0,
      "outputs": []
    },
    {
      "cell_type": "code",
      "metadata": {
        "id": "k8Ngh0qfAiBh",
        "colab_type": "code",
        "outputId": "c066b9a2-2c4d-4950-a69a-b459409bcfc5",
        "colab": {
          "base_uri": "https://localhost:8080/",
          "height": 302
        }
      },
      "source": [
        "sns.boxplot(df[\"number_emergency\"])"
      ],
      "execution_count": 280,
      "outputs": [
        {
          "output_type": "execute_result",
          "data": {
            "text/plain": [
              "<matplotlib.axes._subplots.AxesSubplot at 0x7f992a0d4080>"
            ]
          },
          "metadata": {
            "tags": []
          },
          "execution_count": 280
        },
        {
          "output_type": "display_data",
          "data": {
            "image/png": "[encoded data removed]",
            "text/plain": [
              "<Figure size 432x288 with 1 Axes>"
            ]
          },
          "metadata": {
            "tags": []
          }
        }
      ]
    },
    {
      "cell_type": "code",
      "metadata": {
        "id": "z0YGNGxNAiBk",
        "colab_type": "code",
        "outputId": "cbc2863b-372a-4725-dbad-60544723fbb2",
        "colab": {
          "base_uri": "https://localhost:8080/",
          "height": 336
        }
      },
      "source": [
        "plt.hist(np.log(df[\"number_emergency\"] + 1))\n",
        "plt.show()"
      ],
      "execution_count": 281,
      "outputs": [
        {
          "output_type": "stream",
          "text": [
            "/usr/local/lib/python3.6/dist-packages/numpy/lib/histograms.py:829: RuntimeWarning: invalid value encountered in greater_equal\n",
            "  keep = (tmp_a >= first_edge)\n",
            "/usr/local/lib/python3.6/dist-packages/numpy/lib/histograms.py:830: RuntimeWarning: invalid value encountered in less_equal\n",
            "  keep &= (tmp_a <= last_edge)\n"
          ],
          "name": "stderr"
        },
        {
          "output_type": "display_data",
          "data": {
            "image/png": "[encoded data removed]",
            "text/plain": [
              "<Figure size 432x288 with 1 Axes>"
            ]
          },
          "metadata": {
            "tags": []
          }
        }
      ]
    },
    {
      "cell_type": "code",
      "metadata": {
        "id": "rPaYcHPuAiBm",
        "colab_type": "code",
        "outputId": "b8003789-a18f-4611-8706-3d3adf819a8b",
        "colab": {
          "base_uri": "https://localhost:8080/",
          "height": 285
        }
      },
      "source": [
        "sns.boxplot(np.log(df[\"number_emergency\"] + 1))\n",
        "plt.show()"
      ],
      "execution_count": 282,
      "outputs": [
        {
          "output_type": "display_data",
          "data": {
            "image/png": "[encoded data removed]",
            "text/plain": [
              "<Figure size 432x288 with 1 Axes>"
            ]
          },
          "metadata": {
            "tags": []
          }
        }
      ]
    },
    {
      "cell_type": "code",
      "metadata": {
        "id": "vUwcq28OAiBo",
        "colab_type": "code",
        "outputId": "321bd488-becd-4e8d-a54a-6b4a2e256ce6",
        "colab": {
          "base_uri": "https://localhost:8080/",
          "height": 285
        }
      },
      "source": [
        "sns.boxplot(df[\"num_lab_procedures\"], whis=2)\n",
        "plt.show()"
      ],
      "execution_count": 283,
      "outputs": [
        {
          "output_type": "display_data",
          "data": {
            "image/png": "[encoded data removed]",
            "text/plain": [
              "<Figure size 432x288 with 1 Axes>"
            ]
          },
          "metadata": {
            "tags": []
          }
        }
      ]
    },
    {
      "cell_type": "code",
      "metadata": {
        "id": "uzoQzkdqAiBr",
        "colab_type": "code",
        "outputId": "bc8156da-1f3b-4c5a-84e1-c22c03a0bce1",
        "colab": {
          "base_uri": "https://localhost:8080/",
          "height": 285
        }
      },
      "source": [
        "sns.boxplot(df[\"num_medications\"])\n",
        "plt.show()"
      ],
      "execution_count": 284,
      "outputs": [
        {
          "output_type": "display_data",
          "data": {
            "image/png": "[encoded data removed]",
            "text/plain": [
              "<Figure size 432x288 with 1 Axes>"
            ]
          },
          "metadata": {
            "tags": []
          }
        }
      ]
    },
    {
      "cell_type": "code",
      "metadata": {
        "id": "iW2OC2SGAiBt",
        "colab_type": "code",
        "outputId": "8ee3aeb3-3c87-4420-ce70-5ef4c3fe624e",
        "colab": {
          "base_uri": "https://localhost:8080/",
          "height": 336
        }
      },
      "source": [
        "plt.hist(df[\"num_medications\"])\n",
        "plt.show()"
      ],
      "execution_count": 285,
      "outputs": [
        {
          "output_type": "stream",
          "text": [
            "/usr/local/lib/python3.6/dist-packages/numpy/lib/histograms.py:829: RuntimeWarning: invalid value encountered in greater_equal\n",
            "  keep = (tmp_a >= first_edge)\n",
            "/usr/local/lib/python3.6/dist-packages/numpy/lib/histograms.py:830: RuntimeWarning: invalid value encountered in less_equal\n",
            "  keep &= (tmp_a <= last_edge)\n"
          ],
          "name": "stderr"
        },
        {
          "output_type": "display_data",
          "data": {
            "image/png": "[encoded data removed]",
            "text/plain": [
              "<Figure size 432x288 with 1 Axes>"
            ]
          },
          "metadata": {
            "tags": []
          }
        }
      ]
    },
    {
      "cell_type": "markdown",
      "metadata": {
        "id": "b2RGJyD6A9Nd",
        "colab_type": "text"
      },
      "source": [
        "#In your pair, pick one of your notebooks to start from and work ahead on the diabetes data set, assuming your outcome variable is ‘readmitted’, and making it binary where ‘NO’ is 0 and any other value is 1"
      ]
    },
    {
      "cell_type": "code",
      "metadata": {
        "id": "eSI5z7a_AiBy",
        "colab_type": "code",
        "colab": {}
      },
      "source": [
        "df['readmitted'] = np.where(df['readmitted'] == 'NO', 0,1)"
      ],
      "execution_count": 0,
      "outputs": []
    },
    {
      "cell_type": "code",
      "metadata": {
        "id": "SMg_ZF4TK2IK",
        "colab_type": "code",
        "outputId": "b916e5de-47e9-4035-a1df-4df15ae0848a",
        "colab": {
          "base_uri": "https://localhost:8080/",
          "height": 221
        }
      },
      "source": [
        "df['readmitted'].unique"
      ],
      "execution_count": 287,
      "outputs": [
        {
          "output_type": "execute_result",
          "data": {
            "text/plain": [
              "<bound method Series.unique of 0         0\n",
              "1         1\n",
              "2         0\n",
              "3         0\n",
              "4         0\n",
              "         ..\n",
              "101761    1\n",
              "101762    0\n",
              "101763    0\n",
              "101764    0\n",
              "101765    0\n",
              "Name: readmitted, Length: 101766, dtype: int64>"
            ]
          },
          "metadata": {
            "tags": []
          },
          "execution_count": 287
        }
      ]
    },
    {
      "cell_type": "markdown",
      "metadata": {
        "id": "yURSYZmPA_Ii",
        "colab_type": "text"
      },
      "source": [
        "#Determine relationships between your input variables and your outcome. Which features have the strongest relationship?"
      ]
    },
    {
      "cell_type": "markdown",
      "metadata": {
        "id": "iv6O1nrV06GK",
        "colab_type": "text"
      },
      "source": [
        "Continuous - continuous: correlation matrix\n",
        "\n",
        "Continuous - categorical: T-test, ANOVA, etc. i.e. statistical significance tests\n",
        "\n",
        "Categorical - categorical: Chi-square test"
      ]
    },
    {
      "cell_type": "code",
      "metadata": {
        "id": "kQdSfJU7BDnb",
        "colab_type": "code",
        "outputId": "8d741e34-afab-47b7-ead8-f2be4c7f0934",
        "colab": {
          "base_uri": "https://localhost:8080/",
          "height": 565
        }
      },
      "source": [
        "# continuous - continuous\n",
        "df.corr()"
      ],
      "execution_count": 306,
      "outputs": [
        {
          "output_type": "execute_result",
          "data": {
            "text/html": [
              "<div>\n",
              "<style scoped>\n",
              "    .dataframe tbody tr th:only-of-type {\n",
              "        vertical-align: middle;\n",
              "    }\n",
              "\n",
              "    .dataframe tbody tr th {\n",
              "        vertical-align: top;\n",
              "    }\n",
              "\n",
              "    .dataframe thead th {\n",
              "        text-align: right;\n",
              "    }\n",
              "</style>\n",
              "<table border=\"1\" class=\"dataframe\">\n",
              "  <thead>\n",
              "    <tr style=\"text-align: right;\">\n",
              "      <th></th>\n",
              "      <th>encounter_id</th>\n",
              "      <th>patient_nbr</th>\n",
              "      <th>admission_type_id</th>\n",
              "      <th>discharge_disposition_id</th>\n",
              "      <th>admission_source_id</th>\n",
              "      <th>time_in_hospital</th>\n",
              "      <th>num_lab_procedures</th>\n",
              "      <th>num_procedures</th>\n",
              "      <th>num_medications</th>\n",
              "      <th>number_outpatient</th>\n",
              "      <th>number_emergency</th>\n",
              "      <th>number_inpatient</th>\n",
              "      <th>number_diagnoses</th>\n",
              "      <th>readmitted</th>\n",
              "      <th>ordinal_max_glu_serum</th>\n",
              "      <th>ordinal_diabetesMed</th>\n",
              "    </tr>\n",
              "  </thead>\n",
              "  <tbody>\n",
              "    <tr>\n",
              "      <th>encounter_id</th>\n",
              "      <td>1.000000</td>\n",
              "      <td>0.512183</td>\n",
              "      <td>-0.158818</td>\n",
              "      <td>-0.132721</td>\n",
              "      <td>-0.112497</td>\n",
              "      <td>-0.062200</td>\n",
              "      <td>-0.026008</td>\n",
              "      <td>-0.014419</td>\n",
              "      <td>0.076054</td>\n",
              "      <td>0.103823</td>\n",
              "      <td>0.082780</td>\n",
              "      <td>0.030924</td>\n",
              "      <td>0.265203</td>\n",
              "      <td>-0.038507</td>\n",
              "      <td>-0.137271</td>\n",
              "      <td>0.051698</td>\n",
              "    </tr>\n",
              "    <tr>\n",
              "      <th>patient_nbr</th>\n",
              "      <td>0.512183</td>\n",
              "      <td>1.000000</td>\n",
              "      <td>-0.010997</td>\n",
              "      <td>-0.136870</td>\n",
              "      <td>-0.032787</td>\n",
              "      <td>-0.023845</td>\n",
              "      <td>0.015794</td>\n",
              "      <td>-0.015568</td>\n",
              "      <td>0.020632</td>\n",
              "      <td>0.103373</td>\n",
              "      <td>0.062202</td>\n",
              "      <td>0.012284</td>\n",
              "      <td>0.226760</td>\n",
              "      <td>0.074007</td>\n",
              "      <td>-0.077348</td>\n",
              "      <td>0.017238</td>\n",
              "    </tr>\n",
              "    <tr>\n",
              "      <th>admission_type_id</th>\n",
              "      <td>-0.158818</td>\n",
              "      <td>-0.010997</td>\n",
              "      <td>1.000000</td>\n",
              "      <td>0.083435</td>\n",
              "      <td>0.106673</td>\n",
              "      <td>-0.012549</td>\n",
              "      <td>-0.143492</td>\n",
              "      <td>0.129959</td>\n",
              "      <td>0.079422</td>\n",
              "      <td>0.026619</td>\n",
              "      <td>-0.018969</td>\n",
              "      <td>-0.038057</td>\n",
              "      <td>-0.117057</td>\n",
              "      <td>-0.004460</td>\n",
              "      <td>0.356526</td>\n",
              "      <td>-0.000497</td>\n",
              "    </tr>\n",
              "    <tr>\n",
              "      <th>discharge_disposition_id</th>\n",
              "      <td>-0.132721</td>\n",
              "      <td>-0.136870</td>\n",
              "      <td>0.083435</td>\n",
              "      <td>1.000000</td>\n",
              "      <td>0.018152</td>\n",
              "      <td>0.162869</td>\n",
              "      <td>0.023474</td>\n",
              "      <td>0.015952</td>\n",
              "      <td>0.108655</td>\n",
              "      <td>-0.008725</td>\n",
              "      <td>-0.024463</td>\n",
              "      <td>0.020826</td>\n",
              "      <td>0.046855</td>\n",
              "      <td>-0.014795</td>\n",
              "      <td>0.041548</td>\n",
              "      <td>-0.028697</td>\n",
              "    </tr>\n",
              "    <tr>\n",
              "      <th>admission_source_id</th>\n",
              "      <td>-0.112497</td>\n",
              "      <td>-0.032787</td>\n",
              "      <td>0.106673</td>\n",
              "      <td>0.018152</td>\n",
              "      <td>1.000000</td>\n",
              "      <td>-0.007022</td>\n",
              "      <td>0.048888</td>\n",
              "      <td>-0.135305</td>\n",
              "      <td>-0.054794</td>\n",
              "      <td>0.027112</td>\n",
              "      <td>0.059845</td>\n",
              "      <td>0.036222</td>\n",
              "      <td>0.071975</td>\n",
              "      <td>0.040113</td>\n",
              "      <td>0.415351</td>\n",
              "      <td>0.001430</td>\n",
              "    </tr>\n",
              "    <tr>\n",
              "      <th>time_in_hospital</th>\n",
              "      <td>-0.062200</td>\n",
              "      <td>-0.023845</td>\n",
              "      <td>-0.012549</td>\n",
              "      <td>0.162869</td>\n",
              "      <td>-0.007022</td>\n",
              "      <td>1.000000</td>\n",
              "      <td>0.318601</td>\n",
              "      <td>0.191774</td>\n",
              "      <td>0.466258</td>\n",
              "      <td>-0.008887</td>\n",
              "      <td>-0.010085</td>\n",
              "      <td>0.073415</td>\n",
              "      <td>0.220172</td>\n",
              "      <td>0.051196</td>\n",
              "      <td>0.028069</td>\n",
              "      <td>0.062366</td>\n",
              "    </tr>\n",
              "    <tr>\n",
              "      <th>num_lab_procedures</th>\n",
              "      <td>-0.026008</td>\n",
              "      <td>0.015794</td>\n",
              "      <td>-0.143492</td>\n",
              "      <td>0.023474</td>\n",
              "      <td>0.048888</td>\n",
              "      <td>0.318601</td>\n",
              "      <td>1.000000</td>\n",
              "      <td>0.058075</td>\n",
              "      <td>0.268097</td>\n",
              "      <td>-0.007685</td>\n",
              "      <td>-0.002217</td>\n",
              "      <td>0.039404</td>\n",
              "      <td>0.152784</td>\n",
              "      <td>0.039271</td>\n",
              "      <td>-0.128287</td>\n",
              "      <td>0.033146</td>\n",
              "    </tr>\n",
              "    <tr>\n",
              "      <th>num_procedures</th>\n",
              "      <td>-0.014419</td>\n",
              "      <td>-0.015568</td>\n",
              "      <td>0.129959</td>\n",
              "      <td>0.015952</td>\n",
              "      <td>-0.135305</td>\n",
              "      <td>0.191774</td>\n",
              "      <td>0.058075</td>\n",
              "      <td>1.000000</td>\n",
              "      <td>0.385899</td>\n",
              "      <td>-0.024920</td>\n",
              "      <td>-0.038303</td>\n",
              "      <td>-0.066225</td>\n",
              "      <td>0.073803</td>\n",
              "      <td>-0.044793</td>\n",
              "      <td>-0.069267</td>\n",
              "      <td>-0.006923</td>\n",
              "    </tr>\n",
              "    <tr>\n",
              "      <th>num_medications</th>\n",
              "      <td>0.076054</td>\n",
              "      <td>0.020632</td>\n",
              "      <td>0.079422</td>\n",
              "      <td>0.108655</td>\n",
              "      <td>-0.054794</td>\n",
              "      <td>0.466258</td>\n",
              "      <td>0.268097</td>\n",
              "      <td>0.385899</td>\n",
              "      <td>1.000000</td>\n",
              "      <td>0.045253</td>\n",
              "      <td>0.013248</td>\n",
              "      <td>0.064274</td>\n",
              "      <td>0.261571</td>\n",
              "      <td>0.046667</td>\n",
              "      <td>-0.000612</td>\n",
              "      <td>0.186748</td>\n",
              "    </tr>\n",
              "    <tr>\n",
              "      <th>number_outpatient</th>\n",
              "      <td>0.103823</td>\n",
              "      <td>0.103373</td>\n",
              "      <td>0.026619</td>\n",
              "      <td>-0.008725</td>\n",
              "      <td>0.027112</td>\n",
              "      <td>-0.008887</td>\n",
              "      <td>-0.007685</td>\n",
              "      <td>-0.024920</td>\n",
              "      <td>0.045253</td>\n",
              "      <td>1.000000</td>\n",
              "      <td>0.091375</td>\n",
              "      <td>0.107246</td>\n",
              "      <td>0.094283</td>\n",
              "      <td>0.082047</td>\n",
              "      <td>0.047466</td>\n",
              "      <td>0.016509</td>\n",
              "    </tr>\n",
              "    <tr>\n",
              "      <th>number_emergency</th>\n",
              "      <td>0.082780</td>\n",
              "      <td>0.062202</td>\n",
              "      <td>-0.018969</td>\n",
              "      <td>-0.024463</td>\n",
              "      <td>0.059845</td>\n",
              "      <td>-0.010085</td>\n",
              "      <td>-0.002217</td>\n",
              "      <td>-0.038303</td>\n",
              "      <td>0.013248</td>\n",
              "      <td>0.091375</td>\n",
              "      <td>1.000000</td>\n",
              "      <td>0.266686</td>\n",
              "      <td>0.055487</td>\n",
              "      <td>0.102858</td>\n",
              "      <td>0.034844</td>\n",
              "      <td>0.025850</td>\n",
              "    </tr>\n",
              "    <tr>\n",
              "      <th>number_inpatient</th>\n",
              "      <td>0.030924</td>\n",
              "      <td>0.012284</td>\n",
              "      <td>-0.038057</td>\n",
              "      <td>0.020826</td>\n",
              "      <td>0.036222</td>\n",
              "      <td>0.073415</td>\n",
              "      <td>0.039404</td>\n",
              "      <td>-0.066225</td>\n",
              "      <td>0.064274</td>\n",
              "      <td>0.107246</td>\n",
              "      <td>0.266686</td>\n",
              "      <td>1.000000</td>\n",
              "      <td>0.104724</td>\n",
              "      <td>0.216906</td>\n",
              "      <td>0.031412</td>\n",
              "      <td>0.025967</td>\n",
              "    </tr>\n",
              "    <tr>\n",
              "      <th>number_diagnoses</th>\n",
              "      <td>0.265203</td>\n",
              "      <td>0.226760</td>\n",
              "      <td>-0.117057</td>\n",
              "      <td>0.046855</td>\n",
              "      <td>0.071975</td>\n",
              "      <td>0.220172</td>\n",
              "      <td>0.152784</td>\n",
              "      <td>0.073803</td>\n",
              "      <td>0.261571</td>\n",
              "      <td>0.094283</td>\n",
              "      <td>0.055487</td>\n",
              "      <td>0.104724</td>\n",
              "      <td>1.000000</td>\n",
              "      <td>0.112542</td>\n",
              "      <td>-0.042381</td>\n",
              "      <td>0.021105</td>\n",
              "    </tr>\n",
              "    <tr>\n",
              "      <th>readmitted</th>\n",
              "      <td>-0.038507</td>\n",
              "      <td>0.074007</td>\n",
              "      <td>-0.004460</td>\n",
              "      <td>-0.014795</td>\n",
              "      <td>0.040113</td>\n",
              "      <td>0.051196</td>\n",
              "      <td>0.039271</td>\n",
              "      <td>-0.044793</td>\n",
              "      <td>0.046667</td>\n",
              "      <td>0.082047</td>\n",
              "      <td>0.102858</td>\n",
              "      <td>0.216906</td>\n",
              "      <td>0.112542</td>\n",
              "      <td>1.000000</td>\n",
              "      <td>0.018330</td>\n",
              "      <td>0.061317</td>\n",
              "    </tr>\n",
              "    <tr>\n",
              "      <th>ordinal_max_glu_serum</th>\n",
              "      <td>-0.137271</td>\n",
              "      <td>-0.077348</td>\n",
              "      <td>0.356526</td>\n",
              "      <td>0.041548</td>\n",
              "      <td>0.415351</td>\n",
              "      <td>0.028069</td>\n",
              "      <td>-0.128287</td>\n",
              "      <td>-0.069267</td>\n",
              "      <td>-0.000612</td>\n",
              "      <td>0.047466</td>\n",
              "      <td>0.034844</td>\n",
              "      <td>0.031412</td>\n",
              "      <td>-0.042381</td>\n",
              "      <td>0.018330</td>\n",
              "      <td>1.000000</td>\n",
              "      <td>0.000744</td>\n",
              "    </tr>\n",
              "    <tr>\n",
              "      <th>ordinal_diabetesMed</th>\n",
              "      <td>0.051698</td>\n",
              "      <td>0.017238</td>\n",
              "      <td>-0.000497</td>\n",
              "      <td>-0.028697</td>\n",
              "      <td>0.001430</td>\n",
              "      <td>0.062366</td>\n",
              "      <td>0.033146</td>\n",
              "      <td>-0.006923</td>\n",
              "      <td>0.186748</td>\n",
              "      <td>0.016509</td>\n",
              "      <td>0.025850</td>\n",
              "      <td>0.025967</td>\n",
              "      <td>0.021105</td>\n",
              "      <td>0.061317</td>\n",
              "      <td>0.000744</td>\n",
              "      <td>1.000000</td>\n",
              "    </tr>\n",
              "  </tbody>\n",
              "</table>\n",
              "</div>"
            ],
            "text/plain": [
              "                          encounter_id  ...  ordinal_diabetesMed\n",
              "encounter_id                  1.000000  ...             0.051698\n",
              "patient_nbr                   0.512183  ...             0.017238\n",
              "admission_type_id            -0.158818  ...            -0.000497\n",
              "discharge_disposition_id     -0.132721  ...            -0.028697\n",
              "admission_source_id          -0.112497  ...             0.001430\n",
              "time_in_hospital             -0.062200  ...             0.062366\n",
              "num_lab_procedures           -0.026008  ...             0.033146\n",
              "num_procedures               -0.014419  ...            -0.006923\n",
              "num_medications               0.076054  ...             0.186748\n",
              "number_outpatient             0.103823  ...             0.016509\n",
              "number_emergency              0.082780  ...             0.025850\n",
              "number_inpatient              0.030924  ...             0.025967\n",
              "number_diagnoses              0.265203  ...             0.021105\n",
              "readmitted                   -0.038507  ...             0.061317\n",
              "ordinal_max_glu_serum        -0.137271  ...             0.000744\n",
              "ordinal_diabetesMed           0.051698  ...             1.000000\n",
              "\n",
              "[16 rows x 16 columns]"
            ]
          },
          "metadata": {
            "tags": []
          },
          "execution_count": 306
        }
      ]
    },
    {
      "cell_type": "code",
      "metadata": {
        "id": "8cfQhRu9La-y",
        "colab_type": "code",
        "outputId": "5ffb6749-c7a2-426f-ffd6-5f39fe12c360",
        "colab": {
          "base_uri": "https://localhost:8080/",
          "height": 723
        }
      },
      "source": [
        "# heatmap\n",
        "plt.figure(figsize=(10,10))\n",
        "sns.heatmap(df.corr(), center = 0)\n",
        "plt.show()"
      ],
      "execution_count": 289,
      "outputs": [
        {
          "output_type": "display_data",
          "data": {
            "image/png": "[encoded data removed]",
            "text/plain": [
              "<Figure size 720x720 with 2 Axes>"
            ]
          },
          "metadata": {
            "tags": []
          }
        }
      ]
    },
    {
      "cell_type": "markdown",
      "metadata": {
        "id": "lIm_s0wWbLLx",
        "colab_type": "text"
      },
      "source": [
        "#Look at relationships between your input variables. Many models assume that your input variables are independent of each other. How true is that for this data set?"
      ]
    },
    {
      "cell_type": "markdown",
      "metadata": {
        "id": "RhtN1GGro3dk",
        "colab_type": "text"
      },
      "source": [
        "**Continuous - continuous: correlation matrix**\n",
        "\n",
        "num_lab_procedures is correlated to num_procedures\n",
        "\n",
        "num_medications is correlated to time_in_hospital\n",
        "\n",
        "num_medications is correlated to number_diagnoses\n",
        "\n",
        "**Continuous - categorical:**\n",
        "\n",
        "ordinal_diabetesMed to num_medications\n",
        "\n",
        "**Categorical - categorical**\n",
        "\n",
        "The following tested are independent:\n",
        "\n",
        "age to weight\n",
        "\n",
        "race to weight\n",
        "\n",
        "gender to age \n"
      ]
    },
    {
      "cell_type": "code",
      "metadata": {
        "id": "WjLeDLI-FxA5",
        "colab_type": "code",
        "colab": {
          "base_uri": "https://localhost:8080/",
          "height": 723
        },
        "outputId": "23cbaec8-e45c-4d03-f92c-7e5621afb8cc"
      },
      "source": [
        "# heatmap\n",
        "plt.figure(figsize=(10,10))\n",
        "sns.heatmap(df.corr(), center = 0)\n",
        "plt.show()"
      ],
      "execution_count": 305,
      "outputs": [
        {
          "output_type": "display_data",
          "data": {
            "image/png": "[encoded data removed]",
            "text/plain": [
              "<Figure size 720x720 with 2 Axes>"
            ]
          },
          "metadata": {
            "tags": []
          }
        }
      ]
    },
    {
      "cell_type": "code",
      "metadata": {
        "id": "9p5K1NNP94r9",
        "colab_type": "code",
        "colab": {
          "base_uri": "https://localhost:8080/",
          "height": 221
        },
        "outputId": "7a2d6799-ceea-40a6-edec-71524a5747fb"
      },
      "source": [
        "df['max_glu_serum'].value_counts()\n",
        "df['max_glu_serum'].dropna()"
      ],
      "execution_count": 290,
      "outputs": [
        {
          "output_type": "execute_result",
          "data": {
            "text/plain": [
              "0         None\n",
              "1         None\n",
              "2         None\n",
              "3         None\n",
              "4         None\n",
              "          ... \n",
              "101761    None\n",
              "101762    None\n",
              "101763    None\n",
              "101764    None\n",
              "101765    None\n",
              "Name: max_glu_serum, Length: 101739, dtype: object"
            ]
          },
          "metadata": {
            "tags": []
          },
          "execution_count": 290
        }
      ]
    },
    {
      "cell_type": "code",
      "metadata": {
        "id": "BtvnC3b-3xPY",
        "colab_type": "code",
        "colab": {
          "base_uri": "https://localhost:8080/",
          "height": 102
        },
        "outputId": "b60232ef-8196-4d9d-dc03-02e1f1fb862e"
      },
      "source": [
        "# Continuous to categorical: t-test, ANOVA or boxen\n",
        "# Categorical max_glu_serum , diabetesMed, time_in_hospital\n",
        "df['ordinal_max_glu_serum'] = df['max_glu_serum'].map({'None': 0, 'Norm': 1, '>200': 2, '>300': 3})\n",
        "df['ordinal_max_glu_serum'].value_counts()"
      ],
      "execution_count": 291,
      "outputs": [
        {
          "output_type": "execute_result",
          "data": {
            "text/plain": [
              "0.0    96394\n",
              "1.0     2597\n",
              "2.0     1484\n",
              "3.0     1264\n",
              "Name: ordinal_max_glu_serum, dtype: int64"
            ]
          },
          "metadata": {
            "tags": []
          },
          "execution_count": 291
        }
      ]
    },
    {
      "cell_type": "code",
      "metadata": {
        "id": "nN6THNnN-pWJ",
        "colab_type": "code",
        "colab": {
          "base_uri": "https://localhost:8080/",
          "height": 34
        },
        "outputId": "287093b0-7045-479b-bf25-e65447dbe8af"
      },
      "source": [
        "stats.shapiro(df['ordinal_max_glu_serum'].sample(5000))"
      ],
      "execution_count": 292,
      "outputs": [
        {
          "output_type": "execute_result",
          "data": {
            "text/plain": [
              "(0.22014498710632324, 0.0)"
            ]
          },
          "metadata": {
            "tags": []
          },
          "execution_count": 292
        }
      ]
    },
    {
      "cell_type": "code",
      "metadata": {
        "id": "Wsr6E6Th_aMl",
        "colab_type": "code",
        "colab": {
          "base_uri": "https://localhost:8080/",
          "height": 34
        },
        "outputId": "7c13f189-fbdd-4ff1-91a0-7fbdec809d8d"
      },
      "source": [
        "stats.normaltest(df['ordinal_max_glu_serum'].sample(4000))"
      ],
      "execution_count": 293,
      "outputs": [
        {
          "output_type": "execute_result",
          "data": {
            "text/plain": [
              "NormaltestResult(statistic=nan, pvalue=nan)"
            ]
          },
          "metadata": {
            "tags": []
          },
          "execution_count": 293
        }
      ]
    },
    {
      "cell_type": "code",
      "metadata": {
        "id": "W92RHuEaC1za",
        "colab_type": "code",
        "colab": {
          "base_uri": "https://localhost:8080/",
          "height": 34
        },
        "outputId": "3f01db24-d05b-41b0-b40a-81e614e608c9"
      },
      "source": [
        "# Categorical ordinal_ max_glu_serum, time_in_hospital\n",
        "stats.mannwhitneyu(df['ordinal_max_glu_serum'], df['time_in_hospital'])"
      ],
      "execution_count": 294,
      "outputs": [
        {
          "output_type": "execute_result",
          "data": {
            "text/plain": [
              "MannwhitneyuResult(statistic=105796063.5, pvalue=0.0)"
            ]
          },
          "metadata": {
            "tags": []
          },
          "execution_count": 294
        }
      ]
    },
    {
      "cell_type": "code",
      "metadata": {
        "id": "xCdN9GnqALyT",
        "colab_type": "code",
        "colab": {
          "base_uri": "https://localhost:8080/",
          "height": 68
        },
        "outputId": "aa0e24ab-cf85-4f2f-e174-86cde002534c"
      },
      "source": [
        "df['diabetesMed'].value_counts()"
      ],
      "execution_count": 295,
      "outputs": [
        {
          "output_type": "execute_result",
          "data": {
            "text/plain": [
              "Yes    78355\n",
              "No     23396\n",
              "Name: diabetesMed, dtype: int64"
            ]
          },
          "metadata": {
            "tags": []
          },
          "execution_count": 295
        }
      ]
    },
    {
      "cell_type": "code",
      "metadata": {
        "id": "-fx_5PruABs3",
        "colab_type": "code",
        "colab": {
          "base_uri": "https://localhost:8080/",
          "height": 221
        },
        "outputId": "fc901089-1132-4898-cb83-37afbf24165a"
      },
      "source": [
        "# Continuous to categorical: t-test, ANOVA or boxen\n",
        "# Categorical max_glu_serum , diabetesMed, time_in_hospital\n",
        "df['ordinal_diabetesMed'] = df['diabetesMed'].map({'Yes': 1, 'No': 0})\n",
        "df['ordinal_diabetesMed'].dropna()\n"
      ],
      "execution_count": 296,
      "outputs": [
        {
          "output_type": "execute_result",
          "data": {
            "text/plain": [
              "0         0.0\n",
              "1         1.0\n",
              "2         1.0\n",
              "3         1.0\n",
              "4         1.0\n",
              "         ... \n",
              "101761    1.0\n",
              "101762    1.0\n",
              "101763    1.0\n",
              "101764    1.0\n",
              "101765    0.0\n",
              "Name: ordinal_diabetesMed, Length: 101751, dtype: float64"
            ]
          },
          "metadata": {
            "tags": []
          },
          "execution_count": 296
        }
      ]
    },
    {
      "cell_type": "code",
      "metadata": {
        "id": "JibkegfwBsb8",
        "colab_type": "code",
        "colab": {
          "base_uri": "https://localhost:8080/",
          "height": 34
        },
        "outputId": "662a4ec4-11ca-4971-e6a3-01d96c0b997c"
      },
      "source": [
        "# Categorical ordinal_diabetesMed, time_in_hospital\n",
        "stats.mannwhitneyu(df['ordinal_diabetesMed'], df['time_in_hospital'])"
      ],
      "execution_count": 297,
      "outputs": [
        {
          "output_type": "execute_result",
          "data": {
            "text/plain": [
              "MannwhitneyuResult(statistic=557100084.5, pvalue=0.0)"
            ]
          },
          "metadata": {
            "tags": []
          },
          "execution_count": 297
        }
      ]
    },
    {
      "cell_type": "code",
      "metadata": {
        "id": "J-sO28pa0RNj",
        "colab_type": "code",
        "colab": {
          "base_uri": "https://localhost:8080/",
          "height": 390
        },
        "outputId": "5ca305b9-8ee0-44df-a5cb-6d7ef8473cd2"
      },
      "source": [
        "# Categorical - categorical: Chi-square test\n",
        "# Categorical: (age, weight)\n",
        "aw_ct = pd.crosstab(df['age'],df['weight'])\n",
        "aw_ct"
      ],
      "execution_count": 298,
      "outputs": [
        {
          "output_type": "execute_result",
          "data": {
            "text/html": [
              "<div>\n",
              "<style scoped>\n",
              "    .dataframe tbody tr th:only-of-type {\n",
              "        vertical-align: middle;\n",
              "    }\n",
              "\n",
              "    .dataframe tbody tr th {\n",
              "        vertical-align: top;\n",
              "    }\n",
              "\n",
              "    .dataframe thead th {\n",
              "        text-align: right;\n",
              "    }\n",
              "</style>\n",
              "<table border=\"1\" class=\"dataframe\">\n",
              "  <thead>\n",
              "    <tr style=\"text-align: right;\">\n",
              "      <th>weight</th>\n",
              "      <th>&gt;200</th>\n",
              "      <th>[0-25)</th>\n",
              "      <th>[100-125)</th>\n",
              "      <th>[125-150)</th>\n",
              "      <th>[150-175)</th>\n",
              "      <th>[175-200)</th>\n",
              "      <th>[25-50)</th>\n",
              "      <th>[50-75)</th>\n",
              "      <th>[75-100)</th>\n",
              "    </tr>\n",
              "    <tr>\n",
              "      <th>age</th>\n",
              "      <th></th>\n",
              "      <th></th>\n",
              "      <th></th>\n",
              "      <th></th>\n",
              "      <th></th>\n",
              "      <th></th>\n",
              "      <th></th>\n",
              "      <th></th>\n",
              "      <th></th>\n",
              "    </tr>\n",
              "  </thead>\n",
              "  <tbody>\n",
              "    <tr>\n",
              "      <th>[0-10)</th>\n",
              "      <td>0</td>\n",
              "      <td>3</td>\n",
              "      <td>0</td>\n",
              "      <td>0</td>\n",
              "      <td>0</td>\n",
              "      <td>0</td>\n",
              "      <td>2</td>\n",
              "      <td>0</td>\n",
              "      <td>0</td>\n",
              "    </tr>\n",
              "    <tr>\n",
              "      <th>[10-20)</th>\n",
              "      <td>0</td>\n",
              "      <td>0</td>\n",
              "      <td>0</td>\n",
              "      <td>0</td>\n",
              "      <td>0</td>\n",
              "      <td>0</td>\n",
              "      <td>4</td>\n",
              "      <td>14</td>\n",
              "      <td>0</td>\n",
              "    </tr>\n",
              "    <tr>\n",
              "      <th>[20-30)</th>\n",
              "      <td>0</td>\n",
              "      <td>1</td>\n",
              "      <td>9</td>\n",
              "      <td>1</td>\n",
              "      <td>1</td>\n",
              "      <td>0</td>\n",
              "      <td>1</td>\n",
              "      <td>39</td>\n",
              "      <td>17</td>\n",
              "    </tr>\n",
              "    <tr>\n",
              "      <th>[30-40)</th>\n",
              "      <td>1</td>\n",
              "      <td>1</td>\n",
              "      <td>10</td>\n",
              "      <td>9</td>\n",
              "      <td>2</td>\n",
              "      <td>0</td>\n",
              "      <td>4</td>\n",
              "      <td>24</td>\n",
              "      <td>34</td>\n",
              "    </tr>\n",
              "    <tr>\n",
              "      <th>[40-50)</th>\n",
              "      <td>0</td>\n",
              "      <td>7</td>\n",
              "      <td>66</td>\n",
              "      <td>25</td>\n",
              "      <td>4</td>\n",
              "      <td>4</td>\n",
              "      <td>7</td>\n",
              "      <td>38</td>\n",
              "      <td>80</td>\n",
              "    </tr>\n",
              "    <tr>\n",
              "      <th>[50-60)</th>\n",
              "      <td>0</td>\n",
              "      <td>4</td>\n",
              "      <td>138</td>\n",
              "      <td>45</td>\n",
              "      <td>11</td>\n",
              "      <td>5</td>\n",
              "      <td>13</td>\n",
              "      <td>96</td>\n",
              "      <td>188</td>\n",
              "    </tr>\n",
              "    <tr>\n",
              "      <th>[60-70)</th>\n",
              "      <td>2</td>\n",
              "      <td>12</td>\n",
              "      <td>193</td>\n",
              "      <td>36</td>\n",
              "      <td>13</td>\n",
              "      <td>1</td>\n",
              "      <td>13</td>\n",
              "      <td>155</td>\n",
              "      <td>295</td>\n",
              "    </tr>\n",
              "    <tr>\n",
              "      <th>[70-80)</th>\n",
              "      <td>0</td>\n",
              "      <td>14</td>\n",
              "      <td>174</td>\n",
              "      <td>22</td>\n",
              "      <td>4</td>\n",
              "      <td>1</td>\n",
              "      <td>15</td>\n",
              "      <td>241</td>\n",
              "      <td>467</td>\n",
              "    </tr>\n",
              "    <tr>\n",
              "      <th>[80-90)</th>\n",
              "      <td>0</td>\n",
              "      <td>6</td>\n",
              "      <td>34</td>\n",
              "      <td>7</td>\n",
              "      <td>0</td>\n",
              "      <td>0</td>\n",
              "      <td>29</td>\n",
              "      <td>231</td>\n",
              "      <td>231</td>\n",
              "    </tr>\n",
              "    <tr>\n",
              "      <th>[90-100)</th>\n",
              "      <td>0</td>\n",
              "      <td>0</td>\n",
              "      <td>0</td>\n",
              "      <td>0</td>\n",
              "      <td>0</td>\n",
              "      <td>0</td>\n",
              "      <td>9</td>\n",
              "      <td>59</td>\n",
              "      <td>24</td>\n",
              "    </tr>\n",
              "  </tbody>\n",
              "</table>\n",
              "</div>"
            ],
            "text/plain": [
              "weight    >200  [0-25)  [100-125)  ...  [25-50)  [50-75)  [75-100)\n",
              "age                                ...                            \n",
              "[0-10)       0       3          0  ...        2        0         0\n",
              "[10-20)      0       0          0  ...        4       14         0\n",
              "[20-30)      0       1          9  ...        1       39        17\n",
              "[30-40)      1       1         10  ...        4       24        34\n",
              "[40-50)      0       7         66  ...        7       38        80\n",
              "[50-60)      0       4        138  ...       13       96       188\n",
              "[60-70)      2      12        193  ...       13      155       295\n",
              "[70-80)      0      14        174  ...       15      241       467\n",
              "[80-90)      0       6         34  ...       29      231       231\n",
              "[90-100)     0       0          0  ...        9       59        24\n",
              "\n",
              "[10 rows x 9 columns]"
            ]
          },
          "metadata": {
            "tags": []
          },
          "execution_count": 298
        }
      ]
    },
    {
      "cell_type": "code",
      "metadata": {
        "id": "VOAA72wq1s6Q",
        "colab_type": "code",
        "colab": {
          "base_uri": "https://localhost:8080/",
          "height": 34
        },
        "outputId": "3ce8d4a2-31a5-4b3f-e938-188a6965ccbc"
      },
      "source": [
        "# Categorical - categorical: Chi-square test\n",
        "(stats.chisquare(aw_ct, axis = None))"
      ],
      "execution_count": 299,
      "outputs": [
        {
          "output_type": "execute_result",
          "data": {
            "text/plain": [
              "Power_divergenceResult(statistic=15202.804755944928, pvalue=0.0)"
            ]
          },
          "metadata": {
            "tags": []
          },
          "execution_count": 299
        }
      ]
    },
    {
      "cell_type": "code",
      "metadata": {
        "id": "KqkVGAeq0Q_j",
        "colab_type": "code",
        "colab": {
          "base_uri": "https://localhost:8080/",
          "height": 204
        },
        "outputId": "5af6fd00-5bc1-4b81-e20e-df8cf0f394ab"
      },
      "source": [
        "# Categorical - categorical: Chi-square test\n",
        "# Categorical: race, weight)\n",
        "rw_ct = pd.crosstab(df['race'],df['weight'])\n",
        "rw_ct"
      ],
      "execution_count": 300,
      "outputs": [
        {
          "output_type": "execute_result",
          "data": {
            "text/html": [
              "<div>\n",
              "<style scoped>\n",
              "    .dataframe tbody tr th:only-of-type {\n",
              "        vertical-align: middle;\n",
              "    }\n",
              "\n",
              "    .dataframe tbody tr th {\n",
              "        vertical-align: top;\n",
              "    }\n",
              "\n",
              "    .dataframe thead th {\n",
              "        text-align: right;\n",
              "    }\n",
              "</style>\n",
              "<table border=\"1\" class=\"dataframe\">\n",
              "  <thead>\n",
              "    <tr style=\"text-align: right;\">\n",
              "      <th>weight</th>\n",
              "      <th>&gt;200</th>\n",
              "      <th>[0-25)</th>\n",
              "      <th>[100-125)</th>\n",
              "      <th>[125-150)</th>\n",
              "      <th>[150-175)</th>\n",
              "      <th>[175-200)</th>\n",
              "      <th>[25-50)</th>\n",
              "      <th>[50-75)</th>\n",
              "      <th>[75-100)</th>\n",
              "    </tr>\n",
              "    <tr>\n",
              "      <th>race</th>\n",
              "      <th></th>\n",
              "      <th></th>\n",
              "      <th></th>\n",
              "      <th></th>\n",
              "      <th></th>\n",
              "      <th></th>\n",
              "      <th></th>\n",
              "      <th></th>\n",
              "      <th></th>\n",
              "    </tr>\n",
              "  </thead>\n",
              "  <tbody>\n",
              "    <tr>\n",
              "      <th>AfricanAmerican</th>\n",
              "      <td>1</td>\n",
              "      <td>6</td>\n",
              "      <td>27</td>\n",
              "      <td>4</td>\n",
              "      <td>1</td>\n",
              "      <td>1</td>\n",
              "      <td>4</td>\n",
              "      <td>25</td>\n",
              "      <td>42</td>\n",
              "    </tr>\n",
              "    <tr>\n",
              "      <th>Asian</th>\n",
              "      <td>0</td>\n",
              "      <td>0</td>\n",
              "      <td>0</td>\n",
              "      <td>0</td>\n",
              "      <td>0</td>\n",
              "      <td>0</td>\n",
              "      <td>0</td>\n",
              "      <td>8</td>\n",
              "      <td>1</td>\n",
              "    </tr>\n",
              "    <tr>\n",
              "      <th>Caucasian</th>\n",
              "      <td>2</td>\n",
              "      <td>40</td>\n",
              "      <td>567</td>\n",
              "      <td>129</td>\n",
              "      <td>33</td>\n",
              "      <td>9</td>\n",
              "      <td>87</td>\n",
              "      <td>814</td>\n",
              "      <td>1223</td>\n",
              "    </tr>\n",
              "    <tr>\n",
              "      <th>Other</th>\n",
              "      <td>0</td>\n",
              "      <td>1</td>\n",
              "      <td>2</td>\n",
              "      <td>2</td>\n",
              "      <td>0</td>\n",
              "      <td>0</td>\n",
              "      <td>1</td>\n",
              "      <td>12</td>\n",
              "      <td>12</td>\n",
              "    </tr>\n",
              "  </tbody>\n",
              "</table>\n",
              "</div>"
            ],
            "text/plain": [
              "weight           >200  [0-25)  [100-125)  ...  [25-50)  [50-75)  [75-100)\n",
              "race                                      ...                            \n",
              "AfricanAmerican     1       6         27  ...        4       25        42\n",
              "Asian               0       0          0  ...        0        8         1\n",
              "Caucasian           2      40        567  ...       87      814      1223\n",
              "Other               0       1          2  ...        1       12        12\n",
              "\n",
              "[4 rows x 9 columns]"
            ]
          },
          "metadata": {
            "tags": []
          },
          "execution_count": 300
        }
      ]
    },
    {
      "cell_type": "code",
      "metadata": {
        "id": "XJFXTuEG2pMF",
        "colab_type": "code",
        "colab": {
          "base_uri": "https://localhost:8080/",
          "height": 34
        },
        "outputId": "5cd47838-5efe-4343-ddd4-d011f355d892"
      },
      "source": [
        "# Categorical - categorical: Chi-square test\n",
        "(stats.chisquare(rw_ct, axis = None))"
      ],
      "execution_count": 301,
      "outputs": [
        {
          "output_type": "execute_result",
          "data": {
            "text/plain": [
              "Power_divergenceResult(statistic=26537.55206286837, pvalue=0.0)"
            ]
          },
          "metadata": {
            "tags": []
          },
          "execution_count": 301
        }
      ]
    },
    {
      "cell_type": "code",
      "metadata": {
        "id": "ufllhHBr0Xif",
        "colab_type": "code",
        "colab": {
          "base_uri": "https://localhost:8080/",
          "height": 173
        },
        "outputId": "72ec4a46-70aa-41eb-880a-255917b25319"
      },
      "source": [
        "# Categorical - categorical: Chi-square test\n",
        "# Categorical: (gender, age)\n",
        "ga_ct = pd.crosstab(df['gender'],df['age'])\n",
        "ga_ct"
      ],
      "execution_count": 302,
      "outputs": [
        {
          "output_type": "execute_result",
          "data": {
            "text/html": [
              "<div>\n",
              "<style scoped>\n",
              "    .dataframe tbody tr th:only-of-type {\n",
              "        vertical-align: middle;\n",
              "    }\n",
              "\n",
              "    .dataframe tbody tr th {\n",
              "        vertical-align: top;\n",
              "    }\n",
              "\n",
              "    .dataframe thead th {\n",
              "        text-align: right;\n",
              "    }\n",
              "</style>\n",
              "<table border=\"1\" class=\"dataframe\">\n",
              "  <thead>\n",
              "    <tr style=\"text-align: right;\">\n",
              "      <th>age</th>\n",
              "      <th>[0-10)</th>\n",
              "      <th>[10-20)</th>\n",
              "      <th>[20-30)</th>\n",
              "      <th>[30-40)</th>\n",
              "      <th>[40-50)</th>\n",
              "      <th>[50-60)</th>\n",
              "      <th>[60-70)</th>\n",
              "      <th>[70-80)</th>\n",
              "      <th>[80-90)</th>\n",
              "      <th>[90-100)</th>\n",
              "    </tr>\n",
              "    <tr>\n",
              "      <th>gender</th>\n",
              "      <th></th>\n",
              "      <th></th>\n",
              "      <th></th>\n",
              "      <th></th>\n",
              "      <th></th>\n",
              "      <th></th>\n",
              "      <th></th>\n",
              "      <th></th>\n",
              "      <th></th>\n",
              "      <th></th>\n",
              "    </tr>\n",
              "  </thead>\n",
              "  <tbody>\n",
              "    <tr>\n",
              "      <th>Female</th>\n",
              "      <td>83</td>\n",
              "      <td>402</td>\n",
              "      <td>1114</td>\n",
              "      <td>2161</td>\n",
              "      <td>4811</td>\n",
              "      <td>8566</td>\n",
              "      <td>11051</td>\n",
              "      <td>13980</td>\n",
              "      <td>10506</td>\n",
              "      <td>2001</td>\n",
              "    </tr>\n",
              "    <tr>\n",
              "      <th>Male</th>\n",
              "      <td>78</td>\n",
              "      <td>288</td>\n",
              "      <td>543</td>\n",
              "      <td>1611</td>\n",
              "      <td>4872</td>\n",
              "      <td>8677</td>\n",
              "      <td>11411</td>\n",
              "      <td>12073</td>\n",
              "      <td>6676</td>\n",
              "      <td>790</td>\n",
              "    </tr>\n",
              "    <tr>\n",
              "      <th>Unknown/Invalid</th>\n",
              "      <td>0</td>\n",
              "      <td>1</td>\n",
              "      <td>0</td>\n",
              "      <td>1</td>\n",
              "      <td>0</td>\n",
              "      <td>7</td>\n",
              "      <td>15</td>\n",
              "      <td>10</td>\n",
              "      <td>7</td>\n",
              "      <td>1</td>\n",
              "    </tr>\n",
              "  </tbody>\n",
              "</table>\n",
              "</div>"
            ],
            "text/plain": [
              "age              [0-10)  [10-20)  [20-30)  ...  [70-80)  [80-90)  [90-100)\n",
              "gender                                     ...                            \n",
              "Female               83      402     1114  ...    13980    10506      2001\n",
              "Male                 78      288      543  ...    12073     6676       790\n",
              "Unknown/Invalid       0        1        0  ...       10        7         1\n",
              "\n",
              "[3 rows x 10 columns]"
            ]
          },
          "metadata": {
            "tags": []
          },
          "execution_count": 302
        }
      ]
    },
    {
      "cell_type": "code",
      "metadata": {
        "id": "t-OPsUbE2wnB",
        "colab_type": "code",
        "colab": {
          "base_uri": "https://localhost:8080/",
          "height": 34
        },
        "outputId": "3619d36d-a3d1-4c4e-8ec3-2d5dd95fea5b"
      },
      "source": [
        "# Categorical - categorical: Chi-square test\n",
        "(stats.chisquare(ga_ct, axis = None))"
      ],
      "execution_count": 303,
      "outputs": [
        {
          "output_type": "execute_result",
          "data": {
            "text/plain": [
              "Power_divergenceResult(statistic=180675.5911771644, pvalue=0.0)"
            ]
          },
          "metadata": {
            "tags": []
          },
          "execution_count": 303
        }
      ]
    },
    {
      "cell_type": "markdown",
      "metadata": {
        "id": "-zXTRes6BHNA",
        "colab_type": "text"
      },
      "source": [
        "# Plot of data and log data (practice)"
      ]
    },
    {
      "cell_type": "code",
      "metadata": {
        "id": "iFYPX2bsBL1u",
        "colab_type": "code",
        "outputId": "042d19c2-3418-4a0e-8ad0-6e4478b066d8",
        "colab": {
          "base_uri": "https://localhost:8080/",
          "height": 762
        }
      },
      "source": [
        "plt.figure(figsize=(18,6))\n",
        "\n",
        "# histograms of the original data (input variables)\n",
        "plt.subplot(3, 3, 1)\n",
        "plt.hist(df['time_in_hospital'])\n",
        "plt.title(\"histogram of TIH\")\n",
        "\n",
        "plt.subplot(3, 3, 2)\n",
        "plt.hist(df['num_lab_procedures'])\n",
        "plt.title(\"histogram of NLB\")\n",
        "\n",
        "plt.subplot(3, 3, 3)\n",
        "plt.hist(df['num_procedures'])\n",
        "plt.title(\"histogram of NP\")\n",
        "\n",
        "\n",
        "plt.subplot(3, 3, 4)\n",
        "plt.hist(df['num_medications'])\n",
        "plt.title(\"histogram of NM\")\n",
        "\n",
        "plt.subplot(3, 3, 5)\n",
        "plt.hist(df['number_outpatient'])\n",
        "plt.title(\"histogram of NO\")\n",
        "\n",
        "plt.subplot(3, 3, 6)\n",
        "plt.hist(df['number_emergency'])\n",
        "plt.title(\"histogram of NE\")\n",
        "\n",
        "\n",
        "plt.subplot(3, 3, 7)\n",
        "plt.hist(df['number_inpatient'])\n",
        "plt.title(\"histogram of NI\")\n",
        "\n",
        "plt.subplot(3, 3, 8)\n",
        "plt.hist(df['number_diagnoses'])\n",
        "plt.title(\"histogram of ND\")\n",
        "plt.show()\n",
        "\n",
        "# histograms of the log transformed data\n",
        "plt.subplot(3, 3, 1)\n",
        "plt.hist(np.log(df['time_in_hospital']))\n",
        "plt.title(\"histogram of TIH\")\n",
        "\n",
        "plt.subplot(3, 3, 2)\n",
        "plt.hist(np.log(df['num_lab_procedures']))\n",
        "plt.title(\"histogram of NLB\")\n",
        "\n",
        "plt.subplot(3, 3, 3)\n",
        "plt.hist(np.log(df['num_procedures']), range = (1,2))\n",
        "plt.title(\"histogram of NP\")\n",
        "\n",
        "\n",
        "plt.subplot(3, 3, 4)\n",
        "plt.hist(np.log(df['num_medications']), range = (1,2))\n",
        "plt.title(\"histogram of NM\")\n",
        "\n",
        "plt.subplot(3, 3, 5)\n",
        "plt.hist(np.log(df['number_outpatient']),range = (1,2))\n",
        "plt.title(\"histogram of NO\")\n",
        "\n",
        "plt.subplot(3, 3, 6)\n",
        "plt.hist(np.log(df['number_emergency']),range = (1,2))\n",
        "plt.title(\"histogram of NE\")\n",
        "\n",
        "\n",
        "plt.subplot(3, 3, 7)\n",
        "plt.hist(np.log(df['number_inpatient']),range = (1,2))\n",
        "plt.title(\"histogram of NI\")\n",
        "\n",
        "plt.subplot(3, 3, 8)\n",
        "plt.hist(np.log(df['number_diagnoses']))\n",
        "plt.title(\"histogram of ND\")\n",
        "plt.show()"
      ],
      "execution_count": 307,
      "outputs": [
        {
          "output_type": "stream",
          "text": [
            "/usr/local/lib/python3.6/dist-packages/numpy/lib/histograms.py:829: RuntimeWarning: invalid value encountered in greater_equal\n",
            "  keep = (tmp_a >= first_edge)\n",
            "/usr/local/lib/python3.6/dist-packages/numpy/lib/histograms.py:830: RuntimeWarning: invalid value encountered in less_equal\n",
            "  keep &= (tmp_a <= last_edge)\n"
          ],
          "name": "stderr"
        },
        {
          "output_type": "display_data",
          "data": {
            "image/png": "[encoded data removed]",
            "text/plain": [
              "<Figure size 1296x432 with 8 Axes>"
            ]
          },
          "metadata": {
            "tags": []
          }
        },
        {
          "output_type": "stream",
          "text": [
            "/usr/local/lib/python3.6/dist-packages/pandas/core/series.py:856: RuntimeWarning: divide by zero encountered in log\n",
            "  result = getattr(ufunc, method)(*inputs, **kwargs)\n"
          ],
          "name": "stderr"
        },
        {
          "output_type": "display_data",
          "data": {
            "image/png": "[encoded data removed]",
            "text/plain": [
              "<Figure size 432x288 with 8 Axes>"
            ]
          },
          "metadata": {
            "tags": []
          }
        }
      ]
    },
    {
      "cell_type": "code",
      "metadata": {
        "id": "Wrg3s0Y1bB9c",
        "colab_type": "code",
        "colab": {}
      },
      "source": [
        ""
      ],
      "execution_count": 0,
      "outputs": []
    },
    {
      "cell_type": "markdown",
      "metadata": {
        "id": "cPBRq2sfBMl0",
        "colab_type": "text"
      },
      "source": [
        "#Make sure you demonstrate each of the statistical tests and each type of graph at least once. Experiment with different ways of achieving the same type of graph. There are many ways to get the same result, and it’s good to have many in your toolbox"
      ]
    },
    {
      "cell_type": "code",
      "metadata": {
        "id": "40QeXxXCBShC",
        "colab_type": "code",
        "colab": {
          "base_uri": "https://localhost:8080/",
          "height": 502
        },
        "outputId": "6289bbca-e867-49ee-d46a-ef6e75bf9a7f"
      },
      "source": [
        "plt.figure(figsize=(16,8))\n",
        "plt.subplot(1,2,1)\n",
        "sns.boxenplot(df['ordinal_diabetesMed'], df['time_in_hospital'])\n",
        "\n",
        "plt.subplot(1,2,2)\n",
        "sns.boxenplot(df['ordinal_max_glu_serum'], df['time_in_hospital'])\n",
        "plt.show()"
      ],
      "execution_count": 313,
      "outputs": [
        {
          "output_type": "display_data",
          "data": {
            "image/png": "[encoded data removed]",
            "text/plain": [
              "<Figure size 1152x576 with 2 Axes>"
            ]
          },
          "metadata": {
            "tags": []
          }
        }
      ]
    },
    {
      "cell_type": "code",
      "metadata": {
        "id": "yp41kendIiek",
        "colab_type": "code",
        "colab": {
          "base_uri": "https://localhost:8080/",
          "height": 519
        },
        "outputId": "b2a85546-3c47-4d96-ae8e-c5264c0bd9bd"
      },
      "source": [
        "plt.figure(figsize=(16,8))\n",
        "sns.countplot(df['age'],hue = df['weight'])"
      ],
      "execution_count": 316,
      "outputs": [
        {
          "output_type": "execute_result",
          "data": {
            "text/plain": [
              "<matplotlib.axes._subplots.AxesSubplot at 0x7f9929adc828>"
            ]
          },
          "metadata": {
            "tags": []
          },
          "execution_count": 316
        },
        {
          "output_type": "display_data",
          "data": {
            "image/png": "[encoded data removed]",
            "text/plain": [
              "<Figure size 1152x576 with 1 Axes>"
            ]
          },
          "metadata": {
            "tags": []
          }
        }
      ]
    },
    {
      "cell_type": "code",
      "metadata": {
        "id": "60nkSjwdKRar",
        "colab_type": "code",
        "colab": {
          "base_uri": "https://localhost:8080/",
          "height": 437
        },
        "outputId": "913860f0-6e58-4cfe-91b0-90730541c805"
      },
      "source": [
        "# num_lab_procedures is correlated to num_procedures\n",
        "# num_medications is correlated to time_in_hospital\n",
        "# num_medications is correlated to number_diagnoses\n",
        "sns.jointplot('num_lab_procedures', 'num_procedures', kind = 'reg', data = df)\n",
        "plt.show()"
      ],
      "execution_count": 327,
      "outputs": [
        {
          "output_type": "display_data",
          "data": {
            "image/png": "[encoded data removed]",
            "text/plain": [
              "<Figure size 432x432 with 3 Axes>"
            ]
          },
          "metadata": {
            "tags": []
          }
        }
      ]
    },
    {
      "cell_type": "code",
      "metadata": {
        "id": "o-LscD_1Mgb2",
        "colab_type": "code",
        "colab": {
          "base_uri": "https://localhost:8080/",
          "height": 437
        },
        "outputId": "3e77f19d-5d54-45e6-ccbc-ec226b557f1f"
      },
      "source": [
        "# num_medications is correlated to time_in_hospital\n",
        "\n",
        "sns.jointplot('num_medications', 'time_in_hospital', kind = 'reg', data = df)\n",
        "\n",
        "plt.show()"
      ],
      "execution_count": 326,
      "outputs": [
        {
          "output_type": "display_data",
          "data": {
            "image/png": "[encoded data removed]",
            "text/plain": [
              "<Figure size 432x432 with 3 Axes>"
            ]
          },
          "metadata": {
            "tags": []
          }
        }
      ]
    },
    {
      "cell_type": "code",
      "metadata": {
        "id": "IHIbFSkUMmpV",
        "colab_type": "code",
        "colab": {
          "base_uri": "https://localhost:8080/",
          "height": 437
        },
        "outputId": "e5beff05-9ab2-4091-b825-90581f549013"
      },
      "source": [
        "# num_medications is correlated to number_diagnoses\n",
        "sns.jointplot('num_medications', 'number_diagnoses', kind = 'reg', data = df)\n",
        "\n",
        "plt.show()"
      ],
      "execution_count": 325,
      "outputs": [
        {
          "output_type": "display_data",
          "data": {
            "image/png": "[encoded data removed]",
            "text/plain": [
              "<Figure size 432x432 with 3 Axes>"
            ]
          },
          "metadata": {
            "tags": []
          }
        }
      ]
    }
  ]
}