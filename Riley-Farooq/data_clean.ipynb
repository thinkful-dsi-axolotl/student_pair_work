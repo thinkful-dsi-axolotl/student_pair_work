{
  "nbformat": 4,
  "nbformat_minor": 0,
  "metadata": {
    "kernelspec": {
      "display_name": "Python 3",
      "language": "python",
      "name": "python3"
    },
    "language_info": {
      "codemirror_mode": {
        "name": "ipython",
        "version": 3
      },
      "file_extension": ".py",
      "mimetype": "text/x-python",
      "name": "python",
      "nbconvert_exporter": "python",
      "pygments_lexer": "ipython3",
      "version": "3.7.3"
    },
    "colab": {
      "name": "data_clean.ipynb",
      "provenance": [],
      "collapsed_sections": []
    }
  },
  "cells": [
    {
      "cell_type": "code",
      "metadata": {
        "id": "88Bor1ukAiAc",
        "colab_type": "code",
        "colab": {}
      },
      "source": [
        "import pandas as pd\n",
        "import numpy as np\n",
        "from scipy import stats \n",
        "import matplotlib.pyplot as plt\n",
        "import seaborn as sns\n",
        "sns.set()"
      ],
      "execution_count": 0,
      "outputs": []
    },
    {
      "cell_type": "code",
      "metadata": {
        "id": "hRWDdGXDAiAl",
        "colab_type": "code",
        "colab": {}
      },
      "source": [
        "#Zip file contains only the csv, so you can access it directly with read_csv\n",
        "\n",
        "df = pd.read_csv('https://tf-assets-prod.s3.amazonaws.com/tf-curric/data-science/diabetic-data-cleaning.zip', \n",
        "                 usecols = ['readmitted','race','gender','age', 'weight', 'time_in_hospital', 'num_lab_procedures', 'num_procedures',\n",
        "                            'num_medications', 'number_outpatient', 'number_emergency', 'number_inpatient', 'diag_1' , 'diag_2', 'diag_3', 'number_diagnoses'],\n",
        "                 compression='zip')\n",
        "\n",
        "#Read through this and figure out what we're doing here\n",
        "for col in df.describe().columns: \n",
        "    nanidx = df[col].sample(frac=np.random.uniform(0.0, 0.001)).index \n",
        "    df.loc[nanidx, col] = '?'\n",
        "\n",
        "# Zip file contains only the csv, so you can access it directly with read_csv df = pd.read_csv('https://tf-assets-prod.s3.amazonaws.com/tf-curric/data-science/diabetic-data-cleaning.zip', compression='zip')\n",
        "#Read through this and figure out what we're doing here\n",
        "for col in df.describe().columns: \n",
        "    nanidx = df[col].sample(frac=np.random.uniform(0.0, 0.001)).index \n",
        "    df.loc[nanidx, col] = '?'"
      ],
      "execution_count": 0,
      "outputs": []
    },
    {
      "cell_type": "code",
      "metadata": {
        "id": "oSvnsuenAiAo",
        "colab_type": "code",
        "colab": {
          "base_uri": "https://localhost:8080/",
          "height": 374
        },
        "outputId": "3f02ded0-c22f-47e3-f8fe-8806bb117381"
      },
      "source": [
        "df.info()"
      ],
      "execution_count": 91,
      "outputs": [
        {
          "output_type": "stream",
          "text": [
            "<class 'pandas.core.frame.DataFrame'>\n",
            "RangeIndex: 101766 entries, 0 to 101765\n",
            "Data columns (total 16 columns):\n",
            "race                  101766 non-null object\n",
            "gender                101766 non-null object\n",
            "age                   101766 non-null object\n",
            "weight                101766 non-null object\n",
            "time_in_hospital      101766 non-null object\n",
            "num_lab_procedures    101766 non-null object\n",
            "num_procedures        101766 non-null object\n",
            "num_medications       101766 non-null object\n",
            "number_outpatient     101766 non-null object\n",
            "number_emergency      101766 non-null object\n",
            "number_inpatient      101766 non-null object\n",
            "diag_1                101766 non-null object\n",
            "diag_2                101766 non-null object\n",
            "diag_3                101766 non-null object\n",
            "number_diagnoses      101766 non-null object\n",
            "readmitted            101766 non-null object\n",
            "dtypes: object(16)\n",
            "memory usage: 12.4+ MB\n"
          ],
          "name": "stdout"
        }
      ]
    },
    {
      "cell_type": "code",
      "metadata": {
        "id": "ounATR6sAiAs",
        "colab_type": "code",
        "colab": {
          "base_uri": "https://localhost:8080/",
          "height": 309
        },
        "outputId": "37a4fdb0-f18f-4237-ba52-3f75c3f4274d"
      },
      "source": [
        "df.head()"
      ],
      "execution_count": 92,
      "outputs": [
        {
          "output_type": "execute_result",
          "data": {
            "text/html": [
              "<div>\n",
              "<style scoped>\n",
              "    .dataframe tbody tr th:only-of-type {\n",
              "        vertical-align: middle;\n",
              "    }\n",
              "\n",
              "    .dataframe tbody tr th {\n",
              "        vertical-align: top;\n",
              "    }\n",
              "\n",
              "    .dataframe thead th {\n",
              "        text-align: right;\n",
              "    }\n",
              "</style>\n",
              "<table border=\"1\" class=\"dataframe\">\n",
              "  <thead>\n",
              "    <tr style=\"text-align: right;\">\n",
              "      <th></th>\n",
              "      <th>race</th>\n",
              "      <th>gender</th>\n",
              "      <th>age</th>\n",
              "      <th>weight</th>\n",
              "      <th>time_in_hospital</th>\n",
              "      <th>num_lab_procedures</th>\n",
              "      <th>num_procedures</th>\n",
              "      <th>num_medications</th>\n",
              "      <th>number_outpatient</th>\n",
              "      <th>number_emergency</th>\n",
              "      <th>number_inpatient</th>\n",
              "      <th>diag_1</th>\n",
              "      <th>diag_2</th>\n",
              "      <th>diag_3</th>\n",
              "      <th>number_diagnoses</th>\n",
              "      <th>readmitted</th>\n",
              "    </tr>\n",
              "  </thead>\n",
              "  <tbody>\n",
              "    <tr>\n",
              "      <th>0</th>\n",
              "      <td>Caucasian</td>\n",
              "      <td>Female</td>\n",
              "      <td>[0-10)</td>\n",
              "      <td>?</td>\n",
              "      <td>1</td>\n",
              "      <td>41</td>\n",
              "      <td>0</td>\n",
              "      <td>1</td>\n",
              "      <td>0</td>\n",
              "      <td>0</td>\n",
              "      <td>0</td>\n",
              "      <td>250.83</td>\n",
              "      <td>?</td>\n",
              "      <td>?</td>\n",
              "      <td>1</td>\n",
              "      <td>NO</td>\n",
              "    </tr>\n",
              "    <tr>\n",
              "      <th>1</th>\n",
              "      <td>Caucasian</td>\n",
              "      <td>Female</td>\n",
              "      <td>[10-20)</td>\n",
              "      <td>?</td>\n",
              "      <td>3</td>\n",
              "      <td>59</td>\n",
              "      <td>0</td>\n",
              "      <td>18</td>\n",
              "      <td>0</td>\n",
              "      <td>0</td>\n",
              "      <td>0</td>\n",
              "      <td>276</td>\n",
              "      <td>250.01</td>\n",
              "      <td>255</td>\n",
              "      <td>9</td>\n",
              "      <td>&gt;30</td>\n",
              "    </tr>\n",
              "    <tr>\n",
              "      <th>2</th>\n",
              "      <td>AfricanAmerican</td>\n",
              "      <td>Female</td>\n",
              "      <td>[20-30)</td>\n",
              "      <td>?</td>\n",
              "      <td>2</td>\n",
              "      <td>11</td>\n",
              "      <td>5</td>\n",
              "      <td>13</td>\n",
              "      <td>2</td>\n",
              "      <td>0</td>\n",
              "      <td>1</td>\n",
              "      <td>648</td>\n",
              "      <td>250</td>\n",
              "      <td>V27</td>\n",
              "      <td>6</td>\n",
              "      <td>NO</td>\n",
              "    </tr>\n",
              "    <tr>\n",
              "      <th>3</th>\n",
              "      <td>Caucasian</td>\n",
              "      <td>Male</td>\n",
              "      <td>[30-40)</td>\n",
              "      <td>?</td>\n",
              "      <td>2</td>\n",
              "      <td>44</td>\n",
              "      <td>1</td>\n",
              "      <td>?</td>\n",
              "      <td>0</td>\n",
              "      <td>0</td>\n",
              "      <td>0</td>\n",
              "      <td>8</td>\n",
              "      <td>250.43</td>\n",
              "      <td>403</td>\n",
              "      <td>7</td>\n",
              "      <td>NO</td>\n",
              "    </tr>\n",
              "    <tr>\n",
              "      <th>4</th>\n",
              "      <td>Caucasian</td>\n",
              "      <td>Male</td>\n",
              "      <td>[40-50)</td>\n",
              "      <td>?</td>\n",
              "      <td>1</td>\n",
              "      <td>51</td>\n",
              "      <td>0</td>\n",
              "      <td>8</td>\n",
              "      <td>0</td>\n",
              "      <td>0</td>\n",
              "      <td>0</td>\n",
              "      <td>197</td>\n",
              "      <td>157</td>\n",
              "      <td>250</td>\n",
              "      <td>5</td>\n",
              "      <td>NO</td>\n",
              "    </tr>\n",
              "  </tbody>\n",
              "</table>\n",
              "</div>"
            ],
            "text/plain": [
              "              race  gender      age  ... diag_3 number_diagnoses readmitted\n",
              "0        Caucasian  Female   [0-10)  ...      ?                1         NO\n",
              "1        Caucasian  Female  [10-20)  ...    255                9        >30\n",
              "2  AfricanAmerican  Female  [20-30)  ...    V27                6         NO\n",
              "3        Caucasian    Male  [30-40)  ...    403                7         NO\n",
              "4        Caucasian    Male  [40-50)  ...    250                5         NO\n",
              "\n",
              "[5 rows x 16 columns]"
            ]
          },
          "metadata": {
            "tags": []
          },
          "execution_count": 92
        }
      ]
    },
    {
      "cell_type": "code",
      "metadata": {
        "id": "k1sPftvTAiAz",
        "colab_type": "code",
        "colab": {
          "base_uri": "https://localhost:8080/",
          "height": 34
        },
        "outputId": "73f7eb34-8533-43d0-ed98-8be41b93e851"
      },
      "source": [
        "df['gender'].unique()"
      ],
      "execution_count": 93,
      "outputs": [
        {
          "output_type": "execute_result",
          "data": {
            "text/plain": [
              "array(['Female', 'Male', '?', 'Unknown/Invalid'], dtype=object)"
            ]
          },
          "metadata": {
            "tags": []
          },
          "execution_count": 93
        }
      ]
    },
    {
      "cell_type": "code",
      "metadata": {
        "id": "6UvsKQHKAiBD",
        "colab_type": "code",
        "colab": {}
      },
      "source": [
        "df['gender'] = df['gender'].replace('?','Unknown/Invalid')"
      ],
      "execution_count": 0,
      "outputs": []
    },
    {
      "cell_type": "code",
      "metadata": {
        "id": "Jj9TDUXcAiBF",
        "colab_type": "code",
        "colab": {
          "base_uri": "https://localhost:8080/",
          "height": 34
        },
        "outputId": "d80bcc31-fb5e-42e5-894d-d01d3592d560"
      },
      "source": [
        "df['gender'].unique()"
      ],
      "execution_count": 95,
      "outputs": [
        {
          "output_type": "execute_result",
          "data": {
            "text/plain": [
              "array(['Female', 'Male', 'Unknown/Invalid'], dtype=object)"
            ]
          },
          "metadata": {
            "tags": []
          },
          "execution_count": 95
        }
      ]
    },
    {
      "cell_type": "code",
      "metadata": {
        "id": "UcgsYPj3AiBO",
        "colab_type": "code",
        "colab": {}
      },
      "source": [
        "df['weight'] = df['weight'].replace('?',np.NaN)"
      ],
      "execution_count": 0,
      "outputs": []
    },
    {
      "cell_type": "code",
      "metadata": {
        "id": "UcE0fCHmAiBS",
        "colab_type": "code",
        "colab": {
          "base_uri": "https://localhost:8080/",
          "height": 187
        },
        "outputId": "214ec4ca-02be-4a87-af33-b4e8a132434f"
      },
      "source": [
        "df['weight'].value_counts()"
      ],
      "execution_count": 97,
      "outputs": [
        {
          "output_type": "execute_result",
          "data": {
            "text/plain": [
              "[75-100)     1336\n",
              "[50-75)       896\n",
              "[100-125)     625\n",
              "[125-150)     145\n",
              "[25-50)        97\n",
              "[0-25)         48\n",
              "[150-175)      35\n",
              "[175-200)      11\n",
              ">200            3\n",
              "Name: weight, dtype: int64"
            ]
          },
          "metadata": {
            "tags": []
          },
          "execution_count": 97
        }
      ]
    },
    {
      "cell_type": "code",
      "metadata": {
        "id": "NgdAJDPzAiBU",
        "colab_type": "code",
        "colab": {
          "base_uri": "https://localhost:8080/",
          "height": 51
        },
        "outputId": "fee122bb-b0f3-4da6-d064-c475f4a794fa"
      },
      "source": [
        "df['time_in_hospital'] = df['time_in_hospital'].replace('?',np.NaN)\n",
        "df['time_in_hospital'].unique()\n"
      ],
      "execution_count": 98,
      "outputs": [
        {
          "output_type": "execute_result",
          "data": {
            "text/plain": [
              "array([ 1.,  3.,  2.,  4.,  5., 13., 12.,  9.,  7., 10.,  6., 11.,  8.,\n",
              "       14., nan])"
            ]
          },
          "metadata": {
            "tags": []
          },
          "execution_count": 98
        }
      ]
    },
    {
      "cell_type": "code",
      "metadata": {
        "id": "ti8-5XtQAiBX",
        "colab_type": "code",
        "colab": {
          "base_uri": "https://localhost:8080/",
          "height": 51
        },
        "outputId": "3c2acf59-6c17-4eec-e2bd-4024130e21e0"
      },
      "source": [
        "df['weight'].unique()\n"
      ],
      "execution_count": 99,
      "outputs": [
        {
          "output_type": "execute_result",
          "data": {
            "text/plain": [
              "array([nan, '[75-100)', '[50-75)', '[0-25)', '[100-125)', '[25-50)',\n",
              "       '[125-150)', '[175-200)', '[150-175)', '>200'], dtype=object)"
            ]
          },
          "metadata": {
            "tags": []
          },
          "execution_count": 99
        }
      ]
    },
    {
      "cell_type": "code",
      "metadata": {
        "id": "_Kh1Z62AAiBa",
        "colab_type": "code",
        "colab": {
          "base_uri": "https://localhost:8080/",
          "height": 341
        },
        "outputId": "c2e53d53-a7b0-417d-8055-aed503051e53"
      },
      "source": [
        "sns.countplot(df['weight'], order = ['[0-25)','[25-50)','[50-75)','[75-100)','[100-125)', '[125-150)','[150-175)','[175-200)','>200'])\n",
        "plt.xticks(rotation=45)"
      ],
      "execution_count": 100,
      "outputs": [
        {
          "output_type": "execute_result",
          "data": {
            "text/plain": [
              "(array([0, 1, 2, 3, 4, 5, 6, 7, 8]), <a list of 9 Text xticklabel objects>)"
            ]
          },
          "metadata": {
            "tags": []
          },
          "execution_count": 100
        },
        {
          "output_type": "display_data",
          "data": {
            "image/png": "[encoded data removed]",
            "text/plain": [
              "<Figure size 432x288 with 1 Axes>"
            ]
          },
          "metadata": {
            "tags": []
          }
        }
      ]
    },
    {
      "cell_type": "code",
      "metadata": {
        "id": "CegstlI1AiBc",
        "colab_type": "code",
        "colab": {
          "base_uri": "https://localhost:8080/",
          "height": 333
        },
        "outputId": "84a193d6-f0d3-4ca2-c39d-ca0d7dcc8330"
      },
      "source": [
        "sns.countplot(df['time_in_hospital'])\n",
        "plt.xticks(rotation=45)"
      ],
      "execution_count": 101,
      "outputs": [
        {
          "output_type": "execute_result",
          "data": {
            "text/plain": [
              "(array([ 0,  1,  2,  3,  4,  5,  6,  7,  8,  9, 10, 11, 12, 13]),\n",
              " <a list of 14 Text xticklabel objects>)"
            ]
          },
          "metadata": {
            "tags": []
          },
          "execution_count": 101
        },
        {
          "output_type": "display_data",
          "data": {
            "image/png": "[encoded data removed]",
            "text/plain": [
              "<Figure size 432x288 with 1 Axes>"
            ]
          },
          "metadata": {
            "tags": []
          }
        }
      ]
    },
    {
      "cell_type": "code",
      "metadata": {
        "id": "iLt9Nlz0AiBf",
        "colab_type": "code",
        "colab": {}
      },
      "source": [
        "df.replace('?', np.nan, inplace=True)"
      ],
      "execution_count": 0,
      "outputs": []
    },
    {
      "cell_type": "code",
      "metadata": {
        "id": "k8Ngh0qfAiBh",
        "colab_type": "code",
        "colab": {
          "base_uri": "https://localhost:8080/",
          "height": 302
        },
        "outputId": "154a269d-eb6e-46a5-ae4e-38f1fc4e04a1"
      },
      "source": [
        "sns.boxplot(df[\"number_emergency\"])"
      ],
      "execution_count": 103,
      "outputs": [
        {
          "output_type": "execute_result",
          "data": {
            "text/plain": [
              "<matplotlib.axes._subplots.AxesSubplot at 0x7f992c670390>"
            ]
          },
          "metadata": {
            "tags": []
          },
          "execution_count": 103
        },
        {
          "output_type": "display_data",
          "data": {
            "image/png": "[encoded data removed]",
            "text/plain": [
              "<Figure size 432x288 with 1 Axes>"
            ]
          },
          "metadata": {
            "tags": []
          }
        }
      ]
    },
    {
      "cell_type": "code",
      "metadata": {
        "id": "z0YGNGxNAiBk",
        "colab_type": "code",
        "colab": {
          "base_uri": "https://localhost:8080/",
          "height": 336
        },
        "outputId": "a92fa850-1c42-4af8-cdb6-6e6af05d6f42"
      },
      "source": [
        "plt.hist(np.log(df[\"number_emergency\"] + 1))\n",
        "plt.show()"
      ],
      "execution_count": 104,
      "outputs": [
        {
          "output_type": "stream",
          "text": [
            "/usr/local/lib/python3.6/dist-packages/numpy/lib/histograms.py:829: RuntimeWarning: invalid value encountered in greater_equal\n",
            "  keep = (tmp_a >= first_edge)\n",
            "/usr/local/lib/python3.6/dist-packages/numpy/lib/histograms.py:830: RuntimeWarning: invalid value encountered in less_equal\n",
            "  keep &= (tmp_a <= last_edge)\n"
          ],
          "name": "stderr"
        },
        {
          "output_type": "display_data",
          "data": {
            "image/png": "[encoded data removed]",
            "text/plain": [
              "<Figure size 432x288 with 1 Axes>"
            ]
          },
          "metadata": {
            "tags": []
          }
        }
      ]
    },
    {
      "cell_type": "code",
      "metadata": {
        "id": "rPaYcHPuAiBm",
        "colab_type": "code",
        "colab": {
          "base_uri": "https://localhost:8080/",
          "height": 285
        },
        "outputId": "536db7c1-33a5-4d33-e7bc-853719cbf16d"
      },
      "source": [
        "sns.boxplot(np.log(df[\"number_emergency\"] + 1))\n",
        "plt.show()"
      ],
      "execution_count": 105,
      "outputs": [
        {
          "output_type": "display_data",
          "data": {
            "image/png": "[encoded data removed]",
            "text/plain": [
              "<Figure size 432x288 with 1 Axes>"
            ]
          },
          "metadata": {
            "tags": []
          }
        }
      ]
    },
    {
      "cell_type": "code",
      "metadata": {
        "id": "vUwcq28OAiBo",
        "colab_type": "code",
        "colab": {
          "base_uri": "https://localhost:8080/",
          "height": 285
        },
        "outputId": "0a251e2c-1fe1-4eb7-af35-a2ccacc53ed9"
      },
      "source": [
        "sns.boxplot(df[\"num_lab_procedures\"], whis=2)\n",
        "plt.show()"
      ],
      "execution_count": 106,
      "outputs": [
        {
          "output_type": "display_data",
          "data": {
            "image/png": "[encoded data removed]",
            "text/plain": [
              "<Figure size 432x288 with 1 Axes>"
            ]
          },
          "metadata": {
            "tags": []
          }
        }
      ]
    },
    {
      "cell_type": "code",
      "metadata": {
        "id": "uzoQzkdqAiBr",
        "colab_type": "code",
        "colab": {
          "base_uri": "https://localhost:8080/",
          "height": 285
        },
        "outputId": "0eacdbb4-1ac2-42e4-aa7d-56b6da52f97f"
      },
      "source": [
        "sns.boxplot(df[\"num_medications\"])\n",
        "plt.show()"
      ],
      "execution_count": 107,
      "outputs": [
        {
          "output_type": "display_data",
          "data": {
            "image/png": "[encoded data removed]",
            "text/plain": [
              "<Figure size 432x288 with 1 Axes>"
            ]
          },
          "metadata": {
            "tags": []
          }
        }
      ]
    },
    {
      "cell_type": "code",
      "metadata": {
        "id": "iW2OC2SGAiBt",
        "colab_type": "code",
        "colab": {
          "base_uri": "https://localhost:8080/",
          "height": 336
        },
        "outputId": "7b323666-aa0d-460d-85a7-177cc3580cc7"
      },
      "source": [
        "plt.hist(df[\"num_medications\"])\n",
        "plt.show()"
      ],
      "execution_count": 108,
      "outputs": [
        {
          "output_type": "stream",
          "text": [
            "/usr/local/lib/python3.6/dist-packages/numpy/lib/histograms.py:829: RuntimeWarning: invalid value encountered in greater_equal\n",
            "  keep = (tmp_a >= first_edge)\n",
            "/usr/local/lib/python3.6/dist-packages/numpy/lib/histograms.py:830: RuntimeWarning: invalid value encountered in less_equal\n",
            "  keep &= (tmp_a <= last_edge)\n"
          ],
          "name": "stderr"
        },
        {
          "output_type": "display_data",
          "data": {
            "image/png": "[encoded data removed]",
            "text/plain": [
              "<Figure size 432x288 with 1 Axes>"
            ]
          },
          "metadata": {
            "tags": []
          }
        }
      ]
    },
    {
      "cell_type": "markdown",
      "metadata": {
        "id": "b2RGJyD6A9Nd",
        "colab_type": "text"
      },
      "source": [
        "#In your pair, pick one of your notebooks to start from and work ahead on the diabetes data set, assuming your outcome variable is ‘readmitted’, and making it binary where ‘NO’ is 0 and any other value is 1"
      ]
    },
    {
      "cell_type": "code",
      "metadata": {
        "id": "eSI5z7a_AiBy",
        "colab_type": "code",
        "colab": {}
      },
      "source": [
        "df['readmitted'] = np.where(df['readmitted'] == 'NO', 0,1)"
      ],
      "execution_count": 0,
      "outputs": []
    },
    {
      "cell_type": "code",
      "metadata": {
        "id": "SMg_ZF4TK2IK",
        "colab_type": "code",
        "colab": {
          "base_uri": "https://localhost:8080/",
          "height": 221
        },
        "outputId": "e0b63f05-58d5-4b8a-e9f5-e61615850f83"
      },
      "source": [
        "df['readmitted'].unique"
      ],
      "execution_count": 110,
      "outputs": [
        {
          "output_type": "execute_result",
          "data": {
            "text/plain": [
              "<bound method Series.unique of 0         0\n",
              "1         1\n",
              "2         0\n",
              "3         0\n",
              "4         0\n",
              "         ..\n",
              "101761    1\n",
              "101762    0\n",
              "101763    0\n",
              "101764    0\n",
              "101765    0\n",
              "Name: readmitted, Length: 101766, dtype: int64>"
            ]
          },
          "metadata": {
            "tags": []
          },
          "execution_count": 110
        }
      ]
    },
    {
      "cell_type": "markdown",
      "metadata": {
        "id": "yURSYZmPA_Ii",
        "colab_type": "text"
      },
      "source": [
        "#Determine relationships between your input variables and your outcome. Which features have the strongest relationship?"
      ]
    },
    {
      "cell_type": "code",
      "metadata": {
        "id": "ZJUz6b4GMIDm",
        "colab_type": "code",
        "colab": {}
      },
      "source": [
        ""
      ],
      "execution_count": 0,
      "outputs": []
    },
    {
      "cell_type": "code",
      "metadata": {
        "id": "kQdSfJU7BDnb",
        "colab_type": "code",
        "colab": {
          "base_uri": "https://localhost:8080/",
          "height": 348
        },
        "outputId": "1327b0f7-a696-4658-ddab-947c6c214dd3"
      },
      "source": [
        "df.corr()"
      ],
      "execution_count": 111,
      "outputs": [
        {
          "output_type": "execute_result",
          "data": {
            "text/html": [
              "<div>\n",
              "<style scoped>\n",
              "    .dataframe tbody tr th:only-of-type {\n",
              "        vertical-align: middle;\n",
              "    }\n",
              "\n",
              "    .dataframe tbody tr th {\n",
              "        vertical-align: top;\n",
              "    }\n",
              "\n",
              "    .dataframe thead th {\n",
              "        text-align: right;\n",
              "    }\n",
              "</style>\n",
              "<table border=\"1\" class=\"dataframe\">\n",
              "  <thead>\n",
              "    <tr style=\"text-align: right;\">\n",
              "      <th></th>\n",
              "      <th>time_in_hospital</th>\n",
              "      <th>num_lab_procedures</th>\n",
              "      <th>num_procedures</th>\n",
              "      <th>num_medications</th>\n",
              "      <th>number_outpatient</th>\n",
              "      <th>number_emergency</th>\n",
              "      <th>number_inpatient</th>\n",
              "      <th>number_diagnoses</th>\n",
              "      <th>readmitted</th>\n",
              "    </tr>\n",
              "  </thead>\n",
              "  <tbody>\n",
              "    <tr>\n",
              "      <th>time_in_hospital</th>\n",
              "      <td>1.000000</td>\n",
              "      <td>0.318481</td>\n",
              "      <td>0.191558</td>\n",
              "      <td>0.466224</td>\n",
              "      <td>-0.009183</td>\n",
              "      <td>-0.009749</td>\n",
              "      <td>0.073592</td>\n",
              "      <td>0.220295</td>\n",
              "      <td>0.051037</td>\n",
              "    </tr>\n",
              "    <tr>\n",
              "      <th>num_lab_procedures</th>\n",
              "      <td>0.318481</td>\n",
              "      <td>1.000000</td>\n",
              "      <td>0.058109</td>\n",
              "      <td>0.268262</td>\n",
              "      <td>-0.007528</td>\n",
              "      <td>-0.002246</td>\n",
              "      <td>0.039187</td>\n",
              "      <td>0.152711</td>\n",
              "      <td>0.039148</td>\n",
              "    </tr>\n",
              "    <tr>\n",
              "      <th>num_procedures</th>\n",
              "      <td>0.191558</td>\n",
              "      <td>0.058109</td>\n",
              "      <td>1.000000</td>\n",
              "      <td>0.385462</td>\n",
              "      <td>-0.024914</td>\n",
              "      <td>-0.038212</td>\n",
              "      <td>-0.066205</td>\n",
              "      <td>0.073774</td>\n",
              "      <td>-0.044913</td>\n",
              "    </tr>\n",
              "    <tr>\n",
              "      <th>num_medications</th>\n",
              "      <td>0.466224</td>\n",
              "      <td>0.268262</td>\n",
              "      <td>0.385462</td>\n",
              "      <td>1.000000</td>\n",
              "      <td>0.045310</td>\n",
              "      <td>0.013292</td>\n",
              "      <td>0.064292</td>\n",
              "      <td>0.261738</td>\n",
              "      <td>0.046634</td>\n",
              "    </tr>\n",
              "    <tr>\n",
              "      <th>number_outpatient</th>\n",
              "      <td>-0.009183</td>\n",
              "      <td>-0.007528</td>\n",
              "      <td>-0.024914</td>\n",
              "      <td>0.045310</td>\n",
              "      <td>1.000000</td>\n",
              "      <td>0.091374</td>\n",
              "      <td>0.107293</td>\n",
              "      <td>0.094223</td>\n",
              "      <td>0.082094</td>\n",
              "    </tr>\n",
              "    <tr>\n",
              "      <th>number_emergency</th>\n",
              "      <td>-0.009749</td>\n",
              "      <td>-0.002246</td>\n",
              "      <td>-0.038212</td>\n",
              "      <td>0.013292</td>\n",
              "      <td>0.091374</td>\n",
              "      <td>1.000000</td>\n",
              "      <td>0.266518</td>\n",
              "      <td>0.055928</td>\n",
              "      <td>0.102918</td>\n",
              "    </tr>\n",
              "    <tr>\n",
              "      <th>number_inpatient</th>\n",
              "      <td>0.073592</td>\n",
              "      <td>0.039187</td>\n",
              "      <td>-0.066205</td>\n",
              "      <td>0.064292</td>\n",
              "      <td>0.107293</td>\n",
              "      <td>0.266518</td>\n",
              "      <td>1.000000</td>\n",
              "      <td>0.104904</td>\n",
              "      <td>0.217107</td>\n",
              "    </tr>\n",
              "    <tr>\n",
              "      <th>number_diagnoses</th>\n",
              "      <td>0.220295</td>\n",
              "      <td>0.152711</td>\n",
              "      <td>0.073774</td>\n",
              "      <td>0.261738</td>\n",
              "      <td>0.094223</td>\n",
              "      <td>0.055928</td>\n",
              "      <td>0.104904</td>\n",
              "      <td>1.000000</td>\n",
              "      <td>0.112757</td>\n",
              "    </tr>\n",
              "    <tr>\n",
              "      <th>readmitted</th>\n",
              "      <td>0.051037</td>\n",
              "      <td>0.039148</td>\n",
              "      <td>-0.044913</td>\n",
              "      <td>0.046634</td>\n",
              "      <td>0.082094</td>\n",
              "      <td>0.102918</td>\n",
              "      <td>0.217107</td>\n",
              "      <td>0.112757</td>\n",
              "      <td>1.000000</td>\n",
              "    </tr>\n",
              "  </tbody>\n",
              "</table>\n",
              "</div>"
            ],
            "text/plain": [
              "                    time_in_hospital  ...  readmitted\n",
              "time_in_hospital            1.000000  ...    0.051037\n",
              "num_lab_procedures          0.318481  ...    0.039148\n",
              "num_procedures              0.191558  ...   -0.044913\n",
              "num_medications             0.466224  ...    0.046634\n",
              "number_outpatient          -0.009183  ...    0.082094\n",
              "number_emergency           -0.009749  ...    0.102918\n",
              "number_inpatient            0.073592  ...    0.217107\n",
              "number_diagnoses            0.220295  ...    0.112757\n",
              "readmitted                  0.051037  ...    1.000000\n",
              "\n",
              "[9 rows x 9 columns]"
            ]
          },
          "metadata": {
            "tags": []
          },
          "execution_count": 111
        }
      ]
    },
    {
      "cell_type": "code",
      "metadata": {
        "id": "8cfQhRu9La-y",
        "colab_type": "code",
        "colab": {
          "base_uri": "https://localhost:8080/",
          "height": 703
        },
        "outputId": "e622c0d7-d004-4d40-e85d-08d9866e6017"
      },
      "source": [
        "plt.figure(figsize=(10,10))\n",
        "sns.heatmap(df.corr(),center = 0)\n",
        "plt.show()"
      ],
      "execution_count": 121,
      "outputs": [
        {
          "output_type": "display_data",
          "data": {
            "image/png": "[encoded data removed]",
            "text/plain": [
              "<Figure size 720x720 with 2 Axes>"
            ]
          },
          "metadata": {
            "tags": []
          }
        }
      ]
    },
    {
      "cell_type": "markdown",
      "metadata": {
        "id": "-zXTRes6BHNA",
        "colab_type": "text"
      },
      "source": [
        "#Look at relationships between your input variables. Many models assume that your input variables are independent of each other. How true is that for this data set?"
      ]
    },
    {
      "cell_type": "code",
      "metadata": {
        "id": "iFYPX2bsBL1u",
        "colab_type": "code",
        "colab": {
          "base_uri": "https://localhost:8080/",
          "height": 762
        },
        "outputId": "5f3fd701-4da6-4e31-dcc8-d1c48c5d0fcf"
      },
      "source": [
        "plt.figure(figsize=(18,6))\n",
        "\n",
        "# histograms of the original data (input variables)\n",
        "plt.subplot(3, 3, 1)\n",
        "plt.hist(df['time_in_hospital'])\n",
        "plt.title(\"histogram of TIH\")\n",
        "\n",
        "plt.subplot(3, 3, 2)\n",
        "plt.hist(df['num_lab_procedures'])\n",
        "plt.title(\"histogram of NLB\")\n",
        "\n",
        "plt.subplot(3, 3, 3)\n",
        "plt.hist(df['num_procedures'])\n",
        "plt.title(\"histogram of NP\")\n",
        "\n",
        "\n",
        "plt.subplot(3, 3, 4)\n",
        "plt.hist(df['num_medications'])\n",
        "plt.title(\"histogram of NM\")\n",
        "\n",
        "plt.subplot(3, 3, 5)\n",
        "plt.hist(df['number_outpatient'])\n",
        "plt.title(\"histogram of NO\")\n",
        "\n",
        "plt.subplot(3, 3, 6)\n",
        "plt.hist(df['number_emergency'])\n",
        "plt.title(\"histogram of NE\")\n",
        "\n",
        "\n",
        "plt.subplot(3, 3, 7)\n",
        "plt.hist(df['number_inpatient'])\n",
        "plt.title(\"histogram of NI\")\n",
        "\n",
        "plt.subplot(3, 3, 8)\n",
        "plt.hist(df['number_diagnoses'])\n",
        "plt.title(\"histogram of ND\")\n",
        "plt.show()\n",
        "\n",
        "# histograms of the log transformed data\n",
        "plt.subplot(3, 3, 1)\n",
        "plt.hist(np.log(df['time_in_hospital']))\n",
        "plt.title(\"histogram of TIH\")\n",
        "\n",
        "plt.subplot(3, 3, 2)\n",
        "plt.hist(np.log(df['num_lab_procedures']))\n",
        "plt.title(\"histogram of NLB\")\n",
        "\n",
        "plt.subplot(3, 3, 3)\n",
        "plt.hist(np.log(df['num_procedures']), range = (0,1))\n",
        "plt.title(\"histogram of NP\")\n",
        "\n",
        "\n",
        "plt.subplot(3, 3, 4)\n",
        "plt.hist(np.log(df['num_medications']), range = (0,1))\n",
        "plt.title(\"histogram of NM\")\n",
        "\n",
        "plt.subplot(3, 3, 5)\n",
        "plt.hist(np.log(df['number_outpatient']),range = (0,1))\n",
        "plt.title(\"histogram of NO\")\n",
        "\n",
        "plt.subplot(3, 3, 6)\n",
        "plt.hist(np.log(df['number_emergency']),range = (0,1))\n",
        "plt.title(\"histogram of NE\")\n",
        "\n",
        "\n",
        "plt.subplot(3, 3, 7)\n",
        "plt.hist(np.log(df['number_inpatient']),range = (0,1))\n",
        "plt.title(\"histogram of NI\")\n",
        "\n",
        "plt.subplot(3, 3, 8)\n",
        "plt.hist(np.log(df['number_diagnoses']))\n",
        "plt.title(\"histogram of ND\")\n",
        "plt.show()"
      ],
      "execution_count": 138,
      "outputs": [
        {
          "output_type": "stream",
          "text": [
            "/usr/local/lib/python3.6/dist-packages/numpy/lib/histograms.py:829: RuntimeWarning: invalid value encountered in greater_equal\n",
            "  keep = (tmp_a >= first_edge)\n",
            "/usr/local/lib/python3.6/dist-packages/numpy/lib/histograms.py:830: RuntimeWarning: invalid value encountered in less_equal\n",
            "  keep &= (tmp_a <= last_edge)\n"
          ],
          "name": "stderr"
        },
        {
          "output_type": "display_data",
          "data": {
            "image/png": "[encoded data removed]",
            "text/plain": [
              "<Figure size 1296x432 with 8 Axes>"
            ]
          },
          "metadata": {
            "tags": []
          }
        },
        {
          "output_type": "stream",
          "text": [
            "/usr/local/lib/python3.6/dist-packages/pandas/core/series.py:856: RuntimeWarning: divide by zero encountered in log\n",
            "  result = getattr(ufunc, method)(*inputs, **kwargs)\n"
          ],
          "name": "stderr"
        },
        {
          "output_type": "display_data",
          "data": {
            "image/png": "[encoded data removed]",
            "text/plain": [
              "<Figure size 432x288 with 8 Axes>"
            ]
          },
          "metadata": {
            "tags": []
          }
        }
      ]
    },
    {
      "cell_type": "markdown",
      "metadata": {
        "id": "cPBRq2sfBMl0",
        "colab_type": "text"
      },
      "source": [
        "#Make sure you demonstrate each of the statistical tests and each type of graph at least once. Experiment with different ways of achieving the same type of graph. There are many ways to get the same result, and it’s good to have many in your toolbox"
      ]
    },
    {
      "cell_type": "code",
      "metadata": {
        "id": "40QeXxXCBShC",
        "colab_type": "code",
        "colab": {}
      },
      "source": [
        ""
      ],
      "execution_count": 0,
      "outputs": []
    }
  ]
}