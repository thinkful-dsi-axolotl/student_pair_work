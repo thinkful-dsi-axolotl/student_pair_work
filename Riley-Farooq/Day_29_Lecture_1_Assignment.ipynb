{
  "nbformat": 4,
  "nbformat_minor": 0,
  "metadata": {
    "kernelspec": {
      "display_name": "Python 3",
      "language": "python",
      "name": "python3"
    },
    "language_info": {
      "codemirror_mode": {
        "name": "ipython",
        "version": 3
      },
      "file_extension": ".py",
      "mimetype": "text/x-python",
      "name": "python",
      "nbconvert_exporter": "python",
      "pygments_lexer": "ipython3",
      "version": "3.7.0"
    },
    "colab": {
      "name": "Day 29 Lecture 1 Assignment.ipynb",
      "provenance": [],
      "collapsed_sections": []
    }
  },
  "cells": [
    {
      "cell_type": "markdown",
      "metadata": {
        "id": "VqUtIOgdcSjK",
        "colab_type": "text"
      },
      "source": [
        "## Day 29 Lecture 1 Assignment\n",
        "\n",
        "In this assignment, we will learn about decision trees. We will use the Chicago salary dataset loaded below."
      ]
    },
    {
      "cell_type": "code",
      "metadata": {
        "id": "JOsKrr-kcSjL",
        "colab_type": "code",
        "colab": {}
      },
      "source": [
        "%matplotlib inline\n",
        "import pydotplus as pdp\n",
        "import graphviz as gv\n",
        "import matplotlib.pyplot as plt\n",
        "import numpy as np\n",
        "import pandas as pd"
      ],
      "execution_count": 0,
      "outputs": []
    },
    {
      "cell_type": "code",
      "metadata": {
        "id": "2vSkCX1rcSjN",
        "colab_type": "code",
        "colab": {}
      },
      "source": [
        "chicago = pd.read_csv('https://tf-assets-prod.s3.amazonaws.com/tf-curric/data-science/Current_Employee_Names__Salaries__and_Position_Titles.csv')"
      ],
      "execution_count": 0,
      "outputs": []
    },
    {
      "cell_type": "code",
      "metadata": {
        "id": "PoyrvgWqcSjP",
        "colab_type": "code",
        "outputId": "9636a3d6-22fd-4efe-ccc1-dae7d7b8b44e",
        "colab": {
          "base_uri": "https://localhost:8080/",
          "height": 204
        }
      },
      "source": [
        "chicago.head()"
      ],
      "execution_count": 0,
      "outputs": [
        {
          "output_type": "execute_result",
          "data": {
            "text/html": [
              "<div>\n",
              "<style scoped>\n",
              "    .dataframe tbody tr th:only-of-type {\n",
              "        vertical-align: middle;\n",
              "    }\n",
              "\n",
              "    .dataframe tbody tr th {\n",
              "        vertical-align: top;\n",
              "    }\n",
              "\n",
              "    .dataframe thead th {\n",
              "        text-align: right;\n",
              "    }\n",
              "</style>\n",
              "<table border=\"1\" class=\"dataframe\">\n",
              "  <thead>\n",
              "    <tr style=\"text-align: right;\">\n",
              "      <th></th>\n",
              "      <th>Name</th>\n",
              "      <th>Job Titles</th>\n",
              "      <th>Department</th>\n",
              "      <th>Full or Part-Time</th>\n",
              "      <th>Salary or Hourly</th>\n",
              "      <th>Typical Hours</th>\n",
              "      <th>Annual Salary</th>\n",
              "      <th>Hourly Rate</th>\n",
              "    </tr>\n",
              "  </thead>\n",
              "  <tbody>\n",
              "    <tr>\n",
              "      <th>0</th>\n",
              "      <td>ALLISON,  PAUL W</td>\n",
              "      <td>LIEUTENANT</td>\n",
              "      <td>FIRE</td>\n",
              "      <td>F</td>\n",
              "      <td>Salary</td>\n",
              "      <td>NaN</td>\n",
              "      <td>$107790.00</td>\n",
              "      <td>NaN</td>\n",
              "    </tr>\n",
              "    <tr>\n",
              "      <th>1</th>\n",
              "      <td>BRUNO,  KEVIN D</td>\n",
              "      <td>SERGEANT</td>\n",
              "      <td>POLICE</td>\n",
              "      <td>F</td>\n",
              "      <td>Salary</td>\n",
              "      <td>NaN</td>\n",
              "      <td>$104628.00</td>\n",
              "      <td>NaN</td>\n",
              "    </tr>\n",
              "    <tr>\n",
              "      <th>2</th>\n",
              "      <td>COOPER,  JOHN E</td>\n",
              "      <td>LIEUTENANT-EMT</td>\n",
              "      <td>FIRE</td>\n",
              "      <td>F</td>\n",
              "      <td>Salary</td>\n",
              "      <td>NaN</td>\n",
              "      <td>$114324.00</td>\n",
              "      <td>NaN</td>\n",
              "    </tr>\n",
              "    <tr>\n",
              "      <th>3</th>\n",
              "      <td>CRESPO,  VILMA I</td>\n",
              "      <td>STAFF ASST</td>\n",
              "      <td>LAW</td>\n",
              "      <td>F</td>\n",
              "      <td>Salary</td>\n",
              "      <td>NaN</td>\n",
              "      <td>$76932.00</td>\n",
              "      <td>NaN</td>\n",
              "    </tr>\n",
              "    <tr>\n",
              "      <th>4</th>\n",
              "      <td>DOLAN,  ROBERT J</td>\n",
              "      <td>SERGEANT</td>\n",
              "      <td>POLICE</td>\n",
              "      <td>F</td>\n",
              "      <td>Salary</td>\n",
              "      <td>NaN</td>\n",
              "      <td>$111474.00</td>\n",
              "      <td>NaN</td>\n",
              "    </tr>\n",
              "  </tbody>\n",
              "</table>\n",
              "</div>"
            ],
            "text/plain": [
              "               Name      Job Titles  ... Annual Salary Hourly Rate\n",
              "0  ALLISON,  PAUL W      LIEUTENANT  ...    $107790.00         NaN\n",
              "1   BRUNO,  KEVIN D        SERGEANT  ...    $104628.00         NaN\n",
              "2   COOPER,  JOHN E  LIEUTENANT-EMT  ...    $114324.00         NaN\n",
              "3  CRESPO,  VILMA I      STAFF ASST  ...     $76932.00         NaN\n",
              "4  DOLAN,  ROBERT J        SERGEANT  ...    $111474.00         NaN\n",
              "\n",
              "[5 rows x 8 columns]"
            ]
          },
          "metadata": {
            "tags": []
          },
          "execution_count": 3
        }
      ]
    },
    {
      "cell_type": "markdown",
      "metadata": {
        "id": "Yvk4IgCocSjQ",
        "colab_type": "text"
      },
      "source": [
        "To simplify this problem, we will limit our model to only salary employees. Create a new dataset that does not contain any hourly employees."
      ]
    },
    {
      "cell_type": "code",
      "metadata": {
        "id": "X8mndXF2cSjR",
        "colab_type": "code",
        "colab": {}
      },
      "source": [
        "# answer below:\n",
        "\n",
        "chicago_sal = chicago.loc[chicago['Hourly Rate'].isnull()]"
      ],
      "execution_count": 0,
      "outputs": []
    },
    {
      "cell_type": "code",
      "metadata": {
        "id": "qr10YZubpBrA",
        "colab_type": "code",
        "outputId": "ff202855-6f6d-40d6-979a-0c1c596ef573",
        "colab": {
          "base_uri": "https://localhost:8080/",
          "height": 34
        }
      },
      "source": [
        "chicago_sal['Hourly Rate'].unique()"
      ],
      "execution_count": 0,
      "outputs": [
        {
          "output_type": "execute_result",
          "data": {
            "text/plain": [
              "array([nan], dtype=object)"
            ]
          },
          "metadata": {
            "tags": []
          },
          "execution_count": 5
        }
      ]
    },
    {
      "cell_type": "markdown",
      "metadata": {
        "id": "IjEAhiyfcSjT",
        "colab_type": "text"
      },
      "source": [
        "Next, we will look at the count of all values for both job titles and department to ensure that we don't use features that are too sparse in our model."
      ]
    },
    {
      "cell_type": "code",
      "metadata": {
        "id": "j30Zs-DKryFk",
        "colab_type": "code",
        "outputId": "20d17e8d-5edc-4411-ed2a-95dc6a4d9331",
        "colab": {
          "base_uri": "https://localhost:8080/",
          "height": 34
        }
      },
      "source": [
        "chicago_sal['Department'].nunique()"
      ],
      "execution_count": 0,
      "outputs": [
        {
          "output_type": "execute_result",
          "data": {
            "text/plain": [
              "36"
            ]
          },
          "metadata": {
            "tags": []
          },
          "execution_count": 6
        }
      ]
    },
    {
      "cell_type": "code",
      "metadata": {
        "id": "f6Gyn3HWrk4J",
        "colab_type": "code",
        "outputId": "80dc2a7e-e0c7-4aa3-a069-34b10414568e",
        "colab": {
          "base_uri": "https://localhost:8080/",
          "height": 34
        }
      },
      "source": [
        "chicago_sal['Job Titles'].nunique()"
      ],
      "execution_count": 0,
      "outputs": [
        {
          "output_type": "execute_result",
          "data": {
            "text/plain": [
              "954"
            ]
          },
          "metadata": {
            "tags": []
          },
          "execution_count": 7
        }
      ]
    },
    {
      "cell_type": "markdown",
      "metadata": {
        "id": "S8wwWbE5cSjV",
        "colab_type": "text"
      },
      "source": [
        "Choose the between department and job title and use the variable with the smallest number of values to for one hot encoding. Additionally, create dummy variables for full ot part-time."
      ]
    },
    {
      "cell_type": "code",
      "metadata": {
        "id": "1Y017CXqcSjV",
        "colab_type": "code",
        "colab": {}
      },
      "source": [
        "# answer below:\n",
        "chicago_sal = pd.concat(\n",
        "    [\n",
        "        chicago_sal,\n",
        "        pd.get_dummies(\n",
        "            chicago_sal['Department'],\n",
        "        ),\n",
        "    ],\n",
        "    axis=1,\n",
        ")"
      ],
      "execution_count": 0,
      "outputs": []
    },
    {
      "cell_type": "code",
      "metadata": {
        "id": "v1d75Vv6sdhl",
        "colab_type": "code",
        "outputId": "c5e53f84-6375-431e-b153-15f0f4b8d6eb",
        "colab": {
          "base_uri": "https://localhost:8080/",
          "height": 187
        }
      },
      "source": [
        "pd.get_dummies(\n",
        "            chicago_sal['Department'],\n",
        "        ).columns"
      ],
      "execution_count": 0,
      "outputs": [
        {
          "output_type": "execute_result",
          "data": {
            "text/plain": [
              "Index(['ADMIN HEARNG', 'ANIMAL CONTRL', 'AVIATION', 'BOARD OF ELECTION',\n",
              "       'BOARD OF ETHICS', 'BUDGET & MGMT', 'BUILDINGS', 'BUSINESS AFFAIRS',\n",
              "       'CITY CLERK', 'CITY COUNCIL', 'COMMUNITY DEVELOPMENT', 'COPA',\n",
              "       'CULTURAL AFFAIRS', 'DISABILITIES', 'DoIT', 'FAMILY & SUPPORT',\n",
              "       'FINANCE', 'FIRE', 'GENERAL SERVICES', 'HEALTH', 'HUMAN RELATIONS',\n",
              "       'HUMAN RESOURCES', 'INSPECTOR GEN', 'IPRA', 'LAW', 'LICENSE APPL COMM',\n",
              "       'MAYOR'S OFFICE', 'OEMC', 'POLICE', 'POLICE BOARD', 'PROCUREMENT',\n",
              "       'PUBLIC LIBRARY', 'STREETS & SAN', 'TRANSPORTN', 'TREASURER',\n",
              "       'WATER MGMNT'],\n",
              "      dtype='object')"
            ]
          },
          "metadata": {
            "tags": []
          },
          "execution_count": 9
        }
      ]
    },
    {
      "cell_type": "markdown",
      "metadata": {
        "id": "KH4kKrHVcSjX",
        "colab_type": "text"
      },
      "source": [
        "Remove all irrelevant columns (Name, Job Titles, Salary or Hourly, Typical Hours, Hourly Rate)"
      ]
    },
    {
      "cell_type": "code",
      "metadata": {
        "id": "h-MaRcptcSjX",
        "colab_type": "code",
        "colab": {}
      },
      "source": [
        "# answer below:\n",
        "\n",
        "chicago_sal = chicago_sal.drop(columns=['Name', 'Job Titles', 'Salary or Hourly', 'Typical Hours', 'Hourly Rate'], axis=1)"
      ],
      "execution_count": 0,
      "outputs": []
    },
    {
      "cell_type": "code",
      "metadata": {
        "id": "e6l9JtSbtrLY",
        "colab_type": "code",
        "outputId": "2261074d-d687-42b9-dee4-93871f0530f4",
        "colab": {
          "base_uri": "https://localhost:8080/",
          "height": 275
        }
      },
      "source": [
        "chicago_sal.head()"
      ],
      "execution_count": 0,
      "outputs": [
        {
          "output_type": "execute_result",
          "data": {
            "text/html": [
              "<div>\n",
              "<style scoped>\n",
              "    .dataframe tbody tr th:only-of-type {\n",
              "        vertical-align: middle;\n",
              "    }\n",
              "\n",
              "    .dataframe tbody tr th {\n",
              "        vertical-align: top;\n",
              "    }\n",
              "\n",
              "    .dataframe thead th {\n",
              "        text-align: right;\n",
              "    }\n",
              "</style>\n",
              "<table border=\"1\" class=\"dataframe\">\n",
              "  <thead>\n",
              "    <tr style=\"text-align: right;\">\n",
              "      <th></th>\n",
              "      <th>Department</th>\n",
              "      <th>Full or Part-Time</th>\n",
              "      <th>Annual Salary</th>\n",
              "      <th>ADMIN HEARNG</th>\n",
              "      <th>ANIMAL CONTRL</th>\n",
              "      <th>AVIATION</th>\n",
              "      <th>BOARD OF ELECTION</th>\n",
              "      <th>BOARD OF ETHICS</th>\n",
              "      <th>BUDGET &amp; MGMT</th>\n",
              "      <th>BUILDINGS</th>\n",
              "      <th>BUSINESS AFFAIRS</th>\n",
              "      <th>CITY CLERK</th>\n",
              "      <th>CITY COUNCIL</th>\n",
              "      <th>COMMUNITY DEVELOPMENT</th>\n",
              "      <th>COPA</th>\n",
              "      <th>CULTURAL AFFAIRS</th>\n",
              "      <th>DISABILITIES</th>\n",
              "      <th>DoIT</th>\n",
              "      <th>FAMILY &amp; SUPPORT</th>\n",
              "      <th>FINANCE</th>\n",
              "      <th>FIRE</th>\n",
              "      <th>GENERAL SERVICES</th>\n",
              "      <th>HEALTH</th>\n",
              "      <th>HUMAN RELATIONS</th>\n",
              "      <th>HUMAN RESOURCES</th>\n",
              "      <th>INSPECTOR GEN</th>\n",
              "      <th>IPRA</th>\n",
              "      <th>LAW</th>\n",
              "      <th>LICENSE APPL COMM</th>\n",
              "      <th>MAYOR'S OFFICE</th>\n",
              "      <th>OEMC</th>\n",
              "      <th>POLICE</th>\n",
              "      <th>POLICE BOARD</th>\n",
              "      <th>PROCUREMENT</th>\n",
              "      <th>PUBLIC LIBRARY</th>\n",
              "      <th>STREETS &amp; SAN</th>\n",
              "      <th>TRANSPORTN</th>\n",
              "      <th>TREASURER</th>\n",
              "      <th>WATER MGMNT</th>\n",
              "    </tr>\n",
              "  </thead>\n",
              "  <tbody>\n",
              "    <tr>\n",
              "      <th>0</th>\n",
              "      <td>FIRE</td>\n",
              "      <td>F</td>\n",
              "      <td>$107790.00</td>\n",
              "      <td>0</td>\n",
              "      <td>0</td>\n",
              "      <td>0</td>\n",
              "      <td>0</td>\n",
              "      <td>0</td>\n",
              "      <td>0</td>\n",
              "      <td>0</td>\n",
              "      <td>0</td>\n",
              "      <td>0</td>\n",
              "      <td>0</td>\n",
              "      <td>0</td>\n",
              "      <td>0</td>\n",
              "      <td>0</td>\n",
              "      <td>0</td>\n",
              "      <td>0</td>\n",
              "      <td>0</td>\n",
              "      <td>0</td>\n",
              "      <td>1</td>\n",
              "      <td>0</td>\n",
              "      <td>0</td>\n",
              "      <td>0</td>\n",
              "      <td>0</td>\n",
              "      <td>0</td>\n",
              "      <td>0</td>\n",
              "      <td>0</td>\n",
              "      <td>0</td>\n",
              "      <td>0</td>\n",
              "      <td>0</td>\n",
              "      <td>0</td>\n",
              "      <td>0</td>\n",
              "      <td>0</td>\n",
              "      <td>0</td>\n",
              "      <td>0</td>\n",
              "      <td>0</td>\n",
              "      <td>0</td>\n",
              "      <td>0</td>\n",
              "    </tr>\n",
              "    <tr>\n",
              "      <th>1</th>\n",
              "      <td>POLICE</td>\n",
              "      <td>F</td>\n",
              "      <td>$104628.00</td>\n",
              "      <td>0</td>\n",
              "      <td>0</td>\n",
              "      <td>0</td>\n",
              "      <td>0</td>\n",
              "      <td>0</td>\n",
              "      <td>0</td>\n",
              "      <td>0</td>\n",
              "      <td>0</td>\n",
              "      <td>0</td>\n",
              "      <td>0</td>\n",
              "      <td>0</td>\n",
              "      <td>0</td>\n",
              "      <td>0</td>\n",
              "      <td>0</td>\n",
              "      <td>0</td>\n",
              "      <td>0</td>\n",
              "      <td>0</td>\n",
              "      <td>0</td>\n",
              "      <td>0</td>\n",
              "      <td>0</td>\n",
              "      <td>0</td>\n",
              "      <td>0</td>\n",
              "      <td>0</td>\n",
              "      <td>0</td>\n",
              "      <td>0</td>\n",
              "      <td>0</td>\n",
              "      <td>0</td>\n",
              "      <td>0</td>\n",
              "      <td>1</td>\n",
              "      <td>0</td>\n",
              "      <td>0</td>\n",
              "      <td>0</td>\n",
              "      <td>0</td>\n",
              "      <td>0</td>\n",
              "      <td>0</td>\n",
              "      <td>0</td>\n",
              "    </tr>\n",
              "    <tr>\n",
              "      <th>2</th>\n",
              "      <td>FIRE</td>\n",
              "      <td>F</td>\n",
              "      <td>$114324.00</td>\n",
              "      <td>0</td>\n",
              "      <td>0</td>\n",
              "      <td>0</td>\n",
              "      <td>0</td>\n",
              "      <td>0</td>\n",
              "      <td>0</td>\n",
              "      <td>0</td>\n",
              "      <td>0</td>\n",
              "      <td>0</td>\n",
              "      <td>0</td>\n",
              "      <td>0</td>\n",
              "      <td>0</td>\n",
              "      <td>0</td>\n",
              "      <td>0</td>\n",
              "      <td>0</td>\n",
              "      <td>0</td>\n",
              "      <td>0</td>\n",
              "      <td>1</td>\n",
              "      <td>0</td>\n",
              "      <td>0</td>\n",
              "      <td>0</td>\n",
              "      <td>0</td>\n",
              "      <td>0</td>\n",
              "      <td>0</td>\n",
              "      <td>0</td>\n",
              "      <td>0</td>\n",
              "      <td>0</td>\n",
              "      <td>0</td>\n",
              "      <td>0</td>\n",
              "      <td>0</td>\n",
              "      <td>0</td>\n",
              "      <td>0</td>\n",
              "      <td>0</td>\n",
              "      <td>0</td>\n",
              "      <td>0</td>\n",
              "      <td>0</td>\n",
              "    </tr>\n",
              "    <tr>\n",
              "      <th>3</th>\n",
              "      <td>LAW</td>\n",
              "      <td>F</td>\n",
              "      <td>$76932.00</td>\n",
              "      <td>0</td>\n",
              "      <td>0</td>\n",
              "      <td>0</td>\n",
              "      <td>0</td>\n",
              "      <td>0</td>\n",
              "      <td>0</td>\n",
              "      <td>0</td>\n",
              "      <td>0</td>\n",
              "      <td>0</td>\n",
              "      <td>0</td>\n",
              "      <td>0</td>\n",
              "      <td>0</td>\n",
              "      <td>0</td>\n",
              "      <td>0</td>\n",
              "      <td>0</td>\n",
              "      <td>0</td>\n",
              "      <td>0</td>\n",
              "      <td>0</td>\n",
              "      <td>0</td>\n",
              "      <td>0</td>\n",
              "      <td>0</td>\n",
              "      <td>0</td>\n",
              "      <td>0</td>\n",
              "      <td>0</td>\n",
              "      <td>1</td>\n",
              "      <td>0</td>\n",
              "      <td>0</td>\n",
              "      <td>0</td>\n",
              "      <td>0</td>\n",
              "      <td>0</td>\n",
              "      <td>0</td>\n",
              "      <td>0</td>\n",
              "      <td>0</td>\n",
              "      <td>0</td>\n",
              "      <td>0</td>\n",
              "      <td>0</td>\n",
              "    </tr>\n",
              "    <tr>\n",
              "      <th>4</th>\n",
              "      <td>POLICE</td>\n",
              "      <td>F</td>\n",
              "      <td>$111474.00</td>\n",
              "      <td>0</td>\n",
              "      <td>0</td>\n",
              "      <td>0</td>\n",
              "      <td>0</td>\n",
              "      <td>0</td>\n",
              "      <td>0</td>\n",
              "      <td>0</td>\n",
              "      <td>0</td>\n",
              "      <td>0</td>\n",
              "      <td>0</td>\n",
              "      <td>0</td>\n",
              "      <td>0</td>\n",
              "      <td>0</td>\n",
              "      <td>0</td>\n",
              "      <td>0</td>\n",
              "      <td>0</td>\n",
              "      <td>0</td>\n",
              "      <td>0</td>\n",
              "      <td>0</td>\n",
              "      <td>0</td>\n",
              "      <td>0</td>\n",
              "      <td>0</td>\n",
              "      <td>0</td>\n",
              "      <td>0</td>\n",
              "      <td>0</td>\n",
              "      <td>0</td>\n",
              "      <td>0</td>\n",
              "      <td>0</td>\n",
              "      <td>1</td>\n",
              "      <td>0</td>\n",
              "      <td>0</td>\n",
              "      <td>0</td>\n",
              "      <td>0</td>\n",
              "      <td>0</td>\n",
              "      <td>0</td>\n",
              "      <td>0</td>\n",
              "    </tr>\n",
              "  </tbody>\n",
              "</table>\n",
              "</div>"
            ],
            "text/plain": [
              "  Department Full or Part-Time  ... TREASURER  WATER MGMNT\n",
              "0       FIRE                 F  ...         0            0\n",
              "1     POLICE                 F  ...         0            0\n",
              "2       FIRE                 F  ...         0            0\n",
              "3        LAW                 F  ...         0            0\n",
              "4     POLICE                 F  ...         0            0\n",
              "\n",
              "[5 rows x 39 columns]"
            ]
          },
          "metadata": {
            "tags": []
          },
          "execution_count": 11
        }
      ]
    },
    {
      "cell_type": "markdown",
      "metadata": {
        "id": "MttxKtdscSjZ",
        "colab_type": "text"
      },
      "source": [
        "Check that none of the remaining columns are of object type and convert them to numeric if they are of object type."
      ]
    },
    {
      "cell_type": "code",
      "metadata": {
        "id": "W34P6H5KcSjZ",
        "colab_type": "code",
        "outputId": "11ac17f7-8d9b-4428-9c31-67af8eca1046",
        "colab": {
          "base_uri": "https://localhost:8080/",
          "height": 765
        }
      },
      "source": [
        "# answer below:\n",
        "\n",
        "chicago_sal.info()"
      ],
      "execution_count": 0,
      "outputs": [
        {
          "output_type": "stream",
          "text": [
            "<class 'pandas.core.frame.DataFrame'>\n",
            "Int64Index: 24775 entries, 0 to 32657\n",
            "Data columns (total 39 columns):\n",
            "Department               24775 non-null object\n",
            "Full or Part-Time        24775 non-null object\n",
            "Annual Salary            24775 non-null object\n",
            "ADMIN HEARNG             24775 non-null uint8\n",
            "ANIMAL CONTRL            24775 non-null uint8\n",
            "AVIATION                 24775 non-null uint8\n",
            "BOARD OF ELECTION        24775 non-null uint8\n",
            "BOARD OF ETHICS          24775 non-null uint8\n",
            "BUDGET & MGMT            24775 non-null uint8\n",
            "BUILDINGS                24775 non-null uint8\n",
            "BUSINESS AFFAIRS         24775 non-null uint8\n",
            "CITY CLERK               24775 non-null uint8\n",
            "CITY COUNCIL             24775 non-null uint8\n",
            "COMMUNITY DEVELOPMENT    24775 non-null uint8\n",
            "COPA                     24775 non-null uint8\n",
            "CULTURAL AFFAIRS         24775 non-null uint8\n",
            "DISABILITIES             24775 non-null uint8\n",
            "DoIT                     24775 non-null uint8\n",
            "FAMILY & SUPPORT         24775 non-null uint8\n",
            "FINANCE                  24775 non-null uint8\n",
            "FIRE                     24775 non-null uint8\n",
            "GENERAL SERVICES         24775 non-null uint8\n",
            "HEALTH                   24775 non-null uint8\n",
            "HUMAN RELATIONS          24775 non-null uint8\n",
            "HUMAN RESOURCES          24775 non-null uint8\n",
            "INSPECTOR GEN            24775 non-null uint8\n",
            "IPRA                     24775 non-null uint8\n",
            "LAW                      24775 non-null uint8\n",
            "LICENSE APPL COMM        24775 non-null uint8\n",
            "MAYOR'S OFFICE           24775 non-null uint8\n",
            "OEMC                     24775 non-null uint8\n",
            "POLICE                   24775 non-null uint8\n",
            "POLICE BOARD             24775 non-null uint8\n",
            "PROCUREMENT              24775 non-null uint8\n",
            "PUBLIC LIBRARY           24775 non-null uint8\n",
            "STREETS & SAN            24775 non-null uint8\n",
            "TRANSPORTN               24775 non-null uint8\n",
            "TREASURER                24775 non-null uint8\n",
            "WATER MGMNT              24775 non-null uint8\n",
            "dtypes: object(3), uint8(36)\n",
            "memory usage: 1.6+ MB\n"
          ],
          "name": "stdout"
        }
      ]
    },
    {
      "cell_type": "code",
      "metadata": {
        "id": "HbV1EStWu3Im",
        "colab_type": "code",
        "colab": {}
      },
      "source": [
        "# Because department is already represented by the dummies\n",
        "chicago_sal = chicago_sal.drop(columns='Department', axis=1)"
      ],
      "execution_count": 0,
      "outputs": []
    },
    {
      "cell_type": "code",
      "metadata": {
        "id": "ywey8ap9vEIU",
        "colab_type": "code",
        "colab": {}
      },
      "source": [
        "# Turning Full or Part-Time into a binary\n",
        "chicago_sal['Full or Part-Time'] = pd.get_dummies(chicago_sal[\"Full or Part-Time\"], drop_first=True)"
      ],
      "execution_count": 0,
      "outputs": []
    },
    {
      "cell_type": "code",
      "metadata": {
        "id": "GyRmITxzvns8",
        "colab_type": "code",
        "outputId": "2a04f423-b557-4693-8baa-0903fb779e91",
        "colab": {
          "base_uri": "https://localhost:8080/",
          "height": 68
        }
      },
      "source": [
        "chicago_sal['Full or Part-Time'].value_counts()"
      ],
      "execution_count": 0,
      "outputs": [
        {
          "output_type": "execute_result",
          "data": {
            "text/plain": [
              "0    24770\n",
              "1        5\n",
              "Name: Full or Part-Time, dtype: int64"
            ]
          },
          "metadata": {
            "tags": []
          },
          "execution_count": 15
        }
      ]
    },
    {
      "cell_type": "code",
      "metadata": {
        "id": "WFpDCLpqxPHP",
        "colab_type": "code",
        "colab": {}
      },
      "source": [
        "chicago_sal['Annual Salary'] = [x.strip('$') for x in chicago_sal['Annual Salary']]"
      ],
      "execution_count": 0,
      "outputs": []
    },
    {
      "cell_type": "markdown",
      "metadata": {
        "id": "CzL0sEb-0B5m",
        "colab_type": "text"
      },
      "source": [
        "Split the data into a test and train sample. Use annual salary as the dependent variable. 20% of the data should be assigned to the test sample."
      ]
    },
    {
      "cell_type": "code",
      "metadata": {
        "id": "dEwTZs1G0Pig",
        "colab_type": "code",
        "colab": {}
      },
      "source": [
        "X = chicago_sal.drop('Annual Salary', axis=1)\n",
        "y = chicago_sal['Annual Salary']"
      ],
      "execution_count": 0,
      "outputs": []
    },
    {
      "cell_type": "code",
      "metadata": {
        "id": "OkLxsJCwcSjd",
        "colab_type": "code",
        "colab": {}
      },
      "source": [
        "# answer below:\n",
        "from sklearn.model_selection import train_test_split\n",
        "\n",
        "X_train, X_test, y_train, y_test = train_test_split(X, y, test_size=0.2, random_state=1337)"
      ],
      "execution_count": 0,
      "outputs": []
    },
    {
      "cell_type": "markdown",
      "metadata": {
        "id": "D_paBe77cSjd",
        "colab_type": "text"
      },
      "source": [
        "Generate a regession decision tree using `DecisionTreeRegressor` in sklearn. Fit the model on the training set and calculate the score for both train and test."
      ]
    },
    {
      "cell_type": "code",
      "metadata": {
        "id": "APiJlRhIcSjf",
        "colab_type": "code",
        "colab": {}
      },
      "source": [
        "from sklearn.tree import DecisionTreeRegressor"
      ],
      "execution_count": 0,
      "outputs": []
    },
    {
      "cell_type": "code",
      "metadata": {
        "id": "pVKD1y7n1Kft",
        "colab_type": "code",
        "outputId": "e753b683-4f67-42a1-ef48-08f39af36698",
        "colab": {
          "base_uri": "https://localhost:8080/",
          "height": 102
        }
      },
      "source": [
        "dtr = DecisionTreeRegressor(random_state=1337)\n",
        "dtr.fit(X_train, y_train)"
      ],
      "execution_count": 0,
      "outputs": [
        {
          "output_type": "execute_result",
          "data": {
            "text/plain": [
              "DecisionTreeRegressor(criterion='mse', max_depth=None, max_features=None,\n",
              "                      max_leaf_nodes=None, min_impurity_decrease=0.0,\n",
              "                      min_impurity_split=None, min_samples_leaf=1,\n",
              "                      min_samples_split=2, min_weight_fraction_leaf=0.0,\n",
              "                      presort=False, random_state=1337, splitter='best')"
            ]
          },
          "metadata": {
            "tags": []
          },
          "execution_count": 27
        }
      ]
    },
    {
      "cell_type": "code",
      "metadata": {
        "id": "Sfvb_uEZ1-0a",
        "colab_type": "code",
        "colab": {}
      },
      "source": [
        "dtr_train_score = dtr.score(X_train, y_train)"
      ],
      "execution_count": 0,
      "outputs": []
    },
    {
      "cell_type": "code",
      "metadata": {
        "id": "Tb17IGxw2MJW",
        "colab_type": "code",
        "outputId": "ce2987b3-392b-4921-e7d0-ba3738a2aeb3",
        "colab": {
          "base_uri": "https://localhost:8080/",
          "height": 34
        }
      },
      "source": [
        "print(dtr_train_score)"
      ],
      "execution_count": 0,
      "outputs": [
        {
          "output_type": "stream",
          "text": [
            "0.14424193355950865\n"
          ],
          "name": "stdout"
        }
      ]
    },
    {
      "cell_type": "code",
      "metadata": {
        "id": "oXPKHCh-2a2X",
        "colab_type": "code",
        "colab": {}
      },
      "source": [
        "dtr_test_score = dtr.score(X_test, y_test)"
      ],
      "execution_count": 0,
      "outputs": []
    },
    {
      "cell_type": "code",
      "metadata": {
        "id": "WuvKuX-B28Y-",
        "colab_type": "code",
        "outputId": "cae36af3-a6a0-49ab-c627-c01da01dc0b0",
        "colab": {
          "base_uri": "https://localhost:8080/",
          "height": 34
        }
      },
      "source": [
        "print(dtr_test_score)"
      ],
      "execution_count": 0,
      "outputs": [
        {
          "output_type": "stream",
          "text": [
            "0.1540197265147052\n"
          ],
          "name": "stdout"
        }
      ]
    }
  ]
}