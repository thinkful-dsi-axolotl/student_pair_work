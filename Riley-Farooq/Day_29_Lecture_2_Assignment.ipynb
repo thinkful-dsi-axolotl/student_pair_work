{
  "nbformat": 4,
  "nbformat_minor": 0,
  "metadata": {
    "kernelspec": {
      "display_name": "Python 3",
      "language": "python",
      "name": "python3"
    },
    "language_info": {
      "codemirror_mode": {
        "name": "ipython",
        "version": 3
      },
      "file_extension": ".py",
      "mimetype": "text/x-python",
      "name": "python",
      "nbconvert_exporter": "python",
      "pygments_lexer": "ipython3",
      "version": "3.7.0"
    },
    "colab": {
      "name": "Day 29 Lecture 2 Assignment.ipynb",
      "provenance": [],
      "collapsed_sections": []
    }
  },
  "cells": [
    {
      "cell_type": "markdown",
      "metadata": {
        "id": "YRVfAWX8cTwI",
        "colab_type": "text"
      },
      "source": [
        "## Day 29 Lecture 2 Assignment\n",
        "\n",
        "In this assignment, we will learn about entropy and information gain in the ID3 algorithm."
      ]
    },
    {
      "cell_type": "code",
      "metadata": {
        "id": "KufburMWcTwI",
        "colab_type": "code",
        "colab": {}
      },
      "source": [
        "import numpy as np\n",
        "import pandas as pd"
      ],
      "execution_count": 0,
      "outputs": []
    },
    {
      "cell_type": "code",
      "metadata": {
        "id": "8MiCqim1cTwK",
        "colab_type": "code",
        "colab": {}
      },
      "source": [
        "tennis = pd.read_csv('https://tf-assets-prod.s3.amazonaws.com/tf-curric/data-science/tennis_decision.csv')"
      ],
      "execution_count": 0,
      "outputs": []
    },
    {
      "cell_type": "code",
      "metadata": {
        "id": "Ugm_tVeDcTwM",
        "colab_type": "code",
        "outputId": "4ae2c87a-dbb1-4c63-9c74-b66fe74d8092",
        "colab": {
          "base_uri": "https://localhost:8080/",
          "height": 483
        }
      },
      "source": [
        "tennis"
      ],
      "execution_count": 0,
      "outputs": [
        {
          "output_type": "execute_result",
          "data": {
            "text/html": [
              "<div>\n",
              "<style scoped>\n",
              "    .dataframe tbody tr th:only-of-type {\n",
              "        vertical-align: middle;\n",
              "    }\n",
              "\n",
              "    .dataframe tbody tr th {\n",
              "        vertical-align: top;\n",
              "    }\n",
              "\n",
              "    .dataframe thead th {\n",
              "        text-align: right;\n",
              "    }\n",
              "</style>\n",
              "<table border=\"1\" class=\"dataframe\">\n",
              "  <thead>\n",
              "    <tr style=\"text-align: right;\">\n",
              "      <th></th>\n",
              "      <th>Day</th>\n",
              "      <th>Outlook</th>\n",
              "      <th>Temp.</th>\n",
              "      <th>Humidity</th>\n",
              "      <th>Wind</th>\n",
              "      <th>Decision</th>\n",
              "    </tr>\n",
              "  </thead>\n",
              "  <tbody>\n",
              "    <tr>\n",
              "      <th>0</th>\n",
              "      <td>1</td>\n",
              "      <td>Sunny</td>\n",
              "      <td>Hot</td>\n",
              "      <td>High</td>\n",
              "      <td>Weak</td>\n",
              "      <td>No</td>\n",
              "    </tr>\n",
              "    <tr>\n",
              "      <th>1</th>\n",
              "      <td>2</td>\n",
              "      <td>Sunny</td>\n",
              "      <td>Hot</td>\n",
              "      <td>High</td>\n",
              "      <td>Strong</td>\n",
              "      <td>No</td>\n",
              "    </tr>\n",
              "    <tr>\n",
              "      <th>2</th>\n",
              "      <td>3</td>\n",
              "      <td>Overcast</td>\n",
              "      <td>Hot</td>\n",
              "      <td>High</td>\n",
              "      <td>Weak</td>\n",
              "      <td>Yes</td>\n",
              "    </tr>\n",
              "    <tr>\n",
              "      <th>3</th>\n",
              "      <td>4</td>\n",
              "      <td>Rain</td>\n",
              "      <td>Mild</td>\n",
              "      <td>High</td>\n",
              "      <td>Weak</td>\n",
              "      <td>Yes</td>\n",
              "    </tr>\n",
              "    <tr>\n",
              "      <th>4</th>\n",
              "      <td>5</td>\n",
              "      <td>Rain</td>\n",
              "      <td>Cool</td>\n",
              "      <td>Normal</td>\n",
              "      <td>Weak</td>\n",
              "      <td>Yes</td>\n",
              "    </tr>\n",
              "    <tr>\n",
              "      <th>5</th>\n",
              "      <td>6</td>\n",
              "      <td>Rain</td>\n",
              "      <td>Cool</td>\n",
              "      <td>Normal</td>\n",
              "      <td>Strong</td>\n",
              "      <td>No</td>\n",
              "    </tr>\n",
              "    <tr>\n",
              "      <th>6</th>\n",
              "      <td>7</td>\n",
              "      <td>Overcast</td>\n",
              "      <td>Cool</td>\n",
              "      <td>Normal</td>\n",
              "      <td>Strong</td>\n",
              "      <td>Yes</td>\n",
              "    </tr>\n",
              "    <tr>\n",
              "      <th>7</th>\n",
              "      <td>8</td>\n",
              "      <td>Sunny</td>\n",
              "      <td>Mild</td>\n",
              "      <td>High</td>\n",
              "      <td>Weak</td>\n",
              "      <td>No</td>\n",
              "    </tr>\n",
              "    <tr>\n",
              "      <th>8</th>\n",
              "      <td>9</td>\n",
              "      <td>Sunny</td>\n",
              "      <td>Cool</td>\n",
              "      <td>Normal</td>\n",
              "      <td>Weak</td>\n",
              "      <td>Yes</td>\n",
              "    </tr>\n",
              "    <tr>\n",
              "      <th>9</th>\n",
              "      <td>10</td>\n",
              "      <td>Rain</td>\n",
              "      <td>Mild</td>\n",
              "      <td>Normal</td>\n",
              "      <td>Weak</td>\n",
              "      <td>Yes</td>\n",
              "    </tr>\n",
              "    <tr>\n",
              "      <th>10</th>\n",
              "      <td>11</td>\n",
              "      <td>Sunny</td>\n",
              "      <td>Mild</td>\n",
              "      <td>Normal</td>\n",
              "      <td>Strong</td>\n",
              "      <td>Yes</td>\n",
              "    </tr>\n",
              "    <tr>\n",
              "      <th>11</th>\n",
              "      <td>12</td>\n",
              "      <td>Overcast</td>\n",
              "      <td>Mild</td>\n",
              "      <td>High</td>\n",
              "      <td>Strong</td>\n",
              "      <td>Yes</td>\n",
              "    </tr>\n",
              "    <tr>\n",
              "      <th>12</th>\n",
              "      <td>13</td>\n",
              "      <td>Overcast</td>\n",
              "      <td>Hot</td>\n",
              "      <td>Normal</td>\n",
              "      <td>Weak</td>\n",
              "      <td>Yes</td>\n",
              "    </tr>\n",
              "    <tr>\n",
              "      <th>13</th>\n",
              "      <td>14</td>\n",
              "      <td>Rain</td>\n",
              "      <td>Mild</td>\n",
              "      <td>High</td>\n",
              "      <td>Strong</td>\n",
              "      <td>No</td>\n",
              "    </tr>\n",
              "  </tbody>\n",
              "</table>\n",
              "</div>"
            ],
            "text/plain": [
              "    Day   Outlook Temp. Humidity    Wind Decision\n",
              "0     1     Sunny   Hot     High    Weak       No\n",
              "1     2     Sunny   Hot     High  Strong       No\n",
              "2     3  Overcast   Hot     High    Weak      Yes\n",
              "3     4      Rain  Mild     High    Weak      Yes\n",
              "4     5      Rain  Cool   Normal    Weak      Yes\n",
              "5     6      Rain  Cool   Normal  Strong       No\n",
              "6     7  Overcast  Cool   Normal  Strong      Yes\n",
              "7     8     Sunny  Mild     High    Weak       No\n",
              "8     9     Sunny  Cool   Normal    Weak      Yes\n",
              "9    10      Rain  Mild   Normal    Weak      Yes\n",
              "10   11     Sunny  Mild   Normal  Strong      Yes\n",
              "11   12  Overcast  Mild     High  Strong      Yes\n",
              "12   13  Overcast   Hot   Normal    Weak      Yes\n",
              "13   14      Rain  Mild     High  Strong       No"
            ]
          },
          "metadata": {
            "tags": []
          },
          "execution_count": 20
        }
      ]
    },
    {
      "cell_type": "markdown",
      "metadata": {
        "id": "42CeoZiTcTwN",
        "colab_type": "text"
      },
      "source": [
        "# Write a function to compute entropy given an input of a sequence of probabilities."
      ]
    },
    {
      "cell_type": "code",
      "metadata": {
        "id": "JPfNGt2vcTwO",
        "colab_type": "code",
        "outputId": "fc8fff5e-e24e-4e46-994b-e3c2264506fd",
        "colab": {
          "base_uri": "https://localhost:8080/",
          "height": 34
        }
      },
      "source": [
        "#answer below:\n",
        "\n",
        "from math import log2\n",
        "\n",
        "entropy_decision = 9/14 * log2 (14/9) + 5/14 * log2 (14/9)\n",
        "\n",
        "print(entropy_decision)"
      ],
      "execution_count": 0,
      "outputs": [
        {
          "output_type": "stream",
          "text": [
            "0.6374299206152918\n"
          ],
          "name": "stdout"
        }
      ]
    },
    {
      "cell_type": "code",
      "metadata": {
        "id": "ZdxZ5CFNCwUC",
        "colab_type": "code",
        "outputId": "7ef41598-a30b-417b-ca00-7701c5dc7916",
        "colab": {
          "base_uri": "https://localhost:8080/",
          "height": 68
        }
      },
      "source": [
        "tennis['Decision'].value_counts()"
      ],
      "execution_count": 0,
      "outputs": [
        {
          "output_type": "execute_result",
          "data": {
            "text/plain": [
              "Yes    9\n",
              "No     5\n",
              "Name: Decision, dtype: int64"
            ]
          },
          "metadata": {
            "tags": []
          },
          "execution_count": 22
        }
      ]
    },
    {
      "cell_type": "code",
      "metadata": {
        "id": "U_12XVAjKtZ-",
        "colab_type": "code",
        "outputId": "f673fbea-c075-4f45-eb2c-f29420024ea5",
        "colab": {
          "base_uri": "https://localhost:8080/",
          "height": 85
        }
      },
      "source": [
        "tennis['Outlook'].value_counts()"
      ],
      "execution_count": 0,
      "outputs": [
        {
          "output_type": "execute_result",
          "data": {
            "text/plain": [
              "Sunny       5\n",
              "Rain        5\n",
              "Overcast    4\n",
              "Name: Outlook, dtype: int64"
            ]
          },
          "metadata": {
            "tags": []
          },
          "execution_count": 23
        }
      ]
    },
    {
      "cell_type": "code",
      "metadata": {
        "id": "27KNpRQ-KyRd",
        "colab_type": "code",
        "outputId": "0302f076-bb0c-4c4a-b7f4-c570bc725ff6",
        "colab": {
          "base_uri": "https://localhost:8080/",
          "height": 85
        }
      },
      "source": [
        "tennis['Temp.'].value_counts()"
      ],
      "execution_count": 0,
      "outputs": [
        {
          "output_type": "execute_result",
          "data": {
            "text/plain": [
              "Mild    6\n",
              "Cool    4\n",
              "Hot     4\n",
              "Name: Temp., dtype: int64"
            ]
          },
          "metadata": {
            "tags": []
          },
          "execution_count": 24
        }
      ]
    },
    {
      "cell_type": "code",
      "metadata": {
        "id": "Hf5k3Mb6K88F",
        "colab_type": "code",
        "outputId": "7bc726a0-8b4b-470b-b9d7-1a1cb13d1725",
        "colab": {
          "base_uri": "https://localhost:8080/",
          "height": 68
        }
      },
      "source": [
        "tennis['Humidity'].value_counts()"
      ],
      "execution_count": 0,
      "outputs": [
        {
          "output_type": "execute_result",
          "data": {
            "text/plain": [
              "Normal    7\n",
              "High      7\n",
              "Name: Humidity, dtype: int64"
            ]
          },
          "metadata": {
            "tags": []
          },
          "execution_count": 25
        }
      ]
    },
    {
      "cell_type": "code",
      "metadata": {
        "id": "pTry2Yf4LDdm",
        "colab_type": "code",
        "outputId": "3bc9dde0-e264-42af-ef66-a58cd138e931",
        "colab": {
          "base_uri": "https://localhost:8080/",
          "height": 68
        }
      },
      "source": [
        "tennis['Wind'].value_counts()"
      ],
      "execution_count": 0,
      "outputs": [
        {
          "output_type": "execute_result",
          "data": {
            "text/plain": [
              "Weak      8\n",
              "Strong    6\n",
              "Name: Wind, dtype: int64"
            ]
          },
          "metadata": {
            "tags": []
          },
          "execution_count": 26
        }
      ]
    },
    {
      "cell_type": "markdown",
      "metadata": {
        "id": "RsTiwQkVcTwQ",
        "colab_type": "text"
      },
      "source": [
        "Aggregate the tennis decision table for each value of each column. Start with sunny below. Compute the weighted mean of the entropy for sunny (the weighted mean of the yes decision and the no decision)."
      ]
    },
    {
      "cell_type": "code",
      "metadata": {
        "id": "go7-SO9scTwR",
        "colab_type": "code",
        "outputId": "ed6f833d-7ab6-4ab5-ea13-d0bfbfc198f9",
        "colab": {
          "base_uri": "https://localhost:8080/",
          "height": 68
        }
      },
      "source": [
        "# answer below:\n",
        "# sunny\n",
        "# Yes = sunny (2/9) + rain (3/9) + overcast (4/9)\n",
        "# Decision Yes 9/14 and No 5/14\n",
        "# prob. sunny & yes is 2/9 and yes & not sunny is 7/9\n",
        "# prob. outlook sunny is 5/14 and not sunny 9/14\n",
        "H_sunny = 2 / 9 * log2(9 / 2) + 7 / 9 * log2(9 / 7)\n",
        "H_not_sunny = 3 / 5 * log2(5 / 3) + 2 / 5 * log2(5 / 2)\n",
        "print(H_sunny)\n",
        "print(H_not_sunny)\n",
        "# weighted mean of y/n decision\n",
        "entropy_outlook =  5/14 * H_sunny + 9/14 * H_not_sunny\n",
        "print('The entropy of outlook: {}'.format(entropy_outlook))"
      ],
      "execution_count": 0,
      "outputs": [
        {
          "output_type": "stream",
          "text": [
            "0.7642045065086203\n",
            "0.9709505944546687\n",
            "The entropy of outlook: 0.8971127059025086\n"
          ],
          "name": "stdout"
        }
      ]
    },
    {
      "cell_type": "markdown",
      "metadata": {
        "id": "z-t3UYlacTwS",
        "colab_type": "text"
      },
      "source": [
        "Compute the weighted mean of the entropy for temperature, humidity and wind as well and decide based on these values which should be the first variable chosen for a split."
      ]
    },
    {
      "cell_type": "code",
      "metadata": {
        "id": "3oJaXDwAcTwT",
        "colab_type": "code",
        "outputId": "2decba30-67a5-4d63-c469-7df5952618bf",
        "colab": {
          "base_uri": "https://localhost:8080/",
          "height": 68
        }
      },
      "source": [
        "# answer below:\n",
        "# temp\n",
        "H_mild = 4 / 6 * log2(6 / 4) + 2 / 6 * log2(6 / 2)\n",
        "H_not_mild = 2 / 8 * log2(8 / 2) + 6 / 8 * log2(8 / 6)\n",
        "print(H_mild)\n",
        "print(H_not_mild)\n",
        "# weighted mean of y/n decision\n",
        "entropy_temp =  5/14 * H_mild + 9/14 * H_not_mild\n",
        "print('The entropy of temp: {}'.format(entropy_temp))\n"
      ],
      "execution_count": 0,
      "outputs": [
        {
          "output_type": "stream",
          "text": [
            "0.9182958340544893\n",
            "0.8112781244591327\n",
            "The entropy of temp: 0.8494987350289029\n"
          ],
          "name": "stdout"
        }
      ]
    },
    {
      "cell_type": "code",
      "metadata": {
        "id": "t8sJ83cRcTwU",
        "colab_type": "code",
        "outputId": "235239c1-7ec7-4308-f814-1bcc78fffac0",
        "colab": {
          "base_uri": "https://localhost:8080/",
          "height": 68
        }
      },
      "source": [
        "# humidity\n",
        "H_normal = 6 / 7 * log2(7 / 6) + 1 / 6 * log2(6 / 1)\n",
        "H_not_normal = 3 / 7 * log2(7 / 3) + 4 / 7 * log2(7 / 4)\n",
        "print(H_normal)\n",
        "print(H_not_normal)\n",
        "# weighted mean of y/n decision\n",
        "entropy_humidity =  5/14 * H_normal+ 9/14 * H_not_normal\n",
        "print('The entropy of humidity: {}'.format(entropy_humidity))"
      ],
      "execution_count": 0,
      "outputs": [
        {
          "output_type": "stream",
          "text": [
            "0.6214491588847671\n",
            "0.9852281360342514\n",
            "The entropy of humidity: 0.8553070727665786\n"
          ],
          "name": "stdout"
        }
      ]
    },
    {
      "cell_type": "code",
      "metadata": {
        "id": "4Fnf1avWbxMt",
        "colab_type": "code",
        "outputId": "96d2da07-989d-4f66-a477-f42ec54220fe",
        "colab": {
          "base_uri": "https://localhost:8080/",
          "height": 68
        }
      },
      "source": [
        "# wind\n",
        "H_weak = 6 / 8 * log2(8 / 6) + 2 / 8 * log2(8 / 2)\n",
        "H_not_weak = 3 / 6 * log2(6 / 3) + 3 / 6 * log2(6 / 3)\n",
        "print(H_weak)\n",
        "print(H_not_weak)\n",
        "# weighted mean of y/n decision\n",
        "entropy_wind =  5/14 * H_weak+ 9/14 * H_not_weak\n",
        "print('The entropy of wind: {}'.format(entropy_wind))"
      ],
      "execution_count": 0,
      "outputs": [
        {
          "output_type": "stream",
          "text": [
            "0.8112781244591327\n",
            "1.0\n",
            "The entropy of wind: 0.932599330163976\n"
          ],
          "name": "stdout"
        }
      ]
    }
  ]
}