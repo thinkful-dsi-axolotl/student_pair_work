{
  "nbformat": 4,
  "nbformat_minor": 0,
  "metadata": {
    "kernelspec": {
      "display_name": "Python 3",
      "language": "python",
      "name": "python3"
    },
    "language_info": {
      "codemirror_mode": {
        "name": "ipython",
        "version": 3
      },
      "file_extension": ".py",
      "mimetype": "text/x-python",
      "name": "python",
      "nbconvert_exporter": "python",
      "pygments_lexer": "ipython3",
      "version": "3.7.0"
    },
    "colab": {
      "name": "Day 76 Lecture 2 Assignment.ipynb",
      "provenance": [],
      "collapsed_sections": []
    }
  },
  "cells": [
    {
      "cell_type": "markdown",
      "metadata": {
        "id": "fItOkGzK3YPp",
        "colab_type": "text"
      },
      "source": [
        "## Day 76 Lecture 2 Assignment\n",
        "\n",
        "In this assignment, we will learn about Dask dataframes. We will use the census dataset loaded below and perform some exploratory data analysis."
      ]
    },
    {
      "cell_type": "code",
      "metadata": {
        "id": "tgsOiV2f3YPq",
        "colab_type": "code",
        "colab": {}
      },
      "source": [
        "import dask.dataframe as dd\n",
        "import numpy as np"
      ],
      "execution_count": 0,
      "outputs": []
    },
    {
      "cell_type": "code",
      "metadata": {
        "id": "l9K5TOwf3YPs",
        "colab_type": "code",
        "colab": {}
      },
      "source": [
        "census = dd.read_csv('https://tf-assets-prod.s3.amazonaws.com/tf-curric/data-science/Data%20Sets%20Big%20Data/acs2015_census_tract_data.csv')"
      ],
      "execution_count": 0,
      "outputs": []
    },
    {
      "cell_type": "code",
      "metadata": {
        "id": "6n4L9icX3YPu",
        "colab_type": "code",
        "outputId": "f949b4ee-e1eb-4a81-b10e-49fa59a88556",
        "colab": {}
      },
      "source": [
        "census.head()"
      ],
      "execution_count": 0,
      "outputs": [
        {
          "output_type": "execute_result",
          "data": {
            "text/html": [
              "<div>\n",
              "<style scoped>\n",
              "    .dataframe tbody tr th:only-of-type {\n",
              "        vertical-align: middle;\n",
              "    }\n",
              "\n",
              "    .dataframe tbody tr th {\n",
              "        vertical-align: top;\n",
              "    }\n",
              "\n",
              "    .dataframe thead th {\n",
              "        text-align: right;\n",
              "    }\n",
              "</style>\n",
              "<table border=\"1\" class=\"dataframe\">\n",
              "  <thead>\n",
              "    <tr style=\"text-align: right;\">\n",
              "      <th></th>\n",
              "      <th>CensusTract</th>\n",
              "      <th>State</th>\n",
              "      <th>County</th>\n",
              "      <th>TotalPop</th>\n",
              "      <th>Men</th>\n",
              "      <th>Women</th>\n",
              "      <th>Hispanic</th>\n",
              "      <th>White</th>\n",
              "      <th>Black</th>\n",
              "      <th>Native</th>\n",
              "      <th>...</th>\n",
              "      <th>Walk</th>\n",
              "      <th>OtherTransp</th>\n",
              "      <th>WorkAtHome</th>\n",
              "      <th>MeanCommute</th>\n",
              "      <th>Employed</th>\n",
              "      <th>PrivateWork</th>\n",
              "      <th>PublicWork</th>\n",
              "      <th>SelfEmployed</th>\n",
              "      <th>FamilyWork</th>\n",
              "      <th>Unemployment</th>\n",
              "    </tr>\n",
              "  </thead>\n",
              "  <tbody>\n",
              "    <tr>\n",
              "      <th>0</th>\n",
              "      <td>1001020100</td>\n",
              "      <td>Alabama</td>\n",
              "      <td>Autauga</td>\n",
              "      <td>1948</td>\n",
              "      <td>940</td>\n",
              "      <td>1008</td>\n",
              "      <td>0.9</td>\n",
              "      <td>87.4</td>\n",
              "      <td>7.7</td>\n",
              "      <td>0.3</td>\n",
              "      <td>...</td>\n",
              "      <td>0.5</td>\n",
              "      <td>2.3</td>\n",
              "      <td>2.1</td>\n",
              "      <td>25.0</td>\n",
              "      <td>943</td>\n",
              "      <td>77.1</td>\n",
              "      <td>18.3</td>\n",
              "      <td>4.6</td>\n",
              "      <td>0.0</td>\n",
              "      <td>5.4</td>\n",
              "    </tr>\n",
              "    <tr>\n",
              "      <th>1</th>\n",
              "      <td>1001020200</td>\n",
              "      <td>Alabama</td>\n",
              "      <td>Autauga</td>\n",
              "      <td>2156</td>\n",
              "      <td>1059</td>\n",
              "      <td>1097</td>\n",
              "      <td>0.8</td>\n",
              "      <td>40.4</td>\n",
              "      <td>53.3</td>\n",
              "      <td>0.0</td>\n",
              "      <td>...</td>\n",
              "      <td>0.0</td>\n",
              "      <td>0.7</td>\n",
              "      <td>0.0</td>\n",
              "      <td>23.4</td>\n",
              "      <td>753</td>\n",
              "      <td>77.0</td>\n",
              "      <td>16.9</td>\n",
              "      <td>6.1</td>\n",
              "      <td>0.0</td>\n",
              "      <td>13.3</td>\n",
              "    </tr>\n",
              "    <tr>\n",
              "      <th>2</th>\n",
              "      <td>1001020300</td>\n",
              "      <td>Alabama</td>\n",
              "      <td>Autauga</td>\n",
              "      <td>2968</td>\n",
              "      <td>1364</td>\n",
              "      <td>1604</td>\n",
              "      <td>0.0</td>\n",
              "      <td>74.5</td>\n",
              "      <td>18.6</td>\n",
              "      <td>0.5</td>\n",
              "      <td>...</td>\n",
              "      <td>0.0</td>\n",
              "      <td>0.0</td>\n",
              "      <td>2.5</td>\n",
              "      <td>19.6</td>\n",
              "      <td>1373</td>\n",
              "      <td>64.1</td>\n",
              "      <td>23.6</td>\n",
              "      <td>12.3</td>\n",
              "      <td>0.0</td>\n",
              "      <td>6.2</td>\n",
              "    </tr>\n",
              "    <tr>\n",
              "      <th>3</th>\n",
              "      <td>1001020400</td>\n",
              "      <td>Alabama</td>\n",
              "      <td>Autauga</td>\n",
              "      <td>4423</td>\n",
              "      <td>2172</td>\n",
              "      <td>2251</td>\n",
              "      <td>10.5</td>\n",
              "      <td>82.8</td>\n",
              "      <td>3.7</td>\n",
              "      <td>1.6</td>\n",
              "      <td>...</td>\n",
              "      <td>0.0</td>\n",
              "      <td>2.6</td>\n",
              "      <td>1.6</td>\n",
              "      <td>25.3</td>\n",
              "      <td>1782</td>\n",
              "      <td>75.7</td>\n",
              "      <td>21.2</td>\n",
              "      <td>3.1</td>\n",
              "      <td>0.0</td>\n",
              "      <td>10.8</td>\n",
              "    </tr>\n",
              "    <tr>\n",
              "      <th>4</th>\n",
              "      <td>1001020500</td>\n",
              "      <td>Alabama</td>\n",
              "      <td>Autauga</td>\n",
              "      <td>10763</td>\n",
              "      <td>4922</td>\n",
              "      <td>5841</td>\n",
              "      <td>0.7</td>\n",
              "      <td>68.5</td>\n",
              "      <td>24.8</td>\n",
              "      <td>0.0</td>\n",
              "      <td>...</td>\n",
              "      <td>0.0</td>\n",
              "      <td>0.6</td>\n",
              "      <td>0.9</td>\n",
              "      <td>24.8</td>\n",
              "      <td>5037</td>\n",
              "      <td>67.1</td>\n",
              "      <td>27.6</td>\n",
              "      <td>5.3</td>\n",
              "      <td>0.0</td>\n",
              "      <td>4.2</td>\n",
              "    </tr>\n",
              "  </tbody>\n",
              "</table>\n",
              "<p>5 rows × 37 columns</p>\n",
              "</div>"
            ],
            "text/plain": [
              "   CensusTract    State   County  TotalPop   Men  Women  Hispanic  White  \\\n",
              "0   1001020100  Alabama  Autauga      1948   940   1008       0.9   87.4   \n",
              "1   1001020200  Alabama  Autauga      2156  1059   1097       0.8   40.4   \n",
              "2   1001020300  Alabama  Autauga      2968  1364   1604       0.0   74.5   \n",
              "3   1001020400  Alabama  Autauga      4423  2172   2251      10.5   82.8   \n",
              "4   1001020500  Alabama  Autauga     10763  4922   5841       0.7   68.5   \n",
              "\n",
              "   Black  Native      ...       Walk  OtherTransp  WorkAtHome  MeanCommute  \\\n",
              "0    7.7     0.3      ...        0.5          2.3         2.1         25.0   \n",
              "1   53.3     0.0      ...        0.0          0.7         0.0         23.4   \n",
              "2   18.6     0.5      ...        0.0          0.0         2.5         19.6   \n",
              "3    3.7     1.6      ...        0.0          2.6         1.6         25.3   \n",
              "4   24.8     0.0      ...        0.0          0.6         0.9         24.8   \n",
              "\n",
              "   Employed  PrivateWork  PublicWork  SelfEmployed  FamilyWork  Unemployment  \n",
              "0       943         77.1        18.3           4.6         0.0           5.4  \n",
              "1       753         77.0        16.9           6.1         0.0          13.3  \n",
              "2      1373         64.1        23.6          12.3         0.0           6.2  \n",
              "3      1782         75.7        21.2           3.1         0.0          10.8  \n",
              "4      5037         67.1        27.6           5.3         0.0           4.2  \n",
              "\n",
              "[5 rows x 37 columns]"
            ]
          },
          "metadata": {
            "tags": []
          },
          "execution_count": 4
        }
      ]
    },
    {
      "cell_type": "markdown",
      "metadata": {
        "id": "s3PLTlvK3YPw",
        "colab_type": "text"
      },
      "source": [
        "The dataset described above contains the aggregated data for each county in the United States. For example, the number in the Carpool column describes the percent of people in the county who carpool to work.\n",
        "\n",
        "Print all the column names in the dataset and describe the data in each column"
      ]
    },
    {
      "cell_type": "code",
      "metadata": {
        "id": "zP7hPQqB3YPw",
        "colab_type": "code",
        "outputId": "4b09ddb9-33d7-48bc-95e0-5c40e735c295",
        "colab": {
          "base_uri": "https://localhost:8080/",
          "height": 163
        }
      },
      "source": [
        "#Answer below:\n",
        "census.columns"
      ],
      "execution_count": 0,
      "outputs": [
        {
          "output_type": "execute_result",
          "data": {
            "text/plain": [
              "Index(['CensusTract', 'State', 'County', 'TotalPop', 'Men', 'Women',\n",
              "       'Hispanic', 'White', 'Black', 'Native', 'Asian', 'Pacific', 'Citizen',\n",
              "       'Income', 'IncomeErr', 'IncomePerCap', 'IncomePerCapErr', 'Poverty',\n",
              "       'ChildPoverty', 'Professional', 'Service', 'Office', 'Construction',\n",
              "       'Production', 'Drive', 'Carpool', 'Transit', 'Walk', 'OtherTransp',\n",
              "       'WorkAtHome', 'MeanCommute', 'Employed', 'PrivateWork', 'PublicWork',\n",
              "       'SelfEmployed', 'FamilyWork', 'Unemployment'],\n",
              "      dtype='object')"
            ]
          },
          "metadata": {
            "tags": []
          },
          "execution_count": 5
        }
      ]
    },
    {
      "cell_type": "code",
      "metadata": {
        "id": "FNx_hejNWmQg",
        "colab_type": "code",
        "outputId": "05befa49-f518-41ec-c223-919a9aed647f",
        "colab": {
          "base_uri": "https://localhost:8080/",
          "height": 308
        }
      },
      "source": [
        "census.describe().compute()"
      ],
      "execution_count": 0,
      "outputs": [
        {
          "output_type": "execute_result",
          "data": {
            "text/html": [
              "<div>\n",
              "<style scoped>\n",
              "    .dataframe tbody tr th:only-of-type {\n",
              "        vertical-align: middle;\n",
              "    }\n",
              "\n",
              "    .dataframe tbody tr th {\n",
              "        vertical-align: top;\n",
              "    }\n",
              "\n",
              "    .dataframe thead th {\n",
              "        text-align: right;\n",
              "    }\n",
              "</style>\n",
              "<table border=\"1\" class=\"dataframe\">\n",
              "  <thead>\n",
              "    <tr style=\"text-align: right;\">\n",
              "      <th></th>\n",
              "      <th>CensusTract</th>\n",
              "      <th>TotalPop</th>\n",
              "      <th>Men</th>\n",
              "      <th>Women</th>\n",
              "      <th>Hispanic</th>\n",
              "      <th>White</th>\n",
              "      <th>Black</th>\n",
              "      <th>Native</th>\n",
              "      <th>Asian</th>\n",
              "      <th>Pacific</th>\n",
              "      <th>Citizen</th>\n",
              "      <th>Income</th>\n",
              "      <th>IncomeErr</th>\n",
              "      <th>IncomePerCap</th>\n",
              "      <th>IncomePerCapErr</th>\n",
              "      <th>Poverty</th>\n",
              "      <th>ChildPoverty</th>\n",
              "      <th>Professional</th>\n",
              "      <th>Service</th>\n",
              "      <th>Office</th>\n",
              "      <th>Construction</th>\n",
              "      <th>Production</th>\n",
              "      <th>Drive</th>\n",
              "      <th>Carpool</th>\n",
              "      <th>Transit</th>\n",
              "      <th>Walk</th>\n",
              "      <th>OtherTransp</th>\n",
              "      <th>WorkAtHome</th>\n",
              "      <th>MeanCommute</th>\n",
              "      <th>Employed</th>\n",
              "      <th>PrivateWork</th>\n",
              "      <th>PublicWork</th>\n",
              "      <th>SelfEmployed</th>\n",
              "      <th>FamilyWork</th>\n",
              "      <th>Unemployment</th>\n",
              "    </tr>\n",
              "  </thead>\n",
              "  <tbody>\n",
              "    <tr>\n",
              "      <th>count</th>\n",
              "      <td>7.400100e+04</td>\n",
              "      <td>74001.000000</td>\n",
              "      <td>74001.000000</td>\n",
              "      <td>74001.000000</td>\n",
              "      <td>73311.000000</td>\n",
              "      <td>73311.000000</td>\n",
              "      <td>73311.000000</td>\n",
              "      <td>73311.000000</td>\n",
              "      <td>73311.000000</td>\n",
              "      <td>73311.000000</td>\n",
              "      <td>74001.000000</td>\n",
              "      <td>72901.000000</td>\n",
              "      <td>72901.000000</td>\n",
              "      <td>73261.000000</td>\n",
              "      <td>73261.000000</td>\n",
              "      <td>73166.000000</td>\n",
              "      <td>72883.000000</td>\n",
              "      <td>73194.000000</td>\n",
              "      <td>73194.000000</td>\n",
              "      <td>73194.000000</td>\n",
              "      <td>73194.000000</td>\n",
              "      <td>73194.000000</td>\n",
              "      <td>73204.000000</td>\n",
              "      <td>73204.000000</td>\n",
              "      <td>73204.000000</td>\n",
              "      <td>73204.000000</td>\n",
              "      <td>73204.000000</td>\n",
              "      <td>73204.000000</td>\n",
              "      <td>73052.000000</td>\n",
              "      <td>74001.000000</td>\n",
              "      <td>73194.000000</td>\n",
              "      <td>73194.000000</td>\n",
              "      <td>73194.000000</td>\n",
              "      <td>73194.000000</td>\n",
              "      <td>73199.000000</td>\n",
              "    </tr>\n",
              "    <tr>\n",
              "      <th>mean</th>\n",
              "      <td>2.839113e+10</td>\n",
              "      <td>4325.591465</td>\n",
              "      <td>2127.648816</td>\n",
              "      <td>2197.942649</td>\n",
              "      <td>16.862810</td>\n",
              "      <td>62.032106</td>\n",
              "      <td>13.272581</td>\n",
              "      <td>0.727726</td>\n",
              "      <td>4.588253</td>\n",
              "      <td>0.145012</td>\n",
              "      <td>3043.079566</td>\n",
              "      <td>57225.564862</td>\n",
              "      <td>9134.493848</td>\n",
              "      <td>28491.234299</td>\n",
              "      <td>3942.909229</td>\n",
              "      <td>16.958020</td>\n",
              "      <td>22.486827</td>\n",
              "      <td>34.798843</td>\n",
              "      <td>19.101381</td>\n",
              "      <td>23.951559</td>\n",
              "      <td>9.292337</td>\n",
              "      <td>12.856005</td>\n",
              "      <td>75.533887</td>\n",
              "      <td>9.627468</td>\n",
              "      <td>5.456050</td>\n",
              "      <td>3.123340</td>\n",
              "      <td>1.891606</td>\n",
              "      <td>4.368093</td>\n",
              "      <td>25.667357</td>\n",
              "      <td>1983.907366</td>\n",
              "      <td>78.975238</td>\n",
              "      <td>14.621566</td>\n",
              "      <td>6.233814</td>\n",
              "      <td>0.169772</td>\n",
              "      <td>9.028663</td>\n",
              "    </tr>\n",
              "    <tr>\n",
              "      <th>std</th>\n",
              "      <td>1.647593e+10</td>\n",
              "      <td>2129.306903</td>\n",
              "      <td>1072.332031</td>\n",
              "      <td>1095.730931</td>\n",
              "      <td>22.940695</td>\n",
              "      <td>30.684152</td>\n",
              "      <td>21.762483</td>\n",
              "      <td>4.488340</td>\n",
              "      <td>8.794003</td>\n",
              "      <td>1.037354</td>\n",
              "      <td>1475.492946</td>\n",
              "      <td>28663.331962</td>\n",
              "      <td>5920.336551</td>\n",
              "      <td>15047.068660</td>\n",
              "      <td>3023.027898</td>\n",
              "      <td>13.196518</td>\n",
              "      <td>19.190909</td>\n",
              "      <td>15.007075</td>\n",
              "      <td>8.279143</td>\n",
              "      <td>5.957279</td>\n",
              "      <td>6.023290</td>\n",
              "      <td>7.671588</td>\n",
              "      <td>15.371620</td>\n",
              "      <td>5.367321</td>\n",
              "      <td>11.724287</td>\n",
              "      <td>5.881237</td>\n",
              "      <td>2.596198</td>\n",
              "      <td>3.904990</td>\n",
              "      <td>6.964881</td>\n",
              "      <td>1073.429808</td>\n",
              "      <td>8.345758</td>\n",
              "      <td>7.535786</td>\n",
              "      <td>4.042990</td>\n",
              "      <td>0.458227</td>\n",
              "      <td>5.955441</td>\n",
              "    </tr>\n",
              "    <tr>\n",
              "      <th>min</th>\n",
              "      <td>1.001020e+09</td>\n",
              "      <td>0.000000</td>\n",
              "      <td>0.000000</td>\n",
              "      <td>0.000000</td>\n",
              "      <td>0.000000</td>\n",
              "      <td>0.000000</td>\n",
              "      <td>0.000000</td>\n",
              "      <td>0.000000</td>\n",
              "      <td>0.000000</td>\n",
              "      <td>0.000000</td>\n",
              "      <td>0.000000</td>\n",
              "      <td>2611.000000</td>\n",
              "      <td>390.000000</td>\n",
              "      <td>128.000000</td>\n",
              "      <td>85.000000</td>\n",
              "      <td>0.000000</td>\n",
              "      <td>0.000000</td>\n",
              "      <td>0.000000</td>\n",
              "      <td>0.000000</td>\n",
              "      <td>0.000000</td>\n",
              "      <td>0.000000</td>\n",
              "      <td>0.000000</td>\n",
              "      <td>0.000000</td>\n",
              "      <td>0.000000</td>\n",
              "      <td>0.000000</td>\n",
              "      <td>0.000000</td>\n",
              "      <td>0.000000</td>\n",
              "      <td>0.000000</td>\n",
              "      <td>1.200000</td>\n",
              "      <td>0.000000</td>\n",
              "      <td>0.000000</td>\n",
              "      <td>0.000000</td>\n",
              "      <td>0.000000</td>\n",
              "      <td>0.000000</td>\n",
              "      <td>0.000000</td>\n",
              "    </tr>\n",
              "    <tr>\n",
              "      <th>25%</th>\n",
              "      <td>1.303901e+10</td>\n",
              "      <td>2891.000000</td>\n",
              "      <td>1409.000000</td>\n",
              "      <td>1461.000000</td>\n",
              "      <td>2.400000</td>\n",
              "      <td>39.400000</td>\n",
              "      <td>0.700000</td>\n",
              "      <td>0.000000</td>\n",
              "      <td>0.200000</td>\n",
              "      <td>0.000000</td>\n",
              "      <td>2037.000000</td>\n",
              "      <td>37683.000000</td>\n",
              "      <td>5317.000000</td>\n",
              "      <td>19123.000000</td>\n",
              "      <td>2312.000000</td>\n",
              "      <td>7.200000</td>\n",
              "      <td>7.000000</td>\n",
              "      <td>24.100000</td>\n",
              "      <td>13.400000</td>\n",
              "      <td>20.100000</td>\n",
              "      <td>5.000000</td>\n",
              "      <td>7.100000</td>\n",
              "      <td>72.000000</td>\n",
              "      <td>6.000000</td>\n",
              "      <td>0.000000</td>\n",
              "      <td>0.400000</td>\n",
              "      <td>0.400000</td>\n",
              "      <td>1.800000</td>\n",
              "      <td>20.800000</td>\n",
              "      <td>1249.000000</td>\n",
              "      <td>74.600000</td>\n",
              "      <td>9.600000</td>\n",
              "      <td>3.500000</td>\n",
              "      <td>0.000000</td>\n",
              "      <td>5.100000</td>\n",
              "    </tr>\n",
              "    <tr>\n",
              "      <th>50%</th>\n",
              "      <td>2.804700e+10</td>\n",
              "      <td>4063.000000</td>\n",
              "      <td>1986.000000</td>\n",
              "      <td>2066.000000</td>\n",
              "      <td>7.000000</td>\n",
              "      <td>71.400000</td>\n",
              "      <td>3.700000</td>\n",
              "      <td>0.000000</td>\n",
              "      <td>1.400000</td>\n",
              "      <td>0.000000</td>\n",
              "      <td>2863.000000</td>\n",
              "      <td>51094.000000</td>\n",
              "      <td>7732.000000</td>\n",
              "      <td>25344.000000</td>\n",
              "      <td>3127.000000</td>\n",
              "      <td>13.400000</td>\n",
              "      <td>17.800000</td>\n",
              "      <td>32.600000</td>\n",
              "      <td>17.900000</td>\n",
              "      <td>23.800000</td>\n",
              "      <td>8.400000</td>\n",
              "      <td>11.800000</td>\n",
              "      <td>79.700000</td>\n",
              "      <td>8.800000</td>\n",
              "      <td>1.100000</td>\n",
              "      <td>1.400000</td>\n",
              "      <td>1.100000</td>\n",
              "      <td>3.500000</td>\n",
              "      <td>25.000000</td>\n",
              "      <td>1846.000000</td>\n",
              "      <td>80.100000</td>\n",
              "      <td>13.400000</td>\n",
              "      <td>5.500000</td>\n",
              "      <td>0.000000</td>\n",
              "      <td>7.700000</td>\n",
              "    </tr>\n",
              "    <tr>\n",
              "      <th>75%</th>\n",
              "      <td>4.200341e+10</td>\n",
              "      <td>5442.000000</td>\n",
              "      <td>2674.000000</td>\n",
              "      <td>2774.000000</td>\n",
              "      <td>20.400000</td>\n",
              "      <td>88.300000</td>\n",
              "      <td>14.400000</td>\n",
              "      <td>0.400000</td>\n",
              "      <td>4.800000</td>\n",
              "      <td>0.000000</td>\n",
              "      <td>3838.000000</td>\n",
              "      <td>70117.000000</td>\n",
              "      <td>11258.000000</td>\n",
              "      <td>33894.000000</td>\n",
              "      <td>4537.000000</td>\n",
              "      <td>23.100000</td>\n",
              "      <td>33.800000</td>\n",
              "      <td>43.875000</td>\n",
              "      <td>23.600000</td>\n",
              "      <td>27.500000</td>\n",
              "      <td>12.500000</td>\n",
              "      <td>17.400000</td>\n",
              "      <td>84.900000</td>\n",
              "      <td>12.300000</td>\n",
              "      <td>4.700000</td>\n",
              "      <td>3.500000</td>\n",
              "      <td>2.500000</td>\n",
              "      <td>5.900000</td>\n",
              "      <td>29.800000</td>\n",
              "      <td>2553.000000</td>\n",
              "      <td>84.600000</td>\n",
              "      <td>18.200000</td>\n",
              "      <td>8.100000</td>\n",
              "      <td>0.000000</td>\n",
              "      <td>11.400000</td>\n",
              "    </tr>\n",
              "    <tr>\n",
              "      <th>max</th>\n",
              "      <td>7.215375e+10</td>\n",
              "      <td>53812.000000</td>\n",
              "      <td>27962.000000</td>\n",
              "      <td>27250.000000</td>\n",
              "      <td>100.000000</td>\n",
              "      <td>100.000000</td>\n",
              "      <td>100.000000</td>\n",
              "      <td>100.000000</td>\n",
              "      <td>91.300000</td>\n",
              "      <td>84.700000</td>\n",
              "      <td>37416.000000</td>\n",
              "      <td>248750.000000</td>\n",
              "      <td>123116.000000</td>\n",
              "      <td>254204.000000</td>\n",
              "      <td>134380.000000</td>\n",
              "      <td>100.000000</td>\n",
              "      <td>100.000000</td>\n",
              "      <td>100.000000</td>\n",
              "      <td>100.000000</td>\n",
              "      <td>100.000000</td>\n",
              "      <td>100.000000</td>\n",
              "      <td>100.000000</td>\n",
              "      <td>100.000000</td>\n",
              "      <td>100.000000</td>\n",
              "      <td>100.000000</td>\n",
              "      <td>100.000000</td>\n",
              "      <td>100.000000</td>\n",
              "      <td>100.000000</td>\n",
              "      <td>80.000000</td>\n",
              "      <td>24075.000000</td>\n",
              "      <td>100.000000</td>\n",
              "      <td>100.000000</td>\n",
              "      <td>100.000000</td>\n",
              "      <td>26.500000</td>\n",
              "      <td>100.000000</td>\n",
              "    </tr>\n",
              "  </tbody>\n",
              "</table>\n",
              "</div>"
            ],
            "text/plain": [
              "        CensusTract      TotalPop  ...    FamilyWork  Unemployment\n",
              "count  7.400100e+04  74001.000000  ...  73194.000000  73199.000000\n",
              "mean   2.839113e+10   4325.591465  ...      0.169772      9.028663\n",
              "std    1.647593e+10   2129.306903  ...      0.458227      5.955441\n",
              "min    1.001020e+09      0.000000  ...      0.000000      0.000000\n",
              "25%    1.303901e+10   2891.000000  ...      0.000000      5.100000\n",
              "50%    2.804700e+10   4063.000000  ...      0.000000      7.700000\n",
              "75%    4.200341e+10   5442.000000  ...      0.000000     11.400000\n",
              "max    7.215375e+10  53812.000000  ...     26.500000    100.000000\n",
              "\n",
              "[8 rows x 35 columns]"
            ]
          },
          "metadata": {
            "tags": []
          },
          "execution_count": 7
        }
      ]
    },
    {
      "cell_type": "markdown",
      "metadata": {
        "id": "LRgf7FwZ3YPy",
        "colab_type": "text"
      },
      "source": [
        "How many counties have a unemployement rate above 10%?"
      ]
    },
    {
      "cell_type": "code",
      "metadata": {
        "id": "TOO4ynLcX-nA",
        "colab_type": "code",
        "outputId": "5c931be4-4220-4459-d9d2-e393d0c76201",
        "colab": {
          "base_uri": "https://localhost:8080/",
          "height": 35
        }
      },
      "source": [
        "#Answer below:\n",
        "len(census.County.loc[census.Unemployment > 10])"
      ],
      "execution_count": 0,
      "outputs": [
        {
          "output_type": "execute_result",
          "data": {
            "text/plain": [
              "23530"
            ]
          },
          "metadata": {
            "tags": []
          },
          "execution_count": 20
        }
      ]
    },
    {
      "cell_type": "markdown",
      "metadata": {
        "id": "ZoU-kYJB3YP1",
        "colab_type": "text"
      },
      "source": [
        "Print the number of counties in each state."
      ]
    },
    {
      "cell_type": "code",
      "metadata": {
        "id": "BKY1hlZy3YP2",
        "colab_type": "code",
        "outputId": "82f6cb8d-b988-4722-a196-1464a6e5dccb",
        "colab": {
          "base_uri": "https://localhost:8080/",
          "height": 999
        }
      },
      "source": [
        "# Answer below:\n",
        "\n",
        "census.groupby(\"State\").County.count().compute()"
      ],
      "execution_count": 0,
      "outputs": [
        {
          "output_type": "execute_result",
          "data": {
            "text/plain": [
              "State\n",
              "Alabama                 1181\n",
              "Alaska                   167\n",
              "Arizona                 1526\n",
              "Arkansas                 686\n",
              "California              8057\n",
              "Colorado                1249\n",
              "Connecticut              833\n",
              "Delaware                 218\n",
              "District of Columbia     179\n",
              "Florida                 4245\n",
              "Georgia                 1969\n",
              "Hawaii                   351\n",
              "Idaho                    298\n",
              "Illinois                3123\n",
              "Indiana                 1511\n",
              "Iowa                     825\n",
              "Kansas                   770\n",
              "Kentucky                1115\n",
              "Louisiana               1148\n",
              "Maine                    358\n",
              "Maryland                1406\n",
              "Massachusetts           1478\n",
              "Michigan                2813\n",
              "Minnesota               1338\n",
              "Mississippi              664\n",
              "Missouri                1393\n",
              "Montana                  271\n",
              "Nebraska                 532\n",
              "Nevada                   687\n",
              "New Hampshire            295\n",
              "New Jersey              2010\n",
              "New Mexico               499\n",
              "New York                4918\n",
              "North Carolina          2195\n",
              "North Dakota             205\n",
              "Ohio                    2952\n",
              "Oklahoma                1046\n",
              "Oregon                   834\n",
              "Pennsylvania            3218\n",
              "Puerto Rico              945\n",
              "Rhode Island             244\n",
              "South Carolina          1103\n",
              "South Dakota             222\n",
              "Tennessee               1497\n",
              "Texas                   5265\n",
              "Utah                     588\n",
              "Vermont                  184\n",
              "Virginia                1907\n",
              "Washington              1458\n",
              "West Virginia            484\n",
              "Wisconsin               1409\n",
              "Wyoming                  132\n",
              "Name: County, dtype: int64"
            ]
          },
          "metadata": {
            "tags": []
          },
          "execution_count": 22
        }
      ]
    },
    {
      "cell_type": "markdown",
      "metadata": {
        "id": "2qvYmnMq3YP3",
        "colab_type": "text"
      },
      "source": [
        "Add a high child poverty boolean column. This column will be 1 if the rate of child poverty is over %20 and 0 otherwise."
      ]
    },
    {
      "cell_type": "code",
      "metadata": {
        "id": "B-XTZ8CSizoa",
        "colab_type": "code",
        "colab": {}
      },
      "source": [
        "census[\"CPB\"] = (census.ChildPoverty > 20).astype(int)"
      ],
      "execution_count": 0,
      "outputs": []
    },
    {
      "cell_type": "markdown",
      "metadata": {
        "id": "-qX7zgZp3YP5",
        "colab_type": "text"
      },
      "source": [
        "What are the top 10 most populated counties?"
      ]
    },
    {
      "cell_type": "code",
      "metadata": {
        "id": "cbS3zUDD3YP6",
        "colab_type": "code",
        "outputId": "612f38a7-96f5-4bc2-86f5-8e5cc52e1339",
        "colab": {
          "base_uri": "https://localhost:8080/",
          "height": 235
        }
      },
      "source": [
        "#answer below:\n",
        "\n",
        "census.set_index(\"County\").TotalPop.nlargest(10).compute()"
      ],
      "execution_count": 0,
      "outputs": [
        {
          "output_type": "execute_result",
          "data": {
            "text/plain": [
              "County\n",
              "Fort Bend     53812\n",
              "San Diego     39454\n",
              "Sumter        38169\n",
              "Fort Bend     38137\n",
              "Sarasota      35527\n",
              "Brazoria      33655\n",
              "Montgomery    31493\n",
              "Orange        30258\n",
              "Cass          30256\n",
              "El Paso       29238\n",
              "Name: TotalPop, dtype: int64"
            ]
          },
          "metadata": {
            "tags": []
          },
          "execution_count": 40
        }
      ]
    },
    {
      "cell_type": "markdown",
      "metadata": {
        "id": "a9InFOA33YP7",
        "colab_type": "text"
      },
      "source": [
        "What is the current number of partitions? "
      ]
    },
    {
      "cell_type": "code",
      "metadata": {
        "id": "QgyS7E-m3YP8",
        "colab_type": "code",
        "outputId": "a54aa5d8-7ce6-468b-e040-4a197902fbf0",
        "colab": {
          "base_uri": "https://localhost:8080/",
          "height": 35
        }
      },
      "source": [
        "#Answer below:\n",
        "\n",
        "census.npartitions"
      ],
      "execution_count": 0,
      "outputs": [
        {
          "output_type": "execute_result",
          "data": {
            "text/plain": [
              "1"
            ]
          },
          "metadata": {
            "tags": []
          },
          "execution_count": 42
        }
      ]
    }
  ]
}