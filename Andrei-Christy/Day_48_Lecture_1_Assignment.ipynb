{
  "nbformat": 4,
  "nbformat_minor": 0,
  "metadata": {
    "colab": {
      "name": "Day 48 Lecture 1 Assignment.ipynb",
      "provenance": [],
      "collapsed_sections": []
    },
    "kernelspec": {
      "display_name": "Python 3",
      "language": "python",
      "name": "python3"
    },
    "language_info": {
      "codemirror_mode": {
        "name": "ipython",
        "version": 3
      },
      "file_extension": ".py",
      "mimetype": "text/x-python",
      "name": "python",
      "nbconvert_exporter": "python",
      "pygments_lexer": "ipython3",
      "version": "3.7.0"
    }
  },
  "cells": [
    {
      "cell_type": "markdown",
      "metadata": {
        "colab_type": "text",
        "id": "xdL0Yz0D1D_q"
      },
      "source": [
        "## Day 48 Lecture 1 Assignment\n",
        "\n",
        "In this assignment, we will apply hierarchical clustering to a dataset containing the locations of all Starbucks in the U.S.\n",
        "\n",
        "Note: this assignment uses geographical data and maps, which will require the use of two specific packages: haversine and plotly. Both of these can be pip installed."
      ]
    },
    {
      "cell_type": "code",
      "metadata": {
        "colab_type": "code",
        "id": "OulyiH_C1D_r",
        "colab": {}
      },
      "source": [
        "%matplotlib inline\n",
        "\n",
        "import matplotlib.pyplot as plt\n",
        "import numpy as np\n",
        "import pandas as pd\n",
        "from sklearn.cluster import AgglomerativeClustering\n",
        "from scipy.cluster.hierarchy import dendrogram\n",
        "from haversine import haversine\n",
        "import plotly.express as px"
      ],
      "execution_count": 0,
      "outputs": []
    },
    {
      "cell_type": "markdown",
      "metadata": {
        "id": "NFHYqtgvglMA",
        "colab_type": "text"
      },
      "source": [
        "Below are some convenience functions for calculating geographical distance matrices using lat-long data and plotting a dendrogram by combining a scikit-learn model with scipy's dendrogram plotting functionality."
      ]
    },
    {
      "cell_type": "code",
      "metadata": {
        "id": "jjPmbcf1glMB",
        "colab_type": "code",
        "colab": {}
      },
      "source": [
        "def geo_sim_matrix(df, col_name = 'Coordinates'):\n",
        "    \"\"\"\n",
        "    A function that computes a geographical distance matrix (in miles).\n",
        "    Each row in the dataframe should correspond to one location.\n",
        "    In addition, the dataframe must have a column containing the lat-long of each location as a tuple (i.e. (lat, long)).\n",
        "    \n",
        "    Parameters:\n",
        "        df (pandas dataframe): an nxm dataframe containing the locations to compute similarities between.\n",
        "        col (string): the name of the column containing the lat-long tuples.\n",
        "        \n",
        "    Returns:\n",
        "        distance (pandas dataframe): an nxn distance matrix between the geographical coordinates of each location.\n",
        "    \"\"\"\n",
        "    \n",
        "    df = df.copy()\n",
        "    df.reset_index(inplace=True)\n",
        "    haver_vec = np.vectorize(haversine, otypes=[np.float32])\n",
        "    distance = df.groupby('index').apply(lambda x: pd.Series(haver_vec(df[col_name], x[col_name])))\n",
        "    distance = distance / 1.609344\n",
        "    distance.columns = distance.index\n",
        "    \n",
        "    return distance\n",
        "\n",
        "\n",
        "def plot_dendrogram(model, **kwargs):\n",
        "    \"\"\"\n",
        "    A basic function for plotting a dendrogram. Sourced from the following link:\n",
        "    https://github.com/scikit-learn/scikit-learn/blob/70cf4a676caa2d2dad2e3f6e4478d64bcb0506f7/examples/cluster/plot_hierarchical_clustering_dendrogram.py\n",
        "    \n",
        "    Parameters:\n",
        "        model (object of class sklearn.cluster.hierarchical.AgglomerativeClustering): a fitted scikit-learn hierarchical clustering model.\n",
        "    \n",
        "    Output: a dendrogram based on the model based in the parameters.\n",
        "    \n",
        "    Returns: N/A    \n",
        "    \"\"\"\n",
        "    # Children of hierarchical clustering\n",
        "    children = model.children_\n",
        "\n",
        "    # Distances between each pair of children\n",
        "    # Since we don't have this information, we can use a uniform one for plotting\n",
        "    distance = np.arange(children.shape[0])\n",
        "\n",
        "    # The number of observations contained in each cluster level\n",
        "    no_of_observations = np.arange(2, children.shape[0]+2)\n",
        "\n",
        "    # Create linkage matrix and then plot the dendrogram\n",
        "    linkage_matrix = np.column_stack([children, distance, no_of_observations]).astype(float)\n",
        "\n",
        "    # Plot the corresponding dendrogram\n",
        "    dendrogram(linkage_matrix, **kwargs)"
      ],
      "execution_count": 0,
      "outputs": []
    },
    {
      "cell_type": "markdown",
      "metadata": {
        "colab_type": "text",
        "id": "ezMvoRlB1D_t"
      },
      "source": [
        "This dataset contains the latitude and longitude (as well as several other details we will not be using) of every Starbucks in the world as of February 2017. Each row consists of the following features, which are generally self-explanatory:\n",
        "\n",
        "- Brand\n",
        "- Store Number\n",
        "- Store Name\n",
        "- Ownership Type\n",
        "- Street Address\n",
        "- City\n",
        "- State/Province\n",
        "- Country\n",
        "- Postcode\n",
        "- Phone Number\n",
        "- Timezone\n",
        "- Longitude\n",
        "- Latitude\n",
        "\n",
        "Load in the dataset."
      ]
    },
    {
      "cell_type": "code",
      "metadata": {
        "colab_type": "code",
        "id": "wP1U4eQ91D_u",
        "colab": {
          "base_uri": "https://localhost:8080/",
          "height": 297
        },
        "outputId": "686db25d-9166-4fa4-c31e-86154e4a9742"
      },
      "source": [
        "# answer goes here\n",
        "df = pd.read_csv('https://tf-assets-prod.s3.amazonaws.com/tf-curric/data-science/Data%20Sets%20Clustering/starbucks_locations.csv')\n",
        "\n",
        "\n",
        "df.head()"
      ],
      "execution_count": 11,
      "outputs": [
        {
          "output_type": "execute_result",
          "data": {
            "text/html": [
              "<div>\n",
              "<style scoped>\n",
              "    .dataframe tbody tr th:only-of-type {\n",
              "        vertical-align: middle;\n",
              "    }\n",
              "\n",
              "    .dataframe tbody tr th {\n",
              "        vertical-align: top;\n",
              "    }\n",
              "\n",
              "    .dataframe thead th {\n",
              "        text-align: right;\n",
              "    }\n",
              "</style>\n",
              "<table border=\"1\" class=\"dataframe\">\n",
              "  <thead>\n",
              "    <tr style=\"text-align: right;\">\n",
              "      <th></th>\n",
              "      <th>Brand</th>\n",
              "      <th>Store Number</th>\n",
              "      <th>Store Name</th>\n",
              "      <th>Ownership Type</th>\n",
              "      <th>Street Address</th>\n",
              "      <th>City</th>\n",
              "      <th>State/Province</th>\n",
              "      <th>Country</th>\n",
              "      <th>Postcode</th>\n",
              "      <th>Phone Number</th>\n",
              "      <th>Timezone</th>\n",
              "      <th>Longitude</th>\n",
              "      <th>Latitude</th>\n",
              "    </tr>\n",
              "  </thead>\n",
              "  <tbody>\n",
              "    <tr>\n",
              "      <th>0</th>\n",
              "      <td>Starbucks</td>\n",
              "      <td>47370-257954</td>\n",
              "      <td>Meritxell, 96</td>\n",
              "      <td>Licensed</td>\n",
              "      <td>Av. Meritxell, 96</td>\n",
              "      <td>Andorra la Vella</td>\n",
              "      <td>7</td>\n",
              "      <td>AD</td>\n",
              "      <td>AD500</td>\n",
              "      <td>376818720</td>\n",
              "      <td>GMT+1:00 Europe/Andorra</td>\n",
              "      <td>1.53</td>\n",
              "      <td>42.51</td>\n",
              "    </tr>\n",
              "    <tr>\n",
              "      <th>1</th>\n",
              "      <td>Starbucks</td>\n",
              "      <td>22331-212325</td>\n",
              "      <td>Ajman Drive Thru</td>\n",
              "      <td>Licensed</td>\n",
              "      <td>1 Street 69, Al Jarf</td>\n",
              "      <td>Ajman</td>\n",
              "      <td>AJ</td>\n",
              "      <td>AE</td>\n",
              "      <td>NaN</td>\n",
              "      <td>NaN</td>\n",
              "      <td>GMT+04:00 Asia/Dubai</td>\n",
              "      <td>55.47</td>\n",
              "      <td>25.42</td>\n",
              "    </tr>\n",
              "    <tr>\n",
              "      <th>2</th>\n",
              "      <td>Starbucks</td>\n",
              "      <td>47089-256771</td>\n",
              "      <td>Dana Mall</td>\n",
              "      <td>Licensed</td>\n",
              "      <td>Sheikh Khalifa Bin Zayed St.</td>\n",
              "      <td>Ajman</td>\n",
              "      <td>AJ</td>\n",
              "      <td>AE</td>\n",
              "      <td>NaN</td>\n",
              "      <td>NaN</td>\n",
              "      <td>GMT+04:00 Asia/Dubai</td>\n",
              "      <td>55.47</td>\n",
              "      <td>25.39</td>\n",
              "    </tr>\n",
              "    <tr>\n",
              "      <th>3</th>\n",
              "      <td>Starbucks</td>\n",
              "      <td>22126-218024</td>\n",
              "      <td>Twofour 54</td>\n",
              "      <td>Licensed</td>\n",
              "      <td>Al Salam Street</td>\n",
              "      <td>Abu Dhabi</td>\n",
              "      <td>AZ</td>\n",
              "      <td>AE</td>\n",
              "      <td>NaN</td>\n",
              "      <td>NaN</td>\n",
              "      <td>GMT+04:00 Asia/Dubai</td>\n",
              "      <td>54.38</td>\n",
              "      <td>24.48</td>\n",
              "    </tr>\n",
              "    <tr>\n",
              "      <th>4</th>\n",
              "      <td>Starbucks</td>\n",
              "      <td>17127-178586</td>\n",
              "      <td>Al Ain Tower</td>\n",
              "      <td>Licensed</td>\n",
              "      <td>Khaldiya Area, Abu Dhabi Island</td>\n",
              "      <td>Abu Dhabi</td>\n",
              "      <td>AZ</td>\n",
              "      <td>AE</td>\n",
              "      <td>NaN</td>\n",
              "      <td>NaN</td>\n",
              "      <td>GMT+04:00 Asia/Dubai</td>\n",
              "      <td>54.54</td>\n",
              "      <td>24.51</td>\n",
              "    </tr>\n",
              "  </tbody>\n",
              "</table>\n",
              "</div>"
            ],
            "text/plain": [
              "       Brand  Store Number  ... Longitude Latitude\n",
              "0  Starbucks  47370-257954  ...      1.53    42.51\n",
              "1  Starbucks  22331-212325  ...     55.47    25.42\n",
              "2  Starbucks  47089-256771  ...     55.47    25.39\n",
              "3  Starbucks  22126-218024  ...     54.38    24.48\n",
              "4  Starbucks  17127-178586  ...     54.54    24.51\n",
              "\n",
              "[5 rows x 13 columns]"
            ]
          },
          "metadata": {
            "tags": []
          },
          "execution_count": 11
        }
      ]
    },
    {
      "cell_type": "markdown",
      "metadata": {
        "colab_type": "text",
        "id": "o_K1eQ0x1D_y"
      },
      "source": [
        "Begin by narrowing down the dataset to a specific geographic area of interest. Since we will need to manually compute a distance matrix, which will be on the order of $n^{2}$ in terms of size, we would recommend choosing an area with 3000 or less locations. In this example, we will use California, which has about 2800 locations. Feel free to choose a different region that is of more interest to you, if desired.\n",
        "\n",
        "Subset the dataframe to only include records for Starbucks locations in California."
      ]
    },
    {
      "cell_type": "code",
      "metadata": {
        "id": "xaPTv22LglMK",
        "colab_type": "code",
        "colab": {}
      },
      "source": [
        "# answer goes here\n",
        "\n",
        "df_ca = df[df['State/Province']=='CA'] \n",
        "df_co = df[df['State/Province']=='CO'] "
      ],
      "execution_count": 0,
      "outputs": []
    },
    {
      "cell_type": "markdown",
      "metadata": {
        "id": "JP466YhlglMN",
        "colab_type": "text"
      },
      "source": [
        "The haversine package takes tuples with 2 numeric elements and interprets them as lat-long to calculate distance, so add a new column called \"Coordinates\" that converts the lat and long in each row into a tuple. In other words, the last two columns of the dataframe should initially look like this:\n",
        "\n",
        "**Latitude, Longitude**  \n",
        "-121.64, 39.14  \n",
        "-116.40, 34.13  \n",
        "...\n",
        "\n",
        "After adding the new column, the last three columns should look like this:\n",
        "\n",
        "**Latitude, Longitude, Coordinates**  \n",
        "-121.64, 39.14, (-121.64, 39.14)  \n",
        "-116.40, 34.13, (-116.40, 34.13)  \n",
        "..."
      ]
    },
    {
      "cell_type": "code",
      "metadata": {
        "colab_type": "code",
        "id": "xfYVreyw1D_y",
        "colab": {
          "base_uri": "https://localhost:8080/",
          "height": 284
        },
        "outputId": "c32b05d2-6c02-4516-9198-84a1a4f5b7ef"
      },
      "source": [
        "# answer goes here\n",
        "\n",
        "df_ca['Coordinates'] = df_ca[['Latitude', 'Longitude']].apply(tuple, axis = 1)\n",
        "df_co['Coordinates'] = df_co[['Latitude', 'Longitude']].apply(tuple, axis = 1)\n"
      ],
      "execution_count": 33,
      "outputs": [
        {
          "output_type": "stream",
          "text": [
            "/usr/local/lib/python3.6/dist-packages/ipykernel_launcher.py:2: SettingWithCopyWarning:\n",
            "\n",
            "\n",
            "A value is trying to be set on a copy of a slice from a DataFrame.\n",
            "Try using .loc[row_indexer,col_indexer] = value instead\n",
            "\n",
            "See the caveats in the documentation: http://pandas.pydata.org/pandas-docs/stable/user_guide/indexing.html#returning-a-view-versus-a-copy\n",
            "\n",
            "/usr/local/lib/python3.6/dist-packages/ipykernel_launcher.py:3: SettingWithCopyWarning:\n",
            "\n",
            "\n",
            "A value is trying to be set on a copy of a slice from a DataFrame.\n",
            "Try using .loc[row_indexer,col_indexer] = value instead\n",
            "\n",
            "See the caveats in the documentation: http://pandas.pydata.org/pandas-docs/stable/user_guide/indexing.html#returning-a-view-versus-a-copy\n",
            "\n"
          ],
          "name": "stderr"
        }
      ]
    },
    {
      "cell_type": "markdown",
      "metadata": {
        "id": "ufXIZ40WglMQ",
        "colab_type": "text"
      },
      "source": [
        "Calculate the distance matrix using the starter code/function geo_sim_matrix() provided earlier in the notebook. It assumes the column containing the coordinates for each location is called \"Coordinates\"; examine the docstring for more details."
      ]
    },
    {
      "cell_type": "code",
      "metadata": {
        "id": "Xn6hPlyGglMR",
        "colab_type": "code",
        "colab": {}
      },
      "source": [
        "# answer goes here\n",
        "\n",
        "dist_matrix = geo_sim_matrix(df_ca)\n",
        "dist_matrix_co = geo_sim_matrix(df_co)\n"
      ],
      "execution_count": 0,
      "outputs": []
    },
    {
      "cell_type": "code",
      "metadata": {
        "id": "kHoSg5xQqCUv",
        "colab_type": "code",
        "colab": {
          "base_uri": "https://localhost:8080/",
          "height": 33
        },
        "outputId": "7bc13097-804b-46d4-bbb5-f039d6339048"
      },
      "source": [
        "dist_matrix_co.shape"
      ],
      "execution_count": 35,
      "outputs": [
        {
          "output_type": "execute_result",
          "data": {
            "text/plain": [
              "(481, 481)"
            ]
          },
          "metadata": {
            "tags": []
          },
          "execution_count": 35
        }
      ]
    },
    {
      "cell_type": "markdown",
      "metadata": {
        "colab_type": "text",
        "id": "86lfEP_91D_0"
      },
      "source": [
        "Build the hierarchical clustering model using n_clusters = 5 and average linkage. Bear in mind that we are passing a precomputed distance matrix, which will require an additional parameter to be manually specified. \n",
        "\n",
        "Additionally, save the predicted cluster assignments as a new column in your dataframe."
      ]
    },
    {
      "cell_type": "code",
      "metadata": {
        "colab_type": "code",
        "id": "o3PUI4l61D_0",
        "colab": {
          "base_uri": "https://localhost:8080/",
          "height": 217
        },
        "outputId": "aa2946b7-3d16-4c5d-9387-c5fcfb8f808d"
      },
      "source": [
        "# answer goes here\n",
        "\n",
        "ag_cluster = AgglomerativeClustering(linkage = 'average',\n",
        "                                     n_clusters =3)\n",
        "clusters =  ag_cluster.fit_predict(dist_matrix)           \n",
        "\n",
        "df_ca['Cluster'] =clusters"
      ],
      "execution_count": 59,
      "outputs": [
        {
          "output_type": "stream",
          "text": [
            "/usr/local/lib/python3.6/dist-packages/sklearn/cluster/hierarchical.py:463: ClusterWarning:\n",
            "\n",
            "scipy.cluster: The symmetric non-negative hollow observation matrix looks suspiciously like an uncondensed distance matrix\n",
            "\n",
            "/usr/local/lib/python3.6/dist-packages/ipykernel_launcher.py:6: SettingWithCopyWarning:\n",
            "\n",
            "\n",
            "A value is trying to be set on a copy of a slice from a DataFrame.\n",
            "Try using .loc[row_indexer,col_indexer] = value instead\n",
            "\n",
            "See the caveats in the documentation: http://pandas.pydata.org/pandas-docs/stable/user_guide/indexing.html#returning-a-view-versus-a-copy\n",
            "\n"
          ],
          "name": "stderr"
        }
      ]
    },
    {
      "cell_type": "code",
      "metadata": {
        "id": "PFB5M-r-tdh3",
        "colab_type": "code",
        "colab": {
          "base_uri": "https://localhost:8080/",
          "height": 84
        },
        "outputId": "c564de71-e8a5-462d-92a3-21283dd1d76a"
      },
      "source": [
        "clusters_co =  ag_cluster.fit_predict(dist_matrix_co) \n",
        "df_co['Cluster']= clusters_co"
      ],
      "execution_count": 36,
      "outputs": [
        {
          "output_type": "stream",
          "text": [
            "/usr/local/lib/python3.6/dist-packages/sklearn/cluster/hierarchical.py:463: ClusterWarning:\n",
            "\n",
            "scipy.cluster: The symmetric non-negative hollow observation matrix looks suspiciously like an uncondensed distance matrix\n",
            "\n"
          ],
          "name": "stderr"
        }
      ]
    },
    {
      "cell_type": "code",
      "metadata": {
        "id": "SNK5_YIGthxr",
        "colab_type": "code",
        "colab": {
          "base_uri": "https://localhost:8080/",
          "height": 150
        },
        "outputId": "7f3a9d84-eb2e-4fbe-9f42-40fb09003c82"
      },
      "source": [
        ""
      ],
      "execution_count": 53,
      "outputs": [
        {
          "output_type": "stream",
          "text": [
            "/usr/local/lib/python3.6/dist-packages/ipykernel_launcher.py:1: SettingWithCopyWarning:\n",
            "\n",
            "\n",
            "A value is trying to be set on a copy of a slice from a DataFrame.\n",
            "Try using .loc[row_indexer,col_indexer] = value instead\n",
            "\n",
            "See the caveats in the documentation: http://pandas.pydata.org/pandas-docs/stable/user_guide/indexing.html#returning-a-view-versus-a-copy\n",
            "\n"
          ],
          "name": "stderr"
        }
      ]
    },
    {
      "cell_type": "code",
      "metadata": {
        "id": "BfG7FT1qq9a9",
        "colab_type": "code",
        "colab": {
          "base_uri": "https://localhost:8080/",
          "height": 150
        },
        "outputId": "9969335a-4c7f-43fa-93b1-467b980f7c9e"
      },
      "source": [
        ""
      ],
      "execution_count": 55,
      "outputs": [
        {
          "output_type": "stream",
          "text": [
            "/usr/local/lib/python3.6/dist-packages/ipykernel_launcher.py:1: SettingWithCopyWarning:\n",
            "\n",
            "\n",
            "A value is trying to be set on a copy of a slice from a DataFrame.\n",
            "Try using .loc[row_indexer,col_indexer] = value instead\n",
            "\n",
            "See the caveats in the documentation: http://pandas.pydata.org/pandas-docs/stable/user_guide/indexing.html#returning-a-view-versus-a-copy\n",
            "\n"
          ],
          "name": "stderr"
        }
      ]
    },
    {
      "cell_type": "markdown",
      "metadata": {
        "colab_type": "text",
        "id": "MUjcLMMk1D_2"
      },
      "source": [
        "Plot the dendrogram using the provided starter code/function \"plot_dendrogram\". The dendrogram will be difficult to read because there are so many leaf nodes; try experimenting with smaller geographical areas for easier to read dendrograms."
      ]
    },
    {
      "cell_type": "code",
      "metadata": {
        "colab_type": "code",
        "id": "6OTdN8oF1D_2",
        "colab": {
          "base_uri": "https://localhost:8080/",
          "height": 658
        },
        "outputId": "1cf247bd-49ab-473e-ad21-72f71de18d42"
      },
      "source": [
        "# answer goes here\n",
        "from scipy.cluster.hierarchy import dendrogram, linkage\n",
        "plt.figure(figsize=(10,10))\n",
        "dendrogram(linkage(dist_matrix_co,method='complete'))\n",
        "plt.show()"
      ],
      "execution_count": 40,
      "outputs": [
        {
          "output_type": "stream",
          "text": [
            "/usr/local/lib/python3.6/dist-packages/ipykernel_launcher.py:3: ClusterWarning:\n",
            "\n",
            "scipy.cluster: The symmetric non-negative hollow observation matrix looks suspiciously like an uncondensed distance matrix\n",
            "\n"
          ],
          "name": "stderr"
        },
        {
          "output_type": "display_data",
          "data": {
            "image/png": "[encoded data removed]",
            "text/plain": [
              "<Figure size 720x720 with 1 Axes>"
            ]
          },
          "metadata": {
            "tags": []
          }
        }
      ]
    },
    {
      "cell_type": "code",
      "metadata": {
        "id": "LwxVqVuGr225",
        "colab_type": "code",
        "colab": {
          "base_uri": "https://localhost:8080/",
          "height": 268
        },
        "outputId": "e85c6b5b-be1d-4f34-a4b2-ca29959435d1"
      },
      "source": [
        "plot_dendrogram(ag_cluster)"
      ],
      "execution_count": 38,
      "outputs": [
        {
          "output_type": "display_data",
          "data": {
            "image/png": "[encoded data removed]",
            "text/plain": [
              "<Figure size 432x288 with 1 Axes>"
            ]
          },
          "metadata": {
            "tags": []
          }
        }
      ]
    },
    {
      "cell_type": "markdown",
      "metadata": {
        "colab_type": "text",
        "id": "ao3Y5FVp1D_4"
      },
      "source": [
        "Finally, plot the resulting clusters on a map using the \"scatter_geo\" function from plotly.express. The map defaults to the entire world; the \"scope\" parameter is useful for narrowing down the region plotted in the map. The documentation can be found here:\n",
        "\n",
        "https://www.plotly.express/plotly_express/#plotly_express.scatter_geo\n",
        "\n",
        "Tip: If the markers on the map are too large, their size can be changed with the following line of code:\n",
        "\n",
        "*fig.update_traces(marker=dict(size=...)))*\n",
        "\n",
        "Do the clusters correspond to geographic areas you would expect? Experiment with other values for n_cluster and linkage and see how they affect the results."
      ]
    },
    {
      "cell_type": "code",
      "metadata": {
        "id": "v3RKL-NKwsT9",
        "colab_type": "code",
        "colab": {
          "base_uri": "https://localhost:8080/",
          "height": 100
        },
        "outputId": "3242b05c-85e5-4fdd-cccc-7aaf0df52fdc"
      },
      "source": [
        "df_ca.columns"
      ],
      "execution_count": 56,
      "outputs": [
        {
          "output_type": "execute_result",
          "data": {
            "text/plain": [
              "Index(['Brand', 'Store Number', 'Store Name', 'Ownership Type',\n",
              "       'Street Address', 'City', 'State/Province', 'Country', 'Postcode',\n",
              "       'Phone Number', 'Timezone', 'Longitude', 'Latitude', 'Coordinates',\n",
              "       'Cluster'],\n",
              "      dtype='object')"
            ]
          },
          "metadata": {
            "tags": []
          },
          "execution_count": 56
        }
      ]
    },
    {
      "cell_type": "code",
      "metadata": {
        "id": "-Qk4HCYlxk2D",
        "colab_type": "code",
        "colab": {
          "base_uri": "https://localhost:8080/",
          "height": 217
        },
        "outputId": "7f507846-270b-456f-fad8-273932559b44"
      },
      "source": [
        "ag_cluster = AgglomerativeClustering(linkage = 'complete',\n",
        "                                     n_clusters =3)\n",
        "clusters =  ag_cluster.fit_predict(dist_matrix)           \n",
        "\n",
        "df_ca['Cluster'] =clusters"
      ],
      "execution_count": 61,
      "outputs": [
        {
          "output_type": "stream",
          "text": [
            "/usr/local/lib/python3.6/dist-packages/sklearn/cluster/hierarchical.py:463: ClusterWarning:\n",
            "\n",
            "scipy.cluster: The symmetric non-negative hollow observation matrix looks suspiciously like an uncondensed distance matrix\n",
            "\n",
            "/usr/local/lib/python3.6/dist-packages/ipykernel_launcher.py:5: SettingWithCopyWarning:\n",
            "\n",
            "\n",
            "A value is trying to be set on a copy of a slice from a DataFrame.\n",
            "Try using .loc[row_indexer,col_indexer] = value instead\n",
            "\n",
            "See the caveats in the documentation: http://pandas.pydata.org/pandas-docs/stable/user_guide/indexing.html#returning-a-view-versus-a-copy\n",
            "\n"
          ],
          "name": "stderr"
        }
      ]
    },
    {
      "cell_type": "code",
      "metadata": {
        "colab_type": "code",
        "id": "sUhMxZdL1D_4",
        "scrolled": true,
        "colab": {
          "base_uri": "https://localhost:8080/",
          "height": 617
        },
        "outputId": "e1e5264e-8504-438a-a50e-2de2564af97b"
      },
      "source": [
        "# answer goes here\n",
        "px.scatter_geo(data_frame=df_ca, lon = 'Longitude', lat='Latitude',scope='usa', color='Cluster')\n"
      ],
      "execution_count": 62,
      "outputs": [
        {
          "output_type": "display_data",
          "data": {
            "text/html": [
              "<html>\n",
              "<head><meta charset=\"utf-8\" /></head>\n",
              "<body>\n",
              "    <div>\n",
              "            <script src=\"https://cdnjs.cloudflare.com/ajax/libs/mathjax/2.7.5/MathJax.js?config=TeX-AMS-MML_SVG\"></script><script type=\"text/javascript\">if (window.MathJax) {MathJax.Hub.Config({SVG: {font: \"STIX-Web\"}});}</script>\n",
              "                <script type=\"text/javascript\">window.PlotlyConfig = {MathJaxConfig: 'local'};</script>\n",
              "        <script src=\"https://cdn.plot.ly/plotly-latest.min.js\"></script>    \n",
              "            <div id=\"b7e4385a-185b-4428-bb4c-761680e1b8a7\" class=\"plotly-graph-div\" style=\"height:600px; width:100%;\"></div>\n",
              "            <script type=\"text/javascript\">\n",
              "                \n",
              "                    window.PLOTLYENV=window.PLOTLYENV || {};\n",
              "                    \n",
              "                if (document.getElementById(\"b7e4385a-185b-4428-bb4c-761680e1b8a7\")) {\n",
              "                    Plotly.newPlot(\n",
              "                        'b7e4385a-185b-4428-bb4c-761680e1b8a7',\n",
              "                        [{\"geo\": \"geo\", \"hoverlabel\": {\"namelength\": 0}, \"hovertemplate\": \"Latitude=%{lat}<br>Longitude=%{lon}<br>Cluster=%{marker.color}\", \"lat\": [34.51, 34.16, 34.15, 33.87, 37.79, 37.76, 37.78, 37.76, 37.77, 37.78, 37.76, 37.85, 37.85, 37.88, 34.09, 34.08, 34.08, 34.09, 34.08, 34.09, 33.57, 33.57, 33.57, 33.59, 32.83, 38.17, 38.18, 33.85, 33.81, 33.85, 33.87, 33.84, 33.82, 33.84, 33.85, 33.83, 33.81, 33.8, 33.86, 33.84, 33.8, 33.83, 33.81, 33.82, 33.81, 33.8, 33.85, 33.86, 33.85, 33.86, 40.45, 40.43, 38.08, 38.71, 37.97, 37.98, 37.99, 37.96, 38.0, 37.96, 38.0, 34.53, 34.47, 34.47, 34.52, 36.98, 36.98, 34.11, 34.14, 34.13, 34.12, 34.13, 34.14, 35.12, 35.13, 33.87, 34.99, 35.53, 35.49, 37.34, 37.36, 37.34, 38.92, 38.9, 38.94, 38.94, 39.04, 38.94, 38.92, 38.94, 34.13, 34.13, 34.14, 34.13, 35.3, 35.33, 35.4, 35.35, 35.44, 35.36, 35.32, 35.32, 35.34, 35.31, 35.34, 35.38, 35.36, 35.4, 35.38, 35.37, 35.39, 35.34, 35.38, 35.35, 35.34, 35.34, 35.41, 35.41, 35.4, 35.38, 35.35, 35.32, 35.36, 35.37, 35.34, 35.38, 35.3, 35.38, 35.38, 35.4, 34.06, 34.07, 34.07, 34.07, 34.06, 33.93, 33.92, 34.89, 34.85, 34.85, 33.95, 33.92, 33.97, 33.97, 33.9, 33.87, 37.52, 37.52, 37.51, 38.05, 38.07, 38.08, 38.05, 37.87, 37.89, 37.88, 37.86, 37.87, 34.07, 34.06, 34.06, 34.07, 34.06, 34.25, 34.25, 37.37, 37.37, 34.25, 33.61, 33.61, 32.66, 32.67, 32.96, 32.98, 33.92, 33.92, 33.92, 33.91, 33.92, 33.91, 33.91, 33.91, 33.92, 37.94, 37.92, 34.05, 37.93, 34.61, 33.83, 33.85, 33.85, 33.86, 33.86, 33.85, 33.85, 34.16, 34.17, 34.17, 34.18, 34.15, 34.16, 34.15, 34.2, 34.15, 34.15, 34.2, 34.16, 34.15, 34.19, 34.19, 34.18, 34.16, 34.16, 34.19, 37.6, 37.58, 37.6, 37.58, 37.59, 35.4, 37.89, 33.92, 33.93, 33.93, 34.16, 34.14, 34.14, 32.68, 34.0, 34.22, 34.22, 34.22, 34.23, 34.22, 34.23, 34.24, 38.7, 38.66, 38.66, 37.29, 37.27, 37.29, 37.28, 37.29, 37.29, 37.29, 34.22, 34.2, 34.19, 34.19, 34.19, 34.42, 36.98, 36.98, 36.97, 33.02, 33.09, 33.08, 33.13, 33.18, 33.13, 33.08, 33.1, 33.1, 33.16, 33.12, 33.1, 36.54, 36.54, 38.66, 38.64, 38.63, 34.39, 33.81, 33.85, 33.81, 33.84, 33.81, 33.84, 33.84, 33.87, 34.45, 34.5, 37.69, 37.7, 37.7, 37.69, 33.85, 33.82, 33.79, 34.06, 34.06, 34.06, 37.61, 37.61, 33.85, 33.86, 33.86, 33.86, 33.85, 33.86, 33.87, 34.26, 34.25, 34.26, 34.24, 39.74, 39.73, 39.75, 39.72, 39.73, 39.76, 39.76, 39.73, 34.0, 34.0, 34.02, 34.03, 34.03, 34.0, 34.03, 33.98, 34.0, 34.01, 33.96, 33.97, 37.13, 32.63, 32.63, 32.66, 32.65, 32.64, 32.65, 32.6, 32.65, 32.65, 32.61, 32.63, 32.61, 38.67, 38.68, 38.67, 38.69, 34.0, 34.01, 34.03, 33.99, 34.08, 34.1, 34.12, 34.11, 37.95, 38.78, 36.84, 36.81, 36.84, 36.81, 36.84, 36.84, 36.85, 36.84, 36.84, 36.79, 33.7, 36.14, 39.1, 37.67, 37.67, 34.07, 34.05, 34.05, 34.02, 33.87, 33.88, 33.9, 33.88, 37.97, 37.97, 37.98, 37.98, 37.96, 37.95, 37.98, 37.94, 37.97, 37.99, 37.98, 37.97, 39.93, 33.84, 33.89, 33.85, 33.98, 33.89, 33.75, 33.88, 33.82, 33.85, 33.96, 33.84, 33.82, 33.6, 32.69, 37.93, 37.93, 37.93, 37.93, 33.69, 33.68, 33.63, 33.69, 33.68, 33.67, 33.69, 33.68, 33.63, 33.67, 33.69, 33.69, 33.66, 33.66, 33.63, 33.67, 33.64, 33.69, 38.33, 34.09, 34.08, 34.09, 34.09, 34.11, 41.76, 33.99, 33.99, 34.0, 34.0, 34.01, 34.02, 37.34, 37.32, 37.34, 37.32, 37.34, 37.34, 37.32, 37.32, 33.8, 33.8, 33.82, 33.82, 37.67, 37.7, 37.67, 37.7, 37.67, 37.7, 33.49, 33.47, 33.49, 33.49, 33.48, 37.82, 37.8, 37.8, 37.82, 37.8, 37.81, 38.56, 38.55, 38.56, 38.54, 38.54, 38.54, 38.56, 38.55, 38.54, 32.98, 32.96, 32.95, 32.94, 36.6, 36.58, 35.78, 33.95, 33.97, 34.0, 34.01, 36.55, 38.46, 38.46, 33.94, 33.94, 33.92, 33.96, 33.93, 34.13, 34.14, 37.7, 37.71, 37.7, 37.71, 37.71, 37.71, 37.71, 37.7, 33.96, 34.92, 32.74, 32.81, 32.81, 32.78, 32.78, 32.8, 32.8, 32.8, 32.79, 32.81, 32.75, 32.81, 32.82, 32.82, 32.79, 32.77, 32.8, 37.92, 37.9, 37.93, 38.65, 38.65, 38.71, 38.71, 34.08, 34.07, 34.07, 34.06, 33.92, 33.9, 33.92, 33.92, 33.92, 33.91, 33.93, 37.98, 38.42, 38.43, 38.41, 38.41, 38.45, 38.41, 38.42, 38.42, 38.39, 38.42, 38.43, 37.83, 37.83, 37.84, 37.85, 37.83, 33.07, 33.07, 33.05, 33.04, 33.07, 33.07, 33.05, 33.05, 34.16, 34.16, 34.16, 37.8, 33.11, 33.12, 33.13, 33.07, 33.1, 33.14, 33.07, 33.11, 33.12, 33.13, 33.15, 33.13, 33.07, 33.07, 33.1, 33.11, 40.8, 40.8, 40.81, 40.78, 38.66, 38.67, 38.66, 38.66, 38.66, 38.26, 38.22, 38.25, 38.29, 38.26, 38.26, 38.27, 38.21, 38.25, 33.37, 33.37, 34.4, 38.65, 38.67, 38.65, 38.69, 38.65, 38.65, 38.67, 38.7, 38.68, 38.66, 38.65, 38.67, 34.14, 34.07, 34.15, 34.15, 34.11, 34.06, 34.11, 34.12, 34.05, 33.69, 39.43, 35.26, 40.58, 37.55, 37.56, 33.69, 33.7, 33.73, 33.72, 33.73, 36.63, 36.94, 36.94, 37.5, 37.49, 37.56, 37.49, 37.53, 37.53, 37.53, 37.57, 37.53, 37.55, 37.5, 37.55, 37.53, 37.55, 37.51, 36.78, 36.79, 36.74, 36.74, 36.86, 36.81, 36.83, 36.81, 36.85, 36.64, 36.77, 36.84, 36.81, 36.81, 36.79, 36.82, 36.85, 36.81, 36.76, 36.87, 36.83, 36.85, 36.84, 36.74, 36.87, 36.84, 36.81, 36.74, 36.81, 36.79, 36.81, 36.81, 36.81, 36.84, 36.76, 36.87, 35.3, 33.88, 33.92, 33.86, 33.88, 33.88, 33.88, 33.88, 33.87, 33.86, 33.89, 33.89, 33.86, 33.87, 33.79, 33.78, 33.76, 33.77, 33.76, 33.77, 33.78, 33.79, 33.79, 33.79, 33.89, 33.9, 33.87, 33.89, 37.01, 37.02, 37.01, 37.01, 37.0, 37.0, 34.13, 34.16, 34.16, 34.16, 34.14, 34.23, 34.14, 34.15, 34.14, 34.15, 34.15, 34.16, 34.13, 34.15, 34.16, 34.17, 34.14, 34.13, 34.13, 34.14, 38.63, 34.43, 34.44, 36.51, 34.26, 34.27, 34.27, 34.27, 34.26, 34.29, 38.74, 38.74, 39.2, 39.24, 37.95, 39.37, 35.12, 38.5, 37.1, 34.02, 34.0, 37.47, 36.33, 36.32, 36.33, 33.78, 33.81, 33.8, 33.83, 33.9, 33.93, 33.92, 33.92, 33.9, 33.92, 37.67, 37.67, 37.61, 37.61, 37.63, 37.66, 37.65, 37.67, 37.68, 37.68, 37.65, 37.62, 38.61, 38.61, 33.73, 33.75, 33.75, 33.75, 38.02, 38.01, 33.86, 33.86, 33.86, 34.47, 34.43, 34.43, 34.42, 34.12, 36.84, 36.84, 36.84, 34.1, 34.11, 34.1, 34.1, 34.1, 34.1, 33.69, 33.72, 33.67, 33.66, 33.72, 33.66, 33.67, 33.74, 33.73, 33.73, 33.68, 33.73, 33.69, 33.66, 33.66, 33.68, 33.72, 33.68, 33.68, 33.99, 33.99, 33.71, 33.74, 33.69, 33.74, 33.72, 33.96, 33.95, 33.95, 33.98, 33.96, 33.65, 33.65, 33.69, 33.7, 33.73, 33.65, 33.67, 33.65, 33.67, 33.64, 33.65, 33.65, 33.71, 33.65, 33.65, 33.72, 33.67, 33.68, 33.65, 33.7, 33.68, 33.68, 33.7, 33.68, 33.73, 33.69, 34.11, 34.41, 38.37, 38.37, 36.73, 35.99, 36.2, 39.24, 36.52, 34.2, 34.21, 34.23, 34.22, 33.92, 33.92, 33.94, 33.92, 33.93, 32.88, 32.85, 32.87, 32.84, 32.81, 32.85, 32.87, 32.84, 32.87, 32.75, 32.78, 32.77, 32.78, 32.77, 32.78, 32.78, 33.9, 33.92, 33.9, 34.04, 33.68, 33.71, 33.71, 33.72, 34.12, 34.12, 34.11, 34.11, 33.56, 33.56, 37.89, 37.89, 37.9, 33.55, 33.54, 33.54, 33.61, 33.6, 33.59, 33.53, 33.56, 33.57, 33.55, 33.56, 33.52, 33.61, 33.69, 33.66, 33.69, 33.69, 33.66, 33.68, 33.66, 33.66, 33.63, 33.64, 33.67, 33.63, 35.62, 39.05, 32.86, 33.86, 33.85, 33.85, 33.84, 33.85, 33.86, 34.66, 34.68, 34.69, 34.67, 34.68, 34.7, 38.5, 37.95, 37.82, 37.81, 33.9, 34.98, 32.74, 32.74, 36.31, 38.88, 38.87, 38.87, 38.88, 36.2, 37.7, 37.7, 37.72, 37.65, 37.7, 37.7, 37.68, 37.69, 37.7, 37.7, 37.68, 37.39, 38.1, 38.12, 38.14, 38.12, 38.12, 38.12, 34.05, 34.05, 34.65, 34.66, 33.77, 33.78, 33.84, 33.81, 33.77, 33.76, 33.76, 33.88, 33.78, 33.81, 33.8, 33.77, 33.77, 33.83, 33.8, 33.77, 33.8, 33.76, 33.76, 33.79, 33.83, 33.78, 33.84, 33.78, 33.77, 33.77, 33.79, 33.81, 33.77, 33.81, 33.82, 38.82, 33.8, 37.38, 37.38, 37.36, 34.09, 34.04, 33.98, 34.1, 34.06, 33.95, 34.05, 34.1, 33.97, 34.04, 34.08, 34.02, 34.06, 34.05, 34.07, 34.02, 34.06, 34.04, 33.95, 34.14, 34.06, 33.95, 34.05, 34.07, 34.06, 33.96, 34.1, 34.08, 34.06, 33.95, 33.98, 33.95, 34.1, 34.04, 34.05, 34.0, 34.07, 34.08, 34.06, 34.05, 33.98, 33.94, 34.13, 33.95, 33.99, 34.06, 33.94, 34.07, 34.02, 34.06, 34.05, 34.03, 34.05, 34.11, 33.96, 34.06, 34.1, 34.13, 34.08, 34.1, 33.99, 34.12, 34.08, 34.06, 34.06, 34.14, 34.05, 34.07, 34.02, 34.02, 34.05, 34.05, 34.05, 34.09, 34.04, 34.08, 34.04, 34.03, 34.1, 34.05, 34.05, 34.1, 34.05, 34.03, 33.96, 34.06, 33.96, 34.05, 34.08, 34.14, 34.02, 34.05, 34.05, 34.02, 34.07, 33.98, 34.05, 34.03, 34.04, 34.03, 34.05, 33.95, 33.98, 34.1, 34.05, 34.06, 33.95, 34.04, 34.06, 34.04, 34.06, 34.06, 34.06, 34.05, 34.12, 34.05, 34.05, 33.98, 34.05, 34.03, 34.13, 34.03, 34.03, 34.04, 34.03, 33.95, 34.11, 33.95, 37.06, 37.06, 37.06, 37.24, 37.23, 37.25, 37.24, 37.23, 37.24, 35.31, 33.93, 33.93, 37.02, 36.95, 36.88, 36.98, 34.02, 34.04, 34.03, 34.03, 37.64, 37.65, 33.9, 33.89, 33.89, 37.8, 37.79, 37.8, 37.8, 37.83, 37.8, 36.67, 36.67, 36.69, 33.98, 33.98, 33.99, 33.99, 33.99, 33.98, 33.98, 37.96, 37.99, 37.99, 37.96, 38.02, 39.15, 40.94, 33.57, 33.68, 33.68, 33.68, 37.45, 37.42, 37.43, 37.45, 37.45, 37.42, 37.48, 37.32, 37.3, 37.33, 37.29, 37.32, 37.9, 37.89, 37.9, 37.88, 37.9, 37.6, 37.6, 37.44, 37.43, 37.42, 37.42, 37.43, 37.43, 37.42, 37.43, 37.41, 37.45, 33.98, 34.26, 33.56, 33.61, 33.65, 33.56, 33.55, 33.61, 33.61, 33.6, 33.58, 33.59, 33.63, 37.65, 37.65, 37.7, 37.69, 37.7, 37.69, 37.67, 37.66, 37.69, 37.67, 37.59, 37.69, 37.69, 37.64, 37.65, 37.68, 37.67, 37.67, 37.69, 34.14, 34.14, 34.15, 34.15, 34.15, 34.09, 34.08, 34.06, 34.09, 34.02, 34.04, 34.03, 36.62, 36.62, 36.6, 36.58, 34.04, 34.21, 34.28, 34.28, 34.3, 34.27, 34.28, 37.86, 37.84, 33.94, 33.94, 33.89, 33.94, 33.94, 33.94, 37.11, 37.13, 37.13, 37.16, 37.12, 37.14, 37.16, 35.37, 37.42, 37.37, 37.37, 37.39, 37.41, 37.4, 37.4, 37.42, 37.38, 37.38, 37.39, 33.55, 33.56, 33.55, 33.6, 33.57, 33.57, 33.6, 33.56, 33.57, 38.28, 38.32, 38.31, 38.3, 38.32, 38.32, 38.32, 38.28, 38.32, 36.3, 32.66, 32.65, 32.68, 32.66, 32.66, 37.52, 37.55, 37.55, 37.53, 37.53, 34.17, 33.64, 33.62, 33.62, 33.66, 33.63, 33.61, 33.61, 33.67, 33.63, 33.62, 33.57, 33.64, 33.62, 33.66, 33.61, 33.61, 35.04, 35.04, 33.9, 33.9, 33.94, 38.69, 38.66, 38.64, 34.23, 34.24, 34.16, 34.16, 34.16, 34.2, 34.19, 34.19, 34.23, 34.26, 34.24, 34.28, 34.24, 34.24, 34.23, 33.92, 33.9, 33.9, 33.92, 33.92, 33.9, 33.93, 33.91, 38.12, 38.11, 38.09, 38.1, 38.06, 38.09, 37.77, 37.77, 37.33, 37.33, 37.79, 37.72, 37.82, 37.8, 37.77, 37.83, 37.83, 37.8, 37.72, 37.8, 37.72, 37.81, 37.74, 37.83, 37.71, 37.81, 37.85, 37.73, 37.83, 37.81, 37.8, 38.0, 38.01, 33.18, 33.19, 33.18, 33.23, 33.23, 33.2, 33.24, 33.18, 33.18, 33.25, 33.24, 33.21, 34.42, 39.2, 34.09, 34.05, 34.03, 34.07, 34.08, 34.06, 34.08, 34.03, 34.07, 34.07, 34.03, 34.07, 34.08, 33.79, 33.83, 33.79, 33.79, 33.8, 33.81, 33.82, 33.78, 33.79, 33.79, 33.79, 33.78, 33.83, 33.79, 33.79, 33.78, 34.86, 37.88, 37.88, 39.75, 39.5, 34.23, 34.19, 34.17, 34.22, 34.24, 34.22, 34.17, 34.2, 34.23, 32.8, 36.6, 34.04, 34.05, 34.04, 37.6, 37.65, 37.59, 37.66, 37.65, 33.72, 33.74, 33.76, 33.72, 33.8, 33.72, 33.78, 33.76, 33.72, 33.72, 33.76, 33.8, 33.81, 33.82, 33.79, 33.85, 33.82, 33.82, 33.82, 34.6, 34.58, 34.58, 34.58, 34.6, 34.56, 34.61, 34.61, 34.59, 37.45, 37.41, 37.45, 37.42, 37.44, 37.43, 37.44, 37.43, 37.43, 37.42, 37.46, 34.21, 33.9, 33.89, 33.89, 34.14, 34.14, 34.13, 34.15, 34.15, 34.15, 34.15, 34.11, 34.15, 34.17, 34.17, 34.14, 34.14, 34.14, 34.14, 34.15, 34.16, 34.16, 34.13, 34.15, 34.15, 34.15, 34.15, 35.62, 35.64, 35.62, 35.58, 35.58, 37.47, 33.8, 33.74, 33.85, 38.24, 38.24, 38.23, 38.28, 38.27, 38.28, 38.23, 38.25, 34.0, 33.98, 34.0, 37.99, 38.0, 37.99, 35.14, 38.01, 38.0, 38.01, 38.02, 33.88, 38.71, 38.71, 38.73, 33.98, 37.97, 37.98, 37.93, 37.94, 37.95, 37.95, 37.98, 37.7, 37.68, 37.67, 37.69, 37.66, 37.69, 37.66, 37.66, 37.68, 37.7, 37.93, 38.76, 34.04, 34.07, 34.06, 34.06, 34.03, 34.11, 34.07, 34.03, 34.05, 34.18, 36.07, 36.08, 36.08, 36.06, 32.95, 32.98, 32.95, 32.93, 32.98, 36.79, 36.79, 33.04, 33.04, 33.02, 33.02, 38.59, 38.61, 38.58, 38.59, 38.59, 38.61, 38.59, 38.63, 38.59, 34.11, 34.11, 34.13, 34.11, 34.11, 34.13, 34.11, 34.13, 34.11, 34.11, 34.12, 34.14, 34.12, 34.11, 33.76, 33.76, 33.74, 33.74, 33.76, 33.75, 33.58, 33.64, 33.64, 33.56, 33.64, 33.65, 33.64, 40.18, 40.16, 40.19, 40.57, 40.57, 40.58, 40.59, 40.61, 40.57, 40.58, 40.59, 40.53, 40.59, 34.07, 34.05, 34.07, 34.07, 34.05, 34.07, 34.06, 34.06, 33.87, 33.87, 33.89, 33.82, 33.87, 33.85, 33.87, 37.47, 37.48, 37.52, 37.49, 37.49, 37.48, 37.48, 37.49, 37.49, 37.47, 36.6, 34.19, 34.19, 34.07, 34.14, 37.93, 37.99, 35.63, 35.61, 37.75, 37.73, 37.71, 37.72, 33.96, 33.9, 33.95, 33.91, 33.98, 33.98, 33.88, 33.95, 33.95, 33.9, 33.95, 33.91, 33.98, 33.98, 33.99, 33.89, 33.96, 33.89, 33.95, 33.98, 33.92, 33.91, 38.79, 38.81, 38.8, 38.79, 38.81, 38.8, 38.79, 38.8, 38.8, 38.35, 38.35, 38.35, 38.36, 38.33, 38.36, 38.35, 33.77, 33.77, 33.78, 34.86, 34.07, 34.06, 34.07, 38.76, 38.77, 38.74, 38.74, 38.79, 38.77, 38.78, 38.73, 38.76, 38.73, 38.77, 38.77, 38.74, 38.74, 38.75, 38.73, 38.77, 38.77, 38.75, 38.79, 38.79, 38.78, 33.99, 33.99, 33.99, 38.6, 38.59, 38.69, 38.6, 38.64, 38.64, 38.57, 38.55, 38.57, 38.5, 38.58, 38.56, 38.66, 38.66, 38.61, 38.57, 38.58, 38.57, 38.61, 38.46, 38.48, 38.57, 38.57, 38.54, 38.69, 38.57, 38.48, 38.66, 38.48, 38.6, 38.56, 38.6, 38.58, 38.5, 38.61, 38.47, 38.71, 38.6, 38.56, 38.58, 38.65, 38.64, 38.64, 38.45, 38.6, 38.69, 38.55, 38.58, 38.56, 38.64, 38.6, 38.58, 38.64, 38.57, 38.57, 38.69, 38.56, 38.62, 38.55, 38.46, 38.53, 38.68, 38.6, 38.55, 38.58, 38.56, 36.66, 36.71, 36.72, 36.7, 36.72, 36.69, 36.67, 36.7, 36.71, 36.66, 36.69, 36.7, 37.98, 34.18, 34.17, 34.07, 34.19, 34.06, 34.18, 34.1, 34.17, 37.64, 37.63, 37.62, 37.64, 37.64, 37.5, 37.5, 37.51, 33.46, 33.46, 33.45, 33.44, 33.43, 33.46, 33.44, 33.02, 32.73, 32.96, 32.76, 32.81, 32.91, 32.82, 32.75, 32.77, 32.76, 32.79, 32.74, 32.76, 32.78, 33.02, 32.73, 32.85, 32.75, 32.71, 32.73, 32.77, 32.75, 32.81, 32.91, 32.83, 32.73, 32.94, 32.78, 32.75, 32.95, 32.75, 32.71, 32.96, 32.92, 32.94, 32.77, 32.75, 32.96, 32.95, 32.91, 32.75, 32.74, 32.86, 32.8, 32.82, 32.96, 32.8, 32.78, 32.72, 32.94, 32.57, 32.7, 32.92, 32.77, 32.69, 32.88, 32.94, 32.75, 32.77, 32.95, 32.82, 32.76, 32.72, 32.82, 33.02, 32.83, 33.01, 32.71, 32.83, 32.75, 32.71, 32.8, 32.82, 32.58, 32.87, 32.77, 32.92, 33.02, 32.98, 32.71, 32.72, 32.77, 32.75, 32.68, 32.63, 32.83, 32.83, 32.75, 32.73, 32.74, 32.71, 32.76, 32.68, 32.77, 32.77, 32.79, 32.71, 32.77, 32.77, 33.02, 32.73, 32.74, 32.76, 32.58, 32.72, 32.7, 32.81, 32.87, 32.58, 32.71, 32.87, 32.58, 32.73, 32.97, 32.71, 32.74, 32.83, 32.98, 32.75, 32.71, 32.77, 32.78, 32.75, 32.89, 32.73, 32.9, 32.78, 32.75, 32.95, 32.75, 32.74, 32.71, 32.83, 32.79, 32.75, 32.8, 32.82, 32.71, 34.11, 34.11, 34.1, 34.11, 34.28, 37.78, 37.77, 37.78, 37.78, 37.73, 37.75, 37.74, 37.78, 37.78, 37.79, 37.8, 37.79, 37.74, 37.79, 37.76, 37.79, 37.79, 37.79, 37.8, 37.79, 37.79, 37.79, 37.76, 37.79, 37.79, 37.76, 37.79, 37.8, 37.76, 37.79, 37.62, 37.79, 37.77, 37.79, 37.77, 37.8, 37.79, 37.79, 37.79, 37.81, 37.73, 37.78, 37.74, 37.73, 37.78, 37.78, 37.8, 37.79, 37.78, 37.8, 37.8, 37.79, 37.81, 37.79, 37.62, 37.79, 37.78, 37.79, 37.78, 37.8, 37.79, 37.79, 37.79, 37.8, 37.79, 37.78, 37.79, 37.79, 37.79, 37.78, 37.8, 37.79, 37.79, 37.77, 37.79, 37.77, 37.79, 37.74, 37.81, 37.62, 37.79, 37.78, 37.77, 37.78, 37.76, 37.78, 37.75, 37.77, 37.79, 37.79, 37.62, 34.12, 33.8, 33.77, 37.22, 37.29, 37.37, 37.37, 37.25, 37.22, 37.34, 37.34, 37.31, 37.3, 37.31, 37.32, 37.38, 37.25, 37.29, 37.34, 37.25, 37.39, 37.36, 37.29, 37.34, 37.32, 37.29, 37.3, 37.37, 37.34, 37.32, 37.33, 37.31, 37.31, 37.25, 37.25, 37.31, 37.31, 37.37, 37.4, 37.25, 37.37, 37.25, 37.27, 37.26, 37.34, 37.25, 37.31, 37.25, 37.29, 37.23, 37.37, 37.33, 37.32, 37.29, 37.3, 37.34, 37.27, 37.33, 37.3, 37.41, 37.25, 37.36, 37.25, 37.42, 37.33, 37.37, 37.36, 37.41, 37.33, 37.26, 37.32, 37.27, 37.33, 37.23, 37.31, 37.35, 37.3, 37.39, 37.32, 37.29, 37.28, 37.26, 37.24, 37.3, 37.29, 37.4, 37.33, 37.37, 33.5, 33.5, 33.5, 37.71, 37.72, 37.71, 37.69, 37.73, 37.7, 37.69, 35.3, 35.3, 35.25, 35.29, 35.3, 35.25, 35.26, 35.25, 35.25, 35.28, 33.14, 33.13, 33.14, 33.1, 33.13, 33.15, 33.14, 33.13, 33.14, 33.13, 33.13, 34.12, 37.53, 37.54, 37.54, 37.55, 37.56, 37.58, 37.56, 37.56, 37.54, 37.53, 37.53, 37.56, 37.52, 37.95, 37.96, 37.97, 33.76, 33.76, 33.72, 33.74, 33.74, 33.72, 37.97, 38.01, 37.97, 37.95, 37.97, 37.97, 38.01, 37.76, 37.78, 37.77, 37.76, 37.77, 37.73, 37.78, 37.76, 37.77, 32.54, 36.62, 36.62, 33.02, 36.71, 33.75, 33.76, 33.68, 33.68, 33.7, 33.73, 33.76, 33.7, 33.76, 33.7, 33.78, 33.76, 33.77, 33.7, 33.74, 33.68, 33.68, 33.72, 33.76, 34.42, 34.42, 34.42, 34.42, 34.42, 34.42, 34.44, 34.44, 34.42, 34.4, 37.35, 37.34, 37.34, 37.35, 37.39, 37.35, 37.35, 37.33, 37.33, 37.39, 37.34, 37.33, 37.39, 37.34, 37.35, 34.37, 34.42, 34.4, 34.46, 34.43, 34.43, 34.41, 34.43, 34.42, 34.38, 34.44, 34.45, 34.41, 34.41, 36.96, 36.97, 36.96, 33.97, 33.89, 33.94, 33.92, 33.95, 34.92, 34.94, 34.97, 34.92, 34.92, 34.92, 34.95, 34.02, 34.02, 34.0, 34.02, 34.03, 34.04, 34.03, 34.02, 34.03, 34.03, 34.03, 34.03, 34.02, 34.01, 34.02, 34.04, 34.01, 34.01, 34.0, 34.03, 34.02, 34.35, 34.34, 38.42, 38.48, 38.47, 38.46, 38.45, 38.43, 38.51, 38.47, 38.46, 38.46, 38.43, 38.46, 38.44, 38.45, 38.44, 38.44, 38.45, 38.41, 38.41, 38.43, 38.42, 38.44, 32.84, 32.84, 32.84, 32.86, 32.84, 37.26, 37.28, 37.28, 37.28, 34.43, 34.44, 34.44, 37.86, 37.87, 37.04, 37.06, 37.05, 33.78, 33.78, 33.76, 33.74, 33.78, 36.65, 36.61, 38.39, 38.4, 36.58, 34.15, 34.16, 34.16, 34.15, 34.16, 34.15, 34.15, 34.16, 33.81, 33.8, 34.28, 34.27, 34.27, 34.29, 34.26, 34.25, 34.27, 34.28, 34.28, 34.28, 33.0, 33.0, 36.42, 38.29, 38.3, 37.97, 37.97, 37.97, 36.99, 36.99, 33.75, 34.04, 33.95, 38.95, 38.96, 38.91, 38.95, 34.12, 34.11, 34.1, 37.66, 37.66, 37.65, 37.65, 33.96, 33.95, 32.71, 32.75, 37.42, 33.79, 34.39, 38.0, 38.01, 38.0, 37.97, 37.96, 37.91, 37.99, 38.01, 38.02, 37.96, 38.05, 37.98, 37.95, 38.02, 37.99, 38.04, 38.05, 38.01, 34.14, 34.14, 34.14, 34.14, 38.25, 34.26, 37.37, 37.37, 37.39, 37.36, 37.36, 37.36, 37.35, 37.38, 37.37, 37.35, 37.38, 40.41, 40.41, 34.31, 35.15, 34.17, 34.17, 34.17, 35.13, 35.13, 33.48, 33.54, 33.53, 33.51, 33.53, 33.51, 33.48, 33.51, 33.52, 33.48, 33.5, 33.48, 33.52, 34.1, 34.18, 34.2, 34.2, 34.21, 34.18, 34.19, 34.18, 34.23, 34.18, 34.16, 34.21, 34.19, 34.19, 34.18, 34.18, 33.86, 33.86, 33.81, 33.84, 33.8, 33.87, 33.8, 33.83, 33.83, 33.84, 33.83, 33.83, 33.82, 33.81, 33.83, 33.87, 33.83, 33.79, 37.74, 37.76, 37.76, 37.74, 37.76, 37.71, 38.27, 39.33, 39.28, 39.33, 34.26, 34.24, 36.23, 36.23, 37.52, 37.48, 37.49, 37.5, 37.52, 37.52, 37.52, 33.7, 33.75, 33.73, 33.72, 33.74, 33.72, 33.72, 33.73, 33.76, 34.24, 39.15, 39.13, 39.14, 37.6, 37.59, 37.59, 37.59, 37.61, 34.14, 34.14, 34.14, 34.11, 34.13, 34.11, 34.13, 34.13, 38.36, 38.37, 38.35, 38.37, 38.36, 38.35, 38.38, 38.34, 38.35, 34.45, 34.42, 34.42, 34.42, 34.39, 34.42, 34.43, 38.08, 38.13, 38.13, 38.13, 38.08, 38.13, 38.09, 33.27, 38.19, 34.16, 34.17, 34.17, 34.2, 34.22, 34.22, 34.2, 34.17, 34.17, 34.21, 34.21, 34.0, 34.28, 34.27, 34.26, 34.26, 34.26, 34.28, 34.27, 34.27, 34.26, 34.26, 34.28, 34.28, 34.26, 34.51, 34.47, 34.47, 34.47, 34.51, 34.52, 34.47, 36.33, 36.31, 36.29, 36.32, 36.29, 36.3, 36.36, 36.33, 36.31, 36.34, 33.13, 33.16, 33.22, 33.2, 33.17, 33.13, 33.17, 33.19, 33.15, 33.19, 33.19, 33.17, 34.03, 34.01, 37.9, 37.93, 37.9, 37.9, 37.93, 37.9, 37.93, 37.9, 37.93, 37.92, 37.89, 37.93, 37.9, 37.89, 37.93, 37.9, 36.92, 36.92, 40.72, 34.03, 34.07, 34.07, 34.04, 34.07, 34.19, 34.19, 34.19, 34.19, 34.19, 34.08, 34.08, 34.08, 34.09, 34.1, 34.09, 34.09, 34.05, 34.04, 38.55, 38.57, 38.55, 38.59, 33.96, 34.15, 34.18, 33.75, 33.73, 33.77, 33.72, 33.74, 33.72, 33.76, 33.76, 34.05, 34.06, 33.98, 33.94, 33.97, 33.95, 34.0, 33.99, 33.94, 33.96, 33.6, 33.6, 33.59, 39.4, 39.53, 33.59, 38.55, 38.55, 38.55, 38.53, 38.68, 38.68, 38.67, 38.67, 34.17, 34.17, 34.18, 34.17, 34.17, 34.17, 34.19, 34.18, 34.16, 34.16, 33.89, 33.89, 41.7, 39.13, 39.15, 39.15, 39.1, 39.14, 34.03, 34.04, 34.03, 34.13], \"legendgroup\": \"\", \"lon\": [-117.4, -118.76, -118.76, -117.75, -122.28, -122.24, -122.28, -122.25, -122.23, -122.28, -122.25, -122.03, -122.03, -122.31, -118.14, -118.15, -118.13, -118.15, -118.11, -118.13, -117.71, -117.71, -117.73, -117.72, -116.75, -122.25, -122.25, -117.89, -117.92, -117.92, -117.76, -117.96, -117.96, -117.91, -117.84, -117.93, -117.92, -117.92, -117.74, -117.94, -117.89, -117.94, -117.92, -117.91, -117.92, -117.92, -117.79, -117.79, -117.79, -117.74, -122.29, -122.29, -120.56, -121.37, -121.78, -121.8, -121.78, -121.74, -121.81, -121.74, -121.84, -117.22, -117.24, -117.24, -117.22, -121.9, -121.91, -118.02, -118.02, -118.05, -118.06, -118.07, -118.05, -120.6, -120.6, -118.08, -118.94, -120.7, -120.66, -120.62, -120.59, -120.59, -121.06, -121.07, -121.1, -121.09, -121.09, -121.1, -121.06, -121.09, -117.89, -117.93, -117.91, -117.91, -119.05, -119.07, -119.09, -119.12, -119.08, -119.07, -119.05, -119.09, -119.05, -119.09, -119.1, -119.15, -119.09, -118.95, -119.02, -119.04, -118.97, -119.04, -119.15, -118.91, -119.03, -119.03, -119.06, -119.11, -119.11, -119.1, -119.12, -119.03, -119.06, -119.02, -119.1, -119.1, -119.03, -119.02, -119.04, -119.09, -117.99, -117.98, -117.96, -117.98, -117.97, -116.9, -116.95, -117.0, -117.08, -117.08, -116.98, -116.95, -118.19, -118.16, -118.13, -118.14, -122.28, -122.28, -122.29, -122.16, -122.17, -122.19, -122.15, -122.27, -122.28, -122.27, -122.26, -122.27, -118.4, -118.39, -118.4, -118.41, -118.38, -116.88, -116.88, -118.4, -118.4, -117.21, -114.59, -114.6, -117.03, -117.02, -115.55, -115.55, -117.89, -117.9, -117.89, -117.88, -117.88, -117.87, -117.88, -117.85, -117.9, -121.74, -121.72, -118.49, -121.69, -120.19, -118.03, -118.0, -117.99, -118.0, -118.03, -118.0, -118.03, -118.31, -118.32, -118.3, -118.34, -118.34, -118.33, -118.34, -118.35, -118.34, -118.32, -118.33, -118.35, -118.35, -118.33, -118.33, -118.31, -118.31, -118.35, -118.32, -122.37, -122.35, -122.39, -122.35, -122.37, -119.4, -121.62, -116.8, -116.82, -116.81, -118.64, -118.7, -118.7, -115.5, -117.06, -119.07, -119.0, -119.07, -119.04, -119.06, -119.0, -119.04, -121.0, -120.97, -120.97, -121.95, -121.95, -121.94, -121.95, -121.93, -121.98, -121.97, -118.61, -118.6, -118.61, -118.6, -118.6, -118.47, -121.97, -121.97, -121.97, -117.28, -117.27, -117.24, -117.26, -117.32, -117.32, -117.23, -117.31, -117.27, -117.35, -117.31, -117.31, -121.91, -121.91, -121.33, -121.33, -121.33, -119.51, -118.27, -118.26, -118.29, -118.26, -118.27, -118.29, -118.26, -118.27, -118.62, -118.62, -122.09, -122.07, -122.08, -122.06, -116.48, -116.46, -116.48, -118.41, -118.41, -118.42, -120.94, -120.97, -118.06, -118.09, -118.09, -118.09, -118.08, -118.09, -118.06, -118.58, -118.61, -118.58, -118.59, -121.84, -121.84, -121.85, -121.79, -121.8, -121.84, -121.82, -121.8, -117.72, -117.65, -117.67, -117.69, -117.68, -117.72, -117.69, -117.71, -117.73, -117.74, -117.7, -117.69, -120.26, -117.04, -117.09, -116.97, -116.97, -117.0, -116.97, -117.08, -117.09, -117.06, -117.08, -117.09, -117.03, -121.27, -121.27, -121.27, -121.29, -118.17, -118.15, -118.01, -117.91, -117.72, -117.72, -117.71, -117.7, -121.95, -123.01, -119.73, -119.71, -119.66, -119.7, -119.7, -119.69, -119.73, -119.68, -119.73, -119.68, -116.22, -120.36, -120.95, -122.46, -122.46, -117.32, -117.31, -117.31, -118.15, -118.25, -118.22, -118.26, -118.22, -122.06, -121.99, -122.03, -122.03, -121.99, -121.96, -121.99, -122.02, -122.04, -122.03, -122.06, -122.06, -122.2, -117.57, -117.52, -117.54, -117.56, -117.52, -117.45, -117.66, -117.52, -117.56, -117.59, -117.53, -117.52, -117.87, -117.18, -122.52, -122.51, -122.52, -122.51, -117.89, -117.92, -117.91, -117.89, -117.91, -117.91, -117.89, -117.92, -117.91, -117.88, -117.89, -117.89, -117.92, -117.9, -117.92, -117.92, -117.92, -117.88, -122.7, -117.91, -117.89, -117.89, -117.87, -117.89, -124.2, -118.4, -118.39, -118.39, -118.39, -118.41, -118.4, -122.07, -122.01, -122.01, -122.03, -122.03, -122.04, -122.02, -122.04, -118.01, -118.01, -118.03, -118.06, -122.47, -122.48, -122.47, -122.48, -122.47, -122.46, -117.7, -117.7, -117.72, -117.7, -117.68, -122.0, -121.92, -121.92, -122.0, -121.92, -121.99, -121.7, -121.7, -121.77, -121.76, -121.72, -121.74, -121.77, -121.76, -121.75, -117.25, -117.26, -117.25, -117.23, -121.85, -121.83, -119.25, -116.5, -117.84, -117.82, -117.82, -119.4, -121.84, -121.84, -118.12, -118.13, -118.15, -118.11, -118.13, -117.97, -117.98, -121.93, -121.85, -121.88, -121.89, -121.87, -121.93, -121.93, -121.87, -117.59, -117.93, -116.94, -116.96, -116.96, -116.96, -116.96, -117.0, -116.96, -116.97, -116.93, -116.95, -116.93, -116.92, -116.96, -115.57, -115.57, -115.53, -115.57, -122.32, -122.3, -122.32, -121.06, -121.07, -121.08, -121.08, -118.04, -118.02, -118.07, -118.02, -118.4, -118.38, -118.4, -118.38, -118.41, -118.39, -118.38, -122.3, -121.45, -121.42, -121.39, -121.35, -121.37, -121.45, -121.37, -121.45, -121.42, -121.41, -121.48, -122.28, -122.28, -122.3, -122.29, -122.29, -117.26, -117.27, -117.26, -117.29, -117.29, -117.27, -117.26, -117.27, -118.49, -118.52, -118.51, -121.0, -117.11, -117.12, -117.09, -117.07, -117.08, -117.09, -117.07, -117.1, -117.09, -117.06, -117.11, -117.06, -117.07, -117.07, -117.07, -117.1, -124.17, -124.15, -124.14, -124.14, -121.23, -121.22, -121.27, -121.31, -121.31, -122.05, -122.13, -122.07, -122.03, -122.03, -122.05, -122.05, -122.14, -122.04, -117.25, -117.25, -118.92, -121.11, -121.16, -121.12, -121.12, -121.16, -121.12, -121.16, -121.19, -121.2, -121.18, -121.17, -121.15, -117.44, -117.44, -117.47, -117.47, -117.45, -117.43, -117.49, -117.51, -117.44, -117.67, -123.81, -116.69, -124.15, -122.26, -122.27, -117.95, -117.93, -117.95, -117.97, -117.95, -119.68, -121.78, -121.78, -121.98, -121.93, -121.95, -121.93, -121.96, -121.92, -122.0, -122.03, -121.96, -121.99, -121.97, -121.97, -122.0, -121.99, -121.95, -119.79, -119.87, -119.78, -119.79, -119.76, -119.78, -119.88, -119.77, -119.79, -119.76, -119.72, -119.75, -119.81, -119.83, -119.83, -119.79, -119.79, -119.74, -119.8, -119.74, -119.92, -119.79, -119.85, -119.77, -119.76, -119.81, -119.85, -119.7, -119.78, -119.76, -119.79, -119.75, -119.78, -119.91, -119.72, -119.78, -116.64, -117.96, -117.93, -117.92, -117.96, -117.88, -117.89, -117.97, -117.92, -117.94, -117.87, -117.87, -117.93, -117.89, -118.03, -118.03, -117.96, -117.9, -117.95, -117.97, -117.96, -117.92, -117.92, -117.94, -118.3, -118.3, -118.31, -118.32, -121.59, -121.56, -121.59, -121.55, -121.55, -121.55, -118.26, -118.26, -118.29, -118.29, -118.24, -118.26, -118.26, -118.26, -118.26, -118.25, -118.25, -118.26, -118.26, -118.24, -118.26, -118.29, -117.86, -117.83, -117.86, -117.87, -121.26, -119.87, -119.83, -121.44, -118.53, -118.5, -118.52, -118.5, -118.5, -118.5, -121.22, -121.17, -121.06, -121.03, -122.52, -121.69, -120.61, -123.0, -121.02, -117.96, -117.97, -122.43, -119.65, -119.68, -119.67, -118.31, -118.29, -118.31, -118.07, -118.37, -118.35, -118.32, -118.33, -118.37, -118.35, -122.12, -122.09, -122.06, -122.06, -122.11, -122.06, -122.09, -122.12, -122.08, -122.08, -122.11, -122.07, -122.87, -122.87, -116.97, -117.0, -116.98, -117.01, -122.26, -122.27, -118.39, -118.39, -118.4, -117.29, -117.38, -117.39, -117.29, -117.2, -121.39, -121.39, -121.39, -118.34, -118.34, -118.33, -118.33, -118.34, -118.31, -117.99, -118.04, -117.96, -118.0, -118.04, -117.97, -117.95, -118.02, -118.03, -117.99, -117.99, -118.0, -118.01, -117.99, -117.97, -118.0, -118.08, -118.0, -118.0, -118.23, -118.21, -116.23, -116.22, -116.27, -116.22, -116.2, -118.35, -118.33, -118.33, -118.36, -118.37, -117.83, -117.75, -117.86, -117.83, -117.79, -117.75, -117.76, -117.74, -117.79, -117.85, -117.74, -117.75, -117.79, -117.78, -117.84, -117.77, -117.85, -117.81, -117.84, -117.76, -117.85, -117.82, -117.74, -117.85, -117.79, -117.81, -117.94, -119.86, -120.8, -120.8, -120.04, -119.96, -121.14, -120.04, -119.56, -118.19, -118.22, -118.25, -118.24, -117.97, -117.96, -117.97, -117.96, -117.93, -117.24, -117.25, -117.23, -117.27, -117.27, -117.27, -117.22, -117.27, -117.23, -116.96, -117.01, -117.02, -117.04, -117.03, -117.01, -117.02, -118.01, -118.01, -118.01, -117.95, -116.3, -116.27, -116.29, -116.3, -117.77, -117.78, -117.76, -117.76, -117.63, -117.65, -122.12, -122.12, -122.1, -117.79, -117.78, -117.79, -117.73, -117.68, -117.7, -117.72, -117.71, -117.71, -117.72, -117.69, -117.69, -117.71, -117.37, -117.3, -117.34, -117.34, -117.29, -117.68, -117.67, -117.7, -117.71, -117.68, -117.65, -117.72, -118.48, -122.93, -116.93, -118.12, -118.14, -118.12, -118.12, -118.14, -118.12, -118.2, -118.11, -118.17, -118.17, -118.15, -118.17, -122.75, -122.51, -121.29, -121.3, -118.35, -118.95, -117.04, -117.05, -119.78, -121.3, -121.3, -121.3, -121.29, -119.1, -121.72, -121.74, -121.72, -121.8, -121.85, -121.75, -121.78, -121.77, -121.74, -121.82, -121.78, -120.74, -121.27, -121.31, -121.29, -121.31, -121.3, -121.26, -117.24, -117.23, -120.46, -120.46, -118.19, -118.14, -118.18, -118.19, -118.19, -118.11, -118.11, -118.17, -118.11, -118.12, -118.11, -118.19, -118.18, -118.09, -118.13, -118.18, -118.12, -118.13, -118.15, -118.14, -118.14, -118.11, -118.18, -118.15, -118.2, -118.12, -118.14, -118.12, -118.19, -118.11, -118.18, -121.19, -118.07, -122.12, -122.12, -122.1, -118.34, -118.43, -118.37, -118.29, -118.45, -118.39, -118.25, -118.34, -118.42, -118.44, -118.38, -118.44, -118.44, -118.4, -118.29, -118.35, -118.44, -118.27, -118.41, -118.22, -118.27, -118.4, -118.25, -118.34, -118.21, -118.42, -118.34, -118.38, -118.35, -118.4, -118.12, -118.39, -118.26, -118.33, -118.26, -118.43, -118.32, -118.38, -118.24, -118.26, -118.25, -118.4, -118.44, -118.4, -118.31, -118.29, -118.4, -118.17, -118.33, -118.35, -118.25, -118.4, -118.26, -118.27, -118.4, -118.36, -118.32, -118.26, -118.34, -118.35, -118.26, -118.22, -118.36, -118.35, -118.3, -118.22, -118.25, -118.34, -118.37, -118.22, -118.26, -118.24, -118.38, -118.34, -118.43, -118.38, -118.25, -118.43, -118.31, -118.26, -118.26, -118.29, -118.25, -118.39, -118.42, -118.34, -118.4, -118.25, -118.33, -118.19, -118.28, -118.26, -118.34, -118.28, -118.36, -118.37, -118.24, -118.45, -118.43, -118.28, -118.38, -118.4, -118.39, -118.37, -118.25, -118.47, -118.4, -118.26, -118.25, -118.26, -118.31, -118.24, -118.28, -118.24, -118.26, -118.34, -118.26, -118.41, -118.47, -118.24, -118.35, -118.43, -118.37, -118.47, -118.18, -118.4, -118.18, -118.38, -120.87, -120.83, -120.87, -121.96, -121.98, -121.95, -121.91, -121.98, -121.93, -120.83, -118.18, -118.2, -120.13, -120.08, -119.8, -120.09, -118.81, -118.69, -118.69, -118.84, -118.97, -118.99, -118.4, -118.4, -118.41, -121.19, -121.25, -121.19, -121.2, -121.24, -121.24, -121.81, -121.81, -121.8, -118.44, -118.44, -118.44, -118.45, -118.44, -118.44, -118.47, -122.09, -122.11, -122.12, -122.09, -122.14, -121.59, -124.1, -116.09, -117.17, -117.18, -117.18, -122.18, -122.2, -122.2, -122.18, -122.18, -122.2, -122.15, -120.48, -120.48, -120.46, -120.45, -120.49, -122.52, -122.53, -122.52, -122.53, -122.52, -122.39, -122.39, -121.89, -121.92, -121.92, -121.88, -121.9, -121.91, -121.9, -121.9, -121.9, -121.92, -117.56, -118.47, -117.67, -117.67, -117.65, -117.67, -117.67, -117.68, -117.69, -117.67, -117.67, -117.66, -117.63, -121.02, -120.96, -121.07, -121.06, -121.05, -120.99, -121.03, -121.0, -121.0, -121.0, -120.99, -120.99, -121.05, -120.92, -120.99, -120.98, -120.96, -120.99, -121.05, -117.98, -118.01, -118.02, -118.0, -118.0, -117.69, -117.69, -117.71, -117.69, -118.11, -118.08, -118.12, -121.9, -121.9, -121.89, -121.9, -118.14, -118.23, -118.88, -118.87, -118.84, -118.9, -118.87, -122.12, -122.13, -117.18, -117.26, -117.21, -117.28, -117.23, -117.19, -121.64, -121.64, -121.64, -121.65, -121.63, -121.66, -121.65, -120.84, -122.08, -122.09, -122.09, -122.08, -122.09, -122.11, -122.11, -122.1, -122.09, -122.07, -122.09, -117.14, -117.19, -117.14, -117.18, -117.18, -117.23, -117.18, -117.2, -117.2, -122.27, -122.31, -122.3, -122.29, -122.31, -122.3, -122.29, -122.28, -122.3, -119.78, -117.07, -117.07, -117.08, -117.11, -117.09, -121.99, -122.05, -122.05, -122.04, -122.0, -118.96, -117.86, -117.88, -117.93, -117.86, -117.91, -117.87, -117.89, -117.86, -117.85, -117.92, -117.83, -117.88, -117.9, -117.87, -117.83, -117.83, -120.49, -120.49, -117.56, -117.56, -117.56, -121.38, -121.38, -121.38, -118.47, -118.49, -118.37, -118.37, -118.38, -118.41, -118.37, -118.41, -118.5, -118.54, -118.54, -118.56, -118.56, -118.56, -118.54, -118.08, -118.05, -118.1, -118.11, -118.1, -118.08, -118.11, -118.08, -122.6, -122.57, -122.55, -122.57, -122.53, -122.56, -120.85, -120.84, -119.65, -119.66, -122.25, -122.21, -122.26, -122.28, -122.23, -122.25, -122.25, -122.27, -122.21, -122.27, -122.21, -122.27, -122.2, -122.21, -122.21, -122.27, -122.25, -122.19, -122.25, -122.24, -122.22, -121.73, -121.75, -117.3, -117.36, -117.33, -117.33, -117.31, -117.37, -117.29, -117.34, -117.29, -117.3, -117.29, -117.29, -119.29, -120.23, -117.67, -117.55, -117.59, -117.55, -117.56, -117.61, -117.55, -117.61, -117.55, -117.59, -117.67, -117.55, -117.56, -117.84, -117.84, -117.85, -117.87, -117.84, -117.87, -117.84, -117.89, -117.89, -117.85, -117.8, -117.86, -117.84, -117.81, -117.85, -117.87, -120.42, -122.18, -122.19, -122.2, -121.57, -119.18, -119.22, -119.18, -119.16, -119.18, -119.16, -119.16, -119.18, -119.18, -117.25, -121.92, -118.55, -118.53, -118.55, -122.5, -122.49, -122.5, -122.48, -122.49, -116.4, -116.3, -116.36, -116.36, -116.39, -116.38, -116.36, -116.3, -116.39, -116.38, -116.36, -116.53, -116.54, -116.53, -116.49, -116.53, -116.51, -116.55, -116.51, -118.14, -118.04, -118.05, -118.13, -118.18, -118.05, -118.15, -118.2, -118.15, -122.13, -122.13, -122.16, -122.12, -122.17, -122.15, -122.17, -122.13, -122.14, -122.13, -122.14, -118.45, -118.15, -118.16, -118.14, -118.14, -118.13, -118.15, -118.08, -118.08, -118.15, -118.13, -118.15, -118.07, -118.11, -118.11, -118.13, -118.15, -118.07, -118.15, -118.13, -118.15, -118.13, -118.09, -118.12, -118.1, -118.12, -118.14, -120.66, -120.69, -120.68, -120.7, -120.7, -121.17, -117.23, -117.19, -117.22, -122.63, -122.64, -122.64, -122.68, -122.64, -122.67, -122.6, -122.63, -118.08, -118.1, -118.09, -122.3, -122.29, -122.31, -120.63, -121.89, -121.87, -121.87, -121.94, -117.84, -120.84, -120.84, -120.79, -118.42, -122.06, -122.07, -122.07, -122.06, -122.06, -122.06, -122.07, -121.91, -121.87, -121.86, -121.9, -121.9, -121.93, -121.9, -121.88, -121.87, -121.93, -122.38, -120.58, -117.8, -117.75, -117.82, -117.75, -117.77, -117.74, -117.79, -117.76, -117.81, -119.22, -119.04, -119.05, -119.04, -119.02, -117.07, -117.06, -117.04, -117.06, -117.06, -121.66, -121.67, -116.88, -116.87, -117.06, -117.07, -121.29, -121.27, -121.28, -121.31, -121.29, -121.27, -121.28, -121.22, -121.27, -117.54, -117.53, -117.62, -117.57, -117.59, -117.61, -117.61, -117.54, -117.53, -117.57, -117.56, -117.56, -117.57, -117.53, -116.39, -116.39, -116.41, -116.41, -118.39, -118.41, -117.63, -117.6, -117.59, -117.65, -117.59, -117.58, -117.6, -122.22, -122.23, -122.24, -122.42, -122.35, -122.39, -122.35, -122.37, -122.35, -122.38, -122.35, -122.38, -122.39, -117.14, -117.17, -117.21, -117.21, -117.17, -117.2, -117.18, -117.18, -118.35, -118.36, -118.36, -118.39, -118.38, -118.39, -118.35, -122.22, -122.23, -122.25, -122.23, -122.23, -122.19, -122.22, -122.23, -122.24, -122.22, -119.46, -118.54, -118.55, -117.37, -117.37, -122.33, -122.33, -117.67, -117.67, -121.14, -120.96, -120.96, -120.94, -117.39, -117.49, -117.4, -117.46, -117.34, -117.56, -117.37, -117.45, -117.38, -117.47, -117.39, -117.46, -117.34, -117.32, -117.37, -117.33, -117.33, -117.32, -117.42, -117.46, -117.33, -117.46, -121.22, -121.26, -121.21, -121.21, -121.28, -121.29, -121.27, -121.27, -121.2, -122.71, -122.72, -122.72, -122.72, -122.68, -122.69, -122.71, -118.37, -118.38, -118.38, -118.18, -118.07, -118.09, -118.07, -121.25, -121.31, -121.27, -121.23, -121.33, -121.27, -121.27, -121.27, -121.29, -121.27, -121.27, -121.33, -121.23, -121.25, -121.31, -121.29, -121.27, -121.26, -121.25, -121.29, -121.29, -121.29, -117.93, -117.87, -117.92, -121.39, -121.39, -121.59, -121.42, -121.5, -121.51, -121.47, -121.39, -121.49, -121.52, -121.49, -121.42, -121.52, -121.36, -121.52, -121.47, -121.49, -121.46, -121.38, -121.42, -121.5, -121.49, -121.46, -121.41, -121.59, -121.41, -121.41, -121.35, -121.52, -121.4, -121.46, -121.4, -121.49, -121.43, -121.5, -121.43, -121.33, -121.45, -121.5, -121.48, -121.35, -121.33, -121.5, -121.37, -121.36, -121.34, -121.43, -121.49, -121.33, -121.46, -121.43, -121.5, -121.53, -121.47, -121.43, -121.34, -121.42, -121.4, -121.43, -121.4, -121.49, -121.33, -121.43, -121.43, -121.38, -121.49, -121.65, -121.65, -121.66, -121.67, -121.66, -121.65, -121.64, -121.62, -121.65, -121.66, -121.6, -121.62, -122.56, -117.33, -117.28, -117.26, -117.36, -117.28, -117.33, -117.3, -117.33, -122.42, -122.43, -122.41, -122.42, -122.42, -122.26, -122.25, -122.26, -117.6, -117.65, -117.61, -117.63, -117.61, -117.6, -117.61, -117.06, -117.2, -117.19, -117.12, -117.12, -117.14, -117.1, -117.21, -117.25, -117.11, -117.1, -117.06, -117.06, -117.16, -117.08, -117.2, -117.22, -117.12, -117.16, -117.23, -117.16, -117.21, -117.2, -117.17, -117.21, -117.2, -117.1, -117.1, -117.17, -117.11, -117.16, -117.16, -117.13, -117.14, -117.11, -117.15, -117.21, -117.15, -117.25, -117.15, -117.25, -117.22, -117.22, -117.24, -117.18, -117.12, -117.01, -117.13, -117.16, -117.23, -116.97, -117.16, -117.21, -117.05, -117.13, -117.16, -117.1, -117.1, -117.15, -117.23, -117.15, -117.11, -117.13, -117.18, -117.11, -117.17, -117.15, -117.16, -117.19, -117.13, -117.16, -117.24, -117.15, -117.06, -117.22, -117.07, -117.12, -117.13, -117.08, -117.16, -117.17, -117.14, -117.22, -117.12, -116.97, -117.15, -117.13, -117.15, -117.16, -117.2, -117.16, -117.14, -117.04, -117.15, -117.17, -117.25, -117.09, -117.07, -117.17, -117.11, -117.23, -117.22, -117.2, -117.09, -117.16, -117.13, -117.12, -117.21, -117.03, -117.15, -117.21, -117.04, -117.22, -117.09, -117.17, -116.94, -117.2, -117.08, -117.17, -117.16, -117.17, -117.07, -117.13, -117.2, -117.17, -117.1, -117.15, -117.22, -117.23, -117.15, -117.05, -117.17, -117.1, -117.1, -117.17, -117.16, -117.18, -117.16, -117.8, -117.83, -117.82, -117.81, -118.44, -122.41, -122.43, -122.4, -122.43, -122.48, -122.49, -122.44, -122.48, -122.39, -122.4, -122.43, -122.39, -122.47, -122.4, -122.41, -122.4, -122.42, -122.4, -122.4, -122.4, -122.4, -122.4, -122.43, -122.45, -122.44, -122.47, -122.4, -122.4, -122.46, -122.39, -122.39, -122.4, -122.4, -122.4, -122.41, -122.4, -122.41, -122.4, -122.41, -122.42, -122.48, -122.4, -122.39, -122.46, -122.4, -122.45, -122.43, -122.4, -122.42, -122.39, -122.45, -122.4, -122.42, -122.4, -122.38, -122.43, -122.45, -122.42, -122.39, -122.4, -122.41, -122.41, -122.4, -122.42, -122.4, -122.43, -122.41, -122.43, -122.4, -122.41, -122.44, -122.4, -122.41, -122.4, -122.41, -122.43, -122.41, -122.45, -122.42, -122.39, -122.39, -122.42, -122.39, -122.41, -122.48, -122.4, -122.43, -122.39, -122.4, -122.39, -122.4, -118.07, -116.97, -117.01, -121.86, -121.78, -121.83, -121.87, -121.89, -121.86, -121.89, -121.84, -121.98, -121.77, -122.01, -121.83, -121.89, -121.86, -121.93, -121.9, -121.8, -121.86, -121.82, -121.91, -121.84, -121.99, -121.99, -121.91, -121.92, -121.89, -121.97, -121.89, -121.79, -121.95, -121.91, -121.86, -121.81, -121.81, -121.92, -121.93, -121.87, -121.92, -121.86, -121.86, -121.87, -121.88, -121.8, -122.03, -121.86, -121.85, -121.78, -121.84, -121.81, -121.91, -121.88, -121.86, -121.91, -121.83, -121.89, -121.9, -121.94, -121.88, -121.92, -121.8, -121.96, -121.92, -121.84, -121.92, -121.87, -121.81, -121.92, -121.95, -121.89, -121.91, -121.78, -121.86, -121.92, -121.95, -121.93, -121.87, -121.91, -121.92, -121.87, -121.83, -121.82, -121.99, -121.92, -121.81, -121.93, -117.66, -117.65, -117.66, -122.14, -122.15, -122.16, -122.14, -122.14, -122.13, -122.13, -120.66, -120.66, -120.69, -120.67, -120.66, -120.64, -120.68, -120.64, -120.67, -120.66, -117.12, -117.17, -117.14, -117.2, -117.21, -117.2, -117.17, -117.21, -117.19, -117.17, -117.16, -118.11, -122.29, -122.3, -122.29, -122.31, -122.28, -122.33, -122.28, -122.32, -122.3, -122.29, -122.33, -122.28, -122.34, -122.33, -122.33, -122.34, -118.29, -118.31, -118.31, -118.29, -118.29, -118.31, -122.53, -122.55, -122.53, -122.49, -122.52, -122.52, -122.55, -121.96, -121.97, -121.98, -121.95, -121.92, -121.93, -121.97, -121.96, -121.98, -117.04, -121.84, -121.84, -117.07, -119.56, -117.87, -117.83, -117.86, -117.86, -117.89, -117.84, -117.89, -117.89, -117.85, -117.88, -117.87, -117.89, -117.88, -117.87, -117.92, -117.86, -117.86, -117.88, -117.85, -119.65, -119.7, -119.7, -119.7, -119.7, -119.7, -119.75, -119.75, -119.71, -119.72, -122.0, -121.99, -121.94, -121.94, -121.95, -121.94, -121.96, -121.94, -121.95, -121.96, -121.97, -121.97, -121.98, -121.93, -121.97, -118.52, -118.56, -118.55, -118.53, -118.43, -118.43, -118.56, -118.54, -118.5, -118.54, -118.57, -118.42, -118.58, -118.47, -121.99, -122.03, -122.05, -118.07, -118.03, -118.05, -118.05, -118.09, -120.43, -120.44, -120.44, -120.44, -120.43, -120.43, -120.42, -118.45, -118.49, -118.47, -118.49, -118.5, -118.48, -118.49, -118.49, -118.49, -118.47, -118.48, -118.5, -118.5, -118.49, -118.46, -118.47, -118.48, -118.49, -118.48, -118.47, -118.5, -119.07, -119.08, -122.71, -122.74, -122.75, -122.67, -122.77, -122.69, -122.78, -122.65, -122.72, -122.73, -122.67, -122.72, -122.72, -122.75, -122.71, -122.76, -122.69, -122.74, -122.71, -122.74, -122.71, -122.72, -116.98, -116.99, -116.97, -116.97, -116.99, -122.03, -122.0, -122.03, -122.03, -118.54, -118.51, -118.51, -122.48, -122.51, -122.03, -122.01, -122.03, -118.07, -118.07, -118.08, -118.1, -118.07, -121.79, -121.86, -122.82, -122.83, -119.63, -118.43, -118.47, -118.44, -118.44, -118.42, -118.45, -118.46, -118.05, -118.18, -118.17, -118.74, -118.68, -118.78, -118.72, -118.79, -118.81, -118.8, -118.77, -118.76, -118.72, -117.25, -117.26, -121.32, -122.47, -122.48, -120.37, -120.34, -120.37, -121.96, -121.96, -117.45, -118.03, -118.17, -119.94, -119.94, -120.0, -119.97, -118.15, -118.15, -118.15, -122.45, -122.41, -122.45, -122.4, -118.22, -118.16, -117.01, -116.98, -122.17, -117.99, -118.57, -121.32, -121.32, -121.29, -121.3, -121.27, -121.22, -121.24, -121.32, -121.3, -121.34, -121.37, -121.35, -121.29, -121.32, -121.31, -121.26, -121.37, -121.35, -118.41, -118.4, -118.37, -118.4, -122.02, -118.31, -122.04, -122.03, -122.03, -122.03, -122.02, -122.02, -122.05, -122.05, -122.06, -122.01, -122.03, -120.64, -120.63, -118.43, -119.47, -118.54, -118.56, -118.53, -118.47, -118.47, -117.13, -117.14, -117.15, -117.15, -117.16, -117.1, -117.1, -117.13, -117.16, -117.08, -117.15, -117.09, -117.16, -118.07, -118.79, -118.87, -118.87, -118.84, -118.86, -118.93, -118.89, -118.87, -118.89, -118.82, -118.84, -118.91, -118.94, -118.92, -118.88, -118.37, -118.3, -118.37, -118.35, -118.33, -118.34, -118.33, -118.3, -118.35, -118.36, -118.35, -118.36, -118.33, -118.35, -118.35, -118.35, -118.35, -118.33, -121.45, -121.47, -121.46, -121.45, -121.43, -121.43, -121.95, -120.21, -120.12, -120.21, -118.3, -118.27, -119.33, -119.32, -120.88, -120.85, -120.87, -120.83, -120.85, -120.88, -120.88, -117.83, -117.81, -117.82, -117.84, -117.82, -117.79, -117.83, -117.79, -117.83, -116.06, -123.2, -123.2, -123.21, -122.07, -122.02, -122.02, -122.07, -122.02, -118.36, -118.36, -118.35, -117.67, -117.64, -117.65, -117.64, -117.64, -121.96, -121.95, -121.99, -121.96, -121.96, -121.95, -121.93, -122.0, -121.98, -118.55, -118.56, -118.56, -118.56, -118.57, -118.58, -118.59, -122.21, -122.22, -122.22, -122.23, -122.23, -122.26, -122.23, -116.95, -120.82, -118.4, -118.4, -118.45, -118.47, -118.47, -118.5, -118.45, -118.47, -118.45, -118.51, -118.46, -118.46, -119.29, -119.25, -119.27, -119.21, -119.24, -119.21, -119.25, -119.26, -119.21, -119.23, -119.3, -119.21, -119.21, -117.32, -117.34, -117.35, -117.29, -117.33, -117.33, -117.35, -119.29, -119.35, -119.32, -119.31, -119.31, -119.33, -119.3, -119.33, -119.32, -119.35, -117.23, -117.22, -117.23, -117.24, -117.25, -117.23, -117.22, -117.25, -117.24, -117.28, -117.24, -117.21, -117.84, -117.86, -122.06, -122.05, -122.06, -122.06, -122.02, -122.06, -122.04, -122.06, -122.06, -122.09, -122.06, -122.05, -122.06, -122.06, -122.02, -122.06, -121.77, -121.77, -122.93, -117.91, -117.89, -117.93, -117.91, -117.88, -118.62, -118.64, -118.64, -118.62, -118.63, -118.39, -118.39, -118.38, -118.38, -118.37, -118.36, -118.34, -118.45, -118.46, -121.54, -121.58, -121.54, -121.55, -118.4, -118.83, -118.82, -118.01, -117.99, -118.01, -117.99, -118.01, -117.99, -117.99, -118.02, -118.44, -118.44, -118.04, -118.0, -118.05, -118.01, -118.06, -118.06, -117.99, -118.03, -117.24, -117.24, -117.25, -123.35, -122.21, -117.12, -122.82, -122.81, -122.81, -122.79, -121.75, -121.8, -121.73, -121.72, -118.59, -118.58, -118.6, -118.62, -118.57, -118.61, -118.6, -118.6, -118.63, -118.61, -117.78, -117.83, -122.65, -121.64, -121.63, -121.64, -121.62, -121.64, -117.12, -117.07, -117.06, -116.4], \"marker\": {\"color\": [2, 2, 2, 2, 0, 0, 0, 0, 0, 0, 0, 0, 0, 0, 2, 2, 2, 2, 2, 2, 2, 2, 2, 2, 2, 0, 0, 2, 2, 2, 2, 2, 2, 2, 2, 2, 2, 2, 2, 2, 2, 2, 2, 2, 2, 2, 2, 2, 2, 2, 1, 1, 0, 0, 0, 0, 0, 0, 0, 0, 0, 2, 2, 2, 2, 0, 0, 2, 2, 2, 2, 2, 2, 0, 0, 2, 2, 0, 0, 0, 0, 0, 0, 0, 0, 0, 0, 0, 0, 0, 2, 2, 2, 2, 2, 2, 2, 2, 2, 2, 2, 2, 2, 2, 2, 2, 2, 2, 2, 2, 2, 2, 2, 2, 2, 2, 2, 2, 2, 2, 2, 2, 2, 2, 2, 2, 2, 2, 2, 2, 2, 2, 2, 2, 2, 2, 2, 2, 2, 2, 2, 2, 2, 2, 2, 2, 0, 0, 0, 0, 0, 0, 0, 0, 0, 0, 0, 0, 2, 2, 2, 2, 2, 2, 2, 0, 0, 2, 2, 2, 2, 2, 2, 2, 2, 2, 2, 2, 2, 2, 2, 2, 2, 0, 0, 2, 0, 2, 2, 2, 2, 2, 2, 2, 2, 2, 2, 2, 2, 2, 2, 2, 2, 2, 2, 2, 2, 2, 2, 2, 2, 2, 2, 2, 0, 0, 0, 0, 0, 2, 0, 2, 2, 2, 2, 2, 2, 2, 2, 2, 2, 2, 2, 2, 2, 2, 0, 0, 0, 0, 0, 0, 0, 0, 0, 0, 2, 2, 2, 2, 2, 2, 0, 0, 0, 2, 2, 2, 2, 2, 2, 2, 2, 2, 2, 2, 2, 0, 0, 0, 0, 0, 2, 2, 2, 2, 2, 2, 2, 2, 2, 2, 2, 0, 0, 0, 0, 2, 2, 2, 2, 2, 2, 0, 0, 2, 2, 2, 2, 2, 2, 2, 2, 2, 2, 2, 1, 1, 1, 1, 1, 1, 1, 1, 2, 2, 2, 2, 2, 2, 2, 2, 2, 2, 2, 2, 0, 2, 2, 2, 2, 2, 2, 2, 2, 2, 2, 2, 2, 0, 0, 0, 0, 2, 2, 2, 2, 2, 2, 2, 2, 0, 1, 0, 0, 0, 0, 0, 0, 0, 0, 0, 0, 2, 0, 0, 0, 0, 2, 2, 2, 2, 2, 2, 2, 2, 0, 0, 0, 0, 0, 0, 0, 0, 0, 0, 0, 0, 1, 2, 2, 2, 2, 2, 2, 2, 2, 2, 2, 2, 2, 2, 2, 0, 0, 0, 0, 2, 2, 2, 2, 2, 2, 2, 2, 2, 2, 2, 2, 2, 2, 2, 2, 2, 2, 0, 2, 2, 2, 2, 2, 1, 2, 2, 2, 2, 2, 2, 0, 0, 0, 0, 0, 0, 0, 0, 2, 2, 2, 2, 0, 0, 0, 0, 0, 0, 2, 2, 2, 2, 2, 0, 0, 0, 0, 0, 0, 0, 0, 0, 0, 0, 0, 0, 0, 0, 2, 2, 2, 2, 0, 0, 2, 2, 2, 2, 2, 0, 0, 0, 2, 2, 2, 2, 2, 2, 2, 0, 0, 0, 0, 0, 0, 0, 0, 2, 2, 2, 2, 2, 2, 2, 2, 2, 2, 2, 2, 2, 2, 2, 2, 2, 2, 2, 0, 0, 0, 0, 0, 0, 0, 2, 2, 2, 2, 2, 2, 2, 2, 2, 2, 2, 0, 0, 0, 0, 0, 0, 0, 0, 0, 0, 0, 0, 0, 0, 0, 0, 0, 2, 2, 2, 2, 2, 2, 2, 2, 2, 2, 2, 0, 2, 2, 2, 2, 2, 2, 2, 2, 2, 2, 2, 2, 2, 2, 2, 2, 1, 1, 1, 1, 0, 0, 0, 0, 0, 0, 0, 0, 0, 0, 0, 0, 0, 0, 2, 2, 2, 0, 0, 0, 0, 0, 0, 0, 0, 0, 0, 0, 0, 2, 2, 2, 2, 2, 2, 2, 2, 2, 2, 1, 2, 1, 0, 0, 2, 2, 2, 2, 2, 0, 0, 0, 0, 0, 0, 0, 0, 0, 0, 0, 0, 0, 0, 0, 0, 0, 0, 0, 0, 0, 0, 0, 0, 0, 0, 0, 0, 0, 0, 0, 0, 0, 0, 0, 0, 0, 0, 0, 0, 0, 0, 0, 0, 0, 0, 0, 0, 0, 0, 0, 0, 0, 0, 2, 2, 2, 2, 2, 2, 2, 2, 2, 2, 2, 2, 2, 2, 2, 2, 2, 2, 2, 2, 2, 2, 2, 2, 2, 2, 2, 2, 0, 0, 0, 0, 0, 0, 2, 2, 2, 2, 2, 2, 2, 2, 2, 2, 2, 2, 2, 2, 2, 2, 2, 2, 2, 2, 0, 2, 2, 0, 2, 2, 2, 2, 2, 2, 0, 0, 0, 0, 0, 1, 0, 0, 0, 2, 2, 0, 0, 0, 0, 2, 2, 2, 2, 2, 2, 2, 2, 2, 2, 0, 0, 0, 0, 0, 0, 0, 0, 0, 0, 0, 0, 0, 0, 2, 2, 2, 2, 0, 0, 2, 2, 2, 2, 2, 2, 2, 2, 0, 0, 0, 2, 2, 2, 2, 2, 2, 2, 2, 2, 2, 2, 2, 2, 2, 2, 2, 2, 2, 2, 2, 2, 2, 2, 2, 2, 2, 2, 2, 2, 2, 2, 2, 2, 2, 2, 2, 2, 2, 2, 2, 2, 2, 2, 2, 2, 2, 2, 2, 2, 2, 2, 2, 2, 2, 2, 2, 2, 2, 2, 2, 2, 2, 2, 2, 2, 0, 0, 0, 0, 0, 0, 0, 2, 2, 2, 2, 2, 2, 2, 2, 2, 2, 2, 2, 2, 2, 2, 2, 2, 2, 2, 2, 2, 2, 2, 2, 2, 2, 2, 2, 2, 2, 2, 2, 2, 2, 2, 2, 2, 2, 2, 0, 0, 0, 2, 2, 2, 2, 2, 2, 2, 2, 2, 2, 2, 2, 2, 2, 2, 2, 2, 2, 2, 2, 2, 2, 2, 2, 2, 2, 1, 2, 2, 2, 2, 2, 2, 2, 2, 2, 2, 2, 2, 2, 0, 0, 0, 0, 2, 2, 2, 2, 0, 0, 0, 0, 0, 0, 0, 0, 0, 0, 0, 0, 0, 0, 0, 0, 0, 0, 0, 0, 0, 0, 0, 0, 2, 2, 2, 2, 2, 2, 2, 2, 2, 2, 2, 2, 2, 2, 2, 2, 2, 2, 2, 2, 2, 2, 2, 2, 2, 2, 2, 2, 2, 2, 2, 2, 2, 2, 2, 0, 2, 0, 0, 0, 2, 2, 2, 2, 2, 2, 2, 2, 2, 2, 2, 2, 2, 2, 2, 2, 2, 2, 2, 2, 2, 2, 2, 2, 2, 2, 2, 2, 2, 2, 2, 2, 2, 2, 2, 2, 2, 2, 2, 2, 2, 2, 2, 2, 2, 2, 2, 2, 2, 2, 2, 2, 2, 2, 2, 2, 2, 2, 2, 2, 2, 2, 2, 2, 2, 2, 2, 2, 2, 2, 2, 2, 2, 2, 2, 2, 2, 2, 2, 2, 2, 2, 2, 2, 2, 2, 2, 2, 2, 2, 2, 2, 2, 2, 2, 2, 2, 2, 2, 2, 2, 2, 2, 2, 2, 2, 2, 2, 2, 2, 2, 2, 2, 2, 2, 2, 2, 2, 2, 2, 2, 2, 2, 2, 2, 2, 2, 2, 0, 0, 0, 0, 0, 0, 0, 0, 0, 0, 2, 2, 0, 0, 0, 0, 2, 2, 2, 2, 0, 0, 2, 2, 2, 0, 0, 0, 0, 0, 0, 0, 0, 0, 2, 2, 2, 2, 2, 2, 2, 0, 0, 0, 0, 0, 0, 1, 2, 2, 2, 2, 0, 0, 0, 0, 0, 0, 0, 0, 0, 0, 0, 0, 0, 0, 0, 0, 0, 0, 0, 0, 0, 0, 0, 0, 0, 0, 0, 0, 0, 2, 2, 2, 2, 2, 2, 2, 2, 2, 2, 2, 2, 2, 0, 0, 0, 0, 0, 0, 0, 0, 0, 0, 0, 0, 0, 0, 0, 0, 0, 0, 0, 2, 2, 2, 2, 2, 2, 2, 2, 2, 2, 2, 2, 0, 0, 0, 0, 2, 2, 2, 2, 2, 2, 2, 0, 0, 2, 2, 2, 2, 2, 2, 0, 0, 0, 0, 0, 0, 0, 0, 0, 0, 0, 0, 0, 0, 0, 0, 0, 0, 0, 2, 2, 2, 2, 2, 2, 2, 2, 2, 0, 0, 0, 0, 0, 0, 0, 0, 0, 0, 2, 2, 2, 2, 2, 0, 0, 0, 0, 0, 2, 2, 2, 2, 2, 2, 2, 2, 2, 2, 2, 2, 2, 2, 2, 2, 2, 0, 0, 2, 2, 2, 0, 0, 0, 2, 2, 2, 2, 2, 2, 2, 2, 2, 2, 2, 2, 2, 2, 2, 2, 2, 2, 2, 2, 2, 2, 2, 0, 0, 0, 0, 0, 0, 0, 0, 0, 0, 0, 0, 0, 0, 0, 0, 0, 0, 0, 0, 0, 0, 0, 0, 0, 0, 0, 0, 0, 0, 0, 0, 0, 2, 2, 2, 2, 2, 2, 2, 2, 2, 2, 2, 2, 2, 0, 2, 2, 2, 2, 2, 2, 2, 2, 2, 2, 2, 2, 2, 2, 2, 2, 2, 2, 2, 2, 2, 2, 2, 2, 2, 2, 2, 2, 2, 2, 0, 0, 1, 1, 2, 2, 2, 2, 2, 2, 2, 2, 2, 2, 0, 2, 2, 2, 0, 0, 0, 0, 0, 2, 2, 2, 2, 2, 2, 2, 2, 2, 2, 2, 2, 2, 2, 2, 2, 2, 2, 2, 2, 2, 2, 2, 2, 2, 2, 2, 2, 0, 0, 0, 0, 0, 0, 0, 0, 0, 0, 0, 2, 2, 2, 2, 2, 2, 2, 2, 2, 2, 2, 2, 2, 2, 2, 2, 2, 2, 2, 2, 2, 2, 2, 2, 2, 2, 2, 0, 0, 0, 0, 0, 0, 2, 2, 2, 0, 0, 0, 0, 0, 0, 0, 0, 2, 2, 2, 0, 0, 0, 0, 0, 0, 0, 0, 2, 0, 0, 0, 2, 0, 0, 0, 0, 0, 0, 0, 0, 0, 0, 0, 0, 0, 0, 0, 0, 0, 0, 0, 2, 2, 2, 2, 2, 2, 2, 2, 2, 2, 0, 0, 0, 0, 2, 2, 2, 2, 2, 0, 0, 2, 2, 2, 2, 0, 0, 0, 0, 0, 0, 0, 0, 0, 2, 2, 2, 2, 2, 2, 2, 2, 2, 2, 2, 2, 2, 2, 2, 2, 2, 2, 2, 2, 2, 2, 2, 2, 2, 2, 2, 1, 1, 1, 1, 1, 1, 1, 1, 1, 1, 1, 1, 1, 2, 2, 2, 2, 2, 2, 2, 2, 2, 2, 2, 2, 2, 2, 2, 0, 0, 0, 0, 0, 0, 0, 0, 0, 0, 0, 2, 2, 2, 2, 0, 0, 2, 2, 0, 0, 0, 0, 2, 2, 2, 2, 2, 2, 2, 2, 2, 2, 2, 2, 2, 2, 2, 2, 2, 2, 2, 2, 2, 2, 0, 0, 0, 0, 0, 0, 0, 0, 0, 0, 0, 0, 0, 0, 0, 0, 2, 2, 2, 2, 2, 2, 2, 0, 0, 0, 0, 0, 0, 0, 0, 0, 0, 0, 0, 0, 0, 0, 0, 0, 0, 0, 0, 0, 0, 2, 2, 2, 0, 0, 0, 0, 0, 0, 0, 0, 0, 0, 0, 0, 0, 0, 0, 0, 0, 0, 0, 0, 0, 0, 0, 0, 0, 0, 0, 0, 0, 0, 0, 0, 0, 0, 0, 0, 0, 0, 0, 0, 0, 0, 0, 0, 0, 0, 0, 0, 0, 0, 0, 0, 0, 0, 0, 0, 0, 0, 0, 0, 0, 0, 0, 0, 0, 0, 0, 0, 0, 0, 0, 0, 0, 0, 0, 0, 0, 0, 0, 2, 2, 2, 2, 2, 2, 2, 2, 0, 0, 0, 0, 0, 0, 0, 0, 2, 2, 2, 2, 2, 2, 2, 2, 2, 2, 2, 2, 2, 2, 2, 2, 2, 2, 2, 2, 2, 2, 2, 2, 2, 2, 2, 2, 2, 2, 2, 2, 2, 2, 2, 2, 2, 2, 2, 2, 2, 2, 2, 2, 2, 2, 2, 2, 2, 2, 2, 2, 2, 2, 2, 2, 2, 2, 2, 2, 2, 2, 2, 2, 2, 2, 2, 2, 2, 2, 2, 2, 2, 2, 2, 2, 2, 2, 2, 2, 2, 2, 2, 2, 2, 2, 2, 2, 2, 2, 2, 2, 2, 2, 2, 2, 2, 2, 2, 2, 2, 2, 2, 2, 2, 2, 2, 2, 2, 2, 2, 2, 2, 2, 2, 2, 2, 2, 2, 2, 2, 2, 2, 2, 2, 2, 2, 2, 2, 2, 2, 2, 2, 2, 2, 2, 2, 2, 2, 2, 2, 2, 2, 2, 2, 2, 2, 2, 2, 2, 0, 0, 0, 0, 0, 0, 0, 0, 0, 0, 0, 0, 0, 0, 0, 0, 0, 0, 0, 0, 0, 0, 0, 0, 0, 0, 0, 0, 0, 0, 0, 0, 0, 0, 0, 0, 0, 0, 0, 0, 0, 0, 0, 0, 0, 0, 0, 0, 0, 0, 0, 0, 0, 0, 0, 0, 0, 0, 0, 0, 0, 0, 0, 0, 0, 0, 0, 0, 0, 0, 0, 0, 0, 0, 0, 0, 0, 0, 0, 0, 0, 0, 0, 0, 0, 0, 0, 0, 0, 0, 0, 2, 2, 2, 0, 0, 0, 0, 0, 0, 0, 0, 0, 0, 0, 0, 0, 0, 0, 0, 0, 0, 0, 0, 0, 0, 0, 0, 0, 0, 0, 0, 0, 0, 0, 0, 0, 0, 0, 0, 0, 0, 0, 0, 0, 0, 0, 0, 0, 0, 0, 0, 0, 0, 0, 0, 0, 0, 0, 0, 0, 0, 0, 0, 0, 0, 0, 0, 0, 0, 0, 0, 0, 0, 0, 0, 0, 0, 0, 0, 0, 0, 0, 0, 0, 0, 0, 0, 0, 2, 2, 2, 0, 0, 0, 0, 0, 0, 0, 0, 0, 0, 0, 0, 0, 0, 0, 0, 0, 2, 2, 2, 2, 2, 2, 2, 2, 2, 2, 2, 2, 0, 0, 0, 0, 0, 0, 0, 0, 0, 0, 0, 0, 0, 0, 0, 0, 2, 2, 2, 2, 2, 2, 0, 0, 0, 0, 0, 0, 0, 0, 0, 0, 0, 0, 0, 0, 0, 0, 2, 0, 0, 2, 0, 2, 2, 2, 2, 2, 2, 2, 2, 2, 2, 2, 2, 2, 2, 2, 2, 2, 2, 2, 2, 2, 2, 2, 2, 2, 2, 2, 2, 2, 0, 0, 0, 0, 0, 0, 0, 0, 0, 0, 0, 0, 0, 0, 0, 2, 2, 2, 2, 2, 2, 2, 2, 2, 2, 2, 2, 2, 2, 0, 0, 0, 2, 2, 2, 2, 2, 2, 2, 2, 2, 2, 2, 2, 2, 2, 2, 2, 2, 2, 2, 2, 2, 2, 2, 2, 2, 2, 2, 2, 2, 2, 2, 2, 2, 2, 2, 0, 0, 0, 0, 0, 0, 0, 0, 0, 0, 0, 0, 0, 0, 0, 0, 0, 0, 0, 0, 0, 0, 2, 2, 2, 2, 2, 0, 0, 0, 0, 2, 2, 2, 0, 0, 0, 0, 0, 2, 2, 2, 2, 2, 0, 0, 0, 0, 0, 2, 2, 2, 2, 2, 2, 2, 2, 2, 2, 2, 2, 2, 2, 2, 2, 2, 2, 2, 2, 2, 2, 0, 0, 0, 0, 0, 0, 0, 0, 2, 2, 2, 0, 0, 0, 0, 2, 2, 2, 0, 0, 0, 0, 2, 2, 2, 2, 0, 2, 2, 0, 0, 0, 0, 0, 0, 0, 0, 0, 0, 0, 0, 0, 0, 0, 0, 0, 0, 2, 2, 2, 2, 0, 2, 0, 0, 0, 0, 0, 0, 0, 0, 0, 0, 0, 1, 1, 2, 2, 2, 2, 2, 2, 2, 2, 2, 2, 2, 2, 2, 2, 2, 2, 2, 2, 2, 2, 2, 2, 2, 2, 2, 2, 2, 2, 2, 2, 2, 2, 2, 2, 2, 2, 2, 2, 2, 2, 2, 2, 2, 2, 2, 2, 2, 2, 2, 2, 2, 2, 2, 2, 0, 0, 0, 0, 0, 0, 0, 0, 0, 0, 2, 2, 0, 0, 0, 0, 0, 0, 0, 0, 0, 2, 2, 2, 2, 2, 2, 2, 2, 2, 2, 1, 1, 1, 0, 0, 0, 0, 0, 2, 2, 2, 2, 2, 2, 2, 2, 0, 0, 0, 0, 0, 0, 0, 0, 0, 2, 2, 2, 2, 2, 2, 2, 0, 0, 0, 0, 0, 0, 0, 2, 0, 2, 2, 2, 2, 2, 2, 2, 2, 2, 2, 2, 2, 2, 2, 2, 2, 2, 2, 2, 2, 2, 2, 2, 2, 2, 2, 2, 2, 2, 2, 2, 2, 0, 0, 0, 0, 0, 0, 0, 0, 0, 0, 2, 2, 2, 2, 2, 2, 2, 2, 2, 2, 2, 2, 2, 2, 0, 0, 0, 0, 0, 0, 0, 0, 0, 0, 0, 0, 0, 0, 0, 0, 0, 0, 1, 2, 2, 2, 2, 2, 2, 2, 2, 2, 2, 2, 2, 2, 2, 2, 2, 2, 2, 2, 0, 0, 0, 0, 2, 2, 2, 2, 2, 2, 2, 2, 2, 2, 2, 2, 2, 2, 2, 2, 2, 2, 2, 2, 2, 2, 2, 2, 1, 1, 2, 0, 0, 0, 0, 0, 0, 0, 0, 2, 2, 2, 2, 2, 2, 2, 2, 2, 2, 2, 2, 1, 0, 0, 0, 0, 0, 2, 2, 2, 2], \"coloraxis\": \"coloraxis\"}, \"name\": \"\", \"showlegend\": false, \"type\": \"scattergeo\"}],\n",
              "                        {\"coloraxis\": {\"colorbar\": {\"title\": {\"text\": \"Cluster\"}}, \"colorscale\": [[0.0, \"#0d0887\"], [0.1111111111111111, \"#46039f\"], [0.2222222222222222, \"#7201a8\"], [0.3333333333333333, \"#9c179e\"], [0.4444444444444444, \"#bd3786\"], [0.5555555555555556, \"#d8576b\"], [0.6666666666666666, \"#ed7953\"], [0.7777777777777778, \"#fb9f3a\"], [0.8888888888888888, \"#fdca26\"], [1.0, \"#f0f921\"]]}, \"geo\": {\"center\": {}, \"domain\": {\"x\": [0.0, 0.98], \"y\": [0.0, 1.0]}, \"scope\": \"usa\"}, \"height\": 600, \"legend\": {\"tracegroupgap\": 0}, \"margin\": {\"t\": 60}, \"template\": {\"data\": {\"bar\": [{\"error_x\": {\"color\": \"#2a3f5f\"}, \"error_y\": {\"color\": \"#2a3f5f\"}, \"marker\": {\"line\": {\"color\": \"#E5ECF6\", \"width\": 0.5}}, \"type\": \"bar\"}], \"barpolar\": [{\"marker\": {\"line\": {\"color\": \"#E5ECF6\", \"width\": 0.5}}, \"type\": \"barpolar\"}], \"carpet\": [{\"aaxis\": {\"endlinecolor\": \"#2a3f5f\", \"gridcolor\": \"white\", \"linecolor\": \"white\", \"minorgridcolor\": \"white\", \"startlinecolor\": \"#2a3f5f\"}, \"baxis\": {\"endlinecolor\": \"#2a3f5f\", \"gridcolor\": \"white\", \"linecolor\": \"white\", \"minorgridcolor\": \"white\", \"startlinecolor\": \"#2a3f5f\"}, \"type\": \"carpet\"}], \"choropleth\": [{\"colorbar\": {\"outlinewidth\": 0, \"ticks\": \"\"}, \"type\": \"choropleth\"}], \"contour\": [{\"colorbar\": {\"outlinewidth\": 0, \"ticks\": \"\"}, \"colorscale\": [[0.0, \"#0d0887\"], [0.1111111111111111, \"#46039f\"], [0.2222222222222222, \"#7201a8\"], [0.3333333333333333, \"#9c179e\"], [0.4444444444444444, \"#bd3786\"], [0.5555555555555556, \"#d8576b\"], [0.6666666666666666, \"#ed7953\"], [0.7777777777777778, \"#fb9f3a\"], [0.8888888888888888, \"#fdca26\"], [1.0, \"#f0f921\"]], \"type\": \"contour\"}], \"contourcarpet\": [{\"colorbar\": {\"outlinewidth\": 0, \"ticks\": \"\"}, \"type\": \"contourcarpet\"}], \"heatmap\": [{\"colorbar\": {\"outlinewidth\": 0, \"ticks\": \"\"}, \"colorscale\": [[0.0, \"#0d0887\"], [0.1111111111111111, \"#46039f\"], [0.2222222222222222, \"#7201a8\"], [0.3333333333333333, \"#9c179e\"], [0.4444444444444444, \"#bd3786\"], [0.5555555555555556, \"#d8576b\"], [0.6666666666666666, \"#ed7953\"], [0.7777777777777778, \"#fb9f3a\"], [0.8888888888888888, \"#fdca26\"], [1.0, \"#f0f921\"]], \"type\": \"heatmap\"}], \"heatmapgl\": [{\"colorbar\": {\"outlinewidth\": 0, \"ticks\": \"\"}, \"colorscale\": [[0.0, \"#0d0887\"], [0.1111111111111111, \"#46039f\"], [0.2222222222222222, \"#7201a8\"], [0.3333333333333333, \"#9c179e\"], [0.4444444444444444, \"#bd3786\"], [0.5555555555555556, \"#d8576b\"], [0.6666666666666666, \"#ed7953\"], [0.7777777777777778, \"#fb9f3a\"], [0.8888888888888888, \"#fdca26\"], [1.0, \"#f0f921\"]], \"type\": \"heatmapgl\"}], \"histogram\": [{\"marker\": {\"colorbar\": {\"outlinewidth\": 0, \"ticks\": \"\"}}, \"type\": \"histogram\"}], \"histogram2d\": [{\"colorbar\": {\"outlinewidth\": 0, \"ticks\": \"\"}, \"colorscale\": [[0.0, \"#0d0887\"], [0.1111111111111111, \"#46039f\"], [0.2222222222222222, \"#7201a8\"], [0.3333333333333333, \"#9c179e\"], [0.4444444444444444, \"#bd3786\"], [0.5555555555555556, \"#d8576b\"], [0.6666666666666666, \"#ed7953\"], [0.7777777777777778, \"#fb9f3a\"], [0.8888888888888888, \"#fdca26\"], [1.0, \"#f0f921\"]], \"type\": \"histogram2d\"}], \"histogram2dcontour\": [{\"colorbar\": {\"outlinewidth\": 0, \"ticks\": \"\"}, \"colorscale\": [[0.0, \"#0d0887\"], [0.1111111111111111, \"#46039f\"], [0.2222222222222222, \"#7201a8\"], [0.3333333333333333, \"#9c179e\"], [0.4444444444444444, \"#bd3786\"], [0.5555555555555556, \"#d8576b\"], [0.6666666666666666, \"#ed7953\"], [0.7777777777777778, \"#fb9f3a\"], [0.8888888888888888, \"#fdca26\"], [1.0, \"#f0f921\"]], \"type\": \"histogram2dcontour\"}], \"mesh3d\": [{\"colorbar\": {\"outlinewidth\": 0, \"ticks\": \"\"}, \"type\": \"mesh3d\"}], \"parcoords\": [{\"line\": {\"colorbar\": {\"outlinewidth\": 0, \"ticks\": \"\"}}, \"type\": \"parcoords\"}], \"scatter\": [{\"marker\": {\"colorbar\": {\"outlinewidth\": 0, \"ticks\": \"\"}}, \"type\": \"scatter\"}], \"scatter3d\": [{\"line\": {\"colorbar\": {\"outlinewidth\": 0, \"ticks\": \"\"}}, \"marker\": {\"colorbar\": {\"outlinewidth\": 0, \"ticks\": \"\"}}, \"type\": \"scatter3d\"}], \"scattercarpet\": [{\"marker\": {\"colorbar\": {\"outlinewidth\": 0, \"ticks\": \"\"}}, \"type\": \"scattercarpet\"}], \"scattergeo\": [{\"marker\": {\"colorbar\": {\"outlinewidth\": 0, \"ticks\": \"\"}}, \"type\": \"scattergeo\"}], \"scattergl\": [{\"marker\": {\"colorbar\": {\"outlinewidth\": 0, \"ticks\": \"\"}}, \"type\": \"scattergl\"}], \"scattermapbox\": [{\"marker\": {\"colorbar\": {\"outlinewidth\": 0, \"ticks\": \"\"}}, \"type\": \"scattermapbox\"}], \"scatterpolar\": [{\"marker\": {\"colorbar\": {\"outlinewidth\": 0, \"ticks\": \"\"}}, \"type\": \"scatterpolar\"}], \"scatterpolargl\": [{\"marker\": {\"colorbar\": {\"outlinewidth\": 0, \"ticks\": \"\"}}, \"type\": \"scatterpolargl\"}], \"scatterternary\": [{\"marker\": {\"colorbar\": {\"outlinewidth\": 0, \"ticks\": \"\"}}, \"type\": \"scatterternary\"}], \"surface\": [{\"colorbar\": {\"outlinewidth\": 0, \"ticks\": \"\"}, \"colorscale\": [[0.0, \"#0d0887\"], [0.1111111111111111, \"#46039f\"], [0.2222222222222222, \"#7201a8\"], [0.3333333333333333, \"#9c179e\"], [0.4444444444444444, \"#bd3786\"], [0.5555555555555556, \"#d8576b\"], [0.6666666666666666, \"#ed7953\"], [0.7777777777777778, \"#fb9f3a\"], [0.8888888888888888, \"#fdca26\"], [1.0, \"#f0f921\"]], \"type\": \"surface\"}], \"table\": [{\"cells\": {\"fill\": {\"color\": \"#EBF0F8\"}, \"line\": {\"color\": \"white\"}}, \"header\": {\"fill\": {\"color\": \"#C8D4E3\"}, \"line\": {\"color\": \"white\"}}, \"type\": \"table\"}]}, \"layout\": {\"annotationdefaults\": {\"arrowcolor\": \"#2a3f5f\", \"arrowhead\": 0, \"arrowwidth\": 1}, \"colorscale\": {\"diverging\": [[0, \"#8e0152\"], [0.1, \"#c51b7d\"], [0.2, \"#de77ae\"], [0.3, \"#f1b6da\"], [0.4, \"#fde0ef\"], [0.5, \"#f7f7f7\"], [0.6, \"#e6f5d0\"], [0.7, \"#b8e186\"], [0.8, \"#7fbc41\"], [0.9, \"#4d9221\"], [1, \"#276419\"]], \"sequential\": [[0.0, \"#0d0887\"], [0.1111111111111111, \"#46039f\"], [0.2222222222222222, \"#7201a8\"], [0.3333333333333333, \"#9c179e\"], [0.4444444444444444, \"#bd3786\"], [0.5555555555555556, \"#d8576b\"], [0.6666666666666666, \"#ed7953\"], [0.7777777777777778, \"#fb9f3a\"], [0.8888888888888888, \"#fdca26\"], [1.0, \"#f0f921\"]], \"sequentialminus\": [[0.0, \"#0d0887\"], [0.1111111111111111, \"#46039f\"], [0.2222222222222222, \"#7201a8\"], [0.3333333333333333, \"#9c179e\"], [0.4444444444444444, \"#bd3786\"], [0.5555555555555556, \"#d8576b\"], [0.6666666666666666, \"#ed7953\"], [0.7777777777777778, \"#fb9f3a\"], [0.8888888888888888, \"#fdca26\"], [1.0, \"#f0f921\"]]}, \"colorway\": [\"#636efa\", \"#EF553B\", \"#00cc96\", \"#ab63fa\", \"#FFA15A\", \"#19d3f3\", \"#FF6692\", \"#B6E880\", \"#FF97FF\", \"#FECB52\"], \"font\": {\"color\": \"#2a3f5f\"}, \"geo\": {\"bgcolor\": \"white\", \"lakecolor\": \"white\", \"landcolor\": \"#E5ECF6\", \"showlakes\": true, \"showland\": true, \"subunitcolor\": \"white\"}, \"hoverlabel\": {\"align\": \"left\"}, \"hovermode\": \"closest\", \"mapbox\": {\"style\": \"light\"}, \"paper_bgcolor\": \"white\", \"plot_bgcolor\": \"#E5ECF6\", \"polar\": {\"angularaxis\": {\"gridcolor\": \"white\", \"linecolor\": \"white\", \"ticks\": \"\"}, \"bgcolor\": \"#E5ECF6\", \"radialaxis\": {\"gridcolor\": \"white\", \"linecolor\": \"white\", \"ticks\": \"\"}}, \"scene\": {\"xaxis\": {\"backgroundcolor\": \"#E5ECF6\", \"gridcolor\": \"white\", \"gridwidth\": 2, \"linecolor\": \"white\", \"showbackground\": true, \"ticks\": \"\", \"zerolinecolor\": \"white\"}, \"yaxis\": {\"backgroundcolor\": \"#E5ECF6\", \"gridcolor\": \"white\", \"gridwidth\": 2, \"linecolor\": \"white\", \"showbackground\": true, \"ticks\": \"\", \"zerolinecolor\": \"white\"}, \"zaxis\": {\"backgroundcolor\": \"#E5ECF6\", \"gridcolor\": \"white\", \"gridwidth\": 2, \"linecolor\": \"white\", \"showbackground\": true, \"ticks\": \"\", \"zerolinecolor\": \"white\"}}, \"shapedefaults\": {\"line\": {\"color\": \"#2a3f5f\"}}, \"ternary\": {\"aaxis\": {\"gridcolor\": \"white\", \"linecolor\": \"white\", \"ticks\": \"\"}, \"baxis\": {\"gridcolor\": \"white\", \"linecolor\": \"white\", \"ticks\": \"\"}, \"bgcolor\": \"#E5ECF6\", \"caxis\": {\"gridcolor\": \"white\", \"linecolor\": \"white\", \"ticks\": \"\"}}, \"title\": {\"x\": 0.05}, \"xaxis\": {\"automargin\": true, \"gridcolor\": \"white\", \"linecolor\": \"white\", \"ticks\": \"\", \"zerolinecolor\": \"white\", \"zerolinewidth\": 2}, \"yaxis\": {\"automargin\": true, \"gridcolor\": \"white\", \"linecolor\": \"white\", \"ticks\": \"\", \"zerolinecolor\": \"white\", \"zerolinewidth\": 2}}}},\n",
              "                        {\"responsive\": true}\n",
              "                    ).then(function(){\n",
              "                            \n",
              "var gd = document.getElementById('b7e4385a-185b-4428-bb4c-761680e1b8a7');\n",
              "var x = new MutationObserver(function (mutations, observer) {{\n",
              "        var display = window.getComputedStyle(gd).display;\n",
              "        if (!display || display === 'none') {{\n",
              "            console.log([gd, 'removed!']);\n",
              "            Plotly.purge(gd);\n",
              "            observer.disconnect();\n",
              "        }}\n",
              "}});\n",
              "\n",
              "// Listen for the removal of the full notebook cells\n",
              "var notebookContainer = gd.closest('#notebook-container');\n",
              "if (notebookContainer) {{\n",
              "    x.observe(notebookContainer, {childList: true});\n",
              "}}\n",
              "\n",
              "// Listen for the clearing of the current output cell\n",
              "var outputEl = gd.closest('.output');\n",
              "if (outputEl) {{\n",
              "    x.observe(outputEl, {childList: true});\n",
              "}}\n",
              "\n",
              "                        })\n",
              "                };\n",
              "                \n",
              "            </script>\n",
              "        </div>\n",
              "</body>\n",
              "</html>"
            ]
          },
          "metadata": {
            "tags": []
          }
        }
      ]
    },
    {
      "cell_type": "code",
      "metadata": {
        "id": "wNin3Vqyw_H0",
        "colab_type": "code",
        "colab": {
          "base_uri": "https://localhost:8080/",
          "height": 617
        },
        "outputId": "fe907153-5d4d-463d-bc30-f2a266160288"
      },
      "source": [
        "px.scatter_geo(data_frame=df_co, lon = 'Longitude', lat='Latitude',scope='usa', color='Cluster')"
      ],
      "execution_count": 63,
      "outputs": [
        {
          "output_type": "display_data",
          "data": {
            "text/html": [
              "<html>\n",
              "<head><meta charset=\"utf-8\" /></head>\n",
              "<body>\n",
              "    <div>\n",
              "            <script src=\"https://cdnjs.cloudflare.com/ajax/libs/mathjax/2.7.5/MathJax.js?config=TeX-AMS-MML_SVG\"></script><script type=\"text/javascript\">if (window.MathJax) {MathJax.Hub.Config({SVG: {font: \"STIX-Web\"}});}</script>\n",
              "                <script type=\"text/javascript\">window.PlotlyConfig = {MathJaxConfig: 'local'};</script>\n",
              "        <script src=\"https://cdn.plot.ly/plotly-latest.min.js\"></script>    \n",
              "            <div id=\"691ddb50-c94b-487f-8d26-be2a2fe587a2\" class=\"plotly-graph-div\" style=\"height:600px; width:100%;\"></div>\n",
              "            <script type=\"text/javascript\">\n",
              "                \n",
              "                    window.PLOTLYENV=window.PLOTLYENV || {};\n",
              "                    \n",
              "                if (document.getElementById(\"691ddb50-c94b-487f-8d26-be2a2fe587a2\")) {\n",
              "                    Plotly.newPlot(\n",
              "                        '691ddb50-c94b-487f-8d26-be2a2fe587a2',\n",
              "                        [{\"geo\": \"geo\", \"hoverlabel\": {\"namelength\": 0}, \"hovertemplate\": \"Latitude=%{lat}<br>Longitude=%{lon}<br>Cluster=%{marker.color}\", \"lat\": [37.47, 39.8, 39.82, 39.84, 39.8, 39.84, 39.84, 39.81, 39.81, 39.84, 39.19, 39.61, 39.6, 39.7, 39.69, 39.7, 39.67, 39.69, 39.58, 39.71, 39.71, 39.65, 39.59, 39.63, 39.65, 39.57, 39.69, 39.74, 39.72, 39.66, 39.64, 39.67, 39.6, 39.65, 39.59, 39.76, 39.57, 39.63, 39.64, 39.64, 39.39, 39.77, 39.8, 40.03, 40.02, 40.0, 40.01, 40.01, 40.0, 40.01, 40.01, 40.02, 39.98, 40.01, 40.02, 40.02, 40.07, 40.02, 39.48, 39.97, 39.97, 39.99, 39.98, 39.97, 39.96, 39.93, 39.93, 39.92, 39.93, 39.94, 40.0, 39.93, 38.45, 39.41, 39.41, 39.35, 39.36, 39.41, 39.41, 39.47, 39.41, 39.47, 39.61, 39.59, 39.6, 39.58, 39.58, 39.61, 39.57, 39.6, 39.09, 38.81, 38.91, 38.88, 38.8, 38.93, 38.84, 38.93, 38.89, 38.96, 38.8, 38.94, 38.9, 38.9, 38.77, 38.86, 38.85, 38.92, 38.87, 38.99, 38.93, 38.96, 38.78, 38.89, 38.81, 38.89, 38.94, 38.88, 39.06, 38.86, 38.83, 38.85, 38.95, 38.96, 38.89, 38.79, 38.96, 38.95, 38.84, 38.94, 38.9, 38.85, 38.86, 39.89, 39.88, 39.53, 39.53, 39.54, 39.5, 37.35, 40.51, 39.75, 39.75, 39.68, 39.76, 39.77, 39.73, 39.65, 39.67, 39.65, 39.71, 39.74, 39.69, 39.72, 39.67, 39.74, 39.78, 39.76, 39.77, 39.75, 39.65, 39.69, 39.71, 39.76, 39.72, 39.72, 39.75, 39.76, 39.74, 39.68, 39.73, 39.76, 39.67, 39.78, 39.74, 39.75, 39.74, 39.78, 39.77, 39.86, 39.77, 39.66, 39.74, 39.74, 39.75, 39.73, 39.74, 39.72, 39.74, 39.75, 39.69, 39.75, 39.74, 39.75, 39.72, 39.71, 39.75, 39.65, 39.73, 39.88, 39.79, 39.68, 39.72, 39.78, 39.71, 39.86, 39.65, 39.75, 39.75, 39.71, 39.68, 39.74, 39.75, 39.73, 39.71, 39.75, 39.76, 39.74, 39.65, 39.72, 39.63, 39.63, 39.76, 37.27, 37.27, 37.27, 37.3, 39.66, 39.75, 39.75, 39.75, 39.64, 39.39, 39.36, 39.54, 39.65, 39.65, 39.63, 39.65, 39.64, 39.66, 39.59, 39.6, 40.02, 40.02, 40.38, 40.38, 39.65, 39.69, 38.94, 39.88, 40.16, 40.12, 40.16, 38.72, 38.74, 40.52, 40.58, 40.55, 40.55, 40.55, 40.52, 40.52, 40.53, 40.57, 40.61, 40.56, 40.55, 40.57, 40.59, 40.08, 40.25, 38.72, 38.72, 39.95, 40.09, 39.59, 39.58, 40.52, 40.61, 39.71, 39.7, 39.54, 39.55, 39.48, 39.53, 39.53, 39.75, 39.74, 39.75, 39.77, 39.75, 39.7, 39.74, 40.06, 39.08, 39.09, 39.07, 39.09, 39.08, 39.08, 39.1, 39.04, 39.09, 39.09, 39.07, 39.09, 39.1, 39.1, 40.39, 40.4, 40.4, 40.39, 40.42, 40.42, 40.42, 40.4, 39.63, 39.61, 39.62, 39.61, 39.63, 39.6, 39.6, 38.55, 39.55, 39.54, 39.56, 39.55, 39.54, 39.55, 39.53, 39.57, 39.55, 39.53, 39.74, 40.41, 39.61, 39.99, 40.0, 39.74, 39.68, 39.71, 39.72, 39.74, 39.69, 39.69, 39.7, 39.71, 39.68, 39.7, 39.73, 39.71, 39.59, 39.61, 39.57, 39.56, 39.59, 39.57, 39.61, 39.61, 39.56, 39.61, 39.57, 39.59, 39.62, 39.54, 39.48, 39.57, 39.58, 39.62, 39.58, 39.54, 39.61, 39.58, 39.54, 39.56, 39.55, 39.53, 39.56, 40.19, 40.15, 40.19, 40.19, 40.15, 40.16, 40.15, 40.14, 40.15, 40.19, 40.19, 40.19, 39.97, 39.99, 40.43, 40.38, 40.38, 40.42, 40.41, 40.41, 40.41, 38.45, 38.45, 38.46, 39.1, 39.1, 39.91, 39.88, 37.25, 39.52, 39.51, 39.48, 39.51, 39.54, 39.56, 39.54, 39.53, 38.81, 38.24, 38.31, 38.27, 38.32, 38.23, 38.31, 39.54, 39.52, 38.54, 39.65, 39.63, 39.21, 40.47, 40.47, 40.46, 39.96, 39.93, 39.93, 37.93, 40.0, 39.91, 39.91, 39.94, 39.94, 39.85, 39.92, 39.91, 39.88, 39.86, 39.89, 40.52, 37.17, 39.63, 39.64, 39.64, 39.63, 39.89, 39.94, 39.87, 39.96, 39.91, 39.94, 39.83, 39.84, 39.83, 39.88, 39.87, 39.89, 39.91, 39.88, 39.88, 39.77, 39.76, 39.77, 39.77, 39.79, 39.76, 39.79, 40.48, 40.48, 39.89, 38.97, 38.98], \"legendgroup\": \"\", \"lon\": [-105.88, -105.11, -105.08, -105.08, -105.08, -105.08, -105.08, -105.17, -105.05, -105.08, -106.82, -104.76, -104.8, -104.83, -104.87, -104.85, -104.87, -104.79, -104.72, -104.86, -104.82, -104.77, -104.69, -104.81, -104.78, -104.72, -104.87, -104.81, -104.82, -104.85, -104.83, -104.79, -104.72, -104.78, -104.67, -104.77, -106.42, -106.52, -106.52, -106.52, -107.08, -104.43, -105.49, -105.25, -105.26, -105.23, -105.28, -105.26, -105.26, -105.28, -105.25, -105.25, -105.25, -105.27, -105.26, -105.26, -105.2, -105.28, -106.05, -104.8, -104.82, -104.82, -104.8, -104.82, -105.04, -105.13, -105.14, -105.05, -105.09, -105.01, -105.01, -105.12, -105.22, -104.87, -104.86, -104.81, -104.86, -104.86, -104.86, -104.88, -104.86, -104.88, -104.76, -104.93, -104.85, -104.96, -104.96, -104.75, -104.91, -104.8, -108.46, -104.82, -104.72, -104.72, -104.82, -104.72, -104.82, -104.74, -104.76, -104.76, -104.84, -104.8, -104.85, -104.77, -104.81, -104.82, -104.85, -104.84, -104.72, -104.8, -104.79, -104.77, -104.81, -104.76, -104.75, -104.72, -104.76, -104.85, -104.84, -104.72, -104.82, -104.77, -104.79, -104.8, -104.72, -104.76, -104.76, -104.77, -104.76, -104.76, -104.82, -104.87, -104.88, -104.81, -104.77, -105.31, -105.3, -105.29, -106.15, -108.58, -107.55, -105.01, -104.99, -104.97, -105.02, -105.05, -104.97, -105.01, -104.91, -104.9, -104.92, -104.99, -104.99, -104.9, -104.94, -104.99, -105.04, -105.01, -104.99, -105.0, -104.92, -104.94, -104.97, -104.9, -104.95, -104.95, -104.99, -105.0, -104.95, -104.96, -104.94, -105.02, -104.94, -105.02, -105.0, -104.99, -105.04, -104.85, -104.81, -104.67, -104.94, -105.05, -104.99, -105.0, -105.0, -104.97, -104.92, -104.9, -105.0, -105.0, -104.94, -104.99, -104.99, -105.0, -104.95, -104.99, -104.99, -104.87, -104.98, -104.98, -104.9, -104.91, -104.95, -104.9, -105.02, -104.67, -104.93, -104.99, -104.98, -104.99, -104.97, -104.92, -104.99, -104.99, -104.93, -105.0, -104.9, -104.97, -104.91, -104.96, -106.06, -106.05, -105.6, -107.89, -107.88, -107.88, -107.87, -106.83, -105.05, -105.05, -105.06, -106.59, -107.09, -104.61, -104.86, -104.98, -104.99, -105.03, -104.96, -104.99, -104.99, -104.88, -104.9, -105.1, -105.1, -105.52, -105.52, -105.34, -105.36, -104.6, -105.02, -104.98, -104.94, -104.94, -104.8, -104.8, -105.04, -105.08, -105.06, -105.04, -105.12, -105.07, -105.05, -105.08, -105.12, -105.08, -105.08, -105.09, -105.1, -105.08, -104.8, -103.81, -104.7, -104.7, -105.81, -104.99, -106.1, -106.1, -105.07, -105.08, -104.94, -104.94, -107.33, -107.34, -107.29, -107.33, -107.33, -105.22, -105.2, -105.22, -105.23, -105.22, -105.33, -105.19, -105.93, -108.59, -108.55, -108.57, -108.46, -108.55, -108.55, -108.61, -108.53, -108.6, -108.6, -108.6, -108.51, -108.61, -108.55, -104.75, -104.73, -104.75, -104.7, -104.79, -104.75, -104.74, -104.75, -104.88, -104.89, -104.9, -104.92, -104.88, -104.89, -104.88, -106.93, -105.01, -104.94, -104.91, -105.0, -105.01, -104.99, -104.94, -104.97, -105.04, -104.94, -105.5, -104.98, -105.94, -105.1, -105.1, -105.1, -105.08, -105.08, -105.08, -105.11, -105.12, -105.12, -105.15, -105.09, -105.12, -105.14, -105.16, -105.13, -105.01, -104.99, -104.92, -104.89, -105.07, -105.08, -104.96, -105.09, -105.11, -104.99, -104.99, -105.03, -105.02, -104.88, -105.07, -105.08, -105.14, -105.11, -105.13, -104.94, -105.1, -105.13, -104.88, -104.88, -104.88, -104.88, -104.88, -105.13, -105.13, -105.13, -105.07, -105.11, -105.07, -105.11, -105.13, -105.13, -105.07, -105.08, -105.1, -105.16, -105.12, -105.08, -105.1, -105.1, -105.07, -105.01, -105.1, -105.11, -107.87, -107.87, -107.87, -104.87, -104.87, -104.98, -104.99, -107.08, -104.77, -104.77, -104.76, -104.77, -104.79, -104.78, -104.77, -104.79, -104.68, -104.65, -104.63, -104.63, -104.62, -104.66, -104.73, -107.78, -107.77, -105.99, -105.01, -106.07, -106.95, -106.83, -106.82, -106.82, -105.17, -105.15, -105.15, -107.85, -104.98, -104.94, -104.94, -104.94, -104.94, -104.98, -104.97, -104.99, -104.94, -105.0, -104.98, -104.99, -104.51, -106.42, -106.39, -106.37, -106.42, -105.08, -105.05, -105.05, -104.99, -105.0, -104.99, -105.05, -105.08, -105.03, -105.03, -105.05, -105.08, -105.05, -105.03, -105.1, -105.05, -105.14, -105.11, -105.08, -105.11, -105.14, -105.11, -104.93, -104.93, -105.76, -105.04, -105.05], \"marker\": {\"color\": [3, 4, 4, 4, 4, 4, 4, 4, 4, 4, 2, 4, 4, 4, 4, 4, 4, 4, 4, 4, 4, 4, 4, 4, 4, 4, 4, 4, 4, 4, 4, 4, 4, 4, 4, 4, 1, 1, 1, 1, 2, 4, 4, 4, 4, 4, 4, 4, 4, 4, 4, 4, 4, 4, 4, 4, 4, 4, 1, 4, 4, 4, 4, 4, 4, 4, 4, 4, 4, 4, 4, 4, 1, 4, 4, 4, 4, 4, 4, 4, 4, 4, 4, 4, 4, 4, 4, 4, 4, 4, 0, 1, 1, 1, 1, 1, 1, 1, 1, 1, 1, 1, 1, 1, 1, 1, 1, 1, 1, 1, 1, 1, 1, 1, 1, 1, 1, 1, 1, 1, 1, 1, 1, 1, 1, 1, 1, 1, 1, 1, 1, 1, 1, 4, 4, 4, 4, 4, 1, 0, 2, 4, 4, 4, 4, 4, 4, 4, 4, 4, 4, 4, 4, 4, 4, 4, 4, 4, 4, 4, 4, 4, 4, 4, 4, 4, 4, 4, 4, 4, 4, 4, 4, 4, 4, 4, 4, 4, 4, 4, 4, 4, 4, 4, 4, 4, 4, 4, 4, 4, 4, 4, 4, 4, 4, 4, 4, 4, 4, 4, 4, 4, 4, 4, 4, 4, 4, 4, 4, 4, 4, 4, 4, 4, 4, 4, 4, 4, 4, 4, 1, 1, 4, 0, 0, 0, 0, 2, 4, 4, 4, 1, 2, 4, 4, 4, 4, 4, 4, 4, 4, 4, 4, 4, 4, 4, 4, 4, 4, 1, 4, 4, 4, 4, 1, 1, 4, 4, 4, 4, 4, 4, 4, 4, 4, 4, 4, 4, 4, 4, 4, 4, 1, 1, 1, 4, 1, 1, 4, 4, 4, 4, 2, 2, 2, 2, 2, 4, 4, 4, 4, 4, 4, 4, 1, 0, 0, 0, 0, 0, 0, 0, 0, 0, 0, 0, 0, 0, 0, 4, 4, 4, 4, 4, 4, 4, 4, 4, 4, 4, 4, 4, 4, 4, 2, 4, 4, 4, 4, 4, 4, 4, 4, 4, 4, 4, 4, 1, 4, 4, 4, 4, 4, 4, 4, 4, 4, 4, 4, 4, 4, 4, 4, 4, 4, 4, 4, 4, 4, 4, 4, 4, 4, 4, 4, 4, 4, 4, 4, 4, 4, 4, 4, 4, 4, 4, 4, 4, 4, 4, 4, 4, 4, 4, 4, 4, 4, 4, 4, 4, 4, 4, 4, 4, 4, 4, 4, 4, 4, 4, 4, 0, 0, 0, 1, 1, 4, 4, 0, 4, 4, 4, 4, 4, 4, 4, 4, 1, 1, 1, 1, 1, 1, 1, 2, 2, 1, 4, 1, 2, 2, 2, 2, 4, 4, 4, 0, 4, 4, 4, 4, 4, 4, 4, 4, 4, 4, 4, 4, 3, 1, 1, 1, 1, 4, 4, 4, 4, 4, 4, 4, 4, 4, 4, 4, 4, 4, 4, 4, 4, 4, 4, 4, 4, 4, 4, 4, 4, 1, 1, 1], \"coloraxis\": \"coloraxis\"}, \"name\": \"\", \"showlegend\": false, \"type\": \"scattergeo\"}],\n",
              "                        {\"coloraxis\": {\"colorbar\": {\"title\": {\"text\": \"Cluster\"}}, \"colorscale\": [[0.0, \"#0d0887\"], [0.1111111111111111, \"#46039f\"], [0.2222222222222222, \"#7201a8\"], [0.3333333333333333, \"#9c179e\"], [0.4444444444444444, \"#bd3786\"], [0.5555555555555556, \"#d8576b\"], [0.6666666666666666, \"#ed7953\"], [0.7777777777777778, \"#fb9f3a\"], [0.8888888888888888, \"#fdca26\"], [1.0, \"#f0f921\"]]}, \"geo\": {\"center\": {}, \"domain\": {\"x\": [0.0, 0.98], \"y\": [0.0, 1.0]}, \"scope\": \"usa\"}, \"height\": 600, \"legend\": {\"tracegroupgap\": 0}, \"margin\": {\"t\": 60}, \"template\": {\"data\": {\"bar\": [{\"error_x\": {\"color\": \"#2a3f5f\"}, \"error_y\": {\"color\": \"#2a3f5f\"}, \"marker\": {\"line\": {\"color\": \"#E5ECF6\", \"width\": 0.5}}, \"type\": \"bar\"}], \"barpolar\": [{\"marker\": {\"line\": {\"color\": \"#E5ECF6\", \"width\": 0.5}}, \"type\": \"barpolar\"}], \"carpet\": [{\"aaxis\": {\"endlinecolor\": \"#2a3f5f\", \"gridcolor\": \"white\", \"linecolor\": \"white\", \"minorgridcolor\": \"white\", \"startlinecolor\": \"#2a3f5f\"}, \"baxis\": {\"endlinecolor\": \"#2a3f5f\", \"gridcolor\": \"white\", \"linecolor\": \"white\", \"minorgridcolor\": \"white\", \"startlinecolor\": \"#2a3f5f\"}, \"type\": \"carpet\"}], \"choropleth\": [{\"colorbar\": {\"outlinewidth\": 0, \"ticks\": \"\"}, \"type\": \"choropleth\"}], \"contour\": [{\"colorbar\": {\"outlinewidth\": 0, \"ticks\": \"\"}, \"colorscale\": [[0.0, \"#0d0887\"], [0.1111111111111111, \"#46039f\"], [0.2222222222222222, \"#7201a8\"], [0.3333333333333333, \"#9c179e\"], [0.4444444444444444, \"#bd3786\"], [0.5555555555555556, \"#d8576b\"], [0.6666666666666666, \"#ed7953\"], [0.7777777777777778, \"#fb9f3a\"], [0.8888888888888888, \"#fdca26\"], [1.0, \"#f0f921\"]], \"type\": \"contour\"}], \"contourcarpet\": [{\"colorbar\": {\"outlinewidth\": 0, \"ticks\": \"\"}, \"type\": \"contourcarpet\"}], \"heatmap\": [{\"colorbar\": {\"outlinewidth\": 0, \"ticks\": \"\"}, \"colorscale\": [[0.0, \"#0d0887\"], [0.1111111111111111, \"#46039f\"], [0.2222222222222222, \"#7201a8\"], [0.3333333333333333, \"#9c179e\"], [0.4444444444444444, \"#bd3786\"], [0.5555555555555556, \"#d8576b\"], [0.6666666666666666, \"#ed7953\"], [0.7777777777777778, \"#fb9f3a\"], [0.8888888888888888, \"#fdca26\"], [1.0, \"#f0f921\"]], \"type\": \"heatmap\"}], \"heatmapgl\": [{\"colorbar\": {\"outlinewidth\": 0, \"ticks\": \"\"}, \"colorscale\": [[0.0, \"#0d0887\"], [0.1111111111111111, \"#46039f\"], [0.2222222222222222, \"#7201a8\"], [0.3333333333333333, \"#9c179e\"], [0.4444444444444444, \"#bd3786\"], [0.5555555555555556, \"#d8576b\"], [0.6666666666666666, \"#ed7953\"], [0.7777777777777778, \"#fb9f3a\"], [0.8888888888888888, \"#fdca26\"], [1.0, \"#f0f921\"]], \"type\": \"heatmapgl\"}], \"histogram\": [{\"marker\": {\"colorbar\": {\"outlinewidth\": 0, \"ticks\": \"\"}}, \"type\": \"histogram\"}], \"histogram2d\": [{\"colorbar\": {\"outlinewidth\": 0, \"ticks\": \"\"}, \"colorscale\": [[0.0, \"#0d0887\"], [0.1111111111111111, \"#46039f\"], [0.2222222222222222, \"#7201a8\"], [0.3333333333333333, \"#9c179e\"], [0.4444444444444444, \"#bd3786\"], [0.5555555555555556, \"#d8576b\"], [0.6666666666666666, \"#ed7953\"], [0.7777777777777778, \"#fb9f3a\"], [0.8888888888888888, \"#fdca26\"], [1.0, \"#f0f921\"]], \"type\": \"histogram2d\"}], \"histogram2dcontour\": [{\"colorbar\": {\"outlinewidth\": 0, \"ticks\": \"\"}, \"colorscale\": [[0.0, \"#0d0887\"], [0.1111111111111111, \"#46039f\"], [0.2222222222222222, \"#7201a8\"], [0.3333333333333333, \"#9c179e\"], [0.4444444444444444, \"#bd3786\"], [0.5555555555555556, \"#d8576b\"], [0.6666666666666666, \"#ed7953\"], [0.7777777777777778, \"#fb9f3a\"], [0.8888888888888888, \"#fdca26\"], [1.0, \"#f0f921\"]], \"type\": \"histogram2dcontour\"}], \"mesh3d\": [{\"colorbar\": {\"outlinewidth\": 0, \"ticks\": \"\"}, \"type\": \"mesh3d\"}], \"parcoords\": [{\"line\": {\"colorbar\": {\"outlinewidth\": 0, \"ticks\": \"\"}}, \"type\": \"parcoords\"}], \"scatter\": [{\"marker\": {\"colorbar\": {\"outlinewidth\": 0, \"ticks\": \"\"}}, \"type\": \"scatter\"}], \"scatter3d\": [{\"line\": {\"colorbar\": {\"outlinewidth\": 0, \"ticks\": \"\"}}, \"marker\": {\"colorbar\": {\"outlinewidth\": 0, \"ticks\": \"\"}}, \"type\": \"scatter3d\"}], \"scattercarpet\": [{\"marker\": {\"colorbar\": {\"outlinewidth\": 0, \"ticks\": \"\"}}, \"type\": \"scattercarpet\"}], \"scattergeo\": [{\"marker\": {\"colorbar\": {\"outlinewidth\": 0, \"ticks\": \"\"}}, \"type\": \"scattergeo\"}], \"scattergl\": [{\"marker\": {\"colorbar\": {\"outlinewidth\": 0, \"ticks\": \"\"}}, \"type\": \"scattergl\"}], \"scattermapbox\": [{\"marker\": {\"colorbar\": {\"outlinewidth\": 0, \"ticks\": \"\"}}, \"type\": \"scattermapbox\"}], \"scatterpolar\": [{\"marker\": {\"colorbar\": {\"outlinewidth\": 0, \"ticks\": \"\"}}, \"type\": \"scatterpolar\"}], \"scatterpolargl\": [{\"marker\": {\"colorbar\": {\"outlinewidth\": 0, \"ticks\": \"\"}}, \"type\": \"scatterpolargl\"}], \"scatterternary\": [{\"marker\": {\"colorbar\": {\"outlinewidth\": 0, \"ticks\": \"\"}}, \"type\": \"scatterternary\"}], \"surface\": [{\"colorbar\": {\"outlinewidth\": 0, \"ticks\": \"\"}, \"colorscale\": [[0.0, \"#0d0887\"], [0.1111111111111111, \"#46039f\"], [0.2222222222222222, \"#7201a8\"], [0.3333333333333333, \"#9c179e\"], [0.4444444444444444, \"#bd3786\"], [0.5555555555555556, \"#d8576b\"], [0.6666666666666666, \"#ed7953\"], [0.7777777777777778, \"#fb9f3a\"], [0.8888888888888888, \"#fdca26\"], [1.0, \"#f0f921\"]], \"type\": \"surface\"}], \"table\": [{\"cells\": {\"fill\": {\"color\": \"#EBF0F8\"}, \"line\": {\"color\": \"white\"}}, \"header\": {\"fill\": {\"color\": \"#C8D4E3\"}, \"line\": {\"color\": \"white\"}}, \"type\": \"table\"}]}, \"layout\": {\"annotationdefaults\": {\"arrowcolor\": \"#2a3f5f\", \"arrowhead\": 0, \"arrowwidth\": 1}, \"colorscale\": {\"diverging\": [[0, \"#8e0152\"], [0.1, \"#c51b7d\"], [0.2, \"#de77ae\"], [0.3, \"#f1b6da\"], [0.4, \"#fde0ef\"], [0.5, \"#f7f7f7\"], [0.6, \"#e6f5d0\"], [0.7, \"#b8e186\"], [0.8, \"#7fbc41\"], [0.9, \"#4d9221\"], [1, \"#276419\"]], \"sequential\": [[0.0, \"#0d0887\"], [0.1111111111111111, \"#46039f\"], [0.2222222222222222, \"#7201a8\"], [0.3333333333333333, \"#9c179e\"], [0.4444444444444444, \"#bd3786\"], [0.5555555555555556, \"#d8576b\"], [0.6666666666666666, \"#ed7953\"], [0.7777777777777778, \"#fb9f3a\"], [0.8888888888888888, \"#fdca26\"], [1.0, \"#f0f921\"]], \"sequentialminus\": [[0.0, \"#0d0887\"], [0.1111111111111111, \"#46039f\"], [0.2222222222222222, \"#7201a8\"], [0.3333333333333333, \"#9c179e\"], [0.4444444444444444, \"#bd3786\"], [0.5555555555555556, \"#d8576b\"], [0.6666666666666666, \"#ed7953\"], [0.7777777777777778, \"#fb9f3a\"], [0.8888888888888888, \"#fdca26\"], [1.0, \"#f0f921\"]]}, \"colorway\": [\"#636efa\", \"#EF553B\", \"#00cc96\", \"#ab63fa\", \"#FFA15A\", \"#19d3f3\", \"#FF6692\", \"#B6E880\", \"#FF97FF\", \"#FECB52\"], \"font\": {\"color\": \"#2a3f5f\"}, \"geo\": {\"bgcolor\": \"white\", \"lakecolor\": \"white\", \"landcolor\": \"#E5ECF6\", \"showlakes\": true, \"showland\": true, \"subunitcolor\": \"white\"}, \"hoverlabel\": {\"align\": \"left\"}, \"hovermode\": \"closest\", \"mapbox\": {\"style\": \"light\"}, \"paper_bgcolor\": \"white\", \"plot_bgcolor\": \"#E5ECF6\", \"polar\": {\"angularaxis\": {\"gridcolor\": \"white\", \"linecolor\": \"white\", \"ticks\": \"\"}, \"bgcolor\": \"#E5ECF6\", \"radialaxis\": {\"gridcolor\": \"white\", \"linecolor\": \"white\", \"ticks\": \"\"}}, \"scene\": {\"xaxis\": {\"backgroundcolor\": \"#E5ECF6\", \"gridcolor\": \"white\", \"gridwidth\": 2, \"linecolor\": \"white\", \"showbackground\": true, \"ticks\": \"\", \"zerolinecolor\": \"white\"}, \"yaxis\": {\"backgroundcolor\": \"#E5ECF6\", \"gridcolor\": \"white\", \"gridwidth\": 2, \"linecolor\": \"white\", \"showbackground\": true, \"ticks\": \"\", \"zerolinecolor\": \"white\"}, \"zaxis\": {\"backgroundcolor\": \"#E5ECF6\", \"gridcolor\": \"white\", \"gridwidth\": 2, \"linecolor\": \"white\", \"showbackground\": true, \"ticks\": \"\", \"zerolinecolor\": \"white\"}}, \"shapedefaults\": {\"line\": {\"color\": \"#2a3f5f\"}}, \"ternary\": {\"aaxis\": {\"gridcolor\": \"white\", \"linecolor\": \"white\", \"ticks\": \"\"}, \"baxis\": {\"gridcolor\": \"white\", \"linecolor\": \"white\", \"ticks\": \"\"}, \"bgcolor\": \"#E5ECF6\", \"caxis\": {\"gridcolor\": \"white\", \"linecolor\": \"white\", \"ticks\": \"\"}}, \"title\": {\"x\": 0.05}, \"xaxis\": {\"automargin\": true, \"gridcolor\": \"white\", \"linecolor\": \"white\", \"ticks\": \"\", \"zerolinecolor\": \"white\", \"zerolinewidth\": 2}, \"yaxis\": {\"automargin\": true, \"gridcolor\": \"white\", \"linecolor\": \"white\", \"ticks\": \"\", \"zerolinecolor\": \"white\", \"zerolinewidth\": 2}}}},\n",
              "                        {\"responsive\": true}\n",
              "                    ).then(function(){\n",
              "                            \n",
              "var gd = document.getElementById('691ddb50-c94b-487f-8d26-be2a2fe587a2');\n",
              "var x = new MutationObserver(function (mutations, observer) {{\n",
              "        var display = window.getComputedStyle(gd).display;\n",
              "        if (!display || display === 'none') {{\n",
              "            console.log([gd, 'removed!']);\n",
              "            Plotly.purge(gd);\n",
              "            observer.disconnect();\n",
              "        }}\n",
              "}});\n",
              "\n",
              "// Listen for the removal of the full notebook cells\n",
              "var notebookContainer = gd.closest('#notebook-container');\n",
              "if (notebookContainer) {{\n",
              "    x.observe(notebookContainer, {childList: true});\n",
              "}}\n",
              "\n",
              "// Listen for the clearing of the current output cell\n",
              "var outputEl = gd.closest('.output');\n",
              "if (outputEl) {{\n",
              "    x.observe(outputEl, {childList: true});\n",
              "}}\n",
              "\n",
              "                        })\n",
              "                };\n",
              "                \n",
              "            </script>\n",
              "        </div>\n",
              "</body>\n",
              "</html>"
            ]
          },
          "metadata": {
            "tags": []
          }
        }
      ]
    },
    {
      "cell_type": "code",
      "metadata": {
        "id": "lTUb8am0ulhA",
        "colab_type": "code",
        "colab": {}
      },
      "source": [
        ""
      ],
      "execution_count": 0,
      "outputs": []
    }
  ]
}