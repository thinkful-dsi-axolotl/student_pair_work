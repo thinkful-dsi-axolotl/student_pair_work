{
  "nbformat": 4,
  "nbformat_minor": 0,
  "metadata": {
    "colab": {
      "name": "Day 51 Lecture 2 ICA Assignment.ipynb",
      "provenance": [],
      "collapsed_sections": []
    },
    "kernelspec": {
      "name": "python3",
      "display_name": "Python 3"
    }
  },
  "cells": [
    {
      "cell_type": "markdown",
      "metadata": {
        "id": "C024o0tAEioP",
        "colab_type": "text"
      },
      "source": [
        "### Experiments:\n",
        "\n",
        "Download the Kaggle creditcard fraud dataset:   \n",
        "https://www.kaggle.com/mlg-ulb/creditcardfraud\n",
        "    \n",
        "The datasets contains transactions made by credit cards in September 2013 by european cardholders. This dataset presents transactions that occurred in two days, where we have 492 frauds out of 284,807 transactions. The dataset is highly unbalanced, the positive class (frauds) account for 0.172% of all transactions.\n",
        "  \n",
        "Our objective is to compare PCA with ICA to identify components associated with credit card fraud.\n",
        "\n",
        "Reference:     \n",
        "- Hands-On Unsupervised Learning Using Python, Ankur A. Patel, Published by O'Reilly Media, Inc., 2019     "
      ]
    },
    {
      "cell_type": "code",
      "metadata": {
        "id": "nuQPSUqEEioP",
        "colab_type": "code",
        "colab": {}
      },
      "source": [
        "# Import libraries\n",
        "'''Main'''\n",
        "import numpy as np\n",
        "import pandas as pd\n",
        "import os, time\n",
        "import pickle, gzip\n",
        "\n",
        "'''Data Viz'''\n",
        "import matplotlib.pyplot as plt\n",
        "import seaborn as sns\n",
        "color = sns.color_palette()\n",
        "import matplotlib as mpl\n",
        "\n",
        "%matplotlib inline\n",
        "\n",
        "'''Data Prep and Model Evaluation'''\n",
        "from sklearn import preprocessing as pp\n",
        "from sklearn.model_selection import train_test_split \n",
        "from sklearn.metrics import precision_recall_curve, average_precision_score\n",
        "from sklearn.metrics import roc_curve, auc, roc_auc_score"
      ],
      "execution_count": 0,
      "outputs": []
    },
    {
      "cell_type": "markdown",
      "metadata": {
        "id": "FqirNTZSEioR",
        "colab_type": "text"
      },
      "source": [
        "Correct file path if necessary."
      ]
    },
    {
      "cell_type": "code",
      "metadata": {
        "id": "bOyMYSn4EioS",
        "colab_type": "code",
        "colab": {}
      },
      "source": [
        "# Load datasets\n",
        "path = 'https://tf-assets-prod.s3.amazonaws.com/tf-curric/data-science/creditcard.csv'\n",
        "data = pd.read_csv(path)\n",
        "\n",
        "dataX = data.copy().drop(['Class'],axis=1)\n",
        "dataY = data['Class'].copy()\n",
        "\n",
        "featuresToScale = dataX.columns\n",
        "sX = pp.StandardScaler(copy=True)\n",
        "dataX.loc[:,featuresToScale] = sX.fit_transform(dataX[featuresToScale])\n",
        "\n",
        "X_train, X_test, y_train, y_test = \\\n",
        "    train_test_split(dataX, dataY, test_size=0.33, \\\n",
        "                    random_state=2018, stratify=dataY)"
      ],
      "execution_count": 0,
      "outputs": []
    },
    {
      "cell_type": "markdown",
      "metadata": {
        "id": "xK7MNnltEioU",
        "colab_type": "text"
      },
      "source": [
        "Function to calculate anaomly scores from original and transformed dataframe."
      ]
    },
    {
      "cell_type": "code",
      "metadata": {
        "id": "hOpHrjIJEioV",
        "colab_type": "code",
        "colab": {}
      },
      "source": [
        "def anomalyScores(originalDF, reducedDF):\n",
        "    loss = np.sum((np.array(originalDF)-np.array(reducedDF))**2, axis=1)\n",
        "    loss = pd.Series(data=loss,index=originalDF.index)\n",
        "    loss = (loss-np.min(loss))/(np.max(loss)-np.min(loss))\n",
        "    return loss"
      ],
      "execution_count": 0,
      "outputs": []
    },
    {
      "cell_type": "markdown",
      "metadata": {
        "id": "zO14-8RVEioX",
        "colab_type": "text"
      },
      "source": [
        "Function to plot precision-recall curve."
      ]
    },
    {
      "cell_type": "code",
      "metadata": {
        "id": "99tqj_HQEioX",
        "colab_type": "code",
        "colab": {}
      },
      "source": [
        "def plotResults(trueLabels, anomalyScores, returnPreds = False):\n",
        "    preds = pd.concat([trueLabels, anomalyScores], axis=1)\n",
        "    preds.columns = ['trueLabel', 'anomalyScore']\n",
        "    precision, recall, thresholds = \\\n",
        "        precision_recall_curve(preds['trueLabel'],preds['anomalyScore'])\n",
        "    average_precision = \\\n",
        "        average_precision_score(preds['trueLabel'],preds['anomalyScore'])\n",
        "    \n",
        "    plt.step(recall, precision, color='k', alpha=0.7, where='post')\n",
        "    plt.fill_between(recall, precision, step='post', alpha=0.3, color='k')\n",
        "\n",
        "    plt.xlabel('Recall')\n",
        "    plt.ylabel('Precision')\n",
        "    plt.ylim([0.0, 1.05])\n",
        "    plt.xlim([0.0, 1.0])\n",
        "    \n",
        "    plt.title('Precision-Recall curve: Average Precision = \\\n",
        "    {0:0.2f}'.format(average_precision))\n",
        "\n",
        "    fpr, tpr, thresholds = roc_curve(preds['trueLabel'], \\\n",
        "                                     preds['anomalyScore'])\n",
        "    areaUnderROC = auc(fpr, tpr)\n",
        "\n",
        "    plt.figure()\n",
        "    plt.plot(fpr, tpr, color='r', lw=2, label='ROC curve')\n",
        "    plt.plot([0, 1], [0, 1], color='k', lw=2, linestyle='--')\n",
        "    plt.xlim([0.0, 1.0])\n",
        "    plt.ylim([0.0, 1.05])\n",
        "    plt.xlabel('False Positive Rate')\n",
        "    plt.ylabel('True Positive Rate')\n",
        "    plt.title('Receiver operating characteristic: \\\n",
        "    Area under the curve = {0:0.2f}'.format(areaUnderROC))\n",
        "    plt.legend(loc=\"lower right\")\n",
        "    plt.show()\n",
        "    \n",
        "    if returnPreds==True:\n",
        "        return preds"
      ],
      "execution_count": 0,
      "outputs": []
    },
    {
      "cell_type": "markdown",
      "metadata": {
        "id": "_TBijodHEioZ",
        "colab_type": "text"
      },
      "source": [
        "Scatter plot of first two components"
      ]
    },
    {
      "cell_type": "code",
      "metadata": {
        "id": "u5cwGgarEioa",
        "colab_type": "code",
        "colab": {}
      },
      "source": [
        "def scatterPlot(xDF, yDF, algoName):\n",
        "    tempDF = pd.DataFrame(data=xDF.loc[:,0:1], index=xDF.index)\n",
        "    tempDF = pd.concat((tempDF,yDF), axis=1, join=\"inner\")\n",
        "    tempDF.columns = [\"First Vector\", \"Second Vector\", \"Label\"]\n",
        "    sns.lmplot(x=\"First Vector\", y=\"Second Vector\", hue=\"Label\", \\\n",
        "               data=tempDF, fit_reg=False)\n",
        "    ax = plt.gca()\n",
        "    ax.set_title(\"Separation of Observations using \"+algoName)"
      ],
      "execution_count": 0,
      "outputs": []
    },
    {
      "cell_type": "markdown",
      "metadata": {
        "id": "5CRiIS-LEioc",
        "colab_type": "text"
      },
      "source": [
        "#### PCA - your work\n",
        "\n",
        "- Set PCA hyperparameters    \n",
        "- Create a PCA instance  \n",
        "- fit_transform   \n",
        "- save fitted data into a dataframe for plotting     \n",
        "- inverse_transform fitted data   \n",
        "- save inverse transformed data into a dataframe for plotting    \n",
        "- scatterPlot"
      ]
    },
    {
      "cell_type": "code",
      "metadata": {
        "id": "sp4oTwwhEioc",
        "colab_type": "code",
        "colab": {}
      },
      "source": [
        "############################\n",
        "# your work here\n",
        "\n",
        "# 30 principal components\n",
        "\n",
        "############################"
      ],
      "execution_count": 0,
      "outputs": []
    },
    {
      "cell_type": "code",
      "metadata": {
        "id": "G0VGyQFUEioe",
        "colab_type": "code",
        "colab": {}
      },
      "source": [
        ""
      ],
      "execution_count": 0,
      "outputs": []
    },
    {
      "cell_type": "markdown",
      "metadata": {
        "id": "H4qqY6WmXqtv",
        "colab_type": "text"
      },
      "source": [
        "#### ICA - your work\n",
        "\n",
        "- Set ICA hyperparameters    \n",
        "- Create a FastICA instance  \n",
        "- fit_transform   \n",
        "- save fitted data into a dataframe for plotting     \n",
        "- inverse_transform fitted data   \n",
        "- save inverse transformed data into a dataframe for plotting    \n",
        "- scatterPlot"
      ]
    },
    {
      "cell_type": "code",
      "metadata": {
        "id": "cQvr9UQnEioi",
        "colab_type": "code",
        "colab": {}
      },
      "source": [
        "#################################\n",
        "# Your work here\n",
        "\n",
        "# Independent Component Analysis\n",
        "\n",
        "from sklearn.decomposition import FastICA\n",
        "\n"
      ],
      "execution_count": 0,
      "outputs": []
    },
    {
      "cell_type": "code",
      "metadata": {
        "id": "zj-zkzxrEiok",
        "colab_type": "code",
        "colab": {}
      },
      "source": [
        "\n"
      ],
      "execution_count": 0,
      "outputs": []
    }
  ]
}