{
  "nbformat": 4,
  "nbformat_minor": 0,
  "metadata": {
    "colab": {
      "name": "Day 47 Lecture 2 Assignment.ipynb",
      "provenance": [],
      "collapsed_sections": []
    },
    "kernelspec": {
      "display_name": "Python 3",
      "language": "python",
      "name": "python3"
    },
    "language_info": {
      "codemirror_mode": {
        "name": "ipython",
        "version": 3
      },
      "file_extension": ".py",
      "mimetype": "text/x-python",
      "name": "python",
      "nbconvert_exporter": "python",
      "pygments_lexer": "ipython3",
      "version": "3.7.0"
    }
  },
  "cells": [
    {
      "cell_type": "markdown",
      "metadata": {
        "colab_type": "text",
        "id": "xdL0Yz0D1D_q"
      },
      "source": [
        "## Day 47 Lecture 2 Assignment\n",
        "\n",
        "In this assignment, we will perform K-Medoids clustering using responses to a survey about student life at a university."
      ]
    },
    {
      "cell_type": "code",
      "metadata": {
        "id": "OeX5o4FRE2Mj",
        "colab_type": "code",
        "outputId": "e403d87f-011a-4e04-8b97-6d42e3e8bfa9",
        "colab": {
          "base_uri": "https://localhost:8080/",
          "height": 394
        }
      },
      "source": [
        "!pip install pyclustering"
      ],
      "execution_count": 3,
      "outputs": [
        {
          "output_type": "stream",
          "text": [
            "Collecting pyclustering\n",
            "\u001b[?25l  Downloading https://files.pythonhosted.org/packages/a8/77/13fe5d100c07a8c8ba06aa37608604573b1e9cb75a94016ab3882f4bf895/pyclustering-0.9.2.tar.gz (2.6MB)\n",
            "\u001b[K     |████████████████████████████████| 2.6MB 2.8MB/s \n",
            "\u001b[?25hRequirement already satisfied: scipy in /usr/local/lib/python3.6/dist-packages (from pyclustering) (1.3.2)\n",
            "Requirement already satisfied: matplotlib in /usr/local/lib/python3.6/dist-packages (from pyclustering) (3.1.1)\n",
            "Requirement already satisfied: numpy in /usr/local/lib/python3.6/dist-packages (from pyclustering) (1.17.4)\n",
            "Requirement already satisfied: Pillow in /usr/local/lib/python3.6/dist-packages (from pyclustering) (4.3.0)\n",
            "Requirement already satisfied: cycler>=0.10 in /usr/local/lib/python3.6/dist-packages (from matplotlib->pyclustering) (0.10.0)\n",
            "Requirement already satisfied: kiwisolver>=1.0.1 in /usr/local/lib/python3.6/dist-packages (from matplotlib->pyclustering) (1.1.0)\n",
            "Requirement already satisfied: python-dateutil>=2.1 in /usr/local/lib/python3.6/dist-packages (from matplotlib->pyclustering) (2.6.1)\n",
            "Requirement already satisfied: pyparsing!=2.0.4,!=2.1.2,!=2.1.6,>=2.0.1 in /usr/local/lib/python3.6/dist-packages (from matplotlib->pyclustering) (2.4.5)\n",
            "Requirement already satisfied: olefile in /usr/local/lib/python3.6/dist-packages (from Pillow->pyclustering) (0.46)\n",
            "Requirement already satisfied: six in /usr/local/lib/python3.6/dist-packages (from cycler>=0.10->matplotlib->pyclustering) (1.12.0)\n",
            "Requirement already satisfied: setuptools in /usr/local/lib/python3.6/dist-packages (from kiwisolver>=1.0.1->matplotlib->pyclustering) (41.6.0)\n",
            "Building wheels for collected packages: pyclustering\n",
            "  Building wheel for pyclustering (setup.py) ... \u001b[?25l\u001b[?25hdone\n",
            "  Created wheel for pyclustering: filename=pyclustering-0.9.2-cp36-none-any.whl size=2585545 sha256=e86db78050cd052f026144125a92c9e568a30f091a43906d87a955d5f9260c6e\n",
            "  Stored in directory: /root/.cache/pip/wheels/64/8c/62/f45c1df20df691f3dfb2c71be53660cf5d46a98f5c3fa53cec\n",
            "Successfully built pyclustering\n",
            "Installing collected packages: pyclustering\n",
            "Successfully installed pyclustering-0.9.2\n"
          ],
          "name": "stdout"
        }
      ]
    },
    {
      "cell_type": "code",
      "metadata": {
        "colab_type": "code",
        "id": "OulyiH_C1D_r",
        "colab": {}
      },
      "source": [
        "%matplotlib inline\n",
        "\n",
        "import matplotlib.pyplot as plt\n",
        "import numpy as np\n",
        "import pandas as pd\n",
        "from scipy.spatial.distance import pdist, squareform\n",
        "from pyclustering.cluster.kmedoids import kmedoids\n",
        "import random"
      ],
      "execution_count": 0,
      "outputs": []
    },
    {
      "cell_type": "markdown",
      "metadata": {
        "colab_type": "text",
        "id": "ezMvoRlB1D_t"
      },
      "source": [
        "This dataset consists of 35 binary features, each corresponding to a yes/no question that characterizes the student taking the survey.\n",
        "\n",
        "This dataset contains a large number of features, each corresponding to a survey question. The feature name summarizes the survey question, so we will not list them all out here.\n",
        "\n",
        "Load the dataset."
      ]
    },
    {
      "cell_type": "code",
      "metadata": {
        "colab_type": "code",
        "id": "wP1U4eQ91D_u",
        "outputId": "354c6652-f309-4cf5-dac1-98077c490a59",
        "colab": {
          "base_uri": "https://localhost:8080/",
          "height": 377
        }
      },
      "source": [
        "# answer goes here\n",
        "df = pd.read_csv('https://tf-assets-prod.s3.amazonaws.com/tf-curric/data-science/Data%20Sets%20Clustering/student_life_survey.csv')\n",
        "df.head()\n",
        "\n"
      ],
      "execution_count": 5,
      "outputs": [
        {
          "output_type": "execute_result",
          "data": {
            "text/html": [
              "<div>\n",
              "<style scoped>\n",
              "    .dataframe tbody tr th:only-of-type {\n",
              "        vertical-align: middle;\n",
              "    }\n",
              "\n",
              "    .dataframe tbody tr th {\n",
              "        vertical-align: top;\n",
              "    }\n",
              "\n",
              "    .dataframe thead th {\n",
              "        text-align: right;\n",
              "    }\n",
              "</style>\n",
              "<table border=\"1\" class=\"dataframe\">\n",
              "  <thead>\n",
              "    <tr style=\"text-align: right;\">\n",
              "      <th></th>\n",
              "      <th>Q2-Participated in Societies and Interest Groups</th>\n",
              "      <th>Q2-Participated in Clubs</th>\n",
              "      <th>Q2-Participated in Halls, JCRCs and/or Residential College CSCs</th>\n",
              "      <th>Q2-Participated in University organised events</th>\n",
              "      <th>Q3-Interested in Arts &amp; Culture</th>\n",
              "      <th>Q3-Interested in Science &amp; Technology</th>\n",
              "      <th>Q3-Interested in Research and independent study</th>\n",
              "      <th>Q3-Interested in Sports</th>\n",
              "      <th>Q3-Interested in Other competitions (eg case, debates)</th>\n",
              "      <th>Q3-Interested in Entrepreneurship</th>\n",
              "      <th>Q3-Interested in Volunteering</th>\n",
              "      <th>Q3-Interested in Others</th>\n",
              "      <th>Q4-Passionate about Animal welfare</th>\n",
              "      <th>Q4-Passionate about Arts/Culture/Heritage</th>\n",
              "      <th>Q4-Passionate about Children/Youth</th>\n",
              "      <th>Q4-Passionate about Community building</th>\n",
              "      <th>Q4-Passionate about Diversity &amp; Inclusion (e.g. special needs, migrant worker, interfaith and intercultural understanding)</th>\n",
              "      <th>Q4-Passionate about Environmental sustainability</th>\n",
              "      <th>Q4-Passionate about Families</th>\n",
              "      <th>Q4-Passionate about Health/Well-being (e.g mental health)</th>\n",
              "      <th>Q4-Passionate about Seniors</th>\n",
              "      <th>Q4-Passionate about Poverty reduction</th>\n",
              "      <th>Q4-Passionate about Education</th>\n",
              "      <th>Q4-Passionate about None of the above</th>\n",
              "      <th>Q4-Passionate about Others</th>\n",
              "      <th>Q5-Stressed about Adjustment issues</th>\n",
              "      <th>Q5-Stressed about Academic issues</th>\n",
              "      <th>Q5-Stressed about Financial issues</th>\n",
              "      <th>Q5-Stressed about Family issues</th>\n",
              "      <th>Q5-Stressed about Friendships</th>\n",
              "      <th>Q5-Stressed about Romantic relationships</th>\n",
              "      <th>Q5-Stressed about  Health related issues</th>\n",
              "      <th>Q5-Stressed about Career related issues</th>\n",
              "      <th>Q5-Stressed about My involvement in hostel, clubs, societies, interest groups, etc.</th>\n",
              "      <th>Q5-Stressed about Others</th>\n",
              "      <th>response_id</th>\n",
              "    </tr>\n",
              "  </thead>\n",
              "  <tbody>\n",
              "    <tr>\n",
              "      <th>0</th>\n",
              "      <td>0</td>\n",
              "      <td>1</td>\n",
              "      <td>0</td>\n",
              "      <td>0</td>\n",
              "      <td>0</td>\n",
              "      <td>1</td>\n",
              "      <td>1</td>\n",
              "      <td>0</td>\n",
              "      <td>1</td>\n",
              "      <td>0</td>\n",
              "      <td>0</td>\n",
              "      <td>0</td>\n",
              "      <td>0</td>\n",
              "      <td>0</td>\n",
              "      <td>0</td>\n",
              "      <td>0</td>\n",
              "      <td>0</td>\n",
              "      <td>1</td>\n",
              "      <td>0</td>\n",
              "      <td>0</td>\n",
              "      <td>0</td>\n",
              "      <td>0</td>\n",
              "      <td>0</td>\n",
              "      <td>0</td>\n",
              "      <td>0</td>\n",
              "      <td>0</td>\n",
              "      <td>1</td>\n",
              "      <td>0</td>\n",
              "      <td>0</td>\n",
              "      <td>0</td>\n",
              "      <td>0</td>\n",
              "      <td>0</td>\n",
              "      <td>0</td>\n",
              "      <td>0</td>\n",
              "      <td>0</td>\n",
              "      <td>1</td>\n",
              "    </tr>\n",
              "    <tr>\n",
              "      <th>1</th>\n",
              "      <td>0</td>\n",
              "      <td>1</td>\n",
              "      <td>0</td>\n",
              "      <td>0</td>\n",
              "      <td>1</td>\n",
              "      <td>0</td>\n",
              "      <td>0</td>\n",
              "      <td>1</td>\n",
              "      <td>0</td>\n",
              "      <td>0</td>\n",
              "      <td>0</td>\n",
              "      <td>0</td>\n",
              "      <td>0</td>\n",
              "      <td>0</td>\n",
              "      <td>1</td>\n",
              "      <td>0</td>\n",
              "      <td>1</td>\n",
              "      <td>0</td>\n",
              "      <td>0</td>\n",
              "      <td>0</td>\n",
              "      <td>0</td>\n",
              "      <td>1</td>\n",
              "      <td>0</td>\n",
              "      <td>0</td>\n",
              "      <td>0</td>\n",
              "      <td>0</td>\n",
              "      <td>1</td>\n",
              "      <td>0</td>\n",
              "      <td>0</td>\n",
              "      <td>0</td>\n",
              "      <td>0</td>\n",
              "      <td>0</td>\n",
              "      <td>0</td>\n",
              "      <td>0</td>\n",
              "      <td>0</td>\n",
              "      <td>2</td>\n",
              "    </tr>\n",
              "    <tr>\n",
              "      <th>2</th>\n",
              "      <td>0</td>\n",
              "      <td>0</td>\n",
              "      <td>1</td>\n",
              "      <td>0</td>\n",
              "      <td>0</td>\n",
              "      <td>0</td>\n",
              "      <td>0</td>\n",
              "      <td>1</td>\n",
              "      <td>0</td>\n",
              "      <td>0</td>\n",
              "      <td>0</td>\n",
              "      <td>0</td>\n",
              "      <td>0</td>\n",
              "      <td>1</td>\n",
              "      <td>0</td>\n",
              "      <td>0</td>\n",
              "      <td>1</td>\n",
              "      <td>0</td>\n",
              "      <td>1</td>\n",
              "      <td>1</td>\n",
              "      <td>0</td>\n",
              "      <td>0</td>\n",
              "      <td>1</td>\n",
              "      <td>0</td>\n",
              "      <td>0</td>\n",
              "      <td>0</td>\n",
              "      <td>1</td>\n",
              "      <td>0</td>\n",
              "      <td>0</td>\n",
              "      <td>0</td>\n",
              "      <td>0</td>\n",
              "      <td>0</td>\n",
              "      <td>1</td>\n",
              "      <td>0</td>\n",
              "      <td>0</td>\n",
              "      <td>3</td>\n",
              "    </tr>\n",
              "    <tr>\n",
              "      <th>3</th>\n",
              "      <td>1</td>\n",
              "      <td>1</td>\n",
              "      <td>1</td>\n",
              "      <td>1</td>\n",
              "      <td>0</td>\n",
              "      <td>1</td>\n",
              "      <td>1</td>\n",
              "      <td>0</td>\n",
              "      <td>0</td>\n",
              "      <td>0</td>\n",
              "      <td>1</td>\n",
              "      <td>0</td>\n",
              "      <td>0</td>\n",
              "      <td>0</td>\n",
              "      <td>0</td>\n",
              "      <td>1</td>\n",
              "      <td>0</td>\n",
              "      <td>0</td>\n",
              "      <td>0</td>\n",
              "      <td>1</td>\n",
              "      <td>0</td>\n",
              "      <td>0</td>\n",
              "      <td>1</td>\n",
              "      <td>0</td>\n",
              "      <td>0</td>\n",
              "      <td>1</td>\n",
              "      <td>1</td>\n",
              "      <td>0</td>\n",
              "      <td>1</td>\n",
              "      <td>1</td>\n",
              "      <td>1</td>\n",
              "      <td>1</td>\n",
              "      <td>0</td>\n",
              "      <td>1</td>\n",
              "      <td>0</td>\n",
              "      <td>4</td>\n",
              "    </tr>\n",
              "    <tr>\n",
              "      <th>4</th>\n",
              "      <td>1</td>\n",
              "      <td>0</td>\n",
              "      <td>1</td>\n",
              "      <td>1</td>\n",
              "      <td>0</td>\n",
              "      <td>1</td>\n",
              "      <td>1</td>\n",
              "      <td>0</td>\n",
              "      <td>0</td>\n",
              "      <td>1</td>\n",
              "      <td>1</td>\n",
              "      <td>0</td>\n",
              "      <td>0</td>\n",
              "      <td>0</td>\n",
              "      <td>1</td>\n",
              "      <td>1</td>\n",
              "      <td>0</td>\n",
              "      <td>1</td>\n",
              "      <td>0</td>\n",
              "      <td>1</td>\n",
              "      <td>0</td>\n",
              "      <td>0</td>\n",
              "      <td>1</td>\n",
              "      <td>0</td>\n",
              "      <td>0</td>\n",
              "      <td>0</td>\n",
              "      <td>1</td>\n",
              "      <td>1</td>\n",
              "      <td>0</td>\n",
              "      <td>1</td>\n",
              "      <td>0</td>\n",
              "      <td>0</td>\n",
              "      <td>0</td>\n",
              "      <td>1</td>\n",
              "      <td>0</td>\n",
              "      <td>5</td>\n",
              "    </tr>\n",
              "  </tbody>\n",
              "</table>\n",
              "</div>"
            ],
            "text/plain": [
              "   Q2-Participated in Societies and Interest Groups  ...  response_id\n",
              "0                                                 0  ...            1\n",
              "1                                                 0  ...            2\n",
              "2                                                 0  ...            3\n",
              "3                                                 1  ...            4\n",
              "4                                                 1  ...            5\n",
              "\n",
              "[5 rows x 36 columns]"
            ]
          },
          "metadata": {
            "tags": []
          },
          "execution_count": 5
        }
      ]
    },
    {
      "cell_type": "markdown",
      "metadata": {
        "colab_type": "text",
        "id": "o_K1eQ0x1D_y"
      },
      "source": [
        "For our analysis, we will focus on a specific subset of the survey that is focused on stress. These questions all begin with the string 'Q5'. Filter the columns that meet this criteria (should be 10 in total)."
      ]
    },
    {
      "cell_type": "code",
      "metadata": {
        "id": "n3lve7IOFkaY",
        "colab_type": "code",
        "outputId": "7a386ccd-980a-496c-90f5-a72ed04299f4",
        "colab": {
          "base_uri": "https://localhost:8080/",
          "height": 34
        }
      },
      "source": [
        "df_filtered = df.filter(regex ='Q5'  )\n",
        "df_filtered.head()\n",
        "df_filtered.shape"
      ],
      "execution_count": 6,
      "outputs": [
        {
          "output_type": "execute_result",
          "data": {
            "text/plain": [
              "(2958, 10)"
            ]
          },
          "metadata": {
            "tags": []
          },
          "execution_count": 6
        }
      ]
    },
    {
      "cell_type": "markdown",
      "metadata": {
        "id": "OxdvGscfC4XU",
        "colab_type": "text"
      },
      "source": [
        "The pyclustering implementation of kmedoids supports a variety of distance metrics, but they are primarily for numeric data. We will be using SMC/Hamming dissimilarity and precomputing the similarity matrix (an alternative would be to specify a user-defined function, which you are welcome to try in addition).\n",
        "\n",
        "We'll assume for the next step that a pair of negative values (i.e. both responses are \"no\") is as informative as a pair of positive values. Compute the full distance/dissimilarity matrix for the survey data using matching/hamming distance."
      ]
    },
    {
      "cell_type": "code",
      "metadata": {
        "colab_type": "code",
        "id": "xfYVreyw1D_y",
        "outputId": "ba2b5d57-44e8-42ba-ae93-83c606630e3f",
        "colab": {
          "base_uri": "https://localhost:8080/",
          "height": 136
        }
      },
      "source": [
        "# answer goes here\n",
        "matrix_dist=squareform(pdist(df_filtered,'hamming'))\n",
        "print(matrix_dist)\n",
        "matrix_df = pd.DataFrame(matrix_dist)\n",
        "# matrix_df.head()"
      ],
      "execution_count": 7,
      "outputs": [
        {
          "output_type": "stream",
          "text": [
            "[[0.  0.  0.1 ... 0.  0.2 0.2]\n",
            " [0.  0.  0.1 ... 0.  0.2 0.2]\n",
            " [0.1 0.1 0.  ... 0.1 0.1 0.1]\n",
            " ...\n",
            " [0.  0.  0.1 ... 0.  0.2 0.2]\n",
            " [0.2 0.2 0.1 ... 0.2 0.  0.2]\n",
            " [0.2 0.2 0.1 ... 0.2 0.2 0. ]]\n"
          ],
          "name": "stdout"
        }
      ]
    },
    {
      "cell_type": "markdown",
      "metadata": {
        "id": "3XUT0a6aC4Xb",
        "colab_type": "text"
      },
      "source": [
        "Using the dissimilarity matrix, perform kmedoids clustering using k=2. Set the initial medoids randomly. Note that pyclustering expects the distance matrix to be a numpy array; a pandas dataframe may cause errors. \n",
        "\n",
        "Which survey responses are chosen as the cluster representatives? Print out the details of these responses."
      ]
    },
    {
      "cell_type": "code",
      "metadata": {
        "id": "Ax2CtndxJzFu",
        "colab_type": "code",
        "outputId": "4e232540-738b-4441-c305-79ccc5545380",
        "colab": {
          "base_uri": "https://localhost:8080/",
          "height": 34
        }
      },
      "source": [
        "n_clusters = 2\n",
        "initial_medoids = random.sample(list(matrix_df.index), n_clusters)\n",
        "initial_medoids"
      ],
      "execution_count": 28,
      "outputs": [
        {
          "output_type": "execute_result",
          "data": {
            "text/plain": [
              "[959, 61]"
            ]
          },
          "metadata": {
            "tags": []
          },
          "execution_count": 28
        }
      ]
    },
    {
      "cell_type": "code",
      "metadata": {
        "id": "LEAp-7N_R_0G",
        "colab_type": "code",
        "colab": {
          "base_uri": "https://localhost:8080/",
          "height": 34
        },
        "outputId": "a17b4d89-2b75-4b2f-eb63-a8ba78114a26"
      },
      "source": [
        "# Create instance of K-Medoids algorithm.\n",
        "kmedoids_instance = kmedoids(matrix_df , initial_medoids)\n",
        "# Run cluster analysis and obtain results.\n",
        "kmedoids_instance.process()\n",
        "clusters = kmedoids_instance.get_clusters()\n",
        "kmedoids_instance.get_medoids()\n"
      ],
      "execution_count": 13,
      "outputs": [
        {
          "output_type": "execute_result",
          "data": {
            "text/plain": [
              "[2, 656]"
            ]
          },
          "metadata": {
            "tags": []
          },
          "execution_count": 13
        }
      ]
    },
    {
      "cell_type": "code",
      "metadata": {
        "id": "hF-7kBrdWmSK",
        "colab_type": "code",
        "colab": {
          "base_uri": "https://localhost:8080/",
          "height": 204
        },
        "outputId": "73040da7-c62e-4213-93d3-e0339bd4ad49"
      },
      "source": [
        "df_filtered.iloc[656]"
      ],
      "execution_count": 29,
      "outputs": [
        {
          "output_type": "execute_result",
          "data": {
            "text/plain": [
              "Q5-Stressed about Adjustment issues                                                    1\n",
              "Q5-Stressed about Academic issues                                                      1\n",
              "Q5-Stressed about Financial issues                                                     1\n",
              "Q5-Stressed about Family issues                                                        0\n",
              "Q5-Stressed about Friendships                                                          1\n",
              "Q5-Stressed about Romantic relationships                                               0\n",
              "Q5-Stressed about  Health related issues                                               0\n",
              "Q5-Stressed about Career related issues                                                0\n",
              "Q5-Stressed about My involvement in hostel, clubs, societies, interest groups, etc.    1\n",
              "Q5-Stressed about Others                                                               0\n",
              "Name: 656, dtype: int64"
            ]
          },
          "metadata": {
            "tags": []
          },
          "execution_count": 29
        }
      ]
    },
    {
      "cell_type": "markdown",
      "metadata": {
        "id": "H0tWAoZAC4Xn",
        "colab_type": "text"
      },
      "source": [
        "If you run the previous cell a few times, you'll probably notice that the medoids are very sensitive to initialization. A common approach to produce well-separated clusters is to choose initial centroids that are far apart. Re-run the previous process, except with a random pair of centroids that have a dissimilarity of 0.8 or higher. Are the results more stable now? How would you describe the typical clusters you see?"
      ]
    },
    {
      "cell_type": "code",
      "metadata": {
        "id": "3CxGSFq5M-hQ",
        "colab_type": "code",
        "outputId": "9f2ea0a6-65b8-4acf-83ec-4b939c58e3b6",
        "colab": {
          "base_uri": "https://localhost:8080/",
          "height": 51
        }
      },
      "source": [
        "arrays = list(np.where(matrix_dist>.8))\n",
        "arrays"
      ],
      "execution_count": 25,
      "outputs": [
        {
          "output_type": "execute_result",
          "data": {
            "text/plain": [
              "[array([   3,    3,    3, ..., 2933, 2939, 2953]),\n",
              " array([ 183,  456,  708, ...,  628, 2899, 2416])]"
            ]
          },
          "metadata": {
            "tags": []
          },
          "execution_count": 25
        }
      ]
    },
    {
      "cell_type": "code",
      "metadata": {
        "id": "fVJBUA3dPsce",
        "colab_type": "code",
        "colab": {}
      },
      "source": [
        "matrix_dict = dict(zip(arrays[0], arrays[1]))"
      ],
      "execution_count": 0,
      "outputs": []
    },
    {
      "cell_type": "code",
      "metadata": {
        "id": "G7uuPWs5Qf5-",
        "colab_type": "code",
        "outputId": "295744c0-5124-4396-8cd4-92a4a793ff80",
        "colab": {
          "base_uri": "https://localhost:8080/",
          "height": 34
        }
      },
      "source": [
        "random_centroid = random.choice(list(matrix_dict.items()))\n",
        "random_centroid"
      ],
      "execution_count": 30,
      "outputs": [
        {
          "output_type": "execute_result",
          "data": {
            "text/plain": [
              "(930, 628)"
            ]
          },
          "metadata": {
            "tags": []
          },
          "execution_count": 30
        }
      ]
    },
    {
      "cell_type": "code",
      "metadata": {
        "id": "yA33pnYZUkPQ",
        "colab_type": "code",
        "colab": {
          "base_uri": "https://localhost:8080/",
          "height": 34
        },
        "outputId": "0a181537-c3da-4bf6-c9c9-1597d3f0ba94"
      },
      "source": [
        "# Create instance of K-Medoids algorithm.\n",
        "kmedoids_instance = kmedoids(matrix_df , random_centroid)\n",
        "# Run cluster analysis and obtain results.\n",
        "kmedoids_instance.process()\n",
        "clusters = kmedoids_instance.get_clusters()\n",
        "kmedoids_instance.get_medoids()\n"
      ],
      "execution_count": 31,
      "outputs": [
        {
          "output_type": "execute_result",
          "data": {
            "text/plain": [
              "[297, 634]"
            ]
          },
          "metadata": {
            "tags": []
          },
          "execution_count": 31
        }
      ]
    },
    {
      "cell_type": "markdown",
      "metadata": {
        "id": "HBAg1qaaazTf",
        "colab_type": "text"
      },
      "source": [
        "The results are more stable when the dissimilarity is greater and most respondents where stressed about adjustment, academic, and financial issues."
      ]
    },
    {
      "cell_type": "code",
      "metadata": {
        "id": "uKR8IOFeWBxz",
        "colab_type": "code",
        "colab": {
          "base_uri": "https://localhost:8080/",
          "height": 204
        },
        "outputId": "fcaa5e53-49fd-4d19-ae82-9041f8ae2921"
      },
      "source": [
        "df_filtered.iloc[634]"
      ],
      "execution_count": 32,
      "outputs": [
        {
          "output_type": "execute_result",
          "data": {
            "text/plain": [
              "Q5-Stressed about Adjustment issues                                                    1\n",
              "Q5-Stressed about Academic issues                                                      1\n",
              "Q5-Stressed about Financial issues                                                     1\n",
              "Q5-Stressed about Family issues                                                        0\n",
              "Q5-Stressed about Friendships                                                          1\n",
              "Q5-Stressed about Romantic relationships                                               1\n",
              "Q5-Stressed about  Health related issues                                               0\n",
              "Q5-Stressed about Career related issues                                                1\n",
              "Q5-Stressed about My involvement in hostel, clubs, societies, interest groups, etc.    1\n",
              "Q5-Stressed about Others                                                               0\n",
              "Name: 634, dtype: int64"
            ]
          },
          "metadata": {
            "tags": []
          },
          "execution_count": 32
        }
      ]
    }
  ]
}