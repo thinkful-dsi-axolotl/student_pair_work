{
  "nbformat": 4,
  "nbformat_minor": 0,
  "metadata": {
    "colab": {
      "name": "Day 47 Lecture 1 Assignment.ipynb",
      "provenance": [],
      "collapsed_sections": []
    },
    "kernelspec": {
      "display_name": "Python 3",
      "language": "python",
      "name": "python3"
    },
    "language_info": {
      "codemirror_mode": {
        "name": "ipython",
        "version": 3
      },
      "file_extension": ".py",
      "mimetype": "text/x-python",
      "name": "python",
      "nbconvert_exporter": "python",
      "pygments_lexer": "ipython3",
      "version": "3.7.0"
    }
  },
  "cells": [
    {
      "cell_type": "markdown",
      "metadata": {
        "colab_type": "text",
        "id": "xdL0Yz0D1D_q"
      },
      "source": [
        "## Day 47 Lecture 1 Assignment\n",
        "\n",
        "In this assignment, we will apply k-means clustering to a dataset containing player-season statistics for NBA players from the past four years."
      ]
    },
    {
      "cell_type": "code",
      "metadata": {
        "colab_type": "code",
        "id": "OulyiH_C1D_r",
        "colab": {}
      },
      "source": [
        "%matplotlib inline\n",
        "import seaborn as sns\n",
        "import matplotlib.pyplot as plt\n",
        "import numpy as np\n",
        "import pandas as pd\n",
        "from sklearn.cluster import KMeans\n",
        "from sklearn.preprocessing import StandardScaler\n",
        "sns.set()"
      ],
      "execution_count": 0,
      "outputs": []
    },
    {
      "cell_type": "markdown",
      "metadata": {
        "colab_type": "text",
        "id": "ezMvoRlB1D_t"
      },
      "source": [
        "This dataset contains player-season statistics for NBA players from the past four years. Each row in this dataset represents a player's per-game averages for a single season. \n",
        "\n",
        "This dataset contains the following variables:\n",
        "\n",
        "- Seas: season ('2019' = 2018-2019 season, '2018' = 2017-2018 season, etc.)\n",
        "- Player: player name\n",
        "- Pos: position\n",
        "- Age: age\n",
        "- Tm: team\n",
        "- G: games played\n",
        "- GS: games started\n",
        "- MP: minutes played\n",
        "- FG: field goals\n",
        "- FGA: field goals attempted\n",
        "- FG%: field goal percentage\n",
        "- 3P: 3 pointers\n",
        "- 3PA: 3 pointers attempted\n",
        "- 3P%: 3 point percentage\n",
        "- 2P: 2 pointers\n",
        "- 2PA: 2 pointers attempted\n",
        "- 2P%: 2 point percentage\n",
        "- eFG%: effective field goal percentage\n",
        "- FT: free throws\n",
        "- FTA: free throws attempted\n",
        "- FT%: free throw percentage\n",
        "- ORB: offensive rebound\n",
        "- DRB: defensive rebound\n",
        "- TRB: total rebounds\n",
        "- AST: assists\n",
        "- STL: steals\n",
        "- BLK: blocks\n",
        "- TOV: turnovers\n",
        "- PF: personal fouls\n",
        "- PTS: points\n",
        "\n",
        "Load the dataset."
      ]
    },
    {
      "cell_type": "code",
      "metadata": {
        "colab_type": "code",
        "id": "wP1U4eQ91D_u",
        "colab": {}
      },
      "source": [
        "# answer goes here\n",
        "df = pd.read_csv('https://raw.githubusercontent.com/qboy21/Thinkful/master/nba_player_seasons.csv')\n"
      ],
      "execution_count": 0,
      "outputs": []
    },
    {
      "cell_type": "markdown",
      "metadata": {
        "colab_type": "text",
        "id": "o_K1eQ0x1D_y"
      },
      "source": [
        "The goal is to cluster these player-seasons to identify potential player \"archetypes\".\n",
        "\n",
        "Begin by removing players whose season did not meet one of the following criteria:\n",
        "1. Started at least 20 games\n",
        "2. Averaged at least 10 minutes per game"
      ]
    },
    {
      "cell_type": "code",
      "metadata": {
        "colab_type": "code",
        "id": "xfYVreyw1D_y",
        "colab": {}
      },
      "source": [
        "# answer goes here\n",
        "df1 = df.loc[(df['GS'] >= 20) | (df['MP'] >= 10)]"
      ],
      "execution_count": 0,
      "outputs": []
    },
    {
      "cell_type": "markdown",
      "metadata": {
        "colab_type": "text",
        "id": "86lfEP_91D_0"
      },
      "source": [
        "Choose a subset of numeric columns that is interesting to you from an \"archetypal\" standpoint. \n",
        "\n",
        "We will choose the following basic statistics: **points, total rebounds, assists, steals, blocks**, and **turnovers**, but you should feel free to choose other reasonable feature sets if you like. Be careful not to include too many dimensions (curse of dimensionality)."
      ]
    },
    {
      "cell_type": "code",
      "metadata": {
        "colab_type": "code",
        "id": "o3PUI4l61D_0",
        "colab": {}
      },
      "source": [
        "# answer goes here\n",
        "X = df1[['PTS','TRB','AST','STL','BLK','TOV']]"
      ],
      "execution_count": 0,
      "outputs": []
    },
    {
      "cell_type": "markdown",
      "metadata": {
        "colab_type": "text",
        "id": "MUjcLMMk1D_2"
      },
      "source": [
        "Standardize the features in your dataset using scikit-learn's StandardScaler, which will set the mean of each feature to 0 and the variance to 1."
      ]
    },
    {
      "cell_type": "code",
      "metadata": {
        "colab_type": "code",
        "id": "6OTdN8oF1D_2",
        "colab": {}
      },
      "source": [
        "# answer goes here\n",
        "scaler = StandardScaler()\n",
        "X_std = scaler.fit_transform(X)"
      ],
      "execution_count": 0,
      "outputs": []
    },
    {
      "cell_type": "markdown",
      "metadata": {
        "colab_type": "text",
        "id": "ao3Y5FVp1D_4"
      },
      "source": [
        "Run K-means clustering with K = 3 and print out the resulting centroids. When printing the centroids, transform the scaled centroids back into their corresponding unscaled values. What \"archetypes\" do you see?"
      ]
    },
    {
      "cell_type": "code",
      "metadata": {
        "colab_type": "code",
        "id": "sUhMxZdL1D_4",
        "colab": {
          "base_uri": "https://localhost:8080/",
          "height": 68
        },
        "outputId": "72b39959-9f3f-439e-cae9-7cd991a6ad79"
      },
      "source": [
        "# answer goes here\n",
        "kmeans_c = KMeans(n_clusters=3, random_state=123)\n",
        "kmeans_c.fit(X_std)"
      ],
      "execution_count": 31,
      "outputs": [
        {
          "output_type": "execute_result",
          "data": {
            "text/plain": [
              "KMeans(algorithm='auto', copy_x=True, init='k-means++', max_iter=300,\n",
              "       n_clusters=3, n_init=10, n_jobs=None, precompute_distances='auto',\n",
              "       random_state=123, tol=0.0001, verbose=0)"
            ]
          },
          "metadata": {
            "tags": []
          },
          "execution_count": 31
        }
      ]
    },
    {
      "cell_type": "code",
      "metadata": {
        "id": "aKOZffjSj52a",
        "colab_type": "code",
        "colab": {
          "base_uri": "https://localhost:8080/",
          "height": 119
        },
        "outputId": "00eebbb3-2f5b-423e-b31c-049b25a22492"
      },
      "source": [
        "scaler.inverse_transform(kmeans_c.cluster_centers_)"
      ],
      "execution_count": 49,
      "outputs": [
        {
          "output_type": "execute_result",
          "data": {
            "text/plain": [
              "array([[17.71464286,  4.64892857,  5.1525    ,  1.22285714,  0.41357143,\n",
              "         2.49642857],\n",
              "       [ 6.74108734,  2.84483066,  1.48351159,  0.54919786,  0.28395722,\n",
              "         0.87174688],\n",
              "       [12.45524862,  7.19088398,  1.7839779 ,  0.82762431,  0.9801105 ,\n",
              "         1.48535912]])"
            ]
          },
          "metadata": {
            "tags": []
          },
          "execution_count": 49
        }
      ]
    },
    {
      "cell_type": "code",
      "metadata": {
        "id": "EhfV6hewh5i8",
        "colab_type": "code",
        "colab": {
          "base_uri": "https://localhost:8080/",
          "height": 204
        },
        "outputId": "9f9c882e-aa27-4240-897d-c9ee3aedddd5"
      },
      "source": [
        "centers_d = pd.DataFrame(centers, columns = ['Points', 'Rebounds', 'Assists', 'Steals', 'Blocks', 'Turnovers']) \n",
        "centers_d"
      ],
      "execution_count": 56,
      "outputs": [
        {
          "output_type": "execute_result",
          "data": {
            "text/html": [
              "<div>\n",
              "<style scoped>\n",
              "    .dataframe tbody tr th:only-of-type {\n",
              "        vertical-align: middle;\n",
              "    }\n",
              "\n",
              "    .dataframe tbody tr th {\n",
              "        vertical-align: top;\n",
              "    }\n",
              "\n",
              "    .dataframe thead th {\n",
              "        text-align: right;\n",
              "    }\n",
              "</style>\n",
              "<table border=\"1\" class=\"dataframe\">\n",
              "  <thead>\n",
              "    <tr style=\"text-align: right;\">\n",
              "      <th></th>\n",
              "      <th>Points</th>\n",
              "      <th>Rebounds</th>\n",
              "      <th>Assists</th>\n",
              "      <th>Steals</th>\n",
              "      <th>Blocks</th>\n",
              "      <th>Turnovers</th>\n",
              "    </tr>\n",
              "  </thead>\n",
              "  <tbody>\n",
              "    <tr>\n",
              "      <th>0</th>\n",
              "      <td>10.517361</td>\n",
              "      <td>6.462153</td>\n",
              "      <td>1.511806</td>\n",
              "      <td>0.712500</td>\n",
              "      <td>0.871181</td>\n",
              "      <td>1.262500</td>\n",
              "    </tr>\n",
              "    <tr>\n",
              "      <th>1</th>\n",
              "      <td>18.312000</td>\n",
              "      <td>10.444000</td>\n",
              "      <td>2.584000</td>\n",
              "      <td>0.985333</td>\n",
              "      <td>1.702667</td>\n",
              "      <td>2.286667</td>\n",
              "    </tr>\n",
              "    <tr>\n",
              "      <th>2</th>\n",
              "      <td>19.456329</td>\n",
              "      <td>5.091772</td>\n",
              "      <td>6.155063</td>\n",
              "      <td>1.377215</td>\n",
              "      <td>0.441139</td>\n",
              "      <td>2.822785</td>\n",
              "    </tr>\n",
              "    <tr>\n",
              "      <th>3</th>\n",
              "      <td>11.245778</td>\n",
              "      <td>3.424889</td>\n",
              "      <td>2.849556</td>\n",
              "      <td>0.918667</td>\n",
              "      <td>0.277111</td>\n",
              "      <td>1.473333</td>\n",
              "    </tr>\n",
              "    <tr>\n",
              "      <th>4</th>\n",
              "      <td>5.668726</td>\n",
              "      <td>2.656494</td>\n",
              "      <td>1.095839</td>\n",
              "      <td>0.438966</td>\n",
              "      <td>0.272636</td>\n",
              "      <td>0.719672</td>\n",
              "    </tr>\n",
              "  </tbody>\n",
              "</table>\n",
              "</div>"
            ],
            "text/plain": [
              "      Points   Rebounds   Assists    Steals    Blocks  Turnovers\n",
              "0  10.517361   6.462153  1.511806  0.712500  0.871181   1.262500\n",
              "1  18.312000  10.444000  2.584000  0.985333  1.702667   2.286667\n",
              "2  19.456329   5.091772  6.155063  1.377215  0.441139   2.822785\n",
              "3  11.245778   3.424889  2.849556  0.918667  0.277111   1.473333\n",
              "4   5.668726   2.656494  1.095839  0.438966  0.272636   0.719672"
            ]
          },
          "metadata": {
            "tags": []
          },
          "execution_count": 56
        }
      ]
    },
    {
      "cell_type": "markdown",
      "metadata": {
        "colab_type": "text",
        "id": "y0wBOUWJ1D_6"
      },
      "source": [
        "Experiment with different values of K. Do any further interesting archetypes come out?"
      ]
    },
    {
      "cell_type": "code",
      "metadata": {
        "colab_type": "code",
        "id": "AdKYEBx61D_6",
        "colab": {}
      },
      "source": [
        "# answer goes here\n",
        "kmeans_c = KMeans(n_clusters=5, random_state=123)\n",
        "kmeans_c.fit(X_std)\n",
        "centers = scaler.inverse_transform(kmeans_c.cluster_centers_)"
      ],
      "execution_count": 0,
      "outputs": []
    },
    {
      "cell_type": "code",
      "metadata": {
        "id": "FMDBjqYKptyt",
        "colab_type": "code",
        "colab": {
          "base_uri": "https://localhost:8080/",
          "height": 204
        },
        "outputId": "27eccd92-cb72-4adc-834a-4e176ea39951"
      },
      "source": [
        "# dataframe for viewing centroid cluster\n",
        "centers_df = pd.DataFrame(centers, columns = ['Points', 'Rebounds', 'Assists', 'Steals', 'Blocks', 'Turnovers']) \n",
        "centers_df"
      ],
      "execution_count": 54,
      "outputs": [
        {
          "output_type": "execute_result",
          "data": {
            "text/html": [
              "<div>\n",
              "<style scoped>\n",
              "    .dataframe tbody tr th:only-of-type {\n",
              "        vertical-align: middle;\n",
              "    }\n",
              "\n",
              "    .dataframe tbody tr th {\n",
              "        vertical-align: top;\n",
              "    }\n",
              "\n",
              "    .dataframe thead th {\n",
              "        text-align: right;\n",
              "    }\n",
              "</style>\n",
              "<table border=\"1\" class=\"dataframe\">\n",
              "  <thead>\n",
              "    <tr style=\"text-align: right;\">\n",
              "      <th></th>\n",
              "      <th>Points</th>\n",
              "      <th>Rebounds</th>\n",
              "      <th>Assists</th>\n",
              "      <th>Steals</th>\n",
              "      <th>Blocks</th>\n",
              "      <th>Turnovers</th>\n",
              "    </tr>\n",
              "  </thead>\n",
              "  <tbody>\n",
              "    <tr>\n",
              "      <th>0</th>\n",
              "      <td>10.517361</td>\n",
              "      <td>6.462153</td>\n",
              "      <td>1.511806</td>\n",
              "      <td>0.712500</td>\n",
              "      <td>0.871181</td>\n",
              "      <td>1.262500</td>\n",
              "    </tr>\n",
              "    <tr>\n",
              "      <th>1</th>\n",
              "      <td>18.312000</td>\n",
              "      <td>10.444000</td>\n",
              "      <td>2.584000</td>\n",
              "      <td>0.985333</td>\n",
              "      <td>1.702667</td>\n",
              "      <td>2.286667</td>\n",
              "    </tr>\n",
              "    <tr>\n",
              "      <th>2</th>\n",
              "      <td>19.456329</td>\n",
              "      <td>5.091772</td>\n",
              "      <td>6.155063</td>\n",
              "      <td>1.377215</td>\n",
              "      <td>0.441139</td>\n",
              "      <td>2.822785</td>\n",
              "    </tr>\n",
              "    <tr>\n",
              "      <th>3</th>\n",
              "      <td>11.245778</td>\n",
              "      <td>3.424889</td>\n",
              "      <td>2.849556</td>\n",
              "      <td>0.918667</td>\n",
              "      <td>0.277111</td>\n",
              "      <td>1.473333</td>\n",
              "    </tr>\n",
              "    <tr>\n",
              "      <th>4</th>\n",
              "      <td>5.668726</td>\n",
              "      <td>2.656494</td>\n",
              "      <td>1.095839</td>\n",
              "      <td>0.438966</td>\n",
              "      <td>0.272636</td>\n",
              "      <td>0.719672</td>\n",
              "    </tr>\n",
              "  </tbody>\n",
              "</table>\n",
              "</div>"
            ],
            "text/plain": [
              "      Points   Rebounds   Assists    Steals    Blocks  Turnovers\n",
              "0  10.517361   6.462153  1.511806  0.712500  0.871181   1.262500\n",
              "1  18.312000  10.444000  2.584000  0.985333  1.702667   2.286667\n",
              "2  19.456329   5.091772  6.155063  1.377215  0.441139   2.822785\n",
              "3  11.245778   3.424889  2.849556  0.918667  0.277111   1.473333\n",
              "4   5.668726   2.656494  1.095839  0.438966  0.272636   0.719672"
            ]
          },
          "metadata": {
            "tags": []
          },
          "execution_count": 54
        }
      ]
    }
  ]
}