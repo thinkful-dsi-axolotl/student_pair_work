{
  "nbformat": 4,
  "nbformat_minor": 0,
  "metadata": {
    "kernelspec": {
      "name": "python3",
      "display_name": "Python 3"
    },
    "colab": {
      "name": "DimensionalityReduction_55_1_som_assign.ipynb",
      "provenance": [],
      "collapsed_sections": []
    },
    "accelerator": "GPU"
  },
  "cells": [
    {
      "cell_type": "markdown",
      "metadata": {
        "id": "E8DlVpQRw0Zx",
        "colab_type": "text"
      },
      "source": [
        "### Dimensionality Reduction SOM Assignment Solution\n",
        "\n",
        "Jay Urbain, PhD\n",
        "\n",
        "#### Objectives:    \n",
        "\n",
        "- Students understand how neural networks can be used to find lower-dimension representations of data in an unsupervised manner\n",
        "\n",
        "- **Students can explain the algorithm behind SOMs**\n",
        "\n",
        "- **Students understand how SOMs can be extending to perform clustering**\n",
        "\n",
        "- Students understand the theory behind autoencoders\n",
        "\n",
        "- **Students can apply both of these techniques to an appropriate dataset**\n",
        "\n",
        "#### References\n",
        "\n",
        "Referece: \n",
        "\n",
        "- Kohonen, Teuvo; Honkela, Timo (2007). \"Kohonen Network\". Scholarpedia.   \n",
        "http://www.scholarpedia.org/article/Kohonen_network\n",
        "\n",
        "- Teuvo Kohonen, The Self-Organizing Map, 1990    \n",
        "https://sci2s.ugr.es/keel/pdf/algorithm/articulo/1990-Kohonen-PIEEE.pdf\n",
        "\n",
        "- Self Organizing Maps, The Glowing Python    \n",
        "https://glowingpython.blogspot.com/2013/09/self-organizing-maps.html\n",
        "\n",
        "- MiniSOM Github   \n",
        "https://github.com/JustGlowing/minisom\n",
        "\n",
        "- Gregory T. Breard, Evaluating Self-Organizing Map Quality Measuresas Convergence Criteria, 2017\n",
        "https://digitalcommons.uri.edu/cgi/viewcontent.cgi?article=2013&context=theses\n",
        "\n",
        "- Achraf Khazri, Self Organizing Maps     \n",
        "https://towardsdatascience.com/self-organizing-maps-1b7d2a84e065\n",
        "\n",
        "- Abhinav Ralhan, Self Organizing Maps  \n",
        "https://towardsdatascience.com/self-organizing-maps-ff5853a118d4\n",
        "\n",
        "- Wikipedia - Self Organizing Maps   \n",
        "https://en.wikipedia.org/wiki/Self-organizing_map\n",
        "\n",
        "-  Ultsch, Alfred (2007). \"Emergence in Self-Organizing Feature Maps\". In Ritter, H.; Haschke, R. (eds.). Proceedings of the 6th International Workshop on Self-Organizing Maps (WSOM '07). Bielefeld, Germany: Neuroinformatics Group. ISBN 978-3-00-022473-7.\n"
      ]
    },
    {
      "cell_type": "markdown",
      "metadata": {
        "id": "Ka-Q1oMjw0Z2",
        "colab_type": "text"
      },
      "source": [
        "### Self Organizing Map (SOM)\n",
        "\n",
        "A `SOM` is a type of Artificial Neural Network able to convert complex, nonlinear statistical relationships between high-dimensional data items into simple geometric relationships in a low-dimensional space.\n",
        "\n",
        "A `SOM` is trained using unsupervised learning to produce a reduced dimensionality (typically two-dimensional) representation of the input space of the training samples. This low dimensionality representation is called a map. \n",
        "\n",
        "`Self-organizing maps` differ from other neural networks as they apply competitive learning as opposed to error-correction learning (such as backpropagation with gradient descent).\n",
        "\n",
        "`SOMs` use a neighborhood function to preserve the topological properties of the input space to generate the 2D map. Useful for visualization of complex nonlinear data.\n",
        "\n",
        "The network architecture for SOMs was introduced by Finnish professor Teuvo Kohonen in the 1980s and is sometimes called a Kohonen map or network.\n",
        "\n",
        "The Kohonen map architecture is fundamentally different in arrangement and motivation than a standard feedforward neural network.\n",
        "\n",
        "It has been shown that while self-organizing maps with a small number of nodes behave in a way that is similar to K-means, larger self-organizing maps rearrange data in a way that is fundamentally topological in character.\n",
        "\n",
        "Large SOMs display emergent properties. In maps consisting of thousands of nodes, it is possible to perform cluster operations on the map itself.\n",
        "\n",
        "#### Architecture\n",
        "\n",
        "Kohonen networks are sheet-like neural networks, whose neurons are activated by various patterns or classes of patterns in input signals. \n",
        "\n",
        "<img src=\"../images/haykin_som.png\" width=\"300px\"/>\n",
        "\n",
        "Source: https://glowingpython.blogspot.com/2013/09/self-organizing-maps.html \n",
        "\n",
        "\n",
        "<img src=\"../images/250px-Somnbc.png\" width=\"300px\"/>\n",
        "\n",
        "Source: http://www.scholarpedia.org/article/Kohonen_network \n",
        "\n",
        "Input neurons present features in the dataset to the map. Each input neuron is connected to each map neuron with a weight. The goal of the map neurons is to present data received on input neurons as two-dimensional data. Input data is  represented as 3D vectors (N inputs, input vector, weight connections to each map neuron). The self-organizing map uses unsupervised learning to cluster that three-dimensional data into a two-dimensional representation.\n",
        "\n",
        "<img src=\"../images/0_NDU-Hc3tGz4XZXHh.png\" width=\"400px\" />\n",
        "\n",
        "Source: https://towardsdatascience.com/analyzing-climate-patterns-with-self-organizing-maps-soms-8d4ef322705b  \n",
        "\n",
        "<img src=\"../images/1_eehec1ZZ_4vMSe69GTzYCg.png\" width=\"400px\" />\n",
        "\n",
        "Source: https://towardsdatascience.com/self-organizing-maps-1b7d2a84e065\n",
        "\n",
        "There can be any number of dimensions in the input data, and any number of dimensions for our output (mapping) data. It is important to emphasize that each map neuron is connected to each input neuron and that map neurons are not connected to each other. This makes every map neuron independent of the values of their neighbors.\n",
        "\n",
        "Each connection still has a weight attached to it, but they are not used in the same way as in feedforward networks. Basically, weights represent the relationship of the mapping neuron with the input vector. Every map neuron can be identified by a unique $(i, j)$ coordinate and weights on their connections are updated based on the values on the input data.\n",
        "\n",
        "Even though `SOMs` and `neural networks` use similar terms, like neurons, connections and weights, their meaning is conceptually different. \n",
        " \n",
        "\n",
        "#### Learning Process\n",
        "\n",
        "`SOMs` use a form of unsupervised learning called `competitive learning`. \n",
        "\n",
        "Basically, the input weights to each neuron in the map represent a point in 2D map space, and these weights are used to calculate a distance (similarity) for each input vector. Input samples are presented to the map randomly. The neuron with the set of weights that most closely matches the input samples \"wins,\" and the weights to the winning map neuron are updated to be \"closer\" to the distribution of the input sample. This process continues until convergence.\n",
        "\n",
        "Figure: the blue blob is the distribution of the training data, and the small white disc is the current training input vector. At first (left) the `SOM` nodes are arbitrarily positioned in the data space. The node (highlighted in yellow) which is nearest to the training input vector is selected. It is moved towards the training sample, as (to a lesser extent) are its neighbors on the grid. After many iterations the grid tends to approximate the data distribution (right).\n",
        "\n",
        "<img src=\"../images/2560px-Somtraining.svg.png\" width=\"600px\" />\n",
        "\n",
        "Source: https://en.wikipedia.org/wiki/Self-organizing_map#cite_note-23 \n",
        "\n",
        "*Steps:*\n",
        "\n",
        "- The first step in the learning process is the initialize weights to random values. \n",
        "\n",
        "- A random sample from the dataset is used as an input to the network. \n",
        "\n",
        "- The network calculates the distance between the input sample features and weights to each neuron.\n",
        "\n",
        "$$\n",
        "Distance^2 = \\sum_{i=0}^n (input_i - weight_i)^2\n",
        "$$\n",
        "\n",
        "- The map neuron with the best result (smallest distance) is called the Best Matching Unit (BMU). This basically means that the input vector can be represented with this mapping neuron. \n",
        "\n",
        "As part of the learning procedure:\n",
        "\n",
        "- the SOM updates the weights of the BMU to be closer to the input sample, and    \n",
        "- the neighbors of the BMU are also updated so they too are closer to the input sample.\n",
        "\n",
        "This is how the whole map is \"pulled\" toward the point in 2D space representing the input sample.\n",
        "\n",
        "Figure: Training process of SOM on two-dimensional data set\n",
        "\n",
        "<img src=\"../images/440px-TrainSOM.gif\" width=\"300px\"/>\n",
        "\n",
        "Source: https://en.wikipedia.org/wiki/Self-organizing_map#cite_note-23\n",
        "\n",
        "A `radius` for defining the BMU's neighbors is initially set to a large value and reduced in every epoch (learning iteration).\n",
        "\n",
        "Radius:\n",
        "\n",
        "$$\n",
        "\\sigma(t)=\\sigma_0 e^{-\\dfrac{t}{\\lambda}}\n",
        "$$\n",
        "\n",
        "where $t$ is the current iteration, and $\\sigma_0$ is the radius of the map.\n",
        "\n",
        "$$\n",
        "\\lambda = \\dfrac{k}{\\sigma_0}\n",
        "$$\n",
        "\n",
        "$k$ is the number of iterations. \n",
        "\n",
        "This formula utilizes exponential decay to make the radius smaller for each epoch. Every iteration through the data will bring relevant 2D map points closer to the input data. The self-organizing map is iteratively fine-tuned in this way.\n",
        "\n",
        "When the radius of the current iteration is calculated, weights of all neurons within the radius are updated. The closer the neuron is to the `BMU` the more its weights are changed. \n",
        "\n",
        "$$\n",
        "weight(t + 1) = weight(t) + \\eta(t)h(t)(input(t) - weight(t))\n",
        "$$\n",
        "\n",
        "$\\eta(t)$ represents the learning rate. Similar to the radius formula, it uses an  exponential decay:\n",
        "\n",
        "$$\n",
        "\\eta(t) = \\eta_0 e^{-\\dfrac{t}{\\lambda}}\n",
        "$$\n",
        "\n",
        "The weight of a neuron is modified more if that neuron is closer to the `BMU`. In the formula, that is handled with the neighborhood function $h(t)$. \n",
        "\n",
        "$$\n",
        "h(t) = e^{-\\dfrac{distBMU}{2\\sigma(t)^2}}\n",
        "$$\n",
        "\n",
        "If the neuron is closer to the `BMU`, $distBMU$ is smaller, and $h(t)$ is closer to 1, the weights of the neuron have a greater change. This whole procedure is repeated several epochs.\n",
        "\n",
        "Learning process summary:\n",
        "\n",
        "1. Initialize weights\n",
        "\n",
        "2. Initialize $t=0$\n",
        "\n",
        "3. Randomly select input vector $x$ from the dataset \n",
        "\n",
        "4. Determine the best matching neuron, $i$, `BMU`, from the dataset\n",
        "$$\n",
        "argmin_i||x - w_i||\n",
        "$$\n",
        "\n",
        "5. Use the radius to adapt the weights of each neuron $n$\n",
        "\n",
        "$$\n",
        "w_n = w_n + \\eta(t)h(i)(x - w_n)\n",
        "$$\n",
        "\n",
        "6. Increment $t$ by $1$\n",
        "\n",
        "7. If $t<t_{max}$ go to step 3\n",
        "\n",
        "8. Run additional training epochs until convergence\n",
        "\n",
        "*Note: There are many variations of the equations and the learning process of self-organizing maps.*\n",
        "\n",
        "#### Summary\n",
        "\n",
        "- Self-organizing maps are a very interesting concept and different from the rest of the neural network world. \n",
        "\n",
        "- Use unsupervised learning to create a map or a mask for the input data. \n",
        "\n",
        "- Provide a very adaptive solution for large or complex, nonlinear data sets. \n",
        "\n",
        "- Because of this high adaptivity, they have found application initial applications in speech recognition. \n",
        "\n",
        "- Today they are also used in topic modeing, bibliographic classification, image browsing and classification, medical diagnosis, data compression etc.\n"
      ]
    },
    {
      "cell_type": "markdown",
      "metadata": {
        "id": "K4uWp-Vqw0Z4",
        "colab_type": "text"
      },
      "source": [
        "### Implementation\n",
        "\n",
        "There are many available implementations of the Self-Organizing Maps for Python available at PyPl. To name the some:\n",
        "\n",
        "[SimpleSom](https://pypi.org/project/SimpSOM/)\n",
        "\n",
        "[Kohonen](https://pypi.org/project/kohonen/)\n",
        "\n",
        "[MiniSOM](https://pypi.org/project/MiniSom/)\n",
        "\n",
        "The last implementation in the list – MiniSOM is one of the most popular ones. It is a minimalistic, Numpy based implementation of the Self-Organizing Maps and it is very user friendly. It can be installed using pip:\n",
        "\n",
        "According to the documentation, you can install MiniSOM:\n",
        "\n",
        "> pip install minisom\n",
        "\n",
        "or using the downloaded setup:\n",
        "\n",
        "> git clone https://github.com/JustGlowing/minisom   \n",
        "> python setup.py install"
      ]
    },
    {
      "cell_type": "markdown",
      "metadata": {
        "id": "AOimMRRCw0Z5",
        "colab_type": "text"
      },
      "source": [
        "#### MiniSOM usage example\n",
        "\n",
        "To use `MiniSom` you need your data organized as a Numpy matrix where each row corresponds to an observation or as list of lists like the following.\n",
        "\n",
        "Create a data set with 4 features, and 7 examples:"
      ]
    },
    {
      "cell_type": "code",
      "metadata": {
        "id": "0q6_-sRlCftR",
        "colab_type": "code",
        "colab": {
          "base_uri": "https://localhost:8080/",
          "height": 190
        },
        "outputId": "fa8be3f6-e13b-428d-94c8-9a3dcce4eefb"
      },
      "source": [
        "pip install minisom"
      ],
      "execution_count": 4,
      "outputs": [
        {
          "output_type": "stream",
          "text": [
            "Collecting minisom\n",
            "  Downloading https://files.pythonhosted.org/packages/a8/7b/fa65614c0509aa207829535b8cfc0a04c3f9a573fb5cec2bb5771b42c55a/MiniSom-2.2.3.tar.gz\n",
            "Building wheels for collected packages: minisom\n",
            "  Building wheel for minisom (setup.py) ... \u001b[?25l\u001b[?25hdone\n",
            "  Created wheel for minisom: filename=MiniSom-2.2.3-cp36-none-any.whl size=7550 sha256=a01ad71de09a9e6cc455001463c3f8c5754df84eeccdc4b296da8637fbe4bd8a\n",
            "  Stored in directory: /root/.cache/pip/wheels/35/62/79/4d921062c847ee15a3bb3ac2ea984ed401c8b6b2944f08f697\n",
            "Successfully built minisom\n",
            "Installing collected packages: minisom\n",
            "Successfully installed minisom-2.2.3\n"
          ],
          "name": "stdout"
        }
      ]
    },
    {
      "cell_type": "code",
      "metadata": {
        "id": "AR2eayjzIGri",
        "colab_type": "code",
        "colab": {}
      },
      "source": [
        "import seaborn as sns\n",
        "sns.set()"
      ],
      "execution_count": 0,
      "outputs": []
    },
    {
      "cell_type": "code",
      "metadata": {
        "id": "2zxvkuH4w0Z6",
        "colab_type": "code",
        "colab": {}
      },
      "source": [
        "import sys\n",
        "sys.path.insert(0, '../')"
      ],
      "execution_count": 0,
      "outputs": []
    },
    {
      "cell_type": "code",
      "metadata": {
        "id": "8qfe5iNOw0Z-",
        "colab_type": "code",
        "colab": {}
      },
      "source": [
        "data = [[ 0.80,  0.55,  0.22,  0.03],\n",
        "        [ 0.82,  0.50,  0.23,  0.03],\n",
        "        [ 0.80,  0.54,  0.22,  0.03],\n",
        "        [ 0.80,  0.53,  0.26,  0.03],\n",
        "        [ 0.79,  0.56,  0.22,  0.03],\n",
        "        [ 0.75,  0.60,  0.25,  0.03],\n",
        "        [ 0.77,  0.59,  0.22,  0.03]]      "
      ],
      "execution_count": 0,
      "outputs": []
    },
    {
      "cell_type": "markdown",
      "metadata": {
        "id": "JCb_cteLw0aC",
        "colab_type": "text"
      },
      "source": [
        "In the example below, a $6×6$ Self-Organizing Map is created, with the $4$ input nodes since the data set has 4 features. `learning_rate` and radius (`sigma`) are both initialized to 0.5. \n",
        "\n",
        "The Self-Organizing Map is trained with the input data for 100 iterations using `train_random`."
      ]
    },
    {
      "cell_type": "code",
      "metadata": {
        "id": "mPI3qUEUw0aE",
        "colab_type": "code",
        "colab": {}
      },
      "source": [
        "from minisom import MiniSom    \n",
        "som = MiniSom(6, 6, 4, sigma=0.3, learning_rate=0.5) # initialization of 6x6 SOM\n",
        "som.train_random(data, 100) # trains the SOM with 100 iterations"
      ],
      "execution_count": 0,
      "outputs": []
    },
    {
      "cell_type": "markdown",
      "metadata": {
        "id": "7HWr18Inw0aI",
        "colab_type": "text"
      },
      "source": [
        "`MiniSom` implements two types of training. \n",
        "\n",
        "- Random training (implemented by the method train_random), where the model is trained picking random samples from your data.   \n",
        "- Batch training (implemented by the method train_batch), where the samples are picked in the order they are stored.\n",
        "\n",
        "The weights of the network are randomly initialized by default. Two additional methods are provided to initialize the weights in a data driven fashion: `random_weights_init` and `pca_weights_init`."
      ]
    },
    {
      "cell_type": "markdown",
      "metadata": {
        "id": "Yux9rMk8w0aJ",
        "colab_type": "text"
      },
      "source": [
        "Models can be exported and reloaded."
      ]
    },
    {
      "cell_type": "code",
      "metadata": {
        "id": "A42OptmSw0aK",
        "colab_type": "code",
        "colab": {}
      },
      "source": [
        "import pickle\n",
        "som = MiniSom(7, 7, 4)\n",
        "\n",
        "# ...train the som here\n",
        "\n",
        "# saving the som in the file som.p\n",
        "with open('som.p', 'wb') as outfile:\n",
        "    pickle.dump(som, outfile)"
      ],
      "execution_count": 0,
      "outputs": []
    },
    {
      "cell_type": "code",
      "metadata": {
        "id": "qLNOImjfw0aN",
        "colab_type": "code",
        "colab": {}
      },
      "source": [
        "with open('som.p', 'rb') as infile:\n",
        "    som = pickle.load(infile)"
      ],
      "execution_count": 0,
      "outputs": []
    },
    {
      "cell_type": "markdown",
      "metadata": {
        "id": "_LNo4xnlw0aQ",
        "colab_type": "text"
      },
      "source": [
        "### Digits\n"
      ]
    },
    {
      "cell_type": "code",
      "metadata": {
        "id": "BLpX59rWw0aS",
        "colab_type": "code",
        "colab": {}
      },
      "source": [
        "import sys\n",
        "#sys.path.insert(0, '../')\n",
        "\n",
        "from minisom import MiniSom\n",
        "\n",
        "import numpy as np\n",
        "import matplotlib.pyplot as plt\n",
        "%matplotlib inline\n",
        "\n",
        "%load_ext autoreload"
      ],
      "execution_count": 0,
      "outputs": []
    },
    {
      "cell_type": "code",
      "metadata": {
        "id": "EXHEoIxxw0aY",
        "colab_type": "code",
        "colab": {}
      },
      "source": [
        "import os\n",
        "directory = 'resulting_images'\n",
        "if not os.path.exists(directory):\n",
        "    os.makedirs(directory)"
      ],
      "execution_count": 0,
      "outputs": []
    },
    {
      "cell_type": "code",
      "metadata": {
        "id": "ary0NtGCw0ad",
        "colab_type": "code",
        "colab": {
          "base_uri": "https://localhost:8080/",
          "height": 119
        },
        "outputId": "35378b29-ad33-41d3-f5f4-3227a762558a"
      },
      "source": [
        "%autoreload 2\n",
        "from sklearn import datasets\n",
        "from sklearn.preprocessing import scale\n",
        "\n",
        "# load the digits dataset from scikit-learn\n",
        "digits = datasets.load_digits(n_class=10)\n",
        "data = digits.data  # matrix where each row is a vector that represent a digit.\n",
        "data = scale(data)\n",
        "num = digits.target  # num[i] is the digit represented by data[i]\n",
        "\n",
        "som = MiniSom(30, 30, 64, sigma=4,\n",
        "              learning_rate=0.5, neighborhood_function='triangle')\n",
        "som.pca_weights_init(data)\n",
        "print(\"Training...\")\n",
        "som.train_random(data, 5000, verbose=True)  # random training\n",
        "print(\"\\n...ready!\")"
      ],
      "execution_count": 12,
      "outputs": [
        {
          "output_type": "stream",
          "text": [
            "Training...\n",
            " [ 5000 / 5000 ] 100% - 0:00:00 left \n",
            " quantization error: 0.1656737642186959\n",
            " topographic error: 0.13856427378964942\n",
            "\n",
            "...ready!\n"
          ],
          "name": "stdout"
        }
      ]
    },
    {
      "cell_type": "code",
      "metadata": {
        "id": "vpM70L0gw0ag",
        "colab_type": "code",
        "colab": {
          "base_uri": "https://localhost:8080/",
          "height": 489
        },
        "outputId": "80062173-3580-4a31-8ef9-bece1bf3ae08"
      },
      "source": [
        "\n",
        "plt.figure(figsize=(8, 8))\n",
        "wmap = {}\n",
        "im = 0\n",
        "for x, t in zip(data, num):  # scatterplot\n",
        "    w = som.winner(x)\n",
        "    wmap[w] = im\n",
        "    plt. text(w[0]+.5,  w[1]+.5,  str(t),\n",
        "              color=plt.cm.rainbow(t / 10.), fontdict={'weight': 'bold',  'size': 11})\n",
        "    im = im + 1\n",
        "plt.axis([0, som.get_weights().shape[0], 0,  som.get_weights().shape[1]])\n",
        "plt.savefig(directory + '/som_digts.png')\n",
        "plt.show();\n"
      ],
      "execution_count": 23,
      "outputs": [
        {
          "output_type": "display_data",
          "data": {
            "image/png": "[encoded data removed]",
            "text/plain": [
              "<Figure size 576x576 with 1 Axes>"
            ]
          },
          "metadata": {
            "tags": []
          }
        }
      ]
    },
    {
      "cell_type": "code",
      "metadata": {
        "id": "WUCCpgQLw0ak",
        "colab_type": "code",
        "colab": {
          "base_uri": "https://localhost:8080/",
          "height": 729
        },
        "outputId": "78589298-a249-41a9-9bc7-3551ff76cc0a"
      },
      "source": [
        "plt.figure(figsize=(10, 10), facecolor='white')\n",
        "cnt = 0\n",
        "for j in reversed(range(20)):  # images mosaic\n",
        "    for i in range(20):\n",
        "        plt.subplot(20, 20, cnt+1, frameon=False,  xticks=[],  yticks=[])\n",
        "        if (i, j) in wmap:\n",
        "            plt.imshow(digits.images[wmap[(i, j)]],\n",
        "                       cmap='Greys', interpolation='nearest')\n",
        "        else:\n",
        "            plt.imshow(np.zeros((8, 8)),  cmap='Greys')\n",
        "        cnt = cnt + 1\n",
        "\n",
        "plt.tight_layout()\n",
        "plt.savefig(directory + '/som_digts_imgs.png')\n",
        "plt.show()\n"
      ],
      "execution_count": 14,
      "outputs": [
        {
          "output_type": "display_data",
          "data": {
            "image/png": "[encoded data removed]",
            "text/plain": [
              "<Figure size 720x720 with 400 Axes>"
            ]
          },
          "metadata": {
            "tags": []
          }
        }
      ]
    },
    {
      "cell_type": "markdown",
      "metadata": {
        "id": "aDco1R2Fw0ao",
        "colab_type": "text"
      },
      "source": [
        "### Quality Measures\n",
        "\n",
        "For a self-organizing map to be an accurate model, it must preserve the topology and neighborhoods of the input data while also “fitting” the data\n",
        "\n",
        "Topology is the spatial relation between data points; neighborhoods are clusters of data points that occur in the same region of the input space.  A model that fits the data will describe the underlying relationships without modeling noise.\n",
        "\n",
        "The two most popular quality measures originally proposed by Kohonen:\n",
        "\n",
        "#### Quantization Error (QE)\n",
        "\n",
        "`QE` is a measure of the average distance between the data points and themap nodes to which they are mapped, with smaller values indicating a better fit. $\\sigma$ is the learned mapping from the input space to the SOM map.\n",
        "\n",
        "$$\n",
        "QE(M) = \\dfrac{1}{m} \\sum_{i=1}^{n} ||\\sigma(x_i) - x_i||\n",
        "$$\n",
        "\n",
        "Note that the value reported is on the same scale as the input data and therefore can only be used to compare maps to each other, not as a standalone assessmentof quality.\n",
        "\n",
        "#### Topographic Error (TE)   \n",
        "\n",
        "One of the primary goals of the SOM algorithm is to preserve the topological features of the input space in the low dimensional output space.  `TE` is a measure of how well the structure of the input space is modeled by the map.  \n",
        "\n",
        "Specifically, it evaluates the local discontinuities in the mapping.\n",
        "\n",
        "`TE` is calculated by finding the best-matching and second-best-matching neuron in themap for  each  input and  then evaluating  the positions.  \n",
        "\n",
        "If the nodes are next  toeach other, then we say topology has been preserved for this input.  If not, then this is counted as an error.  The total number of errors divided by the total number of data points gives the topographic error of the map.\n",
        "\n",
        "$$\n",
        "TE(M) = \\dfrac{1}{m} \\sum_{i=1}^{n} t(x_i) \n",
        "$$\n",
        "<center>\n",
        "$t(x) = 0$ if $\\mu(x)$ and $\\mu'(x)$ are neighbors, $1$ otherwise.\n",
        "</center>\n"
      ]
    },
    {
      "cell_type": "markdown",
      "metadata": {
        "id": "Ve5EAb4fw0ap",
        "colab_type": "text"
      },
      "source": [
        "### Assignment\n",
        "\n",
        "Hands-on tutorial applying MiniSom on the Iris Dataset and visualizing the result.\n",
        "\n",
        "Dataset: http://en.wikipedia.org/wiki/Iris_flower_data_set\n",
        "\n",
        "1) Load the Iris dataset\n",
        "\n",
        "2) Normalize the data by row using np.norm\n",
        "\n",
        "3) Build a MiniSom Model. \n",
        "\n",
        "4) Visualize the results by labeling the classification for each neuron (provided)\n",
        "\n",
        "5) Generate a quantization plot (provided)\n",
        "\n",
        "6) Experiment with different parameterizations of your model.\n",
        "- size of map, sigma (radius) learning_rate, and neighborhood_function. In each case, observe quantization and topographical errors, and observe well clustered the output classes are.\n",
        "\n",
        "7) Summarize your observations and identify your top performing model."
      ]
    },
    {
      "cell_type": "markdown",
      "metadata": {
        "id": "q2tzib8Aw0aq",
        "colab_type": "text"
      },
      "source": [
        "#### Load and normalize the data\n",
        "\n",
        "Load the Iris dataset"
      ]
    },
    {
      "cell_type": "code",
      "metadata": {
        "id": "ata7-e91w0ar",
        "colab_type": "code",
        "colab": {
          "base_uri": "https://localhost:8080/",
          "height": 221
        },
        "outputId": "28fc39e6-737f-43e4-f620-d471c07b9f13"
      },
      "source": [
        "from minisom import MiniSom\n",
        "import numpy as np\n",
        "import matplotlib.pyplot as plt\n",
        "from matplotlib.gridspec import GridSpec\n",
        "%matplotlib inline\n",
        "%load_ext autoreload\n",
        "from sklearn import datasets\n",
        "\n",
        "# Load from Scikit-learn\n",
        "iris = datasets.load_iris()\n",
        "data = iris.data\n",
        "target = iris.target\n",
        "data[:10]"
      ],
      "execution_count": 18,
      "outputs": [
        {
          "output_type": "stream",
          "text": [
            "The autoreload extension is already loaded. To reload it, use:\n",
            "  %reload_ext autoreload\n"
          ],
          "name": "stdout"
        },
        {
          "output_type": "execute_result",
          "data": {
            "text/plain": [
              "array([[5.1, 3.5, 1.4, 0.2],\n",
              "       [4.9, 3. , 1.4, 0.2],\n",
              "       [4.7, 3.2, 1.3, 0.2],\n",
              "       [4.6, 3.1, 1.5, 0.2],\n",
              "       [5. , 3.6, 1.4, 0.2],\n",
              "       [5.4, 3.9, 1.7, 0.4],\n",
              "       [4.6, 3.4, 1.4, 0.3],\n",
              "       [5. , 3.4, 1.5, 0.2],\n",
              "       [4.4, 2.9, 1.4, 0.2],\n",
              "       [4.9, 3.1, 1.5, 0.1]])"
            ]
          },
          "metadata": {
            "tags": []
          },
          "execution_count": 18
        }
      ]
    },
    {
      "cell_type": "code",
      "metadata": {
        "id": "gIwysQaKw0au",
        "colab_type": "code",
        "colab": {
          "base_uri": "https://localhost:8080/",
          "height": 34
        },
        "outputId": "3c83ae6e-4898-48d4-f72c-156685dec8c0"
      },
      "source": [
        "target.shape"
      ],
      "execution_count": 17,
      "outputs": [
        {
          "output_type": "execute_result",
          "data": {
            "text/plain": [
              "(150,)"
            ]
          },
          "metadata": {
            "tags": []
          },
          "execution_count": 17
        }
      ]
    },
    {
      "cell_type": "markdown",
      "metadata": {
        "id": "_yuO2Gcsw0ax",
        "colab_type": "text"
      },
      "source": [
        "Normalize the data by row.\n",
        "\n",
        "Each row corresponds to a pattern. In this case, we have that each pattern has $4$ dimensions. "
      ]
    },
    {
      "cell_type": "code",
      "metadata": {
        "id": "eIZYgmYcw0ay",
        "colab_type": "code",
        "colab": {
          "base_uri": "https://localhost:8080/",
          "height": 187
        },
        "outputId": "3c21edc5-3f1b-4363-a7a2-94364d495db2"
      },
      "source": [
        "# normalize to unity of each pattern in the data\n",
        "data = np.apply_along_axis(lambda x: x/np.linalg.norm(x),1,data)\n",
        "data[:10]"
      ],
      "execution_count": 16,
      "outputs": [
        {
          "output_type": "execute_result",
          "data": {
            "text/plain": [
              "array([[0.80377277, 0.55160877, 0.22064351, 0.0315205 ],\n",
              "       [0.82813287, 0.50702013, 0.23660939, 0.03380134],\n",
              "       [0.80533308, 0.54831188, 0.2227517 , 0.03426949],\n",
              "       [0.80003025, 0.53915082, 0.26087943, 0.03478392],\n",
              "       [0.790965  , 0.5694948 , 0.2214702 , 0.0316386 ],\n",
              "       [0.78417499, 0.5663486 , 0.2468699 , 0.05808704],\n",
              "       [0.78010936, 0.57660257, 0.23742459, 0.0508767 ],\n",
              "       [0.80218492, 0.54548574, 0.24065548, 0.0320874 ],\n",
              "       [0.80642366, 0.5315065 , 0.25658935, 0.03665562],\n",
              "       [0.81803119, 0.51752994, 0.25041771, 0.01669451]])"
            ]
          },
          "metadata": {
            "tags": []
          },
          "execution_count": 16
        }
      ]
    },
    {
      "cell_type": "markdown",
      "metadata": {
        "id": "HJi8ceDrw0bU",
        "colab_type": "text"
      },
      "source": [
        "#### Train a model\n",
        "\n",
        "1. create a model\n",
        "\n",
        "    - `sigma` specifies the spread of the Gaussian neighborhood functioon.\n",
        "\n",
        "    - `learning_rate` specifies the initial learning rate.\n",
        "\n",
        "2. init weights\n",
        "\n",
        "3. train\n",
        "\n",
        "The training algorithm decreases both `sigma` and `learning_rate` as training progresses. This allows rapid initial training of the neural network that is then \"fine tuned\" as training progresses.\n"
      ]
    },
    {
      "cell_type": "code",
      "metadata": {
        "id": "eoBW-k1hw0bV",
        "colab_type": "code",
        "colab": {
          "base_uri": "https://localhost:8080/",
          "height": 119
        },
        "outputId": "2a850fdd-b824-47f2-fc43-47b84c4c8fef"
      },
      "source": [
        "from minisom import MiniSom\n",
        "\n",
        "# Create a model and initialize weights randomly \n",
        "som = MiniSom(7,7,4, sigma=0.9, learning_rate=0.3)\n",
        "\n",
        "# select initialization method\n",
        "# go with random weights initialization\n",
        "som.random_weights_init(data)\n",
        "\n",
        "print(\"Training...\")\n",
        "# train with 1000 iterations\n",
        "som.train_random(data, 1000, verbose=True)  # random training\n",
        "print(\"\\n...ready!\")"
      ],
      "execution_count": 44,
      "outputs": [
        {
          "output_type": "stream",
          "text": [
            "Training...\n",
            " [ 1000 / 1000 ] 100% - 0:00:00 left \n",
            " quantization error: 0.02392362805420446\n",
            " topographic error: 0.02666666666666667\n",
            "\n",
            "...ready!\n"
          ],
          "name": "stdout"
        }
      ]
    },
    {
      "cell_type": "markdown",
      "metadata": {
        "id": "Ff4LgjBrw0bc",
        "colab_type": "text"
      },
      "source": [
        "After training we have a $7x7$ `SOM` trained on our dataset. \n",
        "\n",
        "To visualize the result of the training we can plot the average distance map of the weights on the map and the coordinates of the associated winning neuron for each patter."
      ]
    },
    {
      "cell_type": "code",
      "metadata": {
        "id": "fny2CnZRw0bd",
        "colab_type": "code",
        "colab": {
          "base_uri": "https://localhost:8080/",
          "height": 435
        },
        "outputId": "dccd3896-a042-4a87-a6a8-d6b67da00300"
      },
      "source": [
        "plt.figure(figsize=(7, 7))\n",
        "# Plot the response for each pattern in the iris dataset\n",
        "plt.pcolor(som.distance_map().T, cmap='bone_r')  # plotting the distance map as background\n",
        "plt.colorbar()\n",
        "\n",
        "#target = np.genfromtxt('iris.csv', delimiter=',', usecols=(4), dtype=str)\n",
        "# t = np.zeros(len(target), dtype=int)\n",
        "# t[target == 'setosa'] = 0\n",
        "# t[target == 'versicolor'] = 1\n",
        "# t[target == 'virginica'] = 2\n",
        "\n",
        "# use different colors and markers for each label\n",
        "markers = ['o', 's', 'D']\n",
        "colors = ['C0', 'C1', 'C2']\n",
        "for cnt, xx in enumerate(data):\n",
        "    w = som.winner(xx)  # getting the winner\n",
        "    # palce a marker on the winning position for the sample xx\n",
        "    plt.plot(w[0]+.5, w[1]+.5, markers[target[cnt]], markerfacecolor='None',\n",
        "             markeredgecolor=colors[target[cnt]], markersize=12, markeredgewidth=2)\n",
        "plt.axis([0, 7, 0, 7])\n",
        "plt.savefig('resulting_images/som_iris.png')\n",
        "plt.show()"
      ],
      "execution_count": 30,
      "outputs": [
        {
          "output_type": "display_data",
          "data": {
            "image/png": "[encoded data removed]",
            "text/plain": [
              "<Figure size 504x504 with 2 Axes>"
            ]
          },
          "metadata": {
            "tags": []
          }
        }
      ]
    },
    {
      "cell_type": "markdown",
      "metadata": {
        "id": "IBhB6Pl5w0bh",
        "colab_type": "text"
      },
      "source": [
        "Each pattern in the dataset the corresponding winning neuron have been marked. \n",
        "\n",
        "Each type of marker represents a class of the iris data. The classes are setosa, versicolor and virginica, respectively represented with red, green and blue colors. \n",
        "\n",
        "The average distance map of the weights is used as background. The values are showed in the colorbar on the right. \n",
        "\n",
        "As expected from previous studies on this dataset, the patterns are grouped according to the class they belong and a small fraction of Iris virginica is mixed with Iris versicolor."
      ]
    },
    {
      "cell_type": "markdown",
      "metadata": {
        "id": "dbcVc1zdw0bh",
        "colab_type": "text"
      },
      "source": [
        "#### Activation frequencies"
      ]
    },
    {
      "cell_type": "code",
      "metadata": {
        "id": "2wj3bWhMw0bi",
        "colab_type": "code",
        "colab": {
          "base_uri": "https://localhost:8080/",
          "height": 435
        },
        "outputId": "24e991a6-43e7-441f-b394-78b6a38b6dc2"
      },
      "source": [
        "plt.figure(figsize=(8, 7))\n",
        "frequencies = som.activation_response(data)\n",
        "plt.pcolor(frequencies.T, cmap='Blues') \n",
        "plt.colorbar()\n",
        "plt.show();"
      ],
      "execution_count": 26,
      "outputs": [
        {
          "output_type": "display_data",
          "data": {
            "image/png": "[encoded data removed]",
            "text/plain": [
              "<Figure size 576x504 with 2 Axes>"
            ]
          },
          "metadata": {
            "tags": []
          }
        }
      ]
    },
    {
      "cell_type": "markdown",
      "metadata": {
        "id": "uMN6ZN3Yw0bp",
        "colab_type": "text"
      },
      "source": [
        "#### Quantization error"
      ]
    },
    {
      "cell_type": "code",
      "metadata": {
        "id": "6SqROLMhw0bs",
        "colab_type": "code",
        "colab": {
          "base_uri": "https://localhost:8080/",
          "height": 304
        },
        "outputId": "d74dd9bb-377b-46f1-9c47-59f71ceba644"
      },
      "source": [
        "som = MiniSom(7, 7, 4, sigma=3, learning_rate=0.5, \n",
        "              neighborhood_function='triangle', random_seed=10)\n",
        "som.pca_weights_init(data)\n",
        "max_iter = 10000\n",
        "q_error_pca_init = []\n",
        "iter_x = []\n",
        "for i in range(max_iter):\n",
        "    percent = 100*(i+1)/max_iter\n",
        "    rand_i = np.random.randint(len(data)) # This corresponds to train_random() method.\n",
        "    som.update(data[rand_i], som.winner(data[rand_i]), i, max_iter)\n",
        "    if (i+1) % 100 == 0:\n",
        "        error = som.quantization_error(data)\n",
        "        q_error_pca_init.append(error)\n",
        "        iter_x.append(i)\n",
        "        sys.stdout.write(f'\\riteration={i:2d} status={percent:0.2f}% error={error}')\n",
        "        \n",
        "plt.plot(iter_x, q_error_pca_init)\n",
        "plt.axhline(0.02)\n",
        "plt.ylabel('quantization error')\n",
        "plt.xlabel('iteration index')"
      ],
      "execution_count": 33,
      "outputs": [
        {
          "output_type": "stream",
          "text": [
            "iteration=9999 status=100.00% error=0.012608235435474615"
          ],
          "name": "stdout"
        },
        {
          "output_type": "execute_result",
          "data": {
            "text/plain": [
              "Text(0.5, 0, 'iteration index')"
            ]
          },
          "metadata": {
            "tags": []
          },
          "execution_count": 33
        },
        {
          "output_type": "display_data",
          "data": {
            "image/png": "[encoded data removed]",
            "text/plain": [
              "<Figure size 432x288 with 1 Axes>"
            ]
          },
          "metadata": {
            "tags": []
          }
        }
      ]
    },
    {
      "cell_type": "markdown",
      "metadata": {
        "id": "I15425ngOQ0f",
        "colab_type": "text"
      },
      "source": [
        "Our optimal Minisom model  with the lowest quantization error and the topographical error is a sigma=0.9 and a learning_rate=0.3."
      ]
    }
  ]
}