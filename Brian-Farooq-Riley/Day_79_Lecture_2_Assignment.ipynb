{
  "nbformat": 4,
  "nbformat_minor": 0,
  "metadata": {
    "colab": {
      "name": "Day 79 Lecture 2 Assignment.ipynb",
      "provenance": [],
      "collapsed_sections": []
    },
    "kernelspec": {
      "display_name": "Python 3",
      "language": "python",
      "name": "python3"
    },
    "language_info": {
      "codemirror_mode": {
        "name": "ipython",
        "version": 3
      },
      "file_extension": ".py",
      "mimetype": "text/x-python",
      "name": "python",
      "nbconvert_exporter": "python",
      "pygments_lexer": "ipython3",
      "version": "3.7.0"
    }
  },
  "cells": [
    {
      "cell_type": "markdown",
      "metadata": {
        "colab_type": "text",
        "id": "6yvJt4_EBES5"
      },
      "source": [
        "## Day 79 Lecture 2 Assignment\n",
        "\n",
        "In this assignment, we will learn about collaborative filtering in Spark.\n",
        "\n",
        "Run the cells below to start a spark session."
      ]
    },
    {
      "cell_type": "code",
      "metadata": {
        "colab_type": "code",
        "id": "uDlAv2LGdxVq",
        "colab": {}
      },
      "source": [
        "!apt-get install openjdk-8-jdk-headless -qq > /dev/null\n",
        "!wget -q https://www-eu.apache.org/dist/spark/spark-2.4.4/spark-2.4.4-bin-hadoop2.7.tgz\n",
        "!tar xf spark-2.4.4-bin-hadoop2.7.tgz"
      ],
      "execution_count": 0,
      "outputs": []
    },
    {
      "cell_type": "code",
      "metadata": {
        "colab_type": "code",
        "id": "dtM-Kde3d3X3",
        "colab": {}
      },
      "source": [
        "import os\n",
        "os.environ[\"JAVA_HOME\"] = \"/usr/lib/jvm/java-8-openjdk-amd64\"\n",
        "os.environ[\"SPARK_HOME\"] = \"/content/spark-2.4.4-bin-hadoop2.7\""
      ],
      "execution_count": 0,
      "outputs": []
    },
    {
      "cell_type": "code",
      "metadata": {
        "colab_type": "code",
        "id": "UfHPQfF-d5Hj",
        "outputId": "1f7b9d6e-f974-42ee-dec8-d2104789279f",
        "colab": {
          "base_uri": "https://localhost:8080/",
          "height": 254
        }
      },
      "source": [
        "!pip install -q findspark\n",
        "!pip install pyspark"
      ],
      "execution_count": 0,
      "outputs": [
        {
          "output_type": "stream",
          "text": [
            "Collecting pyspark\n",
            "\u001b[?25l  Downloading https://files.pythonhosted.org/packages/87/21/f05c186f4ddb01d15d0ddc36ef4b7e3cedbeb6412274a41f26b55a650ee5/pyspark-2.4.4.tar.gz (215.7MB)\n",
            "\u001b[K     |████████████████████████████████| 215.7MB 59kB/s \n",
            "\u001b[?25hCollecting py4j==0.10.7\n",
            "\u001b[?25l  Downloading https://files.pythonhosted.org/packages/e3/53/c737818eb9a7dc32a7cd4f1396e787bd94200c3997c72c1dbe028587bd76/py4j-0.10.7-py2.py3-none-any.whl (197kB)\n",
            "\u001b[K     |████████████████████████████████| 204kB 50.7MB/s \n",
            "\u001b[?25hBuilding wheels for collected packages: pyspark\n",
            "  Building wheel for pyspark (setup.py) ... \u001b[?25l\u001b[?25hdone\n",
            "  Created wheel for pyspark: filename=pyspark-2.4.4-py2.py3-none-any.whl size=216130387 sha256=3db730d65e5c88f41250bc1161e6622970138e5f92e09e57778765aefd9b3f2e\n",
            "  Stored in directory: /root/.cache/pip/wheels/ab/09/4d/0d184230058e654eb1b04467dbc1292f00eaa186544604b471\n",
            "Successfully built pyspark\n",
            "Installing collected packages: py4j, pyspark\n",
            "Successfully installed py4j-0.10.7 pyspark-2.4.4\n"
          ],
          "name": "stdout"
        }
      ]
    },
    {
      "cell_type": "code",
      "metadata": {
        "colab_type": "code",
        "id": "A_xQUSm9d6nR",
        "outputId": "208a0d92-7c81-4493-a901-a9f3522bdb9a",
        "colab": {
          "base_uri": "https://localhost:8080/",
          "height": 128
        }
      },
      "source": [
        "from google.colab import drive\n",
        "drive.mount('/content/gdrive')"
      ],
      "execution_count": 0,
      "outputs": [
        {
          "output_type": "stream",
          "text": [
            "Go to this URL in a browser: https://accounts.google.com/o/oauth2/auth?client_id=947318989803-6bn6qk8qdgf4n4g3pfee6491hc0brc4i.apps.googleusercontent.com&redirect_uri=urn%3aietf%3awg%3aoauth%3a2.0%3aoob&response_type=code&scope=email%20https%3a%2f%2fwww.googleapis.com%2fauth%2fdocs.test%20https%3a%2f%2fwww.googleapis.com%2fauth%2fdrive%20https%3a%2f%2fwww.googleapis.com%2fauth%2fdrive.photos.readonly%20https%3a%2f%2fwww.googleapis.com%2fauth%2fpeopleapi.readonly\n",
            "\n",
            "Enter your authorization code:\n",
            "··········\n",
            "Mounted at /content/gdrive\n"
          ],
          "name": "stdout"
        }
      ]
    },
    {
      "cell_type": "code",
      "metadata": {
        "colab_type": "code",
        "id": "PelpDj0x9BQX",
        "colab": {}
      },
      "source": [
        "from pyspark.sql import SparkSession\n",
        "from pyspark.sql.types import *"
      ],
      "execution_count": 0,
      "outputs": []
    },
    {
      "cell_type": "code",
      "metadata": {
        "colab_type": "code",
        "id": "mAlndDJyDuag",
        "colab": {}
      },
      "source": [
        "APP_NAME = \"Day79\""
      ],
      "execution_count": 0,
      "outputs": []
    },
    {
      "cell_type": "code",
      "metadata": {
        "colab_type": "code",
        "id": "flNZrdlNDuas",
        "colab": {}
      },
      "source": [
        "spark = SparkSession.builder.appName(APP_NAME).getOrCreate()"
      ],
      "execution_count": 0,
      "outputs": []
    },
    {
      "cell_type": "markdown",
      "metadata": {
        "colab_type": "text",
        "id": "A80pjpn4NxSc"
      },
      "source": [
        "We will define the schema of our Amazon Video ratings dataset and load the data into a dataframe. "
      ]
    },
    {
      "cell_type": "code",
      "metadata": {
        "colab_type": "code",
        "id": "fITOhVIXMwzB",
        "colab": {}
      },
      "source": [
        "videoSchema = StructType([StructField('user', StringType(), True),\n",
        "                     StructField('item', StringType(), True),\n",
        "                     StructField('rating', FloatType(), True),\n",
        "                     StructField('timestamp', StringType(), True)])"
      ],
      "execution_count": 0,
      "outputs": []
    },
    {
      "cell_type": "code",
      "metadata": {
        "colab_type": "code",
        "id": "xYzORo8YBUMD",
        "colab": {}
      },
      "source": [
        "video = spark.read.format(\"csv\").option(\"header\", \"false\").schema(videoSchema).load(\"/content/drive/My Drive/Thinkful Datasets/ratings_Amazon_Instant_Video.csv\")"
      ],
      "execution_count": 0,
      "outputs": []
    },
    {
      "cell_type": "markdown",
      "metadata": {
        "id": "CBbvTAV13vKU",
        "colab_type": "text"
      },
      "source": [
        "# New Section"
      ]
    },
    {
      "cell_type": "code",
      "metadata": {
        "id": "-3mtgvTM3wGs",
        "colab_type": "code",
        "outputId": "e1f784fb-eff1-4c59-f514-14271658e702",
        "colab": {
          "base_uri": "https://localhost:8080/",
          "height": 35
        }
      },
      "source": [
        "from google.colab import drive\n",
        "drive.mount('/content/drive')"
      ],
      "execution_count": 0,
      "outputs": [
        {
          "output_type": "stream",
          "text": [
            "Mounted at /content/drive\n"
          ],
          "name": "stdout"
        }
      ]
    },
    {
      "cell_type": "code",
      "metadata": {
        "colab_type": "code",
        "id": "vfM73cyXFgi7",
        "outputId": "eabaaa60-d5e7-4670-fad6-d2d0916d2cc9",
        "colab": {
          "base_uri": "https://localhost:8080/",
          "height": 490
        }
      },
      "source": [
        "video.show()"
      ],
      "execution_count": 0,
      "outputs": [
        {
          "output_type": "stream",
          "text": [
            "+--------------+----------+------+----------+\n",
            "|          user|      item|rating| timestamp|\n",
            "+--------------+----------+------+----------+\n",
            "|A1EE2E3N7PW666|B000GFDAUG|   5.0|1202256000|\n",
            "| AGZ8SM1BGK3CK|B000GFDAUG|   5.0|1198195200|\n",
            "|A2VHZ21245KBT7|B000GIOPK2|   4.0|1215388800|\n",
            "| ACX8YW2D5EGP6|B000GIOPK2|   4.0|1185840000|\n",
            "| A9RNMO9MUSMTJ|B000GIOPK2|   2.0|1281052800|\n",
            "|A3STFVPM8NHJ7B|B000GIOPK2|   5.0|1203897600|\n",
            "|A2582KMXLK2P06|B000GIOPK2|   5.0|1205884800|\n",
            "|A1TZCLCW9QGGBH|B000GIOPK2|   4.0|1209427200|\n",
            "|A2E2I6B878CRMA|B000GIOPK2|   5.0|1378684800|\n",
            "| AD5MZA8SOVMPJ|B000GIOPK2|   5.0|1218240000|\n",
            "|A3IE1M3QVUKIJN|B000GIOPK2|   5.0|1251763200|\n",
            "| AZ1MUCW76BDL1|B000GIOPK2|   5.0|1361145600|\n",
            "|A2XNOB1T796Y6B|B000GIOPK2|   5.0|1233532800|\n",
            "|A12DO7F3TT123V|B000GIOPK2|   2.0|1189987200|\n",
            "|A2UN6AL460C8J4|B000GIOPK2|   1.0|1391299200|\n",
            "| AVYBQU4XX5QR4|B000GIOPK2|   4.0|1363046400|\n",
            "| AVE3EF44DFS0C|B000GIOPK2|   5.0|1190937600|\n",
            "|A27AWN5G5GT6RP|B000GIOPK2|   5.0|1328745600|\n",
            "|A35KJPLBWHF5GJ|B000GIOPK2|   5.0|1257033600|\n",
            "| ADP0IVFAH8EJF|B000GIOPK2|   5.0|1357948800|\n",
            "+--------------+----------+------+----------+\n",
            "only showing top 20 rows\n",
            "\n"
          ],
          "name": "stdout"
        }
      ]
    },
    {
      "cell_type": "code",
      "metadata": {
        "id": "59Pv9iC24v7U",
        "colab_type": "code",
        "outputId": "f5a41572-f4d9-43a7-f573-39eec937d72d",
        "colab": {
          "base_uri": "https://localhost:8080/",
          "height": 35
        }
      },
      "source": [
        "type(video)"
      ],
      "execution_count": 0,
      "outputs": [
        {
          "output_type": "execute_result",
          "data": {
            "text/plain": [
              "pyspark.sql.dataframe.DataFrame"
            ]
          },
          "metadata": {
            "tags": []
          },
          "execution_count": 17
        }
      ]
    },
    {
      "cell_type": "markdown",
      "metadata": {
        "colab_type": "text",
        "id": "0ALPvVSaN5ob"
      },
      "source": [
        "Since we have a timestamp column, this might mean that some users reviewed a video more than once. To make sure we have one review per video per user, we will compute the average rating per user and video."
      ]
    },
    {
      "cell_type": "code",
      "metadata": {
        "id": "OGRWKo756Euv",
        "colab_type": "code",
        "colab": {}
      },
      "source": [
        "from pyspark.sql.functions import desc"
      ],
      "execution_count": 0,
      "outputs": []
    },
    {
      "cell_type": "code",
      "metadata": {
        "colab_type": "code",
        "id": "Qn3-053XMgrk",
        "outputId": "722876fc-16ec-419d-c4ad-c924ea08340c",
        "colab": {
          "base_uri": "https://localhost:8080/",
          "height": 490
        }
      },
      "source": [
        "# Answer below:\n",
        "video.groupBy('item', 'user').count().orderBy('count', ascending=False).show()"
      ],
      "execution_count": 0,
      "outputs": [
        {
          "output_type": "stream",
          "text": [
            "+----------+--------------+-----+\n",
            "|      item|          user|count|\n",
            "+----------+--------------+-----+\n",
            "|B000H0YRNY|A293B44ZW3VU9W|    1|\n",
            "|B000H3RG4I|A3E1R7VPFBXDHQ|    1|\n",
            "|B000H3S8Z4| AAXE8XFYC35UI|    1|\n",
            "|B000H4YNM0| AL143IAR7DSN2|    1|\n",
            "|B000HAB4NK|A2BLL8BM5I5RNL|    1|\n",
            "|B000HAB4NK|A2KAL73T9ME7SV|    1|\n",
            "|B000HAB4NK|A1XCB9U0YL5KS5|    1|\n",
            "|B000HL0KWU|A1PXYAD8AX7G6S|    1|\n",
            "|B000HVITQ4|A2F7CCPK4QL359|    1|\n",
            "|B000HVITQ4| AOK72ELBI86GF|    1|\n",
            "|B000HZEHL6| A64I4IGQ1IUX8|    1|\n",
            "|B000I62JFU| A6AXHB4NFGSNF|    1|\n",
            "|B000I66JMY|A3A4QMP6HJ3AOC|    1|\n",
            "|B000I67MD4| AWM2XN8BG9DTZ|    1|\n",
            "|B000I8EO4W|A1SD8Y9Q1KESLB|    1|\n",
            "|B000I9S5BE|A2K0ZFY81CGGMF|    1|\n",
            "|B000I9S5BE|A36Y6140C5ZPON|    1|\n",
            "|B000IBUIS0|A1NGSVPWLWJT7B|    1|\n",
            "|B000IBUIS0| AUKDWZ381NIT0|    1|\n",
            "|B000IBUP6A| AD094AU9RA7NE|    1|\n",
            "+----------+--------------+-----+\n",
            "only showing top 20 rows\n",
            "\n"
          ],
          "name": "stdout"
        }
      ]
    },
    {
      "cell_type": "code",
      "metadata": {
        "id": "G7aEAjJ_95Mc",
        "colab_type": "code",
        "colab": {}
      },
      "source": [
        "avg_rating = video.groupBy('user', 'item').mean('rating')"
      ],
      "execution_count": 0,
      "outputs": []
    },
    {
      "cell_type": "markdown",
      "metadata": {
        "colab_type": "text",
        "id": "xf2fYux3PqJ1"
      },
      "source": [
        "Rename the average rating column to `mean_rating`"
      ]
    },
    {
      "cell_type": "code",
      "metadata": {
        "colab_type": "code",
        "id": "fuQ4E-QWPIIh",
        "colab": {}
      },
      "source": [
        "# Answer below:\n",
        "video1 = avg_rating.withColumnRenamed('avg(rating)', 'mean_rating')\n"
      ],
      "execution_count": 0,
      "outputs": []
    },
    {
      "cell_type": "code",
      "metadata": {
        "id": "qt0HlVtt-POa",
        "colab_type": "code",
        "outputId": "9307d1e6-7589-4697-d406-d4e2cf0407d6",
        "colab": {
          "base_uri": "https://localhost:8080/",
          "height": 490
        }
      },
      "source": [
        "video1.show()"
      ],
      "execution_count": 0,
      "outputs": [
        {
          "output_type": "stream",
          "text": [
            "+--------------+----------+-----------+\n",
            "|          user|      item|mean_rating|\n",
            "+--------------+----------+-----------+\n",
            "| AXB3UAIB8DHBM|B000GUTWLW|        5.0|\n",
            "|A1I4YAA9N1VVU7|B000H0YRNY|        5.0|\n",
            "|A14XT5GHSYRBPH|B000H0YRNY|        5.0|\n",
            "|A1ZUW4BLFXBNDB|B000H3S8Z4|        4.0|\n",
            "| AAXE8XFYC35UI|B000H3S8Z4|        5.0|\n",
            "|A1PQ7T604TOLIP|B000H4YNM0|        4.0|\n",
            "|A3ULK1Y4XZMS45|B000H4YNM0|        5.0|\n",
            "|A1NI2F0VYALIV6|B000HAB4NK|        5.0|\n",
            "|A1L1DACA4D43TW|B000HKWE3O|        4.0|\n",
            "| AL8EFRSR81UNI|B000HKWE3O|        5.0|\n",
            "|A2B73CL3QSYWLB|B000HMPU0Q|        4.0|\n",
            "|A3QEPSZ62L6BU5|B000HVITQ4|        5.0|\n",
            "|A2TXR85WQLE32N|B000HZEHL6|        5.0|\n",
            "|A2BN1JYWB25MS5|B000HZEHL6|        4.0|\n",
            "| AZEFMBE6SFZ7E|B000I01R40|        5.0|\n",
            "|A3DM1MV8Z71JC1|B000I01R40|        5.0|\n",
            "|A1CXYJJ4W0FPAK|B000I5O6XO|        3.0|\n",
            "|A3A4TEVCALESHQ|B000I5O6Y8|        5.0|\n",
            "|A3ETF68HRRCLJF|B000I5RENI|        5.0|\n",
            "|A2969H8MYNF60C|B000I5RENI|        4.0|\n",
            "+--------------+----------+-----------+\n",
            "only showing top 20 rows\n",
            "\n"
          ],
          "name": "stdout"
        }
      ]
    },
    {
      "cell_type": "markdown",
      "metadata": {
        "colab_type": "text",
        "id": "lU3c_H9nQKrP"
      },
      "source": [
        "Now assign an index to each user and each item. You may use the `monotonically_increasing_id` function in spark or use a sql query with the row number."
      ]
    },
    {
      "cell_type": "code",
      "metadata": {
        "id": "yBIJa8s79gLX",
        "colab_type": "code",
        "colab": {}
      },
      "source": [
        "video1_user_distinct = video1.select('user').distinct()\n",
        "video1_user_distinct.createOrReplaceTempView('video')\n",
        "new_user_id = spark.sql('select row_number() over (order by \"user\") as userIdInt, * from video')"
      ],
      "execution_count": 0,
      "outputs": []
    },
    {
      "cell_type": "code",
      "metadata": {
        "id": "fVi87xBg_Yr_",
        "colab_type": "code",
        "outputId": "ff79b434-9219-42bd-d9f2-d0bd9e138eca",
        "colab": {
          "base_uri": "https://localhost:8080/",
          "height": 217
        }
      },
      "source": [
        "new_user_id.show(5)"
      ],
      "execution_count": 0,
      "outputs": [
        {
          "output_type": "stream",
          "text": [
            "+---------+--------------+\n",
            "|userIdInt|          user|\n",
            "+---------+--------------+\n",
            "|        1| A7O8X1JIUQQCV|\n",
            "|        2|A2EOXFBPW3U8Q0|\n",
            "|        3|A28W4EJPEPAU1L|\n",
            "|        4|A1JNNGRKUF47PP|\n",
            "|        5| AWN6ZMWWMUWLX|\n",
            "+---------+--------------+\n",
            "only showing top 5 rows\n",
            "\n"
          ],
          "name": "stdout"
        }
      ]
    },
    {
      "cell_type": "code",
      "metadata": {
        "id": "jjTlS9Y6_cfV",
        "colab_type": "code",
        "colab": {}
      },
      "source": [
        "video1_item_distinct = video1.select('item').distinct()\n",
        "video1_item_distinct.createOrReplaceTempView('video')\n",
        "new_item_id = spark.sql('select row_number() over (order by \"item\") as itemIdInt, * from video')"
      ],
      "execution_count": 0,
      "outputs": []
    },
    {
      "cell_type": "code",
      "metadata": {
        "id": "V_1i5ikw_n9i",
        "colab_type": "code",
        "outputId": "35480b6f-2cf0-4a57-fbfe-8109474fe71a",
        "colab": {
          "base_uri": "https://localhost:8080/",
          "height": 217
        }
      },
      "source": [
        "new_item_id.show(5)"
      ],
      "execution_count": 0,
      "outputs": [
        {
          "output_type": "stream",
          "text": [
            "+---------+----------+\n",
            "|itemIdInt|      item|\n",
            "+---------+----------+\n",
            "|        1|B000OC3FZQ|\n",
            "|        2|B001MVN03K|\n",
            "|        3|B002AL4A4E|\n",
            "|        4|B003MSR2OE|\n",
            "|        5|B0084TG2LU|\n",
            "+---------+----------+\n",
            "only showing top 5 rows\n",
            "\n"
          ],
          "name": "stdout"
        }
      ]
    },
    {
      "cell_type": "markdown",
      "metadata": {
        "colab_type": "text",
        "id": "dnZbnMPeRDXF"
      },
      "source": [
        "Now split the data into 70% for training and 30% for testing."
      ]
    },
    {
      "cell_type": "code",
      "metadata": {
        "colab_type": "code",
        "id": "obB0wyJHQLt_",
        "colab": {}
      },
      "source": [
        "# Answer below:\n",
        "new_video = video1.join(new_user_id, \"user\", \"inner\").join(new_item_id, \"item\", \"inner\")\n"
      ],
      "execution_count": 0,
      "outputs": []
    },
    {
      "cell_type": "code",
      "metadata": {
        "id": "QT_8Q1H_AVVY",
        "colab_type": "code",
        "outputId": "b602ecea-dd12-4b44-e355-c8888034b9b1",
        "colab": {
          "base_uri": "https://localhost:8080/",
          "height": 308
        }
      },
      "source": [
        "new_video.show(10)"
      ],
      "execution_count": 0,
      "outputs": [
        {
          "output_type": "stream",
          "text": [
            "+----------+--------------+-----------+---------+---------+\n",
            "|      item|          user|mean_rating|userIdInt|itemIdInt|\n",
            "+----------+--------------+-----------+---------+---------+\n",
            "|B000OC3FZQ|A1V97PGLKZTSTC|        5.0|     2954|        1|\n",
            "|B000OC3FZQ|A2EQSWOECBXBDK|        5.0|     2992|        1|\n",
            "|B000OC3FZQ| AB87XW2MYPFTI|        5.0|     9406|        1|\n",
            "|B000OC3FZQ| AL73H4RE0YWD2|        5.0|    10010|        1|\n",
            "|B000OC3FZQ|A3G5JEXHQ6ZG96|        5.0|    12316|        1|\n",
            "|B000OC3FZQ|A1ZW6A1XVDS8JN|        4.0|    20981|        1|\n",
            "|B000OC3FZQ|A1F93NA8HQ47IU|        5.0|    21765|        1|\n",
            "|B000OC3FZQ|A1OE9Z1KSQ0TMX|        4.0|    27465|        1|\n",
            "|B000OC3FZQ|A3980H9VD0B4ZO|        5.0|    25619|        1|\n",
            "|B000OC3FZQ|A2R88HK6AC5PWR|        4.0|    33052|        1|\n",
            "+----------+--------------+-----------+---------+---------+\n",
            "only showing top 10 rows\n",
            "\n"
          ],
          "name": "stdout"
        }
      ]
    },
    {
      "cell_type": "code",
      "metadata": {
        "id": "2-5DwvZUAnZp",
        "colab_type": "code",
        "outputId": "06df06b7-522d-454d-d460-0628aed7d505",
        "colab": {
          "base_uri": "https://localhost:8080/",
          "height": 35
        }
      },
      "source": [
        "# Answer below:\n",
        "train, test = new_video.randomSplit([0.7,0.3], seed = 1)\n",
        "train.count()\n"
      ],
      "execution_count": 0,
      "outputs": [
        {
          "output_type": "execute_result",
          "data": {
            "text/plain": [
              "408782"
            ]
          },
          "metadata": {
            "tags": []
          },
          "execution_count": 67
        }
      ]
    },
    {
      "cell_type": "markdown",
      "metadata": {
        "colab_type": "text",
        "id": "-cmg449GT82F"
      },
      "source": [
        "Generate an alternating least squares model using the training data and predict the ratings for the test data using the model."
      ]
    },
    {
      "cell_type": "code",
      "metadata": {
        "colab_type": "code",
        "id": "97Hu-umhRfUn",
        "colab": {}
      },
      "source": [
        "# Answer below:\n",
        "from pyspark.ml.recommendation import ALS\n",
        "als = ALS()"
      ],
      "execution_count": 0,
      "outputs": []
    },
    {
      "cell_type": "code",
      "metadata": {
        "colab_type": "code",
        "id": "Vw15GjbTUPgU",
        "colab": {}
      },
      "source": [
        "als.setMaxIter(5)\\\n",
        "  .setSeed(1)\\\n",
        "  .setItemCol(\"itemIdInt\")\\\n",
        "  .setRatingCol(\"mean_rating\")\\\n",
        "  .setUserCol(\"userIdInt\")\n",
        "\n",
        "model = als.fit(train)\n",
        "predict_df = model.transform(test)"
      ],
      "execution_count": 0,
      "outputs": []
    },
    {
      "cell_type": "code",
      "metadata": {
        "id": "Y3Ds204BBIlR",
        "colab_type": "code",
        "colab": {}
      },
      "source": [
        "predict_df = predict_df.dropna()"
      ],
      "execution_count": 0,
      "outputs": []
    },
    {
      "cell_type": "code",
      "metadata": {
        "id": "XzUlH7LMI66f",
        "colab_type": "code",
        "outputId": "0101e3a3-ebce-4276-8881-cc64bc5d8c00",
        "colab": {
          "base_uri": "https://localhost:8080/",
          "height": 490
        }
      },
      "source": [
        "predict_df.show()"
      ],
      "execution_count": 0,
      "outputs": [
        {
          "output_type": "stream",
          "text": [
            "+----------+--------------+-----------+---------+---------+-----------+\n",
            "|      item|          user|mean_rating|userIdInt|itemIdInt| prediction|\n",
            "+----------+--------------+-----------+---------+---------+-----------+\n",
            "|B0053ZU4P8| ABCTCW3IEF0SS|        5.0|   339670|      148|   9.203648|\n",
            "|B0053ZU4P8| AXKV0W2E2RR6A|        5.0|   226533|      148|  6.7197256|\n",
            "|B0053ZU4P8|A1ASQLM5XCBT94|        2.0|   185996|      148|  2.2752872|\n",
            "|B0053ZU4P8|A1NRRU43MYI9S0|        3.0|   282404|      148|  -6.537208|\n",
            "|B0053ZU4P8|A3KI8TII3LJ2L3|        5.0|    28222|      148|  2.2137299|\n",
            "|B0053ZU4P8| AZ9GD4PTC99U4|        2.0|   407829|      148|-0.18189467|\n",
            "|B00DCLZMQG|A3TKUCZT8698JR|        4.0|   214905|      496|  0.3798763|\n",
            "|B00DCLZMQG|A2ZJLHHS4O7VHT|        4.0|   217968|      496|0.013990566|\n",
            "|B00DCLZMQG| ALMPUJX6BXAR1|        4.0|     2399|      496| 0.76679295|\n",
            "|B00DCLZMQG|A1W6DWSDVJS43Z|        4.0|   295284|      496|  0.5270287|\n",
            "|B00DCLZMQG|A2X6TZ69E4WX57|        4.0|    81809|      496| -2.8232846|\n",
            "|B00DCLZMQG|A2LJKDPRVR907S|        5.0|   373639|      496|  3.7420166|\n",
            "|B00DCLZMQG|A3CA5NQKWZUF5C|        5.0|    69274|      496|  3.9143353|\n",
            "|B00AUQ09EQ| AJGJN9WKAVLKP|        5.0|   305739|     1238| -0.6779737|\n",
            "|B00AUQ09EQ|A1XMHK9HN5MW2H|        5.0|   121754|     1238| -1.7978729|\n",
            "|B00AUQ09EQ|A1VWJXLWRZYGS2|        5.0|    15290|     1238|  0.6029637|\n",
            "|B007QWK26W|A1JM2Z6FKAUXKK|        5.0|    62588|     1342| -1.6501962|\n",
            "|B007QWK26W|A3MKF2TJPLJZC8|        5.0|    23911|     1342| -2.8457572|\n",
            "|B007QWK26W| AZRRMG7IIE3H1|        5.0|   267481|     1342|-0.85466474|\n",
            "|B007QWK26W| AW5I179TPAG0Q|        5.0|    88147|     1342|  1.9496509|\n",
            "+----------+--------------+-----------+---------+---------+-----------+\n",
            "only showing top 20 rows\n",
            "\n"
          ],
          "name": "stdout"
        }
      ]
    },
    {
      "cell_type": "code",
      "metadata": {
        "id": "qZ8yujm4I-0s",
        "colab_type": "code",
        "outputId": "9878c839-09be-4872-a3c1-c11b59d40df9",
        "colab": {
          "base_uri": "https://localhost:8080/",
          "height": 35
        }
      },
      "source": [
        "from pyspark.ml.evaluation import RegressionEvaluator\n",
        "evaluator = RegressionEvaluator(metricName=\"rmse\", labelCol=\"mean_rating\",\n",
        "                                predictionCol=\"prediction\")\n",
        "rmse = evaluator.evaluate(predict_df)\n",
        "print(\"Root-mean-square error = \" + str(rmse))"
      ],
      "execution_count": 0,
      "outputs": [
        {
          "output_type": "stream",
          "text": [
            "Root-mean-square error = 3.820727839787174\n"
          ],
          "name": "stdout"
        }
      ]
    }
  ]
}