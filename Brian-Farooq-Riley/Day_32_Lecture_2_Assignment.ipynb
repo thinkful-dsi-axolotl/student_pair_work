{
  "nbformat": 4,
  "nbformat_minor": 0,
  "metadata": {
    "kernelspec": {
      "display_name": "Python 3",
      "language": "python",
      "name": "python3"
    },
    "language_info": {
      "codemirror_mode": {
        "name": "ipython",
        "version": 3
      },
      "file_extension": ".py",
      "mimetype": "text/x-python",
      "name": "python",
      "nbconvert_exporter": "python",
      "pygments_lexer": "ipython3",
      "version": "3.7.0"
    },
    "colab": {
      "name": "Day 32: Lecture 2 Assignment.ipynb",
      "provenance": [],
      "collapsed_sections": []
    }
  },
  "cells": [
    {
      "cell_type": "markdown",
      "metadata": {
        "id": "TNewN9PjovQQ",
        "colab_type": "text"
      },
      "source": [
        "## Day 32 Lecture 2 Assignment\n",
        "\n",
        "In this assignment, we will learn about SVM. We will use the csection dataset loaded below and analyze the model generated for this dataset."
      ]
    },
    {
      "cell_type": "code",
      "metadata": {
        "id": "LytTJ7m3ovQR",
        "colab_type": "code",
        "colab": {}
      },
      "source": [
        "%matplotlib inline\n",
        "\n",
        "import matplotlib.pyplot as plt\n",
        "import numpy as np\n",
        "import pandas as pd"
      ],
      "execution_count": 0,
      "outputs": []
    },
    {
      "cell_type": "code",
      "metadata": {
        "id": "suyUnuV1ovQT",
        "colab_type": "code",
        "colab": {}
      },
      "source": [
        "# Age -  ranges from 18 to 40  \n",
        "# Delivery number - ranges from 1 to 4\n",
        "# Delivery time -  {0 = timely , 1 = premature , 2 = latecomer}\n",
        "# Blood of Pressure - {0 = low , 1 = normal , 2 = high }\n",
        "# Heart Problem - {0 = apt, 1 = inept }\n",
        "\n",
        "# Target - Caesarian - {0 = No, 1 = Yes }\n",
        "\n",
        "csection = pd.read_csv('https://tf-assets-prod.s3.amazonaws.com/tf-curric/data-science/csection.csv')"
      ],
      "execution_count": 0,
      "outputs": []
    },
    {
      "cell_type": "markdown",
      "metadata": {
        "id": "3Bmh_TY6ovQU",
        "colab_type": "text"
      },
      "source": [
        "Our goal is to predict the patient needed a csection."
      ]
    },
    {
      "cell_type": "code",
      "metadata": {
        "id": "azzR0Ke4ovQV",
        "colab_type": "code",
        "outputId": "cf592a64-de9c-4116-983d-2816a0431a7c",
        "colab": {
          "base_uri": "https://localhost:8080/",
          "height": 204
        }
      },
      "source": [
        "csection.head()"
      ],
      "execution_count": 3,
      "outputs": [
        {
          "output_type": "execute_result",
          "data": {
            "text/html": [
              "<div>\n",
              "<style scoped>\n",
              "    .dataframe tbody tr th:only-of-type {\n",
              "        vertical-align: middle;\n",
              "    }\n",
              "\n",
              "    .dataframe tbody tr th {\n",
              "        vertical-align: top;\n",
              "    }\n",
              "\n",
              "    .dataframe thead th {\n",
              "        text-align: right;\n",
              "    }\n",
              "</style>\n",
              "<table border=\"1\" class=\"dataframe\">\n",
              "  <thead>\n",
              "    <tr style=\"text-align: right;\">\n",
              "      <th></th>\n",
              "      <th>Age</th>\n",
              "      <th>Delivery number</th>\n",
              "      <th>Delivery time</th>\n",
              "      <th>Blood Pressure</th>\n",
              "      <th>Heart Problem</th>\n",
              "      <th>Caesarian</th>\n",
              "    </tr>\n",
              "  </thead>\n",
              "  <tbody>\n",
              "    <tr>\n",
              "      <th>0</th>\n",
              "      <td>22</td>\n",
              "      <td>1</td>\n",
              "      <td>0</td>\n",
              "      <td>2</td>\n",
              "      <td>0</td>\n",
              "      <td>0</td>\n",
              "    </tr>\n",
              "    <tr>\n",
              "      <th>1</th>\n",
              "      <td>26</td>\n",
              "      <td>2</td>\n",
              "      <td>0</td>\n",
              "      <td>1</td>\n",
              "      <td>0</td>\n",
              "      <td>1</td>\n",
              "    </tr>\n",
              "    <tr>\n",
              "      <th>2</th>\n",
              "      <td>26</td>\n",
              "      <td>2</td>\n",
              "      <td>1</td>\n",
              "      <td>1</td>\n",
              "      <td>0</td>\n",
              "      <td>0</td>\n",
              "    </tr>\n",
              "    <tr>\n",
              "      <th>3</th>\n",
              "      <td>28</td>\n",
              "      <td>1</td>\n",
              "      <td>0</td>\n",
              "      <td>2</td>\n",
              "      <td>0</td>\n",
              "      <td>0</td>\n",
              "    </tr>\n",
              "    <tr>\n",
              "      <th>4</th>\n",
              "      <td>22</td>\n",
              "      <td>2</td>\n",
              "      <td>0</td>\n",
              "      <td>1</td>\n",
              "      <td>0</td>\n",
              "      <td>1</td>\n",
              "    </tr>\n",
              "  </tbody>\n",
              "</table>\n",
              "</div>"
            ],
            "text/plain": [
              "   Age  Delivery number  ...  Heart Problem  Caesarian\n",
              "0   22                1  ...              0          0\n",
              "1   26                2  ...              0          1\n",
              "2   26                2  ...              0          0\n",
              "3   28                1  ...              0          0\n",
              "4   22                2  ...              0          1\n",
              "\n",
              "[5 rows x 6 columns]"
            ]
          },
          "metadata": {
            "tags": []
          },
          "execution_count": 3
        }
      ]
    },
    {
      "cell_type": "markdown",
      "metadata": {
        "id": "czH3rbgvovQX",
        "colab_type": "text"
      },
      "source": [
        "Check whether the data has missing values and remove all rows containing missing values."
      ]
    },
    {
      "cell_type": "code",
      "metadata": {
        "id": "SQ5lvwgtovQY",
        "colab_type": "code",
        "outputId": "b73c4671-0ae9-4693-dc67-7c2d5ab5d188",
        "colab": {
          "base_uri": "https://localhost:8080/",
          "height": 204
        }
      },
      "source": [
        "# answer below:\n",
        "csection.info()\n"
      ],
      "execution_count": 4,
      "outputs": [
        {
          "output_type": "stream",
          "text": [
            "<class 'pandas.core.frame.DataFrame'>\n",
            "RangeIndex: 80 entries, 0 to 79\n",
            "Data columns (total 6 columns):\n",
            "Age                80 non-null int64\n",
            "Delivery number    80 non-null int64\n",
            "Delivery time      80 non-null int64\n",
            "Blood Pressure     80 non-null int64\n",
            "Heart Problem      80 non-null int64\n",
            "Caesarian          80 non-null int64\n",
            "dtypes: int64(6)\n",
            "memory usage: 3.9 KB\n"
          ],
          "name": "stdout"
        }
      ]
    },
    {
      "cell_type": "markdown",
      "metadata": {
        "id": "ctUa7VJaovQa",
        "colab_type": "text"
      },
      "source": [
        "Examine the distribution of delivery number, blood pressure and heart problem."
      ]
    },
    {
      "cell_type": "code",
      "metadata": {
        "id": "hwLw5sCDovQa",
        "colab_type": "code",
        "colab": {}
      },
      "source": [
        "# answer below:"
      ],
      "execution_count": 0,
      "outputs": []
    },
    {
      "cell_type": "markdown",
      "metadata": {
        "id": "bfwT1rHQovQc",
        "colab_type": "text"
      },
      "source": [
        "What are your conclusions from the distribtuions of these variables? Write them below."
      ]
    },
    {
      "cell_type": "code",
      "metadata": {
        "id": "x1eDQXs8ovQc",
        "colab_type": "code",
        "colab": {}
      },
      "source": [
        "# answer below:\n",
        "\n"
      ],
      "execution_count": 0,
      "outputs": []
    },
    {
      "cell_type": "markdown",
      "metadata": {
        "id": "uuntXGeFovQe",
        "colab_type": "text"
      },
      "source": [
        "Create dummy variables from all columns containing categorical variables with more than two values."
      ]
    },
    {
      "cell_type": "code",
      "metadata": {
        "id": "bCNx1HLBovQe",
        "colab_type": "code",
        "colab": {}
      },
      "source": [
        "# answer below:\n",
        "\n"
      ],
      "execution_count": 0,
      "outputs": []
    },
    {
      "cell_type": "markdown",
      "metadata": {
        "id": "-H-fgAcvovQg",
        "colab_type": "text"
      },
      "source": [
        "Split the data into test and train with test containing 20% of the data."
      ]
    },
    {
      "cell_type": "code",
      "metadata": {
        "id": "Fjauxq1WovQg",
        "colab_type": "code",
        "colab": {}
      },
      "source": [
        "# answer below:\n",
        "\n"
      ],
      "execution_count": 0,
      "outputs": []
    },
    {
      "cell_type": "markdown",
      "metadata": {
        "id": "Dqv8gMI-ovQi",
        "colab_type": "text"
      },
      "source": [
        "Use the linear kernel to train a SVC model on our training data. Report the score for the test data."
      ]
    },
    {
      "cell_type": "code",
      "metadata": {
        "id": "Fw3loKixovQi",
        "colab_type": "code",
        "colab": {}
      },
      "source": [
        "# answer below:\n",
        "\n"
      ],
      "execution_count": 0,
      "outputs": []
    },
    {
      "cell_type": "code",
      "metadata": {
        "id": "bnixBOTNovQj",
        "colab_type": "code",
        "colab": {}
      },
      "source": [
        ""
      ],
      "execution_count": 0,
      "outputs": []
    }
  ]
}