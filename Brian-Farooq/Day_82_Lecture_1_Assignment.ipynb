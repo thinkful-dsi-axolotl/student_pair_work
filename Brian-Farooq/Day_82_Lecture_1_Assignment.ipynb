{
  "nbformat": 4,
  "nbformat_minor": 0,
  "metadata": {
    "kernelspec": {
      "display_name": "Python 3",
      "language": "python",
      "name": "python3"
    },
    "language_info": {
      "codemirror_mode": {
        "name": "ipython",
        "version": 3
      },
      "file_extension": ".py",
      "mimetype": "text/x-python",
      "name": "python",
      "nbconvert_exporter": "python",
      "pygments_lexer": "ipython3",
      "version": "3.7.0"
    },
    "colab": {
      "name": "Day 82 Lecture 1 Assignment.ipynb",
      "provenance": [],
      "collapsed_sections": []
    }
  },
  "cells": [
    {
      "cell_type": "markdown",
      "metadata": {
        "id": "tEyRSqh_0jS7",
        "colab_type": "text"
      },
      "source": [
        "## Day 82 Lecture 1 Assignment\n",
        "\n",
        "In this assignment, we will learn about activation functions. We will create a neural network and measure the model's performance using different activations."
      ]
    },
    {
      "cell_type": "code",
      "metadata": {
        "id": "G90ceQrtu8QM",
        "colab_type": "code",
        "colab": {}
      },
      "source": [
        "# Install tf2.0\n",
        "!pip install tensorflow-gpu==2.0.0-rc1"
      ],
      "execution_count": 0,
      "outputs": []
    },
    {
      "cell_type": "code",
      "metadata": {
        "id": "DgLFu1Hs0jS-",
        "colab_type": "code",
        "colab": {}
      },
      "source": [
        "import numpy as np\n",
        "import pandas as pd"
      ],
      "execution_count": 0,
      "outputs": []
    },
    {
      "cell_type": "markdown",
      "metadata": {
        "id": "BTzJti900jTA",
        "colab_type": "text"
      },
      "source": [
        "We will import the famous titanic dataset below and produce a neural network that will predict the chance of survival for a passenger."
      ]
    },
    {
      "cell_type": "code",
      "metadata": {
        "id": "CDlLGz270jTB",
        "colab_type": "code",
        "colab": {}
      },
      "source": [
        "titanic = pd.read_csv('https://tf-assets-prod.s3.amazonaws.com/tf-curric/data-science/titanic.csv')"
      ],
      "execution_count": 0,
      "outputs": []
    },
    {
      "cell_type": "code",
      "metadata": {
        "id": "z01i6-rV0jTD",
        "colab_type": "code",
        "outputId": "d05ea43f-d515-438b-bde9-5f8b25944378",
        "colab": {
          "base_uri": "https://localhost:8080/",
          "height": 238
        }
      },
      "source": [
        "titanic.head()"
      ],
      "execution_count": 16,
      "outputs": [
        {
          "output_type": "execute_result",
          "data": {
            "text/html": [
              "<div>\n",
              "<style scoped>\n",
              "    .dataframe tbody tr th:only-of-type {\n",
              "        vertical-align: middle;\n",
              "    }\n",
              "\n",
              "    .dataframe tbody tr th {\n",
              "        vertical-align: top;\n",
              "    }\n",
              "\n",
              "    .dataframe thead th {\n",
              "        text-align: right;\n",
              "    }\n",
              "</style>\n",
              "<table border=\"1\" class=\"dataframe\">\n",
              "  <thead>\n",
              "    <tr style=\"text-align: right;\">\n",
              "      <th></th>\n",
              "      <th>PassengerId</th>\n",
              "      <th>Survived</th>\n",
              "      <th>Pclass</th>\n",
              "      <th>Name</th>\n",
              "      <th>Sex</th>\n",
              "      <th>Age</th>\n",
              "      <th>SibSp</th>\n",
              "      <th>Parch</th>\n",
              "      <th>Ticket</th>\n",
              "      <th>Fare</th>\n",
              "      <th>Cabin</th>\n",
              "      <th>Embarked</th>\n",
              "    </tr>\n",
              "  </thead>\n",
              "  <tbody>\n",
              "    <tr>\n",
              "      <th>0</th>\n",
              "      <td>1</td>\n",
              "      <td>0</td>\n",
              "      <td>3</td>\n",
              "      <td>Braund, Mr. Owen Harris</td>\n",
              "      <td>male</td>\n",
              "      <td>22.0</td>\n",
              "      <td>1</td>\n",
              "      <td>0</td>\n",
              "      <td>A/5 21171</td>\n",
              "      <td>7.2500</td>\n",
              "      <td>NaN</td>\n",
              "      <td>S</td>\n",
              "    </tr>\n",
              "    <tr>\n",
              "      <th>1</th>\n",
              "      <td>2</td>\n",
              "      <td>1</td>\n",
              "      <td>1</td>\n",
              "      <td>Cumings, Mrs. John Bradley (Florence Briggs Th...</td>\n",
              "      <td>female</td>\n",
              "      <td>38.0</td>\n",
              "      <td>1</td>\n",
              "      <td>0</td>\n",
              "      <td>PC 17599</td>\n",
              "      <td>71.2833</td>\n",
              "      <td>C85</td>\n",
              "      <td>C</td>\n",
              "    </tr>\n",
              "    <tr>\n",
              "      <th>2</th>\n",
              "      <td>3</td>\n",
              "      <td>1</td>\n",
              "      <td>3</td>\n",
              "      <td>Heikkinen, Miss. Laina</td>\n",
              "      <td>female</td>\n",
              "      <td>26.0</td>\n",
              "      <td>0</td>\n",
              "      <td>0</td>\n",
              "      <td>STON/O2. 3101282</td>\n",
              "      <td>7.9250</td>\n",
              "      <td>NaN</td>\n",
              "      <td>S</td>\n",
              "    </tr>\n",
              "    <tr>\n",
              "      <th>3</th>\n",
              "      <td>4</td>\n",
              "      <td>1</td>\n",
              "      <td>1</td>\n",
              "      <td>Futrelle, Mrs. Jacques Heath (Lily May Peel)</td>\n",
              "      <td>female</td>\n",
              "      <td>35.0</td>\n",
              "      <td>1</td>\n",
              "      <td>0</td>\n",
              "      <td>113803</td>\n",
              "      <td>53.1000</td>\n",
              "      <td>C123</td>\n",
              "      <td>S</td>\n",
              "    </tr>\n",
              "    <tr>\n",
              "      <th>4</th>\n",
              "      <td>5</td>\n",
              "      <td>0</td>\n",
              "      <td>3</td>\n",
              "      <td>Allen, Mr. William Henry</td>\n",
              "      <td>male</td>\n",
              "      <td>35.0</td>\n",
              "      <td>0</td>\n",
              "      <td>0</td>\n",
              "      <td>373450</td>\n",
              "      <td>8.0500</td>\n",
              "      <td>NaN</td>\n",
              "      <td>S</td>\n",
              "    </tr>\n",
              "  </tbody>\n",
              "</table>\n",
              "</div>"
            ],
            "text/plain": [
              "   PassengerId  Survived  Pclass  ...     Fare Cabin  Embarked\n",
              "0            1         0       3  ...   7.2500   NaN         S\n",
              "1            2         1       1  ...  71.2833   C85         C\n",
              "2            3         1       3  ...   7.9250   NaN         S\n",
              "3            4         1       1  ...  53.1000  C123         S\n",
              "4            5         0       3  ...   8.0500   NaN         S\n",
              "\n",
              "[5 rows x 12 columns]"
            ]
          },
          "metadata": {
            "tags": []
          },
          "execution_count": 16
        }
      ]
    },
    {
      "cell_type": "markdown",
      "metadata": {
        "id": "xyD_6NR00jTG",
        "colab_type": "text"
      },
      "source": [
        "We'll perform some feature engineering\n",
        "\n",
        "Let's start by keeping only the columns we'd like to use for our analysis. Keep only the columns: Survived, Pclass, Sex, SibSp, Parch, and Embarked"
      ]
    },
    {
      "cell_type": "code",
      "metadata": {
        "id": "Lfp0XlLk0jTG",
        "colab_type": "code",
        "outputId": "3044e7dd-d7ad-415c-96ea-cf9c8fe65d8f",
        "colab": {
          "base_uri": "https://localhost:8080/",
          "height": 204
        }
      },
      "source": [
        "# Answer below:\n",
        "df = titanic[['Survived', 'Pclass', 'Sex', 'SibSp', 'Parch', 'Embarked']]\n",
        "df.head()"
      ],
      "execution_count": 17,
      "outputs": [
        {
          "output_type": "execute_result",
          "data": {
            "text/html": [
              "<div>\n",
              "<style scoped>\n",
              "    .dataframe tbody tr th:only-of-type {\n",
              "        vertical-align: middle;\n",
              "    }\n",
              "\n",
              "    .dataframe tbody tr th {\n",
              "        vertical-align: top;\n",
              "    }\n",
              "\n",
              "    .dataframe thead th {\n",
              "        text-align: right;\n",
              "    }\n",
              "</style>\n",
              "<table border=\"1\" class=\"dataframe\">\n",
              "  <thead>\n",
              "    <tr style=\"text-align: right;\">\n",
              "      <th></th>\n",
              "      <th>Survived</th>\n",
              "      <th>Pclass</th>\n",
              "      <th>Sex</th>\n",
              "      <th>SibSp</th>\n",
              "      <th>Parch</th>\n",
              "      <th>Embarked</th>\n",
              "    </tr>\n",
              "  </thead>\n",
              "  <tbody>\n",
              "    <tr>\n",
              "      <th>0</th>\n",
              "      <td>0</td>\n",
              "      <td>3</td>\n",
              "      <td>male</td>\n",
              "      <td>1</td>\n",
              "      <td>0</td>\n",
              "      <td>S</td>\n",
              "    </tr>\n",
              "    <tr>\n",
              "      <th>1</th>\n",
              "      <td>1</td>\n",
              "      <td>1</td>\n",
              "      <td>female</td>\n",
              "      <td>1</td>\n",
              "      <td>0</td>\n",
              "      <td>C</td>\n",
              "    </tr>\n",
              "    <tr>\n",
              "      <th>2</th>\n",
              "      <td>1</td>\n",
              "      <td>3</td>\n",
              "      <td>female</td>\n",
              "      <td>0</td>\n",
              "      <td>0</td>\n",
              "      <td>S</td>\n",
              "    </tr>\n",
              "    <tr>\n",
              "      <th>3</th>\n",
              "      <td>1</td>\n",
              "      <td>1</td>\n",
              "      <td>female</td>\n",
              "      <td>1</td>\n",
              "      <td>0</td>\n",
              "      <td>S</td>\n",
              "    </tr>\n",
              "    <tr>\n",
              "      <th>4</th>\n",
              "      <td>0</td>\n",
              "      <td>3</td>\n",
              "      <td>male</td>\n",
              "      <td>0</td>\n",
              "      <td>0</td>\n",
              "      <td>S</td>\n",
              "    </tr>\n",
              "  </tbody>\n",
              "</table>\n",
              "</div>"
            ],
            "text/plain": [
              "   Survived  Pclass     Sex  SibSp  Parch Embarked\n",
              "0         0       3    male      1      0        S\n",
              "1         1       1  female      1      0        C\n",
              "2         1       3  female      0      0        S\n",
              "3         1       1  female      1      0        S\n",
              "4         0       3    male      0      0        S"
            ]
          },
          "metadata": {
            "tags": []
          },
          "execution_count": 17
        }
      ]
    },
    {
      "cell_type": "markdown",
      "metadata": {
        "id": "uvBUzjzG0jTI",
        "colab_type": "text"
      },
      "source": [
        "Now examine how many rows contain missing data. Given how much missing data we have, should we remove the column with the most missing data, or remove all rows containing missing data? Do what you think is best."
      ]
    },
    {
      "cell_type": "code",
      "metadata": {
        "id": "bNoPCPkQbiW_",
        "colab_type": "code",
        "outputId": "ab5ab6fc-1888-4f1e-e6a9-bb34d95f478d",
        "colab": {
          "base_uri": "https://localhost:8080/",
          "height": 204
        }
      },
      "source": [
        "df.info()"
      ],
      "execution_count": 18,
      "outputs": [
        {
          "output_type": "stream",
          "text": [
            "<class 'pandas.core.frame.DataFrame'>\n",
            "RangeIndex: 891 entries, 0 to 890\n",
            "Data columns (total 6 columns):\n",
            "Survived    891 non-null int64\n",
            "Pclass      891 non-null int64\n",
            "Sex         891 non-null object\n",
            "SibSp       891 non-null int64\n",
            "Parch       891 non-null int64\n",
            "Embarked    889 non-null object\n",
            "dtypes: int64(4), object(2)\n",
            "memory usage: 41.9+ KB\n"
          ],
          "name": "stdout"
        }
      ]
    },
    {
      "cell_type": "code",
      "metadata": {
        "id": "ZBy77vUGb_42",
        "colab_type": "code",
        "outputId": "1bfc2b94-0ead-4e53-8336-0b00a1a167dc",
        "colab": {
          "base_uri": "https://localhost:8080/",
          "height": 136
        }
      },
      "source": [
        "df.isnull().sum()"
      ],
      "execution_count": 19,
      "outputs": [
        {
          "output_type": "execute_result",
          "data": {
            "text/plain": [
              "Survived    0\n",
              "Pclass      0\n",
              "Sex         0\n",
              "SibSp       0\n",
              "Parch       0\n",
              "Embarked    2\n",
              "dtype: int64"
            ]
          },
          "metadata": {
            "tags": []
          },
          "execution_count": 19
        }
      ]
    },
    {
      "cell_type": "code",
      "metadata": {
        "id": "PwnHzNjP0jTJ",
        "colab_type": "code",
        "outputId": "d35251d7-dc55-46e8-f6a3-b868bbe820d4",
        "colab": {
          "base_uri": "https://localhost:8080/",
          "height": 419
        }
      },
      "source": [
        "# Answer below: \n",
        "df.dropna()"
      ],
      "execution_count": 20,
      "outputs": [
        {
          "output_type": "execute_result",
          "data": {
            "text/html": [
              "<div>\n",
              "<style scoped>\n",
              "    .dataframe tbody tr th:only-of-type {\n",
              "        vertical-align: middle;\n",
              "    }\n",
              "\n",
              "    .dataframe tbody tr th {\n",
              "        vertical-align: top;\n",
              "    }\n",
              "\n",
              "    .dataframe thead th {\n",
              "        text-align: right;\n",
              "    }\n",
              "</style>\n",
              "<table border=\"1\" class=\"dataframe\">\n",
              "  <thead>\n",
              "    <tr style=\"text-align: right;\">\n",
              "      <th></th>\n",
              "      <th>Survived</th>\n",
              "      <th>Pclass</th>\n",
              "      <th>Sex</th>\n",
              "      <th>SibSp</th>\n",
              "      <th>Parch</th>\n",
              "      <th>Embarked</th>\n",
              "    </tr>\n",
              "  </thead>\n",
              "  <tbody>\n",
              "    <tr>\n",
              "      <th>0</th>\n",
              "      <td>0</td>\n",
              "      <td>3</td>\n",
              "      <td>male</td>\n",
              "      <td>1</td>\n",
              "      <td>0</td>\n",
              "      <td>S</td>\n",
              "    </tr>\n",
              "    <tr>\n",
              "      <th>1</th>\n",
              "      <td>1</td>\n",
              "      <td>1</td>\n",
              "      <td>female</td>\n",
              "      <td>1</td>\n",
              "      <td>0</td>\n",
              "      <td>C</td>\n",
              "    </tr>\n",
              "    <tr>\n",
              "      <th>2</th>\n",
              "      <td>1</td>\n",
              "      <td>3</td>\n",
              "      <td>female</td>\n",
              "      <td>0</td>\n",
              "      <td>0</td>\n",
              "      <td>S</td>\n",
              "    </tr>\n",
              "    <tr>\n",
              "      <th>3</th>\n",
              "      <td>1</td>\n",
              "      <td>1</td>\n",
              "      <td>female</td>\n",
              "      <td>1</td>\n",
              "      <td>0</td>\n",
              "      <td>S</td>\n",
              "    </tr>\n",
              "    <tr>\n",
              "      <th>4</th>\n",
              "      <td>0</td>\n",
              "      <td>3</td>\n",
              "      <td>male</td>\n",
              "      <td>0</td>\n",
              "      <td>0</td>\n",
              "      <td>S</td>\n",
              "    </tr>\n",
              "    <tr>\n",
              "      <th>...</th>\n",
              "      <td>...</td>\n",
              "      <td>...</td>\n",
              "      <td>...</td>\n",
              "      <td>...</td>\n",
              "      <td>...</td>\n",
              "      <td>...</td>\n",
              "    </tr>\n",
              "    <tr>\n",
              "      <th>886</th>\n",
              "      <td>0</td>\n",
              "      <td>2</td>\n",
              "      <td>male</td>\n",
              "      <td>0</td>\n",
              "      <td>0</td>\n",
              "      <td>S</td>\n",
              "    </tr>\n",
              "    <tr>\n",
              "      <th>887</th>\n",
              "      <td>1</td>\n",
              "      <td>1</td>\n",
              "      <td>female</td>\n",
              "      <td>0</td>\n",
              "      <td>0</td>\n",
              "      <td>S</td>\n",
              "    </tr>\n",
              "    <tr>\n",
              "      <th>888</th>\n",
              "      <td>0</td>\n",
              "      <td>3</td>\n",
              "      <td>female</td>\n",
              "      <td>1</td>\n",
              "      <td>2</td>\n",
              "      <td>S</td>\n",
              "    </tr>\n",
              "    <tr>\n",
              "      <th>889</th>\n",
              "      <td>1</td>\n",
              "      <td>1</td>\n",
              "      <td>male</td>\n",
              "      <td>0</td>\n",
              "      <td>0</td>\n",
              "      <td>C</td>\n",
              "    </tr>\n",
              "    <tr>\n",
              "      <th>890</th>\n",
              "      <td>0</td>\n",
              "      <td>3</td>\n",
              "      <td>male</td>\n",
              "      <td>0</td>\n",
              "      <td>0</td>\n",
              "      <td>Q</td>\n",
              "    </tr>\n",
              "  </tbody>\n",
              "</table>\n",
              "<p>889 rows × 6 columns</p>\n",
              "</div>"
            ],
            "text/plain": [
              "     Survived  Pclass     Sex  SibSp  Parch Embarked\n",
              "0           0       3    male      1      0        S\n",
              "1           1       1  female      1      0        C\n",
              "2           1       3  female      0      0        S\n",
              "3           1       1  female      1      0        S\n",
              "4           0       3    male      0      0        S\n",
              "..        ...     ...     ...    ...    ...      ...\n",
              "886         0       2    male      0      0        S\n",
              "887         1       1  female      0      0        S\n",
              "888         0       3  female      1      2        S\n",
              "889         1       1    male      0      0        C\n",
              "890         0       3    male      0      0        Q\n",
              "\n",
              "[889 rows x 6 columns]"
            ]
          },
          "metadata": {
            "tags": []
          },
          "execution_count": 20
        }
      ]
    },
    {
      "cell_type": "markdown",
      "metadata": {
        "id": "imTrmBpL0jTK",
        "colab_type": "text"
      },
      "source": [
        "Now we'll create a one hot encoding of the variables Pclass, sex, and Embarked"
      ]
    },
    {
      "cell_type": "code",
      "metadata": {
        "id": "peZdqS5dvCPD",
        "colab_type": "code",
        "colab": {
          "base_uri": "https://localhost:8080/",
          "height": 85
        },
        "outputId": "5b5a57d9-113c-4bd0-baad-510da4ad026a"
      },
      "source": [
        "df.Pclass.value_counts()"
      ],
      "execution_count": 21,
      "outputs": [
        {
          "output_type": "execute_result",
          "data": {
            "text/plain": [
              "3    491\n",
              "1    216\n",
              "2    184\n",
              "Name: Pclass, dtype: int64"
            ]
          },
          "metadata": {
            "tags": []
          },
          "execution_count": 21
        }
      ]
    },
    {
      "cell_type": "code",
      "metadata": {
        "id": "_hmlAVQgvFKh",
        "colab_type": "code",
        "colab": {
          "base_uri": "https://localhost:8080/",
          "height": 68
        },
        "outputId": "20449e97-698a-4dcd-b4ce-875f26b172b1"
      },
      "source": [
        "df.Sex.value_counts()"
      ],
      "execution_count": 22,
      "outputs": [
        {
          "output_type": "execute_result",
          "data": {
            "text/plain": [
              "male      577\n",
              "female    314\n",
              "Name: Sex, dtype: int64"
            ]
          },
          "metadata": {
            "tags": []
          },
          "execution_count": 22
        }
      ]
    },
    {
      "cell_type": "code",
      "metadata": {
        "id": "Ip5ZXoUavGgN",
        "colab_type": "code",
        "colab": {
          "base_uri": "https://localhost:8080/",
          "height": 85
        },
        "outputId": "61fbd5b1-b28f-44ef-9bce-37d11bb035b9"
      },
      "source": [
        "df.Embarked.value_counts()"
      ],
      "execution_count": 23,
      "outputs": [
        {
          "output_type": "execute_result",
          "data": {
            "text/plain": [
              "S    644\n",
              "C    168\n",
              "Q     77\n",
              "Name: Embarked, dtype: int64"
            ]
          },
          "metadata": {
            "tags": []
          },
          "execution_count": 23
        }
      ]
    },
    {
      "cell_type": "code",
      "metadata": {
        "id": "SD_qCdv60jTL",
        "colab_type": "code",
        "colab": {}
      },
      "source": [
        "# Answer below:\n",
        "df = pd.get_dummies(data=df, columns=['Pclass', 'Sex','Embarked'], drop_first=True)"
      ],
      "execution_count": 0,
      "outputs": []
    },
    {
      "cell_type": "code",
      "metadata": {
        "id": "rZTOzvw-dOw6",
        "colab_type": "code",
        "outputId": "bdbc09cb-cc75-40eb-9156-209372dcb7ed",
        "colab": {
          "base_uri": "https://localhost:8080/",
          "height": 204
        }
      },
      "source": [
        "df.head()"
      ],
      "execution_count": 25,
      "outputs": [
        {
          "output_type": "execute_result",
          "data": {
            "text/html": [
              "<div>\n",
              "<style scoped>\n",
              "    .dataframe tbody tr th:only-of-type {\n",
              "        vertical-align: middle;\n",
              "    }\n",
              "\n",
              "    .dataframe tbody tr th {\n",
              "        vertical-align: top;\n",
              "    }\n",
              "\n",
              "    .dataframe thead th {\n",
              "        text-align: right;\n",
              "    }\n",
              "</style>\n",
              "<table border=\"1\" class=\"dataframe\">\n",
              "  <thead>\n",
              "    <tr style=\"text-align: right;\">\n",
              "      <th></th>\n",
              "      <th>Survived</th>\n",
              "      <th>SibSp</th>\n",
              "      <th>Parch</th>\n",
              "      <th>Pclass_2</th>\n",
              "      <th>Pclass_3</th>\n",
              "      <th>Sex_male</th>\n",
              "      <th>Embarked_Q</th>\n",
              "      <th>Embarked_S</th>\n",
              "    </tr>\n",
              "  </thead>\n",
              "  <tbody>\n",
              "    <tr>\n",
              "      <th>0</th>\n",
              "      <td>0</td>\n",
              "      <td>1</td>\n",
              "      <td>0</td>\n",
              "      <td>0</td>\n",
              "      <td>1</td>\n",
              "      <td>1</td>\n",
              "      <td>0</td>\n",
              "      <td>1</td>\n",
              "    </tr>\n",
              "    <tr>\n",
              "      <th>1</th>\n",
              "      <td>1</td>\n",
              "      <td>1</td>\n",
              "      <td>0</td>\n",
              "      <td>0</td>\n",
              "      <td>0</td>\n",
              "      <td>0</td>\n",
              "      <td>0</td>\n",
              "      <td>0</td>\n",
              "    </tr>\n",
              "    <tr>\n",
              "      <th>2</th>\n",
              "      <td>1</td>\n",
              "      <td>0</td>\n",
              "      <td>0</td>\n",
              "      <td>0</td>\n",
              "      <td>1</td>\n",
              "      <td>0</td>\n",
              "      <td>0</td>\n",
              "      <td>1</td>\n",
              "    </tr>\n",
              "    <tr>\n",
              "      <th>3</th>\n",
              "      <td>1</td>\n",
              "      <td>1</td>\n",
              "      <td>0</td>\n",
              "      <td>0</td>\n",
              "      <td>0</td>\n",
              "      <td>0</td>\n",
              "      <td>0</td>\n",
              "      <td>1</td>\n",
              "    </tr>\n",
              "    <tr>\n",
              "      <th>4</th>\n",
              "      <td>0</td>\n",
              "      <td>0</td>\n",
              "      <td>0</td>\n",
              "      <td>0</td>\n",
              "      <td>1</td>\n",
              "      <td>1</td>\n",
              "      <td>0</td>\n",
              "      <td>1</td>\n",
              "    </tr>\n",
              "  </tbody>\n",
              "</table>\n",
              "</div>"
            ],
            "text/plain": [
              "   Survived  SibSp  Parch  Pclass_2  Pclass_3  Sex_male  Embarked_Q  Embarked_S\n",
              "0         0      1      0         0         1         1           0           1\n",
              "1         1      1      0         0         0         0           0           0\n",
              "2         1      0      0         0         1         0           0           1\n",
              "3         1      1      0         0         0         0           0           1\n",
              "4         0      0      0         0         1         1           0           1"
            ]
          },
          "metadata": {
            "tags": []
          },
          "execution_count": 25
        }
      ]
    },
    {
      "cell_type": "markdown",
      "metadata": {
        "id": "5vv2pncX0jTM",
        "colab_type": "text"
      },
      "source": [
        "Split the data into train and test. 20% of the data should be set aside for testing. Use Survived as your target variable."
      ]
    },
    {
      "cell_type": "code",
      "metadata": {
        "id": "4DzzK0j-0jTN",
        "colab_type": "code",
        "outputId": "f488a4c9-cf1c-4919-d54a-16f9a9d77636",
        "colab": {
          "base_uri": "https://localhost:8080/",
          "height": 34
        }
      },
      "source": [
        "# Answer below\n",
        "from sklearn.model_selection import train_test_split\n",
        "X = df.drop('Survived',1)\n",
        "y = df['Survived']\n",
        "\n",
        "X_train, X_test, y_train, y_test = train_test_split(X,y, test_size=0.20, random_state=25)\n",
        "X_train.shape, X_test.shape"
      ],
      "execution_count": 33,
      "outputs": [
        {
          "output_type": "execute_result",
          "data": {
            "text/plain": [
              "((712, 7), (179, 7))"
            ]
          },
          "metadata": {
            "tags": []
          },
          "execution_count": 33
        }
      ]
    },
    {
      "cell_type": "markdown",
      "metadata": {
        "id": "H-27Xq4M0jTP",
        "colab_type": "text"
      },
      "source": [
        "At this point, we are ready to create a model. Import `Sequential` and `Dense` from Keras"
      ]
    },
    {
      "cell_type": "code",
      "metadata": {
        "id": "PDcPIuoD0jTP",
        "colab_type": "code",
        "colab": {}
      },
      "source": [
        "# Answer below:\n",
        "from keras.models import Sequential\n",
        "from keras.layers import Dense"
      ],
      "execution_count": 0,
      "outputs": []
    },
    {
      "cell_type": "markdown",
      "metadata": {
        "id": "ub0uCwyH0jTR",
        "colab_type": "text"
      },
      "source": [
        "Create a model with 5 layers. The first layer should be a dense layer that receives the input, the last layer should be of size 1. You determine the remaining layer sizes.\n",
        "\n",
        "Use a tanh activation for the output layer."
      ]
    },
    {
      "cell_type": "code",
      "metadata": {
        "id": "wSiTyR7D0jTR",
        "colab_type": "code",
        "colab": {}
      },
      "source": [
        "# Answer below\n",
        "model = Sequential()\n",
        "model.add(Dense(100,input_shape = (X_train.shape[1],),activation='relu'))\n",
        "model.add(Dense(100,activation='relu'))\n",
        "model.add(Dense(100,activation='relu'))\n",
        "model.add(Dense(100,activation='relu'))\n",
        "model.add(Dense(1,activation='tanh'))\n"
      ],
      "execution_count": 0,
      "outputs": []
    },
    {
      "cell_type": "markdown",
      "metadata": {
        "id": "yh-Ely-K0jTT",
        "colab_type": "text"
      },
      "source": [
        "Compile the model using the adam optimizer, binary crossentropy loss, and the accuracy metric.\n",
        "\n",
        "Fit the model using a batch size of 80 over 200 epochs."
      ]
    },
    {
      "cell_type": "code",
      "metadata": {
        "id": "lT-9MGP30jTT",
        "colab_type": "code",
        "colab": {
          "base_uri": "https://localhost:8080/",
          "height": 731
        },
        "outputId": "9a96f136-9676-405b-c863-447a5e657cc7"
      },
      "source": [
        "# Answer below:\n",
        "model.compile(optimizer='adam', loss='binary_crossentropy', metrics=['accuracy'])\n",
        "model.fit(X_train,y_train, batch_size=80, epochs=20, verbose=1)\n",
        "score = model.evaluate(X_test,y_test)\n",
        "print(score)"
      ],
      "execution_count": 46,
      "outputs": [
        {
          "output_type": "stream",
          "text": [
            "Epoch 1/20\n",
            "712/712 [==============================] - 1s 1ms/step - loss: 1.1943 - acc: 0.5758\n",
            "Epoch 2/20\n",
            "712/712 [==============================] - 0s 37us/step - loss: 0.7210 - acc: 0.6138\n",
            "Epoch 3/20\n",
            "712/712 [==============================] - 0s 36us/step - loss: 0.6077 - acc: 0.6756\n",
            "Epoch 4/20\n",
            "712/712 [==============================] - 0s 36us/step - loss: 0.5398 - acc: 0.7556\n",
            "Epoch 5/20\n",
            "712/712 [==============================] - 0s 36us/step - loss: 0.4914 - acc: 0.7851\n",
            "Epoch 6/20\n",
            "712/712 [==============================] - 0s 35us/step - loss: 0.4819 - acc: 0.8020\n",
            "Epoch 7/20\n",
            "712/712 [==============================] - 0s 36us/step - loss: 0.4533 - acc: 0.7921\n",
            "Epoch 8/20\n",
            "712/712 [==============================] - 0s 34us/step - loss: 0.4327 - acc: 0.8076\n",
            "Epoch 9/20\n",
            "712/712 [==============================] - 0s 34us/step - loss: 0.4432 - acc: 0.8062\n",
            "Epoch 10/20\n",
            "712/712 [==============================] - 0s 32us/step - loss: 0.4475 - acc: 0.8006\n",
            "Epoch 11/20\n",
            "712/712 [==============================] - 0s 35us/step - loss: 0.4450 - acc: 0.8104\n",
            "Epoch 12/20\n",
            "712/712 [==============================] - 0s 39us/step - loss: 0.4267 - acc: 0.7992\n",
            "Epoch 13/20\n",
            "712/712 [==============================] - 0s 33us/step - loss: 0.4165 - acc: 0.8188\n",
            "Epoch 14/20\n",
            "712/712 [==============================] - 0s 35us/step - loss: 0.4130 - acc: 0.8076\n",
            "Epoch 15/20\n",
            "712/712 [==============================] - 0s 32us/step - loss: 0.4100 - acc: 0.8216\n",
            "Epoch 16/20\n",
            "712/712 [==============================] - 0s 36us/step - loss: 0.4104 - acc: 0.8146\n",
            "Epoch 17/20\n",
            "712/712 [==============================] - 0s 37us/step - loss: 0.4064 - acc: 0.8188\n",
            "Epoch 18/20\n",
            "712/712 [==============================] - 0s 36us/step - loss: 0.4075 - acc: 0.8202\n",
            "Epoch 19/20\n",
            "712/712 [==============================] - 0s 34us/step - loss: 0.4015 - acc: 0.8230\n",
            "Epoch 20/20\n",
            "712/712 [==============================] - 0s 35us/step - loss: 0.4011 - acc: 0.8230\n",
            "179/179 [==============================] - 0s 1ms/step\n",
            "[0.4232313959292193, 0.7877094978726776]\n"
          ],
          "name": "stdout"
        }
      ]
    },
    {
      "cell_type": "markdown",
      "metadata": {
        "id": "zsDsEJ0b0jTV",
        "colab_type": "text"
      },
      "source": [
        "Redefine the model using a sigmoid activation for the last layer. What is the difference in accuracy."
      ]
    },
    {
      "cell_type": "code",
      "metadata": {
        "id": "RsbGU_gM0jTV",
        "colab_type": "code",
        "colab": {}
      },
      "source": [
        "# Answer below\n",
        "model = Sequential()\n",
        "model.add(Dense(1000,input_shape = (X_train.shape[1],),activation='relu'))\n",
        "model.add(Dense(160,activation='relu'))\n",
        "model.add(Dense(40,activation='relu'))\n",
        "model.add(Dense(10,activation='relu'))\n",
        "model.add(Dense(1,activation='sigmoid'))\n"
      ],
      "execution_count": 0,
      "outputs": []
    },
    {
      "cell_type": "code",
      "metadata": {
        "id": "m8BpyzL40jTX",
        "colab_type": "code",
        "colab": {
          "base_uri": "https://localhost:8080/",
          "height": 731
        },
        "outputId": "de235510-0340-483d-f6f2-a54e038de9e9"
      },
      "source": [
        "# Answer below:\n",
        "model.compile(optimizer='adam', loss='binary_crossentropy', metrics=['accuracy'])\n",
        "model.fit(X_train,y_train, batch_size=80, epochs=20, verbose=1)\n",
        "score = model.evaluate(X_test,y_test)\n",
        "print(score)"
      ],
      "execution_count": 56,
      "outputs": [
        {
          "output_type": "stream",
          "text": [
            "Epoch 1/20\n",
            "712/712 [==============================] - 1s 2ms/step - loss: 0.6375 - acc: 0.6278\n",
            "Epoch 2/20\n",
            "712/712 [==============================] - 0s 98us/step - loss: 0.5331 - acc: 0.7542\n",
            "Epoch 3/20\n",
            "712/712 [==============================] - 0s 99us/step - loss: 0.5006 - acc: 0.8034\n",
            "Epoch 4/20\n",
            "712/712 [==============================] - 0s 104us/step - loss: 0.4731 - acc: 0.7963\n",
            "Epoch 5/20\n",
            "712/712 [==============================] - 0s 92us/step - loss: 0.4528 - acc: 0.7992\n",
            "Epoch 6/20\n",
            "712/712 [==============================] - 0s 91us/step - loss: 0.4392 - acc: 0.8090\n",
            "Epoch 7/20\n",
            "712/712 [==============================] - 0s 90us/step - loss: 0.4350 - acc: 0.7935\n",
            "Epoch 8/20\n",
            "712/712 [==============================] - 0s 109us/step - loss: 0.4242 - acc: 0.8048\n",
            "Epoch 9/20\n",
            "712/712 [==============================] - 0s 101us/step - loss: 0.4265 - acc: 0.8048\n",
            "Epoch 10/20\n",
            "712/712 [==============================] - 0s 90us/step - loss: 0.4234 - acc: 0.8104\n",
            "Epoch 11/20\n",
            "712/712 [==============================] - 0s 102us/step - loss: 0.4214 - acc: 0.8076\n",
            "Epoch 12/20\n",
            "712/712 [==============================] - 0s 102us/step - loss: 0.4128 - acc: 0.8076\n",
            "Epoch 13/20\n",
            "712/712 [==============================] - 0s 91us/step - loss: 0.4279 - acc: 0.8160\n",
            "Epoch 14/20\n",
            "712/712 [==============================] - 0s 105us/step - loss: 0.4191 - acc: 0.8174\n",
            "Epoch 15/20\n",
            "712/712 [==============================] - 0s 98us/step - loss: 0.4472 - acc: 0.8062\n",
            "Epoch 16/20\n",
            "712/712 [==============================] - 0s 90us/step - loss: 0.4364 - acc: 0.8174\n",
            "Epoch 17/20\n",
            "712/712 [==============================] - 0s 88us/step - loss: 0.4106 - acc: 0.8174\n",
            "Epoch 18/20\n",
            "712/712 [==============================] - 0s 98us/step - loss: 0.4080 - acc: 0.8160\n",
            "Epoch 19/20\n",
            "712/712 [==============================] - 0s 103us/step - loss: 0.4039 - acc: 0.8174\n",
            "Epoch 20/20\n",
            "712/712 [==============================] - 0s 91us/step - loss: 0.4030 - acc: 0.8216\n",
            "179/179 [==============================] - 0s 2ms/step\n",
            "[0.41582918516750444, 0.8212290486143954]\n"
          ],
          "name": "stdout"
        }
      ]
    }
  ]
}