{
  "nbformat": 4,
  "nbformat_minor": 0,
  "metadata": {
    "kernelspec": {
      "display_name": "Python 3",
      "language": "python",
      "name": "python3"
    },
    "language_info": {
      "codemirror_mode": {
        "name": "ipython",
        "version": 3
      },
      "file_extension": ".py",
      "mimetype": "text/x-python",
      "name": "python",
      "nbconvert_exporter": "python",
      "pygments_lexer": "ipython3",
      "version": "3.7.0"
    },
    "colab": {
      "name": "Day 35 Lecture 1 Assignment.ipynb",
      "provenance": [],
      "collapsed_sections": []
    }
  },
  "cells": [
    {
      "cell_type": "markdown",
      "metadata": {
        "id": "fekXcsQ31Y5o",
        "colab_type": "text"
      },
      "source": [
        "## Day 35 Lecture 1 Assignment\n",
        "\n",
        "In this assignment, we will learn about gradient boosting. We will use a dataset describing survival rates after breast cancer surgery loaded below and analyze the model generated for this dataset."
      ]
    },
    {
      "cell_type": "code",
      "metadata": {
        "id": "R5mR8fdy1Y5p",
        "colab_type": "code",
        "colab": {}
      },
      "source": [
        "%matplotlib inline\n",
        "\n",
        "import matplotlib.pyplot as plt\n",
        "import numpy as np\n",
        "import pandas as pd"
      ],
      "execution_count": 0,
      "outputs": []
    },
    {
      "cell_type": "code",
      "metadata": {
        "id": "xFdOjNYx1Y5r",
        "colab_type": "code",
        "colab": {}
      },
      "source": [
        "# Attributes:\n",
        "# Age of patient at time of operation (numerical)\n",
        "# Patient's year of operation (year - 1900, numerical)\n",
        "# Number of positive axillary nodes detected (numerical)\n",
        "# Survival status (class attribute)\n",
        "#  -- 1 = the patient survived 5 years or longer\n",
        "#  -- 2 = the patient died within 5 year\n",
        "\n",
        "cols = ['age', 'op_year', 'nodes', 'survival']\n",
        "cancer = pd.read_csv('https://tf-assets-prod.s3.amazonaws.com/tf-curric/data-science/haberman.data', names=cols)"
      ],
      "execution_count": 0,
      "outputs": []
    },
    {
      "cell_type": "code",
      "metadata": {
        "id": "oSr5jOq91Y5t",
        "colab_type": "code",
        "colab": {}
      },
      "source": [
        "cancer.head()"
      ],
      "execution_count": 0,
      "outputs": []
    },
    {
      "cell_type": "markdown",
      "metadata": {
        "id": "xpzL7uVd1Y5w",
        "colab_type": "text"
      },
      "source": [
        "Check for missing data and remove all rows containing missing data"
      ]
    },
    {
      "cell_type": "code",
      "metadata": {
        "id": "tu269alM1Y5w",
        "colab_type": "code",
        "colab": {}
      },
      "source": [
        "# answer below:\n",
        "cancer.dropna(inplace=True)\n",
        "cancer.info()"
      ],
      "execution_count": 0,
      "outputs": []
    },
    {
      "cell_type": "markdown",
      "metadata": {
        "id": "0k1JQp5x1Y5y",
        "colab_type": "text"
      },
      "source": [
        "Adjust the target variable so that it has values of either 0 or 1"
      ]
    },
    {
      "cell_type": "code",
      "metadata": {
        "id": "Vy5CYux8LBoZ",
        "colab_type": "code",
        "outputId": "e3bf1a25-deb9-43ff-fa2d-e1e6406af3ac",
        "colab": {
          "base_uri": "https://localhost:8080/",
          "height": 419
        }
      },
      "source": [
        "pd.get_dummies(cancer['survival'], prefix='survival', drop_first=False)\n"
      ],
      "execution_count": 3,
      "outputs": [
        {
          "output_type": "execute_result",
          "data": {
            "text/html": [
              "<div>\n",
              "<style scoped>\n",
              "    .dataframe tbody tr th:only-of-type {\n",
              "        vertical-align: middle;\n",
              "    }\n",
              "\n",
              "    .dataframe tbody tr th {\n",
              "        vertical-align: top;\n",
              "    }\n",
              "\n",
              "    .dataframe thead th {\n",
              "        text-align: right;\n",
              "    }\n",
              "</style>\n",
              "<table border=\"1\" class=\"dataframe\">\n",
              "  <thead>\n",
              "    <tr style=\"text-align: right;\">\n",
              "      <th></th>\n",
              "      <th>survival_1</th>\n",
              "      <th>survival_2</th>\n",
              "    </tr>\n",
              "  </thead>\n",
              "  <tbody>\n",
              "    <tr>\n",
              "      <th>0</th>\n",
              "      <td>1</td>\n",
              "      <td>0</td>\n",
              "    </tr>\n",
              "    <tr>\n",
              "      <th>1</th>\n",
              "      <td>1</td>\n",
              "      <td>0</td>\n",
              "    </tr>\n",
              "    <tr>\n",
              "      <th>2</th>\n",
              "      <td>1</td>\n",
              "      <td>0</td>\n",
              "    </tr>\n",
              "    <tr>\n",
              "      <th>3</th>\n",
              "      <td>1</td>\n",
              "      <td>0</td>\n",
              "    </tr>\n",
              "    <tr>\n",
              "      <th>4</th>\n",
              "      <td>1</td>\n",
              "      <td>0</td>\n",
              "    </tr>\n",
              "    <tr>\n",
              "      <th>...</th>\n",
              "      <td>...</td>\n",
              "      <td>...</td>\n",
              "    </tr>\n",
              "    <tr>\n",
              "      <th>301</th>\n",
              "      <td>1</td>\n",
              "      <td>0</td>\n",
              "    </tr>\n",
              "    <tr>\n",
              "      <th>302</th>\n",
              "      <td>1</td>\n",
              "      <td>0</td>\n",
              "    </tr>\n",
              "    <tr>\n",
              "      <th>303</th>\n",
              "      <td>1</td>\n",
              "      <td>0</td>\n",
              "    </tr>\n",
              "    <tr>\n",
              "      <th>304</th>\n",
              "      <td>0</td>\n",
              "      <td>1</td>\n",
              "    </tr>\n",
              "    <tr>\n",
              "      <th>305</th>\n",
              "      <td>0</td>\n",
              "      <td>1</td>\n",
              "    </tr>\n",
              "  </tbody>\n",
              "</table>\n",
              "<p>306 rows × 2 columns</p>\n",
              "</div>"
            ],
            "text/plain": [
              "     survival_1  survival_2\n",
              "0             1           0\n",
              "1             1           0\n",
              "2             1           0\n",
              "3             1           0\n",
              "4             1           0\n",
              "..          ...         ...\n",
              "301           1           0\n",
              "302           1           0\n",
              "303           1           0\n",
              "304           0           1\n",
              "305           0           1\n",
              "\n",
              "[306 rows x 2 columns]"
            ]
          },
          "metadata": {
            "tags": []
          },
          "execution_count": 3
        }
      ]
    },
    {
      "cell_type": "code",
      "metadata": {
        "id": "KaZ87xnh1Y5y",
        "colab_type": "code",
        "outputId": "60d6aa4a-5865-4601-92c2-c78ad518ac43",
        "colab": {
          "base_uri": "https://localhost:8080/",
          "height": 204
        }
      },
      "source": [
        "# answer below:\n",
        "cancer_dummies = pd.concat([cancer.drop(columns='survival'), pd.get_dummies(cancer['survival'], prefix = 'survival', drop_first=True)], axis=1)\n",
        "\n",
        "cancer_dummies.head()       "
      ],
      "execution_count": 4,
      "outputs": [
        {
          "output_type": "execute_result",
          "data": {
            "text/html": [
              "<div>\n",
              "<style scoped>\n",
              "    .dataframe tbody tr th:only-of-type {\n",
              "        vertical-align: middle;\n",
              "    }\n",
              "\n",
              "    .dataframe tbody tr th {\n",
              "        vertical-align: top;\n",
              "    }\n",
              "\n",
              "    .dataframe thead th {\n",
              "        text-align: right;\n",
              "    }\n",
              "</style>\n",
              "<table border=\"1\" class=\"dataframe\">\n",
              "  <thead>\n",
              "    <tr style=\"text-align: right;\">\n",
              "      <th></th>\n",
              "      <th>age</th>\n",
              "      <th>op_year</th>\n",
              "      <th>nodes</th>\n",
              "      <th>survival_2</th>\n",
              "    </tr>\n",
              "  </thead>\n",
              "  <tbody>\n",
              "    <tr>\n",
              "      <th>0</th>\n",
              "      <td>30</td>\n",
              "      <td>64</td>\n",
              "      <td>1</td>\n",
              "      <td>0</td>\n",
              "    </tr>\n",
              "    <tr>\n",
              "      <th>1</th>\n",
              "      <td>30</td>\n",
              "      <td>62</td>\n",
              "      <td>3</td>\n",
              "      <td>0</td>\n",
              "    </tr>\n",
              "    <tr>\n",
              "      <th>2</th>\n",
              "      <td>30</td>\n",
              "      <td>65</td>\n",
              "      <td>0</td>\n",
              "      <td>0</td>\n",
              "    </tr>\n",
              "    <tr>\n",
              "      <th>3</th>\n",
              "      <td>31</td>\n",
              "      <td>59</td>\n",
              "      <td>2</td>\n",
              "      <td>0</td>\n",
              "    </tr>\n",
              "    <tr>\n",
              "      <th>4</th>\n",
              "      <td>31</td>\n",
              "      <td>65</td>\n",
              "      <td>4</td>\n",
              "      <td>0</td>\n",
              "    </tr>\n",
              "  </tbody>\n",
              "</table>\n",
              "</div>"
            ],
            "text/plain": [
              "   age  op_year  nodes  survival_2\n",
              "0   30       64      1           0\n",
              "1   30       62      3           0\n",
              "2   30       65      0           0\n",
              "3   31       59      2           0\n",
              "4   31       65      4           0"
            ]
          },
          "metadata": {
            "tags": []
          },
          "execution_count": 4
        }
      ]
    },
    {
      "cell_type": "code",
      "metadata": {
        "id": "6nB08qKuOOCV",
        "colab_type": "code",
        "colab": {}
      },
      "source": [
        "# cancer['survival_fixed'] = cancer['survival'].apply(lambda x: 1 if x == 2 else 0)"
      ],
      "execution_count": 0,
      "outputs": []
    },
    {
      "cell_type": "markdown",
      "metadata": {
        "id": "Tj60E8zY1Y50",
        "colab_type": "text"
      },
      "source": [
        "Create a dummy variable from the number of nodes"
      ]
    },
    {
      "cell_type": "code",
      "metadata": {
        "id": "Zlzv0-cT1Y50",
        "colab_type": "code",
        "colab": {}
      },
      "source": [
        "# answer below:\n",
        "#cancer_dummies = pd.concat([cancer.drop(columns='nodes'), pd.get_dummies(cancer['nodes'], drop_first=True)], axis=1)"
      ],
      "execution_count": 0,
      "outputs": []
    },
    {
      "cell_type": "markdown",
      "metadata": {
        "id": "b5Q3DG0d1Y52",
        "colab_type": "text"
      },
      "source": [
        "Split the data into train and test (20% in test)"
      ]
    },
    {
      "cell_type": "code",
      "metadata": {
        "id": "RSHAMqjdPH2F",
        "colab_type": "code",
        "colab": {}
      },
      "source": [
        "cancer_dummies.head()"
      ],
      "execution_count": 0,
      "outputs": []
    },
    {
      "cell_type": "code",
      "metadata": {
        "id": "sK6u0RTD4DXr",
        "colab_type": "code",
        "colab": {}
      },
      "source": [
        "cancer_dummies.info()"
      ],
      "execution_count": 0,
      "outputs": []
    },
    {
      "cell_type": "code",
      "metadata": {
        "id": "oXWw6ZNJ1Y52",
        "colab_type": "code",
        "colab": {}
      },
      "source": [
        "# answer below:\n",
        "from sklearn.model_selection import train_test_split\n",
        "X = cancer_dummies.drop('survival_2',1)\n",
        "y = cancer_dummies['survival_2']\n",
        "\n",
        "X_train, X_test, y_train, y_test = train_test_split(X,y,random_state = 35)\n"
      ],
      "execution_count": 0,
      "outputs": []
    },
    {
      "cell_type": "code",
      "metadata": {
        "id": "H3QRMc7kdxIQ",
        "colab_type": "code",
        "colab": {}
      },
      "source": [
        "from sklearn.preprocessing import StandardScaler\n",
        "scaler = StandardScaler()\n",
        "scaler.fit(X)\n",
        "\n",
        "X_train = scaler.transform(X_train)\n",
        "X_test = scaler.transform(X_test)"
      ],
      "execution_count": 0,
      "outputs": []
    },
    {
      "cell_type": "markdown",
      "metadata": {
        "id": "fM7H5aHv1Y54",
        "colab_type": "text"
      },
      "source": [
        "Create a gradient boosted classification algorithm with a learning rate of 0.01 and max depth of 5. Report the accuracy."
      ]
    },
    {
      "cell_type": "code",
      "metadata": {
        "id": "a9TAc-mt1Y54",
        "colab_type": "code",
        "outputId": "8a73f7f4-1266-45ea-a030-9a44690d686d",
        "colab": {
          "base_uri": "https://localhost:8080/",
          "height": 34
        }
      },
      "source": [
        "# answer below:\n",
        "from sklearn.ensemble import GradientBoostingClassifier\n",
        "gbc = GradientBoostingClassifier(learning_rate= 0.01, max_depth=5)\n",
        "gbc.fit(X_train, y_train)\n",
        "\n",
        "gbc.score(X_test,y_test)"
      ],
      "execution_count": 7,
      "outputs": [
        {
          "output_type": "execute_result",
          "data": {
            "text/plain": [
              "0.7402597402597403"
            ]
          },
          "metadata": {
            "tags": []
          },
          "execution_count": 7
        }
      ]
    },
    {
      "cell_type": "markdown",
      "metadata": {
        "id": "Esd0b5Bm1Y55",
        "colab_type": "text"
      },
      "source": [
        "Print the confusion matrix for the test data. What do you notice about our predictions?"
      ]
    },
    {
      "cell_type": "code",
      "metadata": {
        "id": "JIvrO5T11Y56",
        "colab_type": "code",
        "outputId": "6f94113e-971b-402a-e043-fd599e4e4f7c",
        "colab": {
          "base_uri": "https://localhost:8080/",
          "height": 51
        }
      },
      "source": [
        "# answer below:\n",
        "#confusion matrix\n",
        "y_pred = gbc.predict(X_test)\n",
        "from sklearn import metrics\n",
        "print(metrics.confusion_matrix(y_test, y_pred))"
      ],
      "execution_count": 8,
      "outputs": [
        {
          "output_type": "stream",
          "text": [
            "[[54  3]\n",
            " [17  3]]\n"
          ],
          "name": "stdout"
        }
      ]
    },
    {
      "cell_type": "markdown",
      "metadata": {
        "id": "ovaWOAlx1Y57",
        "colab_type": "text"
      },
      "source": [
        "Print the confusion matrix for a learning rate of 1 and a learning rate of 0.5. What do you see now that stands out to you in the confusion matrix?"
      ]
    },
    {
      "cell_type": "code",
      "metadata": {
        "id": "KmDWFQ6W1Y58",
        "colab_type": "code",
        "outputId": "0fbdb510-4ccf-4d48-b1a1-5c8fade47c2a",
        "colab": {
          "base_uri": "https://localhost:8080/",
          "height": 51
        }
      },
      "source": [
        "# answer below:\n",
        "gbc = GradientBoostingClassifier(learning_rate= 1, max_depth=0.5)\n",
        "gbc.fit(X_train, y_train)\n",
        "\n",
        "gbc.score(X_test,y_test)\n",
        "\n",
        "y_pred = gbc.predict(X_test)\n",
        "from sklearn import metrics\n",
        "print(metrics.confusion_matrix(y_test, y_pred))"
      ],
      "execution_count": 9,
      "outputs": [
        {
          "output_type": "stream",
          "text": [
            "[[57  0]\n",
            " [20  0]]\n"
          ],
          "name": "stdout"
        }
      ]
    },
    {
      "cell_type": "code",
      "metadata": {
        "id": "ei9smr3o0NwM",
        "colab_type": "code",
        "colab": {}
      },
      "source": [
        "# def conf_matrix(y_true, y_pred):\n",
        "#   data = confusion_matrix(y_true, y_pred)\n",
        "#   index = ['Actual_0', 'Actual_1']\n",
        "#   columns = ['Predicted_0', 'Predicted_1']\n",
        "#   return pd.DataFrame(data, index, columns)\n",
        "  \n",
        "# conf_matrix(y_test, y_pred)"
      ],
      "execution_count": 0,
      "outputs": []
    },
    {
      "cell_type": "markdown",
      "metadata": {
        "id": "Febdo34L1Y59",
        "colab_type": "text"
      },
      "source": [
        "Perform a grid search for the optimal learning rate."
      ]
    },
    {
      "cell_type": "code",
      "metadata": {
        "id": "qoKibZWI4w1b",
        "colab_type": "code",
        "outputId": "d95ef4ed-aa4b-484e-b980-77f849f8ba63",
        "colab": {
          "base_uri": "https://localhost:8080/",
          "height": 68
        }
      },
      "source": [
        "learning_range = np.logspace(-3,1,5)\n",
        "max_depth = np.arange(1,10,2)\n",
        "n_estimators = np.logspace(1,4,4)\n",
        "n_estimators.astype(int)\n",
        "print(learning_range)\n",
        "print(max_depth)\n",
        "print(n_estimators)"
      ],
      "execution_count": 10,
      "outputs": [
        {
          "output_type": "stream",
          "text": [
            "[1.e-03 1.e-02 1.e-01 1.e+00 1.e+01]\n",
            "[1 3 5 7 9]\n",
            "[   10.   100.  1000. 10000.]\n"
          ],
          "name": "stdout"
        }
      ]
    },
    {
      "cell_type": "code",
      "metadata": {
        "id": "THIm25lt1Y5-",
        "colab_type": "code",
        "colab": {
          "base_uri": "https://localhost:8080/",
          "height": 51
        },
        "outputId": "0783e80b-f234-48b4-d86a-21bc21ec7e08"
      },
      "source": [
        "# answer below:\n",
        "from sklearn.model_selection import GridSearchCV\n",
        "\n",
        "# params = {'learning_rate': learning_range, 'max_depth': max_depth, 'n_estimators': n_estimators}\n",
        "params = {'learning_rate': [0.0025,0.05], 'max_depth': [4,5], 'n_estimators': [500,550]}\n",
        "clf = GridSearchCV(gbc,param_grid= params, cv=3)\n",
        "clf.fit(X,y)\n",
        "\n",
        "print(clf.best_params_)\n",
        "print(clf.best_score_)"
      ],
      "execution_count": 18,
      "outputs": [
        {
          "output_type": "stream",
          "text": [
            "{'learning_rate': 0.0025, 'max_depth': 4, 'n_estimators': 550}\n",
            "0.7647058823529411\n"
          ],
          "name": "stdout"
        }
      ]
    },
    {
      "cell_type": "markdown",
      "metadata": {
        "id": "1mA0V4c-1Y5_",
        "colab_type": "text"
      },
      "source": [
        "List the feature importances for the model with the optimal learning rate."
      ]
    },
    {
      "cell_type": "code",
      "metadata": {
        "id": "JvDUGgYE1Y6A",
        "colab_type": "code",
        "colab": {
          "base_uri": "https://localhost:8080/",
          "height": 142
        },
        "outputId": "711568c1-e2d8-4e0f-91b2-9c038d21b499"
      },
      "source": [
        "# answer below:\n",
        "pd.DataFrame({'columns': X.columns, 'importance scores':clf.best_estimator_.feature_importances_}).sort_values(by='importance scores', ascending=False)\n"
      ],
      "execution_count": 19,
      "outputs": [
        {
          "output_type": "execute_result",
          "data": {
            "text/html": [
              "<div>\n",
              "<style scoped>\n",
              "    .dataframe tbody tr th:only-of-type {\n",
              "        vertical-align: middle;\n",
              "    }\n",
              "\n",
              "    .dataframe tbody tr th {\n",
              "        vertical-align: top;\n",
              "    }\n",
              "\n",
              "    .dataframe thead th {\n",
              "        text-align: right;\n",
              "    }\n",
              "</style>\n",
              "<table border=\"1\" class=\"dataframe\">\n",
              "  <thead>\n",
              "    <tr style=\"text-align: right;\">\n",
              "      <th></th>\n",
              "      <th>columns</th>\n",
              "      <th>importance scores</th>\n",
              "    </tr>\n",
              "  </thead>\n",
              "  <tbody>\n",
              "    <tr>\n",
              "      <th>2</th>\n",
              "      <td>nodes</td>\n",
              "      <td>0.493285</td>\n",
              "    </tr>\n",
              "    <tr>\n",
              "      <th>0</th>\n",
              "      <td>age</td>\n",
              "      <td>0.374442</td>\n",
              "    </tr>\n",
              "    <tr>\n",
              "      <th>1</th>\n",
              "      <td>op_year</td>\n",
              "      <td>0.132273</td>\n",
              "    </tr>\n",
              "  </tbody>\n",
              "</table>\n",
              "</div>"
            ],
            "text/plain": [
              "   columns  importance scores\n",
              "2    nodes           0.493285\n",
              "0      age           0.374442\n",
              "1  op_year           0.132273"
            ]
          },
          "metadata": {
            "tags": []
          },
          "execution_count": 19
        }
      ]
    }
  ]
}