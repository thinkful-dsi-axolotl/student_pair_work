{
  "nbformat": 4,
  "nbformat_minor": 0,
  "metadata": {
    "kernelspec": {
      "display_name": "Python 3",
      "language": "python",
      "name": "python3"
    },
    "language_info": {
      "codemirror_mode": {
        "name": "ipython",
        "version": 3
      },
      "file_extension": ".py",
      "mimetype": "text/x-python",
      "name": "python",
      "nbconvert_exporter": "python",
      "pygments_lexer": "ipython3",
      "version": "3.7.0"
    },
    "colab": {
      "name": "D31 Lecture 1 Assignment.ipynb",
      "provenance": [],
      "collapsed_sections": []
    }
  },
  "cells": [
    {
      "cell_type": "markdown",
      "metadata": {
        "id": "M2KdyctgnibH",
        "colab_type": "text"
      },
      "source": [
        "## Day 31 Lecture 1 Assignment\n",
        "\n",
        "In this assignment, we will learn about the K nearest neighbor algorithm. We will use the acute nephritis dataset loaded below and analyze the model generated for this datasett."
      ]
    },
    {
      "cell_type": "code",
      "metadata": {
        "id": "_4W40Ca-nibI",
        "colab_type": "code",
        "colab": {}
      },
      "source": [
        "%matplotlib inline\n",
        "\n",
        "import math\n",
        "\n",
        "import matplotlib.pyplot as plt\n",
        "import numpy as np\n",
        "import pandas as pd"
      ],
      "execution_count": 0,
      "outputs": []
    },
    {
      "cell_type": "code",
      "metadata": {
        "id": "xLDuKv44nibK",
        "colab_type": "code",
        "colab": {}
      },
      "source": [
        "# columns: \n",
        "# Temperature of patient { 35C-42C }\n",
        "# Occurrence of nausea { yes, no }\n",
        "# Lumbar pain { yes, no }\n",
        "# Urine pushing (continuous need for urination) { yes, no }\n",
        "# Micturition pains { yes, no }\n",
        "# Burning of urethra, itch, swelling of urethra outlet { yes, no }\n",
        "# decision: Nephritis of renal pelvis origin { yes, no } \n",
        "\n",
        "cols = ['temp', 'nausea', 'lumbar_pain', 'urine_pushing', 'micturition_pains', 'burning', 'nephritis']\n",
        "nephritis = pd.read_csv('https://tf-assets-prod.s3.amazonaws.com/tf-curric/data-science/acute.csv', names=cols)"
      ],
      "execution_count": 0,
      "outputs": []
    },
    {
      "cell_type": "code",
      "metadata": {
        "id": "mGz23CJAnibM",
        "colab_type": "code",
        "outputId": "b696e817-46fb-4ff4-fad0-25d6870a9bf4",
        "colab": {
          "base_uri": "https://localhost:8080/",
          "height": 204
        }
      },
      "source": [
        "nephritis.head()"
      ],
      "execution_count": 0,
      "outputs": [
        {
          "output_type": "execute_result",
          "data": {
            "text/html": [
              "<div>\n",
              "<style scoped>\n",
              "    .dataframe tbody tr th:only-of-type {\n",
              "        vertical-align: middle;\n",
              "    }\n",
              "\n",
              "    .dataframe tbody tr th {\n",
              "        vertical-align: top;\n",
              "    }\n",
              "\n",
              "    .dataframe thead th {\n",
              "        text-align: right;\n",
              "    }\n",
              "</style>\n",
              "<table border=\"1\" class=\"dataframe\">\n",
              "  <thead>\n",
              "    <tr style=\"text-align: right;\">\n",
              "      <th></th>\n",
              "      <th>temp</th>\n",
              "      <th>nausea</th>\n",
              "      <th>lumbar_pain</th>\n",
              "      <th>urine_pushing</th>\n",
              "      <th>micturition_pains</th>\n",
              "      <th>burning</th>\n",
              "      <th>nephritis</th>\n",
              "    </tr>\n",
              "  </thead>\n",
              "  <tbody>\n",
              "    <tr>\n",
              "      <th>35</th>\n",
              "      <td>5</td>\n",
              "      <td>no</td>\n",
              "      <td>yes</td>\n",
              "      <td>no</td>\n",
              "      <td>no</td>\n",
              "      <td>no</td>\n",
              "      <td>no</td>\n",
              "    </tr>\n",
              "    <tr>\n",
              "      <th>35</th>\n",
              "      <td>9</td>\n",
              "      <td>no</td>\n",
              "      <td>no</td>\n",
              "      <td>yes</td>\n",
              "      <td>yes</td>\n",
              "      <td>yes</td>\n",
              "      <td>no</td>\n",
              "    </tr>\n",
              "    <tr>\n",
              "      <th>35</th>\n",
              "      <td>9</td>\n",
              "      <td>no</td>\n",
              "      <td>yes</td>\n",
              "      <td>no</td>\n",
              "      <td>no</td>\n",
              "      <td>no</td>\n",
              "      <td>no</td>\n",
              "    </tr>\n",
              "    <tr>\n",
              "      <th>36</th>\n",
              "      <td>0</td>\n",
              "      <td>no</td>\n",
              "      <td>no</td>\n",
              "      <td>yes</td>\n",
              "      <td>yes</td>\n",
              "      <td>yes</td>\n",
              "      <td>no</td>\n",
              "    </tr>\n",
              "    <tr>\n",
              "      <th>36</th>\n",
              "      <td>0</td>\n",
              "      <td>no</td>\n",
              "      <td>yes</td>\n",
              "      <td>no</td>\n",
              "      <td>no</td>\n",
              "      <td>no</td>\n",
              "      <td>no</td>\n",
              "    </tr>\n",
              "  </tbody>\n",
              "</table>\n",
              "</div>"
            ],
            "text/plain": [
              "    temp nausea lumbar_pain urine_pushing micturition_pains burning nephritis\n",
              "35     5     no         yes            no                no      no        no\n",
              "35     9     no          no           yes               yes     yes        no\n",
              "35     9     no         yes            no                no      no        no\n",
              "36     0     no          no           yes               yes     yes        no\n",
              "36     0     no         yes            no                no      no        no"
            ]
          },
          "metadata": {
            "tags": []
          },
          "execution_count": 33
        }
      ]
    },
    {
      "cell_type": "markdown",
      "metadata": {
        "id": "W-WdgVdQnibO",
        "colab_type": "text"
      },
      "source": [
        "First, check for missing data and remove all rows containing missing data"
      ]
    },
    {
      "cell_type": "code",
      "metadata": {
        "id": "jZBtOoojnibO",
        "colab_type": "code",
        "outputId": "dd549f3d-1360-46bc-c218-87ca5adc36b4",
        "colab": {
          "base_uri": "https://localhost:8080/",
          "height": 221
        }
      },
      "source": [
        "# answer below:\n",
        "nephritis.info()"
      ],
      "execution_count": 0,
      "outputs": [
        {
          "output_type": "stream",
          "text": [
            "<class 'pandas.core.frame.DataFrame'>\n",
            "Int64Index: 120 entries, 35 to 41\n",
            "Data columns (total 7 columns):\n",
            "temp                 120 non-null int64\n",
            "nausea               120 non-null object\n",
            "lumbar_pain          120 non-null object\n",
            "urine_pushing        120 non-null object\n",
            "micturition_pains    120 non-null object\n",
            "burning              120 non-null object\n",
            "nephritis            120 non-null object\n",
            "dtypes: int64(1), object(6)\n",
            "memory usage: 7.5+ KB\n"
          ],
          "name": "stdout"
        }
      ]
    },
    {
      "cell_type": "code",
      "metadata": {
        "id": "9CaTFIuekKcg",
        "colab_type": "code",
        "outputId": "7c997ac7-e83b-42db-a6f1-d9efc5d654fc",
        "colab": {
          "base_uri": "https://localhost:8080/",
          "height": 68
        }
      },
      "source": [
        "nephritis.columns"
      ],
      "execution_count": 0,
      "outputs": [
        {
          "output_type": "execute_result",
          "data": {
            "text/plain": [
              "Index(['temp', 'nausea', 'lumbar_pain', 'urine_pushing', 'micturition_pains',\n",
              "       'burning', 'nephritis'],\n",
              "      dtype='object')"
            ]
          },
          "metadata": {
            "tags": []
          },
          "execution_count": 35
        }
      ]
    },
    {
      "cell_type": "markdown",
      "metadata": {
        "id": "iWPncc2LnibQ",
        "colab_type": "text"
      },
      "source": [
        "To use the data, we must convert all columns to numeric. Do this using the `get_dummies` function for all non-numeric columns.\n",
        "\n",
        "Note: remember to drop the first value."
      ]
    },
    {
      "cell_type": "code",
      "metadata": {
        "id": "gjhVEZWfnibQ",
        "colab_type": "code",
        "outputId": "801dc5d9-dadf-41c2-962b-f482929a885e",
        "colab": {
          "base_uri": "https://localhost:8080/",
          "height": 204
        }
      },
      "source": [
        "# answer below:\n",
        "dummy = pd.DataFrame()\n",
        "dummy = pd.get_dummies(nephritis,columns=['nausea', 'lumbar_pain', 'urine_pushing', 'micturition_pains',\n",
        "       'burning', 'nephritis'],drop_first = True)\n",
        "dummy.head()\n",
        "nephritis1 = pd.concat([dummy], axis = 1)\n",
        "nephritis1.head()"
      ],
      "execution_count": 0,
      "outputs": [
        {
          "output_type": "execute_result",
          "data": {
            "text/html": [
              "<div>\n",
              "<style scoped>\n",
              "    .dataframe tbody tr th:only-of-type {\n",
              "        vertical-align: middle;\n",
              "    }\n",
              "\n",
              "    .dataframe tbody tr th {\n",
              "        vertical-align: top;\n",
              "    }\n",
              "\n",
              "    .dataframe thead th {\n",
              "        text-align: right;\n",
              "    }\n",
              "</style>\n",
              "<table border=\"1\" class=\"dataframe\">\n",
              "  <thead>\n",
              "    <tr style=\"text-align: right;\">\n",
              "      <th></th>\n",
              "      <th>temp</th>\n",
              "      <th>nausea_yes</th>\n",
              "      <th>lumbar_pain_yes</th>\n",
              "      <th>urine_pushing_yes</th>\n",
              "      <th>micturition_pains_yes</th>\n",
              "      <th>burning_yes</th>\n",
              "      <th>nephritis_yes</th>\n",
              "    </tr>\n",
              "  </thead>\n",
              "  <tbody>\n",
              "    <tr>\n",
              "      <th>35</th>\n",
              "      <td>5</td>\n",
              "      <td>0</td>\n",
              "      <td>1</td>\n",
              "      <td>0</td>\n",
              "      <td>0</td>\n",
              "      <td>0</td>\n",
              "      <td>0</td>\n",
              "    </tr>\n",
              "    <tr>\n",
              "      <th>35</th>\n",
              "      <td>9</td>\n",
              "      <td>0</td>\n",
              "      <td>0</td>\n",
              "      <td>1</td>\n",
              "      <td>1</td>\n",
              "      <td>1</td>\n",
              "      <td>0</td>\n",
              "    </tr>\n",
              "    <tr>\n",
              "      <th>35</th>\n",
              "      <td>9</td>\n",
              "      <td>0</td>\n",
              "      <td>1</td>\n",
              "      <td>0</td>\n",
              "      <td>0</td>\n",
              "      <td>0</td>\n",
              "      <td>0</td>\n",
              "    </tr>\n",
              "    <tr>\n",
              "      <th>36</th>\n",
              "      <td>0</td>\n",
              "      <td>0</td>\n",
              "      <td>0</td>\n",
              "      <td>1</td>\n",
              "      <td>1</td>\n",
              "      <td>1</td>\n",
              "      <td>0</td>\n",
              "    </tr>\n",
              "    <tr>\n",
              "      <th>36</th>\n",
              "      <td>0</td>\n",
              "      <td>0</td>\n",
              "      <td>1</td>\n",
              "      <td>0</td>\n",
              "      <td>0</td>\n",
              "      <td>0</td>\n",
              "      <td>0</td>\n",
              "    </tr>\n",
              "  </tbody>\n",
              "</table>\n",
              "</div>"
            ],
            "text/plain": [
              "    temp  nausea_yes  ...  burning_yes  nephritis_yes\n",
              "35     5           0  ...            0              0\n",
              "35     9           0  ...            1              0\n",
              "35     9           0  ...            0              0\n",
              "36     0           0  ...            1              0\n",
              "36     0           0  ...            0              0\n",
              "\n",
              "[5 rows x 7 columns]"
            ]
          },
          "metadata": {
            "tags": []
          },
          "execution_count": 43
        }
      ]
    },
    {
      "cell_type": "markdown",
      "metadata": {
        "id": "23bu6dmdnibS",
        "colab_type": "text"
      },
      "source": [
        "Split the data into train and test. Use 20% of the data for our test subset. Use nephritis as the target variable."
      ]
    },
    {
      "cell_type": "code",
      "metadata": {
        "id": "4wJEzH6JnibT",
        "colab_type": "code",
        "colab": {}
      },
      "source": [
        "# answer below:\n",
        "X = nephritis1.drop(columns='nephritis_yes')\n",
        "y = nephritis1['nephritis_yes']\n",
        "# splitting the data into training and test sets (80:20)\n",
        "from sklearn.model_selection import train_test_split\n",
        "X_train, X_test, y_train, y_test = train_test_split(X, y, test_size=0.20)\n"
      ],
      "execution_count": 0,
      "outputs": []
    },
    {
      "cell_type": "markdown",
      "metadata": {
        "id": "8J8-ejQmnibV",
        "colab_type": "text"
      },
      "source": [
        "Generate a KNN model with k=5 for the dataset.  What is the accuracy score for the train and test subsamples?"
      ]
    },
    {
      "cell_type": "code",
      "metadata": {
        "id": "RIspj5YFnibV",
        "colab_type": "code",
        "outputId": "22b56257-890b-4fca-f270-d134eac8ef5f",
        "colab": {
          "base_uri": "https://localhost:8080/",
          "height": 34
        }
      },
      "source": [
        "# answer below:\n",
        "from sklearn.neighbors import KNeighborsClassifier\n",
        "classifier = KNeighborsClassifier(n_neighbors= 5)\n",
        "results = classifier.fit(X_train, y_train)\n",
        "results.score(X_train,y_train)\n"
      ],
      "execution_count": 0,
      "outputs": [
        {
          "output_type": "execute_result",
          "data": {
            "text/plain": [
              "0.9895833333333334"
            ]
          },
          "metadata": {
            "tags": []
          },
          "execution_count": 87
        }
      ]
    },
    {
      "cell_type": "code",
      "metadata": {
        "id": "1tedzbklSZr_",
        "colab_type": "code",
        "outputId": "029801a9-4caa-4f29-854f-78c74ca50710",
        "colab": {
          "base_uri": "https://localhost:8080/",
          "height": 34
        }
      },
      "source": [
        "results.score(X_test,y_test)"
      ],
      "execution_count": 0,
      "outputs": [
        {
          "output_type": "execute_result",
          "data": {
            "text/plain": [
              "0.9583333333333334"
            ]
          },
          "metadata": {
            "tags": []
          },
          "execution_count": 88
        }
      ]
    },
    {
      "cell_type": "markdown",
      "metadata": {
        "id": "MbOiVNTwnibX",
        "colab_type": "text"
      },
      "source": [
        "Would you say the model overfits? Why or why not? Put your answer in the comment below."
      ]
    },
    {
      "cell_type": "code",
      "metadata": {
        "id": "o7GQxMwKnibY",
        "colab_type": "code",
        "colab": {}
      },
      "source": [
        "# answer below:\n",
        "# Yes, this model slighly overfits given the 3% difference in train versus test score."
      ],
      "execution_count": 0,
      "outputs": []
    },
    {
      "cell_type": "markdown",
      "metadata": {
        "id": "e2So7eMOnibZ",
        "colab_type": "text"
      },
      "source": [
        "Let's optimize k. Produce a plot with training and testing accuracy for a wide range of k."
      ]
    },
    {
      "cell_type": "code",
      "metadata": {
        "id": "m-uag4WNniba",
        "colab_type": "code",
        "outputId": "c8e3abb2-943d-4bab-a118-92f5e8c529b4",
        "colab": {
          "base_uri": "https://localhost:8080/",
          "height": 204
        }
      },
      "source": [
        "# answer below:\n",
        "from sklearn.model_selection import GridSearchCV\n",
        "\n",
        "params = {'n_neighbors': np.arange(1,25,1)}\n",
        "\n",
        "grid = GridSearchCV(classifier, param_grid=params, scoring='accuracy', cv=5, return_train_score=True, n_jobs=-1)\n",
        "\n",
        "grid.fit(X, y)\n"
      ],
      "execution_count": 0,
      "outputs": [
        {
          "output_type": "execute_result",
          "data": {
            "text/plain": [
              "GridSearchCV(cv=5, error_score='raise-deprecating',\n",
              "             estimator=KNeighborsClassifier(algorithm='auto', leaf_size=30,\n",
              "                                            metric='minkowski',\n",
              "                                            metric_params=None, n_jobs=None,\n",
              "                                            n_neighbors=5, p=2,\n",
              "                                            weights='uniform'),\n",
              "             iid='warn', n_jobs=-1,\n",
              "             param_grid={'n_neighbors': array([ 1,  2,  3,  4,  5,  6,  7,  8,  9, 10, 11, 12, 13, 14, 15, 16, 17,\n",
              "       18, 19, 20, 21, 22, 23, 24])},\n",
              "             pre_dispatch='2*n_jobs', refit=True, return_train_score=True,\n",
              "             scoring='accuracy', verbose=0)"
            ]
          },
          "metadata": {
            "tags": []
          },
          "execution_count": 111
        }
      ]
    },
    {
      "cell_type": "code",
      "metadata": {
        "id": "7Jg2KCwjWT_j",
        "colab_type": "code",
        "outputId": "99d4378a-25a3-400d-ab08-6984625a265a",
        "colab": {
          "base_uri": "https://localhost:8080/",
          "height": 268
        }
      },
      "source": [
        "cv_r = pd.DataFrame(grid.cv_results_) \n",
        "import seaborn as sns\n",
        "sns.set()\n",
        "\n",
        "plt.plot(cv_r['param_n_neighbors'], cv_r['mean_train_score'], 'o-', label='Train') \n",
        "plt.plot(cv_r['param_n_neighbors'], cv_r['mean_test_score'], 'o-', label='Test') \n",
        "plt.legend() \n",
        "plt.show()"
      ],
      "execution_count": 0,
      "outputs": [
        {
          "output_type": "display_data",
          "data": {
            "image/png": "[encoded data removed]",
            "text/plain": [
              "<Figure size 432x288 with 1 Axes>"
            ]
          },
          "metadata": {
            "tags": []
          }
        }
      ]
    },
    {
      "cell_type": "code",
      "metadata": {
        "id": "rySaeH5wYrLd",
        "colab_type": "code",
        "outputId": "b20932cd-ef7e-4945-c777-912e6cc9f801",
        "colab": {
          "base_uri": "https://localhost:8080/",
          "height": 268
        }
      },
      "source": [
        "plt.plot(cv_r['param_n_neighbors'], cv_r['mean_train_score']- cv_r['mean_test_score'], 'o-', label='Train') \n",
        "plt.show()"
      ],
      "execution_count": 0,
      "outputs": [
        {
          "output_type": "display_data",
          "data": {
            "image/png": "[encoded data removed]",
            "text/plain": [
              "<Figure size 432x288 with 1 Axes>"
            ]
          },
          "metadata": {
            "tags": []
          }
        }
      ]
    },
    {
      "cell_type": "markdown",
      "metadata": {
        "id": "uToScFY2YIti",
        "colab_type": "text"
      },
      "source": [
        "# The optimal value for k is 3."
      ]
    }
  ]
}