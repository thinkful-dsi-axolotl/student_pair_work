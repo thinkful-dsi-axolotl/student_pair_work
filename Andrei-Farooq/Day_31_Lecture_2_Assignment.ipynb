{
  "nbformat": 4,
  "nbformat_minor": 0,
  "metadata": {
    "kernelspec": {
      "display_name": "Python 3",
      "language": "python",
      "name": "python3"
    },
    "language_info": {
      "codemirror_mode": {
        "name": "ipython",
        "version": 3
      },
      "file_extension": ".py",
      "mimetype": "text/x-python",
      "name": "python",
      "nbconvert_exporter": "python",
      "pygments_lexer": "ipython3",
      "version": "3.7.0"
    },
    "colab": {
      "name": "Day 31 Lecture 2 Assignment.ipynb",
      "provenance": [],
      "collapsed_sections": []
    }
  },
  "cells": [
    {
      "cell_type": "markdown",
      "metadata": {
        "id": "vliMc6Csnjac",
        "colab_type": "text"
      },
      "source": [
        "## Day 31 Lecture 2 Assignment\n",
        "\n",
        "In this assignment, we will learn about the weighting and scaling with the K nearest neighbor algorithm. We will use the acute nephritis dataset loaded below and analyze the model generated for this dataset."
      ]
    },
    {
      "cell_type": "code",
      "metadata": {
        "id": "6RVluDSdnjad",
        "colab_type": "code",
        "colab": {}
      },
      "source": [
        "%matplotlib inline\n",
        "\n",
        "import math\n",
        "\n",
        "import matplotlib.pyplot as plt\n",
        "import numpy as np\n",
        "import pandas as pd"
      ],
      "execution_count": 0,
      "outputs": []
    },
    {
      "cell_type": "code",
      "metadata": {
        "id": "fovh3n2tnjaf",
        "colab_type": "code",
        "colab": {}
      },
      "source": [
        "# columns: \n",
        "# Temperature of patient { 35C-42C }\n",
        "# Occurrence of nausea { yes, no }\n",
        "# Lumbar pain { yes, no }\n",
        "# Urine pushing (continuous need for urination) { yes, no }\n",
        "# Micturition pains { yes, no }\n",
        "# Burning of urethra, itch, swelling of urethra outlet { yes, no }\n",
        "# decision: Nephritis of renal pelvis origin { yes, no } \n",
        "\n",
        "cols = ['temp', 'nausea', 'lumbar_pain', 'urine_pushing', 'micturition_pains', 'burning', 'nephritis']\n",
        "nephritis = pd.read_csv('https://tf-assets-prod.s3.amazonaws.com/tf-curric/data-science/acute.csv', names=cols)"
      ],
      "execution_count": 0,
      "outputs": []
    },
    {
      "cell_type": "markdown",
      "metadata": {
        "id": "1Lo-pnPdnjah",
        "colab_type": "text"
      },
      "source": [
        "Recall that we need to check for missing data and create dummy variables from the non-numeric columns. Perform both steps below:"
      ]
    },
    {
      "cell_type": "code",
      "metadata": {
        "id": "ERbtxOpvnjah",
        "colab_type": "code",
        "colab": {
          "base_uri": "https://localhost:8080/",
          "height": 33
        },
        "outputId": "26dcd8d0-ed58-4e07-d118-92db33d3ed63"
      },
      "source": [
        "# answer below:\n",
        "print(nephritis.isna().sum().sum())\n",
        "dummies=pd.get_dummies(nephritis, drop_first=True)"
      ],
      "execution_count": 5,
      "outputs": [
        {
          "output_type": "stream",
          "text": [
            "0\n"
          ],
          "name": "stdout"
        }
      ]
    },
    {
      "cell_type": "code",
      "metadata": {
        "id": "H9MoPYa8rNr8",
        "colab_type": "code",
        "colab": {
          "base_uri": "https://localhost:8080/",
          "height": 196
        },
        "outputId": "c7191bfc-a1f1-4341-b30d-729099514f91"
      },
      "source": [
        "dummies.head()"
      ],
      "execution_count": 6,
      "outputs": [
        {
          "output_type": "execute_result",
          "data": {
            "text/html": [
              "<div>\n",
              "<style scoped>\n",
              "    .dataframe tbody tr th:only-of-type {\n",
              "        vertical-align: middle;\n",
              "    }\n",
              "\n",
              "    .dataframe tbody tr th {\n",
              "        vertical-align: top;\n",
              "    }\n",
              "\n",
              "    .dataframe thead th {\n",
              "        text-align: right;\n",
              "    }\n",
              "</style>\n",
              "<table border=\"1\" class=\"dataframe\">\n",
              "  <thead>\n",
              "    <tr style=\"text-align: right;\">\n",
              "      <th></th>\n",
              "      <th>temp</th>\n",
              "      <th>nausea_yes</th>\n",
              "      <th>lumbar_pain_yes</th>\n",
              "      <th>urine_pushing_yes</th>\n",
              "      <th>micturition_pains_yes</th>\n",
              "      <th>burning_yes</th>\n",
              "      <th>nephritis_yes</th>\n",
              "    </tr>\n",
              "  </thead>\n",
              "  <tbody>\n",
              "    <tr>\n",
              "      <th>35</th>\n",
              "      <td>5</td>\n",
              "      <td>0</td>\n",
              "      <td>1</td>\n",
              "      <td>0</td>\n",
              "      <td>0</td>\n",
              "      <td>0</td>\n",
              "      <td>0</td>\n",
              "    </tr>\n",
              "    <tr>\n",
              "      <th>35</th>\n",
              "      <td>9</td>\n",
              "      <td>0</td>\n",
              "      <td>0</td>\n",
              "      <td>1</td>\n",
              "      <td>1</td>\n",
              "      <td>1</td>\n",
              "      <td>0</td>\n",
              "    </tr>\n",
              "    <tr>\n",
              "      <th>35</th>\n",
              "      <td>9</td>\n",
              "      <td>0</td>\n",
              "      <td>1</td>\n",
              "      <td>0</td>\n",
              "      <td>0</td>\n",
              "      <td>0</td>\n",
              "      <td>0</td>\n",
              "    </tr>\n",
              "    <tr>\n",
              "      <th>36</th>\n",
              "      <td>0</td>\n",
              "      <td>0</td>\n",
              "      <td>0</td>\n",
              "      <td>1</td>\n",
              "      <td>1</td>\n",
              "      <td>1</td>\n",
              "      <td>0</td>\n",
              "    </tr>\n",
              "    <tr>\n",
              "      <th>36</th>\n",
              "      <td>0</td>\n",
              "      <td>0</td>\n",
              "      <td>1</td>\n",
              "      <td>0</td>\n",
              "      <td>0</td>\n",
              "      <td>0</td>\n",
              "      <td>0</td>\n",
              "    </tr>\n",
              "  </tbody>\n",
              "</table>\n",
              "</div>"
            ],
            "text/plain": [
              "    temp  nausea_yes  ...  burning_yes  nephritis_yes\n",
              "35     5           0  ...            0              0\n",
              "35     9           0  ...            1              0\n",
              "35     9           0  ...            0              0\n",
              "36     0           0  ...            1              0\n",
              "36     0           0  ...            0              0\n",
              "\n",
              "[5 rows x 7 columns]"
            ]
          },
          "metadata": {
            "tags": []
          },
          "execution_count": 6
        }
      ]
    },
    {
      "cell_type": "markdown",
      "metadata": {
        "id": "7bdvaPDTnjaj",
        "colab_type": "text"
      },
      "source": [
        "Scale only the independent variables using the minmax scaler."
      ]
    },
    {
      "cell_type": "code",
      "metadata": {
        "id": "QgDv0Ab7njaj",
        "colab_type": "code",
        "colab": {
          "base_uri": "https://localhost:8080/",
          "height": 33
        },
        "outputId": "68b86ca0-2d3b-4564-9ffb-6ff3645e0dbb"
      },
      "source": [
        "# answer below:\n",
        "X= dummies.drop('nephritis_yes', axis =1)\n",
        "y= dummies['nephritis_yes']\n",
        "from sklearn.preprocessing import StandardScaler, MinMaxScaler\n",
        "#X = MinMaxScaler().fit_transform(X)\n",
        "type(X)"
      ],
      "execution_count": 53,
      "outputs": [
        {
          "output_type": "execute_result",
          "data": {
            "text/plain": [
              "pandas.core.frame.DataFrame"
            ]
          },
          "metadata": {
            "tags": []
          },
          "execution_count": 53
        }
      ]
    },
    {
      "cell_type": "markdown",
      "metadata": {
        "id": "YErN51WPnjal",
        "colab_type": "text"
      },
      "source": [
        "Create a train test split with 20% of the data in the test subsample."
      ]
    },
    {
      "cell_type": "code",
      "metadata": {
        "id": "Uh6ruAjbnjal",
        "colab_type": "code",
        "colab": {}
      },
      "source": [
        "# answer below:\n",
        "\n",
        "from sklearn.model_selection import train_test_split\n",
        "X_train, X_test, y_train, y_test = train_test_split(X, y, test_size=0.20)\n",
        "\n",
        "#X_train=MinMaxScaler().fit_transform(X_train)\n",
        "#X_test=MinMaxScaler().fit_transform(X_test)"
      ],
      "execution_count": 0,
      "outputs": []
    },
    {
      "cell_type": "markdown",
      "metadata": {
        "id": "OP3laD_Nnjan",
        "colab_type": "text"
      },
      "source": [
        "Create a KNN model for our scaled data with k=5 and report the accuracy score."
      ]
    },
    {
      "cell_type": "code",
      "metadata": {
        "id": "6JBzmK3_njan",
        "colab_type": "code",
        "colab": {
          "base_uri": "https://localhost:8080/",
          "height": 50
        },
        "outputId": "7fc254f7-6667-4286-d4fa-dcdd9367008d"
      },
      "source": [
        "# answer below:\n",
        "from sklearn.neighbors import KNeighborsClassifier\n",
        "classifier = KNeighborsClassifier(n_neighbors= 25)\n",
        "results = classifier.fit(X_train, y_train)\n",
        "print('Train score: ',results.score(X_train,y_train))\n",
        "print('Test score:', results.score(X_test,y_test))"
      ],
      "execution_count": 85,
      "outputs": [
        {
          "output_type": "stream",
          "text": [
            "Train score:  0.7291666666666666\n",
            "Test score: 0.4583333333333333\n"
          ],
          "name": "stdout"
        }
      ]
    },
    {
      "cell_type": "markdown",
      "metadata": {
        "id": "Hxx2nBnEnjap",
        "colab_type": "text"
      },
      "source": [
        "When generating a KNN model, we can use the weighted model by setting `weights='distance'`. We can also write our own custom weights function.\n",
        "\n",
        "Write a custom weight function that assigns the weight of 1/sqrt(distance) and use this function in your model. Report the accuracy score.\n",
        "\n",
        "Hint: Use the `_get_weights` function in scikit learn as a resource. The code is <a href=\"https://github.com/scikit-learn/scikit-learn/blob/fdbaa58acbead5a254f2e6d597dc1ab3b947f4c6/sklearn/neighbors/base.py#L63\" title=\"_get_weights\">here</a>."
      ]
    },
    {
      "cell_type": "code",
      "metadata": {
        "id": "G0KE1nDanjap",
        "colab_type": "code",
        "colab": {
          "base_uri": "https://localhost:8080/",
          "height": 50
        },
        "outputId": "3ecc2dc0-1978-47fb-bf84-366eb9db08e9"
      },
      "source": [
        "# answer below:\n",
        "\n",
        "classifier = KNeighborsClassifier(n_neighbors= 25, weights='distance')\n",
        "results = classifier.fit(X_train, y_train)\n",
        "print('Train score: ',results.score(X_train,y_train))\n",
        "print('Test score:', results.score(X_test,y_test))"
      ],
      "execution_count": 86,
      "outputs": [
        {
          "output_type": "stream",
          "text": [
            "Train score:  1.0\n",
            "Test score: 0.8333333333333334\n"
          ],
          "name": "stdout"
        }
      ]
    },
    {
      "cell_type": "code",
      "metadata": {
        "id": "S3YLU1c5njaq",
        "colab_type": "code",
        "colab": {}
      },
      "source": [
        "\n"
      ],
      "execution_count": 0,
      "outputs": []
    },
    {
      "cell_type": "code",
      "metadata": {
        "id": "eExsEiA-njas",
        "colab_type": "code",
        "colab": {}
      },
      "source": [
        "import math\n",
        "def _get_weights(dist):\n",
        "    \"\"\"Get the weights from an array of distances and a parameter ``weights``\n",
        "    Parameters\n",
        "    ----------\n",
        "    dist : ndarray\n",
        "        The input distances\n",
        "    weights : {'uniform', 'distance' or a callable}\n",
        "        The kind of weighting used\n",
        "    Returns\n",
        "    -------\n",
        "    weights_arr : array of the same shape as ``dist``\n",
        "        if ``weights == 'uniform'``, then returns None\n",
        "    \"\"\"\n",
        "    if dist.dtype is np.dtype(object):\n",
        "        for point_dist_i, point_dist in enumerate(dist):\n",
        "                # check if point_dist is iterable\n",
        "                # (ex: RadiusNeighborClassifier.predict may set an element of\n",
        "                # dist to 1e-6 to represent an 'outlier')\n",
        "            if hasattr(point_dist, '__contains__') and 0. in point_dist:\n",
        "                dist[point_dist_i] = point_dist == 0.\n",
        "            else:\n",
        "                dist[point_dist_i] = 1. / point_dist**0.5\n",
        "    else:\n",
        "        with np.errstate(divide='ignore'):\n",
        "            dist = 1. / dist**6\n",
        "            inf_mask = np.isinf(dist)\n",
        "            inf_row = np.any(inf_mask, axis=1)\n",
        "            dist[inf_row] = inf_mask[inf_row]\n",
        "    return dist\n",
        "        \n",
        "    "
      ],
      "execution_count": 0,
      "outputs": []
    },
    {
      "cell_type": "code",
      "metadata": {
        "id": "aFD7ajwp1sk9",
        "colab_type": "code",
        "colab": {
          "base_uri": "https://localhost:8080/",
          "height": 50
        },
        "outputId": "dedb2b35-8792-4a85-9277-a15fcbbe4a8a"
      },
      "source": [
        "classifier = KNeighborsClassifier(n_neighbors= 25, weights= _get_weights)\n",
        "results = classifier.fit(X_train, y_train)\n",
        "print('Train score: ',results.score(X_train,y_train))\n",
        "print('Test score:', results.score(X_test,y_test))"
      ],
      "execution_count": 106,
      "outputs": [
        {
          "output_type": "stream",
          "text": [
            "Train score:  1.0\n",
            "Test score: 0.9583333333333334\n"
          ],
          "name": "stdout"
        }
      ]
    },
    {
      "cell_type": "code",
      "metadata": {
        "id": "zA0lXMqy26VR",
        "colab_type": "code",
        "colab": {}
      },
      "source": [
        ""
      ],
      "execution_count": 0,
      "outputs": []
    }
  ]
}