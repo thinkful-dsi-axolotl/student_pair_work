{
  "nbformat": 4,
  "nbformat_minor": 0,
  "metadata": {
    "colab": {
      "name": "Day 78 Lecture 1 Assignment.ipynb",
      "provenance": [],
      "collapsed_sections": []
    },
    "kernelspec": {
      "name": "python2",
      "display_name": "Python 2"
    }
  },
  "cells": [
    {
      "cell_type": "markdown",
      "metadata": {
        "id": "Ry4VDk_llCLY",
        "colab_type": "text"
      },
      "source": [
        "## Day 78 Lecture 1 Assignment\n",
        "\n",
        "In this assignment, we will learn about Spark.\n",
        "\n",
        "Run the cells below to start a spark session."
      ]
    },
    {
      "cell_type": "code",
      "metadata": {
        "id": "wen6A2I2RYVV",
        "colab_type": "code",
        "colab": {}
      },
      "source": [
        "!apt-get install openjdk-8-jdk-headless -qq > /dev/null\n",
        "!wget -q https://www-eu.apache.org/dist/spark/spark-2.4.4/spark-2.4.4-bin-hadoop2.7.tgz\n",
        "!tar xf spark-2.4.4-bin-hadoop2.7.tgz"
      ],
      "execution_count": 0,
      "outputs": []
    },
    {
      "cell_type": "code",
      "metadata": {
        "id": "VW40H37fIb0t",
        "colab_type": "code",
        "colab": {}
      },
      "source": [
        "import os\n",
        "os.environ[\"JAVA_HOME\"] = \"/usr/lib/jvm/java-8-openjdk-amd64\"\n",
        "os.environ[\"SPARK_HOME\"] = \"/content/spark-2.4.4-bin-hadoop2.7\""
      ],
      "execution_count": 0,
      "outputs": []
    },
    {
      "cell_type": "code",
      "metadata": {
        "id": "274gUgKyIjnC",
        "colab_type": "code",
        "outputId": "99cc9e17-5350-4692-83af-9921d5549dab",
        "colab": {
          "base_uri": "https://localhost:8080/",
          "height": 258
        }
      },
      "source": [
        "!pip install -q findspark\n",
        "!pip install pyspark"
      ],
      "execution_count": 3,
      "outputs": [
        {
          "output_type": "stream",
          "text": [
            "Collecting pyspark\n",
            "\u001b[?25l  Downloading https://files.pythonhosted.org/packages/87/21/f05c186f4ddb01d15d0ddc36ef4b7e3cedbeb6412274a41f26b55a650ee5/pyspark-2.4.4.tar.gz (215.7MB)\n",
            "\u001b[K     |████████████████████████████████| 215.7MB 55kB/s \n",
            "\u001b[?25hCollecting py4j==0.10.7\n",
            "\u001b[?25l  Downloading https://files.pythonhosted.org/packages/e3/53/c737818eb9a7dc32a7cd4f1396e787bd94200c3997c72c1dbe028587bd76/py4j-0.10.7-py2.py3-none-any.whl (197kB)\n",
            "\u001b[K     |████████████████████████████████| 204kB 36.4MB/s \n",
            "\u001b[?25hBuilding wheels for collected packages: pyspark\n",
            "  Building wheel for pyspark (setup.py) ... \u001b[?25l\u001b[?25hdone\n",
            "  Created wheel for pyspark: filename=pyspark-2.4.4-py2.py3-none-any.whl size=216130387 sha256=ca148f25eb5068f615fcac08f231d121f0cd30650698e7d967074d1d53d552e1\n",
            "  Stored in directory: /root/.cache/pip/wheels/ab/09/4d/0d184230058e654eb1b04467dbc1292f00eaa186544604b471\n",
            "Successfully built pyspark\n",
            "Installing collected packages: py4j, pyspark\n",
            "Successfully installed py4j-0.10.7 pyspark-2.4.4\n"
          ],
          "name": "stdout"
        }
      ]
    },
    {
      "cell_type": "code",
      "metadata": {
        "id": "uFXDtsaOIsLI",
        "colab_type": "code",
        "outputId": "79f07629-e808-42ff-d37d-155513955b0b",
        "colab": {
          "base_uri": "https://localhost:8080/",
          "height": 122
        }
      },
      "source": [
        "from google.colab import drive\n",
        "drive.mount('/content/gdrive')"
      ],
      "execution_count": 4,
      "outputs": [
        {
          "output_type": "stream",
          "text": [
            "Go to this URL in a browser: https://accounts.google.com/o/oauth2/auth?client_id=947318989803-6bn6qk8qdgf4n4g3pfee6491hc0brc4i.apps.googleusercontent.com&redirect_uri=urn%3aietf%3awg%3aoauth%3a2.0%3aoob&response_type=code&scope=email%20https%3a%2f%2fwww.googleapis.com%2fauth%2fdocs.test%20https%3a%2f%2fwww.googleapis.com%2fauth%2fdrive%20https%3a%2f%2fwww.googleapis.com%2fauth%2fdrive.photos.readonly%20https%3a%2f%2fwww.googleapis.com%2fauth%2fpeopleapi.readonly\n",
            "\n",
            "Enter your authorization code:\n",
            "··········\n",
            "Mounted at /content/gdrive\n"
          ],
          "name": "stdout"
        }
      ]
    },
    {
      "cell_type": "code",
      "metadata": {
        "id": "PelpDj0x9BQX",
        "colab_type": "code",
        "colab": {}
      },
      "source": [
        "from pyspark import SparkContext, SparkConf"
      ],
      "execution_count": 0,
      "outputs": []
    },
    {
      "cell_type": "code",
      "metadata": {
        "colab_type": "code",
        "id": "mAlndDJyDuag",
        "colab": {}
      },
      "source": [
        "APP_NAME = \"Day78Assignment\""
      ],
      "execution_count": 0,
      "outputs": []
    },
    {
      "cell_type": "markdown",
      "metadata": {
        "id": "wtS_4_p6t0Kp",
        "colab_type": "text"
      },
      "source": [
        "We will be using the older SparkContext to work with RDDs and gain an understanding of using mapping and reducing functions."
      ]
    },
    {
      "cell_type": "code",
      "metadata": {
        "id": "ypgjGqd-mYVl",
        "colab_type": "code",
        "colab": {}
      },
      "source": [
        "conf = SparkConf().setAppName(APP_NAME)\n",
        "sc = SparkContext(conf=conf)"
      ],
      "execution_count": 0,
      "outputs": []
    },
    {
      "cell_type": "markdown",
      "metadata": {
        "id": "Dor87jaMm6sL",
        "colab_type": "text"
      },
      "source": [
        "The next step is to load our dataset. Our data contains a daily measurement of PM2.5 in Beijing. PM 2.5 is a fine particulate matter which is a pollutant in the air."
      ]
    },
    {
      "cell_type": "code",
      "metadata": {
        "id": "mQib1-gOmYgy",
        "colab_type": "code",
        "colab": {}
      },
      "source": [
        "pm25 = sc.textFile('/content/gdrive/My Drive/pm25beijing.txt')"
      ],
      "execution_count": 0,
      "outputs": []
    },
    {
      "cell_type": "code",
      "metadata": {
        "id": "NiSSSgFHmYpU",
        "colab_type": "code",
        "outputId": "0ad3e04a-1659-4c54-ea79-af3718f677be",
        "colab": {
          "base_uri": "https://localhost:8080/",
          "height": 187
        }
      },
      "source": [
        "pm25.take(10)"
      ],
      "execution_count": 20,
      "outputs": [
        {
          "output_type": "execute_result",
          "data": {
            "text/plain": [
              "[u'129',\n",
              " u'148',\n",
              " u'159',\n",
              " u'181',\n",
              " u'138',\n",
              " u'109',\n",
              " u'105',\n",
              " u'124',\n",
              " u'120',\n",
              " u'132']"
            ]
          },
          "metadata": {
            "tags": []
          },
          "execution_count": 20
        }
      ]
    },
    {
      "cell_type": "markdown",
      "metadata": {
        "id": "rGBumIIRur6B",
        "colab_type": "text"
      },
      "source": [
        "How many observations do we have in our data? Use the count function to find this number."
      ]
    },
    {
      "cell_type": "code",
      "metadata": {
        "id": "CAKiJlkqupsU",
        "colab_type": "code",
        "colab": {
          "base_uri": "https://localhost:8080/",
          "height": 34
        },
        "outputId": "7e94a09f-d910-4eeb-b192-6fcf2c67005a"
      },
      "source": [
        "# Answer below:\n",
        "pm25.count()\n"
      ],
      "execution_count": 21,
      "outputs": [
        {
          "output_type": "execute_result",
          "data": {
            "text/plain": [
              "52561"
            ]
          },
          "metadata": {
            "tags": []
          },
          "execution_count": 21
        }
      ]
    },
    {
      "cell_type": "markdown",
      "metadata": {
        "id": "AmjFQzLVnXz8",
        "colab_type": "text"
      },
      "source": [
        "You may have noticed that our data is stored as a string. This might mean that we have some missing data. Let's print 1000 numbers instead of 10 to confirm this."
      ]
    },
    {
      "cell_type": "code",
      "metadata": {
        "id": "FwLzUAzkrIy9",
        "colab_type": "code",
        "colab": {
          "base_uri": "https://localhost:8080/",
          "height": 54
        },
        "outputId": "530949de-1acf-4636-c699-f52355ce5733"
      },
      "source": [
        "# Answer below:\n",
        "print(pm25.take(1000))\n"
      ],
      "execution_count": 23,
      "outputs": [
        {
          "output_type": "stream",
          "text": [
            "[u'129', u'148', u'159', u'181', u'138', u'109', u'105', u'124', u'120', u'132', u'140', u'152', u'148', u'164', u'158', u'154', u'159', u'164', u'170', u'149', u'154', u'164', u'156', u'126', u'90', u'63', u'65', u'55', u'65', u'83', u'91', u'86', u'82', u'86', u'78', u'98', u'107', u'90', u'96', u'95', u'86', u'70', u'61', u'53', u'71', u'72', u'76', u'73', u'79', u'58', u'25', u'26', u'28', u'26', u'20', u'29', u'26', u'27', u'27', u'25', u'29', u'32', u'28', u'29', u'30', u'30', u'28', u'26', u'31', u'33', u'29', u'31', u'30', u'34', u'27', u'25', u'28', u'28', u'27', u'27', u'27', u'29', u'36', u'30', u'27', u'39', u'41', u'33', u'50', u'56', u'59', u'60', u'84', u'106', u'66', u'50', u'56', u'77', u'50', u'44', u'27', u'28', u'21', u'25', u'20', u'29', u'34', u'42', u'28', u'36', u'48', u'49', u'52', u'56', u'96', u'75', u'105', u'132', u'93', u'131', u'127', u'130', u'43', u'37', u'30', u'28', u'24', u'23', u'24', u'27', u'40', u'42', u'42', u'55', u'52', u'51', u'57', u'50', u'54', u'67', u'106', u'159', u'198', u'190', u'210', u'195', u'275', u'164', u'110', u'100', u'81', u'71', u'66', u'92', u'135', u'155', u'198', u'250', u'200', u'231', u'250', u'212', u'219', u'227', u'226', u'225', u'168', u'169', u'165', u'159', u'167', u'196', u'169', u'155', u'119', u'106', u'93', u'84', u'73', u'66', u'40', u'49', u'50', u'49', u'41', u'37', u'45', u'44', u'54', u'50', u'47', u'66', u'75', u'82', u'66', u'83', u'62', u'40', u'23', u'25', u'27', u'35', u'50', u'70', u'75', u'58', u'70', u'68', u'71', u'88', u'84', u'83', u'66', u'27', u'24', u'22', u'23', u'27', u'23', u'17', u'17', u'16', u'16', u'20', u'20', u'18', u'25', u'26', u'27', u'28', u'15', u'24', u'13', u'13', u'13', u'17', u'20', u'27', u'20', u'15', u'21', u'21', u'37', u'26', u'15', u'9', u'11', u'11', u'16', u'13', u'15', u'21', u'24', u'22', u'22', u'22', u'19', u'23', u'25', u'25', u'31', u'25', u'22', u'22', u'15', u'16', u'11', u'11', u'12', u'11', u'12', u'27', u'28', u'34', u'33', u'36', u'26', u'49', u'52', u'47', u'47', u'39', u'59', u'76', u'96', u'95', u'68', u'65', u'75', u'257', u'174', u'164', u'161', u'137', u'92', u'64', u'87', u'87', u'84', u'95', u'79', u'75', u'79', u'86', u'72', u'89', u'94', u'69', u'49', u'33', u'27', u'20', u'36', u'37', u'30', u'18', u'21', u'13', u'23', u'26', u'27', u'30', u'28', u'26', u'26', u'31', u'35', u'36', u'37', u'64', u'83', u'91', u'90', u'102', u'94', u'87', u'141', u'211', u'242', u'271', u'249', u'200', u'147', u'114', u'102', u'108', u'135', u'120', u'148', u'127', u'128', u'140', u'148', u'150', u'154', u'197', u'235', u'261', u'269', u'266', u'263', u'241', u'205', u'160', u'150', u'148', u'208', u'209', u'183', u'161', u'182', u'230', u'170', u'172', u'154', u'166', u'177', u'191', u'212', u'250', u'268', u'317', u'291', u'313', u'282', u'282', u'303', u'349', u'407', u'361', u'234', u'149', u'147', u'184', u'161', u'137', u'146', u'144', u'154', u'173', u'188', u'203', u'233', u'408', u'435', u'403', u'360', u'402', u'358', u'383', u'332', u'274', u'256', u'302', u'330', u'367', u'297', u'331', u'323', u'339', u'301', u'310', u'305', u'313', u'336', u'357', u'485', u'426', u'403', u'374', u'333', u'343', u'364', u'389', u'368', u'267', u'71', u'81', u'51', u'49', u'44', u'45', u'35', u'29', u'27', u'29', u'16', u'23', u'28', u'22', u'11', u'25', u'16', u'20', u'20', u'18', u'18', u'17', u'17', u'17', u'15', u'19', u'16', u'18', u'18', u'18', u'26', u'26', u'25', u'24', u'15', u'17', u'15', u'21', u'40', u'51', u'45', u'61', u'72', u'38', u'35', u'29', u'26', u'18', u'15', u'15', u'22', u'21', u'19', u'22', u'25', u'22', u'26', u'32', u'30', u'32', u'30', u'32', u'37', u'49', u'47', u'39', u'35', u'48', u'49', u'24', u'23', u'20', u'19', u'16', u'22', u'24', u'24', u'41', u'23', u'19', u'15', u'19', u'17', u'17', u'22', u'NA', u'NA', u'NA', u'NA', u'NA', u'NA', u'NA', u'NA', u'NA', u'NA', u'NA', u'NA', u'NA', u'NA', u'NA', u'NA', u'NA', u'NA', u'NA', u'NA', u'NA', u'NA', u'NA', u'NA', u'NA', u'NA', u'NA', u'NA', u'NA', u'NA', u'NA', u'NA', u'NA', u'NA', u'NA', u'NA', u'NA', u'NA', u'NA', u'NA', u'NA', u'NA', u'NA', u'NA', u'NA', u'NA', u'NA', u'NA', u'NA', u'NA', u'NA', u'NA', u'NA', u'NA', u'NA', u'NA', u'NA', u'NA', u'NA', u'NA', u'NA', u'NA', u'NA', u'NA', u'NA', u'NA', u'NA', u'88', u'85', u'90', u'127', u'144', u'203', u'199', u'231', u'274', u'340', u'298', u'268', u'299', u'300', u'240', u'213', u'171', u'153', u'153', u'140', u'147', u'158', u'153', u'154', u'143', u'90', u'55', u'52', u'41', u'29', u'37', u'49', u'56', u'38', u'37', u'28', u'20', u'22', u'27', u'34', u'27', u'32', u'28', u'28', u'18', u'17', u'16', u'18', u'16', u'12', u'13', u'23', u'21', u'13', u'14', u'23', u'16', u'25', u'20', u'25', u'19', u'24', u'25', u'20', u'24', u'17', u'10', u'11', u'16', u'20', u'13', u'12', u'12', u'12', u'12', u'31', u'36', u'42', u'52', u'26', u'24', u'25', u'43', u'47', u'61', u'66', u'65', u'70', u'36', u'37', u'22', u'24', u'29', u'35', u'35', u'33', u'32', u'25', u'16', u'26', u'32', u'36', u'37', u'45', u'71', u'67', u'69', u'94', u'85', u'35', u'26', u'24', u'20', u'16', u'18', u'19', u'22', u'17', u'18', u'11', u'11', u'16', u'18', u'17', u'19', u'26', u'24', u'54', u'71', u'129', u'145', u'101', u'65', u'70', u'67', u'76', u'76', u'68', u'73', u'73', u'64', u'53', u'72', u'78', u'72', u'56', u'54', u'40', u'49', u'63', u'66', u'64', u'63', u'65', u'64', u'64', u'62', u'56', u'87', u'72', u'104', u'97', u'96', u'86', u'85', u'92', u'55', u'36', u'27', u'25', u'28', u'32', u'35', u'43', u'70', u'83', u'66', u'70', u'80', u'88', u'69', u'71', u'62', u'73', u'107', u'94', u'121', u'132', u'161', u'120', u'72', u'58', u'34', u'14', u'17', u'15', u'23', u'34', u'96', u'87', u'87', u'95', u'105', u'114', u'103', u'99', u'102', u'104', u'78', u'33', u'29', u'27', u'27', u'26', u'33', u'29', u'31', u'28', u'28', u'61', u'64', u'80', u'91', u'79', u'48', u'59', u'82', u'63', u'48', u'54', u'42', u'47', u'87', u'105', u'90', u'101', u'126', u'114', u'103', u'114', u'100', u'72', u'68', u'72', u'71', u'80', u'70', u'63', u'67', u'62', u'69', u'58', u'51', u'51', u'54', u'45', u'47', u'85', u'78', u'68', u'64', u'65', u'80', u'74', u'93', u'77', u'67', u'84', u'77', u'83', u'82', u'100', u'189', u'99', u'71', u'43', u'64', u'68', u'69', u'65', u'71', u'77', u'81', u'88', u'90', u'92', u'88', u'80', u'100', u'105', u'118', u'125', u'141', u'152', u'164', u'147', u'162', u'157', u'156', u'160', u'178', u'187', u'181', u'185', u'197', u'180', u'172', u'166', u'136', u'133', u'140', u'159', u'169', u'170', u'184', u'163', u'140', u'144', u'166', u'196', u'227', u'210', u'233', u'258', u'247', u'230', u'273', u'253', u'254', u'241', u'229', u'199', u'193', u'207', u'176', u'91', u'58', u'39', u'50', u'51', u'49', u'54', u'153', u'181', u'181', u'182', u'156', u'27', u'16', u'22', u'21', u'6', u'8', u'8', u'8', u'10', u'9', u'20', u'14', u'16', u'14', u'10', u'7', u'8', u'12', u'15', u'8', u'11', u'18', u'16', u'11', u'10', u'11', u'10', u'10', u'12', u'12', u'10', u'10', u'9', u'9', u'11', u'12', u'12', u'12', u'21', u'18', u'13', u'18', u'17', u'19', u'22', u'20', u'24', u'19', u'13', u'17', u'22', u'16', u'16', u'11', u'10', u'9', u'11', u'14', u'21', u'26', u'21', u'19', u'13', u'13', u'13']\n"
          ],
          "name": "stdout"
        }
      ]
    },
    {
      "cell_type": "markdown",
      "metadata": {
        "id": "_v1NEfnCrgSM",
        "colab_type": "text"
      },
      "source": [
        "We can see that the missing values are represented as NA. Replace them with `'0'` using the map function."
      ]
    },
    {
      "cell_type": "code",
      "metadata": {
        "id": "s35d812WErjv",
        "colab_type": "code",
        "colab": {}
      },
      "source": [
        "pairs = pm25.map(lambda x: 0 if x=='NA' else x)"
      ],
      "execution_count": 0,
      "outputs": []
    },
    {
      "cell_type": "code",
      "metadata": {
        "id": "RljUs0TdE3xF",
        "colab_type": "code",
        "colab": {}
      },
      "source": [
        "pairs.collect()"
      ],
      "execution_count": 0,
      "outputs": []
    },
    {
      "cell_type": "markdown",
      "metadata": {
        "id": "9fqx6olbr3qL",
        "colab_type": "text"
      },
      "source": [
        "Next, convert all values to floats using the map function."
      ]
    },
    {
      "cell_type": "code",
      "metadata": {
        "id": "0pEe0Ebqr-Z0",
        "colab_type": "code",
        "colab": {}
      },
      "source": [
        "# Answer below:\n",
        "floats = pairs.map(float)\n"
      ],
      "execution_count": 0,
      "outputs": []
    },
    {
      "cell_type": "markdown",
      "metadata": {
        "id": "oXqSoCOlnz-J",
        "colab_type": "text"
      },
      "source": [
        "Count how many days in the time frame had a PM2.5 level higher than 100. Use the filter function and then the count function."
      ]
    },
    {
      "cell_type": "code",
      "metadata": {
        "id": "sz1zsVH4mYwK",
        "colab_type": "code",
        "colab": {
          "base_uri": "https://localhost:8080/",
          "height": 34
        },
        "outputId": "fe433513-f8cf-4589-a8f3-d6a98be0f02c"
      },
      "source": [
        "# Answer below:\n",
        "g100 = floats.filter(lambda x: x > 100).count()\n",
        "print(g100)"
      ],
      "execution_count": 57,
      "outputs": [
        {
          "output_type": "stream",
          "text": [
            "17761\n"
          ],
          "name": "stdout"
        }
      ]
    },
    {
      "cell_type": "markdown",
      "metadata": {
        "id": "wWF1j40WujZL",
        "colab_type": "text"
      },
      "source": [
        "Calculate the mean pm2.5 for all non zero days."
      ]
    },
    {
      "cell_type": "code",
      "metadata": {
        "id": "8Ny0osrDslO8",
        "colab_type": "code",
        "colab": {
          "base_uri": "https://localhost:8080/",
          "height": 34
        },
        "outputId": "2252c0b8-c8e4-48ac-9edd-0c649b21b44d"
      },
      "source": [
        "# Answer below:\n",
        "floats.filter(lambda x: x !=0).mean()"
      ],
      "execution_count": 58,
      "outputs": [
        {
          "output_type": "execute_result",
          "data": {
            "text/plain": [
              "95.90424117331818"
            ]
          },
          "metadata": {
            "tags": []
          },
          "execution_count": 58
        }
      ]
    }
  ]
}