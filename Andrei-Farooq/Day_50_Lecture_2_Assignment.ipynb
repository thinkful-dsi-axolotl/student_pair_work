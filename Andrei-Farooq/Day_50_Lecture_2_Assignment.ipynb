{
  "nbformat": 4,
  "nbformat_minor": 0,
  "metadata": {
    "colab": {
      "name": "Day 50 Lecture 2 Assignment.ipynb",
      "provenance": [],
      "collapsed_sections": []
    },
    "kernelspec": {
      "display_name": "Python 3",
      "language": "python",
      "name": "python3"
    },
    "language_info": {
      "codemirror_mode": {
        "name": "ipython",
        "version": 3
      },
      "file_extension": ".py",
      "mimetype": "text/x-python",
      "name": "python",
      "nbconvert_exporter": "python",
      "pygments_lexer": "ipython3",
      "version": "3.7.0"
    }
  },
  "cells": [
    {
      "cell_type": "markdown",
      "metadata": {
        "colab_type": "text",
        "id": "xdL0Yz0D1D_q"
      },
      "source": [
        "## Day 50 Lecture 2 Assignment\n",
        "\n",
        "In this assignment, we will apply various methods of internal evaluation to the results of K-Means clustering on a dataset containing the results of a survey on financial wellbeing."
      ]
    },
    {
      "cell_type": "code",
      "metadata": {
        "colab_type": "code",
        "id": "OulyiH_C1D_r",
        "colab": {}
      },
      "source": [
        "%matplotlib inline\n",
        "\n",
        "import matplotlib.pyplot as plt\n",
        "import numpy as np\n",
        "import pandas as pd\n",
        "from sklearn.cluster import KMeans\n",
        "from sklearn.preprocessing import StandardScaler\n",
        "from sklearn.metrics import silhouette_score"
      ],
      "execution_count": 0,
      "outputs": []
    },
    {
      "cell_type": "markdown",
      "metadata": {
        "colab_type": "text",
        "id": "ezMvoRlB1D_t"
      },
      "source": [
        "This dataset contains the results of a survey on a financial wellbeing conducted by the US Consumer Finance Protection Bureau that were published in October 2017. This dataset has a large number of columns, most of which correspond to specific questions on the survey. These codebook for translating the column names to questions can be found here:\n",
        "\n",
        "https://s3.amazonaws.com/files.consumerfinance.gov/f/documents/cfpb_nfwbs-puf-codebook.pdf\n",
        "\n",
        "Load the dataset."
      ]
    },
    {
      "cell_type": "code",
      "metadata": {
        "colab_type": "code",
        "id": "wP1U4eQ91D_u",
        "colab": {
          "base_uri": "https://localhost:8080/",
          "height": 191
        },
        "outputId": "5b1f4528-6d3d-457c-b6ec-f98707f136ca"
      },
      "source": [
        "# answer goes here\n",
        "df = pd.read_csv('https://tf-assets-prod.s3.amazonaws.com/tf-curric/data-science/Data%20Sets%20Clustering/financial_wellbeing.csv')\n",
        "df.head(3)"
      ],
      "execution_count": 17,
      "outputs": [
        {
          "output_type": "execute_result",
          "data": {
            "text/html": [
              "<div>\n",
              "<style scoped>\n",
              "    .dataframe tbody tr th:only-of-type {\n",
              "        vertical-align: middle;\n",
              "    }\n",
              "\n",
              "    .dataframe tbody tr th {\n",
              "        vertical-align: top;\n",
              "    }\n",
              "\n",
              "    .dataframe thead th {\n",
              "        text-align: right;\n",
              "    }\n",
              "</style>\n",
              "<table border=\"1\" class=\"dataframe\">\n",
              "  <thead>\n",
              "    <tr style=\"text-align: right;\">\n",
              "      <th></th>\n",
              "      <th>PUF_ID</th>\n",
              "      <th>sample</th>\n",
              "      <th>fpl</th>\n",
              "      <th>SWB_1</th>\n",
              "      <th>SWB_2</th>\n",
              "      <th>SWB_3</th>\n",
              "      <th>FWBscore</th>\n",
              "      <th>FWB1_1</th>\n",
              "      <th>FWB1_2</th>\n",
              "      <th>FWB1_3</th>\n",
              "      <th>FWB1_4</th>\n",
              "      <th>FWB1_5</th>\n",
              "      <th>FWB1_6</th>\n",
              "      <th>FWB2_1</th>\n",
              "      <th>FWB2_2</th>\n",
              "      <th>FWB2_3</th>\n",
              "      <th>FWB2_4</th>\n",
              "      <th>FSscore</th>\n",
              "      <th>FS1_1</th>\n",
              "      <th>FS1_2</th>\n",
              "      <th>FS1_3</th>\n",
              "      <th>FS1_4</th>\n",
              "      <th>FS1_5</th>\n",
              "      <th>FS1_6</th>\n",
              "      <th>FS1_7</th>\n",
              "      <th>FS2_1</th>\n",
              "      <th>FS2_2</th>\n",
              "      <th>FS2_3</th>\n",
              "      <th>SUBKNOWL1</th>\n",
              "      <th>ACT1_1</th>\n",
              "      <th>ACT1_2</th>\n",
              "      <th>FINGOALS</th>\n",
              "      <th>PROPPLAN_1</th>\n",
              "      <th>PROPPLAN_2</th>\n",
              "      <th>PROPPLAN_3</th>\n",
              "      <th>PROPPLAN_4</th>\n",
              "      <th>MANAGE1_1</th>\n",
              "      <th>MANAGE1_2</th>\n",
              "      <th>MANAGE1_3</th>\n",
              "      <th>MANAGE1_4</th>\n",
              "      <th>...</th>\n",
              "      <th>SOCSEC2</th>\n",
              "      <th>SOCSEC3</th>\n",
              "      <th>LIFEEXPECT</th>\n",
              "      <th>HHEDUC</th>\n",
              "      <th>KIDS_NoChildren</th>\n",
              "      <th>KIDS_1</th>\n",
              "      <th>KIDS_2</th>\n",
              "      <th>KIDS_3</th>\n",
              "      <th>KIDS_4</th>\n",
              "      <th>EMPLOY</th>\n",
              "      <th>EMPLOY1_1</th>\n",
              "      <th>EMPLOY1_2</th>\n",
              "      <th>EMPLOY1_3</th>\n",
              "      <th>EMPLOY1_4</th>\n",
              "      <th>EMPLOY1_5</th>\n",
              "      <th>EMPLOY1_6</th>\n",
              "      <th>EMPLOY1_7</th>\n",
              "      <th>EMPLOY1_8</th>\n",
              "      <th>EMPLOY1_9</th>\n",
              "      <th>RETIRE</th>\n",
              "      <th>MILITARY</th>\n",
              "      <th>Military_Status</th>\n",
              "      <th>agecat</th>\n",
              "      <th>generation</th>\n",
              "      <th>PPEDUC</th>\n",
              "      <th>PPETHM</th>\n",
              "      <th>PPGENDER</th>\n",
              "      <th>PPHHSIZE</th>\n",
              "      <th>PPINCIMP</th>\n",
              "      <th>PPMARIT</th>\n",
              "      <th>PPMSACAT</th>\n",
              "      <th>PPREG4</th>\n",
              "      <th>PPREG9</th>\n",
              "      <th>PPT01</th>\n",
              "      <th>PPT25</th>\n",
              "      <th>PPT612</th>\n",
              "      <th>PPT1317</th>\n",
              "      <th>PPT18OV</th>\n",
              "      <th>PCTLT200FPL</th>\n",
              "      <th>finalwt</th>\n",
              "    </tr>\n",
              "  </thead>\n",
              "  <tbody>\n",
              "    <tr>\n",
              "      <th>0</th>\n",
              "      <td>10350</td>\n",
              "      <td>2</td>\n",
              "      <td>3</td>\n",
              "      <td>5</td>\n",
              "      <td>5</td>\n",
              "      <td>6</td>\n",
              "      <td>55</td>\n",
              "      <td>3</td>\n",
              "      <td>3</td>\n",
              "      <td>3</td>\n",
              "      <td>3</td>\n",
              "      <td>2</td>\n",
              "      <td>3</td>\n",
              "      <td>2</td>\n",
              "      <td>3</td>\n",
              "      <td>2</td>\n",
              "      <td>4</td>\n",
              "      <td>44</td>\n",
              "      <td>3</td>\n",
              "      <td>3</td>\n",
              "      <td>4</td>\n",
              "      <td>3</td>\n",
              "      <td>3</td>\n",
              "      <td>3</td>\n",
              "      <td>4</td>\n",
              "      <td>4</td>\n",
              "      <td>3</td>\n",
              "      <td>4</td>\n",
              "      <td>5</td>\n",
              "      <td>4</td>\n",
              "      <td>3</td>\n",
              "      <td>1</td>\n",
              "      <td>5</td>\n",
              "      <td>4</td>\n",
              "      <td>4</td>\n",
              "      <td>3</td>\n",
              "      <td>4</td>\n",
              "      <td>4</td>\n",
              "      <td>2</td>\n",
              "      <td>4</td>\n",
              "      <td>...</td>\n",
              "      <td>62</td>\n",
              "      <td>-2</td>\n",
              "      <td>-2</td>\n",
              "      <td>4</td>\n",
              "      <td>-1</td>\n",
              "      <td>0</td>\n",
              "      <td>0</td>\n",
              "      <td>0</td>\n",
              "      <td>0</td>\n",
              "      <td>8</td>\n",
              "      <td>0</td>\n",
              "      <td>0</td>\n",
              "      <td>0</td>\n",
              "      <td>0</td>\n",
              "      <td>0</td>\n",
              "      <td>0</td>\n",
              "      <td>0</td>\n",
              "      <td>1</td>\n",
              "      <td>0</td>\n",
              "      <td>1</td>\n",
              "      <td>0</td>\n",
              "      <td>5</td>\n",
              "      <td>8</td>\n",
              "      <td>1</td>\n",
              "      <td>4</td>\n",
              "      <td>1</td>\n",
              "      <td>1</td>\n",
              "      <td>1</td>\n",
              "      <td>7</td>\n",
              "      <td>3</td>\n",
              "      <td>1</td>\n",
              "      <td>4</td>\n",
              "      <td>8</td>\n",
              "      <td>0</td>\n",
              "      <td>0</td>\n",
              "      <td>0</td>\n",
              "      <td>0</td>\n",
              "      <td>1</td>\n",
              "      <td>0</td>\n",
              "      <td>0.367292</td>\n",
              "    </tr>\n",
              "    <tr>\n",
              "      <th>1</th>\n",
              "      <td>7740</td>\n",
              "      <td>1</td>\n",
              "      <td>3</td>\n",
              "      <td>6</td>\n",
              "      <td>6</td>\n",
              "      <td>6</td>\n",
              "      <td>51</td>\n",
              "      <td>2</td>\n",
              "      <td>2</td>\n",
              "      <td>3</td>\n",
              "      <td>3</td>\n",
              "      <td>3</td>\n",
              "      <td>4</td>\n",
              "      <td>2</td>\n",
              "      <td>2</td>\n",
              "      <td>2</td>\n",
              "      <td>3</td>\n",
              "      <td>43</td>\n",
              "      <td>3</td>\n",
              "      <td>3</td>\n",
              "      <td>3</td>\n",
              "      <td>3</td>\n",
              "      <td>4</td>\n",
              "      <td>3</td>\n",
              "      <td>2</td>\n",
              "      <td>4</td>\n",
              "      <td>3</td>\n",
              "      <td>2</td>\n",
              "      <td>5</td>\n",
              "      <td>4</td>\n",
              "      <td>3</td>\n",
              "      <td>0</td>\n",
              "      <td>3</td>\n",
              "      <td>2</td>\n",
              "      <td>2</td>\n",
              "      <td>1</td>\n",
              "      <td>4</td>\n",
              "      <td>4</td>\n",
              "      <td>1</td>\n",
              "      <td>4</td>\n",
              "      <td>...</td>\n",
              "      <td>-2</td>\n",
              "      <td>66</td>\n",
              "      <td>90</td>\n",
              "      <td>2</td>\n",
              "      <td>1</td>\n",
              "      <td>0</td>\n",
              "      <td>0</td>\n",
              "      <td>0</td>\n",
              "      <td>0</td>\n",
              "      <td>2</td>\n",
              "      <td>0</td>\n",
              "      <td>1</td>\n",
              "      <td>0</td>\n",
              "      <td>0</td>\n",
              "      <td>0</td>\n",
              "      <td>0</td>\n",
              "      <td>0</td>\n",
              "      <td>0</td>\n",
              "      <td>0</td>\n",
              "      <td>-2</td>\n",
              "      <td>0</td>\n",
              "      <td>5</td>\n",
              "      <td>3</td>\n",
              "      <td>3</td>\n",
              "      <td>2</td>\n",
              "      <td>1</td>\n",
              "      <td>1</td>\n",
              "      <td>2</td>\n",
              "      <td>6</td>\n",
              "      <td>3</td>\n",
              "      <td>1</td>\n",
              "      <td>2</td>\n",
              "      <td>3</td>\n",
              "      <td>0</td>\n",
              "      <td>0</td>\n",
              "      <td>0</td>\n",
              "      <td>0</td>\n",
              "      <td>2</td>\n",
              "      <td>0</td>\n",
              "      <td>1.327561</td>\n",
              "    </tr>\n",
              "    <tr>\n",
              "      <th>2</th>\n",
              "      <td>13699</td>\n",
              "      <td>1</td>\n",
              "      <td>3</td>\n",
              "      <td>4</td>\n",
              "      <td>3</td>\n",
              "      <td>4</td>\n",
              "      <td>49</td>\n",
              "      <td>3</td>\n",
              "      <td>3</td>\n",
              "      <td>3</td>\n",
              "      <td>3</td>\n",
              "      <td>3</td>\n",
              "      <td>3</td>\n",
              "      <td>3</td>\n",
              "      <td>3</td>\n",
              "      <td>3</td>\n",
              "      <td>3</td>\n",
              "      <td>42</td>\n",
              "      <td>3</td>\n",
              "      <td>3</td>\n",
              "      <td>3</td>\n",
              "      <td>3</td>\n",
              "      <td>3</td>\n",
              "      <td>3</td>\n",
              "      <td>3</td>\n",
              "      <td>3</td>\n",
              "      <td>3</td>\n",
              "      <td>3</td>\n",
              "      <td>5</td>\n",
              "      <td>3</td>\n",
              "      <td>3</td>\n",
              "      <td>1</td>\n",
              "      <td>4</td>\n",
              "      <td>4</td>\n",
              "      <td>4</td>\n",
              "      <td>4</td>\n",
              "      <td>3</td>\n",
              "      <td>3</td>\n",
              "      <td>3</td>\n",
              "      <td>3</td>\n",
              "      <td>...</td>\n",
              "      <td>-2</td>\n",
              "      <td>68</td>\n",
              "      <td>78</td>\n",
              "      <td>3</td>\n",
              "      <td>0</td>\n",
              "      <td>0</td>\n",
              "      <td>0</td>\n",
              "      <td>0</td>\n",
              "      <td>1</td>\n",
              "      <td>2</td>\n",
              "      <td>0</td>\n",
              "      <td>1</td>\n",
              "      <td>0</td>\n",
              "      <td>0</td>\n",
              "      <td>0</td>\n",
              "      <td>0</td>\n",
              "      <td>0</td>\n",
              "      <td>0</td>\n",
              "      <td>0</td>\n",
              "      <td>-2</td>\n",
              "      <td>0</td>\n",
              "      <td>5</td>\n",
              "      <td>3</td>\n",
              "      <td>3</td>\n",
              "      <td>3</td>\n",
              "      <td>2</td>\n",
              "      <td>1</td>\n",
              "      <td>3</td>\n",
              "      <td>6</td>\n",
              "      <td>3</td>\n",
              "      <td>1</td>\n",
              "      <td>4</td>\n",
              "      <td>9</td>\n",
              "      <td>0</td>\n",
              "      <td>0</td>\n",
              "      <td>0</td>\n",
              "      <td>1</td>\n",
              "      <td>2</td>\n",
              "      <td>1</td>\n",
              "      <td>0.835156</td>\n",
              "    </tr>\n",
              "  </tbody>\n",
              "</table>\n",
              "<p>3 rows × 217 columns</p>\n",
              "</div>"
            ],
            "text/plain": [
              "   PUF_ID  sample  fpl  SWB_1  ...  PPT1317  PPT18OV  PCTLT200FPL   finalwt\n",
              "0   10350       2    3      5  ...        0        1            0  0.367292\n",
              "1    7740       1    3      6  ...        0        2            0  1.327561\n",
              "2   13699       1    3      4  ...        1        2            1  0.835156\n",
              "\n",
              "[3 rows x 217 columns]"
            ]
          },
          "metadata": {
            "tags": []
          },
          "execution_count": 17
        }
      ]
    },
    {
      "cell_type": "markdown",
      "metadata": {
        "colab_type": "text",
        "id": "o_K1eQ0x1D_y"
      },
      "source": [
        "As we did in the previous assignment, we will only use the score columns. Filter the columns of the dataset to only include these columns."
      ]
    },
    {
      "cell_type": "code",
      "metadata": {
        "colab_type": "code",
        "id": "xfYVreyw1D_y",
        "colab": {}
      },
      "source": [
        "# answer goes here\n",
        "df_filtered = df.filter(regex = 'score')\n",
        "df_filtered['FWBscore'].value_counts()\n",
        "columns = df_filtered.columns"
      ],
      "execution_count": 0,
      "outputs": []
    },
    {
      "cell_type": "markdown",
      "metadata": {
        "colab_type": "text",
        "id": "MUjcLMMk1D_2"
      },
      "source": [
        "Standardize the features in your dataset using scikit-learn's StandardScaler, which will set the mean of each feature to 0 and the variance to 1."
      ]
    },
    {
      "cell_type": "code",
      "metadata": {
        "colab_type": "code",
        "id": "6OTdN8oF1D_2",
        "colab": {}
      },
      "source": [
        "# answer goes here\n",
        "scaler = StandardScaler()\n",
        "X = scaler.fit_transform(df_filtered)"
      ],
      "execution_count": 0,
      "outputs": []
    },
    {
      "cell_type": "markdown",
      "metadata": {
        "colab_type": "text",
        "id": "ao3Y5FVp1D_4"
      },
      "source": [
        "Create an elbow plot showing how the SSE changes with respect to the number of clusters in K-Means. Allow K to vary from 2 to 30. Does a clear \"elbow\" emerge from the plot?"
      ]
    },
    {
      "cell_type": "markdown",
      "metadata": {
        "id": "fsio8_KAlPT8",
        "colab_type": "text"
      },
      "source": [
        "Yes. We can can clearly see an elbow around k= 7 (clusters)."
      ]
    },
    {
      "cell_type": "code",
      "metadata": {
        "id": "n-CjZSscdkGY",
        "colab_type": "code",
        "colab": {
          "base_uri": "https://localhost:8080/",
          "height": 304
        },
        "outputId": "b13d1177-0996-48b0-c39c-42ad09267acd"
      },
      "source": [
        "inertia = []\n",
        "K = range(2,100,5)\n",
        "for k in K:\n",
        "    kmeans = KMeans(n_clusters=k).fit(X)\n",
        "    inertia.append(kmeans.inertia_)\n",
        "\n",
        "plt.plot(K,inertia)\n",
        "plt.xlabel('k')\n",
        "plt.ylabel('Intertia')\n",
        "plt.title('Elbow Plot')\n",
        "plt.show()"
      ],
      "execution_count": 62,
      "outputs": [
        {
          "output_type": "display_data",
          "data": {
            "image/png": "[encoded data removed]",
            "text/plain": [
              "<Figure size 432x288 with 1 Axes>"
            ]
          },
          "metadata": {
            "tags": []
          }
        }
      ]
    },
    {
      "cell_type": "markdown",
      "metadata": {
        "colab_type": "text",
        "id": "y0wBOUWJ1D_6"
      },
      "source": [
        "Create a silhouette plot for the results of K-Means, again with K varying from 2 to 30. What is the optimal number of clusters according to the silhouette method? Is this consistent with the output of the elbow plot?"
      ]
    },
    {
      "cell_type": "code",
      "metadata": {
        "colab_type": "code",
        "id": "AdKYEBx61D_6",
        "colab": {
          "base_uri": "https://localhost:8080/",
          "height": 288
        },
        "outputId": "63f46870-bd7f-4918-b8ea-725a110bf0c6"
      },
      "source": [
        "# answer goes here\n",
        "s_score = []\n",
        "K = range(2,30)\n",
        "for k in K:\n",
        "    kmeans = KMeans(n_clusters=k).fit(X)\n",
        "    y_pred = kmeans.fit_predict(X)\n",
        "    silhouette_score(X, y_pred)\n",
        "    s_score.append(silhouette_score(X, y_pred))\n",
        "\n",
        "plt.plot(K,s_score)\n",
        "plt.xlabel('k')\n",
        "plt.ylabel('silhoutte score')\n",
        "plt.show()\n",
        "\n"
      ],
      "execution_count": 65,
      "outputs": [
        {
          "output_type": "display_data",
          "data": {
            "image/png": "[encoded data removed]",
            "text/plain": [
              "<Figure size 432x288 with 1 Axes>"
            ]
          },
          "metadata": {
            "tags": []
          }
        }
      ]
    },
    {
      "cell_type": "markdown",
      "metadata": {
        "id": "0YRiII5Rkb2W",
        "colab_type": "text"
      },
      "source": [
        "The optimal silhoutte score is achieved when clusters is lower."
      ]
    }
  ]
}