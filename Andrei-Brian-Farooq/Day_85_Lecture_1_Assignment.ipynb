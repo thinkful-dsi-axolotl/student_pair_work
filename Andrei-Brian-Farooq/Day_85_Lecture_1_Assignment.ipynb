{
  "nbformat": 4,
  "nbformat_minor": 0,
  "metadata": {
    "kernelspec": {
      "name": "python3",
      "display_name": "Python 3"
    },
    "language_info": {
      "codemirror_mode": {
        "name": "ipython",
        "version": 3
      },
      "file_extension": ".py",
      "mimetype": "text/x-python",
      "name": "python",
      "nbconvert_exporter": "python",
      "pygments_lexer": "ipython3",
      "version": "3.7.0"
    },
    "colab": {
      "name": "Day 85 Lecture 1 Assignment.ipynb",
      "provenance": [],
      "collapsed_sections": []
    },
    "accelerator": "GPU"
  },
  "cells": [
    {
      "cell_type": "markdown",
      "metadata": {
        "id": "s3b2_cqaKWkw",
        "colab_type": "text"
      },
      "source": [
        "## Long Short-Term Memory \n",
        "\n",
        "In this assignment, we will learn about LSTM models. We will create an LSTM model for time series prediction."
      ]
    },
    {
      "cell_type": "code",
      "metadata": {
        "id": "0sRa-eGWS_B2",
        "colab_type": "code",
        "outputId": "554f1310-2909-4f24-9a43-0c84a6c75808",
        "colab": {
          "base_uri": "https://localhost:8080/",
          "height": 118
        }
      },
      "source": [
        "pip install tensorflow --upgrade -q"
      ],
      "execution_count": 0,
      "outputs": [
        {
          "output_type": "stream",
          "text": [
            "\u001b[K     |████████████████████████████████| 421.8MB 40kB/s \n",
            "\u001b[K     |████████████████████████████████| 450kB 41.7MB/s \n",
            "\u001b[K     |████████████████████████████████| 3.8MB 56.4MB/s \n",
            "\u001b[K     |████████████████████████████████| 81kB 13.4MB/s \n",
            "\u001b[31mERROR: tensorboard 2.1.0 has requirement grpcio>=1.24.3, but you'll have grpcio 1.15.0 which is incompatible.\u001b[0m\n",
            "\u001b[31mERROR: google-colab 1.0.0 has requirement google-auth~=1.4.0, but you'll have google-auth 1.11.0 which is incompatible.\u001b[0m\n",
            "\u001b[?25h"
          ],
          "name": "stdout"
        }
      ]
    },
    {
      "cell_type": "code",
      "metadata": {
        "id": "k0a6OKp4KWkz",
        "colab_type": "code",
        "colab": {}
      },
      "source": [
        "import numpy as np\n",
        "import os\n",
        "import pandas as pd\n",
        "\n",
        "from tensorflow.keras.models import Sequential\n",
        "from tensorflow.keras.layers import Dense, LSTM, Dropout, Flatten\n",
        "from tensorflow.keras.utils import to_categorical"
      ],
      "execution_count": 0,
      "outputs": []
    },
    {
      "cell_type": "code",
      "metadata": {
        "id": "urnFpEVYUi7B",
        "colab_type": "code",
        "outputId": "e7b2b169-f6e5-4759-cd5d-9e37dc3eeca9",
        "colab": {
          "base_uri": "https://localhost:8080/",
          "height": 121
        }
      },
      "source": [
        "from google.colab import drive\n",
        "drive.mount('/content/drive')"
      ],
      "execution_count": 0,
      "outputs": [
        {
          "output_type": "stream",
          "text": [
            "Go to this URL in a browser: https://accounts.google.com/o/oauth2/auth?client_id=947318989803-6bn6qk8qdgf4n4g3pfee6491hc0brc4i.apps.googleusercontent.com&redirect_uri=urn%3aietf%3awg%3aoauth%3a2.0%3aoob&response_type=code&scope=email%20https%3a%2f%2fwww.googleapis.com%2fauth%2fdocs.test%20https%3a%2f%2fwww.googleapis.com%2fauth%2fdrive%20https%3a%2f%2fwww.googleapis.com%2fauth%2fdrive.photos.readonly%20https%3a%2f%2fwww.googleapis.com%2fauth%2fpeopleapi.readonly\n",
            "\n",
            "Enter your authorization code:\n",
            "··········\n",
            "Mounted at /content/drive\n"
          ],
          "name": "stdout"
        }
      ]
    },
    {
      "cell_type": "markdown",
      "metadata": {
        "id": "UY5p0gThKWk1",
        "colab_type": "text"
      },
      "source": [
        "Below is a function for loading time series data collected by sensors. There are 9 different files, We have data about body acceleration, body gyro, and total acceleration for the x, y, and z axis"
      ]
    },
    {
      "cell_type": "code",
      "metadata": {
        "id": "kAhD_8wwKWk2",
        "colab_type": "code",
        "colab": {}
      },
      "source": [
        "def load_func(path, file_ind=False):\n",
        "    data_list = []\n",
        "    if file_ind:\n",
        "        filenames = [path]\n",
        "    else:\n",
        "        files = os.listdir(path)\n",
        "        filenames = [path + '/' + f for f in files]\n",
        "    for f in filenames:\n",
        "        dataframe = pd.read_csv(f, header=None, delim_whitespace=True)\n",
        "        data_list.append(dataframe.values)\n",
        "    if len(data_list) > 1:\n",
        "        return np.dstack(data_list)\n",
        "    else:\n",
        "        return data_list[0]"
      ],
      "execution_count": 0,
      "outputs": []
    },
    {
      "cell_type": "code",
      "metadata": {
        "id": "06u-u8e4KWk4",
        "colab_type": "code",
        "outputId": "0fa379ed-cf92-4b9b-a464-3f8889668e5f",
        "colab": {
          "base_uri": "https://localhost:8080/",
          "height": 168
        }
      },
      "source": [
        "os.listdir('/content/drive/My Drive/Colab Datasets/UCI HAR Dataset/UCI HAR Dataset/train/Inertial Signals/')"
      ],
      "execution_count": 0,
      "outputs": [
        {
          "output_type": "execute_result",
          "data": {
            "text/plain": [
              "['body_acc_x_train.txt',\n",
              " 'body_acc_y_train.txt',\n",
              " 'body_acc_z_train.txt',\n",
              " 'body_gyro_x_train.txt',\n",
              " 'body_gyro_y_train.txt',\n",
              " 'body_gyro_z_train.txt',\n",
              " 'total_acc_x_train.txt',\n",
              " 'total_acc_y_train.txt',\n",
              " 'total_acc_z_train.txt']"
            ]
          },
          "metadata": {
            "tags": []
          },
          "execution_count": 6
        }
      ]
    },
    {
      "cell_type": "code",
      "metadata": {
        "id": "c5_0OBVeKWk7",
        "colab_type": "code",
        "colab": {}
      },
      "source": [
        "X_train = load_func(\"/content/drive/My Drive/Colab Datasets/UCI HAR Dataset/UCI HAR Dataset/train/Inertial Signals\")\n",
        "X_test = load_func(\"/content/drive/My Drive/Colab Datasets/UCI HAR Dataset/UCI HAR Dataset/test/Inertial Signals\")\n",
        "y_train_cat = load_func('/content/drive/My Drive/Colab Datasets/UCI HAR Dataset/UCI HAR Dataset/train/y_train.txt', True)\n",
        "y_test_cat = load_func('/content/drive/My Drive/Colab Datasets/UCI HAR Dataset/UCI HAR Dataset/test/y_test.txt', True)"
      ],
      "execution_count": 0,
      "outputs": []
    },
    {
      "cell_type": "code",
      "metadata": {
        "id": "hSFzlQvdgdDW",
        "colab_type": "code",
        "colab": {}
      },
      "source": [
        ""
      ],
      "execution_count": 0,
      "outputs": []
    },
    {
      "cell_type": "markdown",
      "metadata": {
        "id": "Rgw_29IQKWk8",
        "colab_type": "text"
      },
      "source": [
        "Print the dimensions of both the predictor variables and the target."
      ]
    },
    {
      "cell_type": "code",
      "metadata": {
        "id": "BBiwN-zUKWk9",
        "colab_type": "code",
        "outputId": "bbaceb3e-d0f9-4867-ef9f-01de473e7121",
        "colab": {
          "base_uri": "https://localhost:8080/",
          "height": 34
        }
      },
      "source": [
        "# Answer below:\n",
        "X_train.shape, X_test.shape\n"
      ],
      "execution_count": 0,
      "outputs": [
        {
          "output_type": "execute_result",
          "data": {
            "text/plain": [
              "((7352, 128, 9), (2947, 128, 9))"
            ]
          },
          "metadata": {
            "tags": []
          },
          "execution_count": 9
        }
      ]
    },
    {
      "cell_type": "code",
      "metadata": {
        "id": "rUlUfk1iXo3i",
        "colab_type": "code",
        "outputId": "303cca1d-b09a-4b30-de35-42859421d366",
        "colab": {
          "base_uri": "https://localhost:8080/",
          "height": 34
        }
      },
      "source": [
        "y_train_cat.shape, y_test_cat.shape"
      ],
      "execution_count": 0,
      "outputs": [
        {
          "output_type": "execute_result",
          "data": {
            "text/plain": [
              "((7352, 1), (2947, 1))"
            ]
          },
          "metadata": {
            "tags": []
          },
          "execution_count": 10
        }
      ]
    },
    {
      "cell_type": "markdown",
      "metadata": {
        "id": "2rL-Y9KFKWk-",
        "colab_type": "text"
      },
      "source": [
        "The target variable is categorical. One hot encode the target variable."
      ]
    },
    {
      "cell_type": "code",
      "metadata": {
        "id": "2BzBC9QNKWk_",
        "colab_type": "code",
        "colab": {}
      },
      "source": [
        "# Answer below:\n",
        "Y_train = to_categorical(y_train_cat, 7)\n",
        "Y_test = to_categorical(y_test_cat, 7)"
      ],
      "execution_count": 0,
      "outputs": []
    },
    {
      "cell_type": "markdown",
      "metadata": {
        "id": "HeKcEUwsKWlA",
        "colab_type": "text"
      },
      "source": [
        "Create a model containing an LSTM layer with unit size 100, and input shape that is the tuple containing the number of columns in X and the number of files in X.\n",
        "\n",
        "The next layer is a dropout layer. Choose 0.5 for the proportion. Then add a dense layer of unit size 100 and finally an output dense layer. "
      ]
    },
    {
      "cell_type": "code",
      "metadata": {
        "id": "ujymmzAFKWlB",
        "colab_type": "code",
        "colab": {}
      },
      "source": [
        "# Answer below:\n",
        "model = Sequential()\n",
        "model.add(LSTM(100, input_shape=(X_train.shape[1],X_train.shape[2]) ))\n",
        "model.add(Dropout(0.5))\n",
        "model.add(Dense(100, activation='relu'))\n",
        "model.add(Dense(7, activation='softmax'))\n"
      ],
      "execution_count": 0,
      "outputs": []
    },
    {
      "cell_type": "markdown",
      "metadata": {
        "id": "GX4stdzAKWlC",
        "colab_type": "text"
      },
      "source": [
        "Print the model summary to ensure you have the correct number of parameters."
      ]
    },
    {
      "cell_type": "code",
      "metadata": {
        "id": "AbUNEvSJKWlE",
        "colab_type": "code",
        "outputId": "8356b39b-4c9e-42ef-c8eb-188fd863c1be",
        "colab": {
          "base_uri": "https://localhost:8080/",
          "height": 286
        }
      },
      "source": [
        "# Answer below:\n",
        "model.summary()\n"
      ],
      "execution_count": 0,
      "outputs": [
        {
          "output_type": "stream",
          "text": [
            "Model: \"sequential_4\"\n",
            "_________________________________________________________________\n",
            "Layer (type)                 Output Shape              Param #   \n",
            "=================================================================\n",
            "lstm_4 (LSTM)                (None, 100)               44000     \n",
            "_________________________________________________________________\n",
            "dropout_4 (Dropout)          (None, 100)               0         \n",
            "_________________________________________________________________\n",
            "dense_8 (Dense)              (None, 100)               10100     \n",
            "_________________________________________________________________\n",
            "dense_9 (Dense)              (None, 7)                 707       \n",
            "=================================================================\n",
            "Total params: 54,807\n",
            "Trainable params: 54,807\n",
            "Non-trainable params: 0\n",
            "_________________________________________________________________\n"
          ],
          "name": "stdout"
        }
      ]
    },
    {
      "cell_type": "markdown",
      "metadata": {
        "id": "Ww7tK6UwKWlG",
        "colab_type": "text"
      },
      "source": [
        "Compile and fit the model. Select the appropriate activation, loss, and optimizer.\n",
        "\n",
        "Run the model for 10 epochs with a batch size of 80."
      ]
    },
    {
      "cell_type": "code",
      "metadata": {
        "id": "qdMikFoMKWlG",
        "colab_type": "code",
        "colab": {}
      },
      "source": [
        "# Answer below:\n",
        "model.compile(optimizer = 'adam', loss='categorical_crossentropy', metrics=['accuracy'])"
      ],
      "execution_count": 0,
      "outputs": []
    },
    {
      "cell_type": "code",
      "metadata": {
        "id": "Fqjlp3Y7fI2d",
        "colab_type": "code",
        "outputId": "35f170c8-df66-4b98-c22b-1e5b9ddfe614",
        "colab": {
          "base_uri": "https://localhost:8080/",
          "height": 386
        }
      },
      "source": [
        "model.fit(X_train, Y_train, batch_size=80, epochs=10, validation_data=(X_test, Y_test))"
      ],
      "execution_count": 0,
      "outputs": [
        {
          "output_type": "stream",
          "text": [
            "Train on 7352 samples, validate on 2947 samples\n",
            "Epoch 1/10\n",
            "7352/7352 [==============================] - 2s 323us/sample - loss: 1.3682 - accuracy: 0.4300 - val_loss: 1.2945 - val_accuracy: 0.4235\n",
            "Epoch 2/10\n",
            "7352/7352 [==============================] - 1s 136us/sample - loss: 1.0169 - accuracy: 0.5817 - val_loss: 0.8598 - val_accuracy: 0.6345\n",
            "Epoch 3/10\n",
            "7352/7352 [==============================] - 1s 136us/sample - loss: 0.6737 - accuracy: 0.7155 - val_loss: 0.6982 - val_accuracy: 0.7282\n",
            "Epoch 4/10\n",
            "7352/7352 [==============================] - 1s 139us/sample - loss: 0.5463 - accuracy: 0.7954 - val_loss: 0.5668 - val_accuracy: 0.8012\n",
            "Epoch 5/10\n",
            "7352/7352 [==============================] - 1s 142us/sample - loss: 0.3641 - accuracy: 0.8758 - val_loss: 0.4649 - val_accuracy: 0.8307\n",
            "Epoch 6/10\n",
            "7352/7352 [==============================] - 1s 153us/sample - loss: 0.2238 - accuracy: 0.9214 - val_loss: 0.3623 - val_accuracy: 0.8704\n",
            "Epoch 7/10\n",
            "7352/7352 [==============================] - 1s 159us/sample - loss: 0.2556 - accuracy: 0.9090 - val_loss: 0.4797 - val_accuracy: 0.8534\n",
            "Epoch 8/10\n",
            "7352/7352 [==============================] - 1s 143us/sample - loss: 0.1709 - accuracy: 0.9343 - val_loss: 0.3766 - val_accuracy: 0.8948\n",
            "Epoch 9/10\n",
            "7352/7352 [==============================] - 1s 138us/sample - loss: 0.1691 - accuracy: 0.9426 - val_loss: 0.3015 - val_accuracy: 0.8979\n",
            "Epoch 10/10\n",
            "7352/7352 [==============================] - 1s 140us/sample - loss: 0.2409 - accuracy: 0.9134 - val_loss: 0.2741 - val_accuracy: 0.9033\n"
          ],
          "name": "stdout"
        },
        {
          "output_type": "execute_result",
          "data": {
            "text/plain": [
              "<tensorflow.python.keras.callbacks.History at 0x7f2d62119588>"
            ]
          },
          "metadata": {
            "tags": []
          },
          "execution_count": 39
        }
      ]
    },
    {
      "cell_type": "code",
      "metadata": {
        "id": "1ZTLopn6kqqC",
        "colab_type": "code",
        "outputId": "9b67a6a1-a9bd-4388-e136-ee3e2ed7bdc5",
        "colab": {
          "base_uri": "https://localhost:8080/",
          "height": 1000
        }
      },
      "source": [
        "history=model.fit(X_train, Y_train, batch_size=80, epochs=30, validation_data=(X_test, Y_test))"
      ],
      "execution_count": 0,
      "outputs": [
        {
          "output_type": "stream",
          "text": [
            "Train on 7352 samples, validate on 2947 samples\n",
            "Epoch 1/30\n",
            "7352/7352 [==============================] - 2s 320us/sample - loss: 1.2652 - accuracy: 0.4661 - val_loss: 1.0611 - val_accuracy: 0.5592\n",
            "Epoch 2/30\n",
            "7352/7352 [==============================] - 1s 135us/sample - loss: 0.8753 - accuracy: 0.6296 - val_loss: 0.7461 - val_accuracy: 0.6783\n",
            "Epoch 3/30\n",
            "7352/7352 [==============================] - 1s 139us/sample - loss: 0.6211 - accuracy: 0.7338 - val_loss: 0.6295 - val_accuracy: 0.7448\n",
            "Epoch 4/30\n",
            "7352/7352 [==============================] - 1s 139us/sample - loss: 0.5097 - accuracy: 0.7975 - val_loss: 0.5792 - val_accuracy: 0.8045\n",
            "Epoch 5/30\n",
            "7352/7352 [==============================] - 1s 140us/sample - loss: 0.4517 - accuracy: 0.8441 - val_loss: 0.5618 - val_accuracy: 0.7862\n",
            "Epoch 6/30\n",
            "7352/7352 [==============================] - 1s 138us/sample - loss: 0.3228 - accuracy: 0.8919 - val_loss: 0.5755 - val_accuracy: 0.8151\n",
            "Epoch 7/30\n",
            "7352/7352 [==============================] - 1s 142us/sample - loss: 0.2986 - accuracy: 0.8939 - val_loss: 0.4783 - val_accuracy: 0.8375\n",
            "Epoch 8/30\n",
            "7352/7352 [==============================] - 1s 135us/sample - loss: 0.1984 - accuracy: 0.9324 - val_loss: 0.3374 - val_accuracy: 0.8853\n",
            "Epoch 9/30\n",
            "7352/7352 [==============================] - 1s 138us/sample - loss: 0.1685 - accuracy: 0.9391 - val_loss: 0.3459 - val_accuracy: 0.9040\n",
            "Epoch 10/30\n",
            "7352/7352 [==============================] - 1s 136us/sample - loss: 0.1817 - accuracy: 0.9365 - val_loss: 0.2781 - val_accuracy: 0.8928\n",
            "Epoch 11/30\n",
            "7352/7352 [==============================] - 1s 143us/sample - loss: 0.1575 - accuracy: 0.9450 - val_loss: 0.2811 - val_accuracy: 0.9053\n",
            "Epoch 12/30\n",
            "7352/7352 [==============================] - 1s 138us/sample - loss: 0.1380 - accuracy: 0.9491 - val_loss: 0.2703 - val_accuracy: 0.8975\n",
            "Epoch 13/30\n",
            "7352/7352 [==============================] - 1s 136us/sample - loss: 0.1475 - accuracy: 0.9442 - val_loss: 0.2611 - val_accuracy: 0.9077\n",
            "Epoch 14/30\n",
            "7352/7352 [==============================] - 1s 143us/sample - loss: 0.1448 - accuracy: 0.9460 - val_loss: 0.3050 - val_accuracy: 0.9013\n",
            "Epoch 15/30\n",
            "7352/7352 [==============================] - 1s 141us/sample - loss: 0.1778 - accuracy: 0.9372 - val_loss: 0.4061 - val_accuracy: 0.8823\n",
            "Epoch 16/30\n",
            "7352/7352 [==============================] - 1s 136us/sample - loss: 0.1513 - accuracy: 0.9430 - val_loss: 0.2770 - val_accuracy: 0.8951\n",
            "Epoch 17/30\n",
            "7352/7352 [==============================] - 1s 155us/sample - loss: 0.1257 - accuracy: 0.9475 - val_loss: 0.3120 - val_accuracy: 0.9033\n",
            "Epoch 18/30\n",
            "7352/7352 [==============================] - 1s 158us/sample - loss: 0.1164 - accuracy: 0.9521 - val_loss: 0.3535 - val_accuracy: 0.9033\n",
            "Epoch 19/30\n",
            "7352/7352 [==============================] - 1s 139us/sample - loss: 0.1303 - accuracy: 0.9412 - val_loss: 0.3866 - val_accuracy: 0.8918\n",
            "Epoch 20/30\n",
            "7352/7352 [==============================] - 1s 140us/sample - loss: 0.1445 - accuracy: 0.9427 - val_loss: 0.3029 - val_accuracy: 0.9040\n",
            "Epoch 21/30\n",
            "7352/7352 [==============================] - 1s 144us/sample - loss: 0.1214 - accuracy: 0.9491 - val_loss: 0.2962 - val_accuracy: 0.8962\n",
            "Epoch 22/30\n",
            "7352/7352 [==============================] - 1s 139us/sample - loss: 0.1099 - accuracy: 0.9499 - val_loss: 0.3625 - val_accuracy: 0.9050\n",
            "Epoch 23/30\n",
            "7352/7352 [==============================] - 1s 136us/sample - loss: 0.1123 - accuracy: 0.9527 - val_loss: 0.2976 - val_accuracy: 0.9101\n",
            "Epoch 24/30\n",
            "7352/7352 [==============================] - 1s 138us/sample - loss: 0.1123 - accuracy: 0.9538 - val_loss: 0.3250 - val_accuracy: 0.9074\n",
            "Epoch 25/30\n",
            "7352/7352 [==============================] - 1s 141us/sample - loss: 0.1570 - accuracy: 0.9369 - val_loss: 0.6346 - val_accuracy: 0.8137\n",
            "Epoch 26/30\n",
            "7352/7352 [==============================] - 1s 140us/sample - loss: 0.2144 - accuracy: 0.9218 - val_loss: 0.3297 - val_accuracy: 0.9026\n",
            "Epoch 27/30\n",
            "7352/7352 [==============================] - 1s 137us/sample - loss: 0.1206 - accuracy: 0.9531 - val_loss: 0.3119 - val_accuracy: 0.9101\n",
            "Epoch 28/30\n",
            "7352/7352 [==============================] - 1s 144us/sample - loss: 0.1245 - accuracy: 0.9512 - val_loss: 0.3023 - val_accuracy: 0.9023\n",
            "Epoch 29/30\n",
            "7352/7352 [==============================] - 1s 149us/sample - loss: 0.1209 - accuracy: 0.9475 - val_loss: 0.2942 - val_accuracy: 0.9070\n",
            "Epoch 30/30\n",
            "7352/7352 [==============================] - 1s 160us/sample - loss: 0.1265 - accuracy: 0.9493 - val_loss: 0.2369 - val_accuracy: 0.9186\n"
          ],
          "name": "stdout"
        }
      ]
    },
    {
      "cell_type": "code",
      "metadata": {
        "id": "T2z3cXYNk43W",
        "colab_type": "code",
        "colab": {}
      },
      "source": [
        "import matplotlib.pyplot as plt\n"
      ],
      "execution_count": 0,
      "outputs": []
    },
    {
      "cell_type": "code",
      "metadata": {
        "id": "pHyHr3g1k_AY",
        "colab_type": "code",
        "outputId": "2cc2c1ba-21be-4efa-c217-46d3d156db4e",
        "colab": {
          "base_uri": "https://localhost:8080/",
          "height": 266
        }
      },
      "source": [
        "plt.plot(history.history['loss'] )\n",
        "plt.plot(history.history['val_loss'] )\n",
        "plt.show()"
      ],
      "execution_count": 0,
      "outputs": [
        {
          "output_type": "display_data",
          "data": {
            "image/png": "[encoded data removed]",
            "text/plain": [
              "<Figure size 432x288 with 1 Axes>"
            ]
          },
          "metadata": {
            "tags": []
          }
        }
      ]
    },
    {
      "cell_type": "code",
      "metadata": {
        "id": "FlkwafE2lLvh",
        "colab_type": "code",
        "outputId": "0849bd9e-fa62-40a3-a4c3-033f6817ced4",
        "colab": {
          "base_uri": "https://localhost:8080/",
          "height": 265
        }
      },
      "source": [
        "plt.plot(history.history['accuracy'] )\n",
        "plt.plot(history.history['val_accuracy'] )\n",
        "plt.show()"
      ],
      "execution_count": 0,
      "outputs": [
        {
          "output_type": "display_data",
          "data": {
            "image/png": "[encoded data removed]",
            "text/plain": [
              "<Figure size 432x288 with 1 Axes>"
            ]
          },
          "metadata": {
            "tags": []
          }
        }
      ]
    },
    {
      "cell_type": "markdown",
      "metadata": {
        "id": "h-_IsmrcKWlI",
        "colab_type": "text"
      },
      "source": [
        "Print the confusion matrix for the test data."
      ]
    },
    {
      "cell_type": "code",
      "metadata": {
        "id": "bDLwv62wKWlI",
        "colab_type": "code",
        "colab": {}
      },
      "source": [
        "# Answer below:\n",
        "from sklearn.metrics import confusion_matrix\n"
      ],
      "execution_count": 0,
      "outputs": []
    },
    {
      "cell_type": "code",
      "metadata": {
        "id": "pVffG3shixLA",
        "colab_type": "code",
        "colab": {}
      },
      "source": [
        "y_predict = model.predict_classes(X_test)"
      ],
      "execution_count": 0,
      "outputs": []
    },
    {
      "cell_type": "code",
      "metadata": {
        "id": "y37xTgTvjE4X",
        "colab_type": "code",
        "outputId": "e9de1c5d-b2f3-46af-8697-3cb217944cbf",
        "colab": {
          "base_uri": "https://localhost:8080/",
          "height": 34
        }
      },
      "source": [
        "y_predict"
      ],
      "execution_count": 0,
      "outputs": [
        {
          "output_type": "execute_result",
          "data": {
            "text/plain": [
              "array([5, 5, 5, ..., 2, 2, 2])"
            ]
          },
          "metadata": {
            "tags": []
          },
          "execution_count": 32
        }
      ]
    },
    {
      "cell_type": "code",
      "metadata": {
        "id": "IuMBIBVpjHso",
        "colab_type": "code",
        "outputId": "a76ca983-3e59-4a5a-e09e-bb1072996e29",
        "colab": {
          "base_uri": "https://localhost:8080/",
          "height": 134
        }
      },
      "source": [
        "y_test_cat"
      ],
      "execution_count": 0,
      "outputs": [
        {
          "output_type": "execute_result",
          "data": {
            "text/plain": [
              "array([[5],\n",
              "       [5],\n",
              "       [5],\n",
              "       ...,\n",
              "       [2],\n",
              "       [2],\n",
              "       [2]])"
            ]
          },
          "metadata": {
            "tags": []
          },
          "execution_count": 33
        }
      ]
    },
    {
      "cell_type": "code",
      "metadata": {
        "id": "Oee0ZJqzjQV6",
        "colab_type": "code",
        "outputId": "f920d650-8e15-4106-a8f4-08021cbb442b",
        "colab": {
          "base_uri": "https://localhost:8080/",
          "height": 118
        }
      },
      "source": [
        "confusion_matrix(y_test_cat, y_predict) "
      ],
      "execution_count": 0,
      "outputs": [
        {
          "output_type": "execute_result",
          "data": {
            "text/plain": [
              "array([[451,  21,  24,   0,   0,   0],\n",
              "       [  7, 429,  34,   1,   0,   0],\n",
              "       [  0,   1, 419,   0,   0,   0],\n",
              "       [  0,   1,   0, 313, 177,   0],\n",
              "       [  0,   1,   0,  35, 496,   0],\n",
              "       [  0,  27,   0,   0,   0, 510]])"
            ]
          },
          "metadata": {
            "tags": []
          },
          "execution_count": 35
        }
      ]
    },
    {
      "cell_type": "code",
      "metadata": {
        "id": "ceYZ8zW4KWlK",
        "colab_type": "code",
        "colab": {}
      },
      "source": [
        ""
      ],
      "execution_count": 0,
      "outputs": []
    }
  ]
}