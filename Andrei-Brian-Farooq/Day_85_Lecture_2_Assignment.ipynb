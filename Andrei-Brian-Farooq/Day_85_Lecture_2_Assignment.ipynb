{
  "nbformat": 4,
  "nbformat_minor": 0,
  "metadata": {
    "kernelspec": {
      "display_name": "Python 3",
      "language": "python",
      "name": "python3"
    },
    "language_info": {
      "codemirror_mode": {
        "name": "ipython",
        "version": 3
      },
      "file_extension": ".py",
      "mimetype": "text/x-python",
      "name": "python",
      "nbconvert_exporter": "python",
      "pygments_lexer": "ipython3",
      "version": "3.7.0"
    },
    "colab": {
      "name": "Day 85 Lecture 2 Assignment.ipynb",
      "provenance": [],
      "collapsed_sections": []
    }
  },
  "cells": [
    {
      "cell_type": "markdown",
      "metadata": {
        "id": "mkd31of4jh35",
        "colab_type": "text"
      },
      "source": [
        "## Day 85 Lecture 1 Assignment\n",
        "\n",
        "In this assignment, we will learn how to use the other layers to improve our model performance."
      ]
    },
    {
      "cell_type": "code",
      "metadata": {
        "id": "GtUi79zbjh36",
        "colab_type": "code",
        "colab": {}
      },
      "source": [
        "import numpy as np\n",
        "import pandas as pd"
      ],
      "execution_count": 0,
      "outputs": []
    },
    {
      "cell_type": "markdown",
      "metadata": {
        "id": "aZ2DH6Ndjh39",
        "colab_type": "text"
      },
      "source": [
        "We will explore a dataset containing information about twitter users and will detect whether or not the user is a bot."
      ]
    },
    {
      "cell_type": "code",
      "metadata": {
        "id": "cj8bsG8Ijh3-",
        "colab_type": "code",
        "colab": {}
      },
      "source": [
        "twitter = pd.read_csv('https://tf-assets-prod.s3.amazonaws.com/tf-curric/data-science/training_data_2_csv_UTF.csv')"
      ],
      "execution_count": 0,
      "outputs": []
    },
    {
      "cell_type": "code",
      "metadata": {
        "id": "X2MhRde7jh4A",
        "colab_type": "code",
        "outputId": "0156e814-f618-4c3f-afcc-7eca947bda29",
        "colab": {
          "base_uri": "https://localhost:8080/",
          "height": 512
        }
      },
      "source": [
        "twitter.head()"
      ],
      "execution_count": 0,
      "outputs": [
        {
          "output_type": "execute_result",
          "data": {
            "text/html": [
              "<div>\n",
              "<style scoped>\n",
              "    .dataframe tbody tr th:only-of-type {\n",
              "        vertical-align: middle;\n",
              "    }\n",
              "\n",
              "    .dataframe tbody tr th {\n",
              "        vertical-align: top;\n",
              "    }\n",
              "\n",
              "    .dataframe thead th {\n",
              "        text-align: right;\n",
              "    }\n",
              "</style>\n",
              "<table border=\"1\" class=\"dataframe\">\n",
              "  <thead>\n",
              "    <tr style=\"text-align: right;\">\n",
              "      <th></th>\n",
              "      <th>id</th>\n",
              "      <th>id_str</th>\n",
              "      <th>screen_name</th>\n",
              "      <th>location</th>\n",
              "      <th>description</th>\n",
              "      <th>url</th>\n",
              "      <th>followers_count</th>\n",
              "      <th>friends_count</th>\n",
              "      <th>listed_count</th>\n",
              "      <th>created_at</th>\n",
              "      <th>favourites_count</th>\n",
              "      <th>verified</th>\n",
              "      <th>statuses_count</th>\n",
              "      <th>lang</th>\n",
              "      <th>status</th>\n",
              "      <th>default_profile</th>\n",
              "      <th>default_profile_image</th>\n",
              "      <th>has_extended_profile</th>\n",
              "      <th>name</th>\n",
              "      <th>bot</th>\n",
              "    </tr>\n",
              "  </thead>\n",
              "  <tbody>\n",
              "    <tr>\n",
              "      <th>0</th>\n",
              "      <td>8.160000e+17</td>\n",
              "      <td>\"815745789754417152\"</td>\n",
              "      <td>\"HoustonPokeMap\"</td>\n",
              "      <td>\"Houston, TX\"</td>\n",
              "      <td>\"Rare and strong PokŽmon in Houston, TX. See m...</td>\n",
              "      <td>\"https://t.co/dnWuDbFRkt\"</td>\n",
              "      <td>1291</td>\n",
              "      <td>0</td>\n",
              "      <td>10</td>\n",
              "      <td>\"Mon Jan 02 02:25:26 +0000 2017\"</td>\n",
              "      <td>0</td>\n",
              "      <td>False</td>\n",
              "      <td>78554</td>\n",
              "      <td>\"en\"</td>\n",
              "      <td>{\\r      \"created_at\": \"Sun Mar 12 15:44:04 +0...</td>\n",
              "      <td>True</td>\n",
              "      <td>False</td>\n",
              "      <td>False</td>\n",
              "      <td>\"Houston PokŽ Alert\"</td>\n",
              "      <td>1</td>\n",
              "    </tr>\n",
              "    <tr>\n",
              "      <th>1</th>\n",
              "      <td>4.843621e+09</td>\n",
              "      <td>4843621225</td>\n",
              "      <td>kernyeahx</td>\n",
              "      <td>Templeville town, MD, USA</td>\n",
              "      <td>From late 2014 Socium Marketplace will make sh...</td>\n",
              "      <td>NaN</td>\n",
              "      <td>1</td>\n",
              "      <td>349</td>\n",
              "      <td>0</td>\n",
              "      <td>2/1/2016 7:37</td>\n",
              "      <td>38</td>\n",
              "      <td>False</td>\n",
              "      <td>31</td>\n",
              "      <td>en</td>\n",
              "      <td>NaN</td>\n",
              "      <td>True</td>\n",
              "      <td>False</td>\n",
              "      <td>False</td>\n",
              "      <td>Keri Nelson</td>\n",
              "      <td>1</td>\n",
              "    </tr>\n",
              "    <tr>\n",
              "      <th>2</th>\n",
              "      <td>4.303727e+09</td>\n",
              "      <td>4303727112</td>\n",
              "      <td>mattlieberisbot</td>\n",
              "      <td>NaN</td>\n",
              "      <td>Inspired by the smart, funny folks at @replyal...</td>\n",
              "      <td>https://t.co/P1e1o0m4KC</td>\n",
              "      <td>1086</td>\n",
              "      <td>0</td>\n",
              "      <td>14</td>\n",
              "      <td>Fri Nov 20 18:53:22 +0000 2015</td>\n",
              "      <td>0</td>\n",
              "      <td>False</td>\n",
              "      <td>713</td>\n",
              "      <td>en</td>\n",
              "      <td>{'retweeted': False, 'is_quote_status': False,...</td>\n",
              "      <td>True</td>\n",
              "      <td>False</td>\n",
              "      <td>False</td>\n",
              "      <td>Matt Lieber Is Bot</td>\n",
              "      <td>1</td>\n",
              "    </tr>\n",
              "    <tr>\n",
              "      <th>3</th>\n",
              "      <td>3.063139e+09</td>\n",
              "      <td>3063139353</td>\n",
              "      <td>sc_papers</td>\n",
              "      <td>NaN</td>\n",
              "      <td>NaN</td>\n",
              "      <td>NaN</td>\n",
              "      <td>33</td>\n",
              "      <td>0</td>\n",
              "      <td>8</td>\n",
              "      <td>2/25/2015 20:11</td>\n",
              "      <td>0</td>\n",
              "      <td>False</td>\n",
              "      <td>676</td>\n",
              "      <td>en</td>\n",
              "      <td>Construction of human anti-tetanus single-chai...</td>\n",
              "      <td>True</td>\n",
              "      <td>True</td>\n",
              "      <td>False</td>\n",
              "      <td>single cell papers</td>\n",
              "      <td>1</td>\n",
              "    </tr>\n",
              "    <tr>\n",
              "      <th>4</th>\n",
              "      <td>2.955142e+09</td>\n",
              "      <td>2955142070</td>\n",
              "      <td>lucarivera16</td>\n",
              "      <td>Dublin, United States</td>\n",
              "      <td>Inspiring cooks everywhere since 1956.</td>\n",
              "      <td>NaN</td>\n",
              "      <td>11</td>\n",
              "      <td>745</td>\n",
              "      <td>0</td>\n",
              "      <td>1/1/2015 17:44</td>\n",
              "      <td>146</td>\n",
              "      <td>False</td>\n",
              "      <td>185</td>\n",
              "      <td>en</td>\n",
              "      <td>NaN</td>\n",
              "      <td>False</td>\n",
              "      <td>False</td>\n",
              "      <td>False</td>\n",
              "      <td>lucarivera16</td>\n",
              "      <td>1</td>\n",
              "    </tr>\n",
              "  </tbody>\n",
              "</table>\n",
              "</div>"
            ],
            "text/plain": [
              "             id                id_str  ...                  name bot\n",
              "0  8.160000e+17  \"815745789754417152\"  ...  \"Houston PokŽ Alert\"   1\n",
              "1  4.843621e+09            4843621225  ...           Keri Nelson   1\n",
              "2  4.303727e+09            4303727112  ...    Matt Lieber Is Bot   1\n",
              "3  3.063139e+09            3063139353  ...    single cell papers   1\n",
              "4  2.955142e+09            2955142070  ...          lucarivera16   1\n",
              "\n",
              "[5 rows x 20 columns]"
            ]
          },
          "metadata": {
            "tags": []
          },
          "execution_count": 3
        }
      ]
    },
    {
      "cell_type": "code",
      "metadata": {
        "id": "5MzlatyB6iJ3",
        "colab_type": "code",
        "outputId": "fdc4d9c5-73b7-4ced-eaae-329cab64264c",
        "colab": {
          "base_uri": "https://localhost:8080/",
          "height": 72
        }
      },
      "source": [
        "twitter.bot.value_counts()"
      ],
      "execution_count": 0,
      "outputs": [
        {
          "output_type": "execute_result",
          "data": {
            "text/plain": [
              "0    1476\n",
              "1    1321\n",
              "Name: bot, dtype: int64"
            ]
          },
          "metadata": {
            "tags": []
          },
          "execution_count": 4
        }
      ]
    },
    {
      "cell_type": "code",
      "metadata": {
        "id": "_xcQJaRC5y0I",
        "colab_type": "code",
        "outputId": "f9dfdadf-55a1-4888-891c-cde39075fa64",
        "colab": {
          "base_uri": "https://localhost:8080/",
          "height": 399
        }
      },
      "source": [
        "twitter.isnull().sum()/(twitter.isnull().sum()+twitter.count())"
      ],
      "execution_count": 0,
      "outputs": [
        {
          "output_type": "execute_result",
          "data": {
            "text/plain": [
              "id                       0.000000\n",
              "id_str                   0.000000\n",
              "screen_name              0.000000\n",
              "location                 0.364676\n",
              "description              0.144083\n",
              "url                      0.479800\n",
              "followers_count          0.000000\n",
              "friends_count            0.000000\n",
              "listed_count             0.000000\n",
              "created_at               0.000000\n",
              "favourites_count         0.000000\n",
              "verified                 0.000000\n",
              "statuses_count           0.000000\n",
              "lang                     0.000000\n",
              "status                   0.103325\n",
              "default_profile          0.000000\n",
              "default_profile_image    0.000000\n",
              "has_extended_profile     0.035395\n",
              "name                     0.000000\n",
              "bot                      0.000000\n",
              "dtype: float64"
            ]
          },
          "metadata": {
            "tags": []
          },
          "execution_count": 5
        }
      ]
    },
    {
      "cell_type": "code",
      "metadata": {
        "id": "C1Xv3ZR--7jG",
        "colab_type": "code",
        "colab": {}
      },
      "source": [
        "for column in twitter.columns:\n",
        "  if twitter[column].isna().sum()/twitter.shape[0] > .3:\n",
        "    twitter.drop(columns=[column], inplace=True)"
      ],
      "execution_count": 0,
      "outputs": []
    },
    {
      "cell_type": "code",
      "metadata": {
        "id": "zV0g49h5jh4D",
        "colab_type": "code",
        "outputId": "4fac59e4-9739-43e7-dd3f-3fcd1a1bf5cc",
        "colab": {
          "base_uri": "https://localhost:8080/",
          "height": 35
        }
      },
      "source": [
        "twitter.shape"
      ],
      "execution_count": 0,
      "outputs": [
        {
          "output_type": "execute_result",
          "data": {
            "text/plain": [
              "(2797, 18)"
            ]
          },
          "metadata": {
            "tags": []
          },
          "execution_count": 7
        }
      ]
    },
    {
      "cell_type": "markdown",
      "metadata": {
        "id": "dsXMG4zajh4E",
        "colab_type": "text"
      },
      "source": [
        "Start by getting rid of all columns that are not useful."
      ]
    },
    {
      "cell_type": "code",
      "metadata": {
        "id": "vE1y_FXejh4F",
        "colab_type": "code",
        "colab": {}
      },
      "source": [
        "# Answer below:\n",
        "twitter.drop(columns=['id', 'id_str', 'created_at'], inplace=True)\n"
      ],
      "execution_count": 0,
      "outputs": []
    },
    {
      "cell_type": "markdown",
      "metadata": {
        "id": "OQBDJyWPjh4H",
        "colab_type": "text"
      },
      "source": [
        "Next, get rid of all columns that contain more than 30% missing data. After that, remove all rows containing at least one missing observation."
      ]
    },
    {
      "cell_type": "code",
      "metadata": {
        "id": "oiljewDCjh4H",
        "colab_type": "code",
        "colab": {}
      },
      "source": [
        "# Answer below:\n",
        "# twitter.drop(columns=['location', 'url',], inplace=True)\n"
      ],
      "execution_count": 0,
      "outputs": []
    },
    {
      "cell_type": "code",
      "metadata": {
        "id": "9Ix6DZ2_-yYK",
        "colab_type": "code",
        "colab": {}
      },
      "source": [
        "twitter.drop(columns=['status'], inplace=True)"
      ],
      "execution_count": 0,
      "outputs": []
    },
    {
      "cell_type": "code",
      "metadata": {
        "id": "AGTZ7OJP6stw",
        "colab_type": "code",
        "colab": {}
      },
      "source": [
        "twitter.dropna(inplace=True)"
      ],
      "execution_count": 0,
      "outputs": []
    },
    {
      "cell_type": "code",
      "metadata": {
        "id": "3WuZd4lL6wY1",
        "colab_type": "code",
        "outputId": "82c83b95-1c73-43b4-f8cc-0e92b6ca6d99",
        "colab": {
          "base_uri": "https://localhost:8080/",
          "height": 363
        }
      },
      "source": [
        "twitter.info()"
      ],
      "execution_count": 0,
      "outputs": [
        {
          "output_type": "stream",
          "text": [
            "<class 'pandas.core.frame.DataFrame'>\n",
            "Int64Index: 2355 entries, 0 to 2796\n",
            "Data columns (total 14 columns):\n",
            "screen_name              2355 non-null object\n",
            "description              2355 non-null object\n",
            "followers_count          2355 non-null int64\n",
            "friends_count            2355 non-null int64\n",
            "listed_count             2355 non-null int64\n",
            "favourites_count         2355 non-null int64\n",
            "verified                 2355 non-null bool\n",
            "statuses_count           2355 non-null int64\n",
            "lang                     2355 non-null object\n",
            "default_profile          2355 non-null bool\n",
            "default_profile_image    2355 non-null bool\n",
            "has_extended_profile     2355 non-null object\n",
            "name                     2355 non-null object\n",
            "bot                      2355 non-null int64\n",
            "dtypes: bool(3), int64(6), object(5)\n",
            "memory usage: 227.7+ KB\n"
          ],
          "name": "stdout"
        }
      ]
    },
    {
      "cell_type": "markdown",
      "metadata": {
        "id": "_E-SvW3wjh4J",
        "colab_type": "text"
      },
      "source": [
        "Now we will use our embedding functions from a previous assignment."
      ]
    },
    {
      "cell_type": "code",
      "metadata": {
        "id": "TeZkChWxjh4K",
        "colab_type": "code",
        "colab": {}
      },
      "source": [
        "from nltk.corpus import stopwords\n",
        "import re\n",
        "from nltk.stem.porter import PorterStemmer\n",
        "\n",
        "stemmer = PorterStemmer()\n",
        "\n",
        "def remove_stopwords(input_text):\n",
        "        stopwords_list = stopwords.words('english')\n",
        "        # Some words which might indicate a certain sentiment are kept via a whitelist\n",
        "        whitelist = [\"n't\", \"not\", \"no\"]\n",
        "        words = input_text.split() \n",
        "        clean_words = [word for word in words if (word not in stopwords_list or word in whitelist) and len(word) > 1] \n",
        "        return \" \".join(clean_words)       \n",
        "\n",
        "def stem_list(word_list):\n",
        "    stemmed = []\n",
        "    for word in word_list:\n",
        "        stemmedword = stemmer.stem(word)\n",
        "        stemmed.append(stemmedword)\n",
        "    return stemmed\n",
        "\n",
        "def normalize(terms):\n",
        "    terms = terms.lower()\n",
        "    terms = remove_stopwords(terms)\n",
        "    word_delimiters = u'[\\\\[\\\\]\\n.!?,;:\\t\\\\-\\\\\"\\\\(\\\\)\\\\\\'\\u2019\\u2013 ]'\n",
        "    term_list = re.split(word_delimiters, terms)\n",
        "    trimmed = [x.rstrip() for x in term_list]\n",
        "    stemmed = stem_list(trimmed)\n",
        "    space = ' '\n",
        "    normed = space.join(stemmed)\n",
        "    normed = normed.replace('  ', ' ')\n",
        "    return normed"
      ],
      "execution_count": 0,
      "outputs": []
    },
    {
      "cell_type": "markdown",
      "metadata": {
        "id": "--dr_BGJjh4L",
        "colab_type": "text"
      },
      "source": [
        "We will create two branches, one branch will process the text data in the description and the other will process all other columns. First, create a numpy array with the encoded data from the description column. Normalize each description, one hot encode the text, pad the row and create a numpy array."
      ]
    },
    {
      "cell_type": "code",
      "metadata": {
        "id": "p5iCHarH7oii",
        "colab_type": "code",
        "outputId": "cd45247e-8f57-469f-f9ea-3ea32f704f85",
        "colab": {
          "base_uri": "https://localhost:8080/",
          "height": 72
        }
      },
      "source": [
        "import nltk\n",
        "nltk.download('stopwords')"
      ],
      "execution_count": 0,
      "outputs": [
        {
          "output_type": "stream",
          "text": [
            "[nltk_data] Downloading package stopwords to /root/nltk_data...\n",
            "[nltk_data]   Package stopwords is already up-to-date!\n"
          ],
          "name": "stdout"
        },
        {
          "output_type": "execute_result",
          "data": {
            "text/plain": [
              "True"
            ]
          },
          "metadata": {
            "tags": []
          },
          "execution_count": 13
        }
      ]
    },
    {
      "cell_type": "code",
      "metadata": {
        "id": "xklYJeUH7zLz",
        "colab_type": "code",
        "outputId": "7dad4d27-0d94-4e7d-b3f8-c896f1490f41",
        "colab": {
          "base_uri": "https://localhost:8080/",
          "height": 65
        }
      },
      "source": [
        "from tensorflow.keras.preprocessing.text import one_hot\n",
        "from tensorflow.keras.preprocessing.sequence import pad_sequences"
      ],
      "execution_count": 0,
      "outputs": [
        {
          "output_type": "display_data",
          "data": {
            "text/html": [
              "<p style=\"color: red;\">\n",
              "The default version of TensorFlow in Colab will soon switch to TensorFlow 2.x.<br>\n",
              "We recommend you <a href=\"https://www.tensorflow.org/guide/migrate\" target=\"_blank\">upgrade</a> now \n",
              "or ensure your notebook will continue to use TensorFlow 1.x via the <code>%tensorflow_version 1.x</code> magic:\n",
              "<a href=\"https://colab.research.google.com/notebooks/tensorflow_version.ipynb\" target=\"_blank\">more info</a>.</p>\n"
            ],
            "text/plain": [
              "<IPython.core.display.HTML object>"
            ]
          },
          "metadata": {
            "tags": []
          }
        }
      ]
    },
    {
      "cell_type": "code",
      "metadata": {
        "id": "K30IFrEI8XNm",
        "colab_type": "code",
        "colab": {}
      },
      "source": [
        "twitter['normalized'] = twitter.description.apply(normalize)"
      ],
      "execution_count": 0,
      "outputs": []
    },
    {
      "cell_type": "code",
      "metadata": {
        "id": "-V-7vfY1GNlO",
        "colab_type": "code",
        "outputId": "fb510ea8-0f60-47aa-f305-57d9e7a4e29f",
        "colab": {
          "base_uri": "https://localhost:8080/",
          "height": 35
        }
      },
      "source": [
        "vocab_size = len(set(twitter.normalized.str.split().sum()))\n",
        "vocab_size"
      ],
      "execution_count": 0,
      "outputs": [
        {
          "output_type": "execute_result",
          "data": {
            "text/plain": [
              "8020"
            ]
          },
          "metadata": {
            "tags": []
          },
          "execution_count": 17
        }
      ]
    },
    {
      "cell_type": "code",
      "metadata": {
        "id": "IJ6Aoq1D7u8-",
        "colab_type": "code",
        "colab": {}
      },
      "source": [
        "# vocab_size = np.sum(twitter.normalized.str.len())\n",
        "twitter['encoded'] = twitter.normalized.apply(one_hot, args=[vocab_size])"
      ],
      "execution_count": 0,
      "outputs": []
    },
    {
      "cell_type": "code",
      "metadata": {
        "id": "u8NrIo2t88hi",
        "colab_type": "code",
        "outputId": "d10d3dde-225a-498c-f423-2ccb9c488c25",
        "colab": {
          "base_uri": "https://localhost:8080/",
          "height": 145
        }
      },
      "source": [
        "independent_vars = pad_sequences(twitter.encoded.values)\n",
        "independent_vars"
      ],
      "execution_count": 0,
      "outputs": [
        {
          "output_type": "execute_result",
          "data": {
            "text/plain": [
              "array([[   0,    0,    0, ..., 4751, 6587, 3502],\n",
              "       [   0,    0,    0, ..., 5062, 6490, 7222],\n",
              "       [   0,    0,    0, ..., 5367, 1898,  870],\n",
              "       ...,\n",
              "       [   0,    0,    0, ...,    0,    0, 3403],\n",
              "       [   0,    0,    0, ..., 2668, 5934, 4467],\n",
              "       [   0,    0,    0, ..., 6020, 4684, 5225]], dtype=int32)"
            ]
          },
          "metadata": {
            "tags": []
          },
          "execution_count": 24
        }
      ]
    },
    {
      "cell_type": "markdown",
      "metadata": {
        "id": "IXQeqH9Ejh4N",
        "colab_type": "text"
      },
      "source": [
        "Convert all boolean variables to numeric (zero for false and 1 for true)"
      ]
    },
    {
      "cell_type": "code",
      "metadata": {
        "id": "CuOOd3xa9RW6",
        "colab_type": "code",
        "colab": {}
      },
      "source": [
        "twitter.info()"
      ],
      "execution_count": 0,
      "outputs": []
    },
    {
      "cell_type": "code",
      "metadata": {
        "id": "4OtQ7K3ojh4O",
        "colab_type": "code",
        "colab": {}
      },
      "source": [
        "# Answer below:\n",
        "twitter[['verified', 'default_profile', 'default_profile_image', 'has_extended_profile']] = twitter[['verified', 'default_profile', 'default_profile_image', 'has_extended_profile']].astype(int)\n"
      ],
      "execution_count": 0,
      "outputs": []
    },
    {
      "cell_type": "markdown",
      "metadata": {
        "id": "hm8vuH43jh4Q",
        "colab_type": "text"
      },
      "source": [
        "Create dummy variables out of the relevant object columns. Take caution when converting columns that may incorrectly classified as object."
      ]
    },
    {
      "cell_type": "code",
      "metadata": {
        "id": "hCFzcD_x9rKx",
        "colab_type": "code",
        "colab": {}
      },
      "source": [
        "dummy = pd.get_dummies(twitter['lang'], drop_first=True)\n",
        "twitter = pd.concat([twitter, dummy], axis=1)\n",
        "twitter.drop(columns=['lang'], inplace=True)"
      ],
      "execution_count": 0,
      "outputs": []
    },
    {
      "cell_type": "code",
      "metadata": {
        "id": "jcb0fb4_jh4Q",
        "colab_type": "code",
        "colab": {}
      },
      "source": [
        "# Answer below:\n",
        "twitter.head()\n"
      ],
      "execution_count": 0,
      "outputs": []
    },
    {
      "cell_type": "code",
      "metadata": {
        "id": "xoEwMKvjABGJ",
        "colab_type": "code",
        "colab": {}
      },
      "source": [
        "twitter.drop(columns=['normalized', 'encoded'], inplace=True)"
      ],
      "execution_count": 0,
      "outputs": []
    },
    {
      "cell_type": "code",
      "metadata": {
        "id": "lu7dMPriAhT5",
        "colab_type": "code",
        "colab": {}
      },
      "source": [
        "twitter.drop(columns=['screen_name', 'name'], inplace=True)"
      ],
      "execution_count": 0,
      "outputs": []
    },
    {
      "cell_type": "code",
      "metadata": {
        "id": "9FnLXM7qAqWT",
        "colab_type": "code",
        "colab": {}
      },
      "source": [
        "twitter.drop(columns=['description'], inplace=True)"
      ],
      "execution_count": 0,
      "outputs": []
    },
    {
      "cell_type": "code",
      "metadata": {
        "id": "ibkNs_Z6JgcP",
        "colab_type": "code",
        "outputId": "fa082d75-4d6e-466d-915f-a09ff4db0ae2",
        "colab": {
          "base_uri": "https://localhost:8080/",
          "height": 781
        }
      },
      "source": [
        "twitter.info()"
      ],
      "execution_count": 0,
      "outputs": [
        {
          "output_type": "stream",
          "text": [
            "<class 'pandas.core.frame.DataFrame'>\n",
            "Int64Index: 2355 entries, 0 to 2796\n",
            "Data columns (total 37 columns):\n",
            "followers_count          2355 non-null int64\n",
            "friends_count            2355 non-null int64\n",
            "listed_count             2355 non-null int64\n",
            "favourites_count         2355 non-null int64\n",
            "verified                 2355 non-null int64\n",
            "statuses_count           2355 non-null int64\n",
            "default_profile          2355 non-null int64\n",
            "default_profile_image    2355 non-null int64\n",
            "has_extended_profile     2355 non-null int64\n",
            "bot                      2355 non-null int64\n",
            "\"en\"                     2355 non-null uint8\n",
            "\"en-gb\"                  2355 non-null uint8\n",
            "\"es\"                     2355 non-null uint8\n",
            "\"fr\"                     2355 non-null uint8\n",
            "\"it\"                     2355 non-null uint8\n",
            "\"ja\"                     2355 non-null uint8\n",
            "\"ko\"                     2355 non-null uint8\n",
            "\"pt\"                     2355 non-null uint8\n",
            "\"zh-CN\"                  2355 non-null uint8\n",
            "\"zh-cn\"                  2355 non-null uint8\n",
            "ar                       2355 non-null uint8\n",
            "de                       2355 non-null uint8\n",
            "en                       2355 non-null uint8\n",
            "en-gb                    2355 non-null uint8\n",
            "es                       2355 non-null uint8\n",
            "fr                       2355 non-null uint8\n",
            "gl                       2355 non-null uint8\n",
            "it                       2355 non-null uint8\n",
            "ja                       2355 non-null uint8\n",
            "nl                       2355 non-null uint8\n",
            "pt                       2355 non-null uint8\n",
            "ru                       2355 non-null uint8\n",
            "ta                       2355 non-null uint8\n",
            "th                       2355 non-null uint8\n",
            "tr                       2355 non-null uint8\n",
            "zh-CN                    2355 non-null uint8\n",
            "zh-cn                    2355 non-null uint8\n",
            "dtypes: int64(10), uint8(27)\n",
            "memory usage: 264.5 KB\n"
          ],
          "name": "stdout"
        }
      ]
    },
    {
      "cell_type": "markdown",
      "metadata": {
        "id": "OM1NT0I6jh4S",
        "colab_type": "text"
      },
      "source": [
        "Min max scale the data decribing each user (do not min max scale the word embeddings)."
      ]
    },
    {
      "cell_type": "code",
      "metadata": {
        "id": "HRYXLv-I_w2C",
        "colab_type": "code",
        "colab": {}
      },
      "source": [
        "from sklearn.preprocessing import MinMaxScaler"
      ],
      "execution_count": 0,
      "outputs": []
    },
    {
      "cell_type": "code",
      "metadata": {
        "id": "FWjM6c2fjh4T",
        "colab_type": "code",
        "outputId": "c35ddf99-1b66-43d2-ff7f-a16c59b4ded2",
        "colab": {
          "base_uri": "https://localhost:8080/",
          "height": 254
        }
      },
      "source": [
        "# Answer below:\n",
        "X = twitter.drop(columns=['bot'], axis=1)\n",
        "y = np.asarray(twitter['bot'])\n",
        "scaler = MinMaxScaler()\n",
        "X_scaled = scaler.fit_transform(X)\n",
        "X_scaled"
      ],
      "execution_count": 0,
      "outputs": [
        {
          "output_type": "execute_result",
          "data": {
            "text/plain": [
              "array([[1.34030216e-05, 0.00000000e+00, 1.61204260e-05, ...,\n",
              "        0.00000000e+00, 0.00000000e+00, 0.00000000e+00],\n",
              "       [1.03818912e-08, 3.53975838e-04, 0.00000000e+00, ...,\n",
              "        0.00000000e+00, 0.00000000e+00, 0.00000000e+00],\n",
              "       [1.12747339e-05, 0.00000000e+00, 2.25685964e-05, ...,\n",
              "        0.00000000e+00, 0.00000000e+00, 0.00000000e+00],\n",
              "       ...,\n",
              "       [4.67646404e-01, 7.55723201e-03, 1.09871988e-01, ...,\n",
              "        0.00000000e+00, 0.00000000e+00, 0.00000000e+00],\n",
              "       [1.66110260e-07, 6.49124747e-05, 1.61204260e-06, ...,\n",
              "        0.00000000e+00, 0.00000000e+00, 0.00000000e+00],\n",
              "       [2.33488734e-04, 3.12391284e-04, 2.16336117e-03, ...,\n",
              "        0.00000000e+00, 0.00000000e+00, 0.00000000e+00]])"
            ]
          },
          "metadata": {
            "tags": []
          },
          "execution_count": 65
        }
      ]
    },
    {
      "cell_type": "markdown",
      "metadata": {
        "id": "KqnpUBKqjh4V",
        "colab_type": "text"
      },
      "source": [
        "Now we'll create the two branches. Create a model for the numeric data that consists of 3 dense layers. An input layer and two hidden layers of size 32."
      ]
    },
    {
      "cell_type": "code",
      "metadata": {
        "id": "uH9QhcM8Awl-",
        "colab_type": "code",
        "colab": {}
      },
      "source": [
        "from tensorflow.keras.models import Model\n",
        "from tensorflow.keras.layers import Input, Embedding, Dense, LSTM"
      ],
      "execution_count": 0,
      "outputs": []
    },
    {
      "cell_type": "code",
      "metadata": {
        "id": "-4CFFkt3Iptd",
        "colab_type": "code",
        "outputId": "5350253e-cf3a-4a12-a923-a4676bcc6c38",
        "colab": {
          "base_uri": "https://localhost:8080/",
          "height": 35
        }
      },
      "source": [
        "X_scaled.shape, independent_vars.shape"
      ],
      "execution_count": 0,
      "outputs": [
        {
          "output_type": "execute_result",
          "data": {
            "text/plain": [
              "((2355, 36), (2355, 66))"
            ]
          },
          "metadata": {
            "tags": []
          },
          "execution_count": 47
        }
      ]
    },
    {
      "cell_type": "code",
      "metadata": {
        "id": "1ODJ1dfiJVxV",
        "colab_type": "code",
        "outputId": "63aeb7a1-b7cd-43eb-89c7-b3130c6ddaac",
        "colab": {
          "base_uri": "https://localhost:8080/",
          "height": 35
        }
      },
      "source": [
        "independent_vars.shape"
      ],
      "execution_count": 0,
      "outputs": [
        {
          "output_type": "execute_result",
          "data": {
            "text/plain": [
              "(2355, 66)"
            ]
          },
          "metadata": {
            "tags": []
          },
          "execution_count": 52
        }
      ]
    },
    {
      "cell_type": "code",
      "metadata": {
        "id": "13xLgWWmJYhD",
        "colab_type": "code",
        "outputId": "21d33a4f-b1ac-4c0e-cbd9-91bc0eb81970",
        "colab": {
          "base_uri": "https://localhost:8080/",
          "height": 35
        }
      },
      "source": [
        "X_scaled.shape"
      ],
      "execution_count": 0,
      "outputs": [
        {
          "output_type": "execute_result",
          "data": {
            "text/plain": [
              "(2355, 36)"
            ]
          },
          "metadata": {
            "tags": []
          },
          "execution_count": 53
        }
      ]
    },
    {
      "cell_type": "code",
      "metadata": {
        "id": "qazo_4w8jh4V",
        "colab_type": "code",
        "colab": {}
      },
      "source": [
        "# Answer below:\n",
        "input_layer1 = Input(shape=(X_scaled.shape[1],))\n",
        "densel1 = Dense(32, activation='relu')(input_layer1)\n",
        "densel2 = Dense(32, activation='relu')(densel1)\n"
      ],
      "execution_count": 0,
      "outputs": []
    },
    {
      "cell_type": "markdown",
      "metadata": {
        "id": "yRP-ou9Ejh4X",
        "colab_type": "text"
      },
      "source": [
        "Create the second branch of the model using the encoded words. This branch will consist of 4 layers: An input layer, an embedding layer returning data of dimension 100, an LSTM layer of unit size 32 and a dense layer of unit size 32. "
      ]
    },
    {
      "cell_type": "code",
      "metadata": {
        "id": "I1bLnn2Sjh4Y",
        "colab_type": "code",
        "colab": {}
      },
      "source": [
        "# Answer below:\n",
        "input_layer2 = Input(shape=(independent_vars.shape[1],))\n",
        "embed = Embedding(vocab_size, 100, input_length=independent_vars.shape[1])(input_layer2)\n",
        "lstm = LSTM(32)(embed)\n",
        "densel21 = Dense(32, activation='relu')(lstm)\n"
      ],
      "execution_count": 0,
      "outputs": []
    },
    {
      "cell_type": "markdown",
      "metadata": {
        "id": "Pbx549Vljh4Z",
        "colab_type": "text"
      },
      "source": [
        "Merge the two models using the `concatenate` function (merge the two final dense layers in each branch) and create an output dense layer."
      ]
    },
    {
      "cell_type": "code",
      "metadata": {
        "id": "gyWEh_d_H6kA",
        "colab_type": "code",
        "colab": {}
      },
      "source": [
        "from tensorflow.keras.layers import concatenate"
      ],
      "execution_count": 0,
      "outputs": []
    },
    {
      "cell_type": "code",
      "metadata": {
        "id": "d46buOEXHntA",
        "colab_type": "code",
        "colab": {}
      },
      "source": [
        "merge = concatenate([densel2, densel21])\n",
        "output = Dense(1, activation='sigmoid')(merge)"
      ],
      "execution_count": 0,
      "outputs": []
    },
    {
      "cell_type": "code",
      "metadata": {
        "id": "W6lo1K8DN933",
        "colab_type": "code",
        "outputId": "da5a75aa-e5ac-4240-8269-c901a4dc59ca",
        "colab": {
          "base_uri": "https://localhost:8080/",
          "height": 35
        }
      },
      "source": [
        "type(output)"
      ],
      "execution_count": 0,
      "outputs": [
        {
          "output_type": "execute_result",
          "data": {
            "text/plain": [
              "tensorflow.python.framework.ops.Tensor"
            ]
          },
          "metadata": {
            "tags": []
          },
          "execution_count": 85
        }
      ]
    },
    {
      "cell_type": "markdown",
      "metadata": {
        "id": "lz0-pz-Cjh4b",
        "colab_type": "text"
      },
      "source": [
        "Create a model using the two inputs and the single output and print the summary"
      ]
    },
    {
      "cell_type": "code",
      "metadata": {
        "id": "6ZJtI6wAjh4c",
        "colab_type": "code",
        "outputId": "0dedaf3a-2ef3-4f78-926b-320c9c389daa",
        "colab": {
          "base_uri": "https://localhost:8080/",
          "height": 508
        }
      },
      "source": [
        "# Answer below: \n",
        "model = Model(inputs=[input_layer1, input_layer2], outputs=output)\n",
        "model.summary()"
      ],
      "execution_count": 0,
      "outputs": [
        {
          "output_type": "stream",
          "text": [
            "Model: \"model\"\n",
            "__________________________________________________________________________________________________\n",
            "Layer (type)                    Output Shape         Param #     Connected to                     \n",
            "==================================================================================================\n",
            "input_12 (InputLayer)           [(None, 66)]         0                                            \n",
            "__________________________________________________________________________________________________\n",
            "input_11 (InputLayer)           [(None, 36)]         0                                            \n",
            "__________________________________________________________________________________________________\n",
            "embedding_5 (Embedding)         (None, 66, 100)      802000      input_12[0][0]                   \n",
            "__________________________________________________________________________________________________\n",
            "dense_12 (Dense)                (None, 32)           1184        input_11[0][0]                   \n",
            "__________________________________________________________________________________________________\n",
            "lstm_5 (LSTM)                   (None, 32)           17024       embedding_5[0][0]                \n",
            "__________________________________________________________________________________________________\n",
            "dense_13 (Dense)                (None, 32)           1056        dense_12[0][0]                   \n",
            "__________________________________________________________________________________________________\n",
            "dense_14 (Dense)                (None, 32)           1056        lstm_5[0][0]                     \n",
            "__________________________________________________________________________________________________\n",
            "concatenate_6 (Concatenate)     (None, 64)           0           dense_13[0][0]                   \n",
            "                                                                 dense_14[0][0]                   \n",
            "__________________________________________________________________________________________________\n",
            "dense_15 (Dense)                (None, 1)            65          concatenate_6[0][0]              \n",
            "==================================================================================================\n",
            "Total params: 822,385\n",
            "Trainable params: 822,385\n",
            "Non-trainable params: 0\n",
            "__________________________________________________________________________________________________\n"
          ],
          "name": "stdout"
        }
      ]
    },
    {
      "cell_type": "markdown",
      "metadata": {
        "id": "pHk3RhaSjh4e",
        "colab_type": "text"
      },
      "source": [
        "Compile and fit the model using the appropriate optimizer, loss, and metrics. Train the model for 10 epochs with a batch size of 128."
      ]
    },
    {
      "cell_type": "code",
      "metadata": {
        "id": "4ceKDMXNjh4e",
        "colab_type": "code",
        "outputId": "06cf0f9f-6ed5-4813-f538-ff529470ffa8",
        "colab": {
          "base_uri": "https://localhost:8080/",
          "height": 417
        }
      },
      "source": [
        "# Answer below:\n",
        " model.compile(optimizer='adam', loss='binary_crossentropy', metrics=['accuracy'])   \n",
        " model.fit([X_scaled, independent_vars], y2, batch_size=128, epochs=10)   "
      ],
      "execution_count": 0,
      "outputs": [
        {
          "output_type": "stream",
          "text": [
            "Train on 2355 samples\n",
            "Epoch 1/10\n",
            "2355/2355 [==============================] - 3s 1ms/sample - loss: 0.6730 - acc: 0.6654\n",
            "Epoch 2/10\n",
            "2355/2355 [==============================] - 2s 878us/sample - loss: 0.5986 - acc: 0.8038\n",
            "Epoch 3/10\n",
            "2355/2355 [==============================] - 2s 873us/sample - loss: 0.4063 - acc: 0.8854\n",
            "Epoch 4/10\n",
            "2355/2355 [==============================] - 2s 860us/sample - loss: 0.2154 - acc: 0.9367\n",
            "Epoch 5/10\n",
            "2355/2355 [==============================] - 2s 866us/sample - loss: 0.1230 - acc: 0.9682\n",
            "Epoch 6/10\n",
            "2355/2355 [==============================] - 2s 852us/sample - loss: 0.0755 - acc: 0.9817\n",
            "Epoch 7/10\n",
            "2355/2355 [==============================] - 2s 865us/sample - loss: 0.0545 - acc: 0.9864\n",
            "Epoch 8/10\n",
            "2355/2355 [==============================] - 2s 869us/sample - loss: 0.0433 - acc: 0.9902\n",
            "Epoch 9/10\n",
            "2355/2355 [==============================] - 2s 860us/sample - loss: 0.0339 - acc: 0.9919\n",
            "Epoch 10/10\n",
            "2355/2355 [==============================] - 2s 849us/sample - loss: 0.0279 - acc: 0.9941\n"
          ],
          "name": "stdout"
        },
        {
          "output_type": "execute_result",
          "data": {
            "text/plain": [
              "<tensorflow.python.keras.callbacks.History at 0x7f5b35da4fd0>"
            ]
          },
          "metadata": {
            "tags": []
          },
          "execution_count": 88
        }
      ]
    },
    {
      "cell_type": "code",
      "metadata": {
        "id": "NhlBHQVnjh4h",
        "colab_type": "code",
        "colab": {}
      },
      "source": [
        "y2 = y.reshape(y.shape[0], 1)"
      ],
      "execution_count": 0,
      "outputs": []
    },
    {
      "cell_type": "code",
      "metadata": {
        "id": "9Lx3mAopM9N5",
        "colab_type": "code",
        "outputId": "2c82ef38-9bd9-4a2b-b404-a81ed94c7e03",
        "colab": {
          "base_uri": "https://localhost:8080/",
          "height": 145
        }
      },
      "source": [
        "y2"
      ],
      "execution_count": 0,
      "outputs": [
        {
          "output_type": "execute_result",
          "data": {
            "text/plain": [
              "array([[1],\n",
              "       [1],\n",
              "       [1],\n",
              "       ...,\n",
              "       [0],\n",
              "       [0],\n",
              "       [0]])"
            ]
          },
          "metadata": {
            "tags": []
          },
          "execution_count": 78
        }
      ]
    },
    {
      "cell_type": "code",
      "metadata": {
        "id": "Y5gfFf-HMIpD",
        "colab_type": "code",
        "outputId": "eba160bb-3e12-4d0b-afc5-f7e4c746c338",
        "colab": {
          "base_uri": "https://localhost:8080/",
          "height": 35
        }
      },
      "source": [
        "X_scaled.shape, y2.shape"
      ],
      "execution_count": 0,
      "outputs": [
        {
          "output_type": "execute_result",
          "data": {
            "text/plain": [
              "((2355, 36), (2355, 1))"
            ]
          },
          "metadata": {
            "tags": []
          },
          "execution_count": 77
        }
      ]
    }
  ]
}