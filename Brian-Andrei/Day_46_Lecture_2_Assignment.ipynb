{
  "nbformat": 4,
  "nbformat_minor": 0,
  "metadata": {
    "colab": {
      "name": "Day 46 Lecture 2 Assignment.ipynb",
      "provenance": [],
      "collapsed_sections": []
    },
    "kernelspec": {
      "display_name": "Python 3",
      "language": "python",
      "name": "python3"
    },
    "language_info": {
      "codemirror_mode": {
        "name": "ipython",
        "version": 3
      },
      "file_extension": ".py",
      "mimetype": "text/x-python",
      "name": "python",
      "nbconvert_exporter": "python",
      "pygments_lexer": "ipython3",
      "version": "3.7.0"
    }
  },
  "cells": [
    {
      "cell_type": "markdown",
      "metadata": {
        "colab_type": "text",
        "id": "xdL0Yz0D1D_q"
      },
      "source": [
        "## Day 46 Lecture 2 Assignment\n",
        "\n",
        "In this assignment, we will calculate a similarity matrix using responses to a survey about student life at a university. We will perform clustering on this dataset later on."
      ]
    },
    {
      "cell_type": "code",
      "metadata": {
        "colab_type": "code",
        "id": "OulyiH_C1D_r",
        "colab": {}
      },
      "source": [
        "%matplotlib inline\n",
        "\n",
        "import matplotlib.pyplot as plt\n",
        "import numpy as np\n",
        "import pandas as pd\n",
        "from scipy.spatial.distance import pdist, squareform"
      ],
      "execution_count": 0,
      "outputs": []
    },
    {
      "cell_type": "markdown",
      "metadata": {
        "colab_type": "text",
        "id": "ezMvoRlB1D_t"
      },
      "source": [
        "This dataset consists of 35 binary features, each corresponding to a yes/no question that characterizes the student taking the survey.\n",
        "\n",
        "This dataset contains a large number of features, each corresponding to a survey question. The feature name summarizes the survey question, so we will not list them all out here.\n",
        "\n",
        "Load the dataset."
      ]
    },
    {
      "cell_type": "code",
      "metadata": {
        "colab_type": "code",
        "id": "wP1U4eQ91D_u",
        "outputId": "53e2208b-2efe-4ac7-b4b9-5147bd385094",
        "colab": {
          "base_uri": "https://localhost:8080/",
          "height": 367
        }
      },
      "source": [
        "# answer goes here\n",
        "df = pd.read_csv('https://tf-assets-prod.s3.amazonaws.com/tf-curric/data-science/Data%20Sets%20Clustering/student_life_survey.csv')\n",
        "\n",
        "\n",
        "df.head()\n"
      ],
      "execution_count": 0,
      "outputs": [
        {
          "output_type": "execute_result",
          "data": {
            "text/html": [
              "<div>\n",
              "<style scoped>\n",
              "    .dataframe tbody tr th:only-of-type {\n",
              "        vertical-align: middle;\n",
              "    }\n",
              "\n",
              "    .dataframe tbody tr th {\n",
              "        vertical-align: top;\n",
              "    }\n",
              "\n",
              "    .dataframe thead th {\n",
              "        text-align: right;\n",
              "    }\n",
              "</style>\n",
              "<table border=\"1\" class=\"dataframe\">\n",
              "  <thead>\n",
              "    <tr style=\"text-align: right;\">\n",
              "      <th></th>\n",
              "      <th>Q2-Participated in Societies and Interest Groups</th>\n",
              "      <th>Q2-Participated in Clubs</th>\n",
              "      <th>Q2-Participated in Halls, JCRCs and/or Residential College CSCs</th>\n",
              "      <th>Q2-Participated in University organised events</th>\n",
              "      <th>Q3-Interested in Arts &amp; Culture</th>\n",
              "      <th>Q3-Interested in Science &amp; Technology</th>\n",
              "      <th>Q3-Interested in Research and independent study</th>\n",
              "      <th>Q3-Interested in Sports</th>\n",
              "      <th>Q3-Interested in Other competitions (eg case, debates)</th>\n",
              "      <th>Q3-Interested in Entrepreneurship</th>\n",
              "      <th>Q3-Interested in Volunteering</th>\n",
              "      <th>Q3-Interested in Others</th>\n",
              "      <th>Q4-Passionate about Animal welfare</th>\n",
              "      <th>Q4-Passionate about Arts/Culture/Heritage</th>\n",
              "      <th>Q4-Passionate about Children/Youth</th>\n",
              "      <th>Q4-Passionate about Community building</th>\n",
              "      <th>Q4-Passionate about Diversity &amp; Inclusion (e.g. special needs, migrant worker, interfaith and intercultural understanding)</th>\n",
              "      <th>Q4-Passionate about Environmental sustainability</th>\n",
              "      <th>Q4-Passionate about Families</th>\n",
              "      <th>Q4-Passionate about Health/Well-being (e.g mental health)</th>\n",
              "      <th>Q4-Passionate about Seniors</th>\n",
              "      <th>Q4-Passionate about Poverty reduction</th>\n",
              "      <th>Q4-Passionate about Education</th>\n",
              "      <th>Q4-Passionate about None of the above</th>\n",
              "      <th>Q4-Passionate about Others</th>\n",
              "      <th>Q5-Stressed about Adjustment issues</th>\n",
              "      <th>Q5-Stressed about Academic issues</th>\n",
              "      <th>Q5-Stressed about Financial issues</th>\n",
              "      <th>Q5-Stressed about Family issues</th>\n",
              "      <th>Q5-Stressed about Friendships</th>\n",
              "      <th>Q5-Stressed about Romantic relationships</th>\n",
              "      <th>Q5-Stressed about  Health related issues</th>\n",
              "      <th>Q5-Stressed about Career related issues</th>\n",
              "      <th>Q5-Stressed about My involvement in hostel, clubs, societies, interest groups, etc.</th>\n",
              "      <th>Q5-Stressed about Others</th>\n",
              "      <th>response_id</th>\n",
              "    </tr>\n",
              "  </thead>\n",
              "  <tbody>\n",
              "    <tr>\n",
              "      <th>0</th>\n",
              "      <td>0</td>\n",
              "      <td>1</td>\n",
              "      <td>0</td>\n",
              "      <td>0</td>\n",
              "      <td>0</td>\n",
              "      <td>1</td>\n",
              "      <td>1</td>\n",
              "      <td>0</td>\n",
              "      <td>1</td>\n",
              "      <td>0</td>\n",
              "      <td>0</td>\n",
              "      <td>0</td>\n",
              "      <td>0</td>\n",
              "      <td>0</td>\n",
              "      <td>0</td>\n",
              "      <td>0</td>\n",
              "      <td>0</td>\n",
              "      <td>1</td>\n",
              "      <td>0</td>\n",
              "      <td>0</td>\n",
              "      <td>0</td>\n",
              "      <td>0</td>\n",
              "      <td>0</td>\n",
              "      <td>0</td>\n",
              "      <td>0</td>\n",
              "      <td>0</td>\n",
              "      <td>1</td>\n",
              "      <td>0</td>\n",
              "      <td>0</td>\n",
              "      <td>0</td>\n",
              "      <td>0</td>\n",
              "      <td>0</td>\n",
              "      <td>0</td>\n",
              "      <td>0</td>\n",
              "      <td>0</td>\n",
              "      <td>1</td>\n",
              "    </tr>\n",
              "    <tr>\n",
              "      <th>1</th>\n",
              "      <td>0</td>\n",
              "      <td>1</td>\n",
              "      <td>0</td>\n",
              "      <td>0</td>\n",
              "      <td>1</td>\n",
              "      <td>0</td>\n",
              "      <td>0</td>\n",
              "      <td>1</td>\n",
              "      <td>0</td>\n",
              "      <td>0</td>\n",
              "      <td>0</td>\n",
              "      <td>0</td>\n",
              "      <td>0</td>\n",
              "      <td>0</td>\n",
              "      <td>1</td>\n",
              "      <td>0</td>\n",
              "      <td>1</td>\n",
              "      <td>0</td>\n",
              "      <td>0</td>\n",
              "      <td>0</td>\n",
              "      <td>0</td>\n",
              "      <td>1</td>\n",
              "      <td>0</td>\n",
              "      <td>0</td>\n",
              "      <td>0</td>\n",
              "      <td>0</td>\n",
              "      <td>1</td>\n",
              "      <td>0</td>\n",
              "      <td>0</td>\n",
              "      <td>0</td>\n",
              "      <td>0</td>\n",
              "      <td>0</td>\n",
              "      <td>0</td>\n",
              "      <td>0</td>\n",
              "      <td>0</td>\n",
              "      <td>2</td>\n",
              "    </tr>\n",
              "    <tr>\n",
              "      <th>2</th>\n",
              "      <td>0</td>\n",
              "      <td>0</td>\n",
              "      <td>1</td>\n",
              "      <td>0</td>\n",
              "      <td>0</td>\n",
              "      <td>0</td>\n",
              "      <td>0</td>\n",
              "      <td>1</td>\n",
              "      <td>0</td>\n",
              "      <td>0</td>\n",
              "      <td>0</td>\n",
              "      <td>0</td>\n",
              "      <td>0</td>\n",
              "      <td>1</td>\n",
              "      <td>0</td>\n",
              "      <td>0</td>\n",
              "      <td>1</td>\n",
              "      <td>0</td>\n",
              "      <td>1</td>\n",
              "      <td>1</td>\n",
              "      <td>0</td>\n",
              "      <td>0</td>\n",
              "      <td>1</td>\n",
              "      <td>0</td>\n",
              "      <td>0</td>\n",
              "      <td>0</td>\n",
              "      <td>1</td>\n",
              "      <td>0</td>\n",
              "      <td>0</td>\n",
              "      <td>0</td>\n",
              "      <td>0</td>\n",
              "      <td>0</td>\n",
              "      <td>1</td>\n",
              "      <td>0</td>\n",
              "      <td>0</td>\n",
              "      <td>3</td>\n",
              "    </tr>\n",
              "    <tr>\n",
              "      <th>3</th>\n",
              "      <td>1</td>\n",
              "      <td>1</td>\n",
              "      <td>1</td>\n",
              "      <td>1</td>\n",
              "      <td>0</td>\n",
              "      <td>1</td>\n",
              "      <td>1</td>\n",
              "      <td>0</td>\n",
              "      <td>0</td>\n",
              "      <td>0</td>\n",
              "      <td>1</td>\n",
              "      <td>0</td>\n",
              "      <td>0</td>\n",
              "      <td>0</td>\n",
              "      <td>0</td>\n",
              "      <td>1</td>\n",
              "      <td>0</td>\n",
              "      <td>0</td>\n",
              "      <td>0</td>\n",
              "      <td>1</td>\n",
              "      <td>0</td>\n",
              "      <td>0</td>\n",
              "      <td>1</td>\n",
              "      <td>0</td>\n",
              "      <td>0</td>\n",
              "      <td>1</td>\n",
              "      <td>1</td>\n",
              "      <td>0</td>\n",
              "      <td>1</td>\n",
              "      <td>1</td>\n",
              "      <td>1</td>\n",
              "      <td>1</td>\n",
              "      <td>0</td>\n",
              "      <td>1</td>\n",
              "      <td>0</td>\n",
              "      <td>4</td>\n",
              "    </tr>\n",
              "    <tr>\n",
              "      <th>4</th>\n",
              "      <td>1</td>\n",
              "      <td>0</td>\n",
              "      <td>1</td>\n",
              "      <td>1</td>\n",
              "      <td>0</td>\n",
              "      <td>1</td>\n",
              "      <td>1</td>\n",
              "      <td>0</td>\n",
              "      <td>0</td>\n",
              "      <td>1</td>\n",
              "      <td>1</td>\n",
              "      <td>0</td>\n",
              "      <td>0</td>\n",
              "      <td>0</td>\n",
              "      <td>1</td>\n",
              "      <td>1</td>\n",
              "      <td>0</td>\n",
              "      <td>1</td>\n",
              "      <td>0</td>\n",
              "      <td>1</td>\n",
              "      <td>0</td>\n",
              "      <td>0</td>\n",
              "      <td>1</td>\n",
              "      <td>0</td>\n",
              "      <td>0</td>\n",
              "      <td>0</td>\n",
              "      <td>1</td>\n",
              "      <td>1</td>\n",
              "      <td>0</td>\n",
              "      <td>1</td>\n",
              "      <td>0</td>\n",
              "      <td>0</td>\n",
              "      <td>0</td>\n",
              "      <td>1</td>\n",
              "      <td>0</td>\n",
              "      <td>5</td>\n",
              "    </tr>\n",
              "  </tbody>\n",
              "</table>\n",
              "</div>"
            ],
            "text/plain": [
              "   Q2-Participated in Societies and Interest Groups  ...  response_id\n",
              "0                                                 0  ...            1\n",
              "1                                                 0  ...            2\n",
              "2                                                 0  ...            3\n",
              "3                                                 1  ...            4\n",
              "4                                                 1  ...            5\n",
              "\n",
              "[5 rows x 36 columns]"
            ]
          },
          "metadata": {
            "tags": []
          },
          "execution_count": 3
        }
      ]
    },
    {
      "cell_type": "markdown",
      "metadata": {
        "colab_type": "text",
        "id": "o_K1eQ0x1D_y"
      },
      "source": [
        "For our analysis, we will focus on a specific subset of the survey that is focused on stress. These questions all begin with the string 'Q5'. Filter the columns that meet this criteria (should be 10 in total)."
      ]
    },
    {
      "cell_type": "code",
      "metadata": {
        "id": "8LejW7VS6KAW",
        "colab_type": "code",
        "outputId": "6c75e168-688f-40a9-c421-ce02d73cbbfa",
        "colab": {
          "base_uri": "https://localhost:8080/",
          "height": 246
        }
      },
      "source": [
        "# answer goes here\n",
        "columns=list(df.columns)\n",
        "columns_q5 = [col for col in columns if col.startswith('Q5') ]\n",
        "df_q5 = df[columns_q5]\n",
        "df_q5.head()\n"
      ],
      "execution_count": 0,
      "outputs": [
        {
          "output_type": "execute_result",
          "data": {
            "text/html": [
              "<div>\n",
              "<style scoped>\n",
              "    .dataframe tbody tr th:only-of-type {\n",
              "        vertical-align: middle;\n",
              "    }\n",
              "\n",
              "    .dataframe tbody tr th {\n",
              "        vertical-align: top;\n",
              "    }\n",
              "\n",
              "    .dataframe thead th {\n",
              "        text-align: right;\n",
              "    }\n",
              "</style>\n",
              "<table border=\"1\" class=\"dataframe\">\n",
              "  <thead>\n",
              "    <tr style=\"text-align: right;\">\n",
              "      <th></th>\n",
              "      <th>Q5-Stressed about Adjustment issues</th>\n",
              "      <th>Q5-Stressed about Academic issues</th>\n",
              "      <th>Q5-Stressed about Financial issues</th>\n",
              "      <th>Q5-Stressed about Family issues</th>\n",
              "      <th>Q5-Stressed about Friendships</th>\n",
              "      <th>Q5-Stressed about Romantic relationships</th>\n",
              "      <th>Q5-Stressed about  Health related issues</th>\n",
              "      <th>Q5-Stressed about Career related issues</th>\n",
              "      <th>Q5-Stressed about My involvement in hostel, clubs, societies, interest groups, etc.</th>\n",
              "      <th>Q5-Stressed about Others</th>\n",
              "    </tr>\n",
              "  </thead>\n",
              "  <tbody>\n",
              "    <tr>\n",
              "      <th>0</th>\n",
              "      <td>0</td>\n",
              "      <td>1</td>\n",
              "      <td>0</td>\n",
              "      <td>0</td>\n",
              "      <td>0</td>\n",
              "      <td>0</td>\n",
              "      <td>0</td>\n",
              "      <td>0</td>\n",
              "      <td>0</td>\n",
              "      <td>0</td>\n",
              "    </tr>\n",
              "    <tr>\n",
              "      <th>1</th>\n",
              "      <td>0</td>\n",
              "      <td>1</td>\n",
              "      <td>0</td>\n",
              "      <td>0</td>\n",
              "      <td>0</td>\n",
              "      <td>0</td>\n",
              "      <td>0</td>\n",
              "      <td>0</td>\n",
              "      <td>0</td>\n",
              "      <td>0</td>\n",
              "    </tr>\n",
              "    <tr>\n",
              "      <th>2</th>\n",
              "      <td>0</td>\n",
              "      <td>1</td>\n",
              "      <td>0</td>\n",
              "      <td>0</td>\n",
              "      <td>0</td>\n",
              "      <td>0</td>\n",
              "      <td>0</td>\n",
              "      <td>1</td>\n",
              "      <td>0</td>\n",
              "      <td>0</td>\n",
              "    </tr>\n",
              "    <tr>\n",
              "      <th>3</th>\n",
              "      <td>1</td>\n",
              "      <td>1</td>\n",
              "      <td>0</td>\n",
              "      <td>1</td>\n",
              "      <td>1</td>\n",
              "      <td>1</td>\n",
              "      <td>1</td>\n",
              "      <td>0</td>\n",
              "      <td>1</td>\n",
              "      <td>0</td>\n",
              "    </tr>\n",
              "    <tr>\n",
              "      <th>4</th>\n",
              "      <td>0</td>\n",
              "      <td>1</td>\n",
              "      <td>1</td>\n",
              "      <td>0</td>\n",
              "      <td>1</td>\n",
              "      <td>0</td>\n",
              "      <td>0</td>\n",
              "      <td>0</td>\n",
              "      <td>1</td>\n",
              "      <td>0</td>\n",
              "    </tr>\n",
              "  </tbody>\n",
              "</table>\n",
              "</div>"
            ],
            "text/plain": [
              "   Q5-Stressed about Adjustment issues  ...  Q5-Stressed about Others\n",
              "0                                    0  ...                         0\n",
              "1                                    0  ...                         0\n",
              "2                                    0  ...                         0\n",
              "3                                    1  ...                         0\n",
              "4                                    0  ...                         0\n",
              "\n",
              "[5 rows x 10 columns]"
            ]
          },
          "metadata": {
            "tags": []
          },
          "execution_count": 8
        }
      ]
    },
    {
      "cell_type": "markdown",
      "metadata": {
        "id": "lj9Hka4a6KAX",
        "colab_type": "text"
      },
      "source": [
        "We'll assume for the next step that a pair of negative values (i.e. both responses are \"no\") is as informative as a pair of positive values. Compute the full distance/dissimilarity matrix for the survey data using matching/hamming distance.\n",
        "\n",
        "The pdist function is a simple way to accomplish this goal, and the squareform function will transform the output of the pdist function into a tabular format that can be convert to a dataframe more easily."
      ]
    },
    {
      "cell_type": "code",
      "metadata": {
        "colab_type": "code",
        "id": "xfYVreyw1D_y",
        "outputId": "12439cf2-13eb-4ddb-9da3-37b3925064f4",
        "colab": {
          "base_uri": "https://localhost:8080/",
          "height": 134
        }
      },
      "source": [
        "# answer goes here\n",
        "matrix_dist=squareform(pdist(df_q5,'hamming'))\n",
        "matrix_dist"
      ],
      "execution_count": 0,
      "outputs": [
        {
          "output_type": "execute_result",
          "data": {
            "text/plain": [
              "array([[0. , 0. , 0.1, ..., 0. , 0.2, 0.2],\n",
              "       [0. , 0. , 0.1, ..., 0. , 0.2, 0.2],\n",
              "       [0.1, 0.1, 0. , ..., 0.1, 0.1, 0.1],\n",
              "       ...,\n",
              "       [0. , 0. , 0.1, ..., 0. , 0.2, 0.2],\n",
              "       [0.2, 0.2, 0.1, ..., 0.2, 0. , 0.2],\n",
              "       [0.2, 0.2, 0.1, ..., 0.2, 0.2, 0. ]])"
            ]
          },
          "metadata": {
            "tags": []
          },
          "execution_count": 19
        }
      ]
    },
    {
      "cell_type": "markdown",
      "metadata": {
        "id": "pdUvColO6KAZ",
        "colab_type": "text"
      },
      "source": [
        "Print the answers to the following three questions:\n",
        "\n",
        "1. How many pairs of students are there in our dataset? (Remember to ignore a student pairing with themselves, and avoid double-counting - '3-5' is the same as '5-3'.) \n",
        "2. Of these pairs, how many gave identical answers? \n",
        "3. How many pairs had no answers in common?\n",
        "\n",
        "Tip: it may help to first convert the NxN similarity matrix into a table with three columns: response_id_1, response_id_2, and the similarity between them. The new table should have NxN rows and 3 columns."
      ]
    },
    {
      "cell_type": "code",
      "metadata": {
        "id": "E87FevWg6KAa",
        "colab_type": "code",
        "outputId": "f8fc64f7-231b-4274-bb43-fcf83028a052",
        "colab": {
          "base_uri": "https://localhost:8080/",
          "height": 67
        }
      },
      "source": [
        "# answer goes here\n",
        "import math\n",
        "\n",
        "pair_number = math.factorial(df_q5.shape[0])/math.factorial(df_q5.shape[0] -2)/2\n",
        "print('1. Pairs of students in the datset: ', pair_number )\n",
        "\n",
        "print('2. Pairs with identical answers: ', np.count_nonzero(matrix_dist==1) )\n",
        "\n",
        "print('3. Pairs without common answers: ', np.count_nonzero(matrix_dist==0) )\n"
      ],
      "execution_count": 0,
      "outputs": [
        {
          "output_type": "stream",
          "text": [
            "1. Pairs of students in the datset:  4373403.0\n",
            "2. Pairs with identical answers:  582\n",
            "3. Pairs without common answers:  276422\n"
          ],
          "name": "stdout"
        }
      ]
    },
    {
      "cell_type": "markdown",
      "metadata": {
        "id": "gZnnin1l6KAb",
        "colab_type": "text"
      },
      "source": [
        "For each student, calculate their average similarity with all other students. Then print the following:\n",
        "\n",
        "1. On average, which student (i.e. which response_id) had the most similar responses to the survey population as a whole? What was the average similarity for this student, and what were their answers?\n",
        "2. Repeat part 1, but for the student with the least similar responses to the survey population as a whole.\n",
        "3. What do we notice about these students? What broader inferences can we make about the student population as a whole?"
      ]
    },
    {
      "cell_type": "code",
      "metadata": {
        "id": "C2RwDFgY6KAc",
        "colab_type": "code",
        "outputId": "903d902d-84e5-41b8-abd7-dcb2a70de58b",
        "colab": {
          "base_uri": "https://localhost:8080/",
          "height": 50
        }
      },
      "source": [
        "# answer goes here\n",
        "\n",
        "max_similar =0\n",
        "max_index =-1\n",
        "min_similar = 1 \n",
        "min_index =-1\n",
        "for i in range(matrix_dist.shape[0]):\n",
        "    if  matrix_dist[i].mean()>max_similar:\n",
        "        max_similar=matrix_dist[i].mean()\n",
        "        max_index=i\n",
        "\n",
        "    if  matrix_dist[i].mean()<min_similar:\n",
        "        min_similar=matrix_dist[i].mean()\n",
        "        min_index=i\n",
        "         \n",
        "\n",
        "print(f'Student with id {max_index} has max similarity of  {max_similar}')\n",
        "print(f'Student with id {min_index}has min similarity of {min_similar}')"
      ],
      "execution_count": 51,
      "outputs": [
        {
          "output_type": "stream",
          "text": [
            "Student with id 2899 has max similarity of  0.6239350912778905\n",
            "Student with id 0has min similarity of 0.22474645030425963\n"
          ],
          "name": "stdout"
        }
      ]
    },
    {
      "cell_type": "code",
      "metadata": {
        "id": "JyaCdw9rHNT9",
        "colab_type": "code",
        "colab": {
          "base_uri": "https://localhost:8080/",
          "height": 144
        },
        "outputId": "9bddddc3-6be6-465b-9ee5-cf0a89e859f3"
      },
      "source": [
        "df_q5.iloc[[2899]]"
      ],
      "execution_count": 53,
      "outputs": [
        {
          "output_type": "execute_result",
          "data": {
            "text/html": [
              "<div>\n",
              "<style scoped>\n",
              "    .dataframe tbody tr th:only-of-type {\n",
              "        vertical-align: middle;\n",
              "    }\n",
              "\n",
              "    .dataframe tbody tr th {\n",
              "        vertical-align: top;\n",
              "    }\n",
              "\n",
              "    .dataframe thead th {\n",
              "        text-align: right;\n",
              "    }\n",
              "</style>\n",
              "<table border=\"1\" class=\"dataframe\">\n",
              "  <thead>\n",
              "    <tr style=\"text-align: right;\">\n",
              "      <th></th>\n",
              "      <th>Q5-Stressed about Adjustment issues</th>\n",
              "      <th>Q5-Stressed about Academic issues</th>\n",
              "      <th>Q5-Stressed about Financial issues</th>\n",
              "      <th>Q5-Stressed about Family issues</th>\n",
              "      <th>Q5-Stressed about Friendships</th>\n",
              "      <th>Q5-Stressed about Romantic relationships</th>\n",
              "      <th>Q5-Stressed about  Health related issues</th>\n",
              "      <th>Q5-Stressed about Career related issues</th>\n",
              "      <th>Q5-Stressed about My involvement in hostel, clubs, societies, interest groups, etc.</th>\n",
              "      <th>Q5-Stressed about Others</th>\n",
              "    </tr>\n",
              "  </thead>\n",
              "  <tbody>\n",
              "    <tr>\n",
              "      <th>2899</th>\n",
              "      <td>1</td>\n",
              "      <td>1</td>\n",
              "      <td>1</td>\n",
              "      <td>1</td>\n",
              "      <td>1</td>\n",
              "      <td>0</td>\n",
              "      <td>1</td>\n",
              "      <td>1</td>\n",
              "      <td>1</td>\n",
              "      <td>1</td>\n",
              "    </tr>\n",
              "  </tbody>\n",
              "</table>\n",
              "</div>"
            ],
            "text/plain": [
              "      Q5-Stressed about Adjustment issues  ...  Q5-Stressed about Others\n",
              "2899                                    1  ...                         1\n",
              "\n",
              "[1 rows x 10 columns]"
            ]
          },
          "metadata": {
            "tags": []
          },
          "execution_count": 53
        }
      ]
    },
    {
      "cell_type": "code",
      "metadata": {
        "id": "CWrYOpdVYxR-",
        "colab_type": "code",
        "colab": {
          "base_uri": "https://localhost:8080/",
          "height": 127
        },
        "outputId": "8dfd2a61-b6b3-4714-da14-a9170b915713"
      },
      "source": [
        "df_q5.iloc[[0]]"
      ],
      "execution_count": 54,
      "outputs": [
        {
          "output_type": "execute_result",
          "data": {
            "text/html": [
              "<div>\n",
              "<style scoped>\n",
              "    .dataframe tbody tr th:only-of-type {\n",
              "        vertical-align: middle;\n",
              "    }\n",
              "\n",
              "    .dataframe tbody tr th {\n",
              "        vertical-align: top;\n",
              "    }\n",
              "\n",
              "    .dataframe thead th {\n",
              "        text-align: right;\n",
              "    }\n",
              "</style>\n",
              "<table border=\"1\" class=\"dataframe\">\n",
              "  <thead>\n",
              "    <tr style=\"text-align: right;\">\n",
              "      <th></th>\n",
              "      <th>Q5-Stressed about Adjustment issues</th>\n",
              "      <th>Q5-Stressed about Academic issues</th>\n",
              "      <th>Q5-Stressed about Financial issues</th>\n",
              "      <th>Q5-Stressed about Family issues</th>\n",
              "      <th>Q5-Stressed about Friendships</th>\n",
              "      <th>Q5-Stressed about Romantic relationships</th>\n",
              "      <th>Q5-Stressed about  Health related issues</th>\n",
              "      <th>Q5-Stressed about Career related issues</th>\n",
              "      <th>Q5-Stressed about My involvement in hostel, clubs, societies, interest groups, etc.</th>\n",
              "      <th>Q5-Stressed about Others</th>\n",
              "    </tr>\n",
              "  </thead>\n",
              "  <tbody>\n",
              "    <tr>\n",
              "      <th>0</th>\n",
              "      <td>0</td>\n",
              "      <td>1</td>\n",
              "      <td>0</td>\n",
              "      <td>0</td>\n",
              "      <td>0</td>\n",
              "      <td>0</td>\n",
              "      <td>0</td>\n",
              "      <td>0</td>\n",
              "      <td>0</td>\n",
              "      <td>0</td>\n",
              "    </tr>\n",
              "  </tbody>\n",
              "</table>\n",
              "</div>"
            ],
            "text/plain": [
              "   Q5-Stressed about Adjustment issues  ...  Q5-Stressed about Others\n",
              "0                                    0  ...                         0\n",
              "\n",
              "[1 rows x 10 columns]"
            ]
          },
          "metadata": {
            "tags": []
          },
          "execution_count": 54
        }
      ]
    },
    {
      "cell_type": "markdown",
      "metadata": {
        "id": "QsLoQCf9ZBxL",
        "colab_type": "text"
      },
      "source": [
        "Student who has the highest similarity answerded 'yes' to the most of questions. On the other hand student who has the lowest similarity answered 'no' no the most of questions. "
      ]
    },
    {
      "cell_type": "code",
      "metadata": {
        "id": "YRAXbKq-Zmvu",
        "colab_type": "code",
        "colab": {}
      },
      "source": [
        ""
      ],
      "execution_count": 0,
      "outputs": []
    }
  ]
}