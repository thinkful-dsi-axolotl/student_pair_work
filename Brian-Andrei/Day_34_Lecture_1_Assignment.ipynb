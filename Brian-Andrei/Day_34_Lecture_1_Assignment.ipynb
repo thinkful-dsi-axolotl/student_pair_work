{
  "nbformat": 4,
  "nbformat_minor": 0,
  "metadata": {
    "kernelspec": {
      "display_name": "Python 3",
      "language": "python",
      "name": "python3"
    },
    "language_info": {
      "codemirror_mode": {
        "name": "ipython",
        "version": 3
      },
      "file_extension": ".py",
      "mimetype": "text/x-python",
      "name": "python",
      "nbconvert_exporter": "python",
      "pygments_lexer": "ipython3",
      "version": "3.7.0"
    },
    "colab": {
      "name": "Copy of Day 34 Lecture 1 Assignment.ipynb",
      "provenance": [],
      "collapsed_sections": []
    }
  },
  "cells": [
    {
      "cell_type": "markdown",
      "metadata": {
        "id": "ek_P857brqWQ",
        "colab_type": "text"
      },
      "source": [
        "## Day 34 Lecture 1 Assignment\n",
        "\n",
        "In this assignment, we will learn about SVR. We will use the absenteeism at work dataset loaded below and analyze the model generated for this dataset."
      ]
    },
    {
      "cell_type": "code",
      "metadata": {
        "id": "Y2OJAjVKrqWR",
        "colab_type": "code",
        "colab": {}
      },
      "source": [
        "%matplotlib inline\n",
        "\n",
        "import math\n",
        "\n",
        "import matplotlib.pyplot as plt\n",
        "import numpy as np\n",
        "import pandas as pd\n",
        "import seaborn as sns\n",
        "sns.set()\n",
        "from sklearn.model_selection import train_test_split, GridSearchCV\n",
        "from sklearn.preprocessing import StandardScaler\n",
        "from sklearn.svm import SVR\n",
        "from sklearn.metrics import mean_squared_error"
      ],
      "execution_count": 0,
      "outputs": []
    },
    {
      "cell_type": "code",
      "metadata": {
        "id": "2xl3uos0rqWU",
        "colab_type": "code",
        "colab": {}
      },
      "source": [
        "absent = pd.read_csv('https://tf-assets-prod.s3.amazonaws.com/tf-curric/data-science/Absenteeism_at_work.csv', sep=';')"
      ],
      "execution_count": 0,
      "outputs": []
    },
    {
      "cell_type": "code",
      "metadata": {
        "id": "pZV57O_ZrqWV",
        "colab_type": "code",
        "outputId": "01ad9700-9bb6-45d6-e471-989090e1c771",
        "colab": {
          "base_uri": "https://localhost:8080/",
          "height": 233
        }
      },
      "source": [
        "absent.head()"
      ],
      "execution_count": 0,
      "outputs": [
        {
          "output_type": "execute_result",
          "data": {
            "text/html": [
              "<div>\n",
              "<style scoped>\n",
              "    .dataframe tbody tr th:only-of-type {\n",
              "        vertical-align: middle;\n",
              "    }\n",
              "\n",
              "    .dataframe tbody tr th {\n",
              "        vertical-align: top;\n",
              "    }\n",
              "\n",
              "    .dataframe thead th {\n",
              "        text-align: right;\n",
              "    }\n",
              "</style>\n",
              "<table border=\"1\" class=\"dataframe\">\n",
              "  <thead>\n",
              "    <tr style=\"text-align: right;\">\n",
              "      <th></th>\n",
              "      <th>ID</th>\n",
              "      <th>Reason for absence</th>\n",
              "      <th>Month of absence</th>\n",
              "      <th>Day of the week</th>\n",
              "      <th>Seasons</th>\n",
              "      <th>Transportation expense</th>\n",
              "      <th>Distance from Residence to Work</th>\n",
              "      <th>Service time</th>\n",
              "      <th>Age</th>\n",
              "      <th>Work load Average/day</th>\n",
              "      <th>Hit target</th>\n",
              "      <th>Disciplinary failure</th>\n",
              "      <th>Education</th>\n",
              "      <th>Son</th>\n",
              "      <th>Social drinker</th>\n",
              "      <th>Social smoker</th>\n",
              "      <th>Pet</th>\n",
              "      <th>Weight</th>\n",
              "      <th>Height</th>\n",
              "      <th>Body mass index</th>\n",
              "      <th>Absenteeism time in hours</th>\n",
              "    </tr>\n",
              "  </thead>\n",
              "  <tbody>\n",
              "    <tr>\n",
              "      <th>0</th>\n",
              "      <td>11</td>\n",
              "      <td>26</td>\n",
              "      <td>7</td>\n",
              "      <td>3</td>\n",
              "      <td>1</td>\n",
              "      <td>289</td>\n",
              "      <td>36</td>\n",
              "      <td>13</td>\n",
              "      <td>33</td>\n",
              "      <td>239.554</td>\n",
              "      <td>97</td>\n",
              "      <td>0</td>\n",
              "      <td>1</td>\n",
              "      <td>2</td>\n",
              "      <td>1</td>\n",
              "      <td>0</td>\n",
              "      <td>1</td>\n",
              "      <td>90</td>\n",
              "      <td>172</td>\n",
              "      <td>30</td>\n",
              "      <td>4</td>\n",
              "    </tr>\n",
              "    <tr>\n",
              "      <th>1</th>\n",
              "      <td>36</td>\n",
              "      <td>0</td>\n",
              "      <td>7</td>\n",
              "      <td>3</td>\n",
              "      <td>1</td>\n",
              "      <td>118</td>\n",
              "      <td>13</td>\n",
              "      <td>18</td>\n",
              "      <td>50</td>\n",
              "      <td>239.554</td>\n",
              "      <td>97</td>\n",
              "      <td>1</td>\n",
              "      <td>1</td>\n",
              "      <td>1</td>\n",
              "      <td>1</td>\n",
              "      <td>0</td>\n",
              "      <td>0</td>\n",
              "      <td>98</td>\n",
              "      <td>178</td>\n",
              "      <td>31</td>\n",
              "      <td>0</td>\n",
              "    </tr>\n",
              "    <tr>\n",
              "      <th>2</th>\n",
              "      <td>3</td>\n",
              "      <td>23</td>\n",
              "      <td>7</td>\n",
              "      <td>4</td>\n",
              "      <td>1</td>\n",
              "      <td>179</td>\n",
              "      <td>51</td>\n",
              "      <td>18</td>\n",
              "      <td>38</td>\n",
              "      <td>239.554</td>\n",
              "      <td>97</td>\n",
              "      <td>0</td>\n",
              "      <td>1</td>\n",
              "      <td>0</td>\n",
              "      <td>1</td>\n",
              "      <td>0</td>\n",
              "      <td>0</td>\n",
              "      <td>89</td>\n",
              "      <td>170</td>\n",
              "      <td>31</td>\n",
              "      <td>2</td>\n",
              "    </tr>\n",
              "    <tr>\n",
              "      <th>3</th>\n",
              "      <td>7</td>\n",
              "      <td>7</td>\n",
              "      <td>7</td>\n",
              "      <td>5</td>\n",
              "      <td>1</td>\n",
              "      <td>279</td>\n",
              "      <td>5</td>\n",
              "      <td>14</td>\n",
              "      <td>39</td>\n",
              "      <td>239.554</td>\n",
              "      <td>97</td>\n",
              "      <td>0</td>\n",
              "      <td>1</td>\n",
              "      <td>2</td>\n",
              "      <td>1</td>\n",
              "      <td>1</td>\n",
              "      <td>0</td>\n",
              "      <td>68</td>\n",
              "      <td>168</td>\n",
              "      <td>24</td>\n",
              "      <td>4</td>\n",
              "    </tr>\n",
              "    <tr>\n",
              "      <th>4</th>\n",
              "      <td>11</td>\n",
              "      <td>23</td>\n",
              "      <td>7</td>\n",
              "      <td>5</td>\n",
              "      <td>1</td>\n",
              "      <td>289</td>\n",
              "      <td>36</td>\n",
              "      <td>13</td>\n",
              "      <td>33</td>\n",
              "      <td>239.554</td>\n",
              "      <td>97</td>\n",
              "      <td>0</td>\n",
              "      <td>1</td>\n",
              "      <td>2</td>\n",
              "      <td>1</td>\n",
              "      <td>0</td>\n",
              "      <td>1</td>\n",
              "      <td>90</td>\n",
              "      <td>172</td>\n",
              "      <td>30</td>\n",
              "      <td>2</td>\n",
              "    </tr>\n",
              "  </tbody>\n",
              "</table>\n",
              "</div>"
            ],
            "text/plain": [
              "   ID  Reason for absence  ...  Body mass index  Absenteeism time in hours\n",
              "0  11                  26  ...               30                          4\n",
              "1  36                   0  ...               31                          0\n",
              "2   3                  23  ...               31                          2\n",
              "3   7                   7  ...               24                          4\n",
              "4  11                  23  ...               30                          2\n",
              "\n",
              "[5 rows x 21 columns]"
            ]
          },
          "metadata": {
            "tags": []
          },
          "execution_count": 3
        }
      ]
    },
    {
      "cell_type": "markdown",
      "metadata": {
        "id": "0cY0ffxDrqWY",
        "colab_type": "text"
      },
      "source": [
        "Recall that we removed all correlated columns as well as columns that are a function of two or more other columns (like BMI and weight and height) as well as columns that are not usefu to us (like ID).\n",
        "We also created dummy variables for the categorical columns in our dataset.\n",
        "Finally, we split the data into test and train (with test being 20% of the data).\n",
        "\n",
        "Perform these actions below."
      ]
    },
    {
      "cell_type": "code",
      "metadata": {
        "id": "0ljCMS2urqWY",
        "colab_type": "code",
        "outputId": "e8f71659-b1e4-4499-e3c2-31c2027b7157",
        "colab": {
          "base_uri": "https://localhost:8080/",
          "height": 490
        }
      },
      "source": [
        "#answer below:\n",
        "\n",
        "absent.info()"
      ],
      "execution_count": 0,
      "outputs": [
        {
          "output_type": "stream",
          "text": [
            "<class 'pandas.core.frame.DataFrame'>\n",
            "RangeIndex: 740 entries, 0 to 739\n",
            "Data columns (total 21 columns):\n",
            "ID                                 740 non-null int64\n",
            "Reason for absence                 740 non-null int64\n",
            "Month of absence                   740 non-null int64\n",
            "Day of the week                    740 non-null int64\n",
            "Seasons                            740 non-null int64\n",
            "Transportation expense             740 non-null int64\n",
            "Distance from Residence to Work    740 non-null int64\n",
            "Service time                       740 non-null int64\n",
            "Age                                740 non-null int64\n",
            "Work load Average/day              740 non-null float64\n",
            "Hit target                         740 non-null int64\n",
            "Disciplinary failure               740 non-null int64\n",
            "Education                          740 non-null int64\n",
            "Son                                740 non-null int64\n",
            "Social drinker                     740 non-null int64\n",
            "Social smoker                      740 non-null int64\n",
            "Pet                                740 non-null int64\n",
            "Weight                             740 non-null int64\n",
            "Height                             740 non-null int64\n",
            "Body mass index                    740 non-null int64\n",
            "Absenteeism time in hours          740 non-null int64\n",
            "dtypes: float64(1), int64(20)\n",
            "memory usage: 121.5 KB\n"
          ],
          "name": "stdout"
        }
      ]
    },
    {
      "cell_type": "code",
      "metadata": {
        "id": "7tHsRsE1nGJH",
        "colab_type": "code",
        "colab": {}
      },
      "source": [
        "corrmat_absent = absent.corr()\n",
        "plt.figure(figsize=(19,19))\n",
        "sns.heatmap(corrmat_absent, square=True, annot=True, linewidth=.5, cmap = 'coolwarm')\n",
        "plt.title('correlation matrix (Absent)')\n",
        "plt.show()"
      ],
      "execution_count": 0,
      "outputs": []
    },
    {
      "cell_type": "code",
      "metadata": {
        "id": "9OU21OaZniIq",
        "colab_type": "code",
        "outputId": "331bbb07-71c6-40ab-9e32-ae29742333a3",
        "colab": {
          "base_uri": "https://localhost:8080/",
          "height": 126
        }
      },
      "source": [
        "absent_new = absent.drop(['Weight','Age','Transportation expense','ID'],axis=1)\n",
        "absent_new.columns"
      ],
      "execution_count": 0,
      "outputs": [
        {
          "output_type": "execute_result",
          "data": {
            "text/plain": [
              "Index(['Reason for absence', 'Month of absence', 'Day of the week', 'Seasons',\n",
              "       'Distance from Residence to Work', 'Service time',\n",
              "       'Work load Average/day ', 'Hit target', 'Disciplinary failure',\n",
              "       'Education', 'Son', 'Social drinker', 'Social smoker', 'Pet', 'Height',\n",
              "       'Body mass index', 'Absenteeism time in hours'],\n",
              "      dtype='object')"
            ]
          },
          "metadata": {
            "tags": []
          },
          "execution_count": 10
        }
      ]
    },
    {
      "cell_type": "markdown",
      "metadata": {
        "id": "p-_QJzwYrqWa",
        "colab_type": "text"
      },
      "source": [
        "Scale the indepdendent variables using the standard scaler"
      ]
    },
    {
      "cell_type": "code",
      "metadata": {
        "id": "wMpq6owTrqWa",
        "colab_type": "code",
        "outputId": "06c07038-5596-49e2-8be1-05c94e58da4e",
        "colab": {
          "base_uri": "https://localhost:8080/",
          "height": 233
        }
      },
      "source": [
        "# answer below:\n",
        "x_cols = [x for x in absent_new.columns if x != 'Absenteeism time in hours']\n",
        "\n",
        "scaler = StandardScaler()\n",
        "scaler.fit(absent_new[x_cols])\n",
        "absent_scale = scaler.transform(absent_new[x_cols])\n",
        "x_scale = pd.DataFrame(absent_scale, columns=x_cols)\n",
        "x_scale.head()"
      ],
      "execution_count": 0,
      "outputs": [
        {
          "output_type": "execute_result",
          "data": {
            "text/html": [
              "<div>\n",
              "<style scoped>\n",
              "    .dataframe tbody tr th:only-of-type {\n",
              "        vertical-align: middle;\n",
              "    }\n",
              "\n",
              "    .dataframe tbody tr th {\n",
              "        vertical-align: top;\n",
              "    }\n",
              "\n",
              "    .dataframe thead th {\n",
              "        text-align: right;\n",
              "    }\n",
              "</style>\n",
              "<table border=\"1\" class=\"dataframe\">\n",
              "  <thead>\n",
              "    <tr style=\"text-align: right;\">\n",
              "      <th></th>\n",
              "      <th>Reason for absence</th>\n",
              "      <th>Month of absence</th>\n",
              "      <th>Day of the week</th>\n",
              "      <th>Seasons</th>\n",
              "      <th>Distance from Residence to Work</th>\n",
              "      <th>Service time</th>\n",
              "      <th>Work load Average/day</th>\n",
              "      <th>Hit target</th>\n",
              "      <th>Disciplinary failure</th>\n",
              "      <th>Education</th>\n",
              "      <th>Son</th>\n",
              "      <th>Social drinker</th>\n",
              "      <th>Social smoker</th>\n",
              "      <th>Pet</th>\n",
              "      <th>Height</th>\n",
              "      <th>Body mass index</th>\n",
              "    </tr>\n",
              "  </thead>\n",
              "  <tbody>\n",
              "    <tr>\n",
              "      <th>0</th>\n",
              "      <td>0.804938</td>\n",
              "      <td>0.196763</td>\n",
              "      <td>-0.643947</td>\n",
              "      <td>-1.390175</td>\n",
              "      <td>0.429556</td>\n",
              "      <td>0.101770</td>\n",
              "      <td>-0.818212</td>\n",
              "      <td>0.638686</td>\n",
              "      <td>-0.239046</td>\n",
              "      <td>-0.433857</td>\n",
              "      <td>0.893723</td>\n",
              "      <td>0.872872</td>\n",
              "      <td>-0.280566</td>\n",
              "      <td>0.19285</td>\n",
              "      <td>-0.019046</td>\n",
              "      <td>0.775932</td>\n",
              "    </tr>\n",
              "    <tr>\n",
              "      <th>1</th>\n",
              "      <td>-2.280124</td>\n",
              "      <td>0.196763</td>\n",
              "      <td>-0.643947</td>\n",
              "      <td>-1.390175</td>\n",
              "      <td>-1.121694</td>\n",
              "      <td>1.242825</td>\n",
              "      <td>-0.818212</td>\n",
              "      <td>0.638686</td>\n",
              "      <td>4.183300</td>\n",
              "      <td>-0.433857</td>\n",
              "      <td>-0.017234</td>\n",
              "      <td>0.872872</td>\n",
              "      <td>-0.280566</td>\n",
              "      <td>-0.56624</td>\n",
              "      <td>0.975828</td>\n",
              "      <td>1.009438</td>\n",
              "    </tr>\n",
              "    <tr>\n",
              "      <th>2</th>\n",
              "      <td>0.448970</td>\n",
              "      <td>0.196763</td>\n",
              "      <td>0.059924</td>\n",
              "      <td>-1.390175</td>\n",
              "      <td>1.441240</td>\n",
              "      <td>1.242825</td>\n",
              "      <td>-0.818212</td>\n",
              "      <td>0.638686</td>\n",
              "      <td>-0.239046</td>\n",
              "      <td>-0.433857</td>\n",
              "      <td>-0.928191</td>\n",
              "      <td>0.872872</td>\n",
              "      <td>-0.280566</td>\n",
              "      <td>-0.56624</td>\n",
              "      <td>-0.350671</td>\n",
              "      <td>1.009438</td>\n",
              "    </tr>\n",
              "    <tr>\n",
              "      <th>3</th>\n",
              "      <td>-1.449530</td>\n",
              "      <td>0.196763</td>\n",
              "      <td>0.763796</td>\n",
              "      <td>-1.390175</td>\n",
              "      <td>-1.661258</td>\n",
              "      <td>0.329981</td>\n",
              "      <td>-0.818212</td>\n",
              "      <td>0.638686</td>\n",
              "      <td>-0.239046</td>\n",
              "      <td>-0.433857</td>\n",
              "      <td>0.893723</td>\n",
              "      <td>0.872872</td>\n",
              "      <td>3.564226</td>\n",
              "      <td>-0.56624</td>\n",
              "      <td>-0.682295</td>\n",
              "      <td>-0.625100</td>\n",
              "    </tr>\n",
              "    <tr>\n",
              "      <th>4</th>\n",
              "      <td>0.448970</td>\n",
              "      <td>0.196763</td>\n",
              "      <td>0.763796</td>\n",
              "      <td>-1.390175</td>\n",
              "      <td>0.429556</td>\n",
              "      <td>0.101770</td>\n",
              "      <td>-0.818212</td>\n",
              "      <td>0.638686</td>\n",
              "      <td>-0.239046</td>\n",
              "      <td>-0.433857</td>\n",
              "      <td>0.893723</td>\n",
              "      <td>0.872872</td>\n",
              "      <td>-0.280566</td>\n",
              "      <td>0.19285</td>\n",
              "      <td>-0.019046</td>\n",
              "      <td>0.775932</td>\n",
              "    </tr>\n",
              "  </tbody>\n",
              "</table>\n",
              "</div>"
            ],
            "text/plain": [
              "   Reason for absence  Month of absence  ...    Height  Body mass index\n",
              "0            0.804938          0.196763  ... -0.019046         0.775932\n",
              "1           -2.280124          0.196763  ...  0.975828         1.009438\n",
              "2            0.448970          0.196763  ... -0.350671         1.009438\n",
              "3           -1.449530          0.196763  ... -0.682295        -0.625100\n",
              "4            0.448970          0.196763  ... -0.019046         0.775932\n",
              "\n",
              "[5 rows x 16 columns]"
            ]
          },
          "metadata": {
            "tags": []
          },
          "execution_count": 21
        }
      ]
    },
    {
      "cell_type": "markdown",
      "metadata": {
        "id": "F14dqtXJrqWc",
        "colab_type": "text"
      },
      "source": [
        "Split the data into train and test (test proportion=0.2)."
      ]
    },
    {
      "cell_type": "code",
      "metadata": {
        "id": "3VePSftDrqWc",
        "colab_type": "code",
        "colab": {}
      },
      "source": [
        "# answer below:\n",
        "y = absent_new['Absenteeism time in hours']\n",
        "X = x_scale\n",
        "\n",
        "X_train, X_test, y_train, y_test = train_test_split(X, y, test_size=.2, random_state=21)"
      ],
      "execution_count": 0,
      "outputs": []
    },
    {
      "cell_type": "markdown",
      "metadata": {
        "id": "Z7aLdNOIrqWe",
        "colab_type": "text"
      },
      "source": [
        "Generate an SVR model to predict the number of hours of absenteeism. Compare the train and test scores."
      ]
    },
    {
      "cell_type": "code",
      "metadata": {
        "id": "By2JhvYwrqWe",
        "colab_type": "code",
        "outputId": "e8e197b3-9192-4b63-93e5-62db71cf6439",
        "colab": {
          "base_uri": "https://localhost:8080/",
          "height": 128
        }
      },
      "source": [
        "# answer below:\n",
        "\n",
        "# svr_linear = SVR(kernel='linear', C=1)\n",
        "svr_rbf = SVR(kernel='rbf', epsilon = 4, C=31)\n",
        "svr_rbf.fit(X_train, y_train)"
      ],
      "execution_count": 0,
      "outputs": [
        {
          "output_type": "stream",
          "text": [
            "/usr/local/lib/python3.6/dist-packages/sklearn/svm/base.py:193: FutureWarning: The default value of gamma will change from 'auto' to 'scale' in version 0.22 to account better for unscaled features. Set gamma explicitly to 'auto' or 'scale' to avoid this warning.\n",
            "  \"avoid this warning.\", FutureWarning)\n"
          ],
          "name": "stderr"
        },
        {
          "output_type": "execute_result",
          "data": {
            "text/plain": [
              "SVR(C=31, cache_size=200, coef0=0.0, degree=3, epsilon=4,\n",
              "    gamma='auto_deprecated', kernel='rbf', max_iter=-1, shrinking=True,\n",
              "    tol=0.001, verbose=False)"
            ]
          },
          "metadata": {
            "tags": []
          },
          "execution_count": 103
        }
      ]
    },
    {
      "cell_type": "code",
      "metadata": {
        "id": "C4qJFdQTqjt_",
        "colab_type": "code",
        "outputId": "52755386-0a9d-493c-9569-26ce296f5aa0",
        "colab": {
          "base_uri": "https://localhost:8080/",
          "height": 35
        }
      },
      "source": [
        "svr_rbf.score(X_train, y_train), svr_rbf.score(X_test, y_test)"
      ],
      "execution_count": 0,
      "outputs": [
        {
          "output_type": "execute_result",
          "data": {
            "text/plain": [
              "(0.26585868329024054, 0.17906927646015736)"
            ]
          },
          "metadata": {
            "tags": []
          },
          "execution_count": 104
        }
      ]
    },
    {
      "cell_type": "code",
      "metadata": {
        "id": "0smWcHg_ygPa",
        "colab_type": "code",
        "outputId": "fc802990-2c71-4fe0-8cfd-deb07ecec0cc",
        "colab": {
          "base_uri": "https://localhost:8080/",
          "height": 54
        }
      },
      "source": [
        "y_test_pred = svr_rbf.predict(X_test)\n",
        "y_train_pred = svr_rbf.predict(X_train)\n",
        "print(mean_squared_error(y_train, y_train_pred))\n",
        "print(mean_squared_error(y_test, y_test_pred))"
      ],
      "execution_count": 0,
      "outputs": [
        {
          "output_type": "stream",
          "text": [
            "109.0497396381336\n",
            "240.19044764329487\n"
          ],
          "name": "stdout"
        }
      ]
    },
    {
      "cell_type": "markdown",
      "metadata": {
        "id": "_sn-m37hrqWg",
        "colab_type": "text"
      },
      "source": [
        "If you are unhappy with your model's performance, perform a grid search to optimize C."
      ]
    },
    {
      "cell_type": "code",
      "metadata": {
        "id": "kJCNpJv1yopn",
        "colab_type": "code",
        "outputId": "6131ee21-52eb-4749-c646-e68244efc8ac",
        "colab": {
          "base_uri": "https://localhost:8080/",
          "height": 54
        }
      },
      "source": [
        "c_range = np.logspace(-3, 5, num=9)\n",
        "c_range"
      ],
      "execution_count": 0,
      "outputs": [
        {
          "output_type": "execute_result",
          "data": {
            "text/plain": [
              "array([1.e-03, 1.e-02, 1.e-01, 1.e+00, 1.e+01, 1.e+02, 1.e+03, 1.e+04,\n",
              "       1.e+05])"
            ]
          },
          "metadata": {
            "tags": []
          },
          "execution_count": 82
        }
      ]
    },
    {
      "cell_type": "code",
      "metadata": {
        "id": "BpvxxapErqWg",
        "colab_type": "code",
        "outputId": "cdc9f475-b9a4-4e18-9949-c8ca0dca5b0a",
        "colab": {
          "base_uri": "https://localhost:8080/",
          "height": 54
        }
      },
      "source": [
        "# answer below:\n",
        "params = {'kernel': ['linear', 'rbf'], 'C': range(30, 35, 1),'epsilon': [3, 4, 5]} \n",
        "grid = GridSearchCV(svr_rbf, param_grid=params, cv=3, return_train_score=True, n_jobs=-1)\n",
        "grid.fit(X, y)\n",
        "print(grid.best_params_)\n",
        "print(grid.best_score_)"
      ],
      "execution_count": 0,
      "outputs": [
        {
          "output_type": "stream",
          "text": [
            "{'C': 31, 'epsilon': 4, 'kernel': 'rbf'}\n",
            "0.13304515549084833\n"
          ],
          "name": "stdout"
        }
      ]
    },
    {
      "cell_type": "code",
      "metadata": {
        "id": "qkQ846fqrqWi",
        "colab_type": "code",
        "outputId": "15609b0d-d9f8-4eab-e42e-ccbdc1a1ca86",
        "colab": {
          "base_uri": "https://localhost:8080/",
          "height": 268
        }
      },
      "source": [
        "cv_r = pd.DataFrame(grid.cv_results_)\n",
        "plt.plot(cv_r['param_epsilon'], cv_r['mean_train_score'], 'o-', label='Train')\n",
        "plt.plot(cv_r['param_epsilon'], cv_r['mean_test_score'], 'o-', label='Test')\n",
        "plt.legend()\n",
        "plt.show()"
      ],
      "execution_count": 0,
      "outputs": [
        {
          "output_type": "display_data",
          "data": {
            "image/png": "[encoded data removed]",
            "text/plain": [
              "<Figure size 432x288 with 1 Axes>"
            ]
          },
          "metadata": {
            "tags": []
          }
        }
      ]
    }
  ]
}