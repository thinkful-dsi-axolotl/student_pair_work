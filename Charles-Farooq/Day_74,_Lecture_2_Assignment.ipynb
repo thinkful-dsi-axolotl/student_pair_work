{
  "nbformat": 4,
  "nbformat_minor": 0,
  "metadata": {
    "kernelspec": {
      "display_name": "Python 3",
      "language": "python",
      "name": "python3"
    },
    "language_info": {
      "codemirror_mode": {
        "name": "ipython",
        "version": 3
      },
      "file_extension": ".py",
      "mimetype": "text/x-python",
      "name": "python",
      "nbconvert_exporter": "python",
      "pygments_lexer": "ipython3",
      "version": "3.7.2"
    },
    "colab": {
      "name": "Day 74, Lecture 2: Assignment.ipynb",
      "provenance": [],
      "collapsed_sections": []
    }
  },
  "cells": [
    {
      "cell_type": "markdown",
      "metadata": {
        "id": "MpAM5or7MJg8",
        "colab_type": "text"
      },
      "source": [
        "# Machine Learning on Text: Clustering Assignment"
      ]
    },
    {
      "cell_type": "code",
      "metadata": {
        "id": "Nw7-5JgzMJg9",
        "colab_type": "code",
        "outputId": "4f3e3732-560b-4ab9-80e6-6f8f6cbc85f4",
        "colab": {
          "base_uri": "https://localhost:8080/",
          "height": 71
        }
      },
      "source": [
        "import pandas as pd\n",
        "import nltk\n",
        "from nltk import word_tokenize\n",
        "from nltk.corpus import stopwords\n",
        "from nltk.stem.snowball import SnowballStemmer\n",
        "from nltk.stem.wordnet import WordNetLemmatizer\n",
        "from nltk.corpus.reader.plaintext import PlaintextCorpusReader\n",
        "from sklearn.cluster import KMeans\n",
        "from sklearn.cluster import AgglomerativeClustering\n",
        "from sklearn.feature_extraction.text import TfidfVectorizer\n",
        "import matplotlib.pyplot as plt\n",
        "from yellowbrick.cluster import KElbowVisualizer"
      ],
      "execution_count": 0,
      "outputs": [
        {
          "output_type": "stream",
          "text": [
            "/usr/local/lib/python3.6/dist-packages/sklearn/utils/deprecation.py:144: FutureWarning: The sklearn.metrics.classification module is  deprecated in version 0.22 and will be removed in version 0.24. The corresponding classes / functions should instead be imported from sklearn.metrics. Anything that cannot be imported from sklearn.metrics is now part of the private API.\n",
            "  warnings.warn(message, FutureWarning)\n"
          ],
          "name": "stderr"
        }
      ]
    },
    {
      "cell_type": "code",
      "metadata": {
        "id": "SagMaS-tiZgO",
        "colab_type": "code",
        "outputId": "cb7f338e-3754-48f6-bcc9-3ee715c835c6",
        "colab": {
          "base_uri": "https://localhost:8080/",
          "height": 153
        }
      },
      "source": [
        "nltk.download('punkt')\n",
        "nltk.download('stopwords')\n",
        "nltk.download('wordnet')\n",
        "nltk.download('gutenberg')\n",
        "\n",
        "from nltk.corpus import gutenberg"
      ],
      "execution_count": 0,
      "outputs": [
        {
          "output_type": "stream",
          "text": [
            "[nltk_data] Downloading package punkt to /root/nltk_data...\n",
            "[nltk_data]   Package punkt is already up-to-date!\n",
            "[nltk_data] Downloading package stopwords to /root/nltk_data...\n",
            "[nltk_data]   Package stopwords is already up-to-date!\n",
            "[nltk_data] Downloading package wordnet to /root/nltk_data...\n",
            "[nltk_data]   Package wordnet is already up-to-date!\n",
            "[nltk_data] Downloading package gutenberg to /root/nltk_data...\n",
            "[nltk_data]   Unzipping corpora/gutenberg.zip.\n"
          ],
          "name": "stdout"
        }
      ]
    },
    {
      "cell_type": "markdown",
      "metadata": {
        "id": "W7IzBzLsMJhA",
        "colab_type": "text"
      },
      "source": [
        "### Ingest the company_profiles data set into a corpus."
      ]
    },
    {
      "cell_type": "code",
      "metadata": {
        "id": "u-u8MsfKMJhB",
        "colab_type": "code",
        "outputId": "f6863e56-5305-49f3-db17-8065edcdf925",
        "colab": {
          "base_uri": "https://localhost:8080/",
          "height": 184
        }
      },
      "source": [
        ""
      ],
      "execution_count": 0,
      "outputs": [
        {
          "output_type": "error",
          "ename": "TypeError",
          "evalue": "ignored",
          "traceback": [
            "\u001b[0;31m---------------------------------------------------------------------------\u001b[0m",
            "\u001b[0;31mTypeError\u001b[0m                                 Traceback (most recent call last)",
            "\u001b[0;32m<ipython-input-3-3060e72fd303>\u001b[0m in \u001b[0;36m<module>\u001b[0;34m()\u001b[0m\n\u001b[0;32m----> 1\u001b[0;31m \u001b[0mnltk\u001b[0m\u001b[0;34m.\u001b[0m\u001b[0mcorpus\u001b[0m\u001b[0;34m(\u001b[0m\u001b[0;34m)\u001b[0m\u001b[0;34m\u001b[0m\u001b[0;34m\u001b[0m\u001b[0m\n\u001b[0m",
            "\u001b[0;31mTypeError\u001b[0m: 'LazyModule' object is not callable"
          ]
        }
      ]
    },
    {
      "cell_type": "markdown",
      "metadata": {
        "id": "evt_VveIMJhD",
        "colab_type": "text"
      },
      "source": [
        "### Create a list of documents by extracting the raw text for each fileid in the corpus."
      ]
    },
    {
      "cell_type": "code",
      "metadata": {
        "id": "0Q0T6d2TMJhD",
        "colab_type": "code",
        "colab": {}
      },
      "source": [
        "docs = [gutenberg.raw(fileid) for fileid in gutenberg.fileids()]"
      ],
      "execution_count": 0,
      "outputs": []
    },
    {
      "cell_type": "markdown",
      "metadata": {
        "id": "2L98OWhMMJhG",
        "colab_type": "text"
      },
      "source": [
        "### Preprocess the documents, including the steps below.\n",
        "\n",
        "- Word tokenize the document.\n",
        "- Lowercase all tokens.\n",
        "- Lemmatize and stem the tokens.\n",
        "- Remove stop words and punctuation."
      ]
    },
    {
      "cell_type": "code",
      "metadata": {
        "id": "XJGYG2L_MJhG",
        "colab_type": "code",
        "colab": {}
      },
      "source": [
        "def preprocess(docs):\n",
        "    lemmatizer = WordNetLemmatizer()\n",
        "    stemmer = SnowballStemmer('english')\n",
        "    preprocessed = []\n",
        "\n",
        "    for doc in docs:\n",
        "        tokenized = word_tokenize(doc)\n",
        "        cleaned = [stemmer.stem(lemmatizer.lemmatize(token.lower()))\n",
        "                    for token in tokenized\n",
        "                    if token.lower() not in stopwords.words('english')\n",
        "                    if token.isalpha()]\n",
        "        untokenized = \" \".join(cleaned)\n",
        "        preprocessed.append(untokenized)\n",
        "    return preprocessed"
      ],
      "execution_count": 0,
      "outputs": []
    },
    {
      "cell_type": "code",
      "metadata": {
        "id": "SCOA0d9Wm1Gg",
        "colab_type": "code",
        "colab": {}
      },
      "source": [
        "text = preprocess(docs)"
      ],
      "execution_count": 0,
      "outputs": []
    },
    {
      "cell_type": "markdown",
      "metadata": {
        "id": "sw3HvSNuMJhI",
        "colab_type": "text"
      },
      "source": [
        "### TF-IDF vectorize the preprocessed documents."
      ]
    },
    {
      "cell_type": "code",
      "metadata": {
        "id": "kYFXymYtMJhJ",
        "colab_type": "code",
        "colab": {}
      },
      "source": [
        "vectorizer = TfidfVectorizer()\n",
        "\n",
        "vectorized = vectorizer.fit_transform(text)"
      ],
      "execution_count": 0,
      "outputs": []
    },
    {
      "cell_type": "markdown",
      "metadata": {
        "id": "4F3w9-n7MJhL",
        "colab_type": "text"
      },
      "source": [
        "### Determine the optimal number of clusters using the Yellowbrick library's KElbow Visualizer and a KMeans clustering algorithm."
      ]
    },
    {
      "cell_type": "code",
      "metadata": {
        "id": "xDBdUa03MJhM",
        "colab_type": "code",
        "outputId": "c99b45b0-395e-4f27-8fac-d1a6a6ba2c02",
        "colab": {
          "base_uri": "https://localhost:8080/",
          "height": 435
        }
      },
      "source": [
        "model = KMeans()\n",
        "\n",
        "visualizer = KElbowVisualizer(model, k=(4,17), metric='silhouette')\n",
        "visualizer.fit(vectorized)"
      ],
      "execution_count": 0,
      "outputs": [
        {
          "output_type": "stream",
          "text": [
            "/usr/local/lib/python3.6/dist-packages/sklearn/base.py:197: FutureWarning: From version 0.24, get_params will raise an AttributeError if a parameter cannot be retrieved as an instance attribute. Previously it would return None.\n",
            "  FutureWarning)\n"
          ],
          "name": "stderr"
        },
        {
          "output_type": "execute_result",
          "data": {
            "text/plain": [
              "KElbowVisualizer(ax=<matplotlib.axes._subplots.AxesSubplot object at 0x7f3da6c8f7b8>,\n",
              "                 k=None, metric=None, model=None, timings=True)"
            ]
          },
          "metadata": {
            "tags": []
          },
          "execution_count": 13
        },
        {
          "output_type": "display_data",
          "data": {
            "image/png": "[encoded data removed]",
            "text/plain": [
              "<Figure size 576x396 with 2 Axes>"
            ]
          },
          "metadata": {
            "tags": []
          }
        }
      ]
    },
    {
      "cell_type": "markdown",
      "metadata": {
        "id": "QIurKlo-MJhP",
        "colab_type": "text"
      },
      "source": [
        "### Perform K-Means Clustering using the optimal number of clusters determine in the previous step."
      ]
    },
    {
      "cell_type": "code",
      "metadata": {
        "id": "jd0DuxrKMJhP",
        "colab_type": "code",
        "colab": {}
      },
      "source": [
        "kmn = KMeans(n_clusters=6)\n",
        "\n",
        "clusters_kmn = model.fit_predict(vectorized)"
      ],
      "execution_count": 0,
      "outputs": []
    },
    {
      "cell_type": "markdown",
      "metadata": {
        "id": "XzlVKvK1MJhR",
        "colab_type": "text"
      },
      "source": [
        "### Perform Agglomerative Clustering using the same number of clusters."
      ]
    },
    {
      "cell_type": "code",
      "metadata": {
        "id": "yXa_ofOOMJhS",
        "colab_type": "code",
        "colab": {}
      },
      "source": [
        "agg = AgglomerativeClustering(n_clusters=6)\n",
        "\n",
        "clusters_agg = model.fit_predict(vectorized)"
      ],
      "execution_count": 0,
      "outputs": []
    },
    {
      "cell_type": "markdown",
      "metadata": {
        "id": "tFlkG5TyMJhU",
        "colab_type": "text"
      },
      "source": [
        "### Choose one of the three topic modeling approaches covered. Cluster into the optimal number of clusters and extract 5 keywords that represent the documents in each cluster."
      ]
    },
    {
      "cell_type": "code",
      "metadata": {
        "id": "29jDpqjAMJhV",
        "colab_type": "code",
        "colab": {}
      },
      "source": [
        "from sklearn.decomposition import TruncatedSVD\n",
        "\n",
        "num_keywords = 5\n",
        "num_topics = 6\n",
        "\n",
        "model = TruncatedSVD(n_components=num_topics)\n",
        "model.fit_transform(vectorized)\n",
        "\n",
        "results = [[(vectorizer.get_feature_names()[i], topic[i]) for i in \n",
        "            topic.argsort()[:-num_keywords - 1:-1]] for topic in \n",
        "           model.components_]\n",
        "\n",
        "topics = [[x[0] for x in i] for i in results]"
      ],
      "execution_count": 0,
      "outputs": []
    },
    {
      "cell_type": "code",
      "metadata": {
        "id": "TS3jqNGBsS7A",
        "colab_type": "code",
        "outputId": "230d38e2-2afa-41e4-c631-4064d32c4ea8",
        "colab": {
          "base_uri": "https://localhost:8080/",
          "height": 119
        }
      },
      "source": [
        "topics"
      ],
      "execution_count": 0,
      "outputs": [
        {
          "output_type": "execute_result",
          "data": {
            "text/plain": [
              "[['said', 'one', 'littl', 'like', 'man'],\n",
              " ['haue', 'thou', 'thee', 'thi', 'shall'],\n",
              " ['thee', 'thi', 'heaven', 'unto', 'thou'],\n",
              " ['elinor', 'mariann', 'emma', 'elliot', 'mr'],\n",
              " ['buster', 'littl', 'joe', 'blacki', 'farmer'],\n",
              " ['alic', 'said', 'unto', 'shall', 'lord']]"
            ]
          },
          "metadata": {
            "tags": []
          },
          "execution_count": 19
        }
      ]
    },
    {
      "cell_type": "code",
      "metadata": {
        "id": "MUOS7ToqsU4A",
        "colab_type": "code",
        "outputId": "3a36f370-03f1-4dcb-e6a7-d0fccea8b70e",
        "colab": {
          "base_uri": "https://localhost:8080/",
          "height": 527
        }
      },
      "source": [
        "results"
      ],
      "execution_count": 0,
      "outputs": [
        {
          "output_type": "execute_result",
          "data": {
            "text/plain": [
              "[[('said', 0.26044583554860795),\n",
              "  ('one', 0.18595959691790068),\n",
              "  ('littl', 0.1666524917262982),\n",
              "  ('like', 0.14745804941633275),\n",
              "  ('man', 0.13586002653255838)],\n",
              " [('haue', 0.30594480786431916),\n",
              "  ('thou', 0.2594282716813165),\n",
              "  ('thee', 0.22293910492134728),\n",
              "  ('thi', 0.1993678233018269),\n",
              "  ('shall', 0.1739405243364239)],\n",
              " [('thee', 0.1866992920286624),\n",
              "  ('thi', 0.14270504556783778),\n",
              "  ('heaven', 0.13727796612285664),\n",
              "  ('unto', 0.13404400825750462),\n",
              "  ('thou', 0.1310474520038076)],\n",
              " [('elinor', 0.2567916041799588),\n",
              "  ('mariann', 0.18477321655621082),\n",
              "  ('emma', 0.18434584459831127),\n",
              "  ('elliot', 0.14791091607636142),\n",
              "  ('mr', 0.1382176012528392)],\n",
              " [('buster', 0.543373020340159),\n",
              "  ('littl', 0.2340047524104207),\n",
              "  ('joe', 0.21794625926233294),\n",
              "  ('blacki', 0.14095843516673362),\n",
              "  ('farmer', 0.13916655452191726)],\n",
              " [('alic', 0.5745707718585296),\n",
              "  ('said', 0.22161320304769436),\n",
              "  ('unto', 0.18406662304959165),\n",
              "  ('shall', 0.10173686578524921),\n",
              "  ('lord', 0.09282078132041911)]]"
            ]
          },
          "metadata": {
            "tags": []
          },
          "execution_count": 20
        }
      ]
    },
    {
      "cell_type": "code",
      "metadata": {
        "id": "xtN5W1Icsgqb",
        "colab_type": "code",
        "colab": {}
      },
      "source": [
        ""
      ],
      "execution_count": 0,
      "outputs": []
    }
  ]
}