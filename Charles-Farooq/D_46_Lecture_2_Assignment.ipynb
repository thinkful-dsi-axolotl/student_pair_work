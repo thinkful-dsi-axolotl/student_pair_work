{
  "nbformat": 4,
  "nbformat_minor": 0,
  "metadata": {
    "colab": {
      "name": "D 46 Lecture 2 Assignment.ipynb",
      "provenance": [],
      "collapsed_sections": [],
      "machine_shape": "hm"
    },
    "kernelspec": {
      "display_name": "Python 3",
      "language": "python",
      "name": "python3"
    },
    "language_info": {
      "codemirror_mode": {
        "name": "ipython",
        "version": 3
      },
      "file_extension": ".py",
      "mimetype": "text/x-python",
      "name": "python",
      "nbconvert_exporter": "python",
      "pygments_lexer": "ipython3",
      "version": "3.7.0"
    }
  },
  "cells": [
    {
      "cell_type": "markdown",
      "metadata": {
        "colab_type": "text",
        "id": "xdL0Yz0D1D_q"
      },
      "source": [
        "## Day 46 Lecture 2 Assignment\n",
        "\n",
        "In this assignment, we will calculate a similarity matrix using responses to a survey about student life at a university. We will perform clustering on this dataset later on."
      ]
    },
    {
      "cell_type": "code",
      "metadata": {
        "colab_type": "code",
        "id": "OulyiH_C1D_r",
        "colab": {}
      },
      "source": [
        "%matplotlib inline\n",
        "\n",
        "import matplotlib.pyplot as plt\n",
        "import numpy as np\n",
        "import pandas as pd\n",
        "from scipy.spatial.distance import pdist, squareform"
      ],
      "execution_count": 0,
      "outputs": []
    },
    {
      "cell_type": "markdown",
      "metadata": {
        "colab_type": "text",
        "id": "ezMvoRlB1D_t"
      },
      "source": [
        "This dataset consists of 35 binary features, each corresponding to a yes/no question that characterizes the student taking the survey.\n",
        "\n",
        "This dataset contains a large number of features, each corresponding to a survey question. The feature name summarizes the survey question, so we will not list them all out here.\n",
        "\n",
        "Load the dataset."
      ]
    },
    {
      "cell_type": "code",
      "metadata": {
        "colab_type": "code",
        "id": "wP1U4eQ91D_u",
        "colab": {}
      },
      "source": [
        "# answer goes here\n",
        "df = pd.read_csv('https://tf-assets-prod.s3.amazonaws.com/tf-curric/data-science/Data%20Sets%20Clustering/student_life_survey.csv')\n",
        "\n",
        "\n"
      ],
      "execution_count": 0,
      "outputs": []
    },
    {
      "cell_type": "code",
      "metadata": {
        "id": "hF9EWS3B7lY8",
        "colab_type": "code",
        "outputId": "7e060658-4320-47c8-fbf5-d0c1c1105667",
        "colab": {
          "base_uri": "https://localhost:8080/",
          "height": 734
        }
      },
      "source": [
        "df.info()"
      ],
      "execution_count": 19,
      "outputs": [
        {
          "output_type": "stream",
          "text": [
            "<class 'pandas.core.frame.DataFrame'>\n",
            "RangeIndex: 2958 entries, 0 to 2957\n",
            "Data columns (total 36 columns):\n",
            "Q2-Participated in Societies and Interest Groups                                                                              2958 non-null int64\n",
            "Q2-Participated in Clubs                                                                                                      2958 non-null int64\n",
            "Q2-Participated in Halls, JCRCs and/or Residential College CSCs                                                               2958 non-null int64\n",
            "Q2-Participated in University organised events                                                                                2958 non-null int64\n",
            "Q3-Interested in Arts & Culture                                                                                               2958 non-null int64\n",
            "Q3-Interested in Science & Technology                                                                                         2958 non-null int64\n",
            "Q3-Interested in Research and independent study                                                                               2958 non-null int64\n",
            "Q3-Interested in Sports                                                                                                       2958 non-null int64\n",
            "Q3-Interested in Other competitions (eg case, debates)                                                                        2958 non-null int64\n",
            "Q3-Interested in Entrepreneurship                                                                                             2958 non-null int64\n",
            "Q3-Interested in Volunteering                                                                                                 2958 non-null int64\n",
            "Q3-Interested in Others                                                                                                       2958 non-null int64\n",
            "Q4-Passionate about Animal welfare                                                                                            2958 non-null int64\n",
            "Q4-Passionate about Arts/Culture/Heritage                                                                                     2958 non-null int64\n",
            "Q4-Passionate about Children/Youth                                                                                            2958 non-null int64\n",
            "Q4-Passionate about Community building                                                                                        2958 non-null int64\n",
            "Q4-Passionate about Diversity & Inclusion (e.g. special needs, migrant worker, interfaith and intercultural understanding)    2958 non-null int64\n",
            "Q4-Passionate about Environmental sustainability                                                                              2958 non-null int64\n",
            "Q4-Passionate about Families                                                                                                  2958 non-null int64\n",
            "Q4-Passionate about Health/Well-being (e.g mental health)                                                                     2958 non-null int64\n",
            "Q4-Passionate about Seniors                                                                                                   2958 non-null int64\n",
            "Q4-Passionate about Poverty reduction                                                                                         2958 non-null int64\n",
            "Q4-Passionate about Education                                                                                                 2958 non-null int64\n",
            "Q4-Passionate about None of the above                                                                                         2958 non-null int64\n",
            "Q4-Passionate about Others                                                                                                    2958 non-null int64\n",
            "Q5-Stressed about Adjustment issues                                                                                           2958 non-null int64\n",
            "Q5-Stressed about Academic issues                                                                                             2958 non-null int64\n",
            "Q5-Stressed about Financial issues                                                                                            2958 non-null int64\n",
            "Q5-Stressed about Family issues                                                                                               2958 non-null int64\n",
            "Q5-Stressed about Friendships                                                                                                 2958 non-null int64\n",
            "Q5-Stressed about Romantic relationships                                                                                      2958 non-null int64\n",
            "Q5-Stressed about  Health related issues                                                                                      2958 non-null int64\n",
            "Q5-Stressed about Career related issues                                                                                       2958 non-null int64\n",
            "Q5-Stressed about My involvement in hostel, clubs, societies, interest groups, etc.                                           2958 non-null int64\n",
            "Q5-Stressed about Others                                                                                                      2958 non-null int64\n",
            "response_id                                                                                                                   2958 non-null int64\n",
            "dtypes: int64(36)\n",
            "memory usage: 832.1 KB\n"
          ],
          "name": "stdout"
        }
      ]
    },
    {
      "cell_type": "markdown",
      "metadata": {
        "colab_type": "text",
        "id": "o_K1eQ0x1D_y"
      },
      "source": [
        "For our analysis, we will focus on a specific subset of the survey that is focused on stress. These questions all begin with the string 'Q5'. Filter the columns that meet this criteria (should be 10 in total)."
      ]
    },
    {
      "cell_type": "code",
      "metadata": {
        "id": "hiE4LqZi9c5d",
        "colab_type": "code",
        "outputId": "a14081b3-d583-4dc2-8f59-21f9ea41e069",
        "colab": {
          "base_uri": "https://localhost:8080/",
          "height": 544
        }
      },
      "source": [
        "df.columns"
      ],
      "execution_count": 20,
      "outputs": [
        {
          "output_type": "execute_result",
          "data": {
            "text/plain": [
              "Index(['Q2-Participated in Societies and Interest Groups',\n",
              "       'Q2-Participated in Clubs',\n",
              "       'Q2-Participated in Halls, JCRCs and/or Residential College CSCs',\n",
              "       'Q2-Participated in University organised events',\n",
              "       'Q3-Interested in Arts & Culture',\n",
              "       'Q3-Interested in Science & Technology',\n",
              "       'Q3-Interested in Research and independent study',\n",
              "       'Q3-Interested in Sports',\n",
              "       'Q3-Interested in Other competitions (eg case, debates)',\n",
              "       'Q3-Interested in Entrepreneurship', 'Q3-Interested in Volunteering',\n",
              "       'Q3-Interested in Others', 'Q4-Passionate about Animal welfare',\n",
              "       'Q4-Passionate about Arts/Culture/Heritage',\n",
              "       'Q4-Passionate about Children/Youth',\n",
              "       'Q4-Passionate about Community building',\n",
              "       'Q4-Passionate about Diversity & Inclusion (e.g. special needs, migrant worker, interfaith and intercultural understanding)',\n",
              "       'Q4-Passionate about Environmental sustainability',\n",
              "       'Q4-Passionate about Families',\n",
              "       'Q4-Passionate about Health/Well-being (e.g mental health)',\n",
              "       'Q4-Passionate about Seniors', 'Q4-Passionate about Poverty reduction',\n",
              "       'Q4-Passionate about Education',\n",
              "       'Q4-Passionate about None of the above', 'Q4-Passionate about Others',\n",
              "       'Q5-Stressed about Adjustment issues',\n",
              "       'Q5-Stressed about Academic issues',\n",
              "       'Q5-Stressed about Financial issues', 'Q5-Stressed about Family issues',\n",
              "       'Q5-Stressed about Friendships',\n",
              "       'Q5-Stressed about Romantic relationships',\n",
              "       'Q5-Stressed about  Health related issues',\n",
              "       'Q5-Stressed about Career related issues',\n",
              "       'Q5-Stressed about My involvement in hostel, clubs, societies, interest groups, etc.',\n",
              "       'Q5-Stressed about Others', 'response_id'],\n",
              "      dtype='object')"
            ]
          },
          "metadata": {
            "tags": []
          },
          "execution_count": 20
        }
      ]
    },
    {
      "cell_type": "code",
      "metadata": {
        "id": "UH7VSEhC9wA_",
        "colab_type": "code",
        "outputId": "20ac1900-97ff-40eb-e19c-8b657debd375",
        "colab": {
          "base_uri": "https://localhost:8080/",
          "height": 272
        }
      },
      "source": [
        "q5 = df[df.columns[pd.Series(df.columns).str.startswith('Q5')]]\n",
        "\n",
        "q5.info()"
      ],
      "execution_count": 21,
      "outputs": [
        {
          "output_type": "stream",
          "text": [
            "<class 'pandas.core.frame.DataFrame'>\n",
            "RangeIndex: 2958 entries, 0 to 2957\n",
            "Data columns (total 10 columns):\n",
            "Q5-Stressed about Adjustment issues                                                    2958 non-null int64\n",
            "Q5-Stressed about Academic issues                                                      2958 non-null int64\n",
            "Q5-Stressed about Financial issues                                                     2958 non-null int64\n",
            "Q5-Stressed about Family issues                                                        2958 non-null int64\n",
            "Q5-Stressed about Friendships                                                          2958 non-null int64\n",
            "Q5-Stressed about Romantic relationships                                               2958 non-null int64\n",
            "Q5-Stressed about  Health related issues                                               2958 non-null int64\n",
            "Q5-Stressed about Career related issues                                                2958 non-null int64\n",
            "Q5-Stressed about My involvement in hostel, clubs, societies, interest groups, etc.    2958 non-null int64\n",
            "Q5-Stressed about Others                                                               2958 non-null int64\n",
            "dtypes: int64(10)\n",
            "memory usage: 231.2 KB\n"
          ],
          "name": "stdout"
        }
      ]
    },
    {
      "cell_type": "markdown",
      "metadata": {
        "id": "PsRPeNyt6plE",
        "colab_type": "text"
      },
      "source": [
        "We'll assume for the next step that a pair of negative values (i.e. both responses are \"no\") is as informative as a pair of positive values. Compute the full distance/dissimilarity matrix for the survey data using matching/hamming distance.\n",
        "\n",
        "The pdist function is a simple way to accomplish this goal, and the squareform function will transform the output of the pdist function into a tabular format that can be convert to a dataframe more easily."
      ]
    },
    {
      "cell_type": "code",
      "metadata": {
        "id": "uqF5YLoNCXbM",
        "colab_type": "code",
        "outputId": "173cf665-c6fb-41bb-b2c6-eb7d35fa9f70",
        "colab": {
          "base_uri": "https://localhost:8080/",
          "height": 289
        }
      },
      "source": [
        "q5.head()"
      ],
      "execution_count": 22,
      "outputs": [
        {
          "output_type": "execute_result",
          "data": {
            "text/html": [
              "<div>\n",
              "<style scoped>\n",
              "    .dataframe tbody tr th:only-of-type {\n",
              "        vertical-align: middle;\n",
              "    }\n",
              "\n",
              "    .dataframe tbody tr th {\n",
              "        vertical-align: top;\n",
              "    }\n",
              "\n",
              "    .dataframe thead th {\n",
              "        text-align: right;\n",
              "    }\n",
              "</style>\n",
              "<table border=\"1\" class=\"dataframe\">\n",
              "  <thead>\n",
              "    <tr style=\"text-align: right;\">\n",
              "      <th></th>\n",
              "      <th>Q5-Stressed about Adjustment issues</th>\n",
              "      <th>Q5-Stressed about Academic issues</th>\n",
              "      <th>Q5-Stressed about Financial issues</th>\n",
              "      <th>Q5-Stressed about Family issues</th>\n",
              "      <th>Q5-Stressed about Friendships</th>\n",
              "      <th>Q5-Stressed about Romantic relationships</th>\n",
              "      <th>Q5-Stressed about  Health related issues</th>\n",
              "      <th>Q5-Stressed about Career related issues</th>\n",
              "      <th>Q5-Stressed about My involvement in hostel, clubs, societies, interest groups, etc.</th>\n",
              "      <th>Q5-Stressed about Others</th>\n",
              "    </tr>\n",
              "  </thead>\n",
              "  <tbody>\n",
              "    <tr>\n",
              "      <th>0</th>\n",
              "      <td>0</td>\n",
              "      <td>1</td>\n",
              "      <td>0</td>\n",
              "      <td>0</td>\n",
              "      <td>0</td>\n",
              "      <td>0</td>\n",
              "      <td>0</td>\n",
              "      <td>0</td>\n",
              "      <td>0</td>\n",
              "      <td>0</td>\n",
              "    </tr>\n",
              "    <tr>\n",
              "      <th>1</th>\n",
              "      <td>0</td>\n",
              "      <td>1</td>\n",
              "      <td>0</td>\n",
              "      <td>0</td>\n",
              "      <td>0</td>\n",
              "      <td>0</td>\n",
              "      <td>0</td>\n",
              "      <td>0</td>\n",
              "      <td>0</td>\n",
              "      <td>0</td>\n",
              "    </tr>\n",
              "    <tr>\n",
              "      <th>2</th>\n",
              "      <td>0</td>\n",
              "      <td>1</td>\n",
              "      <td>0</td>\n",
              "      <td>0</td>\n",
              "      <td>0</td>\n",
              "      <td>0</td>\n",
              "      <td>0</td>\n",
              "      <td>1</td>\n",
              "      <td>0</td>\n",
              "      <td>0</td>\n",
              "    </tr>\n",
              "    <tr>\n",
              "      <th>3</th>\n",
              "      <td>1</td>\n",
              "      <td>1</td>\n",
              "      <td>0</td>\n",
              "      <td>1</td>\n",
              "      <td>1</td>\n",
              "      <td>1</td>\n",
              "      <td>1</td>\n",
              "      <td>0</td>\n",
              "      <td>1</td>\n",
              "      <td>0</td>\n",
              "    </tr>\n",
              "    <tr>\n",
              "      <th>4</th>\n",
              "      <td>0</td>\n",
              "      <td>1</td>\n",
              "      <td>1</td>\n",
              "      <td>0</td>\n",
              "      <td>1</td>\n",
              "      <td>0</td>\n",
              "      <td>0</td>\n",
              "      <td>0</td>\n",
              "      <td>1</td>\n",
              "      <td>0</td>\n",
              "    </tr>\n",
              "  </tbody>\n",
              "</table>\n",
              "</div>"
            ],
            "text/plain": [
              "   Q5-Stressed about Adjustment issues  ...  Q5-Stressed about Others\n",
              "0                                    0  ...                         0\n",
              "1                                    0  ...                         0\n",
              "2                                    0  ...                         0\n",
              "3                                    1  ...                         0\n",
              "4                                    0  ...                         0\n",
              "\n",
              "[5 rows x 10 columns]"
            ]
          },
          "metadata": {
            "tags": []
          },
          "execution_count": 22
        }
      ]
    },
    {
      "cell_type": "code",
      "metadata": {
        "colab_type": "code",
        "id": "xfYVreyw1D_y",
        "outputId": "a75a94e0-fc09-4a6c-a843-c68982df15d3",
        "colab": {
          "base_uri": "https://localhost:8080/",
          "height": 34
        }
      },
      "source": [
        "# answer goes here\n",
        "df2 = pd.DataFrame(squareform(pdist(q5, metric='hamming')))\n",
        "\n",
        "df2.shape"
      ],
      "execution_count": 23,
      "outputs": [
        {
          "output_type": "execute_result",
          "data": {
            "text/plain": [
              "(2958, 2958)"
            ]
          },
          "metadata": {
            "tags": []
          },
          "execution_count": 23
        }
      ]
    },
    {
      "cell_type": "markdown",
      "metadata": {
        "id": "9xTqzpVj6plI",
        "colab_type": "text"
      },
      "source": [
        "Print the answers to the following three questions:\n",
        "\n",
        "1. How many pairs of students are there in our dataset? (Remember to ignore a student pairing with themselves, and avoid double-counting - '3-5' is the same as '5-3'.) \n",
        "2. Of these pairs, how many gave identical answers? \n",
        "3. How many pairs had no answers in common?\n",
        "\n",
        "Tip: it may help to first convert the NxN similarity matrix into a table with three columns: response_id_1, response_id_2, and the similarity between them. The new table should have NxN rows and 3 columns."
      ]
    },
    {
      "cell_type": "code",
      "metadata": {
        "id": "ZcJSrWaqofPR",
        "colab_type": "code",
        "colab": {
          "base_uri": "https://localhost:8080/",
          "height": 68
        },
        "outputId": "37aa7251-a7d3-4924-8eca-36e299f312fe"
      },
      "source": [
        "import math\n",
        "\n",
        "pair_number = math.factorial(q5.shape[0])/math.factorial(q5.shape[0] -2)/2\n",
        "print('1. Pairs of students in the datset: ', pair_number )\n",
        "\n",
        "print('2. Pairs with identical answers: ', np.count_nonzero(df2==1) )\n",
        "\n",
        "print('3. Pairs without common answers: ', np.count_nonzero(df2==0) )"
      ],
      "execution_count": 25,
      "outputs": [
        {
          "output_type": "stream",
          "text": [
            "1. Pairs of students in the datset:  4373403.0\n",
            "2. Pairs with identical answers:  582\n",
            "3. Pairs without common answers:  276422\n"
          ],
          "name": "stdout"
        }
      ]
    },
    {
      "cell_type": "code",
      "metadata": {
        "id": "9PgymGYPCxSR",
        "colab_type": "code",
        "colab": {}
      },
      "source": [
        "df3 = df2.melt(df2,df2.index)"
      ],
      "execution_count": 0,
      "outputs": []
    },
    {
      "cell_type": "code",
      "metadata": {
        "id": "IZR1QWjeFemv",
        "colab_type": "code",
        "colab": {}
      },
      "source": [
        "df3.head()"
      ],
      "execution_count": 0,
      "outputs": []
    },
    {
      "cell_type": "markdown",
      "metadata": {
        "id": "LdwW2WLd6plO",
        "colab_type": "text"
      },
      "source": [
        "For each student, calculate their average similarity with all other students. Then print the following:\n",
        "\n",
        "1. On average, which student (i.e. which response_id) had the most similar responses to the survey population as a whole? What was the average similarity for this student, and what were their answers?\n",
        "2. Repeat part 1, but for the student with the least similar responses to the survey population as a whole.\n",
        "3. What do we notice about these students? What broader inferences can we make about the student population as a whole?"
      ]
    },
    {
      "cell_type": "code",
      "metadata": {
        "id": "4cuWoUSe6plK",
        "colab_type": "code",
        "colab": {
          "base_uri": "https://localhost:8080/",
          "height": 51
        },
        "outputId": "369d30b5-6798-46b8-f9cc-7f00eea01cb3"
      },
      "source": [
        "# answer goes here\n",
        "max_similar =0\n",
        "max_index =-1\n",
        "min_similar = 1 \n",
        "min_index =-1\n",
        "for i in range(df2.shape[0]):\n",
        "    if  df2[i].mean()>max_similar:\n",
        "        max_similar=df2[i].mean()\n",
        "        max_index=i\n",
        "\n",
        "    if  df2[i].mean()<min_similar:\n",
        "        min_similar=df2[i].mean()\n",
        "        min_index=i\n",
        "         \n",
        "\n",
        "print(f'Student with id {max_index} has max similarity of  {max_similar}')\n",
        "print(f'Student with id {min_index}has min similarity of {min_similar}')\n",
        "\n",
        "\n"
      ],
      "execution_count": 26,
      "outputs": [
        {
          "output_type": "stream",
          "text": [
            "Student with id 2899 has max similarity of  0.6239350912778868\n",
            "Student with id 0has min similarity of 0.224746450304262\n"
          ],
          "name": "stdout"
        }
      ]
    },
    {
      "cell_type": "code",
      "metadata": {
        "id": "4lb2j8REqbEu",
        "colab_type": "code",
        "colab": {
          "base_uri": "https://localhost:8080/",
          "height": 165
        },
        "outputId": "d8a58ecd-ab7d-4560-96e4-f223cb29a668"
      },
      "source": [
        "q5.iloc[[2899]]"
      ],
      "execution_count": 29,
      "outputs": [
        {
          "output_type": "execute_result",
          "data": {
            "text/html": [
              "<div>\n",
              "<style scoped>\n",
              "    .dataframe tbody tr th:only-of-type {\n",
              "        vertical-align: middle;\n",
              "    }\n",
              "\n",
              "    .dataframe tbody tr th {\n",
              "        vertical-align: top;\n",
              "    }\n",
              "\n",
              "    .dataframe thead th {\n",
              "        text-align: right;\n",
              "    }\n",
              "</style>\n",
              "<table border=\"1\" class=\"dataframe\">\n",
              "  <thead>\n",
              "    <tr style=\"text-align: right;\">\n",
              "      <th></th>\n",
              "      <th>Q5-Stressed about Adjustment issues</th>\n",
              "      <th>Q5-Stressed about Academic issues</th>\n",
              "      <th>Q5-Stressed about Financial issues</th>\n",
              "      <th>Q5-Stressed about Family issues</th>\n",
              "      <th>Q5-Stressed about Friendships</th>\n",
              "      <th>Q5-Stressed about Romantic relationships</th>\n",
              "      <th>Q5-Stressed about  Health related issues</th>\n",
              "      <th>Q5-Stressed about Career related issues</th>\n",
              "      <th>Q5-Stressed about My involvement in hostel, clubs, societies, interest groups, etc.</th>\n",
              "      <th>Q5-Stressed about Others</th>\n",
              "    </tr>\n",
              "  </thead>\n",
              "  <tbody>\n",
              "    <tr>\n",
              "      <th>2899</th>\n",
              "      <td>1</td>\n",
              "      <td>1</td>\n",
              "      <td>1</td>\n",
              "      <td>1</td>\n",
              "      <td>1</td>\n",
              "      <td>0</td>\n",
              "      <td>1</td>\n",
              "      <td>1</td>\n",
              "      <td>1</td>\n",
              "      <td>1</td>\n",
              "    </tr>\n",
              "  </tbody>\n",
              "</table>\n",
              "</div>"
            ],
            "text/plain": [
              "      Q5-Stressed about Adjustment issues  ...  Q5-Stressed about Others\n",
              "2899                                    1  ...                         1\n",
              "\n",
              "[1 rows x 10 columns]"
            ]
          },
          "metadata": {
            "tags": []
          },
          "execution_count": 29
        }
      ]
    },
    {
      "cell_type": "code",
      "metadata": {
        "id": "WBzZbGh1qm1F",
        "colab_type": "code",
        "colab": {
          "base_uri": "https://localhost:8080/",
          "height": 165
        },
        "outputId": "7d454bd3-0340-47de-b62e-ddacb50c68eb"
      },
      "source": [
        "q5.iloc[[0]]"
      ],
      "execution_count": 30,
      "outputs": [
        {
          "output_type": "execute_result",
          "data": {
            "text/html": [
              "<div>\n",
              "<style scoped>\n",
              "    .dataframe tbody tr th:only-of-type {\n",
              "        vertical-align: middle;\n",
              "    }\n",
              "\n",
              "    .dataframe tbody tr th {\n",
              "        vertical-align: top;\n",
              "    }\n",
              "\n",
              "    .dataframe thead th {\n",
              "        text-align: right;\n",
              "    }\n",
              "</style>\n",
              "<table border=\"1\" class=\"dataframe\">\n",
              "  <thead>\n",
              "    <tr style=\"text-align: right;\">\n",
              "      <th></th>\n",
              "      <th>Q5-Stressed about Adjustment issues</th>\n",
              "      <th>Q5-Stressed about Academic issues</th>\n",
              "      <th>Q5-Stressed about Financial issues</th>\n",
              "      <th>Q5-Stressed about Family issues</th>\n",
              "      <th>Q5-Stressed about Friendships</th>\n",
              "      <th>Q5-Stressed about Romantic relationships</th>\n",
              "      <th>Q5-Stressed about  Health related issues</th>\n",
              "      <th>Q5-Stressed about Career related issues</th>\n",
              "      <th>Q5-Stressed about My involvement in hostel, clubs, societies, interest groups, etc.</th>\n",
              "      <th>Q5-Stressed about Others</th>\n",
              "    </tr>\n",
              "  </thead>\n",
              "  <tbody>\n",
              "    <tr>\n",
              "      <th>0</th>\n",
              "      <td>0</td>\n",
              "      <td>1</td>\n",
              "      <td>0</td>\n",
              "      <td>0</td>\n",
              "      <td>0</td>\n",
              "      <td>0</td>\n",
              "      <td>0</td>\n",
              "      <td>0</td>\n",
              "      <td>0</td>\n",
              "      <td>0</td>\n",
              "    </tr>\n",
              "  </tbody>\n",
              "</table>\n",
              "</div>"
            ],
            "text/plain": [
              "   Q5-Stressed about Adjustment issues  ...  Q5-Stressed about Others\n",
              "0                                    0  ...                         0\n",
              "\n",
              "[1 rows x 10 columns]"
            ]
          },
          "metadata": {
            "tags": []
          },
          "execution_count": 30
        }
      ]
    }
  ]
}