{
  "nbformat": 4,
  "nbformat_minor": 0,
  "metadata": {
    "kernelspec": {
      "display_name": "Python 3",
      "language": "python",
      "name": "python3"
    },
    "language_info": {
      "codemirror_mode": {
        "name": "ipython",
        "version": 3
      },
      "file_extension": ".py",
      "mimetype": "text/x-python",
      "name": "python",
      "nbconvert_exporter": "python",
      "pygments_lexer": "ipython3",
      "version": "3.7.0"
    },
    "colab": {
      "name": "Day 27 Lecture 2 Assignment.ipynb",
      "provenance": [],
      "collapsed_sections": []
    }
  },
  "cells": [
    {
      "cell_type": "markdown",
      "metadata": {
        "id": "y9vyvVFH6eJX",
        "colab_type": "text"
      },
      "source": [
        "## Day 27 Lecture 2 Assignment\n",
        "\n",
        "In this assignment, we will learn about interpreting linear models. We will use the google play store dataset loaded below and analyze the regression from this dataset."
      ]
    },
    {
      "cell_type": "code",
      "metadata": {
        "id": "es0KRXYh6eJX",
        "colab_type": "code",
        "colab": {}
      },
      "source": [
        "%matplotlib inline\n",
        "\n",
        "import matplotlib.pyplot as plt\n",
        "import numpy as np\n",
        "import pandas as pd"
      ],
      "execution_count": 0,
      "outputs": []
    },
    {
      "cell_type": "code",
      "metadata": {
        "id": "OBA55N6J6eJa",
        "colab_type": "code",
        "colab": {}
      },
      "source": [
        "reviews = pd.read_csv('https://tf-assets-prod.s3.amazonaws.com/tf-curric/data-science/googleplaystore.csv')"
      ],
      "execution_count": 0,
      "outputs": []
    },
    {
      "cell_type": "code",
      "metadata": {
        "id": "5VqhV25B6eJb",
        "colab_type": "code",
        "outputId": "0e045cee-6d01-4ef4-9bee-063465b72af5",
        "colab": {
          "base_uri": "https://localhost:8080/",
          "height": 313
        }
      },
      "source": [
        "reviews.head()"
      ],
      "execution_count": 7,
      "outputs": [
        {
          "output_type": "execute_result",
          "data": {
            "text/html": [
              "<div>\n",
              "<style scoped>\n",
              "    .dataframe tbody tr th:only-of-type {\n",
              "        vertical-align: middle;\n",
              "    }\n",
              "\n",
              "    .dataframe tbody tr th {\n",
              "        vertical-align: top;\n",
              "    }\n",
              "\n",
              "    .dataframe thead th {\n",
              "        text-align: right;\n",
              "    }\n",
              "</style>\n",
              "<table border=\"1\" class=\"dataframe\">\n",
              "  <thead>\n",
              "    <tr style=\"text-align: right;\">\n",
              "      <th></th>\n",
              "      <th>App</th>\n",
              "      <th>Category</th>\n",
              "      <th>Rating</th>\n",
              "      <th>Reviews</th>\n",
              "      <th>Size</th>\n",
              "      <th>Installs</th>\n",
              "      <th>Type</th>\n",
              "      <th>Price</th>\n",
              "      <th>Content Rating</th>\n",
              "      <th>Genres</th>\n",
              "      <th>Last Updated</th>\n",
              "      <th>Current Ver</th>\n",
              "      <th>Android Ver</th>\n",
              "    </tr>\n",
              "  </thead>\n",
              "  <tbody>\n",
              "    <tr>\n",
              "      <th>0</th>\n",
              "      <td>Photo Editor &amp; Candy Camera &amp; Grid &amp; ScrapBook</td>\n",
              "      <td>ART_AND_DESIGN</td>\n",
              "      <td>4.1</td>\n",
              "      <td>159</td>\n",
              "      <td>19M</td>\n",
              "      <td>10,000+</td>\n",
              "      <td>Free</td>\n",
              "      <td>0</td>\n",
              "      <td>Everyone</td>\n",
              "      <td>Art &amp; Design</td>\n",
              "      <td>January 7, 2018</td>\n",
              "      <td>1.0.0</td>\n",
              "      <td>4.0.3 and up</td>\n",
              "    </tr>\n",
              "    <tr>\n",
              "      <th>1</th>\n",
              "      <td>Coloring book moana</td>\n",
              "      <td>ART_AND_DESIGN</td>\n",
              "      <td>3.9</td>\n",
              "      <td>967</td>\n",
              "      <td>14M</td>\n",
              "      <td>500,000+</td>\n",
              "      <td>Free</td>\n",
              "      <td>0</td>\n",
              "      <td>Everyone</td>\n",
              "      <td>Art &amp; Design;Pretend Play</td>\n",
              "      <td>January 15, 2018</td>\n",
              "      <td>2.0.0</td>\n",
              "      <td>4.0.3 and up</td>\n",
              "    </tr>\n",
              "    <tr>\n",
              "      <th>2</th>\n",
              "      <td>U Launcher Lite – FREE Live Cool Themes, Hide ...</td>\n",
              "      <td>ART_AND_DESIGN</td>\n",
              "      <td>4.7</td>\n",
              "      <td>87510</td>\n",
              "      <td>8.7M</td>\n",
              "      <td>5,000,000+</td>\n",
              "      <td>Free</td>\n",
              "      <td>0</td>\n",
              "      <td>Everyone</td>\n",
              "      <td>Art &amp; Design</td>\n",
              "      <td>August 1, 2018</td>\n",
              "      <td>1.2.4</td>\n",
              "      <td>4.0.3 and up</td>\n",
              "    </tr>\n",
              "    <tr>\n",
              "      <th>3</th>\n",
              "      <td>Sketch - Draw &amp; Paint</td>\n",
              "      <td>ART_AND_DESIGN</td>\n",
              "      <td>4.5</td>\n",
              "      <td>215644</td>\n",
              "      <td>25M</td>\n",
              "      <td>50,000,000+</td>\n",
              "      <td>Free</td>\n",
              "      <td>0</td>\n",
              "      <td>Teen</td>\n",
              "      <td>Art &amp; Design</td>\n",
              "      <td>June 8, 2018</td>\n",
              "      <td>Varies with device</td>\n",
              "      <td>4.2 and up</td>\n",
              "    </tr>\n",
              "    <tr>\n",
              "      <th>4</th>\n",
              "      <td>Pixel Draw - Number Art Coloring Book</td>\n",
              "      <td>ART_AND_DESIGN</td>\n",
              "      <td>4.3</td>\n",
              "      <td>967</td>\n",
              "      <td>2.8M</td>\n",
              "      <td>100,000+</td>\n",
              "      <td>Free</td>\n",
              "      <td>0</td>\n",
              "      <td>Everyone</td>\n",
              "      <td>Art &amp; Design;Creativity</td>\n",
              "      <td>June 20, 2018</td>\n",
              "      <td>1.1</td>\n",
              "      <td>4.4 and up</td>\n",
              "    </tr>\n",
              "  </tbody>\n",
              "</table>\n",
              "</div>"
            ],
            "text/plain": [
              "                                                 App  ...   Android Ver\n",
              "0     Photo Editor & Candy Camera & Grid & ScrapBook  ...  4.0.3 and up\n",
              "1                                Coloring book moana  ...  4.0.3 and up\n",
              "2  U Launcher Lite – FREE Live Cool Themes, Hide ...  ...  4.0.3 and up\n",
              "3                              Sketch - Draw & Paint  ...    4.2 and up\n",
              "4              Pixel Draw - Number Art Coloring Book  ...    4.4 and up\n",
              "\n",
              "[5 rows x 13 columns]"
            ]
          },
          "metadata": {
            "tags": []
          },
          "execution_count": 7
        }
      ]
    },
    {
      "cell_type": "markdown",
      "metadata": {
        "id": "srZ40Wiq6eJd",
        "colab_type": "text"
      },
      "source": [
        "We will predict app ratings using other features describing the app. Recall from the previous assignment our data cleansing steps and do the following:\n",
        "\n",
        "1. Remove the following columns: app, category, size, installs, genres, last updated, current ver, android ver\n",
        "2. Convert all columns to numeric and remove rows where this conversion causes null values\n",
        "3. Split the data into test and train subsets with 25% of the data in the test set"
      ]
    },
    {
      "cell_type": "code",
      "metadata": {
        "id": "Hs1f9VDy1A7B",
        "colab_type": "code",
        "colab": {
          "base_uri": "https://localhost:8080/",
          "height": 84
        },
        "outputId": "322492f2-d414-4ef8-de47-99ce193565da"
      },
      "source": [
        "reviews.columns"
      ],
      "execution_count": 4,
      "outputs": [
        {
          "output_type": "execute_result",
          "data": {
            "text/plain": [
              "Index(['App', 'Category', 'Rating', 'Reviews', 'Size', 'Installs', 'Type',\n",
              "       'Price', 'Content Rating', 'Genres', 'Last Updated', 'Current Ver',\n",
              "       'Android Ver'],\n",
              "      dtype='object')"
            ]
          },
          "metadata": {
            "tags": []
          },
          "execution_count": 4
        }
      ]
    },
    {
      "cell_type": "code",
      "metadata": {
        "id": "zwlngFVS6eJe",
        "colab_type": "code",
        "colab": {}
      },
      "source": [
        "# answer below:\n",
        "reviews.drop(['App', 'Category', 'Size',  'Genres', 'Last Updated', 'Current Ver', 'Android Ver'], inplace=True, axis=1)\n"
      ],
      "execution_count": 0,
      "outputs": []
    },
    {
      "cell_type": "code",
      "metadata": {
        "id": "H9ZRweCs12Cu",
        "colab_type": "code",
        "colab": {}
      },
      "source": [
        "reviews.drop(10472, axis=0, inplace=True)"
      ],
      "execution_count": 0,
      "outputs": []
    },
    {
      "cell_type": "code",
      "metadata": {
        "id": "FLO88PDA1VeI",
        "colab_type": "code",
        "colab": {
          "base_uri": "https://localhost:8080/",
          "height": 201
        },
        "outputId": "b2a8e806-4227-4acf-975e-a53c8ab07e5f"
      },
      "source": [
        "reviews.info()\n",
        "reviews['Reviews'] = pd.to_numeric(reviews['Reviews'])\n",
        "reviews = reviews[reviews['Reviews'].astype(str).str.isnumeric()]\n",
        "\n",
        "reviews['Price']= reviews['Price'].apply(lambda x: float(x.replace('$','')))  "
      ],
      "execution_count": 54,
      "outputs": [
        {
          "output_type": "stream",
          "text": [
            "<class 'pandas.core.frame.DataFrame'>\n",
            "Int64Index: 10840 entries, 0 to 10840\n",
            "Data columns (total 6 columns):\n",
            "Rating            9366 non-null float64\n",
            "Reviews           10840 non-null object\n",
            "Installs          10840 non-null object\n",
            "Type              10839 non-null object\n",
            "Price             10840 non-null object\n",
            "Content Rating    10840 non-null object\n",
            "dtypes: float64(1), object(5)\n",
            "memory usage: 592.8+ KB\n"
          ],
          "name": "stdout"
        }
      ]
    },
    {
      "cell_type": "code",
      "metadata": {
        "id": "1PzSEtWg7aub",
        "colab_type": "code",
        "colab": {
          "base_uri": "https://localhost:8080/",
          "height": 184
        },
        "outputId": "82db9742-2848-454f-de0c-d3a9b204d9e1"
      },
      "source": [
        "reviews.info()"
      ],
      "execution_count": 50,
      "outputs": [
        {
          "output_type": "stream",
          "text": [
            "<class 'pandas.core.frame.DataFrame'>\n",
            "Int64Index: 9366 entries, 0 to 10840\n",
            "Data columns (total 5 columns):\n",
            "Rating            9366 non-null float64\n",
            "Reviews           9366 non-null int64\n",
            "Type              9366 non-null object\n",
            "Price             9366 non-null float64\n",
            "Content Rating    9366 non-null object\n",
            "dtypes: float64(2), int64(1), object(2)\n",
            "memory usage: 439.0+ KB\n"
          ],
          "name": "stdout"
        }
      ]
    },
    {
      "cell_type": "code",
      "metadata": {
        "id": "NUUtA5PE65Jt",
        "colab_type": "code",
        "colab": {}
      },
      "source": [
        "reviews['Installs']= reviews['Installs'].apply(lambda y: y.replace(',','').replace('+',''))  "
      ],
      "execution_count": 0,
      "outputs": []
    },
    {
      "cell_type": "code",
      "metadata": {
        "id": "-dq_47km7oMz",
        "colab_type": "code",
        "colab": {}
      },
      "source": [
        "reviews = reviews[reviews['Installs'].astype(str).str.isnumeric()]\n",
        "reviews['Installs'] = pd.to_numeric(reviews['Installs'])"
      ],
      "execution_count": 0,
      "outputs": []
    },
    {
      "cell_type": "code",
      "metadata": {
        "id": "VWBMD4UC2D6A",
        "colab_type": "code",
        "colab": {
          "base_uri": "https://localhost:8080/",
          "height": 201
        },
        "outputId": "cc594252-92fd-4889-aa14-0977367a1039"
      },
      "source": [
        "reviews.dropna(inplace=True)\n",
        "reviews.info()"
      ],
      "execution_count": 58,
      "outputs": [
        {
          "output_type": "stream",
          "text": [
            "<class 'pandas.core.frame.DataFrame'>\n",
            "Int64Index: 9366 entries, 0 to 10840\n",
            "Data columns (total 6 columns):\n",
            "Rating            9366 non-null float64\n",
            "Reviews           9366 non-null int64\n",
            "Installs          9366 non-null int64\n",
            "Type              9366 non-null object\n",
            "Price             9366 non-null float64\n",
            "Content Rating    9366 non-null object\n",
            "dtypes: float64(2), int64(2), object(2)\n",
            "memory usage: 512.2+ KB\n"
          ],
          "name": "stdout"
        }
      ]
    },
    {
      "cell_type": "code",
      "metadata": {
        "id": "WBvVj1sF2O8h",
        "colab_type": "code",
        "colab": {}
      },
      "source": [
        "type_dummy = pd.get_dummies(reviews['Type'],prefix = 'type', drop_first = True)\n",
        "content_rating_dummy = pd.get_dummies(reviews['Content Rating'], prefix = 'rating', drop_first = True)\n",
        "df = pd.concat([reviews, type_dummy,content_rating_dummy], axis = 1)"
      ],
      "execution_count": 0,
      "outputs": []
    },
    {
      "cell_type": "code",
      "metadata": {
        "id": "7mnJQ45L2yF4",
        "colab_type": "code",
        "colab": {}
      },
      "source": [
        "df.drop(['Content Rating','Type'], axis=1, inplace=True)"
      ],
      "execution_count": 0,
      "outputs": []
    },
    {
      "cell_type": "code",
      "metadata": {
        "id": "jOA54UtM2YDy",
        "colab_type": "code",
        "colab": {
          "base_uri": "https://localhost:8080/",
          "height": 656
        },
        "outputId": "d2645811-2328-445a-be7e-250579d23302"
      },
      "source": [
        "import statsmodels.api as sm\n",
        "from sklearn.model_selection import train_test_split\n",
        "\n",
        "X = df.drop(columns = 'Rating')\n",
        "y = df['Rating']\n",
        "\n",
        "X_train, X_test, y_train, y_test = train_test_split(X, y, test_size = 0.25)\n",
        "X = sm.add_constant(X)\n",
        "results = sm.OLS(y, X).fit()\n",
        "print(results.summary())"
      ],
      "execution_count": 62,
      "outputs": [
        {
          "output_type": "stream",
          "text": [
            "                            OLS Regression Results                            \n",
            "==============================================================================\n",
            "Dep. Variable:                 Rating   R-squared:                       0.009\n",
            "Model:                            OLS   Adj. R-squared:                  0.009\n",
            "Method:                 Least Squares   F-statistic:                     9.923\n",
            "Date:                Tue, 05 Nov 2019   Prob (F-statistic):           2.69e-15\n",
            "Time:                        18:59:11   Log-Likelihood:                -7033.6\n",
            "No. Observations:                9366   AIC:                         1.409e+04\n",
            "Df Residuals:                    9356   BIC:                         1.416e+04\n",
            "Df Model:                           9                                         \n",
            "Covariance Type:            nonrobust                                         \n",
            "=======================================================================================\n",
            "                          coef    std err          t      P>|t|      [0.025      0.975]\n",
            "---------------------------------------------------------------------------------------\n",
            "const                   4.2997      0.296     14.516      0.000       3.719       4.880\n",
            "Reviews              9.403e-09   2.21e-09      4.261      0.000    5.08e-09    1.37e-08\n",
            "Installs             8.027e-11   7.58e-11      1.059      0.290   -6.84e-11    2.29e-10\n",
            "Price                  -0.0010      0.000     -3.051      0.002      -0.002      -0.000\n",
            "type_Paid               0.1017      0.022      4.731      0.000       0.060       0.144\n",
            "rating_Everyone        -0.1245      0.296     -0.420      0.674      -0.705       0.456\n",
            "rating_Everyone 10+    -0.0694      0.297     -0.234      0.815      -0.652       0.513\n",
            "rating_Mature 17+      -0.1847      0.297     -0.622      0.534      -0.767       0.398\n",
            "rating_Teen            -0.0822      0.297     -0.277      0.782      -0.664       0.499\n",
            "rating_Unrated         -0.1997      0.592     -0.337      0.736      -1.361       0.962\n",
            "==============================================================================\n",
            "Omnibus:                     3663.720   Durbin-Watson:                   1.774\n",
            "Prob(Omnibus):                  0.000   Jarque-Bera (JB):            18433.140\n",
            "Skew:                          -1.838   Prob(JB):                         0.00\n",
            "Kurtosis:                       8.807   Cond. No.                     1.35e+10\n",
            "==============================================================================\n",
            "\n",
            "Warnings:\n",
            "[1] Standard Errors assume that the covariance matrix of the errors is correctly specified.\n",
            "[2] The condition number is large, 1.35e+10. This might indicate that there are\n",
            "strong multicollinearity or other numerical problems.\n"
          ],
          "name": "stdout"
        },
        {
          "output_type": "stream",
          "text": [
            "/usr/local/lib/python3.6/dist-packages/numpy/core/fromnumeric.py:2495: FutureWarning: Method .ptp is deprecated and will be removed in a future version. Use numpy.ptp instead.\n",
            "  return ptp(axis=axis, out=out, **kwargs)\n"
          ],
          "name": "stderr"
        }
      ]
    },
    {
      "cell_type": "code",
      "metadata": {
        "id": "BC3uw7AK3DOj",
        "colab_type": "code",
        "colab": {}
      },
      "source": [
        "predict = results.predict(X)\n",
        "error =y -predict"
      ],
      "execution_count": 0,
      "outputs": []
    },
    {
      "cell_type": "markdown",
      "metadata": {
        "id": "dUPnRE0T6eJf",
        "colab_type": "text"
      },
      "source": [
        "Check model assumptions of homoscedacity, normality of errors, and multicollinearity"
      ]
    },
    {
      "cell_type": "code",
      "metadata": {
        "id": "80m0MSYv6eJg",
        "colab_type": "code",
        "colab": {
          "base_uri": "https://localhost:8080/",
          "height": 33
        },
        "outputId": "be29666a-afe8-4504-b725-b0cec4559451"
      },
      "source": [
        "#answer below:\n",
        "error.mean()\n"
      ],
      "execution_count": 26,
      "outputs": [
        {
          "output_type": "execute_result",
          "data": {
            "text/plain": [
              "7.592847744709839e-13"
            ]
          },
          "metadata": {
            "tags": []
          },
          "execution_count": 26
        }
      ]
    },
    {
      "cell_type": "code",
      "metadata": {
        "id": "OZVCmw8T3UJ-",
        "colab_type": "code",
        "colab": {
          "base_uri": "https://localhost:8080/",
          "height": 50
        },
        "outputId": "13407189-0569-4480-d7be-80ace7085351"
      },
      "source": [
        "from scipy.stats import bartlett\n",
        "from scipy.stats import levene\n",
        "\n",
        "bart_stats = bartlett(predict,error)\n",
        "lev_stats = levene(predict,error)\n",
        "\n",
        "print(bart_stats)\n",
        "print(lev_stats)"
      ],
      "execution_count": 29,
      "outputs": [
        {
          "output_type": "stream",
          "text": [
            "BartlettResult(statistic=32971.51146247678, pvalue=0.0)\n",
            "LeveneResult(statistic=6554.491690879923, pvalue=0.0)\n"
          ],
          "name": "stdout"
        }
      ]
    },
    {
      "cell_type": "code",
      "metadata": {
        "id": "hwlY_agn3hkd",
        "colab_type": "code",
        "colab": {
          "base_uri": "https://localhost:8080/",
          "height": 50
        },
        "outputId": "9082e4b9-892c-4ea2-8b64-55380dd9c73a"
      },
      "source": [
        "from scipy.stats import jarque_bera\n",
        "from scipy.stats import normaltest\n",
        "\n",
        "jb_stats = jarque_bera(error)\n",
        "norm_stats = normaltest(error)\n",
        "\n",
        "print(jb_stats)\n",
        "print(norm_stats)"
      ],
      "execution_count": 31,
      "outputs": [
        {
          "output_type": "stream",
          "text": [
            "(18727.143880593478, 0.0)\n",
            "NormaltestResult(statistic=3694.67404967249, pvalue=0.0)\n"
          ],
          "name": "stdout"
        }
      ]
    },
    {
      "cell_type": "code",
      "metadata": {
        "id": "p1DILPgT32A9",
        "colab_type": "code",
        "colab": {
          "base_uri": "https://localhost:8080/",
          "height": 350
        },
        "outputId": "66d7353b-696a-437a-e83c-92868e9e1ca6"
      },
      "source": [
        "rand_nums = np.random.normal(np.mean(error), np.std(error), len(error))\n",
        "\n",
        "min1 = int(rand_nums.min())\n",
        "max1 = int(rand_nums.max())\n",
        "\n",
        "plt.figure(figsize=(12,5))\n",
        "\n",
        "plt.subplot(1,2,1)\n",
        "plt.scatter(np.sort(rand_nums), np.sort(error))\n",
        "plt.plot(range(min1,max1),range(min1,max1), color='r')\n",
        "plt.xlabel(\"the normally distributed random variable\")\n",
        "plt.ylabel(\"errors of the model\")\n",
        "plt.title(\"QQ plot\")\n",
        "plt.show()\n"
      ],
      "execution_count": 32,
      "outputs": [
        {
          "output_type": "display_data",
          "data": {
            "image/png": "[encoded data removed]",
            "text/plain": [
              "<Figure size 864x360 with 1 Axes>"
            ]
          },
          "metadata": {
            "tags": []
          }
        }
      ]
    },
    {
      "cell_type": "code",
      "metadata": {
        "id": "4Nq0AKbw4FyM",
        "colab_type": "code",
        "colab": {
          "base_uri": "https://localhost:8080/",
          "height": 166
        },
        "outputId": "25ae3fbd-de18-4178-8fb3-579235adbb88"
      },
      "source": [
        "X.corr()"
      ],
      "execution_count": 33,
      "outputs": [
        {
          "output_type": "execute_result",
          "data": {
            "text/html": [
              "<div>\n",
              "<style scoped>\n",
              "    .dataframe tbody tr th:only-of-type {\n",
              "        vertical-align: middle;\n",
              "    }\n",
              "\n",
              "    .dataframe tbody tr th {\n",
              "        vertical-align: top;\n",
              "    }\n",
              "\n",
              "    .dataframe thead th {\n",
              "        text-align: right;\n",
              "    }\n",
              "</style>\n",
              "<table border=\"1\" class=\"dataframe\">\n",
              "  <thead>\n",
              "    <tr style=\"text-align: right;\">\n",
              "      <th></th>\n",
              "      <th>const</th>\n",
              "      <th>Reviews</th>\n",
              "      <th>Price</th>\n",
              "      <th>type_Paid</th>\n",
              "    </tr>\n",
              "  </thead>\n",
              "  <tbody>\n",
              "    <tr>\n",
              "      <th>const</th>\n",
              "      <td>NaN</td>\n",
              "      <td>NaN</td>\n",
              "      <td>NaN</td>\n",
              "      <td>NaN</td>\n",
              "    </tr>\n",
              "    <tr>\n",
              "      <th>Reviews</th>\n",
              "      <td>NaN</td>\n",
              "      <td>1.00000</td>\n",
              "      <td>-0.00982</td>\n",
              "      <td>-0.04329</td>\n",
              "    </tr>\n",
              "    <tr>\n",
              "      <th>Price</th>\n",
              "      <td>NaN</td>\n",
              "      <td>-0.00982</td>\n",
              "      <td>1.00000</td>\n",
              "      <td>0.22304</td>\n",
              "    </tr>\n",
              "    <tr>\n",
              "      <th>type_Paid</th>\n",
              "      <td>NaN</td>\n",
              "      <td>-0.04329</td>\n",
              "      <td>0.22304</td>\n",
              "      <td>1.00000</td>\n",
              "    </tr>\n",
              "  </tbody>\n",
              "</table>\n",
              "</div>"
            ],
            "text/plain": [
              "           const  Reviews    Price  type_Paid\n",
              "const        NaN      NaN      NaN        NaN\n",
              "Reviews      NaN  1.00000 -0.00982   -0.04329\n",
              "Price        NaN -0.00982  1.00000    0.22304\n",
              "type_Paid    NaN -0.04329  0.22304    1.00000"
            ]
          },
          "metadata": {
            "tags": []
          },
          "execution_count": 33
        }
      ]
    },
    {
      "cell_type": "markdown",
      "metadata": {
        "id": "jW_d2dka6eJh",
        "colab_type": "text"
      },
      "source": [
        "Using the information above, try to select only the variables you think will lead to a better model and construct that model. Print out a summary"
      ]
    },
    {
      "cell_type": "code",
      "metadata": {
        "id": "zoaY3-Tu6eJi",
        "colab_type": "code",
        "colab": {
          "base_uri": "https://localhost:8080/",
          "height": 492
        },
        "outputId": "da825704-a110-41a2-9779-9685a18657fd"
      },
      "source": [
        "#answer below:\n",
        "\n",
        "results.summary()"
      ],
      "execution_count": 34,
      "outputs": [
        {
          "output_type": "execute_result",
          "data": {
            "text/html": [
              "<table class=\"simpletable\">\n",
              "<caption>OLS Regression Results</caption>\n",
              "<tr>\n",
              "  <th>Dep. Variable:</th>         <td>Rating</td>      <th>  R-squared:         </th> <td>   0.007</td> \n",
              "</tr>\n",
              "<tr>\n",
              "  <th>Model:</th>                   <td>OLS</td>       <th>  Adj. R-squared:    </th> <td>   0.007</td> \n",
              "</tr>\n",
              "<tr>\n",
              "  <th>Method:</th>             <td>Least Squares</td>  <th>  F-statistic:       </th> <td>   23.42</td> \n",
              "</tr>\n",
              "<tr>\n",
              "  <th>Date:</th>             <td>Tue, 05 Nov 2019</td> <th>  Prob (F-statistic):</th> <td>4.27e-15</td> \n",
              "</tr>\n",
              "<tr>\n",
              "  <th>Time:</th>                 <td>18:43:36</td>     <th>  Log-Likelihood:    </th> <td> -7043.1</td> \n",
              "</tr>\n",
              "<tr>\n",
              "  <th>No. Observations:</th>      <td>  9366</td>      <th>  AIC:               </th> <td>1.409e+04</td>\n",
              "</tr>\n",
              "<tr>\n",
              "  <th>Df Residuals:</th>          <td>  9362</td>      <th>  BIC:               </th> <td>1.412e+04</td>\n",
              "</tr>\n",
              "<tr>\n",
              "  <th>Df Model:</th>              <td>     3</td>      <th>                     </th>     <td> </td>    \n",
              "</tr>\n",
              "<tr>\n",
              "  <th>Covariance Type:</th>      <td>nonrobust</td>    <th>                     </th>     <td> </td>    \n",
              "</tr>\n",
              "</table>\n",
              "<table class=\"simpletable\">\n",
              "<tr>\n",
              "      <td></td>         <th>coef</th>     <th>std err</th>      <th>t</th>      <th>P>|t|</th>  <th>[0.025</th>    <th>0.975]</th>  \n",
              "</tr>\n",
              "<tr>\n",
              "  <th>const</th>     <td>    4.1799</td> <td>    0.006</td> <td>  749.589</td> <td> 0.000</td> <td>    4.169</td> <td>    4.191</td>\n",
              "</tr>\n",
              "<tr>\n",
              "  <th>Reviews</th>   <td> 1.147e-08</td> <td> 1.69e-09</td> <td>    6.790</td> <td> 0.000</td> <td> 8.16e-09</td> <td> 1.48e-08</td>\n",
              "</tr>\n",
              "<tr>\n",
              "  <th>Price</th>     <td>   -0.0011</td> <td>    0.000</td> <td>   -3.061</td> <td> 0.002</td> <td>   -0.002</td> <td>   -0.000</td>\n",
              "</tr>\n",
              "<tr>\n",
              "  <th>type_Paid</th> <td>    0.1012</td> <td>    0.021</td> <td>    4.713</td> <td> 0.000</td> <td>    0.059</td> <td>    0.143</td>\n",
              "</tr>\n",
              "</table>\n",
              "<table class=\"simpletable\">\n",
              "<tr>\n",
              "  <th>Omnibus:</th>       <td>3694.674</td> <th>  Durbin-Watson:     </th> <td>   1.771</td> \n",
              "</tr>\n",
              "<tr>\n",
              "  <th>Prob(Omnibus):</th>  <td> 0.000</td>  <th>  Jarque-Bera (JB):  </th> <td>18727.144</td>\n",
              "</tr>\n",
              "<tr>\n",
              "  <th>Skew:</th>           <td>-1.853</td>  <th>  Prob(JB):          </th> <td>    0.00</td> \n",
              "</tr>\n",
              "<tr>\n",
              "  <th>Kurtosis:</th>       <td> 8.852</td>  <th>  Cond. No.          </th> <td>1.29e+07</td> \n",
              "</tr>\n",
              "</table><br/><br/>Warnings:<br/>[1] Standard Errors assume that the covariance matrix of the errors is correctly specified.<br/>[2] The condition number is large, 1.29e+07. This might indicate that there are<br/>strong multicollinearity or other numerical problems."
            ],
            "text/plain": [
              "<class 'statsmodels.iolib.summary.Summary'>\n",
              "\"\"\"\n",
              "                            OLS Regression Results                            \n",
              "==============================================================================\n",
              "Dep. Variable:                 Rating   R-squared:                       0.007\n",
              "Model:                            OLS   Adj. R-squared:                  0.007\n",
              "Method:                 Least Squares   F-statistic:                     23.42\n",
              "Date:                Tue, 05 Nov 2019   Prob (F-statistic):           4.27e-15\n",
              "Time:                        18:43:36   Log-Likelihood:                -7043.1\n",
              "No. Observations:                9366   AIC:                         1.409e+04\n",
              "Df Residuals:                    9362   BIC:                         1.412e+04\n",
              "Df Model:                           3                                         \n",
              "Covariance Type:            nonrobust                                         \n",
              "==============================================================================\n",
              "                 coef    std err          t      P>|t|      [0.025      0.975]\n",
              "------------------------------------------------------------------------------\n",
              "const          4.1799      0.006    749.589      0.000       4.169       4.191\n",
              "Reviews     1.147e-08   1.69e-09      6.790      0.000    8.16e-09    1.48e-08\n",
              "Price         -0.0011      0.000     -3.061      0.002      -0.002      -0.000\n",
              "type_Paid      0.1012      0.021      4.713      0.000       0.059       0.143\n",
              "==============================================================================\n",
              "Omnibus:                     3694.674   Durbin-Watson:                   1.771\n",
              "Prob(Omnibus):                  0.000   Jarque-Bera (JB):            18727.144\n",
              "Skew:                          -1.853   Prob(JB):                         0.00\n",
              "Kurtosis:                       8.852   Cond. No.                     1.29e+07\n",
              "==============================================================================\n",
              "\n",
              "Warnings:\n",
              "[1] Standard Errors assume that the covariance matrix of the errors is correctly specified.\n",
              "[2] The condition number is large, 1.29e+07. This might indicate that there are\n",
              "strong multicollinearity or other numerical problems.\n",
              "\"\"\""
            ]
          },
          "metadata": {
            "tags": []
          },
          "execution_count": 34
        }
      ]
    },
    {
      "cell_type": "code",
      "metadata": {
        "id": "XJgknCjY4fSi",
        "colab_type": "code",
        "colab": {
          "base_uri": "https://localhost:8080/",
          "height": 639
        },
        "outputId": "c16b0425-04f4-4db1-d1c0-cd0ce7a36a12"
      },
      "source": [
        "X2 = df.drop(columns = ['Rating','Price'])\n",
        "y2 = df['Rating']\n",
        "\n",
        "X2_train, X2_test, y2_train, y2_test = train_test_split(X2, y2, test_size = 0.25)\n",
        "X2 = sm.add_constant(X2)\n",
        "results2 = sm.OLS(y2, X2).fit()\n",
        "print(results2.summary())"
      ],
      "execution_count": 64,
      "outputs": [
        {
          "output_type": "stream",
          "text": [
            "                            OLS Regression Results                            \n",
            "==============================================================================\n",
            "Dep. Variable:                 Rating   R-squared:                       0.008\n",
            "Model:                            OLS   Adj. R-squared:                  0.008\n",
            "Method:                 Least Squares   F-statistic:                     9.991\n",
            "Date:                Tue, 05 Nov 2019   Prob (F-statistic):           5.85e-14\n",
            "Time:                        18:59:42   Log-Likelihood:                -7038.3\n",
            "No. Observations:                9366   AIC:                         1.409e+04\n",
            "Df Residuals:                    9357   BIC:                         1.416e+04\n",
            "Df Model:                           8                                         \n",
            "Covariance Type:            nonrobust                                         \n",
            "=======================================================================================\n",
            "                          coef    std err          t      P>|t|      [0.025      0.975]\n",
            "---------------------------------------------------------------------------------------\n",
            "const                   4.2997      0.296     14.510      0.000       3.719       4.881\n",
            "Reviews              9.398e-09   2.21e-09      4.257      0.000    5.07e-09    1.37e-08\n",
            "Installs             8.032e-11   7.59e-11      1.059      0.290   -6.84e-11    2.29e-10\n",
            "type_Paid               0.0871      0.021      4.155      0.000       0.046       0.128\n",
            "rating_Everyone        -0.1246      0.296     -0.420      0.674      -0.706       0.456\n",
            "rating_Everyone 10+    -0.0686      0.297     -0.231      0.818      -0.652       0.514\n",
            "rating_Mature 17+      -0.1845      0.297     -0.620      0.535      -0.767       0.398\n",
            "rating_Teen            -0.0822      0.297     -0.277      0.782      -0.664       0.499\n",
            "rating_Unrated         -0.1997      0.593     -0.337      0.736      -1.361       0.962\n",
            "==============================================================================\n",
            "Omnibus:                     3652.380   Durbin-Watson:                   1.772\n",
            "Prob(Omnibus):                  0.000   Jarque-Bera (JB):            18286.053\n",
            "Skew:                          -1.833   Prob(JB):                         0.00\n",
            "Kurtosis:                       8.780   Cond. No.                     1.35e+10\n",
            "==============================================================================\n",
            "\n",
            "Warnings:\n",
            "[1] Standard Errors assume that the covariance matrix of the errors is correctly specified.\n",
            "[2] The condition number is large, 1.35e+10. This might indicate that there are\n",
            "strong multicollinearity or other numerical problems.\n"
          ],
          "name": "stdout"
        },
        {
          "output_type": "stream",
          "text": [
            "/usr/local/lib/python3.6/dist-packages/numpy/core/fromnumeric.py:2495: FutureWarning: Method .ptp is deprecated and will be removed in a future version. Use numpy.ptp instead.\n",
            "  return ptp(axis=axis, out=out, **kwargs)\n"
          ],
          "name": "stderr"
        }
      ]
    },
    {
      "cell_type": "markdown",
      "metadata": {
        "id": "Iwnmvf1K6eJj",
        "colab_type": "text"
      },
      "source": [
        "Plot the scatterplots between the independent variables you select and ratings. Do you think given this graph, these variables have good predictive power? "
      ]
    },
    {
      "cell_type": "code",
      "metadata": {
        "id": "KatwaTmW6eJk",
        "colab_type": "code",
        "colab": {}
      },
      "source": [
        "# answer below:\n",
        "import seaborn as sns\n"
      ],
      "execution_count": 0,
      "outputs": []
    },
    {
      "cell_type": "code",
      "metadata": {
        "id": "9mlks8-16eJl",
        "colab_type": "code",
        "colab": {
          "base_uri": "https://localhost:8080/",
          "height": 1000
        },
        "outputId": "63712500-0da6-403a-febe-3723790bc20e"
      },
      "source": [
        "for name  in  X2_train.columns:\n",
        "    sns.scatterplot(x= X2[name], y =y2)\n",
        "    plt.show();"
      ],
      "execution_count": 65,
      "outputs": [
        {
          "output_type": "display_data",
          "data": {
            "image/png": "[encoded data removed]",
            "text/plain": [
              "<Figure size 432x288 with 1 Axes>"
            ]
          },
          "metadata": {
            "tags": []
          }
        },
        {
          "output_type": "display_data",
          "data": {
            "image/png": "[encoded data removed]",
            "text/plain": [
              "<Figure size 432x288 with 1 Axes>"
            ]
          },
          "metadata": {
            "tags": []
          }
        },
        {
          "output_type": "display_data",
          "data": {
            "image/png": "[encoded data removed]",
            "text/plain": [
              "<Figure size 432x288 with 1 Axes>"
            ]
          },
          "metadata": {
            "tags": []
          }
        },
        {
          "output_type": "display_data",
          "data": {
            "image/png": "[encoded data removed]",
            "text/plain": [
              "<Figure size 432x288 with 1 Axes>"
            ]
          },
          "metadata": {
            "tags": []
          }
        },
        {
          "output_type": "display_data",
          "data": {
            "image/png": "[encoded data removed]",
            "text/plain": [
              "<Figure size 432x288 with 1 Axes>"
            ]
          },
          "metadata": {
            "tags": []
          }
        },
        {
          "output_type": "display_data",
          "data": {
            "image/png": "[encoded data removed]",
            "text/plain": [
              "<Figure size 432x288 with 1 Axes>"
            ]
          },
          "metadata": {
            "tags": []
          }
        },
        {
          "output_type": "display_data",
          "data": {
            "image/png": "[encoded data removed]",
            "text/plain": [
              "<Figure size 432x288 with 1 Axes>"
            ]
          },
          "metadata": {
            "tags": []
          }
        },
        {
          "output_type": "display_data",
          "data": {
            "image/png": "[encoded data removed]",
            "text/plain": [
              "<Figure size 432x288 with 1 Axes>"
            ]
          },
          "metadata": {
            "tags": []
          }
        }
      ]
    },
    {
      "cell_type": "code",
      "metadata": {
        "id": "rHU1_qnf5oIi",
        "colab_type": "code",
        "colab": {}
      },
      "source": [
        ""
      ],
      "execution_count": 0,
      "outputs": []
    }
  ]
}