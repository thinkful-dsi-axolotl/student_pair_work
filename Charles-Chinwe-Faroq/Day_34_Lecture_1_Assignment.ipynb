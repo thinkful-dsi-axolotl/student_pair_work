{
  "nbformat": 4,
  "nbformat_minor": 0,
  "metadata": {
    "kernelspec": {
      "display_name": "Python 3",
      "language": "python",
      "name": "python3"
    },
    "language_info": {
      "codemirror_mode": {
        "name": "ipython",
        "version": 3
      },
      "file_extension": ".py",
      "mimetype": "text/x-python",
      "name": "python",
      "nbconvert_exporter": "python",
      "pygments_lexer": "ipython3",
      "version": "3.7.0"
    },
    "colab": {
      "name": "Day 34 Lecture 1 Assignment.ipynb",
      "provenance": [],
      "collapsed_sections": []
    }
  },
  "cells": [
    {
      "cell_type": "markdown",
      "metadata": {
        "id": "ek_P857brqWQ",
        "colab_type": "text"
      },
      "source": [
        "## Day 34 Lecture 1 Assignment\n",
        "\n",
        "In this assignment, we will learn about SVR. We will use the absenteeism at work dataset loaded below and analyze the model generated for this dataset."
      ]
    },
    {
      "cell_type": "code",
      "metadata": {
        "id": "Y2OJAjVKrqWR",
        "colab_type": "code",
        "colab": {}
      },
      "source": [
        "%matplotlib inline\n",
        "\n",
        "import math\n",
        "\n",
        "import matplotlib.pyplot as plt\n",
        "import numpy as np\n",
        "import pandas as pd\n",
        "import warnings\n",
        "\n",
        "warnings.filterwarnings(action='ignore')"
      ],
      "execution_count": 0,
      "outputs": []
    },
    {
      "cell_type": "code",
      "metadata": {
        "id": "2xl3uos0rqWU",
        "colab_type": "code",
        "colab": {}
      },
      "source": [
        "absent = pd.read_csv('https://tf-assets-prod.s3.amazonaws.com/tf-curric/data-science/Absenteeism_at_work.csv', sep=';')"
      ],
      "execution_count": 0,
      "outputs": []
    },
    {
      "cell_type": "code",
      "metadata": {
        "id": "pZV57O_ZrqWV",
        "colab_type": "code",
        "outputId": "0a1a0a2f-9045-4ef8-8c06-7ca1b967b2e6",
        "colab": {
          "base_uri": "https://localhost:8080/",
          "height": 275
        }
      },
      "source": [
        "absent.head()"
      ],
      "execution_count": 0,
      "outputs": [
        {
          "output_type": "execute_result",
          "data": {
            "text/html": [
              "<div>\n",
              "<style scoped>\n",
              "    .dataframe tbody tr th:only-of-type {\n",
              "        vertical-align: middle;\n",
              "    }\n",
              "\n",
              "    .dataframe tbody tr th {\n",
              "        vertical-align: top;\n",
              "    }\n",
              "\n",
              "    .dataframe thead th {\n",
              "        text-align: right;\n",
              "    }\n",
              "</style>\n",
              "<table border=\"1\" class=\"dataframe\">\n",
              "  <thead>\n",
              "    <tr style=\"text-align: right;\">\n",
              "      <th></th>\n",
              "      <th>ID</th>\n",
              "      <th>Reason for absence</th>\n",
              "      <th>Month of absence</th>\n",
              "      <th>Day of the week</th>\n",
              "      <th>Seasons</th>\n",
              "      <th>Transportation expense</th>\n",
              "      <th>Distance from Residence to Work</th>\n",
              "      <th>Service time</th>\n",
              "      <th>Age</th>\n",
              "      <th>Work load Average/day</th>\n",
              "      <th>Hit target</th>\n",
              "      <th>Disciplinary failure</th>\n",
              "      <th>Education</th>\n",
              "      <th>Son</th>\n",
              "      <th>Social drinker</th>\n",
              "      <th>Social smoker</th>\n",
              "      <th>Pet</th>\n",
              "      <th>Weight</th>\n",
              "      <th>Height</th>\n",
              "      <th>Body mass index</th>\n",
              "      <th>Absenteeism time in hours</th>\n",
              "    </tr>\n",
              "  </thead>\n",
              "  <tbody>\n",
              "    <tr>\n",
              "      <th>0</th>\n",
              "      <td>11</td>\n",
              "      <td>26</td>\n",
              "      <td>7</td>\n",
              "      <td>3</td>\n",
              "      <td>1</td>\n",
              "      <td>289</td>\n",
              "      <td>36</td>\n",
              "      <td>13</td>\n",
              "      <td>33</td>\n",
              "      <td>239.554</td>\n",
              "      <td>97</td>\n",
              "      <td>0</td>\n",
              "      <td>1</td>\n",
              "      <td>2</td>\n",
              "      <td>1</td>\n",
              "      <td>0</td>\n",
              "      <td>1</td>\n",
              "      <td>90</td>\n",
              "      <td>172</td>\n",
              "      <td>30</td>\n",
              "      <td>4</td>\n",
              "    </tr>\n",
              "    <tr>\n",
              "      <th>1</th>\n",
              "      <td>36</td>\n",
              "      <td>0</td>\n",
              "      <td>7</td>\n",
              "      <td>3</td>\n",
              "      <td>1</td>\n",
              "      <td>118</td>\n",
              "      <td>13</td>\n",
              "      <td>18</td>\n",
              "      <td>50</td>\n",
              "      <td>239.554</td>\n",
              "      <td>97</td>\n",
              "      <td>1</td>\n",
              "      <td>1</td>\n",
              "      <td>1</td>\n",
              "      <td>1</td>\n",
              "      <td>0</td>\n",
              "      <td>0</td>\n",
              "      <td>98</td>\n",
              "      <td>178</td>\n",
              "      <td>31</td>\n",
              "      <td>0</td>\n",
              "    </tr>\n",
              "    <tr>\n",
              "      <th>2</th>\n",
              "      <td>3</td>\n",
              "      <td>23</td>\n",
              "      <td>7</td>\n",
              "      <td>4</td>\n",
              "      <td>1</td>\n",
              "      <td>179</td>\n",
              "      <td>51</td>\n",
              "      <td>18</td>\n",
              "      <td>38</td>\n",
              "      <td>239.554</td>\n",
              "      <td>97</td>\n",
              "      <td>0</td>\n",
              "      <td>1</td>\n",
              "      <td>0</td>\n",
              "      <td>1</td>\n",
              "      <td>0</td>\n",
              "      <td>0</td>\n",
              "      <td>89</td>\n",
              "      <td>170</td>\n",
              "      <td>31</td>\n",
              "      <td>2</td>\n",
              "    </tr>\n",
              "    <tr>\n",
              "      <th>3</th>\n",
              "      <td>7</td>\n",
              "      <td>7</td>\n",
              "      <td>7</td>\n",
              "      <td>5</td>\n",
              "      <td>1</td>\n",
              "      <td>279</td>\n",
              "      <td>5</td>\n",
              "      <td>14</td>\n",
              "      <td>39</td>\n",
              "      <td>239.554</td>\n",
              "      <td>97</td>\n",
              "      <td>0</td>\n",
              "      <td>1</td>\n",
              "      <td>2</td>\n",
              "      <td>1</td>\n",
              "      <td>1</td>\n",
              "      <td>0</td>\n",
              "      <td>68</td>\n",
              "      <td>168</td>\n",
              "      <td>24</td>\n",
              "      <td>4</td>\n",
              "    </tr>\n",
              "    <tr>\n",
              "      <th>4</th>\n",
              "      <td>11</td>\n",
              "      <td>23</td>\n",
              "      <td>7</td>\n",
              "      <td>5</td>\n",
              "      <td>1</td>\n",
              "      <td>289</td>\n",
              "      <td>36</td>\n",
              "      <td>13</td>\n",
              "      <td>33</td>\n",
              "      <td>239.554</td>\n",
              "      <td>97</td>\n",
              "      <td>0</td>\n",
              "      <td>1</td>\n",
              "      <td>2</td>\n",
              "      <td>1</td>\n",
              "      <td>0</td>\n",
              "      <td>1</td>\n",
              "      <td>90</td>\n",
              "      <td>172</td>\n",
              "      <td>30</td>\n",
              "      <td>2</td>\n",
              "    </tr>\n",
              "  </tbody>\n",
              "</table>\n",
              "</div>"
            ],
            "text/plain": [
              "   ID  Reason for absence  ...  Body mass index  Absenteeism time in hours\n",
              "0  11                  26  ...               30                          4\n",
              "1  36                   0  ...               31                          0\n",
              "2   3                  23  ...               31                          2\n",
              "3   7                   7  ...               24                          4\n",
              "4  11                  23  ...               30                          2\n",
              "\n",
              "[5 rows x 21 columns]"
            ]
          },
          "metadata": {
            "tags": []
          },
          "execution_count": 3
        }
      ]
    },
    {
      "cell_type": "code",
      "metadata": {
        "id": "hAQpBPJJcr-u",
        "colab_type": "code",
        "outputId": "efe5fb4f-7834-42b0-9efa-9d4b2abf9070",
        "colab": {
          "base_uri": "https://localhost:8080/",
          "height": 459
        }
      },
      "source": [
        "absent.info()"
      ],
      "execution_count": 0,
      "outputs": [
        {
          "output_type": "stream",
          "text": [
            "<class 'pandas.core.frame.DataFrame'>\n",
            "RangeIndex: 740 entries, 0 to 739\n",
            "Data columns (total 21 columns):\n",
            "ID                                 740 non-null int64\n",
            "Reason for absence                 740 non-null int64\n",
            "Month of absence                   740 non-null int64\n",
            "Day of the week                    740 non-null int64\n",
            "Seasons                            740 non-null int64\n",
            "Transportation expense             740 non-null int64\n",
            "Distance from Residence to Work    740 non-null int64\n",
            "Service time                       740 non-null int64\n",
            "Age                                740 non-null int64\n",
            "Work load Average/day              740 non-null float64\n",
            "Hit target                         740 non-null int64\n",
            "Disciplinary failure               740 non-null int64\n",
            "Education                          740 non-null int64\n",
            "Son                                740 non-null int64\n",
            "Social drinker                     740 non-null int64\n",
            "Social smoker                      740 non-null int64\n",
            "Pet                                740 non-null int64\n",
            "Weight                             740 non-null int64\n",
            "Height                             740 non-null int64\n",
            "Body mass index                    740 non-null int64\n",
            "Absenteeism time in hours          740 non-null int64\n",
            "dtypes: float64(1), int64(20)\n",
            "memory usage: 121.5 KB\n"
          ],
          "name": "stdout"
        }
      ]
    },
    {
      "cell_type": "markdown",
      "metadata": {
        "id": "0cY0ffxDrqWY",
        "colab_type": "text"
      },
      "source": [
        "Recall that we removed all correlated columns as well as columns that are a function of two or more other columns (like BMI and weight and height) as well as columns that are not usefu to us (like ID).\n",
        "We also created dummy variables for the categorical columns in our dataset.\n",
        "Finally, we split the data into test and train (with test being 20% of the data).\n",
        "\n",
        "Perform these actions below."
      ]
    },
    {
      "cell_type": "code",
      "metadata": {
        "id": "0ljCMS2urqWY",
        "colab_type": "code",
        "colab": {}
      },
      "source": [
        "#answer below:\n",
        "drops = ['Disciplinary failure', 'Body mass index', 'Hit target', \n",
        "         'Work load Average/day ', 'Month of absence', 'Service time', \n",
        "         'ID', 'Weight', 'Social smoker', 'Seasons', 'Reason for absence',\n",
        "         'Day of the week']\n",
        "\n",
        "df = absent.drop(columns=drops, axis=1)\n",
        "\n",
        "df = pd.concat([df, pd.get_dummies(absent['Day of the week'], prefix='weekday', \n",
        "                                   drop_first=True),\n",
        "                pd.get_dummies(absent['Reason for absence'], prefix='reason_code', \n",
        "                               drop_first=True)], \n",
        "               axis=1)\n",
        "\n",
        "df.columns = [x.lower().replace(' ', '_') for x in df.columns]\n",
        "\n",
        "X = df.drop(columns='absenteeism_time_in_hours', axis=1)\n",
        "y = df['absenteeism_time_in_hours']"
      ],
      "execution_count": 0,
      "outputs": []
    },
    {
      "cell_type": "markdown",
      "metadata": {
        "id": "p-_QJzwYrqWa",
        "colab_type": "text"
      },
      "source": [
        "Scale the indepdendent variables using the standard scaler"
      ]
    },
    {
      "cell_type": "code",
      "metadata": {
        "id": "gYob_6g7kByh",
        "colab_type": "code",
        "colab": {}
      },
      "source": [
        "from sklearn.model_selection import train_test_split\n",
        "from sklearn.preprocessing import StandardScaler\n",
        "from sklearn.svm import SVR\n",
        "\n",
        "cols = X.columns\n",
        "scaler = StandardScaler()\n",
        "\n",
        "X = scaler.fit_transform(X)\n",
        "X = pd.DataFrame(X, columns=cols)"
      ],
      "execution_count": 0,
      "outputs": []
    },
    {
      "cell_type": "markdown",
      "metadata": {
        "id": "F14dqtXJrqWc",
        "colab_type": "text"
      },
      "source": [
        "Split the data into train and test (test proportion=0.2)."
      ]
    },
    {
      "cell_type": "code",
      "metadata": {
        "id": "3VePSftDrqWc",
        "colab_type": "code",
        "colab": {}
      },
      "source": [
        "# answer below:\n",
        "X_train, X_test, y_train, y_test = train_test_split(X, y, test_size=0.20,\n",
        "                                                    random_state=42)\n"
      ],
      "execution_count": 0,
      "outputs": []
    },
    {
      "cell_type": "markdown",
      "metadata": {
        "id": "Z7aLdNOIrqWe",
        "colab_type": "text"
      },
      "source": [
        "Generate an SVR model to predict the number of hours of absenteeism. Compare the train and test scores."
      ]
    },
    {
      "cell_type": "code",
      "metadata": {
        "id": "By2JhvYwrqWe",
        "colab_type": "code",
        "outputId": "e4552e51-51f7-48a2-f7a5-1f79835b424f",
        "colab": {
          "base_uri": "https://localhost:8080/",
          "height": 51
        }
      },
      "source": [
        "# answer below:\n",
        "model = SVR()\n",
        "\n",
        "model.fit(X_train, y_train)\n",
        "\n",
        "y_predict = model.predict(X_test)\n",
        "\n",
        "print(f'Training score: {model.score(X_train, y_train)}')\n",
        "print(f'Test score: {model.score(X_test, y_test)}')\n",
        "\n"
      ],
      "execution_count": 0,
      "outputs": [
        {
          "output_type": "stream",
          "text": [
            "Training score: 0.08864735667530665\n",
            "Test score: 0.10421615095922698\n"
          ],
          "name": "stdout"
        }
      ]
    },
    {
      "cell_type": "markdown",
      "metadata": {
        "id": "_sn-m37hrqWg",
        "colab_type": "text"
      },
      "source": [
        "If you are unhappy with your model's performance, perform a grid search to optimize C."
      ]
    },
    {
      "cell_type": "code",
      "metadata": {
        "id": "HPSYulAOrWg2",
        "colab_type": "code",
        "outputId": "a39e9d8a-fe96-4e78-e8e6-51ea52be9092",
        "colab": {
          "base_uri": "https://localhost:8080/",
          "height": 782
        }
      },
      "source": [
        "df.info()"
      ],
      "execution_count": 0,
      "outputs": [
        {
          "output_type": "stream",
          "text": [
            "<class 'pandas.core.frame.DataFrame'>\n",
            "RangeIndex: 740 entries, 0 to 739\n",
            "Data columns (total 40 columns):\n",
            "transportation_expense             740 non-null int64\n",
            "distance_from_residence_to_work    740 non-null int64\n",
            "age                                740 non-null int64\n",
            "education                          740 non-null int64\n",
            "son                                740 non-null int64\n",
            "social_drinker                     740 non-null int64\n",
            "pet                                740 non-null int64\n",
            "height                             740 non-null int64\n",
            "absenteeism_time_in_hours          740 non-null int64\n",
            "weekday_3                          740 non-null uint8\n",
            "weekday_4                          740 non-null uint8\n",
            "weekday_5                          740 non-null uint8\n",
            "weekday_6                          740 non-null uint8\n",
            "reason_code_1                      740 non-null uint8\n",
            "reason_code_2                      740 non-null uint8\n",
            "reason_code_3                      740 non-null uint8\n",
            "reason_code_4                      740 non-null uint8\n",
            "reason_code_5                      740 non-null uint8\n",
            "reason_code_6                      740 non-null uint8\n",
            "reason_code_7                      740 non-null uint8\n",
            "reason_code_8                      740 non-null uint8\n",
            "reason_code_9                      740 non-null uint8\n",
            "reason_code_10                     740 non-null uint8\n",
            "reason_code_11                     740 non-null uint8\n",
            "reason_code_12                     740 non-null uint8\n",
            "reason_code_13                     740 non-null uint8\n",
            "reason_code_14                     740 non-null uint8\n",
            "reason_code_15                     740 non-null uint8\n",
            "reason_code_16                     740 non-null uint8\n",
            "reason_code_17                     740 non-null uint8\n",
            "reason_code_18                     740 non-null uint8\n",
            "reason_code_19                     740 non-null uint8\n",
            "reason_code_21                     740 non-null uint8\n",
            "reason_code_22                     740 non-null uint8\n",
            "reason_code_23                     740 non-null uint8\n",
            "reason_code_24                     740 non-null uint8\n",
            "reason_code_25                     740 non-null uint8\n",
            "reason_code_26                     740 non-null uint8\n",
            "reason_code_27                     740 non-null uint8\n",
            "reason_code_28                     740 non-null uint8\n",
            "dtypes: int64(9), uint8(31)\n",
            "memory usage: 74.6 KB\n"
          ],
          "name": "stdout"
        }
      ]
    },
    {
      "cell_type": "code",
      "metadata": {
        "id": "BpvxxapErqWg",
        "colab_type": "code",
        "colab": {}
      },
      "source": [
        "# answer below:\n",
        "from sklearn.model_selection import GridSearchCV\n",
        "\n",
        "params = {'kernel':['rbf', 'poly', 'linear'],\n",
        "          'C':[.1, .25, .5, .75, 1],\n",
        "          'gamma':['auto', 'scale', .0025, .025],\n",
        "          'epsilon':[.005, .0075, .01, .0125, .015]}\n",
        "\n",
        "model = GridSearchCV(SVR(), param_grid=params, cv=5) "
      ],
      "execution_count": 0,
      "outputs": []
    },
    {
      "cell_type": "code",
      "metadata": {
        "id": "LwdfiFmNtKa6",
        "colab_type": "code",
        "colab": {}
      },
      "source": [
        "#from sklearn.model_selection import GridSearchCV \n",
        "#from sklearn.svm import SVR \n",
        "\n",
        "#gsc = GridSearchCV( estimator=SVR(kernel='rbf'), \n",
        "#                  param_grid={ 'C': [0.1, 1, 100, 1000], \n",
        "#                              'epsilon': [0.0001, 0.0005, 0.001, 0.005, 0.01,\n",
        "                #                            0.05, 0.1, 0.5, 1, 5, 10], \n",
        "                #                'gamma': [0.0001, 0.001, 0.005, 0.1, 1, 3, 5] }, \n",
        "                #    cv=5, scoring='neg_mean_squared_error', verbose=0, n_jobs=-1)\n",
        "\n",
        "# grid_result = gsc.fit(X, y) \n",
        "# best_params = grid_result.best_params_ \n",
        "# best_svr = SVR(kernel='rbf', C=best_params[\"C\"], epsilon=best_params[\"epsilon\"], \n",
        "#                gamma=best_params[\"gamma\"], coef0=0.1, shrinking=True, tol=0.001, \n",
        "#                cache_size=200, verbose=False, max_iter=-1)"
      ],
      "execution_count": 0,
      "outputs": []
    },
    {
      "cell_type": "code",
      "metadata": {
        "id": "qkQ846fqrqWi",
        "colab_type": "code",
        "colab": {}
      },
      "source": [
        "model_result = model.fit(X_train, y_train)\n",
        "best_params = model_result.best_params_\n",
        "best_svr = SVR(kernel=best_params['kernel'], C=best_params['C'], \n",
        "               epsilon=best_params['epsilon'], gamma=best_params['gamma'])\n"
      ],
      "execution_count": 0,
      "outputs": []
    },
    {
      "cell_type": "code",
      "metadata": {
        "id": "jIS-Z6fVshhG",
        "colab_type": "code",
        "outputId": "a4e78b69-2d91-4681-afbd-887429e6f04e",
        "colab": {
          "base_uri": "https://localhost:8080/",
          "height": 51
        }
      },
      "source": [
        "best_svr.fit(X_train, y_train)\n",
        "\n",
        "print(f'Training score: {best_svr.score(X_train, y_train)}')\n",
        "print(f'Test score: {best_svr.score(X_test, y_test)}')"
      ],
      "execution_count": 0,
      "outputs": [
        {
          "output_type": "stream",
          "text": [
            "Training score: 0.11055345079152812\n",
            "Test score: 0.07457257711152776\n"
          ],
          "name": "stdout"
        }
      ]
    },
    {
      "cell_type": "code",
      "metadata": {
        "id": "OXs6VCaEwgpZ",
        "colab_type": "code",
        "outputId": "917da033-c65a-4067-857b-d266f5975380",
        "colab": {
          "base_uri": "https://localhost:8080/",
          "height": 34
        }
      },
      "source": [
        "best_params"
      ],
      "execution_count": 0,
      "outputs": [
        {
          "output_type": "execute_result",
          "data": {
            "text/plain": [
              "{'C': 0.75, 'epsilon': 0.015, 'gamma': 'auto', 'kernel': 'linear'}"
            ]
          },
          "metadata": {
            "tags": []
          },
          "execution_count": 20
        }
      ]
    },
    {
      "cell_type": "code",
      "metadata": {
        "id": "XKCD2b7qww9R",
        "colab_type": "code",
        "colab": {}
      },
      "source": [
        "params = {'C':[.75, .775, 1, 1.25, 1.5],\n",
        "          'epsilon':[.015, .0175, .1, .125, .15]}\n",
        "\n",
        "model = GridSearchCV(SVR(kernel='linear', gamma='auto'), param_grid=params, cv=5) \n",
        "model_result = model.fit(X_train, y_train)\n",
        "best_params = model_result.best_params_\n",
        "best_svr = SVR(kernel='linear', C=best_params['C'], \n",
        "               epsilon=best_params['epsilon'], gamma='auto')"
      ],
      "execution_count": 0,
      "outputs": []
    },
    {
      "cell_type": "code",
      "metadata": {
        "id": "jCwoDfITxySC",
        "colab_type": "code",
        "outputId": "9db9dc12-ed56-42a7-f327-9c6a35f05ab3",
        "colab": {
          "base_uri": "https://localhost:8080/",
          "height": 51
        }
      },
      "source": [
        "best_svr.fit(X_train, y_train)\n",
        "\n",
        "print(f'Training score: {best_svr.score(X_train, y_train)}')\n",
        "print(f'Test score: {best_svr.score(X_test, y_test)}')"
      ],
      "execution_count": 0,
      "outputs": [
        {
          "output_type": "stream",
          "text": [
            "Training score: 0.1117138302003452\n",
            "Test score: 0.07659422290087259\n"
          ],
          "name": "stdout"
        }
      ]
    },
    {
      "cell_type": "code",
      "metadata": {
        "id": "lAuYKj0OyI5L",
        "colab_type": "code",
        "outputId": "ec428b32-f5f9-4d0c-a798-8bbe3847e392",
        "colab": {
          "base_uri": "https://localhost:8080/",
          "height": 34
        }
      },
      "source": [
        "best_params"
      ],
      "execution_count": 0,
      "outputs": [
        {
          "output_type": "execute_result",
          "data": {
            "text/plain": [
              "{'C': 1, 'epsilon': 0.1}"
            ]
          },
          "metadata": {
            "tags": []
          },
          "execution_count": 26
        }
      ]
    },
    {
      "cell_type": "code",
      "metadata": {
        "id": "jHjyZsHC07GQ",
        "colab_type": "code",
        "colab": {}
      },
      "source": [
        ""
      ],
      "execution_count": 0,
      "outputs": []
    }
  ]
}