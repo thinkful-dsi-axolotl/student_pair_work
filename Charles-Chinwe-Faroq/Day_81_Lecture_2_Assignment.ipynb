{
  "nbformat": 4,
  "nbformat_minor": 0,
  "metadata": {
    "kernelspec": {
      "name": "python3",
      "display_name": "Python 3"
    },
    "language_info": {
      "codemirror_mode": {
        "name": "ipython",
        "version": 3
      },
      "file_extension": ".py",
      "mimetype": "text/x-python",
      "name": "python",
      "nbconvert_exporter": "python",
      "pygments_lexer": "ipython3",
      "version": "3.7.0"
    },
    "colab": {
      "name": "Day 81 Lecture 2 Assignment.ipynb",
      "provenance": [],
      "collapsed_sections": []
    },
    "accelerator": "GPU"
  },
  "cells": [
    {
      "cell_type": "markdown",
      "metadata": {
        "id": "z95-VM4TlJ5g",
        "colab_type": "text"
      },
      "source": [
        "## Keras and TensorFlow\n",
        "\n",
        "In this assignment, we will learn about Keras and TensorFlow. We will create a neural network and measure the model's performance."
      ]
    },
    {
      "cell_type": "code",
      "metadata": {
        "id": "3B-HR0FKlJ5i",
        "colab_type": "code",
        "colab": {}
      },
      "source": [
        "import numpy as np\n",
        "import pandas as pd"
      ],
      "execution_count": 0,
      "outputs": []
    },
    {
      "cell_type": "code",
      "metadata": {
        "id": "s3XUEm8JlJ5l",
        "colab_type": "code",
        "colab": {}
      },
      "source": [
        "cancer = pd.read_csv('https://tf-assets-prod.s3.amazonaws.com/tf-curric/data-science/breast_cancer.csv')"
      ],
      "execution_count": 0,
      "outputs": []
    },
    {
      "cell_type": "code",
      "metadata": {
        "id": "UlUp5jhulJ5n",
        "colab_type": "code",
        "outputId": "25af080b-1539-4b6a-aa50-51557f958382",
        "colab": {
          "base_uri": "https://localhost:8080/",
          "height": 241
        }
      },
      "source": [
        "cancer.head()"
      ],
      "execution_count": 0,
      "outputs": [
        {
          "output_type": "execute_result",
          "data": {
            "text/html": [
              "<div>\n",
              "<style scoped>\n",
              "    .dataframe tbody tr th:only-of-type {\n",
              "        vertical-align: middle;\n",
              "    }\n",
              "\n",
              "    .dataframe tbody tr th {\n",
              "        vertical-align: top;\n",
              "    }\n",
              "\n",
              "    .dataframe thead th {\n",
              "        text-align: right;\n",
              "    }\n",
              "</style>\n",
              "<table border=\"1\" class=\"dataframe\">\n",
              "  <thead>\n",
              "    <tr style=\"text-align: right;\">\n",
              "      <th></th>\n",
              "      <th>id</th>\n",
              "      <th>diagnosis</th>\n",
              "      <th>radius_mean</th>\n",
              "      <th>texture_mean</th>\n",
              "      <th>perimeter_mean</th>\n",
              "      <th>area_mean</th>\n",
              "      <th>smoothness_mean</th>\n",
              "      <th>compactness_mean</th>\n",
              "      <th>concavity_mean</th>\n",
              "      <th>concave points_mean</th>\n",
              "      <th>symmetry_mean</th>\n",
              "      <th>fractal_dimension_mean</th>\n",
              "      <th>radius_se</th>\n",
              "      <th>texture_se</th>\n",
              "      <th>perimeter_se</th>\n",
              "      <th>area_se</th>\n",
              "      <th>smoothness_se</th>\n",
              "      <th>compactness_se</th>\n",
              "      <th>concavity_se</th>\n",
              "      <th>concave points_se</th>\n",
              "      <th>symmetry_se</th>\n",
              "      <th>fractal_dimension_se</th>\n",
              "      <th>radius_worst</th>\n",
              "      <th>texture_worst</th>\n",
              "      <th>perimeter_worst</th>\n",
              "      <th>area_worst</th>\n",
              "      <th>smoothness_worst</th>\n",
              "      <th>compactness_worst</th>\n",
              "      <th>concavity_worst</th>\n",
              "      <th>concave points_worst</th>\n",
              "      <th>symmetry_worst</th>\n",
              "      <th>fractal_dimension_worst</th>\n",
              "    </tr>\n",
              "  </thead>\n",
              "  <tbody>\n",
              "    <tr>\n",
              "      <th>0</th>\n",
              "      <td>842302</td>\n",
              "      <td>M</td>\n",
              "      <td>17.99</td>\n",
              "      <td>10.38</td>\n",
              "      <td>122.80</td>\n",
              "      <td>1001.0</td>\n",
              "      <td>0.11840</td>\n",
              "      <td>0.27760</td>\n",
              "      <td>0.3001</td>\n",
              "      <td>0.14710</td>\n",
              "      <td>0.2419</td>\n",
              "      <td>0.07871</td>\n",
              "      <td>1.0950</td>\n",
              "      <td>0.9053</td>\n",
              "      <td>8.589</td>\n",
              "      <td>153.40</td>\n",
              "      <td>0.006399</td>\n",
              "      <td>0.04904</td>\n",
              "      <td>0.05373</td>\n",
              "      <td>0.01587</td>\n",
              "      <td>0.03003</td>\n",
              "      <td>0.006193</td>\n",
              "      <td>25.38</td>\n",
              "      <td>17.33</td>\n",
              "      <td>184.60</td>\n",
              "      <td>2019.0</td>\n",
              "      <td>0.1622</td>\n",
              "      <td>0.6656</td>\n",
              "      <td>0.7119</td>\n",
              "      <td>0.2654</td>\n",
              "      <td>0.4601</td>\n",
              "      <td>0.11890</td>\n",
              "    </tr>\n",
              "    <tr>\n",
              "      <th>1</th>\n",
              "      <td>842517</td>\n",
              "      <td>M</td>\n",
              "      <td>20.57</td>\n",
              "      <td>17.77</td>\n",
              "      <td>132.90</td>\n",
              "      <td>1326.0</td>\n",
              "      <td>0.08474</td>\n",
              "      <td>0.07864</td>\n",
              "      <td>0.0869</td>\n",
              "      <td>0.07017</td>\n",
              "      <td>0.1812</td>\n",
              "      <td>0.05667</td>\n",
              "      <td>0.5435</td>\n",
              "      <td>0.7339</td>\n",
              "      <td>3.398</td>\n",
              "      <td>74.08</td>\n",
              "      <td>0.005225</td>\n",
              "      <td>0.01308</td>\n",
              "      <td>0.01860</td>\n",
              "      <td>0.01340</td>\n",
              "      <td>0.01389</td>\n",
              "      <td>0.003532</td>\n",
              "      <td>24.99</td>\n",
              "      <td>23.41</td>\n",
              "      <td>158.80</td>\n",
              "      <td>1956.0</td>\n",
              "      <td>0.1238</td>\n",
              "      <td>0.1866</td>\n",
              "      <td>0.2416</td>\n",
              "      <td>0.1860</td>\n",
              "      <td>0.2750</td>\n",
              "      <td>0.08902</td>\n",
              "    </tr>\n",
              "    <tr>\n",
              "      <th>2</th>\n",
              "      <td>84300903</td>\n",
              "      <td>M</td>\n",
              "      <td>19.69</td>\n",
              "      <td>21.25</td>\n",
              "      <td>130.00</td>\n",
              "      <td>1203.0</td>\n",
              "      <td>0.10960</td>\n",
              "      <td>0.15990</td>\n",
              "      <td>0.1974</td>\n",
              "      <td>0.12790</td>\n",
              "      <td>0.2069</td>\n",
              "      <td>0.05999</td>\n",
              "      <td>0.7456</td>\n",
              "      <td>0.7869</td>\n",
              "      <td>4.585</td>\n",
              "      <td>94.03</td>\n",
              "      <td>0.006150</td>\n",
              "      <td>0.04006</td>\n",
              "      <td>0.03832</td>\n",
              "      <td>0.02058</td>\n",
              "      <td>0.02250</td>\n",
              "      <td>0.004571</td>\n",
              "      <td>23.57</td>\n",
              "      <td>25.53</td>\n",
              "      <td>152.50</td>\n",
              "      <td>1709.0</td>\n",
              "      <td>0.1444</td>\n",
              "      <td>0.4245</td>\n",
              "      <td>0.4504</td>\n",
              "      <td>0.2430</td>\n",
              "      <td>0.3613</td>\n",
              "      <td>0.08758</td>\n",
              "    </tr>\n",
              "    <tr>\n",
              "      <th>3</th>\n",
              "      <td>84348301</td>\n",
              "      <td>M</td>\n",
              "      <td>11.42</td>\n",
              "      <td>20.38</td>\n",
              "      <td>77.58</td>\n",
              "      <td>386.1</td>\n",
              "      <td>0.14250</td>\n",
              "      <td>0.28390</td>\n",
              "      <td>0.2414</td>\n",
              "      <td>0.10520</td>\n",
              "      <td>0.2597</td>\n",
              "      <td>0.09744</td>\n",
              "      <td>0.4956</td>\n",
              "      <td>1.1560</td>\n",
              "      <td>3.445</td>\n",
              "      <td>27.23</td>\n",
              "      <td>0.009110</td>\n",
              "      <td>0.07458</td>\n",
              "      <td>0.05661</td>\n",
              "      <td>0.01867</td>\n",
              "      <td>0.05963</td>\n",
              "      <td>0.009208</td>\n",
              "      <td>14.91</td>\n",
              "      <td>26.50</td>\n",
              "      <td>98.87</td>\n",
              "      <td>567.7</td>\n",
              "      <td>0.2098</td>\n",
              "      <td>0.8663</td>\n",
              "      <td>0.6869</td>\n",
              "      <td>0.2575</td>\n",
              "      <td>0.6638</td>\n",
              "      <td>0.17300</td>\n",
              "    </tr>\n",
              "    <tr>\n",
              "      <th>4</th>\n",
              "      <td>84358402</td>\n",
              "      <td>M</td>\n",
              "      <td>20.29</td>\n",
              "      <td>14.34</td>\n",
              "      <td>135.10</td>\n",
              "      <td>1297.0</td>\n",
              "      <td>0.10030</td>\n",
              "      <td>0.13280</td>\n",
              "      <td>0.1980</td>\n",
              "      <td>0.10430</td>\n",
              "      <td>0.1809</td>\n",
              "      <td>0.05883</td>\n",
              "      <td>0.7572</td>\n",
              "      <td>0.7813</td>\n",
              "      <td>5.438</td>\n",
              "      <td>94.44</td>\n",
              "      <td>0.011490</td>\n",
              "      <td>0.02461</td>\n",
              "      <td>0.05688</td>\n",
              "      <td>0.01885</td>\n",
              "      <td>0.01756</td>\n",
              "      <td>0.005115</td>\n",
              "      <td>22.54</td>\n",
              "      <td>16.67</td>\n",
              "      <td>152.20</td>\n",
              "      <td>1575.0</td>\n",
              "      <td>0.1374</td>\n",
              "      <td>0.2050</td>\n",
              "      <td>0.4000</td>\n",
              "      <td>0.1625</td>\n",
              "      <td>0.2364</td>\n",
              "      <td>0.07678</td>\n",
              "    </tr>\n",
              "  </tbody>\n",
              "</table>\n",
              "</div>"
            ],
            "text/plain": [
              "         id diagnosis  ...  symmetry_worst  fractal_dimension_worst\n",
              "0    842302         M  ...          0.4601                  0.11890\n",
              "1    842517         M  ...          0.2750                  0.08902\n",
              "2  84300903         M  ...          0.3613                  0.08758\n",
              "3  84348301         M  ...          0.6638                  0.17300\n",
              "4  84358402         M  ...          0.2364                  0.07678\n",
              "\n",
              "[5 rows x 32 columns]"
            ]
          },
          "metadata": {
            "tags": []
          },
          "execution_count": 3
        }
      ]
    },
    {
      "cell_type": "markdown",
      "metadata": {
        "id": "wYZLhYV8lJ5q",
        "colab_type": "text"
      },
      "source": [
        "We'll start with some data cleaning. First remove the id column since we have no use for it. Then check for missing data and remove all rows containing missing data."
      ]
    },
    {
      "cell_type": "code",
      "metadata": {
        "id": "Dc4wwsNOlJ5q",
        "colab_type": "code",
        "colab": {}
      },
      "source": [
        "# Answer below:\n",
        "df = cancer.drop(columns=['id'], axis=1)\n"
      ],
      "execution_count": 0,
      "outputs": []
    },
    {
      "cell_type": "code",
      "metadata": {
        "id": "inXBcU76NA2y",
        "colab_type": "code",
        "outputId": "c7b141ca-94a1-4a9d-8338-6bda7d01329c",
        "colab": {
          "base_uri": "https://localhost:8080/",
          "height": 34
        }
      },
      "source": [
        "null = df.isnull().sum()\n",
        "\n",
        "null[null>1]"
      ],
      "execution_count": 0,
      "outputs": [
        {
          "output_type": "execute_result",
          "data": {
            "text/plain": [
              "Series([], dtype: int64)"
            ]
          },
          "metadata": {
            "tags": []
          },
          "execution_count": 5
        }
      ]
    },
    {
      "cell_type": "markdown",
      "metadata": {
        "id": "vS4Ez5PblJ5s",
        "colab_type": "text"
      },
      "source": [
        "The diagnosis columnn is our target variable. How many possible values are in this variable?"
      ]
    },
    {
      "cell_type": "code",
      "metadata": {
        "id": "z9Y8CrdblJ5t",
        "colab_type": "code",
        "outputId": "6df39a0a-2f6b-4d86-b680-34bf898668b4",
        "colab": {
          "base_uri": "https://localhost:8080/",
          "height": 68
        }
      },
      "source": [
        "# Answer below:\n",
        "df['diagnosis'].value_counts()\n"
      ],
      "execution_count": 0,
      "outputs": [
        {
          "output_type": "execute_result",
          "data": {
            "text/plain": [
              "B    357\n",
              "M    212\n",
              "Name: diagnosis, dtype: int64"
            ]
          },
          "metadata": {
            "tags": []
          },
          "execution_count": 6
        }
      ]
    },
    {
      "cell_type": "markdown",
      "metadata": {
        "id": "4HIxH-KzlJ5u",
        "colab_type": "text"
      },
      "source": [
        "Create one or multiple dummy variables for this column and store this encoded data in a numpy array called `target`"
      ]
    },
    {
      "cell_type": "code",
      "metadata": {
        "id": "jcPTpi5glJ5v",
        "colab_type": "code",
        "outputId": "b55e479d-1a6e-472c-85af-6fd463483ead",
        "colab": {
          "base_uri": "https://localhost:8080/",
          "height": 241
        }
      },
      "source": [
        "# Answer below:\n",
        "df['diagnosis'] = (df['diagnosis'] == 'M').astype(int)\n",
        "\n",
        "df.head()"
      ],
      "execution_count": 0,
      "outputs": [
        {
          "output_type": "execute_result",
          "data": {
            "text/html": [
              "<div>\n",
              "<style scoped>\n",
              "    .dataframe tbody tr th:only-of-type {\n",
              "        vertical-align: middle;\n",
              "    }\n",
              "\n",
              "    .dataframe tbody tr th {\n",
              "        vertical-align: top;\n",
              "    }\n",
              "\n",
              "    .dataframe thead th {\n",
              "        text-align: right;\n",
              "    }\n",
              "</style>\n",
              "<table border=\"1\" class=\"dataframe\">\n",
              "  <thead>\n",
              "    <tr style=\"text-align: right;\">\n",
              "      <th></th>\n",
              "      <th>diagnosis</th>\n",
              "      <th>radius_mean</th>\n",
              "      <th>texture_mean</th>\n",
              "      <th>perimeter_mean</th>\n",
              "      <th>area_mean</th>\n",
              "      <th>smoothness_mean</th>\n",
              "      <th>compactness_mean</th>\n",
              "      <th>concavity_mean</th>\n",
              "      <th>concave points_mean</th>\n",
              "      <th>symmetry_mean</th>\n",
              "      <th>fractal_dimension_mean</th>\n",
              "      <th>radius_se</th>\n",
              "      <th>texture_se</th>\n",
              "      <th>perimeter_se</th>\n",
              "      <th>area_se</th>\n",
              "      <th>smoothness_se</th>\n",
              "      <th>compactness_se</th>\n",
              "      <th>concavity_se</th>\n",
              "      <th>concave points_se</th>\n",
              "      <th>symmetry_se</th>\n",
              "      <th>fractal_dimension_se</th>\n",
              "      <th>radius_worst</th>\n",
              "      <th>texture_worst</th>\n",
              "      <th>perimeter_worst</th>\n",
              "      <th>area_worst</th>\n",
              "      <th>smoothness_worst</th>\n",
              "      <th>compactness_worst</th>\n",
              "      <th>concavity_worst</th>\n",
              "      <th>concave points_worst</th>\n",
              "      <th>symmetry_worst</th>\n",
              "      <th>fractal_dimension_worst</th>\n",
              "    </tr>\n",
              "  </thead>\n",
              "  <tbody>\n",
              "    <tr>\n",
              "      <th>0</th>\n",
              "      <td>1</td>\n",
              "      <td>17.99</td>\n",
              "      <td>10.38</td>\n",
              "      <td>122.80</td>\n",
              "      <td>1001.0</td>\n",
              "      <td>0.11840</td>\n",
              "      <td>0.27760</td>\n",
              "      <td>0.3001</td>\n",
              "      <td>0.14710</td>\n",
              "      <td>0.2419</td>\n",
              "      <td>0.07871</td>\n",
              "      <td>1.0950</td>\n",
              "      <td>0.9053</td>\n",
              "      <td>8.589</td>\n",
              "      <td>153.40</td>\n",
              "      <td>0.006399</td>\n",
              "      <td>0.04904</td>\n",
              "      <td>0.05373</td>\n",
              "      <td>0.01587</td>\n",
              "      <td>0.03003</td>\n",
              "      <td>0.006193</td>\n",
              "      <td>25.38</td>\n",
              "      <td>17.33</td>\n",
              "      <td>184.60</td>\n",
              "      <td>2019.0</td>\n",
              "      <td>0.1622</td>\n",
              "      <td>0.6656</td>\n",
              "      <td>0.7119</td>\n",
              "      <td>0.2654</td>\n",
              "      <td>0.4601</td>\n",
              "      <td>0.11890</td>\n",
              "    </tr>\n",
              "    <tr>\n",
              "      <th>1</th>\n",
              "      <td>1</td>\n",
              "      <td>20.57</td>\n",
              "      <td>17.77</td>\n",
              "      <td>132.90</td>\n",
              "      <td>1326.0</td>\n",
              "      <td>0.08474</td>\n",
              "      <td>0.07864</td>\n",
              "      <td>0.0869</td>\n",
              "      <td>0.07017</td>\n",
              "      <td>0.1812</td>\n",
              "      <td>0.05667</td>\n",
              "      <td>0.5435</td>\n",
              "      <td>0.7339</td>\n",
              "      <td>3.398</td>\n",
              "      <td>74.08</td>\n",
              "      <td>0.005225</td>\n",
              "      <td>0.01308</td>\n",
              "      <td>0.01860</td>\n",
              "      <td>0.01340</td>\n",
              "      <td>0.01389</td>\n",
              "      <td>0.003532</td>\n",
              "      <td>24.99</td>\n",
              "      <td>23.41</td>\n",
              "      <td>158.80</td>\n",
              "      <td>1956.0</td>\n",
              "      <td>0.1238</td>\n",
              "      <td>0.1866</td>\n",
              "      <td>0.2416</td>\n",
              "      <td>0.1860</td>\n",
              "      <td>0.2750</td>\n",
              "      <td>0.08902</td>\n",
              "    </tr>\n",
              "    <tr>\n",
              "      <th>2</th>\n",
              "      <td>1</td>\n",
              "      <td>19.69</td>\n",
              "      <td>21.25</td>\n",
              "      <td>130.00</td>\n",
              "      <td>1203.0</td>\n",
              "      <td>0.10960</td>\n",
              "      <td>0.15990</td>\n",
              "      <td>0.1974</td>\n",
              "      <td>0.12790</td>\n",
              "      <td>0.2069</td>\n",
              "      <td>0.05999</td>\n",
              "      <td>0.7456</td>\n",
              "      <td>0.7869</td>\n",
              "      <td>4.585</td>\n",
              "      <td>94.03</td>\n",
              "      <td>0.006150</td>\n",
              "      <td>0.04006</td>\n",
              "      <td>0.03832</td>\n",
              "      <td>0.02058</td>\n",
              "      <td>0.02250</td>\n",
              "      <td>0.004571</td>\n",
              "      <td>23.57</td>\n",
              "      <td>25.53</td>\n",
              "      <td>152.50</td>\n",
              "      <td>1709.0</td>\n",
              "      <td>0.1444</td>\n",
              "      <td>0.4245</td>\n",
              "      <td>0.4504</td>\n",
              "      <td>0.2430</td>\n",
              "      <td>0.3613</td>\n",
              "      <td>0.08758</td>\n",
              "    </tr>\n",
              "    <tr>\n",
              "      <th>3</th>\n",
              "      <td>1</td>\n",
              "      <td>11.42</td>\n",
              "      <td>20.38</td>\n",
              "      <td>77.58</td>\n",
              "      <td>386.1</td>\n",
              "      <td>0.14250</td>\n",
              "      <td>0.28390</td>\n",
              "      <td>0.2414</td>\n",
              "      <td>0.10520</td>\n",
              "      <td>0.2597</td>\n",
              "      <td>0.09744</td>\n",
              "      <td>0.4956</td>\n",
              "      <td>1.1560</td>\n",
              "      <td>3.445</td>\n",
              "      <td>27.23</td>\n",
              "      <td>0.009110</td>\n",
              "      <td>0.07458</td>\n",
              "      <td>0.05661</td>\n",
              "      <td>0.01867</td>\n",
              "      <td>0.05963</td>\n",
              "      <td>0.009208</td>\n",
              "      <td>14.91</td>\n",
              "      <td>26.50</td>\n",
              "      <td>98.87</td>\n",
              "      <td>567.7</td>\n",
              "      <td>0.2098</td>\n",
              "      <td>0.8663</td>\n",
              "      <td>0.6869</td>\n",
              "      <td>0.2575</td>\n",
              "      <td>0.6638</td>\n",
              "      <td>0.17300</td>\n",
              "    </tr>\n",
              "    <tr>\n",
              "      <th>4</th>\n",
              "      <td>1</td>\n",
              "      <td>20.29</td>\n",
              "      <td>14.34</td>\n",
              "      <td>135.10</td>\n",
              "      <td>1297.0</td>\n",
              "      <td>0.10030</td>\n",
              "      <td>0.13280</td>\n",
              "      <td>0.1980</td>\n",
              "      <td>0.10430</td>\n",
              "      <td>0.1809</td>\n",
              "      <td>0.05883</td>\n",
              "      <td>0.7572</td>\n",
              "      <td>0.7813</td>\n",
              "      <td>5.438</td>\n",
              "      <td>94.44</td>\n",
              "      <td>0.011490</td>\n",
              "      <td>0.02461</td>\n",
              "      <td>0.05688</td>\n",
              "      <td>0.01885</td>\n",
              "      <td>0.01756</td>\n",
              "      <td>0.005115</td>\n",
              "      <td>22.54</td>\n",
              "      <td>16.67</td>\n",
              "      <td>152.20</td>\n",
              "      <td>1575.0</td>\n",
              "      <td>0.1374</td>\n",
              "      <td>0.2050</td>\n",
              "      <td>0.4000</td>\n",
              "      <td>0.1625</td>\n",
              "      <td>0.2364</td>\n",
              "      <td>0.07678</td>\n",
              "    </tr>\n",
              "  </tbody>\n",
              "</table>\n",
              "</div>"
            ],
            "text/plain": [
              "   diagnosis  radius_mean  ...  symmetry_worst  fractal_dimension_worst\n",
              "0          1        17.99  ...          0.4601                  0.11890\n",
              "1          1        20.57  ...          0.2750                  0.08902\n",
              "2          1        19.69  ...          0.3613                  0.08758\n",
              "3          1        11.42  ...          0.6638                  0.17300\n",
              "4          1        20.29  ...          0.2364                  0.07678\n",
              "\n",
              "[5 rows x 31 columns]"
            ]
          },
          "metadata": {
            "tags": []
          },
          "execution_count": 7
        }
      ]
    },
    {
      "cell_type": "markdown",
      "metadata": {
        "id": "nTeGX95alJ5x",
        "colab_type": "text"
      },
      "source": [
        "When looking at the columm names, you may have noticed that for each attribute we have a mean of the attribute, a standard error, and a worst value. Let's create a list of column names for only the means columns. Use this list to create a new dataframe containing only the means columns."
      ]
    },
    {
      "cell_type": "code",
      "metadata": {
        "id": "bPO8gG35lJ5x",
        "colab_type": "code",
        "colab": {}
      },
      "source": [
        "# Answer below:\n",
        "X = df[[col for col in df.columns if 'mean' in col]].values\n",
        "y = df['diagnosis'].values\n",
        "\n"
      ],
      "execution_count": 0,
      "outputs": []
    },
    {
      "cell_type": "markdown",
      "metadata": {
        "id": "h0X26vkklJ5z",
        "colab_type": "text"
      },
      "source": [
        "Now we'll use the minmax scaler to ensure that all columns have values between zero and 1. Apply this transformations for all columns to be used in the prediction."
      ]
    },
    {
      "cell_type": "code",
      "metadata": {
        "id": "febZFy_tlJ5z",
        "colab_type": "code",
        "colab": {}
      },
      "source": [
        "# Answer below:\n",
        "from sklearn.preprocessing import MinMaxScaler\n"
      ],
      "execution_count": 0,
      "outputs": []
    },
    {
      "cell_type": "code",
      "metadata": {
        "id": "KeLmiA08QI5Y",
        "colab_type": "code",
        "colab": {}
      },
      "source": [
        "scaler = MinMaxScaler()\n",
        "scaled = scaler.fit_transform(X)\n"
      ],
      "execution_count": 0,
      "outputs": []
    },
    {
      "cell_type": "markdown",
      "metadata": {
        "id": "oBuO5BOIlJ51",
        "colab_type": "text"
      },
      "source": [
        "Split the data into train and test samples. The test sample should contain 20% of the data."
      ]
    },
    {
      "cell_type": "code",
      "metadata": {
        "id": "mv0hKnzklJ51",
        "colab_type": "code",
        "colab": {}
      },
      "source": [
        "# Answer below\n",
        "from sklearn.model_selection import train_test_split\n"
      ],
      "execution_count": 0,
      "outputs": []
    },
    {
      "cell_type": "code",
      "metadata": {
        "id": "hoApCylmQeDM",
        "colab_type": "code",
        "colab": {}
      },
      "source": [
        "\n",
        "X_train, X_test, y_train, y_test = train_test_split(scaled, y, test_size=.2, \n",
        "                                                    random_state=42)"
      ],
      "execution_count": 0,
      "outputs": []
    },
    {
      "cell_type": "code",
      "metadata": {
        "id": "_T6JV9cXZuro",
        "colab_type": "code",
        "colab": {}
      },
      "source": [
        "from tensorflow.keras.utils import to_categorical"
      ],
      "execution_count": 0,
      "outputs": []
    },
    {
      "cell_type": "code",
      "metadata": {
        "id": "968i3KikZzVv",
        "colab_type": "code",
        "colab": {}
      },
      "source": [
        "y_train = to_categorical(y_train, 2)\n",
        "y_test = to_categorical(y_test, 2)"
      ],
      "execution_count": 0,
      "outputs": []
    },
    {
      "cell_type": "code",
      "metadata": {
        "id": "rN3U3FY9SZY9",
        "colab_type": "code",
        "outputId": "c278014d-33a0-4c78-b3de-b73b2208508c",
        "colab": {
          "base_uri": "https://localhost:8080/",
          "height": 530
        }
      },
      "source": [
        "pip install tensorflow-gpu==2.0.0-rc1\n"
      ],
      "execution_count": 0,
      "outputs": [
        {
          "output_type": "stream",
          "text": [
            "Collecting tensorflow-gpu==2.0.0-rc1\n",
            "\u001b[?25l  Downloading https://files.pythonhosted.org/packages/73/cf/2fc69ba3e59edc8333e2676fa71b40197718dea7dc1282c79955cf6b2acb/tensorflow_gpu-2.0.0rc1-cp36-cp36m-manylinux2010_x86_64.whl (380.5MB)\n",
            "\u001b[K     |████████████████████████████████| 380.5MB 43kB/s \n",
            "\u001b[?25hRequirement already satisfied: six>=1.10.0 in /usr/local/lib/python3.6/dist-packages (from tensorflow-gpu==2.0.0-rc1) (1.12.0)\n",
            "Requirement already satisfied: grpcio>=1.8.6 in /usr/local/lib/python3.6/dist-packages (from tensorflow-gpu==2.0.0-rc1) (1.15.0)\n",
            "Requirement already satisfied: keras-applications>=1.0.8 in /usr/local/lib/python3.6/dist-packages (from tensorflow-gpu==2.0.0-rc1) (1.0.8)\n",
            "Requirement already satisfied: keras-preprocessing>=1.0.5 in /usr/local/lib/python3.6/dist-packages (from tensorflow-gpu==2.0.0-rc1) (1.1.0)\n",
            "Requirement already satisfied: termcolor>=1.1.0 in /usr/local/lib/python3.6/dist-packages (from tensorflow-gpu==2.0.0-rc1) (1.1.0)\n",
            "Requirement already satisfied: protobuf>=3.6.1 in /usr/local/lib/python3.6/dist-packages (from tensorflow-gpu==2.0.0-rc1) (3.10.0)\n",
            "Requirement already satisfied: wheel>=0.26 in /usr/local/lib/python3.6/dist-packages (from tensorflow-gpu==2.0.0-rc1) (0.33.6)\n",
            "Requirement already satisfied: astor>=0.6.0 in /usr/local/lib/python3.6/dist-packages (from tensorflow-gpu==2.0.0-rc1) (0.8.1)\n",
            "Requirement already satisfied: gast>=0.2.0 in /usr/local/lib/python3.6/dist-packages (from tensorflow-gpu==2.0.0-rc1) (0.2.2)\n",
            "Collecting tb-nightly<1.15.0a20190807,>=1.15.0a20190806\n",
            "\u001b[?25l  Downloading https://files.pythonhosted.org/packages/bc/88/24b5fb7280e74c7cf65bde47c171547fd02afb3840cff41bcbe9270650f5/tb_nightly-1.15.0a20190806-py3-none-any.whl (4.3MB)\n",
            "\u001b[K     |████████████████████████████████| 4.3MB 41.2MB/s \n",
            "\u001b[?25hCollecting tf-estimator-nightly<1.14.0.dev2019080602,>=1.14.0.dev2019080601\n",
            "\u001b[?25l  Downloading https://files.pythonhosted.org/packages/21/28/f2a27a62943d5f041e4a6fd404b2d21cb7c59b2242a4e73b03d9ba166552/tf_estimator_nightly-1.14.0.dev2019080601-py2.py3-none-any.whl (501kB)\n",
            "\u001b[K     |████████████████████████████████| 501kB 52.4MB/s \n",
            "\u001b[?25hRequirement already satisfied: opt-einsum>=2.3.2 in /usr/local/lib/python3.6/dist-packages (from tensorflow-gpu==2.0.0-rc1) (3.1.0)\n",
            "Requirement already satisfied: absl-py>=0.7.0 in /usr/local/lib/python3.6/dist-packages (from tensorflow-gpu==2.0.0-rc1) (0.9.0)\n",
            "Requirement already satisfied: google-pasta>=0.1.6 in /usr/local/lib/python3.6/dist-packages (from tensorflow-gpu==2.0.0-rc1) (0.1.8)\n",
            "Requirement already satisfied: numpy<2.0,>=1.16.0 in /usr/local/lib/python3.6/dist-packages (from tensorflow-gpu==2.0.0-rc1) (1.17.5)\n",
            "Requirement already satisfied: wrapt>=1.11.1 in /usr/local/lib/python3.6/dist-packages (from tensorflow-gpu==2.0.0-rc1) (1.11.2)\n",
            "Requirement already satisfied: h5py in /usr/local/lib/python3.6/dist-packages (from keras-applications>=1.0.8->tensorflow-gpu==2.0.0-rc1) (2.8.0)\n",
            "Requirement already satisfied: setuptools in /usr/local/lib/python3.6/dist-packages (from protobuf>=3.6.1->tensorflow-gpu==2.0.0-rc1) (42.0.2)\n",
            "Requirement already satisfied: werkzeug>=0.11.15 in /usr/local/lib/python3.6/dist-packages (from tb-nightly<1.15.0a20190807,>=1.15.0a20190806->tensorflow-gpu==2.0.0-rc1) (0.16.0)\n",
            "Requirement already satisfied: markdown>=2.6.8 in /usr/local/lib/python3.6/dist-packages (from tb-nightly<1.15.0a20190807,>=1.15.0a20190806->tensorflow-gpu==2.0.0-rc1) (3.1.1)\n",
            "Installing collected packages: tb-nightly, tf-estimator-nightly, tensorflow-gpu\n",
            "Successfully installed tb-nightly-1.15.0a20190806 tensorflow-gpu-2.0.0rc1 tf-estimator-nightly-1.14.0.dev2019080601\n"
          ],
          "name": "stdout"
        }
      ]
    },
    {
      "cell_type": "markdown",
      "metadata": {
        "id": "Z4gNH9_slJ53",
        "colab_type": "text"
      },
      "source": [
        "Now we can proceed with our model. In the cell below, import the `Sequential`, and `Dense` functions."
      ]
    },
    {
      "cell_type": "code",
      "metadata": {
        "id": "0EFVNpW3lJ53",
        "colab_type": "code",
        "colab": {}
      },
      "source": [
        "# Answer below:\n",
        "from tensorflow.keras.models import Sequential\n",
        "from tensorflow.keras.layers import Dense\n"
      ],
      "execution_count": 0,
      "outputs": []
    },
    {
      "cell_type": "markdown",
      "metadata": {
        "id": "AhrP-ICtlJ55",
        "colab_type": "text"
      },
      "source": [
        "create a model that takes the training data and predicts the target variable. The model will have 3 layers. The input layer should be of unit size 12 and the hidden layer will bwe of size 10. The output layer size will be determined by the size of the target variable. Use the sigmoid activation function for the last layer"
      ]
    },
    {
      "cell_type": "code",
      "metadata": {
        "id": "tdgHgV7HXRL2",
        "colab_type": "code",
        "outputId": "21f68b00-9c6f-4b96-a038-a684364da665",
        "colab": {
          "base_uri": "https://localhost:8080/",
          "height": 34
        }
      },
      "source": [
        "X_train.shape"
      ],
      "execution_count": 0,
      "outputs": [
        {
          "output_type": "execute_result",
          "data": {
            "text/plain": [
              "(455, 10)"
            ]
          },
          "metadata": {
            "tags": []
          },
          "execution_count": 31
        }
      ]
    },
    {
      "cell_type": "code",
      "metadata": {
        "id": "ni5BKZqYlJ55",
        "colab_type": "code",
        "colab": {}
      },
      "source": [
        "# Answer below\n",
        "\n",
        "input_dim = 10\n",
        "output_dim = 2\n",
        "\n",
        "model = Sequential()\n",
        "\n",
        "model.add(Dense(12, input_shape=(10,), activation='relu'))\n",
        "model.add(Dense(10, activation='relu'))\n",
        "model.add(Dense(2, activation='sigmoid'))\n"
      ],
      "execution_count": 0,
      "outputs": []
    },
    {
      "cell_type": "code",
      "metadata": {
        "id": "yxdyBdFJWIHn",
        "colab_type": "code",
        "outputId": "1f113a14-b950-469d-a3e9-3b865dea6d15",
        "colab": {
          "base_uri": "https://localhost:8080/",
          "height": 255
        }
      },
      "source": [
        "model.summary()"
      ],
      "execution_count": 0,
      "outputs": [
        {
          "output_type": "stream",
          "text": [
            "Model: \"sequential_7\"\n",
            "_________________________________________________________________\n",
            "Layer (type)                 Output Shape              Param #   \n",
            "=================================================================\n",
            "dense_17 (Dense)             (None, 12)                132       \n",
            "_________________________________________________________________\n",
            "dense_18 (Dense)             (None, 10)                130       \n",
            "_________________________________________________________________\n",
            "dense_19 (Dense)             (None, 2)                 22        \n",
            "=================================================================\n",
            "Total params: 284\n",
            "Trainable params: 284\n",
            "Non-trainable params: 0\n",
            "_________________________________________________________________\n"
          ],
          "name": "stdout"
        }
      ]
    },
    {
      "cell_type": "code",
      "metadata": {
        "id": "Hl3p2DJcWLrT",
        "colab_type": "code",
        "colab": {}
      },
      "source": [
        ""
      ],
      "execution_count": 0,
      "outputs": []
    },
    {
      "cell_type": "markdown",
      "metadata": {
        "id": "VH4UZYIqlJ57",
        "colab_type": "text"
      },
      "source": [
        "Compile and fit the model. Use the adam optimizer and the binary crossentropy loss function. Train the model for 200 epochs with a batch size of 80. Make sure touse the test data into the model as well."
      ]
    },
    {
      "cell_type": "code",
      "metadata": {
        "id": "Qy3HSNm6lJ58",
        "colab_type": "code",
        "outputId": "4f472be8-749d-470f-b10e-2cb61fb423cb",
        "colab": {
          "base_uri": "https://localhost:8080/",
          "height": 1000
        }
      },
      "source": [
        "# Answer below:\n",
        "model.compile(optimizer='adam', loss='binary_crossentropy', metrics=['accuracy'])\n",
        "\n",
        "model.fit(X_train, y_train, batch_size=80, epochs=200, verbose=1)"
      ],
      "execution_count": 0,
      "outputs": [
        {
          "output_type": "stream",
          "text": [
            "Train on 455 samples\n",
            "Epoch 1/200\n",
            "455/455 [==============================] - 0s 1ms/sample - loss: 0.6803 - accuracy: 0.5077\n",
            "Epoch 2/200\n",
            "455/455 [==============================] - 0s 47us/sample - loss: 0.6722 - accuracy: 0.5505\n",
            "Epoch 3/200\n",
            "455/455 [==============================] - 0s 45us/sample - loss: 0.6656 - accuracy: 0.6352\n",
            "Epoch 4/200\n",
            "455/455 [==============================] - 0s 42us/sample - loss: 0.6587 - accuracy: 0.7077\n",
            "Epoch 5/200\n",
            "455/455 [==============================] - 0s 45us/sample - loss: 0.6524 - accuracy: 0.7363\n",
            "Epoch 6/200\n",
            "455/455 [==============================] - 0s 43us/sample - loss: 0.6461 - accuracy: 0.7505\n",
            "Epoch 7/200\n",
            "455/455 [==============================] - 0s 45us/sample - loss: 0.6396 - accuracy: 0.7681\n",
            "Epoch 8/200\n",
            "455/455 [==============================] - 0s 44us/sample - loss: 0.6330 - accuracy: 0.7857\n",
            "Epoch 9/200\n",
            "455/455 [==============================] - 0s 40us/sample - loss: 0.6261 - accuracy: 0.7934\n",
            "Epoch 10/200\n",
            "455/455 [==============================] - 0s 44us/sample - loss: 0.6185 - accuracy: 0.8022\n",
            "Epoch 11/200\n",
            "455/455 [==============================] - 0s 44us/sample - loss: 0.6108 - accuracy: 0.8110\n",
            "Epoch 12/200\n",
            "455/455 [==============================] - 0s 46us/sample - loss: 0.6025 - accuracy: 0.8132\n",
            "Epoch 13/200\n",
            "455/455 [==============================] - 0s 48us/sample - loss: 0.5938 - accuracy: 0.8143\n",
            "Epoch 14/200\n",
            "455/455 [==============================] - 0s 58us/sample - loss: 0.5844 - accuracy: 0.8231\n",
            "Epoch 15/200\n",
            "455/455 [==============================] - 0s 65us/sample - loss: 0.5744 - accuracy: 0.8352\n",
            "Epoch 16/200\n",
            "455/455 [==============================] - 0s 47us/sample - loss: 0.5641 - accuracy: 0.8484\n",
            "Epoch 17/200\n",
            "455/455 [==============================] - 0s 48us/sample - loss: 0.5529 - accuracy: 0.8615\n",
            "Epoch 18/200\n",
            "455/455 [==============================] - 0s 45us/sample - loss: 0.5413 - accuracy: 0.8615\n",
            "Epoch 19/200\n",
            "455/455 [==============================] - 0s 44us/sample - loss: 0.5292 - accuracy: 0.8681\n",
            "Epoch 20/200\n",
            "455/455 [==============================] - 0s 43us/sample - loss: 0.5164 - accuracy: 0.8736\n",
            "Epoch 21/200\n",
            "455/455 [==============================] - 0s 47us/sample - loss: 0.5037 - accuracy: 0.8769\n",
            "Epoch 22/200\n",
            "455/455 [==============================] - 0s 46us/sample - loss: 0.4907 - accuracy: 0.8813\n",
            "Epoch 23/200\n",
            "455/455 [==============================] - 0s 42us/sample - loss: 0.4774 - accuracy: 0.8857\n",
            "Epoch 24/200\n",
            "455/455 [==============================] - 0s 46us/sample - loss: 0.4641 - accuracy: 0.8879\n",
            "Epoch 25/200\n",
            "455/455 [==============================] - 0s 49us/sample - loss: 0.4513 - accuracy: 0.8890\n",
            "Epoch 26/200\n",
            "455/455 [==============================] - 0s 47us/sample - loss: 0.4385 - accuracy: 0.8890\n",
            "Epoch 27/200\n",
            "455/455 [==============================] - 0s 50us/sample - loss: 0.4257 - accuracy: 0.8923\n",
            "Epoch 28/200\n",
            "455/455 [==============================] - 0s 43us/sample - loss: 0.4130 - accuracy: 0.8945\n",
            "Epoch 29/200\n",
            "455/455 [==============================] - 0s 42us/sample - loss: 0.4010 - accuracy: 0.8945\n",
            "Epoch 30/200\n",
            "455/455 [==============================] - 0s 41us/sample - loss: 0.3892 - accuracy: 0.8945\n",
            "Epoch 31/200\n",
            "455/455 [==============================] - 0s 46us/sample - loss: 0.3779 - accuracy: 0.8945\n",
            "Epoch 32/200\n",
            "455/455 [==============================] - 0s 50us/sample - loss: 0.3671 - accuracy: 0.8967\n",
            "Epoch 33/200\n",
            "455/455 [==============================] - 0s 45us/sample - loss: 0.3569 - accuracy: 0.8967\n",
            "Epoch 34/200\n",
            "455/455 [==============================] - 0s 51us/sample - loss: 0.3469 - accuracy: 0.8989\n",
            "Epoch 35/200\n",
            "455/455 [==============================] - 0s 50us/sample - loss: 0.3380 - accuracy: 0.8978\n",
            "Epoch 36/200\n",
            "455/455 [==============================] - 0s 48us/sample - loss: 0.3295 - accuracy: 0.8967\n",
            "Epoch 37/200\n",
            "455/455 [==============================] - 0s 49us/sample - loss: 0.3213 - accuracy: 0.8989\n",
            "Epoch 38/200\n",
            "455/455 [==============================] - 0s 43us/sample - loss: 0.3135 - accuracy: 0.9044\n",
            "Epoch 39/200\n",
            "455/455 [==============================] - 0s 42us/sample - loss: 0.3067 - accuracy: 0.9055\n",
            "Epoch 40/200\n",
            "455/455 [==============================] - 0s 45us/sample - loss: 0.3000 - accuracy: 0.9055\n",
            "Epoch 41/200\n",
            "455/455 [==============================] - 0s 46us/sample - loss: 0.2934 - accuracy: 0.9033\n",
            "Epoch 42/200\n",
            "455/455 [==============================] - 0s 45us/sample - loss: 0.2880 - accuracy: 0.9044\n",
            "Epoch 43/200\n",
            "455/455 [==============================] - 0s 47us/sample - loss: 0.2826 - accuracy: 0.9055\n",
            "Epoch 44/200\n",
            "455/455 [==============================] - 0s 46us/sample - loss: 0.2775 - accuracy: 0.9055\n",
            "Epoch 45/200\n",
            "455/455 [==============================] - 0s 54us/sample - loss: 0.2726 - accuracy: 0.9066\n",
            "Epoch 46/200\n",
            "455/455 [==============================] - 0s 48us/sample - loss: 0.2684 - accuracy: 0.9066\n",
            "Epoch 47/200\n",
            "455/455 [==============================] - 0s 56us/sample - loss: 0.2647 - accuracy: 0.9033\n",
            "Epoch 48/200\n",
            "455/455 [==============================] - 0s 51us/sample - loss: 0.2603 - accuracy: 0.9066\n",
            "Epoch 49/200\n",
            "455/455 [==============================] - 0s 52us/sample - loss: 0.2567 - accuracy: 0.9044\n",
            "Epoch 50/200\n",
            "455/455 [==============================] - 0s 54us/sample - loss: 0.2531 - accuracy: 0.9099\n",
            "Epoch 51/200\n",
            "455/455 [==============================] - 0s 49us/sample - loss: 0.2500 - accuracy: 0.9088\n",
            "Epoch 52/200\n",
            "455/455 [==============================] - 0s 52us/sample - loss: 0.2469 - accuracy: 0.9099\n",
            "Epoch 53/200\n",
            "455/455 [==============================] - 0s 52us/sample - loss: 0.2441 - accuracy: 0.9088\n",
            "Epoch 54/200\n",
            "455/455 [==============================] - 0s 54us/sample - loss: 0.2413 - accuracy: 0.9099\n",
            "Epoch 55/200\n",
            "455/455 [==============================] - 0s 57us/sample - loss: 0.2387 - accuracy: 0.9088\n",
            "Epoch 56/200\n",
            "455/455 [==============================] - 0s 49us/sample - loss: 0.2364 - accuracy: 0.9099\n",
            "Epoch 57/200\n",
            "455/455 [==============================] - 0s 69us/sample - loss: 0.2345 - accuracy: 0.9077\n",
            "Epoch 58/200\n",
            "455/455 [==============================] - 0s 49us/sample - loss: 0.2317 - accuracy: 0.9088\n",
            "Epoch 59/200\n",
            "455/455 [==============================] - 0s 52us/sample - loss: 0.2302 - accuracy: 0.9110\n",
            "Epoch 60/200\n",
            "455/455 [==============================] - 0s 51us/sample - loss: 0.2280 - accuracy: 0.9110\n",
            "Epoch 61/200\n",
            "455/455 [==============================] - 0s 49us/sample - loss: 0.2259 - accuracy: 0.9110\n",
            "Epoch 62/200\n",
            "455/455 [==============================] - 0s 44us/sample - loss: 0.2245 - accuracy: 0.9088\n",
            "Epoch 63/200\n",
            "455/455 [==============================] - 0s 43us/sample - loss: 0.2226 - accuracy: 0.9088\n",
            "Epoch 64/200\n",
            "455/455 [==============================] - 0s 43us/sample - loss: 0.2207 - accuracy: 0.9121\n",
            "Epoch 65/200\n",
            "455/455 [==============================] - 0s 48us/sample - loss: 0.2192 - accuracy: 0.9121\n",
            "Epoch 66/200\n",
            "455/455 [==============================] - 0s 44us/sample - loss: 0.2179 - accuracy: 0.9110\n",
            "Epoch 67/200\n",
            "455/455 [==============================] - 0s 47us/sample - loss: 0.2161 - accuracy: 0.9121\n",
            "Epoch 68/200\n",
            "455/455 [==============================] - 0s 43us/sample - loss: 0.2146 - accuracy: 0.9121\n",
            "Epoch 69/200\n",
            "455/455 [==============================] - 0s 48us/sample - loss: 0.2135 - accuracy: 0.9121\n",
            "Epoch 70/200\n",
            "455/455 [==============================] - 0s 45us/sample - loss: 0.2122 - accuracy: 0.9121\n",
            "Epoch 71/200\n",
            "455/455 [==============================] - 0s 46us/sample - loss: 0.2108 - accuracy: 0.9121\n",
            "Epoch 72/200\n",
            "455/455 [==============================] - 0s 51us/sample - loss: 0.2099 - accuracy: 0.9143\n",
            "Epoch 73/200\n",
            "455/455 [==============================] - 0s 43us/sample - loss: 0.2082 - accuracy: 0.9110\n",
            "Epoch 74/200\n",
            "455/455 [==============================] - 0s 51us/sample - loss: 0.2069 - accuracy: 0.9154\n",
            "Epoch 75/200\n",
            "455/455 [==============================] - 0s 50us/sample - loss: 0.2062 - accuracy: 0.9132\n",
            "Epoch 76/200\n",
            "455/455 [==============================] - 0s 44us/sample - loss: 0.2052 - accuracy: 0.9143\n",
            "Epoch 77/200\n",
            "455/455 [==============================] - 0s 42us/sample - loss: 0.2045 - accuracy: 0.9143\n",
            "Epoch 78/200\n",
            "455/455 [==============================] - 0s 41us/sample - loss: 0.2033 - accuracy: 0.9154\n",
            "Epoch 79/200\n",
            "455/455 [==============================] - 0s 44us/sample - loss: 0.2018 - accuracy: 0.9154\n",
            "Epoch 80/200\n",
            "455/455 [==============================] - 0s 50us/sample - loss: 0.2009 - accuracy: 0.9132\n",
            "Epoch 81/200\n",
            "455/455 [==============================] - 0s 46us/sample - loss: 0.2000 - accuracy: 0.9143\n",
            "Epoch 82/200\n",
            "455/455 [==============================] - 0s 46us/sample - loss: 0.1990 - accuracy: 0.9154\n",
            "Epoch 83/200\n",
            "455/455 [==============================] - 0s 45us/sample - loss: 0.1981 - accuracy: 0.9165\n",
            "Epoch 84/200\n",
            "455/455 [==============================] - 0s 47us/sample - loss: 0.1972 - accuracy: 0.9154\n",
            "Epoch 85/200\n",
            "455/455 [==============================] - 0s 46us/sample - loss: 0.1963 - accuracy: 0.9165\n",
            "Epoch 86/200\n",
            "455/455 [==============================] - 0s 44us/sample - loss: 0.1955 - accuracy: 0.9154\n",
            "Epoch 87/200\n",
            "455/455 [==============================] - 0s 42us/sample - loss: 0.1949 - accuracy: 0.9187\n",
            "Epoch 88/200\n",
            "455/455 [==============================] - 0s 42us/sample - loss: 0.1937 - accuracy: 0.9187\n",
            "Epoch 89/200\n",
            "455/455 [==============================] - 0s 55us/sample - loss: 0.1932 - accuracy: 0.9187\n",
            "Epoch 90/200\n",
            "455/455 [==============================] - 0s 51us/sample - loss: 0.1921 - accuracy: 0.9187\n",
            "Epoch 91/200\n",
            "455/455 [==============================] - 0s 53us/sample - loss: 0.1913 - accuracy: 0.9187\n",
            "Epoch 92/200\n",
            "455/455 [==============================] - 0s 50us/sample - loss: 0.1909 - accuracy: 0.9143\n",
            "Epoch 93/200\n",
            "455/455 [==============================] - 0s 50us/sample - loss: 0.1907 - accuracy: 0.9176\n",
            "Epoch 94/200\n",
            "455/455 [==============================] - 0s 50us/sample - loss: 0.1895 - accuracy: 0.9187\n",
            "Epoch 95/200\n",
            "455/455 [==============================] - 0s 57us/sample - loss: 0.1886 - accuracy: 0.9187\n",
            "Epoch 96/200\n",
            "455/455 [==============================] - 0s 54us/sample - loss: 0.1881 - accuracy: 0.9198\n",
            "Epoch 97/200\n",
            "455/455 [==============================] - 0s 56us/sample - loss: 0.1870 - accuracy: 0.9209\n",
            "Epoch 98/200\n",
            "455/455 [==============================] - 0s 49us/sample - loss: 0.1864 - accuracy: 0.9220\n",
            "Epoch 99/200\n",
            "455/455 [==============================] - 0s 48us/sample - loss: 0.1856 - accuracy: 0.9198\n",
            "Epoch 100/200\n",
            "455/455 [==============================] - 0s 65us/sample - loss: 0.1850 - accuracy: 0.9209\n",
            "Epoch 101/200\n",
            "455/455 [==============================] - 0s 52us/sample - loss: 0.1850 - accuracy: 0.9209\n",
            "Epoch 102/200\n",
            "455/455 [==============================] - 0s 48us/sample - loss: 0.1845 - accuracy: 0.9220\n",
            "Epoch 103/200\n",
            "455/455 [==============================] - 0s 46us/sample - loss: 0.1838 - accuracy: 0.9220\n",
            "Epoch 104/200\n",
            "455/455 [==============================] - 0s 53us/sample - loss: 0.1825 - accuracy: 0.9231\n",
            "Epoch 105/200\n",
            "455/455 [==============================] - 0s 49us/sample - loss: 0.1817 - accuracy: 0.9242\n",
            "Epoch 106/200\n",
            "455/455 [==============================] - 0s 52us/sample - loss: 0.1816 - accuracy: 0.9253\n",
            "Epoch 107/200\n",
            "455/455 [==============================] - 0s 52us/sample - loss: 0.1806 - accuracy: 0.9253\n",
            "Epoch 108/200\n",
            "455/455 [==============================] - 0s 45us/sample - loss: 0.1804 - accuracy: 0.9275\n",
            "Epoch 109/200\n",
            "455/455 [==============================] - 0s 49us/sample - loss: 0.1795 - accuracy: 0.9264\n",
            "Epoch 110/200\n",
            "455/455 [==============================] - 0s 39us/sample - loss: 0.1793 - accuracy: 0.9264\n",
            "Epoch 111/200\n",
            "455/455 [==============================] - 0s 45us/sample - loss: 0.1787 - accuracy: 0.9286\n",
            "Epoch 112/200\n",
            "455/455 [==============================] - 0s 46us/sample - loss: 0.1784 - accuracy: 0.9275\n",
            "Epoch 113/200\n",
            "455/455 [==============================] - 0s 46us/sample - loss: 0.1777 - accuracy: 0.9242\n",
            "Epoch 114/200\n",
            "455/455 [==============================] - 0s 46us/sample - loss: 0.1767 - accuracy: 0.9264\n",
            "Epoch 115/200\n",
            "455/455 [==============================] - 0s 53us/sample - loss: 0.1764 - accuracy: 0.9286\n",
            "Epoch 116/200\n",
            "455/455 [==============================] - 0s 57us/sample - loss: 0.1759 - accuracy: 0.9286\n",
            "Epoch 117/200\n",
            "455/455 [==============================] - 0s 47us/sample - loss: 0.1752 - accuracy: 0.9286\n",
            "Epoch 118/200\n",
            "455/455 [==============================] - 0s 68us/sample - loss: 0.1749 - accuracy: 0.9286\n",
            "Epoch 119/200\n",
            "455/455 [==============================] - 0s 64us/sample - loss: 0.1743 - accuracy: 0.9286\n",
            "Epoch 120/200\n",
            "455/455 [==============================] - 0s 48us/sample - loss: 0.1744 - accuracy: 0.9286\n",
            "Epoch 121/200\n",
            "455/455 [==============================] - 0s 56us/sample - loss: 0.1733 - accuracy: 0.9297\n",
            "Epoch 122/200\n",
            "455/455 [==============================] - 0s 44us/sample - loss: 0.1736 - accuracy: 0.9297\n",
            "Epoch 123/200\n",
            "455/455 [==============================] - 0s 48us/sample - loss: 0.1726 - accuracy: 0.9297\n",
            "Epoch 124/200\n",
            "455/455 [==============================] - 0s 47us/sample - loss: 0.1717 - accuracy: 0.9297\n",
            "Epoch 125/200\n",
            "455/455 [==============================] - 0s 51us/sample - loss: 0.1717 - accuracy: 0.9341\n",
            "Epoch 126/200\n",
            "455/455 [==============================] - 0s 47us/sample - loss: 0.1712 - accuracy: 0.9341\n",
            "Epoch 127/200\n",
            "455/455 [==============================] - 0s 46us/sample - loss: 0.1707 - accuracy: 0.9330\n",
            "Epoch 128/200\n",
            "455/455 [==============================] - 0s 41us/sample - loss: 0.1701 - accuracy: 0.9286\n",
            "Epoch 129/200\n",
            "455/455 [==============================] - 0s 43us/sample - loss: 0.1697 - accuracy: 0.9297\n",
            "Epoch 130/200\n",
            "455/455 [==============================] - 0s 47us/sample - loss: 0.1692 - accuracy: 0.9319\n",
            "Epoch 131/200\n",
            "455/455 [==============================] - 0s 44us/sample - loss: 0.1693 - accuracy: 0.9319\n",
            "Epoch 132/200\n",
            "455/455 [==============================] - 0s 50us/sample - loss: 0.1683 - accuracy: 0.9319\n",
            "Epoch 133/200\n",
            "455/455 [==============================] - 0s 48us/sample - loss: 0.1682 - accuracy: 0.9286\n",
            "Epoch 134/200\n",
            "455/455 [==============================] - 0s 52us/sample - loss: 0.1676 - accuracy: 0.9319\n",
            "Epoch 135/200\n",
            "455/455 [==============================] - 0s 50us/sample - loss: 0.1670 - accuracy: 0.9319\n",
            "Epoch 136/200\n",
            "455/455 [==============================] - 0s 52us/sample - loss: 0.1673 - accuracy: 0.9330\n",
            "Epoch 137/200\n",
            "455/455 [==============================] - 0s 52us/sample - loss: 0.1662 - accuracy: 0.9341\n",
            "Epoch 138/200\n",
            "455/455 [==============================] - 0s 53us/sample - loss: 0.1660 - accuracy: 0.9319\n",
            "Epoch 139/200\n",
            "455/455 [==============================] - 0s 55us/sample - loss: 0.1654 - accuracy: 0.9319\n",
            "Epoch 140/200\n",
            "455/455 [==============================] - 0s 62us/sample - loss: 0.1656 - accuracy: 0.9308\n",
            "Epoch 141/200\n",
            "455/455 [==============================] - 0s 54us/sample - loss: 0.1653 - accuracy: 0.9297\n",
            "Epoch 142/200\n",
            "455/455 [==============================] - 0s 62us/sample - loss: 0.1644 - accuracy: 0.9319\n",
            "Epoch 143/200\n",
            "455/455 [==============================] - 0s 54us/sample - loss: 0.1637 - accuracy: 0.9308\n",
            "Epoch 144/200\n",
            "455/455 [==============================] - 0s 63us/sample - loss: 0.1634 - accuracy: 0.9319\n",
            "Epoch 145/200\n",
            "455/455 [==============================] - 0s 56us/sample - loss: 0.1634 - accuracy: 0.9341\n",
            "Epoch 146/200\n",
            "455/455 [==============================] - 0s 53us/sample - loss: 0.1628 - accuracy: 0.9341\n",
            "Epoch 147/200\n",
            "455/455 [==============================] - 0s 56us/sample - loss: 0.1623 - accuracy: 0.9297\n",
            "Epoch 148/200\n",
            "455/455 [==============================] - 0s 57us/sample - loss: 0.1621 - accuracy: 0.9308\n",
            "Epoch 149/200\n",
            "455/455 [==============================] - 0s 57us/sample - loss: 0.1619 - accuracy: 0.9308\n",
            "Epoch 150/200\n",
            "455/455 [==============================] - 0s 51us/sample - loss: 0.1615 - accuracy: 0.9319\n",
            "Epoch 151/200\n",
            "455/455 [==============================] - 0s 42us/sample - loss: 0.1610 - accuracy: 0.9330\n",
            "Epoch 152/200\n",
            "455/455 [==============================] - 0s 43us/sample - loss: 0.1610 - accuracy: 0.9330\n",
            "Epoch 153/200\n",
            "455/455 [==============================] - 0s 42us/sample - loss: 0.1604 - accuracy: 0.9330\n",
            "Epoch 154/200\n",
            "455/455 [==============================] - 0s 43us/sample - loss: 0.1605 - accuracy: 0.9319\n",
            "Epoch 155/200\n",
            "455/455 [==============================] - 0s 50us/sample - loss: 0.1602 - accuracy: 0.9319\n",
            "Epoch 156/200\n",
            "455/455 [==============================] - 0s 44us/sample - loss: 0.1597 - accuracy: 0.9341\n",
            "Epoch 157/200\n",
            "455/455 [==============================] - 0s 51us/sample - loss: 0.1591 - accuracy: 0.9330\n",
            "Epoch 158/200\n",
            "455/455 [==============================] - 0s 43us/sample - loss: 0.1590 - accuracy: 0.9319\n",
            "Epoch 159/200\n",
            "455/455 [==============================] - 0s 47us/sample - loss: 0.1588 - accuracy: 0.9330\n",
            "Epoch 160/200\n",
            "455/455 [==============================] - 0s 44us/sample - loss: 0.1581 - accuracy: 0.9341\n",
            "Epoch 161/200\n",
            "455/455 [==============================] - 0s 43us/sample - loss: 0.1598 - accuracy: 0.9341\n",
            "Epoch 162/200\n",
            "455/455 [==============================] - 0s 43us/sample - loss: 0.1577 - accuracy: 0.9319\n",
            "Epoch 163/200\n",
            "455/455 [==============================] - 0s 50us/sample - loss: 0.1579 - accuracy: 0.9352\n",
            "Epoch 164/200\n",
            "455/455 [==============================] - 0s 51us/sample - loss: 0.1574 - accuracy: 0.9341\n",
            "Epoch 165/200\n",
            "455/455 [==============================] - 0s 50us/sample - loss: 0.1567 - accuracy: 0.9308\n",
            "Epoch 166/200\n",
            "455/455 [==============================] - 0s 46us/sample - loss: 0.1565 - accuracy: 0.9330\n",
            "Epoch 167/200\n",
            "455/455 [==============================] - 0s 46us/sample - loss: 0.1564 - accuracy: 0.9352\n",
            "Epoch 168/200\n",
            "455/455 [==============================] - 0s 51us/sample - loss: 0.1558 - accuracy: 0.9330\n",
            "Epoch 169/200\n",
            "455/455 [==============================] - 0s 43us/sample - loss: 0.1554 - accuracy: 0.9330\n",
            "Epoch 170/200\n",
            "455/455 [==============================] - 0s 45us/sample - loss: 0.1553 - accuracy: 0.9330\n",
            "Epoch 171/200\n",
            "455/455 [==============================] - 0s 41us/sample - loss: 0.1548 - accuracy: 0.9319\n",
            "Epoch 172/200\n",
            "455/455 [==============================] - 0s 44us/sample - loss: 0.1551 - accuracy: 0.9352\n",
            "Epoch 173/200\n",
            "455/455 [==============================] - 0s 43us/sample - loss: 0.1544 - accuracy: 0.9352\n",
            "Epoch 174/200\n",
            "455/455 [==============================] - 0s 52us/sample - loss: 0.1550 - accuracy: 0.9341\n",
            "Epoch 175/200\n",
            "455/455 [==============================] - 0s 49us/sample - loss: 0.1540 - accuracy: 0.9363\n",
            "Epoch 176/200\n",
            "455/455 [==============================] - 0s 48us/sample - loss: 0.1536 - accuracy: 0.9352\n",
            "Epoch 177/200\n",
            "455/455 [==============================] - 0s 55us/sample - loss: 0.1534 - accuracy: 0.9363\n",
            "Epoch 178/200\n",
            "455/455 [==============================] - 0s 50us/sample - loss: 0.1535 - accuracy: 0.9363\n",
            "Epoch 179/200\n",
            "455/455 [==============================] - 0s 50us/sample - loss: 0.1532 - accuracy: 0.9341\n",
            "Epoch 180/200\n",
            "455/455 [==============================] - 0s 48us/sample - loss: 0.1527 - accuracy: 0.9341\n",
            "Epoch 181/200\n",
            "455/455 [==============================] - 0s 44us/sample - loss: 0.1527 - accuracy: 0.9352\n",
            "Epoch 182/200\n",
            "455/455 [==============================] - 0s 46us/sample - loss: 0.1527 - accuracy: 0.9341\n",
            "Epoch 183/200\n",
            "455/455 [==============================] - 0s 43us/sample - loss: 0.1520 - accuracy: 0.9341\n",
            "Epoch 184/200\n",
            "455/455 [==============================] - 0s 45us/sample - loss: 0.1531 - accuracy: 0.9352\n",
            "Epoch 185/200\n",
            "455/455 [==============================] - 0s 70us/sample - loss: 0.1520 - accuracy: 0.9341\n",
            "Epoch 186/200\n",
            "455/455 [==============================] - 0s 44us/sample - loss: 0.1515 - accuracy: 0.9374\n",
            "Epoch 187/200\n",
            "455/455 [==============================] - 0s 43us/sample - loss: 0.1526 - accuracy: 0.9374\n",
            "Epoch 188/200\n",
            "455/455 [==============================] - 0s 51us/sample - loss: 0.1511 - accuracy: 0.9363\n",
            "Epoch 189/200\n",
            "455/455 [==============================] - 0s 48us/sample - loss: 0.1511 - accuracy: 0.9363\n",
            "Epoch 190/200\n",
            "455/455 [==============================] - 0s 44us/sample - loss: 0.1509 - accuracy: 0.9363\n",
            "Epoch 191/200\n",
            "455/455 [==============================] - 0s 48us/sample - loss: 0.1503 - accuracy: 0.9341\n",
            "Epoch 192/200\n",
            "455/455 [==============================] - 0s 58us/sample - loss: 0.1506 - accuracy: 0.9385\n",
            "Epoch 193/200\n",
            "455/455 [==============================] - 0s 48us/sample - loss: 0.1502 - accuracy: 0.9407\n",
            "Epoch 194/200\n",
            "455/455 [==============================] - 0s 47us/sample - loss: 0.1499 - accuracy: 0.9385\n",
            "Epoch 195/200\n",
            "455/455 [==============================] - 0s 49us/sample - loss: 0.1496 - accuracy: 0.9341\n",
            "Epoch 196/200\n",
            "455/455 [==============================] - 0s 51us/sample - loss: 0.1498 - accuracy: 0.9341\n",
            "Epoch 197/200\n",
            "455/455 [==============================] - 0s 54us/sample - loss: 0.1499 - accuracy: 0.9341\n",
            "Epoch 198/200\n",
            "455/455 [==============================] - 0s 50us/sample - loss: 0.1495 - accuracy: 0.9385\n",
            "Epoch 199/200\n",
            "455/455 [==============================] - 0s 52us/sample - loss: 0.1490 - accuracy: 0.9407\n",
            "Epoch 200/200\n",
            "455/455 [==============================] - 0s 57us/sample - loss: 0.1487 - accuracy: 0.9385\n"
          ],
          "name": "stdout"
        },
        {
          "output_type": "execute_result",
          "data": {
            "text/plain": [
              "<tensorflow.python.keras.callbacks.History at 0x7fd0026e2198>"
            ]
          },
          "metadata": {
            "tags": []
          },
          "execution_count": 46
        }
      ]
    },
    {
      "cell_type": "markdown",
      "metadata": {
        "id": "ccJ-FDiAlJ5-",
        "colab_type": "text"
      },
      "source": [
        "Report the accuracy of the test sample."
      ]
    },
    {
      "cell_type": "code",
      "metadata": {
        "id": "lS9eVCRAlJ5-",
        "colab_type": "code",
        "outputId": "d2f0ada1-bbf1-44d0-abe9-a8e4da7575b2",
        "colab": {
          "base_uri": "https://localhost:8080/",
          "height": 51
        }
      },
      "source": [
        "# Answer below:\n",
        "score = model.evaluate(X_test, y_test, verbose=0)\n",
        "\n",
        "print(f'Test score: {score[0]}')\n",
        "print(f'Test accuracy: {score[1]}')\n"
      ],
      "execution_count": 0,
      "outputs": [
        {
          "output_type": "stream",
          "text": [
            "Test score: 0.11258809320759355\n",
            "Test accuracy: 0.9649122953414917\n"
          ],
          "name": "stdout"
        }
      ]
    },
    {
      "cell_type": "code",
      "metadata": {
        "id": "b-LeTBenlJ6A",
        "colab_type": "code",
        "colab": {}
      },
      "source": [
        ""
      ],
      "execution_count": 0,
      "outputs": []
    }
  ]
}