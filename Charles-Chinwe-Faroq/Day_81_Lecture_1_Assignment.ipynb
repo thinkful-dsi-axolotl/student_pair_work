{
  "nbformat": 4,
  "nbformat_minor": 0,
  "metadata": {
    "kernelspec": {
      "display_name": "Python 3",
      "language": "python",
      "name": "python3"
    },
    "language_info": {
      "codemirror_mode": {
        "name": "ipython",
        "version": 3
      },
      "file_extension": ".py",
      "mimetype": "text/x-python",
      "name": "python",
      "nbconvert_exporter": "python",
      "pygments_lexer": "ipython3",
      "version": "3.7.0"
    },
    "colab": {
      "name": "Day 81 Lecture 1 Assignment.ipynb",
      "provenance": [],
      "collapsed_sections": []
    }
  },
  "cells": [
    {
      "cell_type": "markdown",
      "metadata": {
        "id": "T-xOZ1mZ51O8",
        "colab_type": "text"
      },
      "source": [
        "## Introduction to Deep Learning\n",
        "\n",
        "In this assignment, we will learn about deep learning and neural networks. Answer the questions below:"
      ]
    },
    {
      "cell_type": "markdown",
      "metadata": {
        "id": "TUBtirr_51O-",
        "colab_type": "text"
      },
      "source": [
        "#### 1. How do neural networks differ from linear models?"
      ]
    },
    {
      "cell_type": "markdown",
      "metadata": {
        "id": "fGwHenMJ51O-",
        "colab_type": "text"
      },
      "source": [
        "Input is linear and the activation function creates a non-linear output.\n",
        "\n"
      ]
    },
    {
      "cell_type": "markdown",
      "metadata": {
        "id": "tJF-uwtC51O_",
        "colab_type": "text"
      },
      "source": [
        "#### 2. Why do deep networks outperform shallow networks?"
      ]
    },
    {
      "cell_type": "markdown",
      "metadata": {
        "id": "JMwwlwBH51PA",
        "colab_type": "text"
      },
      "source": [
        "Deeper networks allow the model to identify more complicated patterns.\n",
        "\n"
      ]
    },
    {
      "cell_type": "markdown",
      "metadata": {
        "id": "8asF2DFW51PA",
        "colab_type": "text"
      },
      "source": [
        "#### 3. Why are dense layers called this way? What is a different name for them? Could we have a layer that is not dense?"
      ]
    },
    {
      "cell_type": "markdown",
      "metadata": {
        "id": "05hZS0ea51PB",
        "colab_type": "text"
      },
      "source": [
        "They are named dense since each node is fully connected to one another. Yes, the are numerous other layers such as Convolutional, Recurrent, and Pooling.\n",
        "\n"
      ]
    },
    {
      "cell_type": "markdown",
      "metadata": {
        "id": "FAPTWoY251PB",
        "colab_type": "text"
      },
      "source": [
        "#### 4. Do neural networks tend to overfit less than other models? If so, how?"
      ]
    },
    {
      "cell_type": "code",
      "metadata": {
        "id": "-qxTVXyc51PC",
        "colab_type": "code",
        "colab": {}
      },
      "source": [
        "In theory, neural networks tend to overfit more due to the complexity and backward propogation inherent in fitting the model to the training data.\n",
        "\n"
      ],
      "execution_count": 0,
      "outputs": []
    },
    {
      "cell_type": "markdown",
      "metadata": {
        "id": "S0CALsKQ51PE",
        "colab_type": "text"
      },
      "source": [
        "#### 5. Will a model with more hidden layers always have a more accurate prediction? Why or why not?"
      ]
    },
    {
      "cell_type": "code",
      "metadata": {
        "id": "DzhstMjg51PF",
        "colab_type": "code",
        "colab": {}
      },
      "source": [
        "It depends on the number of neurons in each layer as well as the input size. However, predictions on the test data will tend to be less accurate since more layers tends to result in overfitting on the training data.\n",
        "\n"
      ],
      "execution_count": 0,
      "outputs": []
    },
    {
      "cell_type": "markdown",
      "metadata": {
        "id": "2qxJk3Km51PG",
        "colab_type": "text"
      },
      "source": [
        "#### 6. We generate a neural network for a dataset 10 features. If we have three layers, the first with 64 nodes and the second and third with 32 nodes, how many parameters do we need to estimate?"
      ]
    },
    {
      "cell_type": "code",
      "metadata": {
        "id": "kKbl9Xq251PH",
        "colab_type": "code",
        "colab": {}
      },
      "source": [
        "layer 1: 11 * 64 = 704\n",
        "layer 2: 65 * 32 = 2,080\n",
        "layer 3: 33* 32 = 1,056\n",
        "total = 3,840\n"
      ],
      "execution_count": 0,
      "outputs": []
    }
  ]
}