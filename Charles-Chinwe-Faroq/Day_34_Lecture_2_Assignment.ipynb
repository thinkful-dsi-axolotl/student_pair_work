{
  "nbformat": 4,
  "nbformat_minor": 0,
  "metadata": {
    "kernelspec": {
      "display_name": "Python 3",
      "language": "python",
      "name": "python3"
    },
    "language_info": {
      "codemirror_mode": {
        "name": "ipython",
        "version": 3
      },
      "file_extension": ".py",
      "mimetype": "text/x-python",
      "name": "python",
      "nbconvert_exporter": "python",
      "pygments_lexer": "ipython3",
      "version": "3.7.0"
    },
    "colab": {
      "name": "Day 34 Lecture 2 Assignment.ipynb",
      "provenance": [],
      "collapsed_sections": []
    }
  },
  "cells": [
    {
      "cell_type": "markdown",
      "metadata": {
        "id": "dNper0elrrdZ",
        "colab_type": "text"
      },
      "source": [
        "## Day 34 Lecture 2 Assignment\n",
        "\n",
        "In this assignment, we will learn about gradient boosting. We will use a dataset describing TripAdvisor reviews for Las Vegas hotels loaded below and analyze the model generated for this dataset."
      ]
    },
    {
      "cell_type": "code",
      "metadata": {
        "id": "GahGJXj_rrda",
        "colab_type": "code",
        "colab": {}
      },
      "source": [
        "%matplotlib inline\n",
        "\n",
        "import matplotlib.pyplot as plt\n",
        "import numpy as np\n",
        "import pandas as pd"
      ],
      "execution_count": 0,
      "outputs": []
    },
    {
      "cell_type": "code",
      "metadata": {
        "id": "LM7xH1Werrdc",
        "colab_type": "code",
        "colab": {}
      },
      "source": [
        "vegas = pd.read_csv('https://tf-assets-prod.s3.amazonaws.com/tf-curric/data-science/LasVegasTripAdvisorReviews-Dataset.csv', sep=';')"
      ],
      "execution_count": 0,
      "outputs": []
    },
    {
      "cell_type": "code",
      "metadata": {
        "id": "2lUxIVfprrdd",
        "colab_type": "code",
        "colab": {}
      },
      "source": [
        "vegas.head()"
      ],
      "execution_count": 0,
      "outputs": []
    },
    {
      "cell_type": "markdown",
      "metadata": {
        "id": "GdcrlA-drrdf",
        "colab_type": "text"
      },
      "source": [
        "Check for missing data and remove all rows with missing data"
      ]
    },
    {
      "cell_type": "code",
      "metadata": {
        "id": "OFRXxDeFrrdg",
        "colab_type": "code",
        "colab": {}
      },
      "source": [
        "# answer below: \n",
        "vegas.info()\n"
      ],
      "execution_count": 0,
      "outputs": []
    },
    {
      "cell_type": "code",
      "metadata": {
        "id": "25xLz2b5OxHc",
        "colab_type": "code",
        "colab": {}
      },
      "source": [
        "for col in vegas.columns:\n",
        "    print(vegas[col].value_counts())\n",
        "\n",
        "vegas.columns = [x.lower().replace('.', '').replace(' ', '_') for x in vegas.columns]"
      ],
      "execution_count": 0,
      "outputs": []
    },
    {
      "cell_type": "markdown",
      "metadata": {
        "id": "Bog4DfbRrrdh",
        "colab_type": "text"
      },
      "source": [
        "How many reviews do we have for each hotel in the dataset?"
      ]
    },
    {
      "cell_type": "code",
      "metadata": {
        "id": "Kbm7vRufP0t7",
        "colab_type": "code",
        "colab": {}
      },
      "source": [
        "vegas.info()"
      ],
      "execution_count": 0,
      "outputs": []
    },
    {
      "cell_type": "code",
      "metadata": {
        "id": "FBR4vkh-rrdh",
        "colab_type": "code",
        "colab": {}
      },
      "source": [
        "# answer below:\n",
        "df = vegas['hotel_name']\n",
        "df = pd.concat([df, vegas['nr_hotel_reviews']], axis = 1)\n",
        "df.groupby(by = ['hotel_name']).sum()"
      ],
      "execution_count": 0,
      "outputs": []
    },
    {
      "cell_type": "markdown",
      "metadata": {
        "id": "jiD4nUMGrrdj",
        "colab_type": "text"
      },
      "source": [
        "We would like to predict the score variable. Examine the dataset and decide which columns should be turned into dummy variables and transform the data. Also, where we have two columns with redundant information, remove one of the two columns. Remove the hotel stars column."
      ]
    },
    {
      "cell_type": "code",
      "metadata": {
        "id": "9eo_8lZKrrdj",
        "colab_type": "code",
        "colab": {}
      },
      "source": [
        "# answer below:\n",
        "vegas.columns\n"
      ],
      "execution_count": 0,
      "outputs": []
    },
    {
      "cell_type": "code",
      "metadata": {
        "id": "MJy9-ZSHQ1QZ",
        "colab_type": "code",
        "colab": {}
      },
      "source": [
        "plt.hist(vegas['score'])"
      ],
      "execution_count": 0,
      "outputs": []
    },
    {
      "cell_type": "code",
      "metadata": {
        "id": "Y8S9ALqhRDAc",
        "colab_type": "code",
        "colab": {}
      },
      "source": [
        "df_v = vegas.drop(columns = ['user_continent','user_country', 'review_month', 'review_weekday', 'hotel_stars'])"
      ],
      "execution_count": 0,
      "outputs": []
    },
    {
      "cell_type": "code",
      "metadata": {
        "id": "L6v-GPMYQuFu",
        "colab_type": "code",
        "colab": {}
      },
      "source": [
        "dummies = pd.get_dummies(vegas['traveler_type'], drop_first = True, prefix = 'traveler_type')\n",
        "df_v = pd.concat((df_v, dummies), axis = 1)\n",
        "\n",
        "binary = ['free_internet','pool', 'gym', 'tennis_court', 'spa', 'casino']\n",
        "for col in binary:\n",
        "    df_v = pd.concat((df_v, pd.get_dummies((vegas[col]), drop_first= True, prefix = col)), axis = 1)\n",
        "df_v = pd.concat((df_v, pd.get_dummies(vegas['period_of_stay'], drop_first = True, prefix = 'period_of_stay')), axis = 1)\n",
        "df_v = pd.concat((df_v, pd.get_dummies(vegas['hotel_name'], drop_first = True, prefix = 'hotel_name')), axis = 1)\n",
        "# df_v = pd.concat([df_v, pd.get_dummies(vegas['user_country'], prefix= 'user_country')], axis = 1)\n",
        "df_v.drop(columns = binary, inplace= True)\n",
        "df_v.drop(columns = ['traveler_type','period_of_stay', 'hotel_name' ], inplace = True, axis = 1)\n"
      ],
      "execution_count": 0,
      "outputs": []
    },
    {
      "cell_type": "code",
      "metadata": {
        "id": "ftg_jmvOU2__",
        "colab_type": "code",
        "colab": {}
      },
      "source": [
        "df = vegas.drop(columns=vegas.select_dtypes(exclude='number'), axis=1)\n",
        "\n",
        "for column in vegas.select_dtypes(exclude='number').columns: \n",
        "    df = pd.concat([df,pd.get_dummies(vegas[column], drop_first=True)], axis=1)\n",
        "df.head()"
      ],
      "execution_count": 0,
      "outputs": []
    },
    {
      "cell_type": "code",
      "metadata": {
        "id": "w0jc_sQVrrdl",
        "colab_type": "code",
        "outputId": "12ca6436-65c7-48a1-a769-37230fdcf094",
        "colab": {
          "base_uri": "https://localhost:8080/",
          "height": 791
        }
      },
      "source": [
        "# answer below:\n",
        "\n",
        "df_v.info()"
      ],
      "execution_count": 0,
      "outputs": [
        {
          "output_type": "stream",
          "text": [
            "<class 'pandas.core.frame.DataFrame'>\n",
            "RangeIndex: 504 entries, 0 to 503\n",
            "Data columns (total 39 columns):\n",
            "nr_reviews                                                        504 non-null int64\n",
            "nr_hotel_reviews                                                  504 non-null int64\n",
            "helpful_votes                                                     504 non-null int64\n",
            "score                                                             504 non-null int64\n",
            "nr_rooms                                                          504 non-null int64\n",
            "member_years                                                      504 non-null int64\n",
            "traveler_type_Couples                                             504 non-null uint8\n",
            "traveler_type_Families                                            504 non-null uint8\n",
            "traveler_type_Friends                                             504 non-null uint8\n",
            "traveler_type_Solo                                                504 non-null uint8\n",
            "free_internet_YES                                                 504 non-null uint8\n",
            "pool_YES                                                          504 non-null uint8\n",
            "gym_YES                                                           504 non-null uint8\n",
            "tennis_court_YES                                                  504 non-null uint8\n",
            "spa_YES                                                           504 non-null uint8\n",
            "casino_YES                                                        504 non-null uint8\n",
            "period_of_stay_Jun-Aug                                            504 non-null uint8\n",
            "period_of_stay_Mar-May                                            504 non-null uint8\n",
            "period_of_stay_Sep-Nov                                            504 non-null uint8\n",
            "hotel_name_Caesars Palace                                         504 non-null uint8\n",
            "hotel_name_Circus Circus Hotel & Casino Las Vegas                 504 non-null uint8\n",
            "hotel_name_Encore at wynn Las Vegas                               504 non-null uint8\n",
            "hotel_name_Excalibur Hotel & Casino                               504 non-null uint8\n",
            "hotel_name_Hilton Grand Vacations at the Flamingo                 504 non-null uint8\n",
            "hotel_name_Hilton Grand Vacations on the Boulevard                504 non-null uint8\n",
            "hotel_name_Marriott's Grand Chateau                               504 non-null uint8\n",
            "hotel_name_Monte Carlo Resort&Casino                              504 non-null uint8\n",
            "hotel_name_Paris Las Vegas                                        504 non-null uint8\n",
            "hotel_name_The Cosmopolitan Las Vegas                             504 non-null uint8\n",
            "hotel_name_The Cromwell                                           504 non-null uint8\n",
            "hotel_name_The Palazzo Resort Hotel Casino                        504 non-null uint8\n",
            "hotel_name_The Venetian Las Vegas Hotel                           504 non-null uint8\n",
            "hotel_name_The Westin las Vegas Hotel Casino & Spa                504 non-null uint8\n",
            "hotel_name_Treasure Island- TI Hotel & Casino                     504 non-null uint8\n",
            "hotel_name_Tropicana Las Vegas - A Double Tree by Hilton Hotel    504 non-null uint8\n",
            "hotel_name_Trump International Hotel Las Vegas                    504 non-null uint8\n",
            "hotel_name_Tuscany Las Vegas Suites & Casino                      504 non-null uint8\n",
            "hotel_name_Wyndham Grand Desert                                   504 non-null uint8\n",
            "hotel_name_Wynn Las Vegas                                         504 non-null uint8\n",
            "dtypes: int64(6), uint8(33)\n",
            "memory usage: 40.0 KB\n"
          ],
          "name": "stdout"
        }
      ]
    },
    {
      "cell_type": "markdown",
      "metadata": {
        "id": "ipD7WyBHrrdl",
        "colab_type": "text"
      },
      "source": [
        "Split the data into train and test (20% in test)"
      ]
    },
    {
      "cell_type": "code",
      "metadata": {
        "id": "L-K0DSPhaLS3",
        "colab_type": "code",
        "colab": {}
      },
      "source": [
        "from sklearn.model_selection import train_test_split\n",
        "\n",
        "X = df_v.drop('score', axis = 1)\n",
        "y = df_v['score']\n",
        "\n",
        "X_train, X_test, y_train, y_test = train_test_split(X,y, test_size = 0.20, random_state = 34)"
      ],
      "execution_count": 0,
      "outputs": []
    },
    {
      "cell_type": "markdown",
      "metadata": {
        "id": "0VZ7h_b3rrdn",
        "colab_type": "text"
      },
      "source": [
        "Create a graident boosted regression model for predicting the score. To produce the accuracy score for the test data, first round the prediction and then compare to the observed."
      ]
    },
    {
      "cell_type": "code",
      "metadata": {
        "id": "PDRCmva3rrdn",
        "colab_type": "code",
        "outputId": "c7403506-eddb-48c0-a0d7-20da88f9067f",
        "colab": {
          "base_uri": "https://localhost:8080/",
          "height": 35
        }
      },
      "source": [
        "# answer below:\n",
        "from sklearn.ensemble import GradientBoostingRegressor\n",
        "\n",
        "gbr = GradientBoostingRegressor()\n",
        "gbr.fit(X_train, y_train)\n",
        "\n",
        "gbr.score(X_train, y_train), gbr.score(X_test, y_test)\n"
      ],
      "execution_count": 0,
      "outputs": [
        {
          "output_type": "execute_result",
          "data": {
            "text/plain": [
              "(0.6301743162268735, -0.15211783764545106)"
            ]
          },
          "metadata": {
            "tags": []
          },
          "execution_count": 153
        }
      ]
    },
    {
      "cell_type": "code",
      "metadata": {
        "id": "jhOauVqWlg8g",
        "colab_type": "code",
        "colab": {}
      },
      "source": [
        "gbr.predict(X_test)"
      ],
      "execution_count": 0,
      "outputs": []
    },
    {
      "cell_type": "code",
      "metadata": {
        "id": "jp9Mva_lkTL3",
        "colab_type": "code",
        "colab": {}
      },
      "source": [
        "y.hist()"
      ],
      "execution_count": 0,
      "outputs": []
    },
    {
      "cell_type": "code",
      "metadata": {
        "id": "4HaDGzwYjoMg",
        "colab_type": "code",
        "colab": {}
      },
      "source": [
        "y_train.hist()"
      ],
      "execution_count": 0,
      "outputs": []
    },
    {
      "cell_type": "code",
      "metadata": {
        "id": "2iF0_UIGjtiR",
        "colab_type": "code",
        "colab": {}
      },
      "source": [
        "y_test.hist()"
      ],
      "execution_count": 0,
      "outputs": []
    },
    {
      "cell_type": "markdown",
      "metadata": {
        "id": "xxYf4M0errdp",
        "colab_type": "text"
      },
      "source": [
        "Try again with a learning rate of 0.8 and 0.3 and compare the results."
      ]
    },
    {
      "cell_type": "code",
      "metadata": {
        "id": "0unoTHTSrrdp",
        "colab_type": "code",
        "outputId": "33301a1c-9145-4eaf-f48f-72375865b591",
        "colab": {
          "base_uri": "https://localhost:8080/",
          "height": 175
        }
      },
      "source": [
        "# answer below:\n",
        "gbr = GradientBoostingRegressor(learning_rate = 0.1, max_depth= 7, n_estimators = 100)\n",
        "gbr.fit(X_train, y_train)\n",
        "\n"
      ],
      "execution_count": 0,
      "outputs": [
        {
          "output_type": "execute_result",
          "data": {
            "text/plain": [
              "GradientBoostingRegressor(alpha=0.9, criterion='friedman_mse', init=None,\n",
              "                          learning_rate=0.1, loss='ls', max_depth=7,\n",
              "                          max_features=None, max_leaf_nodes=None,\n",
              "                          min_impurity_decrease=0.0, min_impurity_split=None,\n",
              "                          min_samples_leaf=1, min_samples_split=2,\n",
              "                          min_weight_fraction_leaf=0.0, n_estimators=100,\n",
              "                          n_iter_no_change=None, presort='auto',\n",
              "                          random_state=None, subsample=1.0, tol=0.0001,\n",
              "                          validation_fraction=0.1, verbose=0, warm_start=False)"
            ]
          },
          "metadata": {
            "tags": []
          },
          "execution_count": 214
        }
      ]
    },
    {
      "cell_type": "code",
      "metadata": {
        "id": "qO0NuzRud39L",
        "colab_type": "code",
        "outputId": "4f15119b-a3c5-4bf4-ab30-7ebd96a331bc",
        "colab": {
          "base_uri": "https://localhost:8080/",
          "height": 35
        }
      },
      "source": [
        "\n",
        "from sklearn.metrics import accuracy_score\n",
        "predict_train = gbr.predict(X_train)\n",
        "predict_test = gbr.predict(X_test)\n",
        "\n",
        "predict_train.astype(int)\n",
        "predict_test.astype(int)\n",
        "accuracy_score(y_test,(predict_test.round()).astype(int))"
      ],
      "execution_count": 0,
      "outputs": [
        {
          "output_type": "execute_result",
          "data": {
            "text/plain": [
              "0.39603960396039606"
            ]
          },
          "metadata": {
            "tags": []
          },
          "execution_count": 218
        }
      ]
    },
    {
      "cell_type": "code",
      "metadata": {
        "id": "F9eY04llc9Gn",
        "colab_type": "code",
        "outputId": "8041aa7f-42c3-4b1a-abb6-e88e46d1177f",
        "colab": {
          "base_uri": "https://localhost:8080/",
          "height": 421
        }
      },
      "source": [
        "from sklearn import tree\n",
        "\n",
        "preds = pd.DataFrame()\n",
        "labels = []\n",
        "\n",
        "uniquex = df_v['score'].unique()\n",
        "\n",
        "# Iterate through decision trees, each time using the residuals\n",
        "# from the previous tree as the inputs.\n",
        "for m in range(0, 101):\n",
        "    \n",
        "    # Initialize and fit the tree. Set the max depth to 2.\n",
        "    decision_tree = tree.DecisionTreeRegressor(max_depth=2)\n",
        "    decision_tree.fit(X_train,y_train)\n",
        "    \n",
        "    # Get and store predicted values.\n",
        "    pred = decision_tree.predict(X_test)\n",
        "    preds['pred{}'.format(m)] = pred\n",
        "    \n",
        "    # Residuals.\n",
        "    y_test = y_test - pred\n",
        "\n",
        "    # Output every 20 iterations.\n",
        "    if m % 20 == 0:\n",
        "        print('Weak learner {} R^2: {}'.format(m, decision_tree.score(X_test, y_test)))\n",
        "        labels = labels + [m]\n",
        "        bestpred = preds.sum(axis=1)\n",
        "        plt.plot(uniquex, np.poly1d(np.polyfit(y_test, bestpred, 1))(uniquex))\n",
        "plt.legend(labels)\n",
        "plt.xlabel('Original')\n",
        "plt.ylabel('Predicted')\n",
        "plt.show()\n",
        "predicted = preds.sum(axis=1)\n",
        "\n",
        "print('Overall R^2:')\n",
        "print(np.corrcoef(y_test, predicted)[0, 1])"
      ],
      "execution_count": 0,
      "outputs": [
        {
          "output_type": "stream",
          "text": [
            "Weak learner 0 R^2: -146.2621723927862\n",
            "Weak learner 20 R^2: -146.01578575379662\n",
            "Weak learner 40 R^2: -145.83544006991696\n",
            "Weak learner 60 R^2: -145.69778317192697\n",
            "Weak learner 80 R^2: -145.58928898894746\n",
            "Weak learner 100 R^2: -145.50159087096063\n"
          ],
          "name": "stdout"
        },
        {
          "output_type": "display_data",
          "data": {
            "image/png": "[encoded data removed]",
            "text/plain": [
              "<Figure size 432x288 with 1 Axes>"
            ]
          },
          "metadata": {
            "tags": []
          }
        },
        {
          "output_type": "stream",
          "text": [
            "Overall R^2:\n",
            "-0.9999024910630409\n"
          ],
          "name": "stdout"
        }
      ]
    },
    {
      "cell_type": "code",
      "metadata": {
        "id": "AJSN4hsugivv",
        "colab_type": "code",
        "colab": {}
      },
      "source": [
        "X.info()"
      ],
      "execution_count": 0,
      "outputs": []
    },
    {
      "cell_type": "code",
      "metadata": {
        "id": "-kC84jo3nhpf",
        "colab_type": "code",
        "outputId": "e229ad7f-c7eb-4931-f52f-6a19454a0ebe",
        "colab": {
          "base_uri": "https://localhost:8080/",
          "height": 439
        }
      },
      "source": [
        "predict_train.round()"
      ],
      "execution_count": 0,
      "outputs": [
        {
          "output_type": "execute_result",
          "data": {
            "text/plain": [
              "array([4., 3., 4., 4., 4., 4., 5., 4., 4., 4., 5., 4., 4., 4., 5., 5., 4.,\n",
              "       4., 4., 5., 4., 4., 4., 5., 5., 4., 4., 4., 4., 5., 4., 2., 4., 5.,\n",
              "       4., 4., 4., 4., 5., 3., 4., 4., 4., 4., 3., 4., 5., 5., 5., 5., 4.,\n",
              "       4., 5., 3., 4., 4., 4., 4., 4., 2., 4., 4., 5., 4., 5., 5., 5., 4.,\n",
              "       4., 4., 4., 4., 4., 4., 4., 5., 4., 1., 4., 5., 3., 4., 4., 5., 4.,\n",
              "       4., 4., 3., 5., 3., 4., 4., 4., 5., 4., 4., 4., 4., 4., 4., 4., 5.,\n",
              "       4., 5., 5., 4., 1., 4., 4., 4., 5., 3., 5., 5., 4., 5., 4., 4., 4.,\n",
              "       3., 4., 3., 4., 4., 5., 4., 4., 4., 5., 4., 4., 4., 5., 4., 4., 4.,\n",
              "       4., 5., 4., 4., 4., 4., 5., 3., 4., 4., 4., 4., 4., 4., 4., 3., 4.,\n",
              "       2., 4., 4., 4., 4., 5., 5., 4., 5., 5., 4., 3., 4., 4., 4., 3., 5.,\n",
              "       3., 4., 4., 4., 4., 3., 5., 5., 5., 4., 4., 4., 5., 4., 4., 5., 4.,\n",
              "       4., 4., 3., 5., 4., 3., 5., 4., 4., 5., 4., 5., 4., 4., 5., 3., 5.,\n",
              "       4., 4., 4., 3., 5., 4., 4., 4., 4., 3., 4., 5., 5., 4., 4., 4., 4.,\n",
              "       5., 4., 1., 4., 4., 5., 5., 5., 5., 4., 5., 2., 3., 4., 4., 4., 4.,\n",
              "       4., 4., 3., 4., 4., 4., 4., 4., 3., 4., 4., 4., 4., 4., 4., 4., 5.,\n",
              "       4., 5., 4., 5., 5., 4., 4., 4., 4., 4., 4., 3., 4., 4., 4., 4., 4.,\n",
              "       5., 5., 4., 5., 4., 4., 2., 4., 5., 4., 4., 4., 3., 4., 5., 5., 4.,\n",
              "       4., 4., 4., 5., 5., 4., 3., 4., 4., 3., 4., 4., 5., 5., 4., 4., 4.,\n",
              "       5., 4., 5., 4., 4., 4., 5., 4., 3., 4., 4., 5., 4., 4., 4., 4., 4.,\n",
              "       3., 5., 4., 5., 4., 4., 5., 4., 4., 3., 4., 5., 5., 5., 4., 5., 4.,\n",
              "       4., 5., 4., 4., 4., 5., 4., 4., 4., 2., 5., 5., 3., 5., 4., 4., 4.,\n",
              "       5., 5., 5., 5., 4., 4., 4., 4., 4., 4., 5., 4., 5., 3., 4., 4., 5.,\n",
              "       4., 2., 4., 4., 4., 5., 4., 4., 4., 4., 4., 4., 5., 4., 4., 3., 4.,\n",
              "       5., 4., 4., 5., 4., 5., 4., 4., 5., 4., 4., 4.])"
            ]
          },
          "metadata": {
            "tags": []
          },
          "execution_count": 167
        }
      ]
    },
    {
      "cell_type": "code",
      "metadata": {
        "id": "PtP6NvnJe6W5",
        "colab_type": "code",
        "colab": {}
      },
      "source": [
        "feature_importance = gbr.feature_importances_\n",
        "\n",
        "plt.figure(figsize= (30,30))\n",
        "# Make importances relative to max importance.\n",
        "feature_importance = 100.0 * (feature_importance / feature_importance.max())\n",
        "sorted_idx = np.argsort(feature_importance)\n",
        "pos = np.arange(sorted_idx.shape[0]) + .5\n",
        "plt.subplot(1, 2, 2)\n",
        "plt.barh(pos, feature_importance[sorted_idx], align='center')\n",
        "plt.yticks(pos, X.columns[sorted_idx])\n",
        "plt.xlabel('Relative Importance')\n",
        "plt.title('Variable Importance')\n",
        "plt.show()"
      ],
      "execution_count": 0,
      "outputs": []
    },
    {
      "cell_type": "code",
      "metadata": {
        "id": "sGU-Qy4YfjWp",
        "colab_type": "code",
        "colab": {}
      },
      "source": [
        ""
      ],
      "execution_count": 0,
      "outputs": []
    }
  ]
}