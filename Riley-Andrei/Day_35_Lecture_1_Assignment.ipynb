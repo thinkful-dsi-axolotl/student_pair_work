{
  "nbformat": 4,
  "nbformat_minor": 0,
  "metadata": {
    "kernelspec": {
      "display_name": "Python 3",
      "language": "python",
      "name": "python3"
    },
    "language_info": {
      "codemirror_mode": {
        "name": "ipython",
        "version": 3
      },
      "file_extension": ".py",
      "mimetype": "text/x-python",
      "name": "python",
      "nbconvert_exporter": "python",
      "pygments_lexer": "ipython3",
      "version": "3.7.0"
    },
    "colab": {
      "name": "Day 35 Lecture 1 Assignment.ipynb",
      "provenance": [],
      "collapsed_sections": []
    }
  },
  "cells": [
    {
      "cell_type": "markdown",
      "metadata": {
        "id": "fekXcsQ31Y5o",
        "colab_type": "text"
      },
      "source": [
        "## Day 35 Lecture 1 Assignment\n",
        "\n",
        "In this assignment, we will learn about gradient boosting. We will use a dataset describing survival rates after breast cancer surgery loaded below and analyze the model generated for this dataset."
      ]
    },
    {
      "cell_type": "code",
      "metadata": {
        "id": "R5mR8fdy1Y5p",
        "colab_type": "code",
        "colab": {}
      },
      "source": [
        "%matplotlib inline\n",
        "\n",
        "import matplotlib.pyplot as plt\n",
        "import numpy as np\n",
        "import pandas as pd\n",
        "from sklearn.ensemble import GradientBoostingClassifier\n",
        "import seaborn as sns\n",
        "from sklearn.model_selection import train_test_split, GridSearchCV\n",
        "from sklearn.metrics import confusion_matrix\n",
        "\n",
        "sns.set()"
      ],
      "execution_count": 0,
      "outputs": []
    },
    {
      "cell_type": "code",
      "metadata": {
        "id": "xFdOjNYx1Y5r",
        "colab_type": "code",
        "colab": {}
      },
      "source": [
        "# Attributes:\n",
        "# Age of patient at time of operation (numerical)\n",
        "# Patient's year of operation (year - 1900, numerical)\n",
        "# Number of positive axillary nodes detected (numerical)\n",
        "# Survival status (class attribute)\n",
        "#  -- 1 = the patient survived 5 years or longer\n",
        "#  -- 2 = the patient died within 5 year\n",
        "\n",
        "cols = ['age', 'op_year', 'nodes', 'survival']\n",
        "cancer = pd.read_csv('https://tf-assets-prod.s3.amazonaws.com/tf-curric/data-science/haberman.data', names=cols)"
      ],
      "execution_count": 0,
      "outputs": []
    },
    {
      "cell_type": "code",
      "metadata": {
        "id": "oSr5jOq91Y5t",
        "colab_type": "code",
        "outputId": "12975ae6-142f-4b0c-bc1b-8fabc1f423ab",
        "colab": {
          "base_uri": "https://localhost:8080/",
          "height": 196
        }
      },
      "source": [
        "cancer.head()"
      ],
      "execution_count": 3,
      "outputs": [
        {
          "output_type": "execute_result",
          "data": {
            "text/html": [
              "<div>\n",
              "<style scoped>\n",
              "    .dataframe tbody tr th:only-of-type {\n",
              "        vertical-align: middle;\n",
              "    }\n",
              "\n",
              "    .dataframe tbody tr th {\n",
              "        vertical-align: top;\n",
              "    }\n",
              "\n",
              "    .dataframe thead th {\n",
              "        text-align: right;\n",
              "    }\n",
              "</style>\n",
              "<table border=\"1\" class=\"dataframe\">\n",
              "  <thead>\n",
              "    <tr style=\"text-align: right;\">\n",
              "      <th></th>\n",
              "      <th>age</th>\n",
              "      <th>op_year</th>\n",
              "      <th>nodes</th>\n",
              "      <th>survival</th>\n",
              "    </tr>\n",
              "  </thead>\n",
              "  <tbody>\n",
              "    <tr>\n",
              "      <th>0</th>\n",
              "      <td>30</td>\n",
              "      <td>64</td>\n",
              "      <td>1</td>\n",
              "      <td>1</td>\n",
              "    </tr>\n",
              "    <tr>\n",
              "      <th>1</th>\n",
              "      <td>30</td>\n",
              "      <td>62</td>\n",
              "      <td>3</td>\n",
              "      <td>1</td>\n",
              "    </tr>\n",
              "    <tr>\n",
              "      <th>2</th>\n",
              "      <td>30</td>\n",
              "      <td>65</td>\n",
              "      <td>0</td>\n",
              "      <td>1</td>\n",
              "    </tr>\n",
              "    <tr>\n",
              "      <th>3</th>\n",
              "      <td>31</td>\n",
              "      <td>59</td>\n",
              "      <td>2</td>\n",
              "      <td>1</td>\n",
              "    </tr>\n",
              "    <tr>\n",
              "      <th>4</th>\n",
              "      <td>31</td>\n",
              "      <td>65</td>\n",
              "      <td>4</td>\n",
              "      <td>1</td>\n",
              "    </tr>\n",
              "  </tbody>\n",
              "</table>\n",
              "</div>"
            ],
            "text/plain": [
              "   age  op_year  nodes  survival\n",
              "0   30       64      1         1\n",
              "1   30       62      3         1\n",
              "2   30       65      0         1\n",
              "3   31       59      2         1\n",
              "4   31       65      4         1"
            ]
          },
          "metadata": {
            "tags": []
          },
          "execution_count": 3
        }
      ]
    },
    {
      "cell_type": "markdown",
      "metadata": {
        "id": "xpzL7uVd1Y5w",
        "colab_type": "text"
      },
      "source": [
        "Check for missing data and remove all rows containing missing data"
      ]
    },
    {
      "cell_type": "code",
      "metadata": {
        "id": "tu269alM1Y5w",
        "colab_type": "code",
        "colab": {
          "base_uri": "https://localhost:8080/",
          "height": 167
        },
        "outputId": "c12af674-d90d-4295-e701-5e29ea6aee80"
      },
      "source": [
        "# answer below:\n",
        "cancer.info()\n"
      ],
      "execution_count": 9,
      "outputs": [
        {
          "output_type": "stream",
          "text": [
            "<class 'pandas.core.frame.DataFrame'>\n",
            "RangeIndex: 306 entries, 0 to 305\n",
            "Data columns (total 4 columns):\n",
            "age         306 non-null int64\n",
            "op_year     306 non-null int64\n",
            "nodes       306 non-null int64\n",
            "survival    306 non-null int64\n",
            "dtypes: int64(4)\n",
            "memory usage: 9.7 KB\n"
          ],
          "name": "stdout"
        }
      ]
    },
    {
      "cell_type": "markdown",
      "metadata": {
        "id": "0k1JQp5x1Y5y",
        "colab_type": "text"
      },
      "source": [
        "Adjust the target variable so that it has values of either 0 or 1"
      ]
    },
    {
      "cell_type": "code",
      "metadata": {
        "id": "KaZ87xnh1Y5y",
        "colab_type": "code",
        "colab": {
          "base_uri": "https://localhost:8080/",
          "height": 33
        },
        "outputId": "15342b6f-b40c-467f-f7c6-8e8e52dfcfde"
      },
      "source": [
        "# answer below:\n",
        "cancer.survival.nunique()\n"
      ],
      "execution_count": 11,
      "outputs": [
        {
          "output_type": "execute_result",
          "data": {
            "text/plain": [
              "2"
            ]
          },
          "metadata": {
            "tags": []
          },
          "execution_count": 11
        }
      ]
    },
    {
      "cell_type": "markdown",
      "metadata": {
        "id": "Tj60E8zY1Y50",
        "colab_type": "text"
      },
      "source": [
        "Create a dummy variable from the number of nodes"
      ]
    },
    {
      "cell_type": "code",
      "metadata": {
        "id": "Zlzv0-cT1Y50",
        "colab_type": "code",
        "colab": {}
      },
      "source": [
        "# answer below:\n",
        "nodes_dummy = pd.get_dummies(cancer['nodes'].astype(str), drop_first=True)\n",
        "cancer_df = pd.concat([cancer,nodes_dummy],axis=1)"
      ],
      "execution_count": 0,
      "outputs": []
    },
    {
      "cell_type": "markdown",
      "metadata": {
        "id": "b5Q3DG0d1Y52",
        "colab_type": "text"
      },
      "source": [
        "Split the data into train and test (20% in test)"
      ]
    },
    {
      "cell_type": "code",
      "metadata": {
        "id": "oXWw6ZNJ1Y52",
        "colab_type": "code",
        "colab": {}
      },
      "source": [
        "# answer below:\n",
        "X=cancer_df.drop('survival',axis=1)\n",
        "Y=cancer_df['survival']\n",
        "X_train, X_test, y_train, y_test = train_test_split(X,Y, test_size=.2)"
      ],
      "execution_count": 0,
      "outputs": []
    },
    {
      "cell_type": "markdown",
      "metadata": {
        "id": "fM7H5aHv1Y54",
        "colab_type": "text"
      },
      "source": [
        "Create a gradient boosted classification algorithm with a learning rate of 0.01 and max depth of 5. Report the accuracy."
      ]
    },
    {
      "cell_type": "code",
      "metadata": {
        "id": "a9TAc-mt1Y54",
        "colab_type": "code",
        "colab": {
          "base_uri": "https://localhost:8080/",
          "height": 50
        },
        "outputId": "95f781dd-9ef1-4040-e5eb-32e81ec4924a"
      },
      "source": [
        "# answer below:\n",
        "gbc =  GradientBoostingClassifier(learning_rate=0.01, max_depth=5, n_estimators=50)\n",
        "gbc.fit(X_train, y_train)\n",
        "\n",
        "print('Train score:', gbc.score(X_train,y_train))\n",
        "print('Train score:', gbc.score(X_test,y_test))\n"
      ],
      "execution_count": 45,
      "outputs": [
        {
          "output_type": "stream",
          "text": [
            "Train score: 0.8360655737704918\n",
            "Train score: 0.8064516129032258\n"
          ],
          "name": "stdout"
        }
      ]
    },
    {
      "cell_type": "markdown",
      "metadata": {
        "id": "Esd0b5Bm1Y55",
        "colab_type": "text"
      },
      "source": [
        "Print the confusion matrix for the test data. What do you notice about our predictions?"
      ]
    },
    {
      "cell_type": "code",
      "metadata": {
        "id": "JIvrO5T11Y56",
        "colab_type": "code",
        "colab": {
          "base_uri": "https://localhost:8080/",
          "height": 50
        },
        "outputId": "9b6e0866-ad51-46cb-b3b4-5800d52be186"
      },
      "source": [
        "# answer below:\n",
        "confusion_matrix(y_test, gbc.predict(X_test))\n"
      ],
      "execution_count": 47,
      "outputs": [
        {
          "output_type": "execute_result",
          "data": {
            "text/plain": [
              "array([[45,  3],\n",
              "       [ 9,  5]])"
            ]
          },
          "metadata": {
            "tags": []
          },
          "execution_count": 47
        }
      ]
    },
    {
      "cell_type": "markdown",
      "metadata": {
        "id": "ovaWOAlx1Y57",
        "colab_type": "text"
      },
      "source": [
        "Print the confusion matrix for a learning rate of 1 and a learning rate of 0.5. What do you see now that stands out to you in the confusion matrix?"
      ]
    },
    {
      "cell_type": "code",
      "metadata": {
        "id": "KmDWFQ6W1Y58",
        "colab_type": "code",
        "colab": {
          "base_uri": "https://localhost:8080/",
          "height": 50
        },
        "outputId": "9b3a4f84-0b84-4955-94c4-edd805eeb524"
      },
      "source": [
        "# answer below:\n",
        "\n",
        "gbc =  GradientBoostingClassifier(learning_rate=1, max_depth=5, n_estimators=100)\n",
        "gbc.fit(X_train, y_train)\n",
        "\n",
        "confusion_matrix(y_test, gbc.predict(X_test))\n",
        "\n"
      ],
      "execution_count": 26,
      "outputs": [
        {
          "output_type": "execute_result",
          "data": {
            "text/plain": [
              "array([[37, 11],\n",
              "       [ 9,  5]])"
            ]
          },
          "metadata": {
            "tags": []
          },
          "execution_count": 26
        }
      ]
    },
    {
      "cell_type": "code",
      "metadata": {
        "id": "ATlZrlkH5tiR",
        "colab_type": "code",
        "colab": {
          "base_uri": "https://localhost:8080/",
          "height": 50
        },
        "outputId": "592afb37-6166-47ea-9af1-8328011e1216"
      },
      "source": [
        "gbc =  GradientBoostingClassifier(learning_rate=.01, max_depth=5, n_estimators=100)\n",
        "gbc.fit(X_train, y_train)\n",
        "\n",
        "confusion_matrix(y_test, gbc.predict(X_test))"
      ],
      "execution_count": 55,
      "outputs": [
        {
          "output_type": "execute_result",
          "data": {
            "text/plain": [
              "array([[45,  3],\n",
              "       [ 9,  5]])"
            ]
          },
          "metadata": {
            "tags": []
          },
          "execution_count": 55
        }
      ]
    },
    {
      "cell_type": "markdown",
      "metadata": {
        "id": "Febdo34L1Y59",
        "colab_type": "text"
      },
      "source": [
        "Perform a grid search for the optimal learning rate."
      ]
    },
    {
      "cell_type": "code",
      "metadata": {
        "id": "THIm25lt1Y5-",
        "colab_type": "code",
        "colab": {
          "base_uri": "https://localhost:8080/",
          "height": 50
        },
        "outputId": "24cd3a3b-7bf0-4242-a3cd-ac88cb44c124"
      },
      "source": [
        "# answer below:\n",
        "params = {'learning_rate':[0.005,0.01,0.1], 'max_depth':[1,3,5,10]}\n",
        "grid = GridSearchCV(gbc, param_grid=params, scoring= 'accuracy',cv=3, return_train_score=True, n_jobs=3)\n",
        "grid.fit(X, Y)\n",
        "print(grid.best_params_)\n",
        "print(grid.best_score_)\n",
        "\n"
      ],
      "execution_count": 50,
      "outputs": [
        {
          "output_type": "stream",
          "text": [
            "{'learning_rate': 0.1, 'max_depth': 3}\n",
            "0.7516339869281046\n"
          ],
          "name": "stdout"
        }
      ]
    },
    {
      "cell_type": "markdown",
      "metadata": {
        "id": "1mA0V4c-1Y5_",
        "colab_type": "text"
      },
      "source": [
        "List the feature importances for the model with the optimal learning rate."
      ]
    },
    {
      "cell_type": "code",
      "metadata": {
        "id": "JvDUGgYE1Y6A",
        "colab_type": "code",
        "colab": {
          "base_uri": "https://localhost:8080/",
          "height": 1000
        },
        "outputId": "dc4f97d6-0053-4758-e92e-9df7654632f1"
      },
      "source": [
        "# answer below:\n",
        "pd.DataFrame({'columns':X.columns,'importance score':grid.best_estimator_.feature_importances_}).sort_values(by = 'importance score', ascending =False)\n"
      ],
      "execution_count": 51,
      "outputs": [
        {
          "output_type": "execute_result",
          "data": {
            "text/html": [
              "<div>\n",
              "<style scoped>\n",
              "    .dataframe tbody tr th:only-of-type {\n",
              "        vertical-align: middle;\n",
              "    }\n",
              "\n",
              "    .dataframe tbody tr th {\n",
              "        vertical-align: top;\n",
              "    }\n",
              "\n",
              "    .dataframe thead th {\n",
              "        text-align: right;\n",
              "    }\n",
              "</style>\n",
              "<table border=\"1\" class=\"dataframe\">\n",
              "  <thead>\n",
              "    <tr style=\"text-align: right;\">\n",
              "      <th></th>\n",
              "      <th>columns</th>\n",
              "      <th>importance score</th>\n",
              "    </tr>\n",
              "  </thead>\n",
              "  <tbody>\n",
              "    <tr>\n",
              "      <th>2</th>\n",
              "      <td>nodes</td>\n",
              "      <td>0.364138</td>\n",
              "    </tr>\n",
              "    <tr>\n",
              "      <th>0</th>\n",
              "      <td>age</td>\n",
              "      <td>0.293407</td>\n",
              "    </tr>\n",
              "    <tr>\n",
              "      <th>1</th>\n",
              "      <td>op_year</td>\n",
              "      <td>0.134605</td>\n",
              "    </tr>\n",
              "    <tr>\n",
              "      <th>32</th>\n",
              "      <td>9</td>\n",
              "      <td>0.026238</td>\n",
              "    </tr>\n",
              "    <tr>\n",
              "      <th>27</th>\n",
              "      <td>5</td>\n",
              "      <td>0.022355</td>\n",
              "    </tr>\n",
              "    <tr>\n",
              "      <th>25</th>\n",
              "      <td>4</td>\n",
              "      <td>0.018951</td>\n",
              "    </tr>\n",
              "    <tr>\n",
              "      <th>7</th>\n",
              "      <td>13</td>\n",
              "      <td>0.018482</td>\n",
              "    </tr>\n",
              "    <tr>\n",
              "      <th>18</th>\n",
              "      <td>23</td>\n",
              "      <td>0.017542</td>\n",
              "    </tr>\n",
              "    <tr>\n",
              "      <th>9</th>\n",
              "      <td>15</td>\n",
              "      <td>0.015951</td>\n",
              "    </tr>\n",
              "    <tr>\n",
              "      <th>3</th>\n",
              "      <td>1</td>\n",
              "      <td>0.011893</td>\n",
              "    </tr>\n",
              "    <tr>\n",
              "      <th>22</th>\n",
              "      <td>3</td>\n",
              "      <td>0.009855</td>\n",
              "    </tr>\n",
              "    <tr>\n",
              "      <th>8</th>\n",
              "      <td>14</td>\n",
              "      <td>0.009013</td>\n",
              "    </tr>\n",
              "    <tr>\n",
              "      <th>16</th>\n",
              "      <td>21</td>\n",
              "      <td>0.008153</td>\n",
              "    </tr>\n",
              "    <tr>\n",
              "      <th>10</th>\n",
              "      <td>16</td>\n",
              "      <td>0.007325</td>\n",
              "    </tr>\n",
              "    <tr>\n",
              "      <th>5</th>\n",
              "      <td>11</td>\n",
              "      <td>0.006926</td>\n",
              "    </tr>\n",
              "    <tr>\n",
              "      <th>17</th>\n",
              "      <td>22</td>\n",
              "      <td>0.006466</td>\n",
              "    </tr>\n",
              "    <tr>\n",
              "      <th>12</th>\n",
              "      <td>18</td>\n",
              "      <td>0.006106</td>\n",
              "    </tr>\n",
              "    <tr>\n",
              "      <th>31</th>\n",
              "      <td>8</td>\n",
              "      <td>0.006092</td>\n",
              "    </tr>\n",
              "    <tr>\n",
              "      <th>24</th>\n",
              "      <td>35</td>\n",
              "      <td>0.003464</td>\n",
              "    </tr>\n",
              "    <tr>\n",
              "      <th>28</th>\n",
              "      <td>52</td>\n",
              "      <td>0.003408</td>\n",
              "    </tr>\n",
              "    <tr>\n",
              "      <th>26</th>\n",
              "      <td>46</td>\n",
              "      <td>0.002358</td>\n",
              "    </tr>\n",
              "    <tr>\n",
              "      <th>14</th>\n",
              "      <td>2</td>\n",
              "      <td>0.002307</td>\n",
              "    </tr>\n",
              "    <tr>\n",
              "      <th>19</th>\n",
              "      <td>24</td>\n",
              "      <td>0.001763</td>\n",
              "    </tr>\n",
              "    <tr>\n",
              "      <th>11</th>\n",
              "      <td>17</td>\n",
              "      <td>0.001719</td>\n",
              "    </tr>\n",
              "    <tr>\n",
              "      <th>20</th>\n",
              "      <td>25</td>\n",
              "      <td>0.001482</td>\n",
              "    </tr>\n",
              "    <tr>\n",
              "      <th>13</th>\n",
              "      <td>19</td>\n",
              "      <td>0.000000</td>\n",
              "    </tr>\n",
              "    <tr>\n",
              "      <th>30</th>\n",
              "      <td>7</td>\n",
              "      <td>0.000000</td>\n",
              "    </tr>\n",
              "    <tr>\n",
              "      <th>29</th>\n",
              "      <td>6</td>\n",
              "      <td>0.000000</td>\n",
              "    </tr>\n",
              "    <tr>\n",
              "      <th>23</th>\n",
              "      <td>30</td>\n",
              "      <td>0.000000</td>\n",
              "    </tr>\n",
              "    <tr>\n",
              "      <th>6</th>\n",
              "      <td>12</td>\n",
              "      <td>0.000000</td>\n",
              "    </tr>\n",
              "    <tr>\n",
              "      <th>21</th>\n",
              "      <td>28</td>\n",
              "      <td>0.000000</td>\n",
              "    </tr>\n",
              "    <tr>\n",
              "      <th>15</th>\n",
              "      <td>20</td>\n",
              "      <td>0.000000</td>\n",
              "    </tr>\n",
              "    <tr>\n",
              "      <th>4</th>\n",
              "      <td>10</td>\n",
              "      <td>0.000000</td>\n",
              "    </tr>\n",
              "  </tbody>\n",
              "</table>\n",
              "</div>"
            ],
            "text/plain": [
              "    columns  importance score\n",
              "2     nodes          0.364138\n",
              "0       age          0.293407\n",
              "1   op_year          0.134605\n",
              "32        9          0.026238\n",
              "27        5          0.022355\n",
              "25        4          0.018951\n",
              "7        13          0.018482\n",
              "18       23          0.017542\n",
              "9        15          0.015951\n",
              "3         1          0.011893\n",
              "22        3          0.009855\n",
              "8        14          0.009013\n",
              "16       21          0.008153\n",
              "10       16          0.007325\n",
              "5        11          0.006926\n",
              "17       22          0.006466\n",
              "12       18          0.006106\n",
              "31        8          0.006092\n",
              "24       35          0.003464\n",
              "28       52          0.003408\n",
              "26       46          0.002358\n",
              "14        2          0.002307\n",
              "19       24          0.001763\n",
              "11       17          0.001719\n",
              "20       25          0.001482\n",
              "13       19          0.000000\n",
              "30        7          0.000000\n",
              "29        6          0.000000\n",
              "23       30          0.000000\n",
              "6        12          0.000000\n",
              "21       28          0.000000\n",
              "15       20          0.000000\n",
              "4        10          0.000000"
            ]
          },
          "metadata": {
            "tags": []
          },
          "execution_count": 51
        }
      ]
    },
    {
      "cell_type": "code",
      "metadata": {
        "id": "kVRFbi_Z1Y6B",
        "colab_type": "code",
        "colab": {}
      },
      "source": [
        ""
      ],
      "execution_count": 0,
      "outputs": []
    }
  ]
}