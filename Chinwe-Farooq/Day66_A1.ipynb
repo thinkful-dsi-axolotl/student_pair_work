{
  "nbformat": 4,
  "nbformat_minor": 0,
  "metadata": {
    "colab": {
      "name": "Day66_A1.ipynb",
      "provenance": [],
      "collapsed_sections": []
    },
    "kernelspec": {
      "name": "python3",
      "display_name": "Python 3"
    }
  },
  "cells": [
    {
      "cell_type": "markdown",
      "metadata": {
        "id": "PRbFwOTueyGx",
        "colab_type": "text"
      },
      "source": [
        "In your pairs, do the following exercise:\n",
        "Define a variable and assign it a date string value of ‘10/20/2019’.\n",
        "\n",
        "Convert the date string to a datetime object.\n",
        "\n",
        "Extract the month, day, and year from the datetime object.\n",
        "\n",
        "Reformat the date string to YYYY-MM-DD.\n",
        "\n",
        "Extract the weekday number for the datetime object.\n",
        "\n",
        "Get the datetime of the same weekday number 6 weeks into the future.\n",
        "\n",
        "Retrieve the number of minutes between the original datetime and the datetime for the same weekday 6 weeks in the future.\n",
        "\n",
        "Hint: Try subtracting datetimes and then extracting the minutes from the difference.\n",
        "\n",
        "Use what you have learned to retrieve the number of weeks that are in years 2015 through 2020 respectively. \n",
        "Are they always the same? \n",
        "Why or why not?"
      ]
    },
    {
      "cell_type": "code",
      "metadata": {
        "id": "Q58d5zByiaJu",
        "colab_type": "code",
        "colab": {
          "base_uri": "https://localhost:8080/",
          "height": 105
        },
        "outputId": "22c5eb81-b858-4020-87bb-1aaaf4a766e2"
      },
      "source": [
        "pip install isoweek"
      ],
      "execution_count": 17,
      "outputs": [
        {
          "output_type": "stream",
          "text": [
            "Collecting isoweek\n",
            "  Downloading https://files.pythonhosted.org/packages/c2/d4/fe7e2637975c476734fcbf53776e650a29680194eb0dd21dbdc020ca92de/isoweek-1.3.3-py2.py3-none-any.whl\n",
            "Installing collected packages: isoweek\n",
            "Successfully installed isoweek-1.3.3\n"
          ],
          "name": "stdout"
        }
      ]
    },
    {
      "cell_type": "code",
      "metadata": {
        "id": "BhZlhUY5ewlk",
        "colab_type": "code",
        "colab": {
          "base_uri": "https://localhost:8080/",
          "height": 34
        },
        "outputId": "ab02c0ed-394a-498f-92d0-505d96682e07"
      },
      "source": [
        "from datetime import datetime as dt\n",
        "cdate = '2019/10/20'\n",
        "converted = dt.strptime(cdate, '%Y/%m/%d')\n",
        "print(converted)"
      ],
      "execution_count": 64,
      "outputs": [
        {
          "output_type": "stream",
          "text": [
            "2019-10-20 00:00:00\n"
          ],
          "name": "stdout"
        }
      ]
    },
    {
      "cell_type": "code",
      "metadata": {
        "id": "d2_bjh5DgVC5",
        "colab_type": "code",
        "colab": {
          "base_uri": "https://localhost:8080/",
          "height": 34
        },
        "outputId": "f84223a7-dd81-4a0d-d79c-5d0ca0cb4607"
      },
      "source": [
        "converted.weekday()"
      ],
      "execution_count": 69,
      "outputs": [
        {
          "output_type": "execute_result",
          "data": {
            "text/plain": [
              "6"
            ]
          },
          "metadata": {
            "tags": []
          },
          "execution_count": 69
        }
      ]
    },
    {
      "cell_type": "code",
      "metadata": {
        "id": "bwn1ohgwteQS",
        "colab_type": "code",
        "colab": {
          "base_uri": "https://localhost:8080/",
          "height": 34
        },
        "outputId": "ecabb7b0-7053-4ca5-dab9-0d47f0be1158"
      },
      "source": [
        "converted.year"
      ],
      "execution_count": 67,
      "outputs": [
        {
          "output_type": "execute_result",
          "data": {
            "text/plain": [
              "2019"
            ]
          },
          "metadata": {
            "tags": []
          },
          "execution_count": 67
        }
      ]
    },
    {
      "cell_type": "code",
      "metadata": {
        "id": "--X0B3sQgbd2",
        "colab_type": "code",
        "colab": {
          "base_uri": "https://localhost:8080/",
          "height": 34
        },
        "outputId": "c9eb0178-e57e-4be6-8677-2541c883db48"
      },
      "source": [
        "from datetime import timedelta\n",
        "c6 = converted + timedelta(weeks=6)\n",
        "c6"
      ],
      "execution_count": 62,
      "outputs": [
        {
          "output_type": "execute_result",
          "data": {
            "text/plain": [
              "datetime.datetime(2019, 12, 1, 0, 0)"
            ]
          },
          "metadata": {
            "tags": []
          },
          "execution_count": 62
        }
      ]
    },
    {
      "cell_type": "code",
      "metadata": {
        "id": "T9eRaQx8t0hB",
        "colab_type": "code",
        "colab": {
          "base_uri": "https://localhost:8080/",
          "height": 34
        },
        "outputId": "9f16b122-d52f-4cda-b3a6-f9777a8cd18c"
      },
      "source": [
        "dt.strftime(converted, '%Y-%m-%d')"
      ],
      "execution_count": 71,
      "outputs": [
        {
          "output_type": "execute_result",
          "data": {
            "text/plain": [
              "'2019-10-20'"
            ]
          },
          "metadata": {
            "tags": []
          },
          "execution_count": 71
        }
      ]
    },
    {
      "cell_type": "code",
      "metadata": {
        "id": "W3y38Lh-uDeX",
        "colab_type": "code",
        "colab": {
          "base_uri": "https://localhost:8080/",
          "height": 34
        },
        "outputId": "bf1059fc-8a86-4511-8e1f-68a22d32bf35"
      },
      "source": [
        "converted.strftime('%V')"
      ],
      "execution_count": 73,
      "outputs": [
        {
          "output_type": "execute_result",
          "data": {
            "text/plain": [
              "'42'"
            ]
          },
          "metadata": {
            "tags": []
          },
          "execution_count": 73
        }
      ]
    },
    {
      "cell_type": "code",
      "metadata": {
        "id": "jJDexmx-g6_l",
        "colab_type": "code",
        "colab": {
          "base_uri": "https://localhost:8080/",
          "height": 34
        },
        "outputId": "16c2e476-4a96-4415-a0af-779184e67648"
      },
      "source": [
        "mindiff = (c6 - converted) * 24 * 60\n",
        "mindiff"
      ],
      "execution_count": 16,
      "outputs": [
        {
          "output_type": "execute_result",
          "data": {
            "text/plain": [
              "datetime.timedelta(60480)"
            ]
          },
          "metadata": {
            "tags": []
          },
          "execution_count": 16
        }
      ]
    },
    {
      "cell_type": "code",
      "metadata": {
        "id": "xM-KcoFMiAPf",
        "colab_type": "code",
        "colab": {
          "base_uri": "https://localhost:8080/",
          "height": 102
        },
        "outputId": "dbc8a334-b6cb-4e10-b889-507a464b919f"
      },
      "source": [
        "import isoweek \n",
        "print(isoweek.Week.last_week_of_year(2015).week)\n",
        "print(isoweek.Week.last_week_of_year(2016).week)\n",
        "print(isoweek.Week.last_week_of_year(2017).week)\n",
        "print(isoweek.Week.last_week_of_year(2018).week)\n",
        "print(isoweek.Week.last_week_of_year(2019).week)\n"
      ],
      "execution_count": 22,
      "outputs": [
        {
          "output_type": "stream",
          "text": [
            "53\n",
            "52\n",
            "52\n",
            "52\n",
            "52\n"
          ],
          "name": "stdout"
        }
      ]
    },
    {
      "cell_type": "code",
      "metadata": {
        "id": "nATzvXwElRLG",
        "colab_type": "code",
        "colab": {
          "base_uri": "https://localhost:8080/",
          "height": 102
        },
        "outputId": "f3a4d9a8-f94f-422f-a3f1-fa436b39b471"
      },
      "source": [
        "years = ['01-01-2015','01-01-2016','01-01-2017','01-01-2018','01-01-2019']\n",
        "years1 = ['2015-12-31','2016-12-31','2017-12-31','2018-12-31','2019-12-31']\n",
        "for y in years1:\n",
        "    # clwy = dt.strptime(y, '%m-%d-%Y')\n",
        "    clwy = dt.strptime(y, '%Y-%m-%d')\n",
        "    print (clwy.strftime('%W'))\n",
        "   "
      ],
      "execution_count": 58,
      "outputs": [
        {
          "output_type": "stream",
          "text": [
            "52\n",
            "52\n",
            "52\n",
            "53\n",
            "52\n"
          ],
          "name": "stdout"
        }
      ]
    },
    {
      "cell_type": "code",
      "metadata": {
        "id": "YkevVa9zriEq",
        "colab_type": "code",
        "colab": {
          "base_uri": "https://localhost:8080/",
          "height": 34
        },
        "outputId": "0725c166-9a5a-42d2-aabd-7be6aeb5be8b"
      },
      "source": [
        "dt(2019,1,1)\n",
        "weeks = ((dt(2019,1,1) - dt(2018,1,1))/7)\n",
        "weeks"
      ],
      "execution_count": 74,
      "outputs": [
        {
          "output_type": "execute_result",
          "data": {
            "text/plain": [
              "datetime.timedelta(52, 12342, 857143)"
            ]
          },
          "metadata": {
            "tags": []
          },
          "execution_count": 74
        }
      ]
    },
    {
      "cell_type": "code",
      "metadata": {
        "id": "tIsH5cKPunnJ",
        "colab_type": "code",
        "colab": {
          "base_uri": "https://localhost:8080/",
          "height": 221
        },
        "outputId": "33290828-c5af-4ab8-f398-d7883b782b15"
      },
      "source": [
        "for year in range(2015,2021):\n",
        "    startdate = dt(year,1,1)\n",
        "    enddate = dt(year+1,1,1)\n",
        "    weeks = (enddate - startdate).days/7\n",
        "    print('for the year:',year)\n",
        "    print('number of weeks:',weeks)\n"
      ],
      "execution_count": 77,
      "outputs": [
        {
          "output_type": "stream",
          "text": [
            "for the year: 2015\n",
            "number of weeks: 52.142857142857146\n",
            "for the year: 2016\n",
            "number of weeks: 52.285714285714285\n",
            "for the year: 2017\n",
            "number of weeks: 52.142857142857146\n",
            "for the year: 2018\n",
            "number of weeks: 52.142857142857146\n",
            "for the year: 2019\n",
            "number of weeks: 52.142857142857146\n",
            "for the year: 2020\n",
            "number of weeks: 52.285714285714285\n"
          ],
          "name": "stdout"
        }
      ]
    },
    {
      "cell_type": "markdown",
      "metadata": {
        "id": "FQ2_r_mojCxb",
        "colab_type": "text"
      },
      "source": [
        "No, there was leap year during that time period. However, there is a discrepancy with both functions for number of weeks per year and the leap year was 2016."
      ]
    }
  ]
}