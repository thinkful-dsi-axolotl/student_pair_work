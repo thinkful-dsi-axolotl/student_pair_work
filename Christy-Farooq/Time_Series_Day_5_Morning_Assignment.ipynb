{
  "nbformat": 4,
  "nbformat_minor": 0,
  "metadata": {
    "kernelspec": {
      "display_name": "Python 3",
      "language": "python",
      "name": "python3"
    },
    "language_info": {
      "codemirror_mode": {
        "name": "ipython",
        "version": 3
      },
      "file_extension": ".py",
      "mimetype": "text/x-python",
      "name": "python",
      "nbconvert_exporter": "python",
      "pygments_lexer": "ipython3",
      "version": "3.7.2"
    },
    "colab": {
      "name": "Time Series Day 5 Morning Assignment.ipynb",
      "provenance": [],
      "collapsed_sections": []
    }
  },
  "cells": [
    {
      "cell_type": "markdown",
      "metadata": {
        "id": "u6f8PbaiWxhE",
        "colab_type": "text"
      },
      "source": [
        "# Time Series Machine Learning Part 1 Assignment"
      ]
    },
    {
      "cell_type": "code",
      "metadata": {
        "id": "OYq5mxVkWxhF",
        "colab_type": "code",
        "colab": {}
      },
      "source": [
        "import numpy as np\n",
        "import pandas as pd\n",
        "import plotly.express as px\n",
        "from sklearn.ensemble import AdaBoostRegressor\n",
        "from sklearn.model_selection import train_test_split\n",
        "from sklearn.metrics import r2_score\n",
        "from sklearn.metrics import mean_absolute_error\n",
        "from sklearn.metrics import mean_squared_error"
      ],
      "execution_count": 0,
      "outputs": []
    },
    {
      "cell_type": "markdown",
      "metadata": {
        "id": "V2UlB032WxhJ",
        "colab_type": "text"
      },
      "source": [
        "### Import the Netflix stock price data set (NFLX_data.csv)."
      ]
    },
    {
      "cell_type": "code",
      "metadata": {
        "id": "nAPudN01WxhK",
        "colab_type": "code",
        "colab": {}
      },
      "source": [
        "df=pd.read_csv('https://tf-assets-prod.s3.amazonaws.com/tf-curric/data-science/Data%20Sets%20Time%20Series%20Analysis/Time%20Series%20-%20Day%205/NFLX_data.csv')"
      ],
      "execution_count": 0,
      "outputs": []
    },
    {
      "cell_type": "code",
      "metadata": {
        "id": "0nIlCXKdZ-Vj",
        "colab_type": "code",
        "outputId": "4c8de3e9-4621-4298-99ae-2b1e6eb38788",
        "colab": {
          "base_uri": "https://localhost:8080/",
          "height": 204
        }
      },
      "source": [
        "df.head()"
      ],
      "execution_count": 28,
      "outputs": [
        {
          "output_type": "execute_result",
          "data": {
            "text/html": [
              "<div>\n",
              "<style scoped>\n",
              "    .dataframe tbody tr th:only-of-type {\n",
              "        vertical-align: middle;\n",
              "    }\n",
              "\n",
              "    .dataframe tbody tr th {\n",
              "        vertical-align: top;\n",
              "    }\n",
              "\n",
              "    .dataframe thead th {\n",
              "        text-align: right;\n",
              "    }\n",
              "</style>\n",
              "<table border=\"1\" class=\"dataframe\">\n",
              "  <thead>\n",
              "    <tr style=\"text-align: right;\">\n",
              "      <th></th>\n",
              "      <th>date</th>\n",
              "      <th>open</th>\n",
              "      <th>high</th>\n",
              "      <th>low</th>\n",
              "      <th>close</th>\n",
              "      <th>volume</th>\n",
              "      <th>Name</th>\n",
              "    </tr>\n",
              "  </thead>\n",
              "  <tbody>\n",
              "    <tr>\n",
              "      <th>0</th>\n",
              "      <td>2013-02-08</td>\n",
              "      <td>25.9635</td>\n",
              "      <td>26.2800</td>\n",
              "      <td>25.7157</td>\n",
              "      <td>25.8528</td>\n",
              "      <td>25649820</td>\n",
              "      <td>NFLX</td>\n",
              "    </tr>\n",
              "    <tr>\n",
              "      <th>1</th>\n",
              "      <td>2013-02-11</td>\n",
              "      <td>25.5685</td>\n",
              "      <td>26.0071</td>\n",
              "      <td>24.9714</td>\n",
              "      <td>25.4128</td>\n",
              "      <td>29321782</td>\n",
              "      <td>NFLX</td>\n",
              "    </tr>\n",
              "    <tr>\n",
              "      <th>2</th>\n",
              "      <td>2013-02-12</td>\n",
              "      <td>25.8085</td>\n",
              "      <td>26.2228</td>\n",
              "      <td>25.1014</td>\n",
              "      <td>25.4214</td>\n",
              "      <td>34388802</td>\n",
              "      <td>NFLX</td>\n",
              "    </tr>\n",
              "    <tr>\n",
              "      <th>3</th>\n",
              "      <td>2013-02-13</td>\n",
              "      <td>25.8428</td>\n",
              "      <td>26.6285</td>\n",
              "      <td>25.6657</td>\n",
              "      <td>26.6098</td>\n",
              "      <td>40799094</td>\n",
              "      <td>NFLX</td>\n",
              "    </tr>\n",
              "    <tr>\n",
              "      <th>4</th>\n",
              "      <td>2013-02-14</td>\n",
              "      <td>26.7557</td>\n",
              "      <td>27.1214</td>\n",
              "      <td>26.3844</td>\n",
              "      <td>26.7714</td>\n",
              "      <td>31968685</td>\n",
              "      <td>NFLX</td>\n",
              "    </tr>\n",
              "  </tbody>\n",
              "</table>\n",
              "</div>"
            ],
            "text/plain": [
              "         date     open     high      low    close    volume  Name\n",
              "0  2013-02-08  25.9635  26.2800  25.7157  25.8528  25649820  NFLX\n",
              "1  2013-02-11  25.5685  26.0071  24.9714  25.4128  29321782  NFLX\n",
              "2  2013-02-12  25.8085  26.2228  25.1014  25.4214  34388802  NFLX\n",
              "3  2013-02-13  25.8428  26.6285  25.6657  26.6098  40799094  NFLX\n",
              "4  2013-02-14  26.7557  27.1214  26.3844  26.7714  31968685  NFLX"
            ]
          },
          "metadata": {
            "tags": []
          },
          "execution_count": 28
        }
      ]
    },
    {
      "cell_type": "code",
      "metadata": {
        "id": "A4AyurBUaGHr",
        "colab_type": "code",
        "outputId": "91e9bc19-4606-43f3-9f84-4070061efe80",
        "colab": {
          "base_uri": "https://localhost:8080/",
          "height": 221
        }
      },
      "source": [
        "df.info()"
      ],
      "execution_count": 29,
      "outputs": [
        {
          "output_type": "stream",
          "text": [
            "<class 'pandas.core.frame.DataFrame'>\n",
            "RangeIndex: 1259 entries, 0 to 1258\n",
            "Data columns (total 7 columns):\n",
            "date      1259 non-null object\n",
            "open      1259 non-null float64\n",
            "high      1259 non-null float64\n",
            "low       1259 non-null float64\n",
            "close     1259 non-null float64\n",
            "volume    1259 non-null int64\n",
            "Name      1259 non-null object\n",
            "dtypes: float64(4), int64(1), object(2)\n",
            "memory usage: 69.0+ KB\n"
          ],
          "name": "stdout"
        }
      ]
    },
    {
      "cell_type": "code",
      "metadata": {
        "id": "D8F6vcFOaI52",
        "colab_type": "code",
        "colab": {}
      },
      "source": [
        "df['date'] = pd.to_datetime(df['date'])"
      ],
      "execution_count": 0,
      "outputs": []
    },
    {
      "cell_type": "markdown",
      "metadata": {
        "id": "cwQn39b9WxhM",
        "colab_type": "text"
      },
      "source": [
        "### Transform the data by shifting the series and creating features that will allow us to forecast the price 30 days into the future from 90 days of daily history."
      ]
    },
    {
      "cell_type": "code",
      "metadata": {
        "id": "t8clD7rGWxhN",
        "colab_type": "code",
        "colab": {}
      },
      "source": [
        "history = 90\n",
        "future = 30\n",
        "\n",
        "shifts = [x + future for x in list(range(1,history+1))]\n",
        "for shift in shifts:\n",
        "    df['t-' + str(shift)] = df['close'].shift(shift)\n",
        "\n",
        "df.dropna(inplace=True)"
      ],
      "execution_count": 0,
      "outputs": []
    },
    {
      "cell_type": "markdown",
      "metadata": {
        "id": "VAKCkz45WxhR",
        "colab_type": "text"
      },
      "source": [
        "### Split the data into a training set and a testing set. Make the test set size 20%."
      ]
    },
    {
      "cell_type": "code",
      "metadata": {
        "id": "e2ZHxtWNPpXE",
        "colab_type": "code",
        "colab": {}
      },
      "source": [
        "idx =int(len(df) * 0.8)"
      ],
      "execution_count": 0,
      "outputs": []
    },
    {
      "cell_type": "code",
      "metadata": {
        "id": "kxv1YE26P5Uk",
        "colab_type": "code",
        "colab": {}
      },
      "source": [
        "train =df.iloc[:idx]\n",
        "test = df.iloc[idx:]"
      ],
      "execution_count": 0,
      "outputs": []
    },
    {
      "cell_type": "code",
      "metadata": {
        "id": "fpap31HyQ0K7",
        "colab_type": "code",
        "colab": {}
      },
      "source": [
        "test.head()"
      ],
      "execution_count": 0,
      "outputs": []
    },
    {
      "cell_type": "code",
      "metadata": {
        "id": "-xSmBKXuQ5gd",
        "colab_type": "code",
        "colab": {}
      },
      "source": [
        "test['close'].iloc[100:]"
      ],
      "execution_count": 0,
      "outputs": []
    },
    {
      "cell_type": "code",
      "metadata": {
        "id": "czMtmQ2IQWaY",
        "colab_type": "code",
        "colab": {}
      },
      "source": [
        "def ts_split(x,y,test_size=0.2):\n",
        "    idx =int(len(x) * (1-test_size))\n",
        "    return x.iloc[:idx], x.iloc[idx:], y.iloc[:idx], y.iloc[idx:]"
      ],
      "execution_count": 0,
      "outputs": []
    },
    {
      "cell_type": "code",
      "metadata": {
        "id": "Dxufy__6RVJN",
        "colab_type": "code",
        "colab": {}
      },
      "source": [
        "ts_split(X,y)"
      ],
      "execution_count": 0,
      "outputs": []
    },
    {
      "cell_type": "code",
      "metadata": {
        "id": "BClel7pwWxhS",
        "colab_type": "code",
        "colab": {}
      },
      "source": [
        "X = df.drop(['date','close','Name'],axis=1)\n",
        "y= df['close']\n",
        "X_train, X_test, y_train, y_test = train_test_split(X,y, test_size = 0.2)"
      ],
      "execution_count": 0,
      "outputs": []
    },
    {
      "cell_type": "markdown",
      "metadata": {
        "id": "nhD93Q6CWxhU",
        "colab_type": "text"
      },
      "source": [
        "### Instantiate an AdaBoost model and fit it to the training set."
      ]
    },
    {
      "cell_type": "code",
      "metadata": {
        "id": "8e-PIOxPWxhV",
        "colab_type": "code",
        "colab": {}
      },
      "source": [
        "model = AdaBoostRegressor()\n",
        "ada = model.fit(X_train,y_train)"
      ],
      "execution_count": 0,
      "outputs": []
    },
    {
      "cell_type": "markdown",
      "metadata": {
        "id": "AgKJazgFWxhX",
        "colab_type": "text"
      },
      "source": [
        "### Generate predictions for the test set."
      ]
    },
    {
      "cell_type": "code",
      "metadata": {
        "id": "svVpSYyzWxhY",
        "colab_type": "code",
        "colab": {}
      },
      "source": [
        "predictions = model.predict(X_test)"
      ],
      "execution_count": 0,
      "outputs": []
    },
    {
      "cell_type": "markdown",
      "metadata": {
        "id": "llo1ggFgWxha",
        "colab_type": "text"
      },
      "source": [
        "### Evaluate the results using R-Squared, Mean Absolute Error, and Root Mean Squared Error metrics."
      ]
    },
    {
      "cell_type": "code",
      "metadata": {
        "id": "0HWpBia8Wxhb",
        "colab_type": "code",
        "outputId": "b37c448c-97be-4a47-8865-85e73247ff32",
        "colab": {
          "base_uri": "https://localhost:8080/",
          "height": 68
        }
      },
      "source": [
        "print('R-squared:',r2_score(y_test,predictions))\n",
        "print('Mean Absolute Error:',mean_absolute_error(y_test,predictions))\n",
        "print('Root Mean Squared Error:',np.sqrt(mean_squared_error(y_test,predictions)))"
      ],
      "execution_count": 55,
      "outputs": [
        {
          "output_type": "stream",
          "text": [
            "R-squared: 0.9924170771722459\n",
            "Mean Absolute Error: 3.014808462350679\n",
            "Root Mean Squared Error: 3.8830176555136315\n"
          ],
          "name": "stdout"
        }
      ]
    },
    {
      "cell_type": "markdown",
      "metadata": {
        "id": "DQdnRrxOWxhd",
        "colab_type": "text"
      },
      "source": [
        "### Visually examine the results by creating a scatter plot where the x axis represents the observed results and the y axis represents the predictions."
      ]
    },
    {
      "cell_type": "code",
      "metadata": {
        "id": "mUyutHySWxhe",
        "colab_type": "code",
        "colab": {}
      },
      "source": [
        "def iscatter(df,x,y,color=None,title=''):\n",
        "    fig = px.scatter(df, x=x,y=y, color=color,size=None,title=title, template='none')\n",
        "    fig.update_traces(marker_line_color='black',marker_line_width=1)\n",
        "    fig.show();"
      ],
      "execution_count": 0,
      "outputs": []
    },
    {
      "cell_type": "code",
      "metadata": {
        "id": "nNtwwqWYokNA",
        "colab_type": "code",
        "outputId": "bbd2c473-b9f0-4039-afe6-cd5d5d57670d",
        "colab": {
          "base_uri": "https://localhost:8080/",
          "height": 542
        }
      },
      "source": [
        "iscatter(df,x=y_test,y=predictions, title=\"Close v. Predictions\")"
      ],
      "execution_count": 57,
      "outputs": [
        {
          "output_type": "display_data",
          "data": {
            "text/html": [
              "<html>\n",
              "<head><meta charset=\"utf-8\" /></head>\n",
              "<body>\n",
              "    <div>\n",
              "            <script src=\"https://cdnjs.cloudflare.com/ajax/libs/mathjax/2.7.5/MathJax.js?config=TeX-AMS-MML_SVG\"></script><script type=\"text/javascript\">if (window.MathJax) {MathJax.Hub.Config({SVG: {font: \"STIX-Web\"}});}</script>\n",
              "                <script type=\"text/javascript\">window.PlotlyConfig = {MathJaxConfig: 'local'};</script>\n",
              "        <script src=\"https://cdn.plot.ly/plotly-latest.min.js\"></script>    \n",
              "            <div id=\"2e3f63dc-60dd-4878-bc64-a7866e7b0552\" class=\"plotly-graph-div\" style=\"height:525px; width:100%;\"></div>\n",
              "            <script type=\"text/javascript\">\n",
              "                \n",
              "                    window.PLOTLYENV=window.PLOTLYENV || {};\n",
              "                    \n",
              "                if (document.getElementById(\"2e3f63dc-60dd-4878-bc64-a7866e7b0552\")) {\n",
              "                    Plotly.newPlot(\n",
              "                        '2e3f63dc-60dd-4878-bc64-a7866e7b0552',\n",
              "                        [{\"hoverlabel\": {\"namelength\": 0}, \"hovertemplate\": \"x=%{x}<br>y=%{y}\", \"legendgroup\": \"\", \"marker\": {\"color\": \"#1F77B4\", \"line\": {\"color\": \"black\", \"width\": 1}, \"symbol\": \"circle\"}, \"mode\": \"markers\", \"name\": \"\", \"showlegend\": false, \"type\": \"scatter\", \"x\": [91.93, 47.3114, 64.8742, 107.08, 185.2, 96.09, 171.0, 46.5014, 48.8471, 59.7514, 93.0885, 65.8028, 122.06, 79.6685, 183.6, 182.03, 168.13, 115.81, 64.8499, 48.5785, 97.2285, 98.07, 91.06, 123.84, 96.9442, 64.2385, 139.53, 112.51, 105.44, 67.1371, 264.56, 182.63, 142.27, 101.25, 142.65, 102.34, 187.58, 201.07, 112.56, 91.48, 98.47, 125.58, 68.6071, 105.07, 154.89, 51.0128, 67.4056, 146.92, 111.25, 98.36, 209.31, 157.16, 64.5828, 81.0556, 96.88, 116.58, 195.21, 89.0028, 123.8, 147.25, 64.1071, 64.8814, 184.45, 104.83, 110.23, 97.3, 165.17, 51.6714, 122.03, 97.58, 113.38, 209.99, 117.33, 89.3485, 122.19, 143.62, 96.77, 155.35, 261.3, 96.67, 144.14, 98.39, 140.71, 50.0857, 53.5214, 147.81, 127.49, 54.4485, 118.6, 99.16, 95.2728, 62.7857, 65.2742, 50.1314, 94.29, 60.4942, 93.41, 55.1742, 92.43, 188.15, 123.73, 111.5, 65.6485, 94.6, 120.51, 89.0028, 123.71, 121.15, 87.74, 64.5042, 64.0457, 60.6114, 125.44, 89.12, 152.67, 122.83, 179.25, 89.05, 143.83, 124.34, 67.8656, 120.81, 93.75, 157.5, 131.81, 183.86, 86.35, 157.46, 67.1099, 188.78, 95.1, 95.0942, 155.7, 146.25, 95.49, 111.51, 92.04, 117.11, 63.4528, 126.97, 89.1513, 118.91, 180.7, 94.67, 179.23, 95.12, 64.5642, 125.33, 62.8842, 174.74, 124.57, 109.65, 96.5, 64.4542, 195.75, 182.68, 154.33, 64.1014, 92.49, 97.48, 62.8514, 95.83, 123.44, 82.79, 107.74, 144.35, 54.7571, 140.82, 98.06, 55.4871, 62.0514, 46.2557, 95.87, 199.49, 140.97, 167.12, 47.0414, 143.85, 151.03, 51.8714, 191.96, 145.11, 184.21], \"xaxis\": \"x\", \"y\": [90.55149831932773, 57.564277142857144, 59.70750208333333, 104.51876608695652, 188.99055999999993, 97.51227990430618, 169.99424778761062, 57.564277142857144, 57.564277142857144, 58.54310467289719, 95.34221846846857, 59.70750208333333, 121.36010309278348, 85.7176974025974, 188.99055999999993, 185.0536363636364, 169.6896261682243, 117.50270270270266, 59.60321596638659, 57.564277142857144, 97.51227990430618, 97.51227990430618, 90.55149831932773, 121.36010309278348, 97.51227990430618, 59.60321596638659, 144.58583333333328, 114.77245056818184, 104.36647524752469, 59.70750208333333, 265.9042528735631, 185.734566929134, 145.08155844155849, 98.85089932885904, 145.08155844155849, 102.46401739130434, 189.85113402061867, 196.04460176991145, 116.13486046511626, 91.32111444444442, 97.51227990430618, 121.36010309278348, 59.70750208333333, 102.46401739130434, 159.9910714285714, 57.564277142857144, 59.70750208333333, 145.10533333333336, 114.77245056818184, 97.51227990430618, 207.18868686868686, 160.58238636363643, 59.70750208333333, 85.7176974025974, 97.51227990430618, 118.46345794392523, 192.66087500000003, 90.07835060240964, 121.36010309278348, 145.10533333333336, 59.60321596638659, 59.60321596638659, 185.0536363636364, 102.59784758620691, 114.77245056818184, 97.51227990430618, 168.48601941747575, 57.564277142857144, 121.36010309278348, 97.51227990430618, 117.50270270270266, 204.45884210526293, 118.46345794392523, 90.07835060240964, 121.36010309278348, 145.08155844155849, 95.34221846846857, 151.38602409638554, 254.66175438596537, 95.34221846846857, 145.08155844155849, 97.51227990430618, 144.58583333333328, 57.564277142857144, 57.564277142857144, 145.10533333333336, 121.36010309278348, 57.564277142857144, 121.36010309278348, 95.34221846846857, 95.34221846846857, 59.60321596638659, 59.60321596638659, 57.564277142857144, 95.34221846846857, 58.54310467289719, 95.34221846846857, 57.564277142857144, 92.78879453124996, 193.9707142857144, 121.36010309278348, 114.77245056818184, 59.70750208333333, 95.34221846846857, 120.58619999999999, 90.07835060240964, 121.36010309278348, 117.50385826771657, 90.07835060240964, 59.60321596638659, 59.60321596638659, 59.20414761904765, 121.36010309278348, 90.07835060240964, 150.38908045977016, 121.36010309278348, 174.78336206896546, 90.07835060240964, 145.08155844155849, 121.36010309278348, 59.70750208333333, 118.46345794392523, 95.34221846846857, 161.3358585858587, 121.36010309278348, 185.0536363636364, 89.59265599999998, 160.58238636363643, 59.70750208333333, 189.85113402061867, 95.34221846846857, 95.34221846846857, 151.8946601941748, 145.10533333333336, 97.51227990430618, 114.77245056818184, 91.32111444444442, 117.50270270270266, 59.60321596638659, 121.36010309278348, 90.07835060240964, 121.12303797468361, 181.19693069306933, 95.34221846846857, 181.19693069306933, 95.34221846846857, 59.60321596638659, 121.36010309278348, 59.60321596638659, 174.24363013698624, 121.36010309278348, 110.57675773195878, 97.51227990430618, 59.70750208333333, 192.66087500000003, 185.0536363636364, 151.38602409638554, 59.60321596638659, 92.29163237410067, 97.51227990430618, 59.60321596638659, 95.34221846846857, 121.36010309278348, 90.07835060240964, 105.20134947368425, 145.08155844155849, 57.564277142857144, 145.08155844155849, 97.51227990430618, 57.564277142857144, 59.36861208791212, 57.564277142857144, 97.51227990430618, 194.93070000000006, 144.58583333333328, 168.48601941747575, 57.564277142857144, 145.08155844155849, 150.38908045977016, 57.564277142857144, 192.66087500000003, 145.08155844155849, 185.0536363636364], \"yaxis\": \"y\"}],\n",
              "                        {\"legend\": {\"tracegroupgap\": 0}, \"template\": {\"data\": {\"scatter\": [{\"type\": \"scatter\"}]}}, \"title\": {\"text\": \"Close v. Predictions\"}, \"xaxis\": {\"anchor\": \"y\", \"domain\": [0.0, 1.0], \"title\": {\"text\": \"x\"}}, \"yaxis\": {\"anchor\": \"x\", \"domain\": [0.0, 1.0], \"title\": {\"text\": \"y\"}}},\n",
              "                        {\"responsive\": true}\n",
              "                    ).then(function(){\n",
              "                            \n",
              "var gd = document.getElementById('2e3f63dc-60dd-4878-bc64-a7866e7b0552');\n",
              "var x = new MutationObserver(function (mutations, observer) {{\n",
              "        var display = window.getComputedStyle(gd).display;\n",
              "        if (!display || display === 'none') {{\n",
              "            console.log([gd, 'removed!']);\n",
              "            Plotly.purge(gd);\n",
              "            observer.disconnect();\n",
              "        }}\n",
              "}});\n",
              "\n",
              "// Listen for the removal of the full notebook cells\n",
              "var notebookContainer = gd.closest('#notebook-container');\n",
              "if (notebookContainer) {{\n",
              "    x.observe(notebookContainer, {childList: true});\n",
              "}}\n",
              "\n",
              "// Listen for the clearing of the current output cell\n",
              "var outputEl = gd.closest('.output');\n",
              "if (outputEl) {{\n",
              "    x.observe(outputEl, {childList: true});\n",
              "}}\n",
              "\n",
              "                        })\n",
              "                };\n",
              "                \n",
              "            </script>\n",
              "        </div>\n",
              "</body>\n",
              "</html>"
            ]
          },
          "metadata": {
            "tags": []
          }
        }
      ]
    }
  ]
}